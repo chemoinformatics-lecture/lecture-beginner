{
 "cells": [
  {
   "cell_type": "markdown",
   "id": "69b8ca03",
   "metadata": {},
   "source": [
    "# condaでのインストール方法"
   ]
  },
  {
   "cell_type": "markdown",
   "id": "579d1d46",
   "metadata": {},
   "source": [
    "conda-forgeでもインストールできる。winmostarと連携して使わなくても良い場合などには、こちらも便利。\n",
    "\n",
    "https://anaconda.org/conda-forge/mopac\n",
    "\n",
    "condaでインストールした場合の実行方法\n",
    "\n",
    "`conda install -c conda-forge mopac`\n",
    "\n",
    "githubのリポジトリー\n",
    "\n",
    "https://github.com/openmopac/mopac\n"
   ]
  },
  {
   "cell_type": "markdown",
   "id": "c4313aa6",
   "metadata": {},
   "source": [
    "# ファイルの実行方法"
   ]
  },
  {
   "cell_type": "code",
   "execution_count": 1,
   "id": "7a785569",
   "metadata": {},
   "outputs": [],
   "source": [
    "file_path = \"phenol/phenol.dat\""
   ]
  },
  {
   "cell_type": "code",
   "execution_count": 2,
   "id": "007ee34d",
   "metadata": {},
   "outputs": [
    {
     "name": "stdout",
     "output_type": "stream",
     "text": [
      "\r\n",
      "\r\n",
      "          MOPAC Job: \"phenol/phenol.dat\" ended normally on Aug 15, 2022, at 14:38.\r\n",
      "\r\n"
     ]
    }
   ],
   "source": [
    "!mopac $file_path"
   ]
  },
  {
   "cell_type": "code",
   "execution_count": null,
   "id": "75e9439b",
   "metadata": {},
   "outputs": [],
   "source": []
  }
 ],
 "metadata": {
  "kernelspec": {
   "display_name": "Python 3 (ipykernel)",
   "language": "python",
   "name": "python3"
  },
  "language_info": {
   "codemirror_mode": {
    "name": "ipython",
    "version": 3
   },
   "file_extension": ".py",
   "mimetype": "text/x-python",
   "name": "python",
   "nbconvert_exporter": "python",
   "pygments_lexer": "ipython3",
   "version": "3.8.13"
  }
 },
 "nbformat": 4,
 "nbformat_minor": 5
}
