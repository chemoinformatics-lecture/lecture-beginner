{
  "cells": [
    {
      "cell_type": "markdown",
      "metadata": {
        "id": "view-in-github",
        "colab_type": "text"
      },
      "source": [
        "<a href=\"https://colab.research.google.com/github/chemoinformatics-lecture/lecture-beginner/blob/main/lesson05_MOPAC/%E3%80%9003%E3%80%91mopac%E3%81%AE%E8%A8%88%E7%AE%97%E3%83%95%E3%82%A1%E3%82%A4%E3%83%AB%E3%81%AE%E7%A2%BA%E8%AA%8D_colab.ipynb\" target=\"_parent\"><img src=\"https://colab.research.google.com/assets/colab-badge.svg\" alt=\"Open In Colab\"/></a>"
      ]
    },
    {
      "cell_type": "markdown",
      "source": [
        "# google driveへの接続"
      ],
      "metadata": {
        "id": "C2t2DgI9-V5L"
      },
      "id": "C2t2DgI9-V5L"
    },
    {
      "cell_type": "code",
      "source": [
        "from google.colab import drive\n",
        "drive.mount('/content/drive')"
      ],
      "metadata": {
        "id": "wyZjziGC-NXj",
        "outputId": "66081603-5e88-4d28-bb91-197e1a1ad696",
        "colab": {
          "base_uri": "https://localhost:8080/"
        }
      },
      "id": "wyZjziGC-NXj",
      "execution_count": 1,
      "outputs": [
        {
          "output_type": "stream",
          "name": "stdout",
          "text": [
            "Mounted at /content/drive\n"
          ]
        }
      ]
    },
    {
      "cell_type": "markdown",
      "id": "f875620e",
      "metadata": {
        "id": "f875620e"
      },
      "source": [
        "# outファイルの読み取り"
      ]
    },
    {
      "cell_type": "code",
      "execution_count": 3,
      "id": "39143dc1",
      "metadata": {
        "id": "39143dc1",
        "outputId": "01c13dc7-5fbe-483f-d5ba-392cc1add10a",
        "colab": {
          "base_uri": "https://localhost:8080/"
        }
      },
      "outputs": [
        {
          "output_type": "stream",
          "name": "stdout",
          "text": [
            "\n",
            "\n",
            "                     SUMMARY OF  PM7 CALCULATION\n",
            "\n",
            "                                                       MOPAC v22.0.4 Linux\n",
            "                                                       Mon Sep 19 03:50:18 2022\n",
            "\n",
            "           Empirical Formula: C6 H6 O  =    13 atoms\n",
            "\n",
            " PM7 EF\n",
            " c1ccc(cc1)O\n",
            " InChI=1S/C6H6O/c7-6-4-2-1-3-5-6/h1-5,7H\n",
            "\n",
            "\n",
            "     GEOMETRY OPTIMISED USING EIGENVECTOR FOLLOWING (EF).     \n",
            "     SCF FIELD WAS ACHIEVED                                   \n",
            "\n",
            "          HEAT OF FORMATION       =        -22.15794 KCAL/MOL =     -92.70883 KJ/MOL\n",
            "          GRADIENT NORM           =          0.72507          =       0.20110 PER ATOM\n",
            "          DIPOLE                  =          1.30756 DEBYE   POINT GROUP:  Cs  \n",
            "          NO. OF FILLED LEVELS    =         18\n",
            "          IONIZATION POTENTIAL    =          9.235839 EV\n",
            "          HOMO LUMO ENERGIES (EV) =         -9.236  0.035\n",
            "          MOLECULAR WEIGHT        =         94.1128\n",
            "          COSMO AREA              =        129.57 SQUARE ANGSTROMS\n",
            "          COSMO VOLUME            =        119.32 CUBIC ANGSTROMS\n",
            "\n",
            "          MOLECULAR DIMENSIONS (Angstroms)\n",
            "\n",
            "            Atom       Atom       Distance\n",
            "            H    13    H     8     5.68839\n",
            "            H    11    H     9     4.61529\n",
            "            H    10    H    12     0.00232\n",
            "          SCF CALCULATIONS        =         19\n",
            "          WALL-CLOCK TIME         =      0.269 SECONDS\n",
            "          COMPUTATION TIME        =      0.105 SECONDS\n",
            "\n",
            "\n",
            "          FINAL GEOMETRY OBTAINED\n",
            " PM7 EF\n",
            " c1ccc(cc1)O\n",
            " InChI=1S/C6H6O/c7-6-4-2-1-3-5-6/h1-5,7H\n",
            "  C    -1.36111131 +1  -0.07047672 +1   0.01816065 +1\n",
            "  C    -0.73927029 +1   1.17597380 +1  -0.00995173 +1\n",
            "  C     0.65081518 +1   1.27196726 +1  -0.04836486 +1\n",
            "  C     1.39063577 +1   0.08868768 +1  -0.05784348 +1\n",
            "  C     0.79089308 +1  -1.17531352 +1  -0.03005900 +1\n",
            "  C    -0.59629301 +1  -1.24014549 +1   0.00804419 +1\n",
            "  O     2.74931961 +1   0.08165728 +1  -0.09463142 +1\n",
            "  H    -2.44544899 +1  -0.13664697 +1   0.04825084 +1\n",
            "  H    -1.34231786 +1   2.08318236 +1  -0.00177385 +1\n",
            "  H     1.14151838 +1   2.23799278 +1  -0.07025479 +1\n",
            "  H     1.40962844 +1  -2.06807294 +1  -0.03841080 +1\n",
            "  H    -1.09258709 +1  -2.21030727 +1   0.03012344 +1\n",
            "  H     3.12724251 +1   0.99306696 +1  -0.11492441 +1\n",
            "\n"
          ]
        }
      ],
      "source": [
        "with open('/content/drive/MyDrive/data/mopac/phenol.arc', mode='r') as f:\n",
        "    lines = f.readlines()\n",
        "    for line in lines:\n",
        "        print(line, end='')"
      ]
    },
    {
      "cell_type": "markdown",
      "id": "a803f42a",
      "metadata": {
        "id": "a803f42a"
      },
      "source": [
        "# arcファイルの読み取り"
      ]
    },
    {
      "cell_type": "code",
      "execution_count": null,
      "id": "26d0ea3d",
      "metadata": {
        "id": "26d0ea3d",
        "outputId": "a0a88276-6f6e-4e1c-a2af-5f1ee108b6dc"
      },
      "outputs": [
        {
          "name": "stdout",
          "output_type": "stream",
          "text": [
            "\n",
            "\n",
            "                     SUMMARY OF  PM7 CALCULATION\n",
            "\n",
            "                                                       MOPAC v22.0.4 MacOS\n",
            "                                                       Sat Sep 17 21:36:16 2022\n",
            "\n",
            "           Empirical Formula: C6 H6 O  =    13 atoms\n",
            "\n",
            " PM7 EF\n",
            " c1ccc(cc1)O\n",
            " InChI=1S/C6H6O/c7-6-4-2-1-3-5-6/h1-5,7H\n",
            "\n",
            "\n",
            "     GEOMETRY OPTIMISED USING EIGENVECTOR FOLLOWING (EF).     \n",
            "     SCF FIELD WAS ACHIEVED                                   \n",
            "\n",
            "          HEAT OF FORMATION       =        -22.15781 KCAL/MOL =     -92.70830 KJ/MOL\n",
            "          GRADIENT NORM           =          0.99656          =       0.27640 PER ATOM\n",
            "          DIPOLE                  =          1.30764 DEBYE   POINT GROUP:  Cs  \n",
            "          NO. OF FILLED LEVELS    =         18\n",
            "          IONIZATION POTENTIAL    =          9.235653 EV\n",
            "          HOMO LUMO ENERGIES (EV) =         -9.236  0.035\n",
            "          MOLECULAR WEIGHT        =         94.1128\n",
            "          COSMO AREA              =        129.57 SQUARE ANGSTROMS\n",
            "          COSMO VOLUME            =        119.27 CUBIC ANGSTROMS\n",
            "\n",
            "          MOLECULAR DIMENSIONS (Angstroms)\n",
            "\n",
            "            Atom       Atom       Distance\n",
            "            H    13    H     8     5.68878\n",
            "            H    11    H     9     4.61502\n",
            "            C     1    H    10     0.00066\n",
            "          SCF CALCULATIONS        =         19\n",
            "          WALL-CLOCK TIME         =      0.102 SECONDS\n",
            "          COMPUTATION TIME        =      0.641 SECONDS\n",
            "\n",
            "\n",
            "          FINAL GEOMETRY OBTAINED\n",
            " PM7 EF\n",
            " c1ccc(cc1)O\n",
            " InChI=1S/C6H6O/c7-6-4-2-1-3-5-6/h1-5,7H\n",
            "  C    -1.86955374 +1   0.03491335 +1  -0.00506995 +1\n",
            "  C    -1.20247783 +1  -1.18815219 +1  -0.00388722 +1\n",
            "  C     0.19065245 +1  -1.23365596 +1   0.00129355 +1\n",
            "  C     0.88746807 +1  -0.02450617 +1   0.00658228 +1\n",
            "  C     0.24174035 +1   1.21695100 +1   0.00579228 +1\n",
            "  C    -1.14747898 +1   1.23155235 +1   0.00051874 +1\n",
            "  O     2.24539294 +1   0.03188680 +1   0.01182574 +1\n",
            "  H    -2.95600836 +1   0.06214159 +1  -0.00937433 +1\n",
            "  H    -1.77214996 +1  -2.11663407 +1  -0.00805167 +1\n",
            "  H     0.71628124 +1  -2.18164772 +1   0.00212199 +1\n",
            "  H     0.82785442 +1   2.13135928 +1   0.01004968 +1\n",
            "  H    -1.67901440 +1   2.18318244 +1  -0.00020794 +1\n",
            "  H     2.65663839 +1  -0.86521179 +1   0.01172463 +1\n",
            "\n"
          ]
        }
      ],
      "source": [
        "with open('phenol.arc', mode='r') as f:\n",
        "    lines = f.readlines()\n",
        "    for line in lines:\n",
        "        print(line, end='')"
      ]
    },
    {
      "cell_type": "markdown",
      "id": "d4846d16",
      "metadata": {
        "id": "d4846d16"
      },
      "source": [
        "それぞれの意味\n",
        "\n",
        "HEAT OF FORMATION       =        -22.15781 KCAL/MOL =     -92.70830 KJ/MOL\n",
        "GRADIENT NORM           =          0.99656          =       0.27640 PER ATOM\n",
        "DIPOLE                  =          1.30764 DEBYE   POINT GROUP:  Cs  \n",
        "NO. OF FILLED LEVELS    =         18\n",
        "IONIZATION POTENTIAL    =          9.235653 EV\n",
        "HOMO LUMO ENERGIES (EV) =         -9.236  0.035\n",
        "MOLECULAR WEIGHT        =         94.1128\n",
        "COSMO AREA              =        129.57 SQUARE ANGSTROMS\n",
        "COSMO VOLUME            =        119.27 CUBIC ANGSTROMS"
      ]
    },
    {
      "cell_type": "markdown",
      "id": "2dbd6f7f",
      "metadata": {
        "id": "2dbd6f7f"
      },
      "source": [
        "# ファイルの読み取り方\n"
      ]
    },
    {
      "cell_type": "code",
      "source": [
        "# 使用するライブラリーの読み込み\n",
        "import os\n",
        "import glob\n",
        "import pandas as pd"
      ],
      "metadata": {
        "id": "Pgrp1sz6_0QB"
      },
      "id": "Pgrp1sz6_0QB",
      "execution_count": 12,
      "outputs": []
    },
    {
      "cell_type": "markdown",
      "source": [
        "## 1つのarcファイルの読み取り"
      ],
      "metadata": {
        "id": "wGVJesH2BKUO"
      },
      "id": "wGVJesH2BKUO"
    },
    {
      "cell_type": "code",
      "execution_count": 11,
      "id": "5670d269",
      "metadata": {
        "id": "5670d269",
        "outputId": "49883e03-e885-41d5-ed5d-5472c65e0700",
        "colab": {
          "base_uri": "https://localhost:8080/"
        }
      },
      "outputs": [
        {
          "output_type": "stream",
          "name": "stdout",
          "text": [
            "phenol\n",
            "HOMO: -9.23\n"
          ]
        }
      ],
      "source": [
        "file_path = \"/content/drive/MyDrive/data/mopac/phenol.arc\"\n",
        "name = os.path.splitext(os.path.basename(file_path))[0]\n",
        "print(name)\n",
        "\n",
        "with open(file_path, mode='r') as f:\n",
        "    lines = f.readlines()\n",
        "    #stripメソッドで空白や特定文字の削除\n",
        "    lines_strip = [line.strip() for line in lines]\n",
        "    #特定の文字列があるかを判定\n",
        "    HOMO_line = [line for line in lines_strip if 'HOMO' in line]\n",
        "    if HOMO_line != []:\n",
        "      HOMO=float(str(HOMO_line[0][30:39]))\n",
        "      print(\"HOMO: \" + str(HOMO))"
      ]
    },
    {
      "cell_type": "markdown",
      "source": [
        "## 複数のarcファイルの読み取り"
      ],
      "metadata": {
        "id": "33dUD8itA6gy"
      },
      "id": "33dUD8itA6gy"
    }
  ],
  "metadata": {
    "kernelspec": {
      "display_name": "Python 3 (ipykernel)",
      "language": "python",
      "name": "python3"
    },
    "language_info": {
      "codemirror_mode": {
        "name": "ipython",
        "version": 3
      },
      "file_extension": ".py",
      "mimetype": "text/x-python",
      "name": "python",
      "nbconvert_exporter": "python",
      "pygments_lexer": "ipython3",
      "version": "3.8.13"
    },
    "colab": {
      "provenance": [],
      "include_colab_link": true
    }
  },
  "nbformat": 4,
  "nbformat_minor": 5
}