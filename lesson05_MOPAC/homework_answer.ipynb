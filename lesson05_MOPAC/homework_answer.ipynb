{
 "cells": [
  {
   "cell_type": "markdown",
   "id": "f05e8097",
   "metadata": {},
   "source": [
    "# 問題 \"quercetin\"PM7を用いて計算し(キーワードはwinmostarのデフォルトのまま使用して、HamiltonianをPM7に変更する)、HOMOの値を示せ。"
   ]
  },
  {
   "cell_type": "markdown",
   "id": "786a53db",
   "metadata": {},
   "source": [
    "-8.688 ev"
   ]
  },
  {
   "cell_type": "markdown",
   "id": "865b9c84",
   "metadata": {},
   "source": [
    "# 問題2 \"PubChem_TCI_records.sdf\"の中にある分子のうち後ろから10個を選んでMOPAC2016で計算し、HOMOとLUMOの差が最も小さい分子を表示せよ。"
   ]
  },
  {
   "cell_type": "code",
   "execution_count": 1,
   "id": "fc0d434b",
   "metadata": {},
   "outputs": [],
   "source": [
    "import os\n",
    "import glob\n",
    "\n",
    "import pandas as pd\n",
    "from tqdm.notebook import tqdm\n",
    "\n",
    "from rdkit import Chem\n",
    "from rdkit.Chem import AllChem, PandasTools, MolStandardize"
   ]
  },
  {
   "cell_type": "code",
   "execution_count": 2,
   "id": "de9e31db",
   "metadata": {},
   "outputs": [],
   "source": [
    "folder_name = \"homework/\""
   ]
  },
  {
   "cell_type": "code",
   "execution_count": 3,
   "id": "511b83bb",
   "metadata": {},
   "outputs": [],
   "source": [
    "df = PandasTools.LoadSDF('PubChem_compound_list_antioxidant.sdf')"
   ]
  },
  {
   "cell_type": "code",
   "execution_count": 4,
   "id": "c963ddeb",
   "metadata": {},
   "outputs": [],
   "source": [
    "mols = df[\"ROMol\"]"
   ]
  },
  {
   "cell_type": "code",
   "execution_count": 5,
   "id": "3deaf9d3",
   "metadata": {},
   "outputs": [],
   "source": [
    "mols_list = mols[-10:]"
   ]
  },
  {
   "cell_type": "code",
   "execution_count": 6,
   "id": "c315bf1e",
   "metadata": {},
   "outputs": [
    {
     "data": {
      "application/vnd.jupyter.widget-view+json": {
       "model_id": "ab08ce063bd149e592929f8fa0e43d5b",
       "version_major": 2,
       "version_minor": 0
      },
      "text/plain": [
       "  0%|          | 0/10 [00:00<?, ?it/s]"
      ]
     },
     "metadata": {},
     "output_type": "display_data"
    },
    {
     "name": "stdout",
     "output_type": "stream",
     "text": [
      "CC(C)=CCC/C(C)=C/CC/C(C)=C/CCC1(C)CCc2cc(O)ccc2O1\n",
      "N/C(=N\\O)c1cc(O)c(O)c(O)c1\n"
     ]
    }
   ],
   "source": [
    "errorlist=[]\n",
    "lfc = MolStandardize.fragment.LargestFragmentChooser()\n",
    "\n",
    "for mol in tqdm(mols_list):\n",
    "    try:\n",
    "        #一番大きなフラグメントを選ぶ\n",
    "        mol = lfc.choose(mol)\n",
    "        #molファイルをsmilesにする\n",
    "        smiles=Chem.MolToSmiles(mol)\n",
    "        #初期化\n",
    "        energy=[]\n",
    "        #水素の付加\n",
    "        mol = Chem.AddHs(mol)\n",
    "        #3次元構造の生成\n",
    "        AllChem.EmbedMolecule(mol)\n",
    "        #\n",
    "        cids = AllChem.EmbedMultipleConfs(mol, numConfs=1000, randomSeed=1234,\n",
    "                                           pruneRmsThresh=2, numThreads=0)\n",
    "        for cid in cids:\n",
    "            prop = AllChem.MMFFGetMoleculeProperties(mol)\n",
    "            mmff = AllChem.MMFFGetMoleculeForceField(mol, prop, confId=cid)\n",
    "            mmff.Minimize()\n",
    "            \n",
    "            energy.append((mmff.CalcEnergy(), cid))\n",
    "\n",
    "            energy.sort()\n",
    "            conf = mol.GetConformer(energy[0][1])\n",
    "\n",
    "            #ファイルを作成\n",
    "            with open(folder_name + smiles+'.dat', 'w') as f: \n",
    "                print('PM7 EF PRECISE GNORM=0.05 NOINTER GRAPHF VECTORS MMOK', file=f)\n",
    "                print(smiles, file=f)\n",
    "                print('Good Luck!', file=f)\n",
    "                for n,(x,y,z) in enumerate(conf.GetPositions()):\n",
    "                    atom = mol.GetAtomWithIdx(n)\n",
    "                    print('{}  {:.6f} 1 {:.6f} 1 {:.6f} 1'.format(atom.GetSymbol(),x,y,z), file=f)\n",
    "           \n",
    "    except:\n",
    "        print(smiles)\n",
    "        errorlist.append(smiles)"
   ]
  },
  {
   "cell_type": "code",
   "execution_count": 7,
   "id": "c61f12b6",
   "metadata": {},
   "outputs": [],
   "source": [
    "calc_dats = glob.glob(folder_name +\"*.dat\")"
   ]
  },
  {
   "cell_type": "code",
   "execution_count": 8,
   "id": "bc1cbc8c",
   "metadata": {},
   "outputs": [
    {
     "data": {
      "text/plain": [
       "7"
      ]
     },
     "execution_count": 8,
     "metadata": {},
     "output_type": "execute_result"
    }
   ],
   "source": [
    "len(calc_dats)"
   ]
  },
  {
   "cell_type": "code",
   "execution_count": 9,
   "id": "f18fc380",
   "metadata": {},
   "outputs": [
    {
     "data": {
      "application/vnd.jupyter.widget-view+json": {
       "model_id": "4bcfd01bae71418eb62df9045dc85c51",
       "version_major": 2,
       "version_minor": 0
      },
      "text/plain": [
       "  0%|          | 0/7 [00:00<?, ?it/s]"
      ]
     },
     "metadata": {},
     "output_type": "display_data"
    }
   ],
   "source": [
    "for dat in tqdm(calc_dats):\n",
    "    !\"C:\\program files\\mopac\\MOPAC2016.exe\" $dat"
   ]
  },
  {
   "cell_type": "code",
   "execution_count": 10,
   "id": "6ee52ad1",
   "metadata": {},
   "outputs": [
    {
     "data": {
      "text/plain": [
       "['homework\\\\CC(=O)NC(CSSCC(N)C(=O)O)C(=O)O.arc',\n",
       " 'homework\\\\CC(C)(C)c1cc(CN2CCN(CC(O)c3ccc(Cl)cc3)CC2)cc(C(C)(C)C)c1O.arc',\n",
       " 'homework\\\\Cc1cc(O)c(C)c2c1OC(C)(CCCC(C)CCCC(C)CCCC(C)C)CC2.arc',\n",
       " 'homework\\\\CN1C2CC(OC(=O)C(CO)c3ccccc3)CC1C(O)C2.arc',\n",
       " 'homework\\\\O=C1OC(C(O)CO)C(O)=C1O.arc',\n",
       " 'homework\\\\O=C1OC(C2COC(c3ccccc3)O2)C(O)=C1O.arc',\n",
       " 'homework\\\\O=c1[nH]cnc2[nH]ncc12.arc']"
      ]
     },
     "execution_count": 10,
     "metadata": {},
     "output_type": "execute_result"
    }
   ],
   "source": [
    "files = glob.glob(folder_name +\"*.arc\")\n",
    "files"
   ]
  },
  {
   "cell_type": "code",
   "execution_count": 11,
   "id": "c507d20e",
   "metadata": {},
   "outputs": [
    {
     "name": "stdout",
     "output_type": "stream",
     "text": [
      "CC(=O)NC(CSSCC(N)C(=O)O)C(=O)O\n",
      "-8.83\n",
      "0.995\n",
      "CC(C)(C)c1cc(CN2CCN(CC(O)c3ccc(Cl)cc3)CC2)cc(C(C)(C)C)c1O\n",
      "-8.55\n",
      "0.053\n",
      "Cc1cc(O)c(C)c2c1OC(C)(CCCC(C)CCCC(C)CCCC(C)C)CC2\n",
      "-8.09\n",
      "0.363\n",
      "CN1C2CC(OC(=O)C(CO)c3ccccc3)CC1C(O)C2\n",
      "-9.05\n",
      "0.122\n",
      "O=C1OC(C(O)CO)C(O)=C1O\n",
      "-9.47\n",
      "0.559\n",
      "O=C1OC(C2COC(c3ccccc3)O2)C(O)=C1O\n",
      "-9.36\n",
      "0.417\n",
      "O=c1[nH]cnc2[nH]ncc12\n",
      "-9.73\n",
      "0.933\n"
     ]
    }
   ],
   "source": [
    "names = []\n",
    "Lists=[]\n",
    "\n",
    "for file in files:\n",
    "    List=[]\n",
    "    name = os.path.splitext(os.path.basename(file))[0]\n",
    "    names.append(name)\n",
    "    print(name)\n",
    "    with open(file) as f:\n",
    "        # 読み込んだファイルをリストに入れている。\n",
    "        lines = f.readlines()\n",
    "        #stripメソッドで空白や特定文字の削除\n",
    "        lines_strip = [line.strip() for line in lines]\n",
    "        #特定の文字列があるかを判定\n",
    "        HOMO_line = [line for line in lines_strip if 'HOMO' in line]\n",
    "        LUMO_line = [line for line in lines_strip if 'LUMO' in line]\n",
    "        #空でなかったら、特定の場所にある数字を加えている。\n",
    "        if HOMO_line != []:\n",
    "            HOMO=float(str(HOMO_line[0][30:39]))\n",
    "            print(HOMO)      \n",
    "        else:\n",
    "            HOMO=10**9+7\n",
    "            print(\"error\")\n",
    "        List.append(HOMO)\n",
    "        \n",
    "        if LUMO_line != []:\n",
    "            LUMO=float(str(LUMO_line[0][42:49]))\n",
    "            print(LUMO) \n",
    "        else:\n",
    "            LUMO=10**9+7\n",
    "        List.append(LUMO)\n",
    "        \n",
    "    Lists.append(List)"
   ]
  },
  {
   "cell_type": "code",
   "execution_count": 12,
   "id": "1a543adc",
   "metadata": {},
   "outputs": [
    {
     "data": {
      "text/plain": [
       "[[-8.83, 0.995],\n",
       " [-8.55, 0.053],\n",
       " [-8.09, 0.363],\n",
       " [-9.05, 0.122],\n",
       " [-9.47, 0.559],\n",
       " [-9.36, 0.417],\n",
       " [-9.73, 0.933]]"
      ]
     },
     "execution_count": 12,
     "metadata": {},
     "output_type": "execute_result"
    }
   ],
   "source": [
    "Lists"
   ]
  },
  {
   "cell_type": "code",
   "execution_count": 13,
   "id": "145d9dec",
   "metadata": {},
   "outputs": [
    {
     "data": {
      "text/html": [
       "<div>\n",
       "<style scoped>\n",
       "    .dataframe tbody tr th:only-of-type {\n",
       "        vertical-align: middle;\n",
       "    }\n",
       "\n",
       "    .dataframe tbody tr th {\n",
       "        vertical-align: top;\n",
       "    }\n",
       "\n",
       "    .dataframe thead th {\n",
       "        text-align: right;\n",
       "    }\n",
       "</style>\n",
       "<table border=\"1\" class=\"dataframe\">\n",
       "  <thead>\n",
       "    <tr style=\"text-align: right;\">\n",
       "      <th></th>\n",
       "      <th>HOMO</th>\n",
       "      <th>LUMO</th>\n",
       "    </tr>\n",
       "  </thead>\n",
       "  <tbody>\n",
       "    <tr>\n",
       "      <th>CC(=O)NC(CSSCC(N)C(=O)O)C(=O)O</th>\n",
       "      <td>-8.83</td>\n",
       "      <td>0.995</td>\n",
       "    </tr>\n",
       "    <tr>\n",
       "      <th>CC(C)(C)c1cc(CN2CCN(CC(O)c3ccc(Cl)cc3)CC2)cc(C(C)(C)C)c1O</th>\n",
       "      <td>-8.55</td>\n",
       "      <td>0.053</td>\n",
       "    </tr>\n",
       "    <tr>\n",
       "      <th>Cc1cc(O)c(C)c2c1OC(C)(CCCC(C)CCCC(C)CCCC(C)C)CC2</th>\n",
       "      <td>-8.09</td>\n",
       "      <td>0.363</td>\n",
       "    </tr>\n",
       "    <tr>\n",
       "      <th>CN1C2CC(OC(=O)C(CO)c3ccccc3)CC1C(O)C2</th>\n",
       "      <td>-9.05</td>\n",
       "      <td>0.122</td>\n",
       "    </tr>\n",
       "    <tr>\n",
       "      <th>O=C1OC(C(O)CO)C(O)=C1O</th>\n",
       "      <td>-9.47</td>\n",
       "      <td>0.559</td>\n",
       "    </tr>\n",
       "    <tr>\n",
       "      <th>O=C1OC(C2COC(c3ccccc3)O2)C(O)=C1O</th>\n",
       "      <td>-9.36</td>\n",
       "      <td>0.417</td>\n",
       "    </tr>\n",
       "    <tr>\n",
       "      <th>O=c1[nH]cnc2[nH]ncc12</th>\n",
       "      <td>-9.73</td>\n",
       "      <td>0.933</td>\n",
       "    </tr>\n",
       "  </tbody>\n",
       "</table>\n",
       "</div>"
      ],
      "text/plain": [
       "                                                    HOMO   LUMO\n",
       "CC(=O)NC(CSSCC(N)C(=O)O)C(=O)O                     -8.83  0.995\n",
       "CC(C)(C)c1cc(CN2CCN(CC(O)c3ccc(Cl)cc3)CC2)cc(C(... -8.55  0.053\n",
       "Cc1cc(O)c(C)c2c1OC(C)(CCCC(C)CCCC(C)CCCC(C)C)CC2   -8.09  0.363\n",
       "CN1C2CC(OC(=O)C(CO)c3ccccc3)CC1C(O)C2              -9.05  0.122\n",
       "O=C1OC(C(O)CO)C(O)=C1O                             -9.47  0.559\n",
       "O=C1OC(C2COC(c3ccccc3)O2)C(O)=C1O                  -9.36  0.417\n",
       "O=c1[nH]cnc2[nH]ncc12                              -9.73  0.933"
      ]
     },
     "execution_count": 13,
     "metadata": {},
     "output_type": "execute_result"
    }
   ],
   "source": [
    "df_read = pd.DataFrame(Lists, index = names, columns=[\"HOMO\", \"LUMO\"])\n",
    "df_read"
   ]
  },
  {
   "cell_type": "code",
   "execution_count": 14,
   "id": "199352ed",
   "metadata": {},
   "outputs": [],
   "source": [
    "df_read[\"HOMO-LUMOgap\"] = df_read[\"LUMO\"] - df_read[\"HOMO\"]"
   ]
  },
  {
   "cell_type": "code",
   "execution_count": 15,
   "id": "6a159943",
   "metadata": {},
   "outputs": [
    {
     "data": {
      "text/html": [
       "<div>\n",
       "<style scoped>\n",
       "    .dataframe tbody tr th:only-of-type {\n",
       "        vertical-align: middle;\n",
       "    }\n",
       "\n",
       "    .dataframe tbody tr th {\n",
       "        vertical-align: top;\n",
       "    }\n",
       "\n",
       "    .dataframe thead th {\n",
       "        text-align: right;\n",
       "    }\n",
       "</style>\n",
       "<table border=\"1\" class=\"dataframe\">\n",
       "  <thead>\n",
       "    <tr style=\"text-align: right;\">\n",
       "      <th></th>\n",
       "      <th>HOMO</th>\n",
       "      <th>LUMO</th>\n",
       "      <th>HOMO-LUMOgap</th>\n",
       "    </tr>\n",
       "  </thead>\n",
       "  <tbody>\n",
       "    <tr>\n",
       "      <th>CC(=O)NC(CSSCC(N)C(=O)O)C(=O)O</th>\n",
       "      <td>-8.83</td>\n",
       "      <td>0.995</td>\n",
       "      <td>9.825</td>\n",
       "    </tr>\n",
       "    <tr>\n",
       "      <th>CC(C)(C)c1cc(CN2CCN(CC(O)c3ccc(Cl)cc3)CC2)cc(C(C)(C)C)c1O</th>\n",
       "      <td>-8.55</td>\n",
       "      <td>0.053</td>\n",
       "      <td>8.603</td>\n",
       "    </tr>\n",
       "    <tr>\n",
       "      <th>Cc1cc(O)c(C)c2c1OC(C)(CCCC(C)CCCC(C)CCCC(C)C)CC2</th>\n",
       "      <td>-8.09</td>\n",
       "      <td>0.363</td>\n",
       "      <td>8.453</td>\n",
       "    </tr>\n",
       "    <tr>\n",
       "      <th>CN1C2CC(OC(=O)C(CO)c3ccccc3)CC1C(O)C2</th>\n",
       "      <td>-9.05</td>\n",
       "      <td>0.122</td>\n",
       "      <td>9.172</td>\n",
       "    </tr>\n",
       "    <tr>\n",
       "      <th>O=C1OC(C(O)CO)C(O)=C1O</th>\n",
       "      <td>-9.47</td>\n",
       "      <td>0.559</td>\n",
       "      <td>10.029</td>\n",
       "    </tr>\n",
       "    <tr>\n",
       "      <th>O=C1OC(C2COC(c3ccccc3)O2)C(O)=C1O</th>\n",
       "      <td>-9.36</td>\n",
       "      <td>0.417</td>\n",
       "      <td>9.777</td>\n",
       "    </tr>\n",
       "    <tr>\n",
       "      <th>O=c1[nH]cnc2[nH]ncc12</th>\n",
       "      <td>-9.73</td>\n",
       "      <td>0.933</td>\n",
       "      <td>10.663</td>\n",
       "    </tr>\n",
       "  </tbody>\n",
       "</table>\n",
       "</div>"
      ],
      "text/plain": [
       "                                                    HOMO   LUMO  HOMO-LUMOgap\n",
       "CC(=O)NC(CSSCC(N)C(=O)O)C(=O)O                     -8.83  0.995         9.825\n",
       "CC(C)(C)c1cc(CN2CCN(CC(O)c3ccc(Cl)cc3)CC2)cc(C(... -8.55  0.053         8.603\n",
       "Cc1cc(O)c(C)c2c1OC(C)(CCCC(C)CCCC(C)CCCC(C)C)CC2   -8.09  0.363         8.453\n",
       "CN1C2CC(OC(=O)C(CO)c3ccccc3)CC1C(O)C2              -9.05  0.122         9.172\n",
       "O=C1OC(C(O)CO)C(O)=C1O                             -9.47  0.559        10.029\n",
       "O=C1OC(C2COC(c3ccccc3)O2)C(O)=C1O                  -9.36  0.417         9.777\n",
       "O=c1[nH]cnc2[nH]ncc12                              -9.73  0.933        10.663"
      ]
     },
     "execution_count": 15,
     "metadata": {},
     "output_type": "execute_result"
    }
   ],
   "source": [
    "df_read"
   ]
  },
  {
   "cell_type": "code",
   "execution_count": 16,
   "id": "ecc81fee",
   "metadata": {},
   "outputs": [
    {
     "data": {
      "text/html": [
       "<div>\n",
       "<style scoped>\n",
       "    .dataframe tbody tr th:only-of-type {\n",
       "        vertical-align: middle;\n",
       "    }\n",
       "\n",
       "    .dataframe tbody tr th {\n",
       "        vertical-align: top;\n",
       "    }\n",
       "\n",
       "    .dataframe thead th {\n",
       "        text-align: right;\n",
       "    }\n",
       "</style>\n",
       "<table border=\"1\" class=\"dataframe\">\n",
       "  <thead>\n",
       "    <tr style=\"text-align: right;\">\n",
       "      <th></th>\n",
       "      <th>HOMO</th>\n",
       "      <th>LUMO</th>\n",
       "      <th>HOMO-LUMOgap</th>\n",
       "    </tr>\n",
       "  </thead>\n",
       "  <tbody>\n",
       "    <tr>\n",
       "      <th>Cc1cc(O)c(C)c2c1OC(C)(CCCC(C)CCCC(C)CCCC(C)C)CC2</th>\n",
       "      <td>-8.09</td>\n",
       "      <td>0.363</td>\n",
       "      <td>8.453</td>\n",
       "    </tr>\n",
       "    <tr>\n",
       "      <th>CC(C)(C)c1cc(CN2CCN(CC(O)c3ccc(Cl)cc3)CC2)cc(C(C)(C)C)c1O</th>\n",
       "      <td>-8.55</td>\n",
       "      <td>0.053</td>\n",
       "      <td>8.603</td>\n",
       "    </tr>\n",
       "    <tr>\n",
       "      <th>CN1C2CC(OC(=O)C(CO)c3ccccc3)CC1C(O)C2</th>\n",
       "      <td>-9.05</td>\n",
       "      <td>0.122</td>\n",
       "      <td>9.172</td>\n",
       "    </tr>\n",
       "    <tr>\n",
       "      <th>O=C1OC(C2COC(c3ccccc3)O2)C(O)=C1O</th>\n",
       "      <td>-9.36</td>\n",
       "      <td>0.417</td>\n",
       "      <td>9.777</td>\n",
       "    </tr>\n",
       "    <tr>\n",
       "      <th>CC(=O)NC(CSSCC(N)C(=O)O)C(=O)O</th>\n",
       "      <td>-8.83</td>\n",
       "      <td>0.995</td>\n",
       "      <td>9.825</td>\n",
       "    </tr>\n",
       "    <tr>\n",
       "      <th>O=C1OC(C(O)CO)C(O)=C1O</th>\n",
       "      <td>-9.47</td>\n",
       "      <td>0.559</td>\n",
       "      <td>10.029</td>\n",
       "    </tr>\n",
       "    <tr>\n",
       "      <th>O=c1[nH]cnc2[nH]ncc12</th>\n",
       "      <td>-9.73</td>\n",
       "      <td>0.933</td>\n",
       "      <td>10.663</td>\n",
       "    </tr>\n",
       "  </tbody>\n",
       "</table>\n",
       "</div>"
      ],
      "text/plain": [
       "                                                    HOMO   LUMO  HOMO-LUMOgap\n",
       "Cc1cc(O)c(C)c2c1OC(C)(CCCC(C)CCCC(C)CCCC(C)C)CC2   -8.09  0.363         8.453\n",
       "CC(C)(C)c1cc(CN2CCN(CC(O)c3ccc(Cl)cc3)CC2)cc(C(... -8.55  0.053         8.603\n",
       "CN1C2CC(OC(=O)C(CO)c3ccccc3)CC1C(O)C2              -9.05  0.122         9.172\n",
       "O=C1OC(C2COC(c3ccccc3)O2)C(O)=C1O                  -9.36  0.417         9.777\n",
       "CC(=O)NC(CSSCC(N)C(=O)O)C(=O)O                     -8.83  0.995         9.825\n",
       "O=C1OC(C(O)CO)C(O)=C1O                             -9.47  0.559        10.029\n",
       "O=c1[nH]cnc2[nH]ncc12                              -9.73  0.933        10.663"
      ]
     },
     "execution_count": 16,
     "metadata": {},
     "output_type": "execute_result"
    }
   ],
   "source": [
    "df_read.sort_values(by=[\"HOMO-LUMOgap\"], ascending=True)"
   ]
  },
  {
   "cell_type": "code",
   "execution_count": 17,
   "id": "dd9150a6",
   "metadata": {},
   "outputs": [
    {
     "data": {
      "image/png": "[encoded data removed]",
      "text/plain": [
       "<rdkit.Chem.rdchem.Mol at 0x24b3b0a3fa0>"
      ]
     },
     "execution_count": 17,
     "metadata": {},
     "output_type": "execute_result"
    }
   ],
   "source": [
    "Chem.MolFromSmiles(\"Cc1cc(O)c(C)c2c1OC(C)(CCCC(C)CCCC(C)CCCC(C)C)CC2\")"
   ]
  }
 ],
 "metadata": {
  "kernelspec": {
   "display_name": "Python 3 (ipykernel)",
   "language": "python",
   "name": "python3"
  },
  "language_info": {
   "codemirror_mode": {
    "name": "ipython",
    "version": 3
   },
   "file_extension": ".py",
   "mimetype": "text/x-python",
   "name": "python",
   "nbconvert_exporter": "python",
   "pygments_lexer": "ipython3",
   "version": "3.8.12"
  },
  "toc": {
   "base_numbering": 1,
   "nav_menu": {},
   "number_sections": true,
   "sideBar": true,
   "skip_h1_title": false,
   "title_cell": "Table of Contents",
   "title_sidebar": "Contents",
   "toc_cell": false,
   "toc_position": {},
   "toc_section_display": true,
   "toc_window_display": false
  }
 },
 "nbformat": 4,
 "nbformat_minor": 5
}
