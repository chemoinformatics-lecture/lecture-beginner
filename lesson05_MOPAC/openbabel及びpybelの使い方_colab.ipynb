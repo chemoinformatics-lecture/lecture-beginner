{
 "cells": [
  {
   "cell_type": "code",
   "execution_count": 1,
   "id": "39a102a3",
   "metadata": {},
   "outputs": [],
   "source": [
    "import openbabel\n",
    "from openbabel import pybel\n",
    "# バージョンが変わって、import pybelではなくfrom openbabel import pybelで読み込むように変わっています。"
   ]
  },
  {
   "cell_type": "code",
   "execution_count": 2,
   "id": "025cef85",
   "metadata": {},
   "outputs": [
    {
     "name": "stdout",
     "output_type": "stream",
     "text": [
      "147 134\n"
     ]
    }
   ],
   "source": [
    "# 読み込みフォーマットと出力のフォーマットの数\n",
    "print(len(pybel.informats), len(pybel.outformats))"
   ]
  },
  {
   "cell_type": "code",
   "execution_count": 3,
   "id": "84c021a4",
   "metadata": {},
   "outputs": [
    {
     "data": {
      "text/plain": [
       "{'abinit': 'ABINIT Output Format',\n",
       " 'acesout': 'ACES output format',\n",
       " 'acr': 'ACR format',\n",
       " 'adfband': 'ADF Band output format',\n",
       " 'adfdftb': 'ADF DFTB output format',\n",
       " 'adfout': 'ADF output format',\n",
       " 'alc': 'Alchemy format',\n",
       " 'aoforce': 'Turbomole AOFORCE output format',\n",
       " 'arc': 'Accelrys/MSI Biosym/Insight II CAR format',\n",
       " 'axsf': 'XCrySDen Structure Format',\n",
       " 'bgf': 'MSI BGF format',\n",
       " 'box': 'Dock 3.5 Box format',\n",
       " 'bs': 'Ball and Stick format',\n",
       " 'c09out': 'Crystal 09 output format',\n",
       " 'c3d1': 'Chem3D Cartesian 1 format',\n",
       " 'c3d2': 'Chem3D Cartesian 2 format',\n",
       " 'caccrt': 'Cacao Cartesian format',\n",
       " 'can': 'Canonical SMILES format',\n",
       " 'car': 'Accelrys/MSI Biosym/Insight II CAR format',\n",
       " 'castep': 'CASTEP format',\n",
       " 'ccc': 'CCC format',\n",
       " 'cdjson': 'ChemDoodle JSON',\n",
       " 'cdx': 'ChemDraw binary format',\n",
       " 'cdxml': 'ChemDraw CDXML format',\n",
       " 'cif': 'Crystallographic Information File',\n",
       " 'ck': 'ChemKin format',\n",
       " 'cml': 'Chemical Markup Language',\n",
       " 'cmlr': 'CML Reaction format',\n",
       " 'cof': 'Culgi object file format',\n",
       " 'CONFIG': 'DL-POLY CONFIG',\n",
       " 'CONTCAR': 'VASP format',\n",
       " 'CONTFF': 'MDFF format',\n",
       " 'crk2d': 'Chemical Resource Kit diagram(2D)',\n",
       " 'crk3d': 'Chemical Resource Kit 3D format',\n",
       " 'ct': 'ChemDraw Connection Table format',\n",
       " 'cub': 'Gaussian cube format',\n",
       " 'cube': 'Gaussian cube format',\n",
       " 'dallog': 'DALTON output format',\n",
       " 'dalmol': 'DALTON input format',\n",
       " 'dat': 'Generic Output file format',\n",
       " 'dmol': 'DMol3 coordinates format',\n",
       " 'dx': 'OpenDX cube format for APBS',\n",
       " 'ent': 'Protein Data Bank format',\n",
       " 'exyz': 'Extended XYZ cartesian coordinates format',\n",
       " 'fa': 'FASTA format',\n",
       " 'fasta': 'FASTA format',\n",
       " 'fch': 'Gaussian formatted checkpoint file format',\n",
       " 'fchk': 'Gaussian formatted checkpoint file format',\n",
       " 'fck': 'Gaussian formatted checkpoint file format',\n",
       " 'feat': 'Feature format',\n",
       " 'fhiaims': 'FHIaims XYZ format',\n",
       " 'fract': 'Free Form Fractional format',\n",
       " 'fs': 'Fastsearch format',\n",
       " 'fsa': 'FASTA format',\n",
       " 'g03': 'Gaussian Output',\n",
       " 'g09': 'Gaussian Output',\n",
       " 'g16': 'Gaussian Output',\n",
       " 'g92': 'Gaussian Output',\n",
       " 'g94': 'Gaussian Output',\n",
       " 'g98': 'Gaussian Output',\n",
       " 'gal': 'Gaussian Output',\n",
       " 'gam': 'GAMESS Output',\n",
       " 'gamess': 'GAMESS Output',\n",
       " 'gamin': 'GAMESS Input',\n",
       " 'gamout': 'GAMESS Output',\n",
       " 'got': 'GULP format',\n",
       " 'gpr': 'Ghemical format',\n",
       " 'gro': 'GRO format',\n",
       " 'gukin': 'GAMESS-UK Input',\n",
       " 'gukout': 'GAMESS-UK Output',\n",
       " 'gzmat': 'Gaussian Z-Matrix Input',\n",
       " 'hin': 'HyperChem HIN format',\n",
       " 'HISTORY': 'DL-POLY HISTORY',\n",
       " 'inchi': 'InChI format',\n",
       " 'inp': 'GAMESS Input',\n",
       " 'ins': 'ShelX format',\n",
       " 'jin': 'Jaguar input format',\n",
       " 'jout': 'Jaguar output format',\n",
       " 'log': 'Generic Output file format',\n",
       " 'lpmd': 'LPMD format',\n",
       " 'mcdl': 'MCDL format',\n",
       " 'mcif': 'Macromolecular Crystallographic Info',\n",
       " 'MDFF': 'MDFF format',\n",
       " 'mdl': 'MDL MOL format',\n",
       " 'ml2': 'Sybyl Mol2 format',\n",
       " 'mmcif': 'Macromolecular Crystallographic Info',\n",
       " 'mmd': 'MacroModel format',\n",
       " 'mmod': 'MacroModel format',\n",
       " 'mol': 'MDL MOL format',\n",
       " 'mol2': 'Sybyl Mol2 format',\n",
       " 'mold': 'Molden format',\n",
       " 'molden': 'Molden format',\n",
       " 'molf': 'Molden format',\n",
       " 'moo': 'MOPAC Output format',\n",
       " 'mop': 'MOPAC Cartesian format',\n",
       " 'mopcrt': 'MOPAC Cartesian format',\n",
       " 'mopin': 'MOPAC Internal',\n",
       " 'mopout': 'MOPAC Output format',\n",
       " 'mpc': 'MOPAC Cartesian format',\n",
       " 'mpo': 'Molpro output format',\n",
       " 'mpqc': 'MPQC output format',\n",
       " 'mrv': 'Chemical Markup Language',\n",
       " 'msi': 'Accelrys/MSI Cerius II MSI format',\n",
       " 'nwo': 'NWChem output format',\n",
       " 'orca': 'ORCA output format',\n",
       " 'out': 'Generic Output file format',\n",
       " 'outmol': 'DMol3 coordinates format',\n",
       " 'output': 'Generic Output file format',\n",
       " 'pc': 'PubChem format',\n",
       " 'pcjson': 'PubChem JSON',\n",
       " 'pcm': 'PCModel Format',\n",
       " 'pdb': 'Protein Data Bank format',\n",
       " 'pdbqt': 'AutoDock PDBQT format',\n",
       " 'png': 'PNG 2D depiction',\n",
       " 'pos': 'POS cartesian coordinates format',\n",
       " 'POSCAR': 'VASP format',\n",
       " 'POSFF': 'MDFF format',\n",
       " 'pqr': 'PQR format',\n",
       " 'pqs': 'Parallel Quantum Solutions format',\n",
       " 'prep': 'Amber Prep format',\n",
       " 'pwscf': 'PWscf format',\n",
       " 'qcout': 'Q-Chem output format',\n",
       " 'res': 'ShelX format',\n",
       " 'rsmi': 'Reaction SMILES format',\n",
       " 'rxn': 'MDL RXN format',\n",
       " 'sd': 'MDL MOL format',\n",
       " 'sdf': 'MDL MOL format',\n",
       " 'siesta': 'SIESTA format',\n",
       " 'smi': 'SMILES format',\n",
       " 'smiles': 'SMILES format',\n",
       " 'smy': 'SMILES format using Smiley parser',\n",
       " 'sy2': 'Sybyl Mol2 format',\n",
       " 't41': 'ADF TAPE41 format',\n",
       " 'tdd': 'Thermo format',\n",
       " 'text': 'Read and write raw text',\n",
       " 'therm': 'Thermo format',\n",
       " 'tmol': 'TurboMole Coordinate format',\n",
       " 'txt': 'Title format',\n",
       " 'txyz': 'Tinker XYZ format',\n",
       " 'unixyz': 'UniChem XYZ format',\n",
       " 'VASP': 'VASP format',\n",
       " 'vmol': 'ViewMol format',\n",
       " 'wln': 'Wiswesser Line Notation',\n",
       " 'xml': 'General XML format',\n",
       " 'xsf': 'XCrySDen Structure Format',\n",
       " 'xyz': 'XYZ cartesian coordinates format',\n",
       " 'yob': 'YASARA.org YOB format'}"
      ]
     },
     "execution_count": 3,
     "metadata": {},
     "output_type": "execute_result"
    }
   ],
   "source": [
    "pybel.informats"
   ]
  },
  {
   "cell_type": "code",
   "execution_count": 4,
   "id": "843f43a8",
   "metadata": {},
   "outputs": [
    {
     "data": {
      "text/plain": [
       "{'acesin': 'ACES input format',\n",
       " 'adf': 'ADF cartesian input format',\n",
       " 'alc': 'Alchemy format',\n",
       " 'ascii': 'ASCII format',\n",
       " 'bgf': 'MSI BGF format',\n",
       " 'box': 'Dock 3.5 Box format',\n",
       " 'bs': 'Ball and Stick format',\n",
       " 'c3d1': 'Chem3D Cartesian 1 format',\n",
       " 'c3d2': 'Chem3D Cartesian 2 format',\n",
       " 'cac': 'CAChe MolStruct format',\n",
       " 'caccrt': 'Cacao Cartesian format',\n",
       " 'cache': 'CAChe MolStruct format',\n",
       " 'cacint': 'Cacao Internal format',\n",
       " 'can': 'Canonical SMILES format',\n",
       " 'cdjson': 'ChemDoodle JSON',\n",
       " 'cdxml': 'ChemDraw CDXML format',\n",
       " 'cht': 'Chemtool format',\n",
       " 'cif': 'Crystallographic Information File',\n",
       " 'ck': 'ChemKin format',\n",
       " 'cml': 'Chemical Markup Language',\n",
       " 'cmlr': 'CML Reaction format',\n",
       " 'cof': 'Culgi object file format',\n",
       " 'com': 'Gaussian Input',\n",
       " 'confabreport': 'Confab report format',\n",
       " 'CONFIG': 'DL-POLY CONFIG',\n",
       " 'CONTCAR': 'VASP format',\n",
       " 'CONTFF': 'MDFF format',\n",
       " 'copy': 'Copy raw text',\n",
       " 'crk2d': 'Chemical Resource Kit diagram(2D)',\n",
       " 'crk3d': 'Chemical Resource Kit 3D format',\n",
       " 'csr': 'Accelrys/MSI Quanta CSR format',\n",
       " 'cssr': 'CSD CSSR format',\n",
       " 'ct': 'ChemDraw Connection Table format',\n",
       " 'cub': 'Gaussian cube format',\n",
       " 'cube': 'Gaussian cube format',\n",
       " 'dalmol': 'DALTON input format',\n",
       " 'dmol': 'DMol3 coordinates format',\n",
       " 'dx': 'OpenDX cube format for APBS',\n",
       " 'ent': 'Protein Data Bank format',\n",
       " 'exyz': 'Extended XYZ cartesian coordinates format',\n",
       " 'fa': 'FASTA format',\n",
       " 'fasta': 'FASTA format',\n",
       " 'feat': 'Feature format',\n",
       " 'fh': 'Fenske-Hall Z-Matrix format',\n",
       " 'fhiaims': 'FHIaims XYZ format',\n",
       " 'fix': 'SMILES FIX format',\n",
       " 'fps': 'FPS text fingerprint format (Dalke)',\n",
       " 'fpt': 'Fingerprint format',\n",
       " 'fract': 'Free Form Fractional format',\n",
       " 'fs': 'Fastsearch format',\n",
       " 'fsa': 'FASTA format',\n",
       " 'gamin': 'GAMESS Input',\n",
       " 'gau': 'Gaussian Input',\n",
       " 'gjc': 'Gaussian Input',\n",
       " 'gjf': 'Gaussian Input',\n",
       " 'gpr': 'Ghemical format',\n",
       " 'gr96': 'GROMOS96 format',\n",
       " 'gro': 'GRO format',\n",
       " 'gukin': 'GAMESS-UK Input',\n",
       " 'gukout': 'GAMESS-UK Output',\n",
       " 'gzmat': 'Gaussian Z-Matrix Input',\n",
       " 'hin': 'HyperChem HIN format',\n",
       " 'inchi': 'InChI format',\n",
       " 'inchikey': 'InChIKey',\n",
       " 'inp': 'GAMESS Input',\n",
       " 'jin': 'Jaguar input format',\n",
       " 'k': 'Compare molecules using InChI',\n",
       " 'lmpdat': 'The LAMMPS data format',\n",
       " 'lpmd': 'LPMD format',\n",
       " 'mcdl': 'MCDL format',\n",
       " 'mcif': 'Macromolecular Crystallographic Info',\n",
       " 'MDFF': 'MDFF format',\n",
       " 'mdl': 'MDL MOL format',\n",
       " 'ml2': 'Sybyl Mol2 format',\n",
       " 'mmcif': 'Macromolecular Crystallographic Info',\n",
       " 'mmd': 'MacroModel format',\n",
       " 'mmod': 'MacroModel format',\n",
       " 'mna': 'Multilevel Neighborhoods of Atoms (MNA)',\n",
       " 'mol': 'MDL MOL format',\n",
       " 'mol2': 'Sybyl Mol2 format',\n",
       " 'mold': 'Molden format',\n",
       " 'molden': 'Molden format',\n",
       " 'molf': 'Molden format',\n",
       " 'molreport': 'Open Babel molecule report',\n",
       " 'mop': 'MOPAC Cartesian format',\n",
       " 'mopcrt': 'MOPAC Cartesian format',\n",
       " 'mopin': 'MOPAC Internal',\n",
       " 'mp': 'Molpro input format',\n",
       " 'mpc': 'MOPAC Cartesian format',\n",
       " 'mpd': 'MolPrint2D format',\n",
       " 'mpqcin': 'MPQC simplified input format',\n",
       " 'mrv': 'Chemical Markup Language',\n",
       " 'msms': \"M.F. Sanner's MSMS input format\",\n",
       " 'nul': 'Outputs nothing',\n",
       " 'nw': 'NWChem input format',\n",
       " 'orcainp': 'ORCA input format',\n",
       " 'outmol': 'DMol3 coordinates format',\n",
       " 'paint': 'Painter format',\n",
       " 'pcjson': 'PubChem JSON',\n",
       " 'pcm': 'PCModel Format',\n",
       " 'pdb': 'Protein Data Bank format',\n",
       " 'pdbqt': 'AutoDock PDBQT format',\n",
       " 'png': 'PNG 2D depiction',\n",
       " 'pointcloud': 'Point cloud on VDW surface',\n",
       " 'POSCAR': 'VASP format',\n",
       " 'POSFF': 'MDFF format',\n",
       " 'pov': 'POV-Ray input format',\n",
       " 'pqr': 'PQR format',\n",
       " 'pqs': 'Parallel Quantum Solutions format',\n",
       " 'qcin': 'Q-Chem input format',\n",
       " 'report': 'Open Babel report format',\n",
       " 'rinchi': 'RInChI',\n",
       " 'rsmi': 'Reaction SMILES format',\n",
       " 'rxn': 'MDL RXN format',\n",
       " 'sd': 'MDL MOL format',\n",
       " 'sdf': 'MDL MOL format',\n",
       " 'smi': 'SMILES format',\n",
       " 'smiles': 'SMILES format',\n",
       " 'stl': 'STL 3D-printing format',\n",
       " 'svg': 'SVG 2D depiction',\n",
       " 'sy2': 'Sybyl Mol2 format',\n",
       " 'tdd': 'Thermo format',\n",
       " 'text': 'Read and write raw text',\n",
       " 'therm': 'Thermo format',\n",
       " 'tmol': 'TurboMole Coordinate format',\n",
       " 'txt': 'Title format',\n",
       " 'txyz': 'Tinker XYZ format',\n",
       " 'unixyz': 'UniChem XYZ format',\n",
       " 'VASP': 'VASP format',\n",
       " 'vmol': 'ViewMol format',\n",
       " 'xed': 'XED format',\n",
       " 'xyz': 'XYZ cartesian coordinates format',\n",
       " 'yob': 'YASARA.org YOB format',\n",
       " 'zin': 'ZINDO input format'}"
      ]
     },
     "execution_count": 4,
     "metadata": {},
     "output_type": "execute_result"
    }
   ],
   "source": [
    "pybel.outformats"
   ]
  },
  {
   "cell_type": "code",
   "execution_count": 5,
   "id": "7240d0f1",
   "metadata": {},
   "outputs": [
    {
     "data": {
      "image/svg+xml": [
       "<svg xmlns=\"http://www.w3.org/2000/svg\" width=\"100\" height=\"100\" x=\"0\" y=\"0\" viewBox=\"0 0 149.282 200\" font-family=\"sans-serif\" stroke=\"rgb(0,0,0)\" stroke-width=\"2\" stroke-linecap=\"round\">\n",
       "<line x1=\"74.6\" y1=\"80.0\" x2=\"74.6\" y2=\"53.0\" opacity=\"1.0\" stroke=\"rgb(0,0,0)\" stroke-width=\"2.0\" />\n",
       "<line x1=\"40.0\" y1=\"140.0\" x2=\"74.6\" y2=\"160.0\" opacity=\"1.0\" stroke=\"rgb(0,0,0)\" stroke-width=\"2.0\" />\n",
       "<line x1=\"48.8\" y1=\"136.8\" x2=\"73.0\" y2=\"150.8\" opacity=\"1.0\" stroke=\"rgb(0,0,0)\" stroke-width=\"2.0\" />\n",
       "<line x1=\"74.6\" y1=\"160.0\" x2=\"109.3\" y2=\"140.0\" opacity=\"1.0\" stroke=\"rgb(0,0,0)\" stroke-width=\"2.0\" />\n",
       "<line x1=\"109.3\" y1=\"140.0\" x2=\"109.3\" y2=\"100.0\" opacity=\"1.0\" stroke=\"rgb(0,0,0)\" stroke-width=\"2.0\" />\n",
       "<line x1=\"102.1\" y1=\"134.0\" x2=\"102.1\" y2=\"106.0\" opacity=\"1.0\" stroke=\"rgb(0,0,0)\" stroke-width=\"2.0\" />\n",
       "<line x1=\"109.3\" y1=\"100.0\" x2=\"74.6\" y2=\"80.0\" opacity=\"1.0\" stroke=\"rgb(0,0,0)\" stroke-width=\"2.0\" />\n",
       "<line x1=\"74.6\" y1=\"80.0\" x2=\"40.0\" y2=\"100.0\" opacity=\"1.0\" stroke=\"rgb(0,0,0)\" stroke-width=\"2.0\" />\n",
       "<line x1=\"73.0\" y1=\"89.2\" x2=\"48.8\" y2=\"103.2\" opacity=\"1.0\" stroke=\"rgb(0,0,0)\" stroke-width=\"2.0\" />\n",
       "<line x1=\"40.0\" y1=\"100.0\" x2=\"40.0\" y2=\"140.0\" opacity=\"1.0\" stroke=\"rgb(0,0,0)\" stroke-width=\"2.0\" />\n",
       "<text x=\"68.641016\" y=\"48.000000\" fill=\"rgb(255,12,12)\" stroke-width=\"0\" font-weight=\"bold\" font-size=\"16\">OH</text>\n",
       "</svg>\n"
      ],
      "text/plain": [
       "<openbabel.pybel.Molecule at 0x7f8778bd6b80>"
      ]
     },
     "execution_count": 5,
     "metadata": {},
     "output_type": "execute_result"
    }
   ],
   "source": [
    "# smilesでの分子の読み込み\n",
    "m = pybel.readstring(\"smiles\", \"C1=CC=C(C=C1)O\")\n",
    "m"
   ]
  },
  {
   "cell_type": "code",
   "execution_count": 6,
   "id": "d6fe1d8e",
   "metadata": {},
   "outputs": [
    {
     "name": "stdout",
     "output_type": "stream",
     "text": [
      "7\n",
      "\n",
      "C          0.00000        0.00000        0.00000\n",
      "C          0.00000        0.00000        0.00000\n",
      "C          0.00000        0.00000        0.00000\n",
      "C          0.00000        0.00000        0.00000\n",
      "C          0.00000        0.00000        0.00000\n",
      "C          0.00000        0.00000        0.00000\n",
      "O          0.00000        0.00000        0.00000\n",
      "\n"
     ]
    }
   ],
   "source": [
    "# xyz座標での分子の出力\n",
    "print(m.write(\"xyz\"))"
   ]
  },
  {
   "cell_type": "code",
   "execution_count": 7,
   "id": "24b88661",
   "metadata": {},
   "outputs": [
    {
     "name": "stdout",
     "output_type": "stream",
     "text": [
      "13\n",
      "\n",
      "C         -1.87568        0.03410       -0.00509\n",
      "C         -1.19721       -1.18589       -0.00406\n",
      "C          0.19853       -1.21088        0.00191\n",
      "C          0.90327       -0.01035        0.00679\n",
      "C          0.23498        1.20891        0.00620\n",
      "C         -1.15951        1.23167        0.00014\n",
      "O          2.26679        0.01257        0.01209\n",
      "H         -2.96253        0.05194       -0.00994\n",
      "H         -1.75770       -2.11714       -0.00797\n",
      "H          0.71278       -2.16634        0.00273\n",
      "H          0.79829        2.13748        0.01024\n",
      "H         -1.68618        2.18214       -0.00059\n",
      "H          2.58978       -0.90307        0.00846\n",
      "\n"
     ]
    }
   ],
   "source": [
    "#openbabelを用いた構造最適化\n",
    "m.make3D(forcefield='mmff94', steps=1000)\n",
    "print(m.write(\"xyz\"))"
   ]
  },
  {
   "cell_type": "code",
   "execution_count": 8,
   "id": "f7ba49db",
   "metadata": {},
   "outputs": [
    {
     "name": "stdout",
     "output_type": "stream",
     "text": [
      "PUT KEYWORDS HERE\n",
      "\n",
      "\n",
      "C  -1.87568 1  0.03410 1 -0.00509 1\n",
      "C  -1.19721 1 -1.18589 1 -0.00406 1\n",
      "C   0.19853 1 -1.21088 1  0.00191 1\n",
      "C   0.90327 1 -0.01035 1  0.00679 1\n",
      "C   0.23498 1  1.20891 1  0.00620 1\n",
      "C  -1.15951 1  1.23167 1  0.00014 1\n",
      "O   2.26679 1  0.01257 1  0.01209 1\n",
      "H  -2.96253 1  0.05194 1 -0.00994 1\n",
      "H  -1.75770 1 -2.11714 1 -0.00797 1\n",
      "H   0.71278 1 -2.16634 1  0.00273 1\n",
      "H   0.79829 1  2.13748 1  0.01024 1\n",
      "H  -1.68618 1  2.18214 1 -0.00059 1\n",
      "H   2.58978 1 -0.90307 1  0.00846 1\n",
      "\n"
     ]
    }
   ],
   "source": [
    "mopac_format = m.write(\"mop\")\n",
    "print(mopac_format)"
   ]
  },
  {
   "cell_type": "code",
   "execution_count": 9,
   "id": "291727fc",
   "metadata": {},
   "outputs": [],
   "source": [
    "# 初めの3行を削除した。\n",
    "mopac_cartesian = mopac_format.replace('PUT KEYWORDS HERE\\n\\n\\n', '')"
   ]
  },
  {
   "cell_type": "code",
   "execution_count": 10,
   "id": "0268fd95",
   "metadata": {},
   "outputs": [
    {
     "name": "stdout",
     "output_type": "stream",
     "text": [
      "PM7 EF\n",
      "c1ccc(cc1)O\t\n",
      "InChI=1S/C6H6O/c7-6-4-2-1-3-5-6/h1-5,7H\n",
      "C  -1.87568 1  0.03410 1 -0.00509 1\n",
      "C  -1.19721 1 -1.18589 1 -0.00406 1\n",
      "C   0.19853 1 -1.21088 1  0.00191 1\n",
      "C   0.90327 1 -0.01035 1  0.00679 1\n",
      "C   0.23498 1  1.20891 1  0.00620 1\n",
      "C  -1.15951 1  1.23167 1  0.00014 1\n",
      "O   2.26679 1  0.01257 1  0.01209 1\n",
      "H  -2.96253 1  0.05194 1 -0.00994 1\n",
      "H  -1.75770 1 -2.11714 1 -0.00797 1\n",
      "H   0.71278 1 -2.16634 1  0.00273 1\n",
      "H   0.79829 1  2.13748 1  0.01024 1\n",
      "H  -1.68618 1  2.18214 1 -0.00059 1\n",
      "H   2.58978 1 -0.90307 1  0.00846 1\n",
      "\n"
     ]
    }
   ],
   "source": [
    "#新しい3行を追加する。\n",
    "mopac_keyword = \"PM7 EF\\n\" #ここにキーワードを書く\n",
    "memo1 = m.write(\"smiles\") #任意の文字_メモ書き 。今回は分子のsmilesを書き込んだ。\n",
    "memo2 = m.write(\"inchi\") #任意の文字_メモ書き。今回は分子のinchiを書き込んだ。\n",
    "\n",
    "mopac_code = mopac_keyword + memo1 + memo2 + mopac_cartesian\n",
    "print(mopac_code)"
   ]
  },
  {
   "cell_type": "code",
   "execution_count": 11,
   "id": "86464ab9",
   "metadata": {},
   "outputs": [],
   "source": [
    "# ファイルへの書き込み\n",
    "with open(\"phenol.dat\", mode='w') as f:\n",
    "    f.write(mopac_code)"
   ]
  },
  {
   "cell_type": "markdown",
   "id": "8b229288",
   "metadata": {},
   "source": [
    "# 以下は、入力ファイルの形式などについてです。"
   ]
  },
  {
   "cell_type": "markdown",
   "id": "900afa4c",
   "metadata": {},
   "source": [
    "入力ファイルの構成について\n",
    "入力ファイルは、最初の行に使用するハミルトニアン(AM1, PM3など)と計算に必要なキーワードを指定。\n",
    "2行目と3行目はスペースです(個人的なメモを記入してもOKです)。\n",
    "4行目から、分子座標を入力します。分子座標の最後に空白行を加えれば、入力ファイルの完成です。\n",
    "テキストエディッタで作成する場合は、拡張子を.datにすればOKです。"
   ]
  },
  {
   "cell_type": "markdown",
   "id": "64e29650",
   "metadata": {},
   "source": [
    "【 計算目的 】\n",
    "ハミルトニアンと組み合わせて計算目的を指定します。例えば、「PM3 EF」と記述すれば「PM3法で構造最適化計算」を実行します。常用するのは、以下の5つです。\n",
    "\n",
    "1) EF： 構造最適化\n",
    "2) FORCE： 振動解析\n",
    "3) TS： 遷移状態探索\n",
    "4) SADDLE： 与えられた2つの構造から遷移状態の候補構造を計算する\n",
    "5) IRC：極限反応座標計算 (IRC=1, IRC=-1)"
   ]
  },
  {
   "cell_type": "markdown",
   "id": "ed8dcf13",
   "metadata": {},
   "source": [
    "【 オプション 】\n",
    "上記のハミルトニアンと計算目的に対して、さらに追加情報を記述します。例えば「PM3 EF PRECISE GEO-OK」であれば「PM3法の構造最適化で収束判定を100倍厳しくし、なおかつ原子が異常接近を無視して計算」という命令を実行します。常用するのは、以下の5つです。\n",
    "\n",
    "1) PRECISE：収束判定を100倍厳しくする\n",
    "2) GEO-OK：原子が異常に接近した場合のチェックを無視する\n",
    "3) LARGE=n：IRC計算と組み合わせてIRC距離毎の計算回数を指定\n",
    "※ex. PM3 IRC=1 LARGE=50 (この場合、IRC距離50回おきに計算と指定しています)\n",
    "4) RECALC=n： 最適化サイクルごとに二次微分を計算させる (系のポテンシャル曲面が浅い場合等に使用します)"
   ]
  }
 ],
 "metadata": {
  "kernelspec": {
   "display_name": "Python 3 (ipykernel)",
   "language": "python",
   "name": "python3"
  },
  "language_info": {
   "codemirror_mode": {
    "name": "ipython",
    "version": 3
   },
   "file_extension": ".py",
   "mimetype": "text/x-python",
   "name": "python",
   "nbconvert_exporter": "python",
   "pygments_lexer": "ipython3",
   "version": "3.8.13"
  }
 },
 "nbformat": 4,
 "nbformat_minor": 5
}
