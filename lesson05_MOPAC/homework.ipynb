{
 "cells": [
  {
   "cell_type": "markdown",
   "id": "f05e8097",
   "metadata": {},
   "source": [
    "# 問題 \"quercetin\"PM7を用いて計算し(キーワードはwinmostarのデフォルトのまま使用して、HamiltonianをPM7に変更する)、HOMOの値を示せ。"
   ]
  },
  {
   "cell_type": "code",
   "execution_count": null,
   "id": "7396453a",
   "metadata": {},
   "outputs": [],
   "source": []
  },
  {
   "cell_type": "markdown",
   "id": "21046c75",
   "metadata": {},
   "source": [
    "# 問題2 \"PubChem_TCI_records.sdf\"の中にある分子のうち後ろから10個を選んでMOPAC2016で計算し、HOMOとLUMOの差が最も小さい分子を表示せよ。"
   ]
  },
  {
   "cell_type": "code",
   "execution_count": null,
   "id": "7081b58a",
   "metadata": {},
   "outputs": [],
   "source": []
  }
 ],
 "metadata": {
  "kernelspec": {
   "display_name": "Python 3 (ipykernel)",
   "language": "python",
   "name": "python3"
  },
  "language_info": {
   "codemirror_mode": {
    "name": "ipython",
    "version": 3
   },
   "file_extension": ".py",
   "mimetype": "text/x-python",
   "name": "python",
   "nbconvert_exporter": "python",
   "pygments_lexer": "ipython3",
   "version": "3.8.12"
  },
  "toc": {
   "base_numbering": 1,
   "nav_menu": {},
   "number_sections": true,
   "sideBar": true,
   "skip_h1_title": false,
   "title_cell": "Table of Contents",
   "title_sidebar": "Contents",
   "toc_cell": false,
   "toc_position": {},
   "toc_section_display": true,
   "toc_window_display": false
  }
 },
 "nbformat": 4,
 "nbformat_minor": 5
}
