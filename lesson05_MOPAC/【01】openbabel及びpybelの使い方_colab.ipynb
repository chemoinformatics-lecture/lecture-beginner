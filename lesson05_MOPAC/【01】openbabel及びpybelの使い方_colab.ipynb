{
  "cells": [
    {
      "cell_type": "markdown",
      "metadata": {
        "id": "view-in-github",
        "colab_type": "text"
      },
      "source": [
        "<a href=\"https://colab.research.google.com/github/chemoinformatics-lecture/lecture-beginner/blob/main/lesson05_MOPAC/%E3%80%9001%E3%80%91openbabel%E5%8F%8A%E3%81%B3pybel%E3%81%AE%E4%BD%BF%E3%81%84%E6%96%B9_colab.ipynb\" target=\"_parent\"><img src=\"https://colab.research.google.com/assets/colab-badge.svg\" alt=\"Open In Colab\"/></a>"
      ]
    },
    {
      "cell_type": "markdown",
      "source": [
        "# google driveへの接続"
      ],
      "metadata": {
        "id": "VR5uaIpxLNmC"
      },
      "id": "VR5uaIpxLNmC"
    },
    {
      "cell_type": "code",
      "source": [
        "from google.colab import drive\n",
        "drive.mount('/content/drive')"
      ],
      "metadata": {
        "id": "8s4t7U09K07L",
        "outputId": "87cfae8f-6bae-4ce2-de5a-ec2b1d6becdd",
        "colab": {
          "base_uri": "https://localhost:8080/"
        }
      },
      "id": "8s4t7U09K07L",
      "execution_count": 26,
      "outputs": [
        {
          "output_type": "stream",
          "name": "stdout",
          "text": [
            "Mounted at /content/drive\n"
          ]
        }
      ]
    },
    {
      "cell_type": "code",
      "source": [
        "%%bash\n",
        "wget https://repo.anaconda.com/miniconda/Miniconda3-py37_4.12.0-Linux-x86_64.sh\n",
        "bash Miniconda3-py37_4.12.0-Linux-x86_64.sh -b -f -p /usr/local \n",
        "conda install python=3.7 --yes\n",
        "conda install -q -y -c rdkit python=3.7 rdkit"
      ],
      "metadata": {
        "id": "G-vEl9BAXW9s",
        "outputId": "fd1435aa-4f5b-4268-b95e-3d18154ef822",
        "colab": {
          "base_uri": "https://localhost:8080/"
        }
      },
      "id": "G-vEl9BAXW9s",
      "execution_count": 6,
      "outputs": [
        {
          "output_type": "stream",
          "name": "stdout",
          "text": [
            "Process is terminated.\n"
          ]
        }
      ]
    },
    {
      "cell_type": "code",
      "source": [
        "import sys\n",
        "_ = (sys.path.append(\"/usr/local/lib/python3.7/site-packages\"))"
      ],
      "metadata": {
        "id": "HRU5eRwgXnjm"
      },
      "id": "HRU5eRwgXnjm",
      "execution_count": 7,
      "outputs": []
    },
    {
      "cell_type": "code",
      "source": [
        "from rdkit import Chem"
      ],
      "metadata": {
        "id": "2ppoUp-ZZaGh"
      },
      "id": "2ppoUp-ZZaGh",
      "execution_count": 8,
      "outputs": []
    },
    {
      "cell_type": "code",
      "source": [
        "!conda install -c openbabel openbabel eigen -y"
      ],
      "metadata": {
        "id": "MF2EqeUjXtAQ",
        "colab": {
          "base_uri": "https://localhost:8080/"
        },
        "outputId": "9db1fe9a-7d92-45a8-ebbf-1fcf01e5a90b"
      },
      "id": "MF2EqeUjXtAQ",
      "execution_count": 10,
      "outputs": [
        {
          "output_type": "stream",
          "name": "stdout",
          "text": [
            "Collecting package metadata (current_repodata.json): - \b\b\\ \b\b| \b\b/ \b\b- \b\b\\ \b\b| \b\b/ \b\b- \b\b\\ \b\b| \b\b/ \b\bdone\n",
            "Solving environment: \\ \b\b| \b\b/ \b\b- \b\b\\ \b\b| \b\b/ \b\b- \b\b\\ \b\b| \b\b/ \b\b- \b\b\\ \b\b| \b\b/ \b\bdone\n",
            "\n",
            "## Package Plan ##\n",
            "\n",
            "  environment location: /usr/local\n",
            "\n",
            "  added / updated specs:\n",
            "    - eigen\n",
            "    - openbabel\n",
            "\n",
            "\n",
            "The following packages will be downloaded:\n",
            "\n",
            "    package                    |            build\n",
            "    ---------------------------|-----------------\n",
            "    eigen-3.2.8                |                2         544 KB  openbabel\n",
            "    openbabel-2.4.1            |           py37_6         5.1 MB  openbabel\n",
            "    ------------------------------------------------------------\n",
            "                                           Total:         5.6 MB\n",
            "\n",
            "The following NEW packages will be INSTALLED:\n",
            "\n",
            "  eigen              openbabel/linux-64::eigen-3.2.8-2\n",
            "  openbabel          openbabel/linux-64::openbabel-2.4.1-py37_6\n",
            "\n",
            "\n",
            "\n",
            "Downloading and Extracting Packages\n",
            "eigen-3.2.8          | 544 KB    | : 100% 1.0/1 [00:01<00:00,  1.29s/it]\n",
            "openbabel-2.4.1      | 5.1 MB    | : 100% 1.0/1 [00:02<00:00,  2.10s/it]\n",
            "Preparing transaction: \\ \b\bdone\n",
            "Verifying transaction: / \b\bdone\n",
            "Executing transaction: \\ \b\bdone\n",
            "Retrieving notices: ...working... done\n"
          ]
        }
      ]
    },
    {
      "cell_type": "code",
      "execution_count": 15,
      "id": "39a102a3",
      "metadata": {
        "id": "39a102a3"
      },
      "outputs": [],
      "source": [
        "import openbabel\n",
        "import pybel\n",
        "# 新しいバージョンだと、import pybelではなくfrom openbabel import pybelで読み込むように変わっています。"
      ]
    },
    {
      "cell_type": "code",
      "execution_count": 16,
      "id": "025cef85",
      "metadata": {
        "id": "025cef85",
        "colab": {
          "base_uri": "https://localhost:8080/"
        },
        "outputId": "5cd71732-8301-4e49-f39f-1f5f783d3c09"
      },
      "outputs": [
        {
          "output_type": "stream",
          "name": "stdout",
          "text": [
            "143 132\n"
          ]
        }
      ],
      "source": [
        "# 読み込みフォーマットと出力のフォーマットの数\n",
        "print(len(pybel.informats), len(pybel.outformats))"
      ]
    },
    {
      "cell_type": "code",
      "execution_count": 17,
      "id": "84c021a4",
      "metadata": {
        "id": "84c021a4",
        "colab": {
          "base_uri": "https://localhost:8080/"
        },
        "outputId": "475965be-fc92-4201-f363-819d57e0f4cc"
      },
      "outputs": [
        {
          "output_type": "execute_result",
          "data": {
            "text/plain": [
              "{'abinit': 'ABINIT Output Format',\n",
              " 'acesout': 'ACES output format',\n",
              " 'acr': 'ACR format',\n",
              " 'adfout': 'ADF output format',\n",
              " 'alc': 'Alchemy format',\n",
              " 'aoforce': 'Turbomole AOFORCE output format',\n",
              " 'arc': 'Accelrys/MSI Biosym/Insight II CAR format',\n",
              " 'axsf': 'XCrySDen Structure Format',\n",
              " 'bgf': 'MSI BGF format',\n",
              " 'box': 'Dock 3.5 Box format',\n",
              " 'bs': 'Ball and Stick format',\n",
              " 'c09out': 'Crystal 09 output format',\n",
              " 'c3d1': 'Chem3D Cartesian 1 format',\n",
              " 'c3d2': 'Chem3D Cartesian 2 format',\n",
              " 'caccrt': 'Cacao Cartesian format',\n",
              " 'can': 'Canonical SMILES format',\n",
              " 'car': 'Accelrys/MSI Biosym/Insight II CAR format',\n",
              " 'castep': 'CASTEP format',\n",
              " 'ccc': 'CCC format',\n",
              " 'cdjson': 'ChemDoodle JSON',\n",
              " 'cdx': 'ChemDraw binary format',\n",
              " 'cdxml': 'ChemDraw CDXML format',\n",
              " 'cif': 'Crystallographic Information File',\n",
              " 'ck': 'ChemKin format',\n",
              " 'cml': 'Chemical Markup Language',\n",
              " 'cmlr': 'CML Reaction format',\n",
              " 'CONFIG': 'DL-POLY CONFIG',\n",
              " 'CONTCAR': 'VASP format',\n",
              " 'CONTFF': 'MDFF format',\n",
              " 'crk2d': 'Chemical Resource Kit diagram(2D)',\n",
              " 'crk3d': 'Chemical Resource Kit 3D format',\n",
              " 'ct': 'ChemDraw Connection Table format',\n",
              " 'cub': 'Gaussian cube format',\n",
              " 'cube': 'Gaussian cube format',\n",
              " 'dallog': 'DALTON output format',\n",
              " 'dalmol': 'DALTON input format',\n",
              " 'dat': 'Generic Output file format',\n",
              " 'dmol': 'DMol3 coordinates format',\n",
              " 'dx': 'OpenDX cube format for APBS',\n",
              " 'ent': 'Protein Data Bank format',\n",
              " 'exyz': 'Extended XYZ cartesian coordinates format',\n",
              " 'fa': 'FASTA format',\n",
              " 'fasta': 'FASTA format',\n",
              " 'fch': 'Gaussian formatted checkpoint file format',\n",
              " 'fchk': 'Gaussian formatted checkpoint file format',\n",
              " 'fck': 'Gaussian formatted checkpoint file format',\n",
              " 'feat': 'Feature format',\n",
              " 'fhiaims': 'FHIaims XYZ format',\n",
              " 'fract': 'Free Form Fractional format',\n",
              " 'fs': 'Fastsearch format',\n",
              " 'fsa': 'FASTA format',\n",
              " 'g03': 'Gaussian Output',\n",
              " 'g09': 'Gaussian Output',\n",
              " 'g92': 'Gaussian Output',\n",
              " 'g94': 'Gaussian Output',\n",
              " 'g98': 'Gaussian Output',\n",
              " 'gal': 'Gaussian Output',\n",
              " 'gam': 'GAMESS Output',\n",
              " 'gamess': 'GAMESS Output',\n",
              " 'gamin': 'GAMESS Input',\n",
              " 'gamout': 'GAMESS Output',\n",
              " 'got': 'GULP format',\n",
              " 'gpr': 'Ghemical format',\n",
              " 'gro': 'GRO format',\n",
              " 'gukin': 'GAMESS-UK Input',\n",
              " 'gukout': 'GAMESS-UK Output',\n",
              " 'gzmat': 'Gaussian Z-Matrix Input',\n",
              " 'hin': 'HyperChem HIN format',\n",
              " 'HISTORY': 'DL-POLY HISTORY',\n",
              " 'inchi': 'InChI format',\n",
              " 'inp': 'GAMESS Input',\n",
              " 'ins': 'ShelX format',\n",
              " 'jin': 'Jaguar input format',\n",
              " 'jout': 'Jaguar output format',\n",
              " 'log': 'Generic Output file format',\n",
              " 'lpmd': 'LPMD format',\n",
              " 'mcdl': 'MCDL format',\n",
              " 'mcif': 'Macromolecular Crystallographic Info',\n",
              " 'MDFF': 'MDFF format',\n",
              " 'mdl': 'MDL MOL format',\n",
              " 'ml2': 'Sybyl Mol2 format',\n",
              " 'mmcif': 'Macromolecular Crystallographic Info',\n",
              " 'mmd': 'MacroModel format',\n",
              " 'mmod': 'MacroModel format',\n",
              " 'mol': 'MDL MOL format',\n",
              " 'mol2': 'Sybyl Mol2 format',\n",
              " 'mold': 'Molden format',\n",
              " 'molden': 'Molden format',\n",
              " 'molf': 'Molden format',\n",
              " 'moo': 'MOPAC Output format',\n",
              " 'mop': 'MOPAC Cartesian format',\n",
              " 'mopcrt': 'MOPAC Cartesian format',\n",
              " 'mopin': 'MOPAC Internal',\n",
              " 'mopout': 'MOPAC Output format',\n",
              " 'mpc': 'MOPAC Cartesian format',\n",
              " 'mpo': 'Molpro output format',\n",
              " 'mpqc': 'MPQC output format',\n",
              " 'mrv': 'Chemical Markup Language',\n",
              " 'msi': 'Accelrys/MSI Cerius II MSI format',\n",
              " 'nwo': 'NWChem output format',\n",
              " 'orca': 'ORCA output format',\n",
              " 'out': 'Generic Output file format',\n",
              " 'outmol': 'DMol3 coordinates format',\n",
              " 'output': 'Generic Output file format',\n",
              " 'pc': 'PubChem format',\n",
              " 'pcjson': 'PubChem JSON',\n",
              " 'pcm': 'PCModel Format',\n",
              " 'pdb': 'Protein Data Bank format',\n",
              " 'pdbqt': 'AutoDock PDBQT format',\n",
              " 'png': 'PNG 2D depiction',\n",
              " 'pos': 'POS cartesian coordinates format',\n",
              " 'POSCAR': 'VASP format',\n",
              " 'POSFF': 'MDFF format',\n",
              " 'pqr': 'PQR format',\n",
              " 'pqs': 'Parallel Quantum Solutions format',\n",
              " 'prep': 'Amber Prep format',\n",
              " 'pwscf': 'PWscf format',\n",
              " 'qcout': 'Q-Chem output format',\n",
              " 'res': 'ShelX format',\n",
              " 'rsmi': 'Reaction SMILES format',\n",
              " 'rxn': 'MDL RXN format',\n",
              " 'sd': 'MDL MOL format',\n",
              " 'sdf': 'MDL MOL format',\n",
              " 'siesta': 'SIESTA format',\n",
              " 'smi': 'SMILES format',\n",
              " 'smiles': 'SMILES format',\n",
              " 'smy': 'SMILES format using Smiley parser',\n",
              " 'sy2': 'Sybyl Mol2 format',\n",
              " 't41': 'ADF TAPE41 format',\n",
              " 'tdd': 'Thermo format',\n",
              " 'text': 'Read and write raw text',\n",
              " 'therm': 'Thermo format',\n",
              " 'tmol': 'TurboMole Coordinate format',\n",
              " 'txt': 'Title format',\n",
              " 'txyz': 'Tinker XYZ format',\n",
              " 'unixyz': 'UniChem XYZ format',\n",
              " 'VASP': 'VASP format',\n",
              " 'vmol': 'ViewMol format',\n",
              " 'xml': 'General XML format',\n",
              " 'xsf': 'XCrySDen Structure Format',\n",
              " 'xtc': 'XTC format',\n",
              " 'xyz': 'XYZ cartesian coordinates format',\n",
              " 'yob': 'YASARA.org YOB format'}"
            ]
          },
          "metadata": {},
          "execution_count": 17
        }
      ],
      "source": [
        "pybel.informats"
      ]
    },
    {
      "cell_type": "code",
      "execution_count": 18,
      "id": "843f43a8",
      "metadata": {
        "id": "843f43a8",
        "colab": {
          "base_uri": "https://localhost:8080/"
        },
        "outputId": "2daa8cda-3c41-4b4d-f5ba-ed7c5007e04a"
      },
      "outputs": [
        {
          "output_type": "execute_result",
          "data": {
            "text/plain": [
              "{'acesin': 'ACES input format',\n",
              " 'adf': 'ADF cartesian input format',\n",
              " 'alc': 'Alchemy format',\n",
              " 'ascii': 'ASCII format',\n",
              " 'bgf': 'MSI BGF format',\n",
              " 'box': 'Dock 3.5 Box format',\n",
              " 'bs': 'Ball and Stick format',\n",
              " 'c3d1': 'Chem3D Cartesian 1 format',\n",
              " 'c3d2': 'Chem3D Cartesian 2 format',\n",
              " 'cac': 'CAChe MolStruct format',\n",
              " 'caccrt': 'Cacao Cartesian format',\n",
              " 'cache': 'CAChe MolStruct format',\n",
              " 'cacint': 'Cacao Internal format',\n",
              " 'can': 'Canonical SMILES format',\n",
              " 'cdjson': 'ChemDoodle JSON',\n",
              " 'cdxml': 'ChemDraw CDXML format',\n",
              " 'cht': 'Chemtool format',\n",
              " 'cif': 'Crystallographic Information File',\n",
              " 'ck': 'ChemKin format',\n",
              " 'cml': 'Chemical Markup Language',\n",
              " 'cmlr': 'CML Reaction format',\n",
              " 'com': 'Gaussian 98/03 Input',\n",
              " 'confabreport': 'Confab report format',\n",
              " 'CONFIG': 'DL-POLY CONFIG',\n",
              " 'CONTCAR': 'VASP format',\n",
              " 'CONTFF': 'MDFF format',\n",
              " 'copy': 'Copy raw text',\n",
              " 'crk2d': 'Chemical Resource Kit diagram(2D)',\n",
              " 'crk3d': 'Chemical Resource Kit 3D format',\n",
              " 'csr': 'Accelrys/MSI Quanta CSR format',\n",
              " 'cssr': 'CSD CSSR format',\n",
              " 'ct': 'ChemDraw Connection Table format',\n",
              " 'cub': 'Gaussian cube format',\n",
              " 'cube': 'Gaussian cube format',\n",
              " 'dalmol': 'DALTON input format',\n",
              " 'dmol': 'DMol3 coordinates format',\n",
              " 'dx': 'OpenDX cube format for APBS',\n",
              " 'ent': 'Protein Data Bank format',\n",
              " 'exyz': 'Extended XYZ cartesian coordinates format',\n",
              " 'fa': 'FASTA format',\n",
              " 'fasta': 'FASTA format',\n",
              " 'feat': 'Feature format',\n",
              " 'fh': 'Fenske-Hall Z-Matrix format',\n",
              " 'fhiaims': 'FHIaims XYZ format',\n",
              " 'fix': 'SMILES FIX format',\n",
              " 'fps': 'FPS text fingerprint format (Dalke)',\n",
              " 'fpt': 'Fingerprint format',\n",
              " 'fract': 'Free Form Fractional format',\n",
              " 'fs': 'Fastsearch format',\n",
              " 'fsa': 'FASTA format',\n",
              " 'gamin': 'GAMESS Input',\n",
              " 'gau': 'Gaussian 98/03 Input',\n",
              " 'gjc': 'Gaussian 98/03 Input',\n",
              " 'gjf': 'Gaussian 98/03 Input',\n",
              " 'gpr': 'Ghemical format',\n",
              " 'gr96': 'GROMOS96 format',\n",
              " 'gro': 'GRO format',\n",
              " 'gukin': 'GAMESS-UK Input',\n",
              " 'gukout': 'GAMESS-UK Output',\n",
              " 'gzmat': 'Gaussian Z-Matrix Input',\n",
              " 'hin': 'HyperChem HIN format',\n",
              " 'inchi': 'InChI format',\n",
              " 'inchikey': 'InChIKey',\n",
              " 'inp': 'GAMESS Input',\n",
              " 'jin': 'Jaguar input format',\n",
              " 'k': 'Compare molecules using InChI',\n",
              " 'lmpdat': 'The LAMMPS data format',\n",
              " 'lpmd': 'LPMD format',\n",
              " 'mcdl': 'MCDL format',\n",
              " 'mcif': 'Macromolecular Crystallographic Info',\n",
              " 'MDFF': 'MDFF format',\n",
              " 'mdl': 'MDL MOL format',\n",
              " 'ml2': 'Sybyl Mol2 format',\n",
              " 'mmcif': 'Macromolecular Crystallographic Info',\n",
              " 'mmd': 'MacroModel format',\n",
              " 'mmod': 'MacroModel format',\n",
              " 'mna': 'Multilevel Neighborhoods of Atoms (MNA)',\n",
              " 'mol': 'MDL MOL format',\n",
              " 'mol2': 'Sybyl Mol2 format',\n",
              " 'mold': 'Molden format',\n",
              " 'molden': 'Molden format',\n",
              " 'molf': 'Molden format',\n",
              " 'molreport': 'Open Babel molecule report',\n",
              " 'mop': 'MOPAC Cartesian format',\n",
              " 'mopcrt': 'MOPAC Cartesian format',\n",
              " 'mopin': 'MOPAC Internal',\n",
              " 'mp': 'Molpro input format',\n",
              " 'mpc': 'MOPAC Cartesian format',\n",
              " 'mpd': 'MolPrint2D format',\n",
              " 'mpqcin': 'MPQC simplified input format',\n",
              " 'mrv': 'Chemical Markup Language',\n",
              " 'msms': \"M.F. Sanner's MSMS input format\",\n",
              " 'nul': 'Outputs nothing',\n",
              " 'nw': 'NWChem input format',\n",
              " 'orcainp': 'ORCA input format',\n",
              " 'outmol': 'DMol3 coordinates format',\n",
              " 'paint': 'Painter format',\n",
              " 'pcjson': 'PubChem JSON',\n",
              " 'pcm': 'PCModel Format',\n",
              " 'pdb': 'Protein Data Bank format',\n",
              " 'pdbqt': 'AutoDock PDBQT format',\n",
              " 'png': 'PNG 2D depiction',\n",
              " 'pointcloud': 'Point cloud on VDW surface',\n",
              " 'POSCAR': 'VASP format',\n",
              " 'POSFF': 'MDFF format',\n",
              " 'pov': 'POV-Ray input format',\n",
              " 'pqr': 'PQR format',\n",
              " 'pqs': 'Parallel Quantum Solutions format',\n",
              " 'qcin': 'Q-Chem input format',\n",
              " 'report': 'Open Babel report format',\n",
              " 'rsmi': 'Reaction SMILES format',\n",
              " 'rxn': 'MDL RXN format',\n",
              " 'sd': 'MDL MOL format',\n",
              " 'sdf': 'MDL MOL format',\n",
              " 'smi': 'SMILES format',\n",
              " 'smiles': 'SMILES format',\n",
              " 'stl': 'STL 3D-printing format',\n",
              " 'svg': 'SVG 2D depiction',\n",
              " 'sy2': 'Sybyl Mol2 format',\n",
              " 'tdd': 'Thermo format',\n",
              " 'text': 'Read and write raw text',\n",
              " 'therm': 'Thermo format',\n",
              " 'tmol': 'TurboMole Coordinate format',\n",
              " 'txt': 'Title format',\n",
              " 'txyz': 'Tinker XYZ format',\n",
              " 'unixyz': 'UniChem XYZ format',\n",
              " 'VASP': 'VASP format',\n",
              " 'vmol': 'ViewMol format',\n",
              " 'xed': 'XED format',\n",
              " 'xyz': 'XYZ cartesian coordinates format',\n",
              " 'yob': 'YASARA.org YOB format',\n",
              " 'zin': 'ZINDO input format'}"
            ]
          },
          "metadata": {},
          "execution_count": 18
        }
      ],
      "source": [
        "pybel.outformats"
      ]
    },
    {
      "cell_type": "code",
      "execution_count": 50,
      "id": "7240d0f1",
      "metadata": {
        "id": "7240d0f1",
        "colab": {
          "base_uri": "https://localhost:8080/",
          "height": 120
        },
        "outputId": "28d87fa1-538e-412c-ba40-d20a71fceee7"
      },
      "outputs": [
        {
          "output_type": "execute_result",
          "data": {
            "text/plain": [
              "<pybel.Molecule at 0x7f5694f65c90>"
            ],
            "image/svg+xml": "<svg xmlns=\"http://www.w3.org/2000/svg\" font-family=\"sans-serif\" height=\"100\" stroke=\"rgb(0,0,0)\" stroke-linecap=\"round\" stroke-width=\"2\" viewBox=\"0 0 149.282 200\" width=\"100\" x=\"0\" y=\"0\">\n<line stroke=\"rgb(0,0,0)\" stroke-width=\"2.0\" x1=\"74.6\" x2=\"74.6\" y1=\"80.0\" y2=\"53.0\" />\n<line stroke=\"rgb(0,0,0)\" stroke-width=\"2.0\" x1=\"40.0\" x2=\"74.6\" y1=\"100.0\" y2=\"80.0\" />\n<line stroke=\"rgb(0,0,0)\" stroke-width=\"2.0\" x1=\"48.8\" x2=\"73.0\" y1=\"103.2\" y2=\"89.2\" />\n<line stroke=\"rgb(0,0,0)\" stroke-width=\"2.0\" x1=\"74.6\" x2=\"109.3\" y1=\"80.0\" y2=\"100.0\" />\n<line stroke=\"rgb(0,0,0)\" stroke-width=\"2.0\" x1=\"109.3\" x2=\"109.3\" y1=\"100.0\" y2=\"140.0\" />\n<line stroke=\"rgb(0,0,0)\" stroke-width=\"2.0\" x1=\"102.1\" x2=\"102.1\" y1=\"106.0\" y2=\"134.0\" />\n<line stroke=\"rgb(0,0,0)\" stroke-width=\"2.0\" x1=\"109.3\" x2=\"74.6\" y1=\"140.0\" y2=\"160.0\" />\n<line stroke=\"rgb(0,0,0)\" stroke-width=\"2.0\" x1=\"74.6\" x2=\"40.0\" y1=\"160.0\" y2=\"140.0\" />\n<line stroke=\"rgb(0,0,0)\" stroke-width=\"2.0\" x1=\"73.0\" x2=\"48.8\" y1=\"150.8\" y2=\"136.8\" />\n<line stroke=\"rgb(0,0,0)\" stroke-width=\"2.0\" x1=\"40.0\" x2=\"40.0\" y1=\"140.0\" y2=\"100.0\" />\n<text fill=\"rgb(255,12,12)\" font-size=\"16\" stroke=\"rgb(255,12,12)\" stroke-width=\"1\" x=\"68.641016\" y=\"48.000000\">OH</text>\n</svg>\n"
          },
          "metadata": {},
          "execution_count": 50
        }
      ],
      "source": [
        "# smilesでの分子の読み込み\n",
        "m = pybel.readstring(\"smiles\", \"C1=CC=C(C=C1)O\")\n",
        "m"
      ]
    },
    {
      "cell_type": "code",
      "execution_count": 20,
      "id": "d6fe1d8e",
      "metadata": {
        "id": "d6fe1d8e",
        "colab": {
          "base_uri": "https://localhost:8080/"
        },
        "outputId": "5d6759c2-0578-48cb-c324-2d6a32475232"
      },
      "outputs": [
        {
          "output_type": "stream",
          "name": "stdout",
          "text": [
            "7\n",
            "\n",
            "C          0.00000        0.00000        0.00000\n",
            "C          0.00000        0.00000        0.00000\n",
            "C          0.00000        0.00000        0.00000\n",
            "C          0.00000        0.00000        0.00000\n",
            "C          0.00000        0.00000        0.00000\n",
            "C          0.00000        0.00000        0.00000\n",
            "O          0.00000        0.00000        0.00000\n",
            "\n"
          ]
        }
      ],
      "source": [
        "# xyz座標での分子の出力\n",
        "print(m.write(\"xyz\"))"
      ]
    },
    {
      "cell_type": "code",
      "execution_count": 21,
      "id": "24b88661",
      "metadata": {
        "id": "24b88661",
        "colab": {
          "base_uri": "https://localhost:8080/"
        },
        "outputId": "48281730-b497-4c54-c6c2-7e7efbc4895a"
      },
      "outputs": [
        {
          "output_type": "stream",
          "name": "stdout",
          "text": [
            "13\n",
            "\n",
            "C         -1.36737       -0.06980        0.01843\n",
            "C         -0.73403        1.17390       -0.01007\n",
            "C          0.65938        1.24935       -0.04859\n",
            "C          1.40711        0.07517       -0.05824\n",
            "C          0.78392       -1.16744       -0.03002\n",
            "C         -0.60832       -1.24062        0.00845\n",
            "O          2.77008        0.10158       -0.09550\n",
            "H         -2.45246       -0.12694        0.04841\n",
            "H         -1.32786        2.08422       -0.00221\n",
            "H          1.13830        2.22276       -0.07044\n",
            "H          1.38047       -2.07497       -0.03798\n",
            "H         -1.09983       -2.20949        0.03060\n",
            "H          3.05937        1.02828       -0.11182\n",
            "\n"
          ]
        }
      ],
      "source": [
        "#openbabelを用いた構造最適化\n",
        "m.make3D(forcefield='mmff94', steps=1000)\n",
        "print(m.write(\"xyz\"))"
      ]
    },
    {
      "cell_type": "code",
      "execution_count": 22,
      "id": "f7ba49db",
      "metadata": {
        "id": "f7ba49db",
        "colab": {
          "base_uri": "https://localhost:8080/"
        },
        "outputId": "44d346c8-cbc0-4d81-bb3f-935cb75d82a0"
      },
      "outputs": [
        {
          "output_type": "stream",
          "name": "stdout",
          "text": [
            "PUT KEYWORDS HERE\n",
            "\n",
            "\n",
            "C  -1.36737 1 -0.06980 1  0.01843 1\n",
            "C  -0.73403 1  1.17390 1 -0.01007 1\n",
            "C   0.65938 1  1.24935 1 -0.04859 1\n",
            "C   1.40711 1  0.07517 1 -0.05824 1\n",
            "C   0.78392 1 -1.16744 1 -0.03002 1\n",
            "C  -0.60832 1 -1.24062 1  0.00845 1\n",
            "O   2.77008 1  0.10158 1 -0.09550 1\n",
            "H  -2.45246 1 -0.12694 1  0.04841 1\n",
            "H  -1.32786 1  2.08422 1 -0.00221 1\n",
            "H   1.13830 1  2.22276 1 -0.07044 1\n",
            "H   1.38047 1 -2.07497 1 -0.03798 1\n",
            "H  -1.09983 1 -2.20949 1  0.03060 1\n",
            "H   3.05937 1  1.02828 1 -0.11182 1\n",
            "\n"
          ]
        }
      ],
      "source": [
        "mopac_format = m.write(\"mop\")\n",
        "print(mopac_format)"
      ]
    },
    {
      "cell_type": "code",
      "execution_count": 23,
      "id": "291727fc",
      "metadata": {
        "id": "291727fc"
      },
      "outputs": [],
      "source": [
        "# 初めの3行を削除した。\n",
        "mopac_cartesian = mopac_format.replace('PUT KEYWORDS HERE\\n\\n\\n', '')"
      ]
    },
    {
      "cell_type": "code",
      "execution_count": 24,
      "id": "0268fd95",
      "metadata": {
        "id": "0268fd95",
        "colab": {
          "base_uri": "https://localhost:8080/"
        },
        "outputId": "3ed2875e-7cb3-49aa-af44-02c2fe74caa0"
      },
      "outputs": [
        {
          "output_type": "stream",
          "name": "stdout",
          "text": [
            "PM7 EF\n",
            "c1ccc(cc1)O\t\n",
            "InChI=1S/C6H6O/c7-6-4-2-1-3-5-6/h1-5,7H\n",
            "C  -1.36737 1 -0.06980 1  0.01843 1\n",
            "C  -0.73403 1  1.17390 1 -0.01007 1\n",
            "C   0.65938 1  1.24935 1 -0.04859 1\n",
            "C   1.40711 1  0.07517 1 -0.05824 1\n",
            "C   0.78392 1 -1.16744 1 -0.03002 1\n",
            "C  -0.60832 1 -1.24062 1  0.00845 1\n",
            "O   2.77008 1  0.10158 1 -0.09550 1\n",
            "H  -2.45246 1 -0.12694 1  0.04841 1\n",
            "H  -1.32786 1  2.08422 1 -0.00221 1\n",
            "H   1.13830 1  2.22276 1 -0.07044 1\n",
            "H   1.38047 1 -2.07497 1 -0.03798 1\n",
            "H  -1.09983 1 -2.20949 1  0.03060 1\n",
            "H   3.05937 1  1.02828 1 -0.11182 1\n",
            "\n"
          ]
        }
      ],
      "source": [
        "#新しい3行を追加する。\n",
        "mopac_keyword = \"PM7 EF\\n\" #ここにキーワードを書く\n",
        "memo1 = m.write(\"smiles\") #任意の文字_メモ書き 。今回は分子のsmilesを書き込んだ。\n",
        "memo2 = m.write(\"inchi\") #任意の文字_メモ書き。今回は分子のinchiを書き込んだ。\n",
        "\n",
        "mopac_code = mopac_keyword + memo1 + memo2 + mopac_cartesian\n",
        "print(mopac_code)"
      ]
    },
    {
      "cell_type": "code",
      "execution_count": 25,
      "id": "86464ab9",
      "metadata": {
        "id": "86464ab9"
      },
      "outputs": [],
      "source": [
        "# ファイルへの書き込み\n",
        "with open(\"phenol.dat\", mode='w') as f:\n",
        "    f.write(mopac_code)"
      ]
    },
    {
      "cell_type": "markdown",
      "id": "8b229288",
      "metadata": {
        "id": "8b229288"
      },
      "source": [
        "# 以下は、入力ファイルの形式などについてです。"
      ]
    },
    {
      "cell_type": "markdown",
      "id": "900afa4c",
      "metadata": {
        "id": "900afa4c"
      },
      "source": [
        "入力ファイルの構成について\n",
        "入力ファイルは、最初の行に使用するハミルトニアン(AM1, PM3など)と計算に必要なキーワードを指定。\n",
        "2行目と3行目はスペースです(個人的なメモを記入してもOKです)。\n",
        "4行目から、分子座標を入力します。分子座標の最後に空白行を加えれば、入力ファイルの完成です。\n",
        "テキストエディッタで作成する場合は、拡張子を.datにすればOKです。"
      ]
    },
    {
      "cell_type": "markdown",
      "id": "64e29650",
      "metadata": {
        "id": "64e29650"
      },
      "source": [
        "【 計算目的 】\n",
        "ハミルトニアンと組み合わせて計算目的を指定します。例えば、「PM3 EF」と記述すれば「PM3法で構造最適化計算」を実行します。常用するのは、以下の5つです。\n",
        "\n",
        "1) EF： 構造最適化\n",
        "2) FORCE： 振動解析\n",
        "3) TS： 遷移状態探索\n",
        "4) SADDLE： 与えられた2つの構造から遷移状態の候補構造を計算する\n",
        "5) IRC：極限反応座標計算 (IRC=1, IRC=-1)"
      ]
    },
    {
      "cell_type": "markdown",
      "id": "ed8dcf13",
      "metadata": {
        "id": "ed8dcf13"
      },
      "source": [
        "【 オプション 】\n",
        "上記のハミルトニアンと計算目的に対して、さらに追加情報を記述します。例えば「PM3 EF PRECISE GEO-OK」であれば「PM3法の構造最適化で収束判定を100倍厳しくし、なおかつ原子が異常接近を無視して計算」という命令を実行します。常用するのは、以下の5つです。\n",
        "\n",
        "1) PRECISE：収束判定を100倍厳しくする\n",
        "2) GEO-OK：原子が異常に接近した場合のチェックを無視する\n",
        "3) LARGE=n：IRC計算と組み合わせてIRC距離毎の計算回数を指定\n",
        "※ex. PM3 IRC=1 LARGE=50 (この場合、IRC距離50回おきに計算と指定しています)\n",
        "4) RECALC=n： 最適化サイクルごとに二次微分を計算させる (系のポテンシャル曲面が浅い場合等に使用します)"
      ]
    },
    {
      "cell_type": "markdown",
      "source": [
        "# RDKitのmolファイルから変換するやり方\n",
        "\n"
      ],
      "metadata": {
        "id": "FpsxwzLEY8hB"
      },
      "id": "FpsxwzLEY8hB"
    },
    {
      "cell_type": "code",
      "source": [
        "# ファイルのコピーは、wgetというコマンドが使用できる。\n",
        "!wget -P \"/content/drive/MyDrive/data\" https://raw.githubusercontent.com/chemoinformatics-lecture/lecture-beginner/main/lesson05_MOPAC/PubChem_compound_list_antioxidant.sdf "
      ],
      "metadata": {
        "id": "fmnl5-NpMVB2",
        "outputId": "18483620-c6d8-453f-97d0-b01283ad484d",
        "colab": {
          "base_uri": "https://localhost:8080/"
        }
      },
      "id": "fmnl5-NpMVB2",
      "execution_count": 35,
      "outputs": [
        {
          "output_type": "stream",
          "name": "stdout",
          "text": [
            "--2022-09-19 05:27:24--  https://raw.githubusercontent.com/chemoinformatics-lecture/lecture-beginner/main/lesson05_MOPAC/PubChem_compound_list_antioxidant.sdf\n",
            "Resolving raw.githubusercontent.com (raw.githubusercontent.com)... 185.199.111.133, 185.199.109.133, 185.199.108.133, ...\n",
            "Connecting to raw.githubusercontent.com (raw.githubusercontent.com)|185.199.111.133|:443... connected.\n",
            "HTTP request sent, awaiting response... 200 OK\n",
            "Length: 733745 (717K) [text/plain]\n",
            "Saving to: ‘/content/drive/MyDrive/data/PubChem_compound_list_antioxidant.sdf.1’\n",
            "\n",
            "\r          PubChem_c   0%[                    ]       0  --.-KB/s               \rPubChem_compound_li 100%[===================>] 716.55K  --.-KB/s    in 0.03s   \n",
            "\n",
            "2022-09-19 05:27:24 (24.5 MB/s) - ‘/content/drive/MyDrive/data/PubChem_compound_list_antioxidant.sdf.1’ saved [733745/733745]\n",
            "\n"
          ]
        }
      ]
    },
    {
      "cell_type": "code",
      "source": [
        "molecules = pybel.readfile(\"sdf\",\"/content/drive/MyDrive/data/PubChem_compound_list_antioxidant.sdf\")\n",
        "# どれくらいの分子が入っているかを確認\n",
        "len(list(molecules))"
      ],
      "metadata": {
        "id": "J5domV69fT6n",
        "outputId": "cedcf62e-2399-445d-a8e4-279527a789dd",
        "colab": {
          "base_uri": "https://localhost:8080/"
        }
      },
      "id": "J5domV69fT6n",
      "execution_count": 62,
      "outputs": [
        {
          "output_type": "execute_result",
          "data": {
            "text/plain": [
              "122"
            ]
          },
          "metadata": {},
          "execution_count": 62
        }
      ]
    },
    {
      "cell_type": "code",
      "source": [
        "#分子の構造をsmilesで表示させてみる。\n",
        "for molecule in pybel.readfile(\"sdf\",\"/content/drive/MyDrive/data/PubChem_compound_list_antioxidant.sdf\"):\n",
        "  print(molecule.write())"
      ],
      "metadata": {
        "id": "21KKKum8e2AA",
        "outputId": "e2235c1f-aa6a-4904-9502-6d6b38d8967a",
        "colab": {
          "base_uri": "https://localhost:8080/"
        }
      },
      "id": "21KKKum8e2AA",
      "execution_count": 63,
      "outputs": [
        {
          "output_type": "stream",
          "name": "stdout",
          "text": [
            "Oc1c(N)c(ccc1)C(=O)O\t86\n",
            "\n",
            "S[C@@H](CCCCC(=O)O)CCS\t421\n",
            "\n",
            "S(=O)(C)C\t679\n",
            "\n",
            "Oc1ccc(O)cc1\t785\n",
            "\n",
            "O=C(Cc1c2c([nH]c1)cccc2)C(=O)O\t803\n",
            "\n",
            "S1SCC[C@H]1CCCCC(=O)O\t864\n",
            "\n",
            "O(c1cc2c(CCNC(=O)C)c[nH]c2cc1)C\t896\n",
            "\n",
            "O=N\t945\n",
            "\n",
            "Oc1c(O)cccc1O\t1057\n",
            "\n",
            "O=c1[nH]c(=O)[nH]c2[nH]c(=O)[nH]c12\t1175\n",
            "\n",
            "O(c1cc(ccc1O)C=O)C\t1183\n",
            "\n",
            "O(c1cc(ccc1O)C(=O)C)C\t2214\n",
            "\n",
            "Oc1c(C(C)(C)C)cc(O)c(C(C)(C)C)c1\t2374\n",
            "\n",
            "O(c1c2c3c([nH]c2ccc1)cccc3)C[C@H](O)CNCCOc1c(OC)cccc1\t2585\n",
            "\n",
            "OCCCCCCCCCCC1=C(C(=O)C(=C(OC)C1=O)OC)C\t3686\n",
            "\n",
            "o1c(cc(=O)c(O)c1)CO\t3840\n",
            "\n",
            "O=C1N(N=C(C1)C)c1ccccc1\t4021\n",
            "\n",
            "Oc1cc(C[C@H]([C@@H](Cc2cc(O)c(O)cc2)C)C)ccc1O\t4534\n",
            "\n",
            "O=c1n(CCCCC(=O)C)c(=O)n(c2ncn(c12)C)C\t4740\n",
            "\n",
            "S(c1cc(C(C)(C)C)c(O)c(C(C)(C)C)c1)C(Sc1cc(C(C)(C)C)c(O)c(C(C)(C)C)c1)(C)C\t4912\n",
            "\n",
            "O(CCC)C(=O)c1cc(O)c(O)c(O)c1\t4947\n",
            "\n",
            "Clc1ccc(C(=O)N[C@@H](Cc2c3c([nH]c(=O)c2)cccc3)C(=O)O)cc1\t5042\n",
            "\n",
            "O[C@@H](CCCCC)c1cc(OCc2nc3c(cc2)cccc3)ccc1\t5059\n",
            "\n",
            "OC1CC(N(O)C(C1)(C)C)(C)C\t5395\n",
            "\n",
            "S(=O)(=O)(N)Cc1noc2c1cccc2\t5734\n",
            "\n",
            "S1SCC[C@H]1CCCCC(=O)O\t6112\n",
            "\n",
            "N(c1ccc(Nc2ccccc2)cc1)c1ccccc1\t6319\n",
            "\n",
            "Oc1ccc(C(c2ccc(O)cc2)(C)C)cc1\t6623\n",
            "\n",
            "O=C1NN(CC1)c1ccccc1\t7090\n",
            "\n",
            "Oc1cc(C(C)(C)C)ccc1O\t7381\n",
            "\n",
            "OC(=O)c1ccc(cc1)C(=O)O\t7489\n",
            "\n",
            "N(C(C)C)c1ccc(Nc2ccccc2)cc1\t7573\n",
            "\n",
            "Oc1cccnc1\t7971\n",
            "\n",
            "O(c1ccc(O)cc1)C\t9015\n",
            "\n",
            "S1C[C@@H](NC1)C(=O)O\t9934\n",
            "\n",
            "Oc1cc(ccc1O)C\t9958\n",
            "\n",
            "O(c1c2c3[C@H](N(CCc3cc1OC)C)Cc1c2cc(OC)c(OC)c1)C\t10145\n",
            "\n",
            "O(c1c2c3[C@@H](N(CCc3cc1O)C)Cc1c2cc(OC)c(O)c1)C\t10154\n",
            "\n",
            "OCCc1ccc(O)cc1\t10393\n",
            "\n",
            "OC(=O)[C@]1([C@H]2[C@@]([C@@H]3C(=CC2)C=C(CC3)C(C)C)(CCC1)C)C\t10569\n",
            "\n",
            "S(CC=C)CC=C\t11617\n",
            "\n",
            "SC[C@H](NC(=O)C)C(=O)O\t12035\n",
            "\n",
            "O1[C@](CCC[C@@H](CCC[C@@H](CCCC(C)C)C)C)(CCc2c1c(c(c(O)c2C)C)C)C\t14985\n",
            "\n",
            "O1[C@](CCC[C@H](CCC[C@@H](CCCC(C)C)C)C)(CCc2c1c(c(c(O)c2)C)C)C\t14986\n",
            "\n",
            "Oc1c(C(C)(C)C)cc(O)cc1\t16043\n",
            "\n",
            "S(SSCC=C)CC=C\t16315\n",
            "\n",
            "O(c1c2c3[C@@H](N(CCc3cc1OC)C)Cc1c2cc(OC)c(OC)c1)C\t16754\n",
            "\n",
            "N(C(C)C)(c1ccc(N)cc1)c1ccccc1\t18331\n",
            "\n",
            "Oc1c(C(C)(C)C)cc(cc1C(C)(C)C)C\t31404\n",
            "\n",
            "O1[C@@H]([C@H](Oc2c1cc([C@H]1Oc3c(C(=O)[C@@H]1O)c(O)cc(O)c3)cc2)CO)c1cc(OC)c(O)cc1\t31553\n",
            "\n",
            "O1[C@](CCc2c1c(c(c(O)c2C)C)C)(C)C(=O)O\t40634\n",
            "\n",
            "Clc1ccc(OC(C(=O)OCCn2c3c(n(c(=O)n(c3=O)C)C)nc2)(C)C)cc1\t41109\n",
            "\n",
            "Oc1c2[C@H](NC(=O)CN3CCN(CC3)c3cc(OC)ccc3)C(Cc2c(cc1C)C)(C)C\t59739\n",
            "\n",
            "OC(=O)CCCNC(=O)c1cccnc1\t60608\n",
            "\n",
            "[S@](=O)(SCC=C)CC=C\t65036\n",
            "\n",
            "O1[C@H]([C@@H](OC(=O)c2cc(O)c(O)c(O)c2)Cc2c1cc(O)cc2O)c1cc(O)c(O)cc1\t65056\n",
            "\n",
            "O1[C@@H]([C@H](OC(=O)c2cc(O)c(O)c(O)c2)Cc2c1cc(O)cc2O)c1cc(O)c(O)c(O)c1\t65064\n",
            "\n",
            "OC(=O)[C@@]12[C@H](C(CCC1)(C)C)CCc1c2c(O)c(O)c(c1)C(C)C\t65126\n",
            "\n",
            "O=C1N2[C@@H](CCCC2)C(=O)N[C@H]1Cc1[nH]cnc1\t65137\n",
            "\n",
            "n1c2c(c(cc1C)c1ccccc1)ccc1c2nc(cc1c1ccccc1)C\t65149\n",
            "\n",
            "SC(=S)N1CCCC1\t65351\n",
            "\n",
            "N1[C@@H]2[C@@H](CN(CC2)C)c2c1ccc(c2)C\t65684\n",
            "\n",
            "Oc1[nH]c(=O)[nH]c(=O)c1N=O\t66599\n",
            "\n",
            "O1c2c(OC1)ccc(O)c2\t68289\n",
            "\n",
            "O=C(N[C@@H](CNC(=O)c1cccnc1)C)c1cccnc1\t71234\n",
            "\n",
            "Oc1cc(C[C@@H]([C@@H](Cc2cc(O)c(O)cc2)C)C)ccc1O\t71398\n",
            "\n",
            "O1[C@@H]([C@@H]2[C@@H]([C@H](OC2)c2cc3OCOc3cc2)C1)c1cc2OCOc2cc1\t72307\n",
            "\n",
            "o1c2c(c(OC)c(OC)c(OC)c2OC)c(=O)cc1c1cc(OC)c(OC)cc1\t72344\n",
            "\n",
            "OCCc1cc(O)c(O)cc1\t82755\n",
            "\n",
            "Oc1c(C(C)(C)C)cc(cc1C(C)(C)C)CCC(=O)O\t88389\n",
            "\n",
            "O1[C@@](CCc2c1c(c(c(O)c2C)C)C)(CCC=C(CCC=C(CCC=C(C)C)C)C)C\t92161\n",
            "\n",
            "O1[C@](CCC[C@@H](CCC[C@@H](CCCC(C)C)C)C)(CCc2c1c(c(c(O)c2)C)C)C\t92729\n",
            "\n",
            "Oc1c([nH]c(=O)[nH]c1=O)C\t96369\n",
            "\n",
            "O1C(CCc2c1c(c(c(O)c2C)C)C)(C)C\t99479\n",
            "\n",
            "O=C([C@@H]1[C@@]2([C@H]([C@H]3C(=CC2)[C@@]2(C(=CC(=O)C=C2)CC3)C)C[C@H]1C)C)CN1CCN(CC1)c1nc(N2CCCC2)nc(N2CCCC2)c1\t104903\n",
            "\n",
            "SC(=S)[C@H]1NCCC1\t105009\n",
            "\n",
            "[S@](=O)(O)CCN\t107812\n",
            "\n",
            "O([C@]1(Oc2c([C@@H](O)[C@H]1O)c(O)cc(O)c2)c1cc(O)c(O)cc1)[C@H]1[C@@H](Oc2c(C1)c(O)cc(O)c2)c1cc(O)c(O)cc1\t107876\n",
            "\n",
            "O1[C@@H]([C@H](OC(=O)c2cc(O)c(O)c(O)c2)Cc2c1cc(O)cc2O)c1cc(O)c(O)cc1\t107905\n",
            "\n",
            "O1[C@@H]([C@H](O)[C@@H](c2c3O[C@@H]([C@H](O)Cc3c(O)cc2O)c2cc(O)c(OC)c(O)c2)c2c1cc(O)cc2O)c1ccc(O)cc1\t108065\n",
            "\n",
            "Oc1c(nc(cc1)C)CC\t114681\n",
            "\n",
            "O1[C@@H]([C@H](O)Cc2c1cc(O)cc2O)c1c2cc([C@H]3Oc4c(C[C@H]3O)c(O)cc(O)c4)cc(=O)c(O)c2c(O)c(O)c1\t114777\n",
            "\n",
            "SC[C@H](NC(=O)CC[C@H](N)C(=O)O)C(=O)NCC(=O)OC(C)C\t114894\n",
            "\n",
            "S(CCCCCCCCCCCCCC)CC(=O)O\t114924\n",
            "\n",
            "s1c2C[C@@H](NCCC)CCc2nc1N\t119570\n",
            "\n",
            "S(=O)(=O)(O)CC1=CC(Nc2c1cc(Cc1cc3C(=CC(Nc3cc1)(C)C)CS(=O)(=O)O)cc2)(C)C\t122009\n",
            "\n",
            "P(=O)(OC)(OC)C(CC(=O)C)(C)C\t122179\n",
            "\n",
            "S1[C@@H](N([C@](C1)(C)C(=O)O)C)[C@@H]1N=C(SC1)c1c(O)cccc1\t130208\n",
            "\n",
            "Oc1cc(/C=C/c2ccc(O)cc2)cc(O)c1\t445154\n",
            "\n",
            "O(c1cc(ccc1O)/C=C/C(=O)O)C\t445858\n",
            "\n",
            "O=C1N2[C@@H](CCC2)C(=O)N[C@H]1Cc1[nH]cnc1\t449094\n",
            "\n",
            "Oc1ccc(cc1)/C=C/C(=O)O\t637542\n",
            "\n",
            "SC(C(=O)N[C@@H](CS)C(=O)O)(C)C\t656604\n",
            "\n",
            "Oc1cc(ccc1O)/C=C/C(=O)O\t689043\n",
            "\n",
            "O(c1cc(ccc1O)/C=C/C(=O)CC(=O)/C=C/c1cc(OC)c(O)cc1)C\t969516\n",
            "\n",
            "S=C(NC)NC\t2723631\n",
            "\n",
            "O[C@](CCC[C@@H](CCC[C@@H](CCCC(C)C)C)C)(CCC1=C(C(=O)C(=C(C1=O)C)C)C)C\t2734086\n",
            "\n",
            "O(c1ccc(/C(=C(/CC)\\c2ccccc2)/c2cc(O)ccc2)cc1)CCN(C)C\t3033767\n",
            "\n",
            "O(CCOC)C(=O)CCC(=O)N\t3086673\n",
            "\n",
            "o1c2c(c(=O)c(O)c1c1cc(O)c(O)cc1)c(O)cc(O)c2\t5280343\n",
            "\n",
            "OC(=O)CCc1c([nH]c(c1C)/C=C/1\\NC(=O)C(=C1C)C=C)Cc1[nH]c(c(c1CCC(=O)O)C)/C=C/1\\NC(=O)C(=C1C=C)C\t5280352\n",
            "\n",
            "O=C1CCC(C(=C1C)/C=C/C(=C/C=C/C(=C/C=C/C=C(/C=C/C=C(/C=C/C1=C(C(=O)CCC1(C)C)C)\\C)\\C)/C)/C)(C)C\t5281227\n",
            "\n",
            "OC(=O)/C(=C/C=C/C(=C/C=C/C=C(/C=C/C=C(\\C)/C(=O)O)\\C)/C)/C\t5281232\n",
            "\n",
            "o1c2c(cc(O)c(O)c2)ccc1=O\t5281416\n",
            "\n",
            "Oc1c2c(cc(O)c1O)cccc(=O)c2O\t5281571\n",
            "\n",
            "o1c2c(c(O)c(O)c(O)c2)c(=O)cc1c1ccccc1\t5281605\n",
            "\n",
            "o1c(c2c(O)cc(O)cc2)c(O)c(=O)c2c1cc(O)cc2O\t5281670\n",
            "\n",
            "O([C@H](Cc1cc(O)c(O)cc1)C(=O)O)C(=O)/C=C/c1cc(O)c(O)cc1\t5281792\n",
            "\n",
            "O([C@H]1[C@H](OC(=O)/C=C/c2cc(O)c(O)cc2)[C@H](O[C@@H](OCCc2cc(O)c(O)cc2)[C@@H]1O)CO)[C@@H]1O[C@H]([C@H](O)[C@@H](O)[C@H]1O)C\t5281800\n",
            "\n",
            "O1[C@@](CCc2c1c(c(c(O)c2C)C)C)(CC/C=C(/CC/C=C(/CCC=C(C)C)\\C)\\C)C\t5282347\n",
            "\n",
            "S=c1[nH]c(C[C@H]([N+](C)(C)C)C(=O)[O-])c[nH]1\t5351619\n",
            "\n",
            "Oc1c([N+](=O)[O-])cc(C=C(C(=O)C)C(=O)C)cc1O\t5464105\n",
            "\n",
            "O1[C@](CCC[C@@H](CCC[C@@H](CCCC(C)C)C)C)(CCc2c1c(cc(O)c2C)C)C\t6857447\n",
            "\n",
            "O[C@@H]1[C@@H]2N([C@H](C1)C[C@H](OC(=O)[C@@H](c1ccccc1)CO)C2)C\t6918612\n",
            "\n",
            "Clc1ccc([C@@H](O)CN2CCN(CC2)Cc2cc(C(C)(C)C)c(O)c(C(C)(C)C)c2)cc1\t9890390\n",
            "\n",
            "O1[C@](CCc2c1ccc(O)c2)(CC/C=C(/CC/C=C(/CCC=C(C)C)\\C)\\C)C\t9929901\n",
            "\n",
            "S(SC[C@H](N)C(=O)O)C[C@H](NC(=O)C)C(=O)O\t12049111\n",
            "\n",
            "O1[C@H]([C@@H](O)CO)C(=C(O)C1=O)O\t54670067\n",
            "\n",
            "O1[C@H]([C@H](O)CO)C(=C(O)C1=O)O\t54675810\n",
            "\n",
            "O1[C@H]([C@H]2OC(=O)C(=C2O)O)CO[C@@H]1c1ccccc1\t54682464\n",
            "\n",
            "O=c1[nH]cnc2[nH]ncc12\t135401907\n",
            "\n",
            "Oc1cc(cc(O)c1O)/C(=N/O)/N\t135409350\n",
            "\n"
          ]
        }
      ]
    },
    {
      "cell_type": "code",
      "source": [
        "# 今まで行ってきたことのまとめで複数分子を同時に出力する。\n",
        "for molecule in pybel.readfile(\"sdf\",\"/content/drive/MyDrive/data/PubChem_compound_list_antioxidant.sdf\"):\n",
        "  molecule.make3D(forcefield='mmff94', steps=1000)\n",
        "  mopac_format = m.write(\"mop\")\n",
        "  mopac_cartesian = mopac_format.replace('PUT KEYWORDS HERE\\n\\n\\n', '')\n",
        "  mopac_keyword = \"PM7 EF\\n\" #ここにキーワードを書く\n",
        "  memo1 = m.write(\"smiles\") #任意の文字_メモ書き 。今回は分子のsmilesを書き込んだ。\n",
        "  memo2 = m.write(\"inchi\") #任意の文字_メモ書き。今回は分子のinchiを書き込んだ。\n",
        "  mopac_code = mopac_keyword + memo1 + memo2 + mopac_cartesian\n",
        "  molecule.title = molecule.write(\"inchikey\") #ファイル名をinchikeyにするために、分子のタイトルをつける。\n",
        "  path = \"/content/drive/MyDrive/data/mopac/\"+molecule.title+\".dat\"\n",
        "  with open(path, mode='w') as f:\n",
        "    f.write(mopac_code)\n",
        "  "
      ],
      "metadata": {
        "id": "QnzNfc_-OF-V",
        "outputId": "2687be7f-5418-4c1a-81f8-d9a3f6d4ac61",
        "colab": {
          "base_uri": "https://localhost:8080/"
        }
      },
      "id": "QnzNfc_-OF-V",
      "execution_count": 60,
      "outputs": [
        {
          "output_type": "stream",
          "name": "stdout",
          "text": [
            "Oc1c(N)c(ccc1)C(=O)O\t86\n",
            "\n",
            "S[C@@H](CCCCC(=O)O)CCS\t421\n",
            "\n",
            "S(=O)(C)C\t679\n",
            "\n",
            "Oc1ccc(O)cc1\t785\n",
            "\n",
            "O=C(Cc1c2c([nH]c1)cccc2)C(=O)O\t803\n",
            "\n",
            "S1SCC[C@H]1CCCCC(=O)O\t864\n",
            "\n",
            "O(c1cc2c(CCNC(=O)C)c[nH]c2cc1)C\t896\n",
            "\n",
            "O=N\t945\n",
            "\n",
            "Oc1c(O)cccc1O\t1057\n",
            "\n",
            "O=c1[nH]c(=O)[nH]c2[nH]c(=O)[nH]c12\t1175\n",
            "\n",
            "O(c1cc(ccc1O)C=O)C\t1183\n",
            "\n",
            "O(c1cc(ccc1O)C(=O)C)C\t2214\n",
            "\n",
            "Oc1c(C(C)(C)C)cc(O)c(C(C)(C)C)c1\t2374\n",
            "\n",
            "O(c1c2c3c([nH]c2ccc1)cccc3)C[C@H](O)CNCCOc1c(OC)cccc1\t2585\n",
            "\n",
            "OCCCCCCCCCCC1=C(C(=O)C(=C(OC)C1=O)OC)C\t3686\n",
            "\n",
            "o1c(cc(=O)c(O)c1)CO\t3840\n",
            "\n",
            "O=C1N(N=C(C1)C)c1ccccc1\t4021\n",
            "\n",
            "Oc1cc(C[C@H]([C@@H](Cc2cc(O)c(O)cc2)C)C)ccc1O\t4534\n",
            "\n",
            "O=c1n(CCCCC(=O)C)c(=O)n(c2ncn(c12)C)C\t4740\n",
            "\n",
            "S(c1cc(C(C)(C)C)c(O)c(C(C)(C)C)c1)C(Sc1cc(C(C)(C)C)c(O)c(C(C)(C)C)c1)(C)C\t4912\n",
            "\n",
            "O(CCC)C(=O)c1cc(O)c(O)c(O)c1\t4947\n",
            "\n",
            "Clc1ccc(C(=O)N[C@@H](Cc2c3c([nH]c(=O)c2)cccc3)C(=O)O)cc1\t5042\n",
            "\n",
            "O[C@@H](CCCCC)c1cc(OCc2nc3c(cc2)cccc3)ccc1\t5059\n",
            "\n",
            "OC1CC(N(O)C(C1)(C)C)(C)C\t5395\n",
            "\n",
            "S(=O)(=O)(N)Cc1noc2c1cccc2\t5734\n",
            "\n",
            "S1SCC[C@H]1CCCCC(=O)O\t6112\n",
            "\n",
            "N(c1ccc(Nc2ccccc2)cc1)c1ccccc1\t6319\n",
            "\n",
            "Oc1ccc(C(c2ccc(O)cc2)(C)C)cc1\t6623\n",
            "\n",
            "O=C1NN(CC1)c1ccccc1\t7090\n",
            "\n",
            "Oc1cc(C(C)(C)C)ccc1O\t7381\n",
            "\n",
            "OC(=O)c1ccc(cc1)C(=O)O\t7489\n",
            "\n",
            "N(C(C)C)c1ccc(Nc2ccccc2)cc1\t7573\n",
            "\n",
            "Oc1cccnc1\t7971\n",
            "\n",
            "O(c1ccc(O)cc1)C\t9015\n",
            "\n",
            "S1C[C@@H](NC1)C(=O)O\t9934\n",
            "\n",
            "Oc1cc(ccc1O)C\t9958\n",
            "\n",
            "O(c1c2c3[C@H](N(CCc3cc1OC)C)Cc1c2cc(OC)c(OC)c1)C\t10145\n",
            "\n",
            "O(c1c2c3[C@@H](N(CCc3cc1O)C)Cc1c2cc(OC)c(O)c1)C\t10154\n",
            "\n",
            "OCCc1ccc(O)cc1\t10393\n",
            "\n",
            "OC(=O)[C@]1([C@H]2[C@@]([C@@H]3C(=CC2)C=C(CC3)C(C)C)(CCC1)C)C\t10569\n",
            "\n",
            "S(CC=C)CC=C\t11617\n",
            "\n",
            "SC[C@H](NC(=O)C)C(=O)O\t12035\n",
            "\n",
            "O1[C@](CCC[C@@H](CCC[C@@H](CCCC(C)C)C)C)(CCc2c1c(c(c(O)c2C)C)C)C\t14985\n",
            "\n",
            "O1[C@](CCC[C@H](CCC[C@@H](CCCC(C)C)C)C)(CCc2c1c(c(c(O)c2)C)C)C\t14986\n",
            "\n",
            "Oc1c(C(C)(C)C)cc(O)cc1\t16043\n",
            "\n",
            "S(SSCC=C)CC=C\t16315\n",
            "\n",
            "O(c1c2c3[C@@H](N(CCc3cc1OC)C)Cc1c2cc(OC)c(OC)c1)C\t16754\n",
            "\n",
            "N(C(C)C)(c1ccc(N)cc1)c1ccccc1\t18331\n",
            "\n",
            "Oc1c(C(C)(C)C)cc(cc1C(C)(C)C)C\t31404\n",
            "\n",
            "O1[C@@H]([C@H](Oc2c1cc([C@H]1Oc3c(C(=O)[C@@H]1O)c(O)cc(O)c3)cc2)CO)c1cc(OC)c(O)cc1\t31553\n",
            "\n",
            "O1[C@](CCc2c1c(c(c(O)c2C)C)C)(C)C(=O)O\t40634\n",
            "\n",
            "Clc1ccc(OC(C(=O)OCCn2c3c(n(c(=O)n(c3=O)C)C)nc2)(C)C)cc1\t41109\n",
            "\n",
            "Oc1c2[C@H](NC(=O)CN3CCN(CC3)c3cc(OC)ccc3)C(Cc2c(cc1C)C)(C)C\t59739\n",
            "\n",
            "OC(=O)CCCNC(=O)c1cccnc1\t60608\n",
            "\n",
            "[S@](=O)(SCC=C)CC=C\t65036\n",
            "\n",
            "O1[C@H]([C@@H](OC(=O)c2cc(O)c(O)c(O)c2)Cc2c1cc(O)cc2O)c1cc(O)c(O)cc1\t65056\n",
            "\n",
            "O1[C@@H]([C@H](OC(=O)c2cc(O)c(O)c(O)c2)Cc2c1cc(O)cc2O)c1cc(O)c(O)c(O)c1\t65064\n",
            "\n",
            "OC(=O)[C@@]12[C@H](C(CCC1)(C)C)CCc1c2c(O)c(O)c(c1)C(C)C\t65126\n",
            "\n",
            "O=C1N2[C@@H](CCCC2)C(=O)N[C@H]1Cc1[nH]cnc1\t65137\n",
            "\n",
            "n1c2c(c(cc1C)c1ccccc1)ccc1c2nc(cc1c1ccccc1)C\t65149\n",
            "\n",
            "SC(=S)N1CCCC1\t65351\n",
            "\n",
            "N1[C@@H]2[C@@H](CN(CC2)C)c2c1ccc(c2)C\t65684\n",
            "\n",
            "Oc1[nH]c(=O)[nH]c(=O)c1N=O\t66599\n",
            "\n",
            "O1c2c(OC1)ccc(O)c2\t68289\n",
            "\n",
            "O=C(N[C@@H](CNC(=O)c1cccnc1)C)c1cccnc1\t71234\n",
            "\n",
            "Oc1cc(C[C@@H]([C@@H](Cc2cc(O)c(O)cc2)C)C)ccc1O\t71398\n",
            "\n",
            "O1[C@@H]([C@@H]2[C@@H]([C@H](OC2)c2cc3OCOc3cc2)C1)c1cc2OCOc2cc1\t72307\n",
            "\n",
            "o1c2c(c(OC)c(OC)c(OC)c2OC)c(=O)cc1c1cc(OC)c(OC)cc1\t72344\n",
            "\n",
            "OCCc1cc(O)c(O)cc1\t82755\n",
            "\n",
            "Oc1c(C(C)(C)C)cc(cc1C(C)(C)C)CCC(=O)O\t88389\n",
            "\n",
            "O1[C@@](CCc2c1c(c(c(O)c2C)C)C)(CCC=C(CCC=C(CCC=C(C)C)C)C)C\t92161\n",
            "\n",
            "O1[C@](CCC[C@@H](CCC[C@@H](CCCC(C)C)C)C)(CCc2c1c(c(c(O)c2)C)C)C\t92729\n",
            "\n",
            "Oc1c([nH]c(=O)[nH]c1=O)C\t96369\n",
            "\n",
            "O1C(CCc2c1c(c(c(O)c2C)C)C)(C)C\t99479\n",
            "\n",
            "O=C([C@@H]1[C@@]2([C@H]([C@H]3C(=CC2)[C@@]2(C(=CC(=O)C=C2)CC3)C)C[C@H]1C)C)CN1CCN(CC1)c1nc(N2CCCC2)nc(N2CCCC2)c1\t104903\n",
            "\n",
            "SC(=S)[C@H]1NCCC1\t105009\n",
            "\n",
            "[S@](=O)(O)CCN\t107812\n",
            "\n",
            "O([C@]1(Oc2c([C@@H](O)[C@H]1O)c(O)cc(O)c2)c1cc(O)c(O)cc1)[C@H]1[C@@H](Oc2c(C1)c(O)cc(O)c2)c1cc(O)c(O)cc1\t107876\n",
            "\n",
            "O1[C@@H]([C@H](OC(=O)c2cc(O)c(O)c(O)c2)Cc2c1cc(O)cc2O)c1cc(O)c(O)cc1\t107905\n",
            "\n",
            "O1[C@@H]([C@H](O)[C@@H](c2c3O[C@@H]([C@H](O)Cc3c(O)cc2O)c2cc(O)c(OC)c(O)c2)c2c1cc(O)cc2O)c1ccc(O)cc1\t108065\n",
            "\n",
            "Oc1c(nc(cc1)C)CC\t114681\n",
            "\n",
            "O1[C@@H]([C@H](O)Cc2c1cc(O)cc2O)c1c2cc([C@H]3Oc4c(C[C@H]3O)c(O)cc(O)c4)cc(=O)c(O)c2c(O)c(O)c1\t114777\n",
            "\n",
            "SC[C@H](NC(=O)CC[C@H](N)C(=O)O)C(=O)NCC(=O)OC(C)C\t114894\n",
            "\n",
            "S(CCCCCCCCCCCCCC)CC(=O)O\t114924\n",
            "\n",
            "s1c2C[C@@H](NCCC)CCc2nc1N\t119570\n",
            "\n",
            "S(=O)(=O)(O)CC1=CC(Nc2c1cc(Cc1cc3C(=CC(Nc3cc1)(C)C)CS(=O)(=O)O)cc2)(C)C\t122009\n",
            "\n",
            "P(=O)(OC)(OC)C(CC(=O)C)(C)C\t122179\n",
            "\n",
            "S1[C@@H](N([C@](C1)(C)C(=O)O)C)[C@@H]1N=C(SC1)c1c(O)cccc1\t130208\n",
            "\n",
            "Oc1cc(/C=C/c2ccc(O)cc2)cc(O)c1\t445154\n",
            "\n",
            "O(c1cc(ccc1O)/C=C/C(=O)O)C\t445858\n",
            "\n",
            "O=C1N2[C@@H](CCC2)C(=O)N[C@H]1Cc1[nH]cnc1\t449094\n",
            "\n",
            "Oc1ccc(cc1)/C=C/C(=O)O\t637542\n",
            "\n",
            "SC(C(=O)N[C@@H](CS)C(=O)O)(C)C\t656604\n",
            "\n",
            "Oc1cc(ccc1O)/C=C/C(=O)O\t689043\n",
            "\n",
            "O(c1cc(ccc1O)/C=C/C(=O)CC(=O)/C=C/c1cc(OC)c(O)cc1)C\t969516\n",
            "\n",
            "S=C(NC)NC\t2723631\n",
            "\n",
            "O[C@](CCC[C@@H](CCC[C@@H](CCCC(C)C)C)C)(CCC1=C(C(=O)C(=C(C1=O)C)C)C)C\t2734086\n",
            "\n",
            "O(c1ccc(/C(=C(/CC)\\c2ccccc2)/c2cc(O)ccc2)cc1)CCN(C)C\t3033767\n",
            "\n",
            "O(CCOC)C(=O)CCC(=O)N\t3086673\n",
            "\n",
            "o1c2c(c(=O)c(O)c1c1cc(O)c(O)cc1)c(O)cc(O)c2\t5280343\n",
            "\n",
            "OC(=O)CCc1c([nH]c(c1C)/C=C/1\\NC(=O)C(=C1C)C=C)Cc1[nH]c(c(c1CCC(=O)O)C)/C=C/1\\NC(=O)C(=C1C=C)C\t5280352\n",
            "\n",
            "O=C1CCC(C(=C1C)/C=C/C(=C/C=C/C(=C/C=C/C=C(/C=C/C=C(/C=C/C1=C(C(=O)CCC1(C)C)C)\\C)\\C)/C)/C)(C)C\t5281227\n",
            "\n",
            "OC(=O)/C(=C/C=C/C(=C/C=C/C=C(/C=C/C=C(\\C)/C(=O)O)\\C)/C)/C\t5281232\n",
            "\n",
            "o1c2c(cc(O)c(O)c2)ccc1=O\t5281416\n",
            "\n",
            "Oc1c2c(cc(O)c1O)cccc(=O)c2O\t5281571\n",
            "\n",
            "o1c2c(c(O)c(O)c(O)c2)c(=O)cc1c1ccccc1\t5281605\n",
            "\n",
            "o1c(c2c(O)cc(O)cc2)c(O)c(=O)c2c1cc(O)cc2O\t5281670\n",
            "\n",
            "O([C@H](Cc1cc(O)c(O)cc1)C(=O)O)C(=O)/C=C/c1cc(O)c(O)cc1\t5281792\n",
            "\n",
            "O([C@H]1[C@H](OC(=O)/C=C/c2cc(O)c(O)cc2)[C@H](O[C@@H](OCCc2cc(O)c(O)cc2)[C@@H]1O)CO)[C@@H]1O[C@H]([C@H](O)[C@@H](O)[C@H]1O)C\t5281800\n",
            "\n",
            "O1[C@@](CCc2c1c(c(c(O)c2C)C)C)(CC/C=C(/CC/C=C(/CCC=C(C)C)\\C)\\C)C\t5282347\n",
            "\n",
            "S=c1[nH]c(C[C@H]([N+](C)(C)C)C(=O)[O-])c[nH]1\t5351619\n",
            "\n",
            "Oc1c([N+](=O)[O-])cc(C=C(C(=O)C)C(=O)C)cc1O\t5464105\n",
            "\n",
            "O1[C@](CCC[C@@H](CCC[C@@H](CCCC(C)C)C)C)(CCc2c1c(cc(O)c2C)C)C\t6857447\n",
            "\n",
            "O[C@@H]1[C@@H]2N([C@H](C1)C[C@H](OC(=O)[C@@H](c1ccccc1)CO)C2)C\t6918612\n",
            "\n",
            "Clc1ccc([C@@H](O)CN2CCN(CC2)Cc2cc(C(C)(C)C)c(O)c(C(C)(C)C)c2)cc1\t9890390\n",
            "\n",
            "O1[C@](CCc2c1ccc(O)c2)(CC/C=C(/CC/C=C(/CCC=C(C)C)\\C)\\C)C\t9929901\n",
            "\n",
            "S(SC[C@H](N)C(=O)O)C[C@H](NC(=O)C)C(=O)O\t12049111\n",
            "\n",
            "O1[C@H]([C@@H](O)CO)C(=C(O)C1=O)O\t54670067\n",
            "\n",
            "O1[C@H]([C@H](O)CO)C(=C(O)C1=O)O\t54675810\n",
            "\n",
            "O1[C@H]([C@H]2OC(=O)C(=C2O)O)CO[C@@H]1c1ccccc1\t54682464\n",
            "\n",
            "O=c1[nH]cnc2[nH]ncc12\t135401907\n",
            "\n",
            "Oc1cc(cc(O)c1O)/C(=N/O)/N\t135409350\n",
            "\n"
          ]
        }
      ]
    },
    {
      "cell_type": "code",
      "source": [
        "help(m.write)"
      ],
      "metadata": {
        "id": "qRWtM9z_Q4Ck",
        "outputId": "351b8f9f-9e48-4257-b2e3-e24a52cc873f",
        "colab": {
          "base_uri": "https://localhost:8080/"
        }
      },
      "id": "qRWtM9z_Q4Ck",
      "execution_count": 42,
      "outputs": [
        {
          "output_type": "stream",
          "name": "stdout",
          "text": [
            "Help on method write in module pybel:\n",
            "\n",
            "write(format='smi', filename=None, overwrite=False, opt=None) method of pybel.Molecule instance\n",
            "    Write the molecule to a file or return a string.\n",
            "    \n",
            "    Optional parameters:\n",
            "       format -- see the informats variable for a list of available\n",
            "                 output formats (default is \"smi\")\n",
            "       filename -- default is None\n",
            "       overwite -- if the output file already exists, should it\n",
            "                   be overwritten? (default is False)\n",
            "       opt -- a dictionary of format specific options\n",
            "              For format options with no parameters, specify the\n",
            "              value as None.\n",
            "    \n",
            "    If a filename is specified, the result is written to a file.\n",
            "    Otherwise, a string is returned containing the result.\n",
            "    \n",
            "    To write multiple molecules to the same file you should use\n",
            "    the Outputfile class.\n",
            "\n"
          ]
        }
      ]
    }
  ],
  "metadata": {
    "kernelspec": {
      "display_name": "Python 3 (ipykernel)",
      "language": "python",
      "name": "python3"
    },
    "language_info": {
      "codemirror_mode": {
        "name": "ipython",
        "version": 3
      },
      "file_extension": ".py",
      "mimetype": "text/x-python",
      "name": "python",
      "nbconvert_exporter": "python",
      "pygments_lexer": "ipython3",
      "version": "3.8.13"
    },
    "colab": {
      "provenance": [],
      "include_colab_link": true
    }
  },
  "nbformat": 4,
  "nbformat_minor": 5
}