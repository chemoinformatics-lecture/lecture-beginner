{
 "cells": [
  {
   "cell_type": "markdown",
   "id": "0750344e",
   "metadata": {},
   "source": [
    "# 単一分子の計算例"
   ]
  },
  {
   "cell_type": "markdown",
   "id": "1b1dce0a",
   "metadata": {},
   "source": [
    "#あらかじめ、conda install などでmopacをインストールしておく必要がある。\n",
    "conda install -c conda-forge mopac"
   ]
  },
  {
   "cell_type": "code",
   "execution_count": 1,
   "id": "cbb358af",
   "metadata": {},
   "outputs": [],
   "source": [
    "import subprocess"
   ]
  },
  {
   "cell_type": "code",
   "execution_count": 2,
   "id": "a856c9ee",
   "metadata": {},
   "outputs": [],
   "source": [
    "file_path = \"phenol.dat\""
   ]
  },
  {
   "cell_type": "code",
   "execution_count": 3,
   "id": "15e90c8c",
   "metadata": {},
   "outputs": [
    {
     "name": "stderr",
     "output_type": "stream",
     "text": [
      "\n",
      "\n",
      "          MOPAC Job: \"phenol.dat\" ended normally on Sep 17, 2022, at 21:36.\n",
      "\n"
     ]
    },
    {
     "data": {
      "text/plain": [
       "CompletedProcess(args='mopac phenol.dat', returncode=0)"
      ]
     },
     "execution_count": 3,
     "metadata": {},
     "output_type": "execute_result"
    }
   ],
   "source": [
    "# mopacの後にスペースを1つ開ける。\n",
    "subprocess.run('mopac ' + file_path, shell=True)"
   ]
  },
  {
   "cell_type": "code",
   "execution_count": 4,
   "id": "437bfd5a",
   "metadata": {},
   "outputs": [
    {
     "name": "stdout",
     "output_type": "stream",
     "text": [
      "README.md                               phenol.dat\r\n",
      "mopacの実行.ipynb                       phenol.out\r\n",
      "openbabel及びpybelの使い方.ipynb        read_file.py\r\n",
      "phenol.arc\r\n"
     ]
    }
   ],
   "source": [
    "# .datに加えて.out及び.arcが生成されていれば計算ができている。\n",
    "ls"
   ]
  },
  {
   "cell_type": "markdown",
   "id": "95c047ac",
   "metadata": {},
   "source": [
    "# 複数分子の計算例"
   ]
  },
  {
   "cell_type": "code",
   "execution_count": null,
   "id": "8ee85cd4",
   "metadata": {},
   "outputs": [],
   "source": []
  },
  {
   "cell_type": "code",
   "execution_count": null,
   "id": "a4a29a19",
   "metadata": {},
   "outputs": [],
   "source": []
  },
  {
   "cell_type": "code",
   "execution_count": null,
   "id": "c1065d08",
   "metadata": {},
   "outputs": [],
   "source": []
  },
  {
   "cell_type": "markdown",
   "id": "5b524b74",
   "metadata": {},
   "source": [
    "# 同時に複数分子の計算例"
   ]
  },
  {
   "cell_type": "code",
   "execution_count": null,
   "id": "63d5a19a",
   "metadata": {},
   "outputs": [],
   "source": []
  },
  {
   "cell_type": "code",
   "execution_count": null,
   "id": "8378922b",
   "metadata": {},
   "outputs": [],
   "source": []
  },
  {
   "cell_type": "code",
   "execution_count": null,
   "id": "42cd85c6",
   "metadata": {},
   "outputs": [],
   "source": []
  }
 ],
 "metadata": {
  "kernelspec": {
   "display_name": "Python 3 (ipykernel)",
   "language": "python",
   "name": "python3"
  },
  "language_info": {
   "codemirror_mode": {
    "name": "ipython",
    "version": 3
   },
   "file_extension": ".py",
   "mimetype": "text/x-python",
   "name": "python",
   "nbconvert_exporter": "python",
   "pygments_lexer": "ipython3",
   "version": "3.8.13"
  }
 },
 "nbformat": 4,
 "nbformat_minor": 5
}
