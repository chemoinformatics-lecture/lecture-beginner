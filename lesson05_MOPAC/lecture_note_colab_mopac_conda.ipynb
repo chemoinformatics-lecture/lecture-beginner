{
  "cells": [
    {
      "cell_type": "markdown",
      "metadata": {
        "id": "view-in-github",
        "colab_type": "text"
      },
      "source": [
        "<a href=\"https://colab.research.google.com/github/chemoinformatics-lecture/lecture-beginner/blob/main/lesson05_MOPAC/lecture_note_colab_mopac_conda.ipynb\" target=\"_parent\"><img src=\"https://colab.research.google.com/assets/colab-badge.svg\" alt=\"Open In Colab\"/></a>"
      ]
    },
    {
      "cell_type": "markdown",
      "id": "69b8ca03",
      "metadata": {
        "id": "69b8ca03"
      },
      "source": [
        "# condaでのインストール方法"
      ]
    },
    {
      "cell_type": "markdown",
      "id": "579d1d46",
      "metadata": {
        "id": "579d1d46"
      },
      "source": [
        "conda-forgeでもインストールできる。winmostarと連携して使わなくても良い場合などには、こちらも便利。\n",
        "\n",
        "https://anaconda.org/conda-forge/mopac\n",
        "\n",
        "condaでインストールした場合の実行方法\n",
        "\n",
        "`conda install -c conda-forge mopac`\n",
        "\n",
        "githubのリポジトリー\n",
        "\n",
        "https://github.com/openmopac/mopac\n"
      ]
    },
    {
      "cell_type": "code",
      "source": [
        "%%bash\n",
        "wget -c https://repo.continuum.io/miniconda/Miniconda3-latest-Linux-x86_64.sh\n",
        "chmod +x Miniconda3-latest-Linux-x86_64.sh\n",
        "bash ./Miniconda3-latest-Linux-x86_64.sh -b -f -p /usr/local\n",
        "conda update --channel defaults --all --yes\n",
        "conda install python=3.7\n",
        "conda install -c  mcs07 pubchempy -y\n",
        "conda install -c conda-forge rdkit  -y\n",
        "conda install -c conda-forge mopac -y "
      ],
      "metadata": {
        "id": "hrhuqSAdOFD5"
      },
      "id": "hrhuqSAdOFD5",
      "execution_count": null,
      "outputs": []
    },
    {
      "cell_type": "code",
      "source": [
        "import sys\n",
        "_ = (sys.path.append(\"/usr/local/lib/python3.7/site-packages\"))"
      ],
      "metadata": {
        "id": "JGbJvlaCOIHM"
      },
      "id": "JGbJvlaCOIHM",
      "execution_count": 2,
      "outputs": []
    },
    {
      "cell_type": "code",
      "source": [
        "!python -V"
      ],
      "metadata": {
        "id": "YM8KG4MUfZ55",
        "outputId": "ef28e3f0-06eb-45e9-992d-bd8647b4a0df",
        "colab": {
          "base_uri": "https://localhost:8080/"
        }
      },
      "id": "YM8KG4MUfZ55",
      "execution_count": 3,
      "outputs": [
        {
          "output_type": "stream",
          "name": "stdout",
          "text": [
            "Python 3.9.12\n"
          ]
        }
      ]
    },
    {
      "cell_type": "code",
      "source": [
        "import pubchempy as pcp\n",
        "from rdkit import Chem"
      ],
      "metadata": {
        "id": "lgVKnpAbQYQj"
      },
      "id": "lgVKnpAbQYQj",
      "execution_count": null,
      "outputs": []
    },
    {
      "cell_type": "markdown",
      "id": "c4313aa6",
      "metadata": {
        "id": "c4313aa6"
      },
      "source": [
        "# ファイルの実行方法"
      ]
    },
    {
      "cell_type": "code",
      "source": [
        "!mkdir mopac_calc_temp"
      ],
      "metadata": {
        "id": "L4XG3xg2O9Mv"
      },
      "id": "L4XG3xg2O9Mv",
      "execution_count": null,
      "outputs": []
    },
    {
      "cell_type": "markdown",
      "source": [
        ""
      ],
      "metadata": {
        "id": "GGlJ5pPfg_nm"
      },
      "id": "GGlJ5pPfg_nm"
    },
    {
      "cell_type": "code",
      "source": [
        "from rdkit import Chem\n",
        "from rdkit.Chem import AllChem, PandasTools, MolStandardize"
      ],
      "metadata": {
        "id": "O6m_BSIaPO15"
      },
      "id": "O6m_BSIaPO15",
      "execution_count": null,
      "outputs": []
    },
    {
      "cell_type": "code",
      "execution_count": null,
      "id": "7a785569",
      "metadata": {
        "id": "7a785569"
      },
      "outputs": [],
      "source": [
        "file_path = \"phenol.dat\""
      ]
    },
    {
      "cell_type": "code",
      "execution_count": null,
      "id": "007ee34d",
      "metadata": {
        "id": "007ee34d"
      },
      "outputs": [],
      "source": [
        "!mopac $file_path"
      ]
    }
  ],
  "metadata": {
    "kernelspec": {
      "display_name": "Python 3 (ipykernel)",
      "language": "python",
      "name": "python3"
    },
    "language_info": {
      "codemirror_mode": {
        "name": "ipython",
        "version": 3
      },
      "file_extension": ".py",
      "mimetype": "text/x-python",
      "name": "python",
      "nbconvert_exporter": "python",
      "pygments_lexer": "ipython3",
      "version": "3.8.13"
    },
    "colab": {
      "name": "mopac_conda.ipynb",
      "provenance": [],
      "include_colab_link": true
    }
  },
  "nbformat": 4,
  "nbformat_minor": 5
}