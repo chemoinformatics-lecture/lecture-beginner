{
 "cells": [
  {
   "cell_type": "markdown",
   "id": "a5fb6d20",
   "metadata": {},
   "source": [
    "# MOPACを実行することもできる。"
   ]
  },
  {
   "cell_type": "code",
   "execution_count": 1,
   "id": "3ce9446d",
   "metadata": {},
   "outputs": [],
   "source": [
    "!\"C:\\program files\\mopac\\MOPAC2016.exe\" C:\\Users\\t1525\\PycharmProjects\\lecture-beginner\\lesson05_MOPAC\\phenol\\phenol.dat"
   ]
  },
  {
   "cell_type": "code",
   "execution_count": 2,
   "id": "8d736863",
   "metadata": {},
   "outputs": [],
   "source": [
    "import glob"
   ]
  },
  {
   "cell_type": "code",
   "execution_count": 3,
   "id": "397594d7",
   "metadata": {},
   "outputs": [
    {
     "data": {
      "text/plain": [
       "['phenol\\\\phenol.dat', 'phenol\\\\phenol_2.dat']"
      ]
     },
     "execution_count": 3,
     "metadata": {},
     "output_type": "execute_result"
    }
   ],
   "source": [
    "glob.glob(\"phenol\\*.dat\")"
   ]
  },
  {
   "cell_type": "code",
   "execution_count": 4,
   "id": "1864020e",
   "metadata": {},
   "outputs": [],
   "source": [
    "for dat in glob.glob(\"phenol\\*.dat\"):\n",
    "    !\"C:\\program files\\mopac\\MOPAC2016.exe\" $dat"
   ]
  },
  {
   "cell_type": "markdown",
   "id": "e834d66a",
   "metadata": {},
   "source": [
    "# データを読み取る"
   ]
  },
  {
   "cell_type": "code",
   "execution_count": 2,
   "id": "7c015b60",
   "metadata": {},
   "outputs": [],
   "source": [
    "import glob\n",
    "import pandas as pd"
   ]
  },
  {
   "cell_type": "code",
   "execution_count": 6,
   "id": "84b2855f",
   "metadata": {},
   "outputs": [
    {
     "data": {
      "text/plain": [
       "[]"
      ]
     },
     "execution_count": 6,
     "metadata": {},
     "output_type": "execute_result"
    }
   ],
   "source": [
    "files = glob.glob(\"phenol\\*.arc\")\n",
    "files"
   ]
  },
  {
   "cell_type": "code",
   "execution_count": null,
   "id": "336ab519",
   "metadata": {},
   "outputs": [],
   "source": [
    "for n in files:\n",
    "    List=[]\n",
    "    basic_name = n[:-5]\n",
    "    neutralfile = basic_name + \"n.arc\"\n",
    "    radicalcationfile = basic_name + \"rc.arc\"\n",
    "    \n",
    "    with open(neutralfile) as f:\n",
    "        lines = f.readlines()\n",
    "    lines_strip = [line.strip() for line in lines]\n",
    "    \n",
    "    l_HEAT = [line for line in lines_strip if 'HEAT OF FORMATION' in line]\n",
    "    if l_HEAT != []:\n",
    "        n_HEAT=float(str(l_HEAT[0][30:43]))\n",
    "    else:\n",
    "        n_HEAT=10**9+7\n",
    "    nh=n_HEAT\n",
    "\n",
    "    l_TOTAL = [line for line in lines_strip if 'TOTAL' in line]\n",
    "    if l_TOTAL != []:\n",
    "        n_TOTAL=float(str(l_TOTAL[0][30:43]))\n",
    "    else:\n",
    "        n_TOTAL=10**9+7\n",
    "    List.append(n_TOTAL)\n",
    "    \n",
    "    l_ELECTRONIC = [line for line in lines_strip if 'ELECTRONIC' in line]\n",
    "    if l_ELECTRONIC != []:\n",
    "        n_ELECTRONIC=float(str(l_ELECTRONIC[0][30:43]))\n",
    "    else:\n",
    "        n_ELECTRONIC=10**9+7\n",
    "    List.append(n_ELECTRONIC)\n",
    "    \n",
    "    l_CORE = [line for line in lines_strip if 'CORE' in line]\n",
    "    if l_CORE != []:\n",
    "        n_CORE=float(str(l_CORE[0][30:43]))\n",
    "    else:\n",
    "        n_CORE=10**9+7\n",
    "    List.append(n_CORE)\n",
    "    \n",
    "    l_GRADIENT = [line for line in lines_strip if 'GRADIENT' in line]    \n",
    "    if l_GRADIENT != []:\n",
    "        n_GRADIENT=float(str(l_GRADIENT[0][30:43]))\n",
    "    else:\n",
    "        n_GRADIENT=10**9+7        \n",
    "    List.append(n_GRADIENT)\n",
    "    \n",
    "    l_AREA = [line for line in lines_strip if 'AREA' in line]\n",
    "    if l_AREA != []:\n",
    "        n_AREA=float(str(l_AREA[0][30:39]))\n",
    "    else:\n",
    "        n_AREA=10**9+7\n",
    "    List.append(n_AREA)\n",
    "    \n",
    "    l_VOLUME = [line for line in lines_strip if 'VOLUME' in line]\n",
    "    if l_VOLUME != []:\n",
    "        n_VOLUME=float(str(l_VOLUME[0][30:39]))\n",
    "    else:\n",
    "        n_VOLUME=10**9+7\n",
    "    List.append(n_VOLUME)\n",
    "    \n",
    "    l_HOMO = [line for line in lines_strip if 'HOMO' in line]\n",
    "    if l_HOMO != []:\n",
    "        n_HOMO=float(str(l_HOMO[0][30:39]))\n",
    "    else:\n",
    "        n_HOMO=10**9+7\n",
    "    List.append(n_HOMO)"
   ]
  },
  {
   "cell_type": "code",
   "execution_count": null,
   "id": "9220eb40",
   "metadata": {},
   "outputs": [],
   "source": [
    "Lists=pd.DataFrame(Lists)\n",
    "Lists.index=Name\n",
    "Lists.columns=ColumnsList\n",
    "Lists.to_csv('試薬リスト_mopacで計算.csv')"
   ]
  },
  {
   "cell_type": "code",
   "execution_count": null,
   "id": "94f97db2",
   "metadata": {},
   "outputs": [],
   "source": []
  }
 ],
 "metadata": {
  "kernelspec": {
   "display_name": "Python 3 (ipykernel)",
   "language": "python",
   "name": "python3"
  },
  "language_info": {
   "codemirror_mode": {
    "name": "ipython",
    "version": 3
   },
   "file_extension": ".py",
   "mimetype": "text/x-python",
   "name": "python",
   "nbconvert_exporter": "python",
   "pygments_lexer": "ipython3",
   "version": "3.8.12"
  },
  "toc": {
   "base_numbering": 1,
   "nav_menu": {},
   "number_sections": true,
   "sideBar": true,
   "skip_h1_title": false,
   "title_cell": "Table of Contents",
   "title_sidebar": "Contents",
   "toc_cell": false,
   "toc_position": {},
   "toc_section_display": true,
   "toc_window_display": false
  }
 },
 "nbformat": 4,
 "nbformat_minor": 5
}
