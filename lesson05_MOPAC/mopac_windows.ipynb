{
 "cells": [
  {
   "cell_type": "markdown",
   "id": "a5fb6d20",
   "metadata": {},
   "source": [
    "# mopacを実行することもできる。"
   ]
  },
  {
   "cell_type": "code",
   "execution_count": 1,
   "id": "3ce9446d",
   "metadata": {},
   "outputs": [],
   "source": [
    "!\"C:\\program files\\mopac\\MOPAC2016.exe\" C:\\Users\\t1525\\PycharmProjects\\lecture-beginner\\lesson05_MOPAC\\phenol\\phenol.dat"
   ]
  },
  {
   "cell_type": "code",
   "execution_count": 2,
   "id": "8d736863",
   "metadata": {},
   "outputs": [],
   "source": [
    "import glob"
   ]
  },
  {
   "cell_type": "code",
   "execution_count": 3,
   "id": "397594d7",
   "metadata": {},
   "outputs": [
    {
     "data": {
      "text/plain": [
       "['phenol\\\\phenol.dat', 'phenol\\\\phenol_2.dat']"
      ]
     },
     "execution_count": 3,
     "metadata": {},
     "output_type": "execute_result"
    }
   ],
   "source": [
    "glob.glob(\"phenol\\*.dat\")"
   ]
  },
  {
   "cell_type": "code",
   "execution_count": 4,
   "id": "1864020e",
   "metadata": {},
   "outputs": [],
   "source": [
    "for dat in glob.glob(\"phenol\\*.dat\"):\n",
    "    !\"C:\\program files\\mopac\\MOPAC2016.exe\" $dat"
   ]
  },
  {
   "cell_type": "code",
   "execution_count": null,
   "id": "cafc622d",
   "metadata": {},
   "outputs": [],
   "source": []
  }
 ],
 "metadata": {
  "kernelspec": {
   "display_name": "Python 3 (ipykernel)",
   "language": "python",
   "name": "python3"
  },
  "language_info": {
   "codemirror_mode": {
    "name": "ipython",
    "version": 3
   },
   "file_extension": ".py",
   "mimetype": "text/x-python",
   "name": "python",
   "nbconvert_exporter": "python",
   "pygments_lexer": "ipython3",
   "version": "3.8.12"
  }
 },
 "nbformat": 4,
 "nbformat_minor": 5
}
