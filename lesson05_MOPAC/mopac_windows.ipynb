{
 "cells": [
  {
   "cell_type": "markdown",
   "id": "a5fb6d20",
   "metadata": {},
   "source": [
    "# MOPACを実行することもできる。"
   ]
  },
  {
   "cell_type": "code",
   "execution_count": 1,
   "id": "3ce9446d",
   "metadata": {},
   "outputs": [],
   "source": [
    "!\"C:\\Program Files\\MOPAC\\MOPAC2016.exe\" C:\\winmos10\\UserData\\phenol.dat"
   ]
  },
  {
   "cell_type": "code",
   "execution_count": 2,
   "id": "8d736863",
   "metadata": {},
   "outputs": [],
   "source": [
    "import glob"
   ]
  },
  {
   "cell_type": "code",
   "execution_count": 3,
   "id": "397594d7",
   "metadata": {},
   "outputs": [
    {
     "data": {
      "text/plain": [
       "['phenol\\\\phenol.dat', 'phenol\\\\phenol2.dat']"
      ]
     },
     "execution_count": 3,
     "metadata": {},
     "output_type": "execute_result"
    }
   ],
   "source": [
    "glob.glob(\"phenol\\*.dat\")"
   ]
  },
  {
   "cell_type": "code",
   "execution_count": 4,
   "id": "1864020e",
   "metadata": {},
   "outputs": [],
   "source": [
    "for dat in glob.glob(\"phenol\\*.dat\"):\n",
    "    !\"C:\\program files\\mopac\\MOPAC2016.exe\" $dat"
   ]
  },
  {
   "cell_type": "markdown",
   "id": "9262003e",
   "metadata": {},
   "source": [
    "# 計算ファイルの作成"
   ]
  },
  {
   "cell_type": "code",
   "execution_count": 5,
   "id": "ec82fe7d",
   "metadata": {},
   "outputs": [],
   "source": [
    "from rdkit import Chem\n",
    "from rdkit.Chem import AllChem, PandasTools, MolStandardize\n",
    "from tqdm.notebook import tqdm"
   ]
  },
  {
   "cell_type": "code",
   "execution_count": 6,
   "id": "65754bee",
   "metadata": {},
   "outputs": [],
   "source": [
    "folder_name = \"mopac/\""
   ]
  },
  {
   "cell_type": "code",
   "execution_count": 7,
   "id": "49f1bd4e",
   "metadata": {},
   "outputs": [],
   "source": [
    "df = PandasTools.LoadSDF('PubChem_compound_list_antioxidant.sdf')"
   ]
  },
  {
   "cell_type": "code",
   "execution_count": 8,
   "id": "dac60c19",
   "metadata": {},
   "outputs": [],
   "source": [
    "mols = df[\"ROMol\"]"
   ]
  },
  {
   "cell_type": "code",
   "execution_count": 9,
   "id": "86f3f977",
   "metadata": {},
   "outputs": [
    {
     "data": {
      "text/plain": [
       "0    <img data-content=\"rdkit/molecule\" src=\"data:i...\n",
       "1    <img data-content=\"rdkit/molecule\" src=\"data:i...\n",
       "2    <img data-content=\"rdkit/molecule\" src=\"data:i...\n",
       "3    <img data-content=\"rdkit/molecule\" src=\"data:i...\n",
       "4    <img data-content=\"rdkit/molecule\" src=\"data:i...\n",
       "5    <img data-content=\"rdkit/molecule\" src=\"data:i...\n",
       "6    <img data-content=\"rdkit/molecule\" src=\"data:i...\n",
       "7    <img data-content=\"rdkit/molecule\" src=\"data:i...\n",
       "8    <img data-content=\"rdkit/molecule\" src=\"data:i...\n",
       "9    <img data-content=\"rdkit/molecule\" src=\"data:i...\n",
       "Name: ROMol, dtype: object"
      ]
     },
     "execution_count": 9,
     "metadata": {},
     "output_type": "execute_result"
    }
   ],
   "source": [
    "mols[:10]"
   ]
  },
  {
   "cell_type": "code",
   "execution_count": 10,
   "id": "d7e1e789",
   "metadata": {},
   "outputs": [
    {
     "data": {
      "application/vnd.jupyter.widget-view+json": {
       "model_id": "3bc3bb48e90c4e94b1a9f8d090448c26",
       "version_major": 2,
       "version_minor": 0
      },
      "text/plain": [
       "  0%|          | 0/10 [00:00<?, ?it/s]"
      ]
     },
     "metadata": {},
     "output_type": "display_data"
    }
   ],
   "source": [
    "# RDKitによるコンフォマーの生成を参考に作成\n",
    "# https://future-chem.com/rdkit-conformer/\n",
    "\n",
    "errorlist=[]\n",
    "lfc = MolStandardize.fragment.LargestFragmentChooser()\n",
    "\n",
    "for mol in tqdm(mols[:10]):\n",
    "    try:\n",
    "        #一番大きなフラグメントを選ぶ\n",
    "        mol = lfc.choose(mol)\n",
    "        #molファイルをsmilesにする\n",
    "        smiles=Chem.MolToSmiles(mol)\n",
    "        #初期化\n",
    "        energy=[]\n",
    "        #水素の付加\n",
    "        mol = Chem.AddHs(mol)\n",
    "        #3次元構造の生成\n",
    "        AllChem.EmbedMolecule(mol)\n",
    "        #\n",
    "        cids = AllChem.EmbedMultipleConfs(mol, numConfs=1000, randomSeed=1234,\n",
    "                                           pruneRmsThresh=2, numThreads=0)\n",
    "        for cid in cids:\n",
    "            prop = AllChem.MMFFGetMoleculeProperties(mol)\n",
    "            mmff = AllChem.MMFFGetMoleculeForceField(mol, prop, confId=cid)\n",
    "            mmff.Minimize()\n",
    "            \n",
    "            energy.append((mmff.CalcEnergy(), cid))\n",
    "\n",
    "            energy.sort()\n",
    "            conf = mol.GetConformer(energy[0][1])\n",
    "\n",
    "            #ファイルを作成\n",
    "            with open(folder_name + smiles+'.dat', 'w') as f: \n",
    "                print('PM7 EF PRECISE GNORM=0.05 NOINTER GRAPHF VECTORS MMOK', file=f)\n",
    "                print(smiles, file=f)\n",
    "                print('Good Luck!', file=f)\n",
    "                for n,(x,y,z) in enumerate(conf.GetPositions()):\n",
    "                    atom = mol.GetAtomWithIdx(n)\n",
    "                    print('{}  {:.6f} 1 {:.6f} 1 {:.6f} 1'.format(atom.GetSymbol(),x,y,z), file=f)\n",
    "           \n",
    "    except:\n",
    "        print(smiles)\n",
    "        errorlist.append(smiles)"
   ]
  },
  {
   "cell_type": "markdown",
   "id": "2d1dd3c4",
   "metadata": {},
   "source": [
    "# 作成したファイルを実行する。"
   ]
  },
  {
   "cell_type": "code",
   "execution_count": 11,
   "id": "5035d6f1",
   "metadata": {},
   "outputs": [],
   "source": [
    "calc_dats = glob.glob(folder_name +\"*.dat\")"
   ]
  },
  {
   "cell_type": "code",
   "execution_count": 12,
   "id": "b896d369",
   "metadata": {},
   "outputs": [
    {
     "data": {
      "text/plain": [
       "10"
      ]
     },
     "execution_count": 12,
     "metadata": {},
     "output_type": "execute_result"
    }
   ],
   "source": [
    "len(calc_dats)"
   ]
  },
  {
   "cell_type": "code",
   "execution_count": 13,
   "id": "cf4c9597",
   "metadata": {},
   "outputs": [
    {
     "data": {
      "application/vnd.jupyter.widget-view+json": {
       "model_id": "7689845fa30d4b1b89039c7c0dbc0f15",
       "version_major": 2,
       "version_minor": 0
      },
      "text/plain": [
       "  0%|          | 0/10 [00:00<?, ?it/s]"
      ]
     },
     "metadata": {},
     "output_type": "display_data"
    }
   ],
   "source": [
    "for dat in tqdm(calc_dats):\n",
    "    !\"C:\\program files\\mopac\\MOPAC2016.exe\" $dat"
   ]
  },
  {
   "cell_type": "markdown",
   "id": "e834d66a",
   "metadata": {},
   "source": [
    "# データを読み取る"
   ]
  },
  {
   "cell_type": "code",
   "execution_count": 14,
   "id": "7c015b60",
   "metadata": {},
   "outputs": [],
   "source": [
    "import os\n",
    "import glob\n",
    "import pandas as pd"
   ]
  },
  {
   "cell_type": "code",
   "execution_count": 15,
   "id": "84b2855f",
   "metadata": {},
   "outputs": [
    {
     "data": {
      "text/plain": [
       "['mopac\\\\COc1ccc2[nH]cc(CCNC(C)=O)c2c1.arc',\n",
       " 'mopac\\\\CS(C)=O.arc',\n",
       " 'mopac\\\\N=O.arc',\n",
       " 'mopac\\\\Nc1c(O)cccc1C(=O)O.arc',\n",
       " 'mopac\\\\O=C(O)C(=O)Cc1c[nH]c2ccccc12.arc',\n",
       " 'mopac\\\\O=C(O)CCCCC(S)CCS.arc',\n",
       " 'mopac\\\\O=C(O)CCCCC1CCSS1.arc',\n",
       " 'mopac\\\\O=c1[nH]c(=O)c2[nH]c(=O)[nH]c2[nH]1.arc',\n",
       " 'mopac\\\\Oc1ccc(O)cc1.arc',\n",
       " 'mopac\\\\Oc1cccc(O)c1O.arc']"
      ]
     },
     "execution_count": 15,
     "metadata": {},
     "output_type": "execute_result"
    }
   ],
   "source": [
    "files = glob.glob(\"mopac\\*.arc\")\n",
    "files"
   ]
  },
  {
   "cell_type": "code",
   "execution_count": 16,
   "id": "336ab519",
   "metadata": {},
   "outputs": [
    {
     "name": "stdout",
     "output_type": "stream",
     "text": [
      "COc1ccc2[nH]cc(CCNC(C)=O)c2c1\n",
      "-8.09\n",
      "CS(C)=O\n",
      "-8.62\n",
      "N=O\n",
      "-9.9\n",
      "Nc1c(O)cccc1C(=O)O\n",
      "-8.48\n",
      "O=C(O)C(=O)Cc1c[nH]c2ccccc12\n",
      "-8.7\n",
      "O=C(O)CCCCC(S)CCS\n",
      "-9.01\n",
      "O=C(O)CCCCC1CCSS1\n",
      "-8.04\n",
      "O=c1[nH]c(=O)c2[nH]c(=O)[nH]c2[nH]1\n",
      "-9.21\n",
      "Oc1ccc(O)cc1\n",
      "-8.78\n",
      "Oc1cccc(O)c1O\n",
      "-9.25\n"
     ]
    }
   ],
   "source": [
    "names = []\n",
    "List=[]\n",
    "\n",
    "for file in files:\n",
    "    name = os.path.splitext(os.path.basename(file))[0]\n",
    "    names.append(name)\n",
    "    print(name)\n",
    "    with open(file) as f:\n",
    "        # 読み込んだファイルをリストに入れている。\n",
    "        lines = f.readlines()\n",
    "        #stripメソッドで空白や特定文字の削除\n",
    "        lines_strip = [line.strip() for line in lines]\n",
    "        #特定の文字列があるかを判定\n",
    "        HOMO_line = [line for line in lines_strip if 'HOMO' in line]\n",
    "        #空でなかったら、特定の場所にある数字を加えている。\n",
    "        if HOMO_line != []:\n",
    "            HOMO=float(str(HOMO_line[0][30:39]))\n",
    "            print(HOMO)\n",
    "        else:\n",
    "            print(\"error\")\n",
    "        \n",
    "    List.append(HOMO)"
   ]
  },
  {
   "cell_type": "code",
   "execution_count": 17,
   "id": "00418817",
   "metadata": {},
   "outputs": [
    {
     "data": {
      "text/plain": [
       "['COc1ccc2[nH]cc(CCNC(C)=O)c2c1',\n",
       " 'CS(C)=O',\n",
       " 'N=O',\n",
       " 'Nc1c(O)cccc1C(=O)O',\n",
       " 'O=C(O)C(=O)Cc1c[nH]c2ccccc12',\n",
       " 'O=C(O)CCCCC(S)CCS',\n",
       " 'O=C(O)CCCCC1CCSS1',\n",
       " 'O=c1[nH]c(=O)c2[nH]c(=O)[nH]c2[nH]1',\n",
       " 'Oc1ccc(O)cc1',\n",
       " 'Oc1cccc(O)c1O']"
      ]
     },
     "execution_count": 17,
     "metadata": {},
     "output_type": "execute_result"
    }
   ],
   "source": [
    "names"
   ]
  },
  {
   "cell_type": "code",
   "execution_count": 18,
   "id": "e25619d4",
   "metadata": {},
   "outputs": [
    {
     "data": {
      "text/plain": [
       "[-8.09, -8.62, -9.9, -8.48, -8.7, -9.01, -8.04, -9.21, -8.78, -9.25]"
      ]
     },
     "execution_count": 18,
     "metadata": {},
     "output_type": "execute_result"
    }
   ],
   "source": [
    "List"
   ]
  },
  {
   "cell_type": "code",
   "execution_count": 19,
   "id": "53f6ea99",
   "metadata": {
    "scrolled": false
   },
   "outputs": [
    {
     "data": {
      "text/html": [
       "<div>\n",
       "<style scoped>\n",
       "    .dataframe tbody tr th:only-of-type {\n",
       "        vertical-align: middle;\n",
       "    }\n",
       "\n",
       "    .dataframe tbody tr th {\n",
       "        vertical-align: top;\n",
       "    }\n",
       "\n",
       "    .dataframe thead th {\n",
       "        text-align: right;\n",
       "    }\n",
       "</style>\n",
       "<table border=\"1\" class=\"dataframe\">\n",
       "  <thead>\n",
       "    <tr style=\"text-align: right;\">\n",
       "      <th></th>\n",
       "      <th>homo</th>\n",
       "    </tr>\n",
       "  </thead>\n",
       "  <tbody>\n",
       "    <tr>\n",
       "      <th>COc1ccc2[nH]cc(CCNC(C)=O)c2c1</th>\n",
       "      <td>-8.09</td>\n",
       "    </tr>\n",
       "    <tr>\n",
       "      <th>CS(C)=O</th>\n",
       "      <td>-8.62</td>\n",
       "    </tr>\n",
       "    <tr>\n",
       "      <th>N=O</th>\n",
       "      <td>-9.90</td>\n",
       "    </tr>\n",
       "    <tr>\n",
       "      <th>Nc1c(O)cccc1C(=O)O</th>\n",
       "      <td>-8.48</td>\n",
       "    </tr>\n",
       "    <tr>\n",
       "      <th>O=C(O)C(=O)Cc1c[nH]c2ccccc12</th>\n",
       "      <td>-8.70</td>\n",
       "    </tr>\n",
       "    <tr>\n",
       "      <th>O=C(O)CCCCC(S)CCS</th>\n",
       "      <td>-9.01</td>\n",
       "    </tr>\n",
       "    <tr>\n",
       "      <th>O=C(O)CCCCC1CCSS1</th>\n",
       "      <td>-8.04</td>\n",
       "    </tr>\n",
       "    <tr>\n",
       "      <th>O=c1[nH]c(=O)c2[nH]c(=O)[nH]c2[nH]1</th>\n",
       "      <td>-9.21</td>\n",
       "    </tr>\n",
       "    <tr>\n",
       "      <th>Oc1ccc(O)cc1</th>\n",
       "      <td>-8.78</td>\n",
       "    </tr>\n",
       "    <tr>\n",
       "      <th>Oc1cccc(O)c1O</th>\n",
       "      <td>-9.25</td>\n",
       "    </tr>\n",
       "  </tbody>\n",
       "</table>\n",
       "</div>"
      ],
      "text/plain": [
       "                                     homo\n",
       "COc1ccc2[nH]cc(CCNC(C)=O)c2c1       -8.09\n",
       "CS(C)=O                             -8.62\n",
       "N=O                                 -9.90\n",
       "Nc1c(O)cccc1C(=O)O                  -8.48\n",
       "O=C(O)C(=O)Cc1c[nH]c2ccccc12        -8.70\n",
       "O=C(O)CCCCC(S)CCS                   -9.01\n",
       "O=C(O)CCCCC1CCSS1                   -8.04\n",
       "O=c1[nH]c(=O)c2[nH]c(=O)[nH]c2[nH]1 -9.21\n",
       "Oc1ccc(O)cc1                        -8.78\n",
       "Oc1cccc(O)c1O                       -9.25"
      ]
     },
     "execution_count": 19,
     "metadata": {},
     "output_type": "execute_result"
    }
   ],
   "source": [
    "df_read = pd.DataFrame(List, index = names, columns=[\"homo\"])\n",
    "df_read"
   ]
  },
  {
   "cell_type": "code",
   "execution_count": 21,
   "id": "94f97db2",
   "metadata": {},
   "outputs": [],
   "source": [
    "df.to_csv('mopac_calc_antioxidant10.csv')"
   ]
  },
  {
   "cell_type": "markdown",
   "id": "e492909a",
   "metadata": {},
   "source": [
    "# コメント"
   ]
  },
  {
   "cell_type": "markdown",
   "id": "d3bb07b4",
   "metadata": {},
   "source": [
    "1. 並列計算などができるようになったほうが､効率的\n",
    "2. 途中で止められるような工夫\n",
    "3. ファイル整理の工夫\n",
    "4. エラーヘの対処\n",
    "5. 配座探索の方法は他にも色々ある。"
   ]
  },
  {
   "cell_type": "code",
   "execution_count": null,
   "id": "66b1c078",
   "metadata": {},
   "outputs": [],
   "source": []
  }
 ],
 "metadata": {
  "kernelspec": {
   "display_name": "Python 3 (ipykernel)",
   "language": "python",
   "name": "python3"
  },
  "language_info": {
   "codemirror_mode": {
    "name": "ipython",
    "version": 3
   },
   "file_extension": ".py",
   "mimetype": "text/x-python",
   "name": "python",
   "nbconvert_exporter": "python",
   "pygments_lexer": "ipython3",
   "version": "3.8.12"
  },
  "toc": {
   "base_numbering": 1,
   "nav_menu": {},
   "number_sections": true,
   "sideBar": true,
   "skip_h1_title": false,
   "title_cell": "Table of Contents",
   "title_sidebar": "Contents",
   "toc_cell": false,
   "toc_position": {},
   "toc_section_display": true,
   "toc_window_display": false
  }
 },
 "nbformat": 4,
 "nbformat_minor": 5
}
