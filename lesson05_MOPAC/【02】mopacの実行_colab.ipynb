{
  "cells": [
    {
      "cell_type": "markdown",
      "metadata": {
        "id": "view-in-github",
        "colab_type": "text"
      },
      "source": [
        "<a href=\"https://colab.research.google.com/github/chemoinformatics-lecture/lecture-beginner/blob/main/lesson05_MOPAC/%E3%80%9002%E3%80%91mopac%E3%81%AE%E5%AE%9F%E8%A1%8C_colab.ipynb\" target=\"_parent\"><img src=\"https://colab.research.google.com/assets/colab-badge.svg\" alt=\"Open In Colab\"/></a>"
      ]
    },
    {
      "cell_type": "markdown",
      "source": [
        "# google driveへの接続"
      ],
      "metadata": {
        "id": "ppga0btQuZ_k"
      },
      "id": "ppga0btQuZ_k"
    },
    {
      "cell_type": "code",
      "source": [
        "from google.colab import drive\n",
        "drive.mount('/content/drive')"
      ],
      "metadata": {
        "id": "jFJiXn5fuRJ9",
        "outputId": "ff84941e-da77-41cb-da12-6cb123790d5b",
        "colab": {
          "base_uri": "https://localhost:8080/"
        }
      },
      "id": "jFJiXn5fuRJ9",
      "execution_count": 2,
      "outputs": [
        {
          "output_type": "stream",
          "name": "stdout",
          "text": [
            "Drive already mounted at /content/drive; to attempt to forcibly remount, call drive.mount(\"/content/drive\", force_remount=True).\n"
          ]
        }
      ]
    },
    {
      "cell_type": "markdown",
      "source": [
        "# 必要プログラムのインストール"
      ],
      "metadata": {
        "id": "nuAQsGQHupkg"
      },
      "id": "nuAQsGQHupkg"
    },
    {
      "cell_type": "code",
      "source": [
        "!pip install -q condacolab\n",
        "import condacolab\n",
        "condacolab.install()"
      ],
      "metadata": {
        "id": "3TwDM88_G-NB",
        "outputId": "3c36f80d-71d8-449c-f6e3-3486ca57f25e",
        "colab": {
          "base_uri": "https://localhost:8080/"
        }
      },
      "id": "3TwDM88_G-NB",
      "execution_count": 1,
      "outputs": [
        {
          "output_type": "stream",
          "name": "stdout",
          "text": [
            "\u001b[33mWARNING: Running pip as the 'root' user can result in broken permissions and conflicting behaviour with the system package manager. It is recommended to use a virtual environment instead: https://pip.pypa.io/warnings/venv\u001b[0m\u001b[33m\n",
            "\u001b[0m✨🍰✨ Everything looks OK!\n"
          ]
        }
      ]
    },
    {
      "cell_type": "code",
      "source": [
        "!conda install -y -c conda-forge mopac"
      ],
      "metadata": {
        "id": "W7YaDsivHLtG",
        "outputId": "9bcf1e7a-5bdd-41ff-dfe1-fcc327885705",
        "colab": {
          "base_uri": "https://localhost:8080/"
        }
      },
      "id": "W7YaDsivHLtG",
      "execution_count": 3,
      "outputs": [
        {
          "output_type": "stream",
          "name": "stdout",
          "text": [
            "Collecting package metadata (current_repodata.json): - \b\b\\ \b\b| \b\b/ \b\b- \b\b\\ \b\b| \b\b/ \b\b- \b\b\\ \b\b| \b\b/ \b\b- \b\b\\ \b\b| \b\b/ \b\b- \b\b\\ \b\b| \b\b/ \b\b- \b\b\\ \b\b| \b\b/ \b\b- \b\b\\ \b\b| \b\b/ \b\b- \b\b\\ \b\b| \b\b/ \b\b- \b\b\\ \b\b| \b\b/ \b\b- \b\b\\ \b\b| \b\b/ \b\b- \b\b\\ \b\b| \b\b/ \b\b- \b\b\\ \b\b| \b\b/ \b\b- \b\b\\ \b\b| \b\b/ \b\b- \b\b\\ \b\b| \b\b/ \b\b- \b\b\\ \b\b| \b\b/ \b\b- \b\b\\ \b\b| \b\b/ \b\b- \b\b\\ \b\b| \b\b/ \b\b- \b\b\\ \b\b| \b\b/ \b\b- \b\b\\ \b\b| \b\b/ \b\b- \b\b\\ \b\b| \b\b/ \b\b- \b\b\\ \b\b| \b\b/ \b\b- \b\b\\ \b\b| \b\b/ \b\b- \b\b\\ \b\b| \b\b/ \b\b- \b\b\\ \b\b| \b\b/ \b\b- \b\b\\ \b\b| \b\b/ \b\b- \b\b\\ \b\b| \b\b/ \b\b- \b\b\\ \b\b| \b\b/ \b\b- \b\b\\ \b\b| \b\b/ \b\b- \b\b\\ \b\b| \b\b/ \b\b- \b\b\\ \b\b| \b\b/ \b\b- \b\b\\ \b\b| \b\b/ \b\b- \b\b\\ \b\b| \b\b/ \b\b- \b\b\\ \b\b| \b\b/ \b\b- \b\b\\ \b\b| \b\b/ \b\b- \b\b\\ \b\b| \b\b/ \b\b- \b\b\\ \b\b| \b\b/ \b\b- \b\b\\ \b\b| \b\b/ \b\b- \b\b\\ \b\b| \b\b/ \b\b- \b\b\\ \b\b| \b\b/ \b\b- \b\b\\ \b\b| \b\b/ \b\b- \b\b\\ \b\b| \b\b/ \b\b- \b\b\\ \b\b| \b\b/ \b\b- \b\b\\ \b\b| \b\b/ \b\b- \b\b\\ \b\b| \b\b/ \b\b- \b\b\\ \b\b| \b\b/ \b\b- \b\b\\ \b\b| \b\b/ \b\b- \b\b\\ \b\b| \b\b/ \b\b- \b\b\\ \b\b| \b\b/ \b\b- \b\b\\ \b\b| \b\bdone\n",
            "Solving environment: - \b\b\\ \b\b| \b\b/ \b\b- \b\b\\ \b\b| \b\b/ \b\b- \b\b\\ \b\b| \b\b/ \b\b- \b\b\\ \b\b| \b\b/ \b\b- \b\b\\ \b\b| \b\b/ \b\b- \b\b\\ \b\b| \b\b/ \b\bdone\n",
            "\n",
            "\n",
            "==> WARNING: A newer version of conda exists. <==\n",
            "  current version: 23.1.0\n",
            "  latest version: 23.9.0\n",
            "\n",
            "Please update conda by running\n",
            "\n",
            "    $ conda update -n base -c conda-forge conda\n",
            "\n",
            "Or to minimize the number of packages updated during conda update use\n",
            "\n",
            "     conda install conda=23.9.0\n",
            "\n",
            "\n",
            "\n",
            "## Package Plan ##\n",
            "\n",
            "  environment location: /usr/local\n",
            "\n",
            "  added / updated specs:\n",
            "    - mopac\n",
            "\n",
            "\n",
            "The following packages will be downloaded:\n",
            "\n",
            "    package                    |            build\n",
            "    ---------------------------|-----------------\n",
            "    ca-certificates-2023.7.22  |       hbcca054_0         146 KB  conda-forge\n",
            "    certifi-2023.7.22          |     pyhd8ed1ab_0         150 KB  conda-forge\n",
            "    libblas-3.9.0              |19_linux64_openblas          14 KB  conda-forge\n",
            "    libgfortran-ng-13.2.0      |       h69a702a_0          23 KB  conda-forge\n",
            "    libgfortran5-13.2.0        |       ha4646dd_0         1.4 MB  conda-forge\n",
            "    liblapack-3.9.0            |19_linux64_openblas          14 KB  conda-forge\n",
            "    libopenblas-0.3.24         |pthreads_h413a1c8_0         5.2 MB  conda-forge\n",
            "    mopac-22.1.0               |       hf49bc11_0         2.0 MB  conda-forge\n",
            "    openssl-3.1.4              |       hd590300_0         2.5 MB  conda-forge\n",
            "    ------------------------------------------------------------\n",
            "                                           Total:        11.5 MB\n",
            "\n",
            "The following NEW packages will be INSTALLED:\n",
            "\n",
            "  libblas            conda-forge/linux-64::libblas-3.9.0-19_linux64_openblas \n",
            "  libgfortran-ng     conda-forge/linux-64::libgfortran-ng-13.2.0-h69a702a_0 \n",
            "  libgfortran5       conda-forge/linux-64::libgfortran5-13.2.0-ha4646dd_0 \n",
            "  liblapack          conda-forge/linux-64::liblapack-3.9.0-19_linux64_openblas \n",
            "  libopenblas        conda-forge/linux-64::libopenblas-0.3.24-pthreads_h413a1c8_0 \n",
            "  mopac              conda-forge/linux-64::mopac-22.1.0-hf49bc11_0 \n",
            "\n",
            "The following packages will be UPDATED:\n",
            "\n",
            "  ca-certificates                      2022.12.7-ha878542_0 --> 2023.7.22-hbcca054_0 \n",
            "  certifi                            2022.12.7-pyhd8ed1ab_0 --> 2023.7.22-pyhd8ed1ab_0 \n",
            "  openssl                                  3.1.0-h0b41bf4_0 --> 3.1.4-hd590300_0 \n",
            "\n",
            "\n",
            "\n",
            "Downloading and Extracting Packages\n",
            "libgfortran-ng-13.2. | 23 KB     | :   0% 0/1 [00:00<?, ?it/s]\n",
            "libblas-3.9.0        | 14 KB     | :   0% 0/1 [00:00<?, ?it/s]\u001b[A\n",
            "\n",
            "libgfortran5-13.2.0  | 1.4 MB    | :   0% 0/1 [00:00<?, ?it/s]\u001b[A\u001b[A\n",
            "\n",
            "\n",
            "liblapack-3.9.0      | 14 KB     | :   0% 0/1 [00:00<?, ?it/s]\u001b[A\u001b[A\u001b[A\n",
            "\n",
            "\n",
            "\n",
            "certifi-2023.7.22    | 150 KB    | :   0% 0/1 [00:00<?, ?it/s]\u001b[A\u001b[A\u001b[A\u001b[A\n",
            "\n",
            "\n",
            "\n",
            "\n",
            "mopac-22.1.0         | 2.0 MB    | :   0% 0/1 [00:00<?, ?it/s]\u001b[A\u001b[A\u001b[A\u001b[A\u001b[A\n",
            "\n",
            "\n",
            "\n",
            "\n",
            "\n",
            "ca-certificates-2023 | 146 KB    | :   0% 0/1 [00:00<?, ?it/s]\u001b[A\u001b[A\u001b[A\u001b[A\u001b[A\u001b[A\n",
            "\n",
            "\n",
            "\n",
            "\n",
            "\n",
            "\n",
            "libopenblas-0.3.24   | 5.2 MB    | :   0% 0/1 [00:00<?, ?it/s]\u001b[A\u001b[A\u001b[A\u001b[A\u001b[A\u001b[A\u001b[A\n",
            "\n",
            "\n",
            "\n",
            "\n",
            "\n",
            "\n",
            "\n",
            "openssl-3.1.4        | 2.5 MB    | :   0% 0/1 [00:00<?, ?it/s]\u001b[A\u001b[A\u001b[A\u001b[A\u001b[A\u001b[A\u001b[A\u001b[A\n",
            "libblas-3.9.0        | 14 KB     | : 100% 1.0/1 [00:00<00:00,  8.29it/s]\u001b[A\n",
            "\n",
            "\n",
            "liblapack-3.9.0      | 14 KB     | : 100% 1.0/1 [00:00<00:00,  7.95it/s]\u001b[A\u001b[A\u001b[A\n",
            "\n",
            "libgfortran5-13.2.0  | 1.4 MB    | :   1% 0.011365157717229271/1 [00:00<00:13, 13.77s/it]\u001b[A\u001b[A\n",
            "libblas-3.9.0        | 14 KB     | : 100% 1.0/1 [00:00<00:00,  8.29it/s]\u001b[A\n",
            "\n",
            "\n",
            "\n",
            "certifi-2023.7.22    | 150 KB    | :  11% 0.10653419250801412/1 [00:00<00:01,  1.44s/it]\u001b[A\u001b[A\u001b[A\u001b[A\n",
            "\n",
            "\n",
            "liblapack-3.9.0      | 14 KB     | : 100% 1.0/1 [00:00<00:00,  7.95it/s]\u001b[A\u001b[A\u001b[A\n",
            "\n",
            "\n",
            "\n",
            "\n",
            "\n",
            "libgfortran-ng-13.2. | 23 KB     | :  70% 0.7045366587830574/1 [00:00<00:00,  3.90it/s]\n",
            "\n",
            "\n",
            "\n",
            "\n",
            "mopac-22.1.0         | 2.0 MB    | :   1% 0.007874674251680048/1 [00:00<00:23, 23.30s/it]\u001b[A\u001b[A\u001b[A\u001b[A\u001b[A\n",
            "\n",
            "\n",
            "\n",
            "\n",
            "\n",
            "\n",
            "libopenblas-0.3.24   | 5.2 MB    | :   0% 0.0029831989309718285/1 [00:00<01:04, 65.04s/it]\u001b[A\u001b[A\u001b[A\u001b[A\u001b[A\u001b[A\u001b[A\n",
            "\n",
            "\n",
            "\n",
            "\n",
            "\n",
            "\n",
            "\n",
            "openssl-3.1.4        | 2.5 MB    | :   1% 0.006187297158692239/1 [00:00<00:35, 35.68s/it]\u001b[A\u001b[A\u001b[A\u001b[A\u001b[A\u001b[A\u001b[A\u001b[A\n",
            "\n",
            "\n",
            "\n",
            "certifi-2023.7.22    | 150 KB    | : 100% 1.0/1 [00:00<00:00,  4.50it/s]                \u001b[A\u001b[A\u001b[A\u001b[A\n",
            "\n",
            "\n",
            "\n",
            "certifi-2023.7.22    | 150 KB    | : 100% 1.0/1 [00:00<00:00,  4.50it/s]\u001b[A\u001b[A\u001b[A\u001b[A\n",
            "\n",
            "\n",
            "\n",
            "\n",
            "mopac-22.1.0         | 2.0 MB    | :  87% 0.8662141676848054/1 [00:00<00:00,  3.74it/s]  \u001b[A\u001b[A\u001b[A\u001b[A\u001b[A\n",
            "\n",
            "\n",
            "\n",
            "\n",
            "\n",
            "\n",
            "libgfortran-ng-13.2. | 23 KB     | : 100% 1.0/1 [00:00<00:00,  3.90it/s]               \n",
            "\n",
            "\n",
            "\n",
            "\n",
            "\n",
            "ca-certificates-2023 | 146 KB    | : 100% 1.0/1 [00:00<00:00,  3.60it/s]                \u001b[A\u001b[A\u001b[A\u001b[A\u001b[A\u001b[A\n",
            "\n",
            "\n",
            "\n",
            "\n",
            "\n",
            "ca-certificates-2023 | 146 KB    | : 100% 1.0/1 [00:00<00:00,  3.60it/s]\u001b[A\u001b[A\u001b[A\u001b[A\u001b[A\u001b[A\n",
            "\n",
            "\n",
            "\n",
            "\n",
            "\n",
            "\n",
            "\n",
            "openssl-3.1.4        | 2.5 MB    | :  85% 0.8476597107408367/1 [00:00<00:00,  3.31it/s]  \u001b[A\u001b[A\u001b[A\u001b[A\u001b[A\u001b[A\u001b[A\u001b[A\n",
            "\n",
            "\n",
            "\n",
            "\n",
            "\n",
            "\n",
            "libopenblas-0.3.24   | 5.2 MB    | :  90% 0.903909276084464/1 [00:00<00:00,  3.00it/s]  \u001b[A\u001b[A\u001b[A\u001b[A\u001b[A\u001b[A\u001b[A\n",
            "\n",
            "libgfortran5-13.2.0  | 1.4 MB    | : 100% 1.0/1 [00:00<00:00,  2.51it/s]                 \u001b[A\u001b[A\n",
            "\n",
            "libgfortran5-13.2.0  | 1.4 MB    | : 100% 1.0/1 [00:00<00:00,  2.51it/s]\u001b[A\u001b[A\n",
            "\n",
            "\n",
            "\n",
            "\n",
            "mopac-22.1.0         | 2.0 MB    | : 100% 1.0/1 [00:00<00:00,  3.74it/s]               \u001b[A\u001b[A\u001b[A\u001b[A\u001b[A\n",
            "\n",
            "\n",
            "\n",
            "\n",
            "\n",
            "\n",
            "\n",
            "openssl-3.1.4        | 2.5 MB    | : 100% 1.0/1 [00:00<00:00,  3.31it/s]               \u001b[A\u001b[A\u001b[A\u001b[A\u001b[A\u001b[A\u001b[A\u001b[A\n",
            "\n",
            "\n",
            "\n",
            "\n",
            "\n",
            "\n",
            "                                                                        \n",
            "                                                                        \u001b[A\n",
            "\n",
            "                                                                        \u001b[A\u001b[A\n",
            "\n",
            "\n",
            "                                                                        \u001b[A\u001b[A\u001b[A\n",
            "\n",
            "\n",
            "\n",
            "                                                                        \u001b[A\u001b[A\u001b[A\u001b[A\n",
            "\n",
            "\n",
            "\n",
            "\n",
            "                                                                        \u001b[A\u001b[A\u001b[A\u001b[A\u001b[A\n",
            "\n",
            "\n",
            "\n",
            "\n",
            "\n",
            "                                                                        \u001b[A\u001b[A\u001b[A\u001b[A\u001b[A\u001b[A\n",
            "\n",
            "\n",
            "\n",
            "\n",
            "\n",
            "\n",
            "                                                                        \u001b[A\u001b[A\u001b[A\u001b[A\u001b[A\u001b[A\u001b[A\n",
            "\n",
            "\n",
            "\n",
            "\n",
            "\n",
            "\n",
            "\n",
            "                                                                        \u001b[A\u001b[A\u001b[A\u001b[A\u001b[A\u001b[A\u001b[A\u001b[A\n",
            "Preparing transaction: \\ \b\bdone\n",
            "Verifying transaction: / \b\b- \b\bdone\n",
            "Executing transaction: | \b\b/ \b\b- \b\b\\ \b\b| \b\b/ \b\b- \b\b\\ \b\b| \b\b/ \b\b- \b\b\\ \b\bdone\n"
          ]
        }
      ]
    },
    {
      "cell_type": "markdown",
      "id": "0750344e",
      "metadata": {
        "id": "0750344e"
      },
      "source": [
        "# 単一分子の計算例"
      ]
    },
    {
      "cell_type": "code",
      "execution_count": null,
      "id": "cbb358af",
      "metadata": {
        "id": "cbb358af"
      },
      "outputs": [],
      "source": [
        "import subprocess"
      ]
    },
    {
      "cell_type": "code",
      "execution_count": null,
      "id": "a856c9ee",
      "metadata": {
        "id": "a856c9ee"
      },
      "outputs": [],
      "source": [
        "file_path = \"/content/drive/MyDrive/data/mopac/BEJNERDRQOWKJM-UHFFFAOYSA-N.dat\""
      ]
    },
    {
      "cell_type": "code",
      "execution_count": null,
      "id": "15e90c8c",
      "metadata": {
        "id": "15e90c8c",
        "outputId": "b4a263b9-ed0d-4d29-dcf6-52b51269beae",
        "colab": {
          "base_uri": "https://localhost:8080/"
        }
      },
      "outputs": [
        {
          "output_type": "execute_result",
          "data": {
            "text/plain": [
              "CompletedProcess(args='mopac /content/drive/MyDrive/data/mopac/phenol.dat', returncode=0)"
            ]
          },
          "metadata": {},
          "execution_count": 42
        }
      ],
      "source": [
        "# mopacの後にスペースを1つ開ける。\n",
        "subprocess.run('mopac ' + file_path, shell=True)"
      ]
    },
    {
      "cell_type": "code",
      "execution_count": null,
      "id": "437bfd5a",
      "metadata": {
        "id": "437bfd5a",
        "outputId": "d75e83ed-2e9f-49e8-ca39-9c612e087adb",
        "colab": {
          "base_uri": "https://localhost:8080/"
        }
      },
      "outputs": [
        {
          "output_type": "stream",
          "name": "stdout",
          "text": [
            "cat: /content/drive/MyDrive/data/mopac/phenol.arc: No such file or directory\n"
          ]
        }
      ],
      "source": [
        "# .datに加えて.out及び.arcが生成されていれば計算ができている。以下は、arcファイルの確認\n",
        "!cat /content/drive/MyDrive/data/mopac/phenol.arc"
      ]
    },
    {
      "cell_type": "code",
      "source": [
        "!cat /content/drive/MyDrive/data/mopac/phenol.out\n",
        "# ourファイルの一番最後にJOB ENDED NORMALLYが書かれていれば、正常終了"
      ],
      "metadata": {
        "id": "WlIej0d24J_y",
        "outputId": "1262163f-6e20-425d-c706-5079700a1f4a",
        "colab": {
          "base_uri": "https://localhost:8080/"
        }
      },
      "id": "WlIej0d24J_y",
      "execution_count": null,
      "outputs": [
        {
          "output_type": "stream",
          "name": "stdout",
          "text": [
            "cat: /content/drive/MyDrive/data/mopac/phenol.out: No such file or directory\n"
          ]
        }
      ]
    },
    {
      "cell_type": "markdown",
      "id": "95c047ac",
      "metadata": {
        "id": "95c047ac"
      },
      "source": [
        "# 複数分子の計算例"
      ]
    },
    {
      "cell_type": "code",
      "execution_count": null,
      "id": "8ee85cd4",
      "metadata": {
        "id": "8ee85cd4"
      },
      "outputs": [],
      "source": [
        "folder_path = \"/content/drive/MyDrive/data/mopac/\""
      ]
    },
    {
      "cell_type": "code",
      "execution_count": null,
      "id": "a4a29a19",
      "metadata": {
        "id": "a4a29a19",
        "outputId": "ef8b0750-a8a0-4cec-c463-dd8c75fe4faa",
        "colab": {
          "base_uri": "https://localhost:8080/"
        }
      },
      "outputs": [
        {
          "output_type": "stream",
          "name": "stderr",
          "text": [
            "100%|██████████| 121/121 [10:38<00:00,  5.28s/it]"
          ]
        },
        {
          "output_type": "stream",
          "name": "stdout",
          "text": [
            "CPU times: user 3.57 s, sys: 1.01 s, total: 4.58 s\n",
            "Wall time: 10min 38s\n"
          ]
        },
        {
          "output_type": "stream",
          "name": "stderr",
          "text": [
            "\n"
          ]
        }
      ],
      "source": [
        "%%time\n",
        "import glob\n",
        "from tqdm import tqdm\n",
        "# tqdmは進行状況を可視化してくれる\n",
        "\n",
        "for file_path in tqdm(glob.glob(folder_path + \"/*.dat\")):\n",
        "  subprocess.run('mopac ' + file_path, shell=True)"
      ]
    },
    {
      "cell_type": "markdown",
      "id": "5b524b74",
      "metadata": {
        "id": "5b524b74"
      },
      "source": [
        "# 同時に複数分子の計算例"
      ]
    },
    {
      "cell_type": "code",
      "source": [
        "import glob\n",
        "# 再計算するために、outファイルとarcファイルを消します。\n",
        "out_files = glob.glob(folder_path + \"/*.out\")\n",
        "arc_files = glob.glob(folder_path + \"/*.arc\")\n",
        "\n",
        "import os\n",
        "for file in arc_files:\n",
        "  os.remove(file)\n",
        "for file in out_files:\n",
        "  os.remove(file)"
      ],
      "metadata": {
        "id": "i6WtFi8c5Njo"
      },
      "id": "i6WtFi8c5Njo",
      "execution_count": null,
      "outputs": []
    },
    {
      "cell_type": "code",
      "source": [
        "# multiprocessingを導入してみます。\n",
        "from multiprocessing import Pool\n",
        "import multiprocessing\n",
        "multiprocessing.cpu_count()"
      ],
      "metadata": {
        "id": "L6ttC_D_3WRN",
        "outputId": "f342d206-3d95-4a3c-d4e3-288bf13fd58c",
        "colab": {
          "base_uri": "https://localhost:8080/"
        }
      },
      "id": "L6ttC_D_3WRN",
      "execution_count": null,
      "outputs": [
        {
          "output_type": "execute_result",
          "data": {
            "text/plain": [
              "2"
            ]
          },
          "metadata": {},
          "execution_count": 48
        }
      ]
    },
    {
      "cell_type": "code",
      "source": [
        "# mopacを実行するための関数\n",
        "def mopac_run(file_path):\n",
        "    subprocess.run('mopac ' + file_path, shell=True)"
      ],
      "metadata": {
        "id": "5-PcIuU95u_u"
      },
      "id": "5-PcIuU95u_u",
      "execution_count": null,
      "outputs": []
    },
    {
      "cell_type": "code",
      "source": [
        "# 計算するファイル群\n",
        "calc_files = glob.glob(folder_path + \"/*.dat\")"
      ],
      "metadata": {
        "id": "x9rsPZWM_mdT"
      },
      "id": "x9rsPZWM_mdT",
      "execution_count": null,
      "outputs": []
    },
    {
      "cell_type": "code",
      "execution_count": null,
      "id": "42cd85c6",
      "metadata": {
        "id": "42cd85c6"
      },
      "outputs": [],
      "source": [
        "# 並行して行う処理数。増やしすぎても遅くなります。\n",
        "p = Pool(2)"
      ]
    },
    {
      "cell_type": "code",
      "source": [
        "%%time\n",
        "# 並列処理によって、計算終了までの時間が速くなります。\n",
        "p.map(mopac_run, calc_files)"
      ],
      "metadata": {
        "id": "F6Xlopjs3NYd",
        "outputId": "32a3389c-842d-427c-939f-bcad060c2356",
        "colab": {
          "base_uri": "https://localhost:8080/"
        }
      },
      "id": "F6Xlopjs3NYd",
      "execution_count": null,
      "outputs": [
        {
          "output_type": "stream",
          "name": "stdout",
          "text": [
            "CPU times: user 3.07 s, sys: 518 ms, total: 3.59 s\n",
            "Wall time: 8min 35s\n"
          ]
        },
        {
          "output_type": "execute_result",
          "data": {
            "text/plain": [
              "[None,\n",
              " None,\n",
              " None,\n",
              " None,\n",
              " None,\n",
              " None,\n",
              " None,\n",
              " None,\n",
              " None,\n",
              " None,\n",
              " None,\n",
              " None,\n",
              " None,\n",
              " None,\n",
              " None,\n",
              " None,\n",
              " None,\n",
              " None,\n",
              " None,\n",
              " None,\n",
              " None,\n",
              " None,\n",
              " None,\n",
              " None,\n",
              " None,\n",
              " None,\n",
              " None,\n",
              " None,\n",
              " None,\n",
              " None,\n",
              " None,\n",
              " None,\n",
              " None,\n",
              " None,\n",
              " None,\n",
              " None,\n",
              " None,\n",
              " None,\n",
              " None,\n",
              " None,\n",
              " None,\n",
              " None,\n",
              " None,\n",
              " None,\n",
              " None,\n",
              " None,\n",
              " None,\n",
              " None,\n",
              " None,\n",
              " None,\n",
              " None,\n",
              " None,\n",
              " None,\n",
              " None,\n",
              " None,\n",
              " None,\n",
              " None,\n",
              " None,\n",
              " None,\n",
              " None,\n",
              " None,\n",
              " None,\n",
              " None,\n",
              " None,\n",
              " None,\n",
              " None,\n",
              " None,\n",
              " None,\n",
              " None,\n",
              " None,\n",
              " None,\n",
              " None,\n",
              " None,\n",
              " None,\n",
              " None,\n",
              " None,\n",
              " None,\n",
              " None,\n",
              " None,\n",
              " None,\n",
              " None,\n",
              " None,\n",
              " None,\n",
              " None,\n",
              " None,\n",
              " None,\n",
              " None,\n",
              " None,\n",
              " None,\n",
              " None,\n",
              " None,\n",
              " None,\n",
              " None,\n",
              " None,\n",
              " None,\n",
              " None,\n",
              " None,\n",
              " None,\n",
              " None,\n",
              " None,\n",
              " None,\n",
              " None,\n",
              " None,\n",
              " None,\n",
              " None,\n",
              " None,\n",
              " None,\n",
              " None,\n",
              " None,\n",
              " None,\n",
              " None,\n",
              " None,\n",
              " None,\n",
              " None,\n",
              " None,\n",
              " None,\n",
              " None,\n",
              " None,\n",
              " None,\n",
              " None,\n",
              " None]"
            ]
          },
          "metadata": {},
          "execution_count": 52
        }
      ]
    }
  ],
  "metadata": {
    "kernelspec": {
      "display_name": "Python 3 (ipykernel)",
      "language": "python",
      "name": "python3"
    },
    "language_info": {
      "codemirror_mode": {
        "name": "ipython",
        "version": 3
      },
      "file_extension": ".py",
      "mimetype": "text/x-python",
      "name": "python",
      "nbconvert_exporter": "python",
      "pygments_lexer": "ipython3",
      "version": "3.8.13"
    },
    "colab": {
      "provenance": [],
      "include_colab_link": true
    }
  },
  "nbformat": 4,
  "nbformat_minor": 5
}