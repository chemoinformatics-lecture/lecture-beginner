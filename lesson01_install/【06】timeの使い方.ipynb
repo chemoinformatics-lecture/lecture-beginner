{
 "cells": [
  {
   "cell_type": "code",
   "execution_count": 1,
   "id": "9d8d11cf",
   "metadata": {},
   "outputs": [],
   "source": [
    "import time"
   ]
  },
  {
   "cell_type": "code",
   "execution_count": 2,
   "id": "3ba761d2",
   "metadata": {},
   "outputs": [
    {
     "name": "stdout",
     "output_type": "stream",
     "text": [
      "time:1.0822210311889648[s]\n"
     ]
    }
   ],
   "source": [
    "start = time.time()\n",
    "\n",
    "a = [x ** 2 for x in range(1000000)]\n",
    "b = [x ** 2 for x in range(1000000)]\n",
    "c = [x ** 2 for x in range(1000000)]\n",
    "d = [x ** 2 for x in range(1000000)]\n",
    "e = [x ** 2 for x in range(1000000)]\n",
    "\n",
    "end = time.time()\n",
    "total_time = end - start\n",
    "print(\"time:{0}\".format(total_time) + \"[s]\")"
   ]
  },
  {
   "cell_type": "code",
   "execution_count": 3,
   "id": "799a9e62",
   "metadata": {},
   "outputs": [],
   "source": [
    "end=time.time()\n",
    "total_time = end - start"
   ]
  },
  {
   "cell_type": "code",
   "execution_count": 4,
   "id": "3eb15328",
   "metadata": {},
   "outputs": [
    {
     "name": "stdout",
     "output_type": "stream",
     "text": [
      "time:2.399667978286743[s]\n"
     ]
    }
   ],
   "source": [
    "print(\"time:{0}\".format(total_time) + \"[s]\")"
   ]
  },
  {
   "cell_type": "code",
   "execution_count": 5,
   "id": "60d56386",
   "metadata": {},
   "outputs": [
    {
     "name": "stdout",
     "output_type": "stream",
     "text": [
      "CPU times: user 2.02 s, sys: 97.1 ms, total: 2.11 s\n",
      "Wall time: 2.14 s\n"
     ]
    }
   ],
   "source": [
    "%%time\n",
    "a = [x ** 2 for x in range(10000000)]"
   ]
  },
  {
   "cell_type": "code",
   "execution_count": 6,
   "id": "500f3c63",
   "metadata": {},
   "outputs": [
    {
     "name": "stdout",
     "output_type": "stream",
     "text": [
      "CPU times: user 2.53 s, sys: 140 ms, total: 2.67 s\n",
      "Wall time: 2.72 s\n"
     ]
    }
   ],
   "source": [
    "%%time\n",
    "a = []\n",
    "for x in range(10000000):\n",
    "    a.append(x ** 2)"
   ]
  },
  {
   "cell_type": "code",
   "execution_count": 7,
   "id": "18f770d6",
   "metadata": {},
   "outputs": [
    {
     "name": "stdout",
     "output_type": "stream",
     "text": [
      "CPU times: user 1.09 s, sys: 117 ms, total: 1.21 s\n",
      "Wall time: 1.24 s\n"
     ]
    }
   ],
   "source": [
    "%%time\n",
    "a = [x ** 2 for x in range(1000000)]\n",
    "b = [x ** 2 for x in range(1000000)]\n",
    "c = [x ** 2 for x in range(1000000)]\n",
    "d = [x ** 2 for x in range(1000000)]\n",
    "e = [x ** 2 for x in range(1000000)]"
   ]
  },
  {
   "cell_type": "code",
   "execution_count": 8,
   "id": "f9cf1a0e",
   "metadata": {},
   "outputs": [
    {
     "name": "stdout",
     "output_type": "stream",
     "text": [
      "CPU times: user 217 ms, sys: 19.6 ms, total: 237 ms\n",
      "Wall time: 244 ms\n"
     ]
    }
   ],
   "source": [
    "a = [x ** 2 for x in range(1000000)]\n",
    "b = [x ** 2 for x in range(1000000)]\n",
    "c = [x ** 2 for x in range(1000000)]\n",
    "%time d = [x ** 2 for x in range(1000000)]\n",
    "e = [x ** 2 for x in range(1000000)]"
   ]
  },
  {
   "cell_type": "markdown",
   "id": "118d14ec",
   "metadata": {},
   "source": [
    "# コメント"
   ]
  },
  {
   "cell_type": "markdown",
   "id": "149ec889",
   "metadata": {},
   "source": [
    "CPU times: CPU時間 <br>\n",
    "user: ユーザースペースで CPU が利用された時間<br>\n",
    "sys: カーネルスペースで CPU が利用された時間<br>\n",
    "total: CPU が利用された時間の合計 (total = user + sys)<br>\n",
    "Wall time: 全体の実行時間"
   ]
  }
 ],
 "metadata": {
  "kernelspec": {
   "display_name": "Python 3 (ipykernel)",
   "language": "python",
   "name": "python3"
  },
  "language_info": {
   "codemirror_mode": {
    "name": "ipython",
    "version": 3
   },
   "file_extension": ".py",
   "mimetype": "text/x-python",
   "name": "python",
   "nbconvert_exporter": "python",
   "pygments_lexer": "ipython3",
   "version": "3.8.13"
  }
 },
 "nbformat": 4,
 "nbformat_minor": 5
}
