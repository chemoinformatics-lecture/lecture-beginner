{
  "cells": [
    {
      "cell_type": "markdown",
      "metadata": {
        "id": "view-in-github",
        "colab_type": "text"
      },
      "source": [
        "<a href=\"https://colab.research.google.com/github/chemoinformatics-lecture/lecture-beginner/blob/main/lesson01_install/%E3%80%9006%E3%80%91time%E3%81%AE%E4%BD%BF%E3%81%84%E6%96%B9.ipynb\" target=\"_parent\"><img src=\"https://colab.research.google.com/assets/colab-badge.svg\" alt=\"Open In Colab\"/></a>"
      ]
    },
    {
      "cell_type": "markdown",
      "source": [
        "## Time関数を利用したプログラムの実行時間の測定"
      ],
      "metadata": {
        "id": "XLrdVouVhKqb"
      },
      "id": "XLrdVouVhKqb"
    },
    {
      "cell_type": "code",
      "execution_count": 1,
      "id": "9d8d11cf",
      "metadata": {
        "id": "9d8d11cf"
      },
      "outputs": [],
      "source": [
        "import time"
      ]
    },
    {
      "cell_type": "code",
      "execution_count": 2,
      "id": "3ba761d2",
      "metadata": {
        "id": "3ba761d2",
        "outputId": "f3738ee1-cb2b-4482-9b07-7ad3e83613fa",
        "colab": {
          "base_uri": "https://localhost:8080/"
        }
      },
      "outputs": [
        {
          "output_type": "stream",
          "name": "stdout",
          "text": [
            "time:1.8372220993041992[s]\n"
          ]
        }
      ],
      "source": [
        "start = time.time()\n",
        "\n",
        "a = [x ** 2 for x in range(1000000)]\n",
        "b = [x ** 2 for x in range(1000000)]\n",
        "c = [x ** 2 for x in range(1000000)]\n",
        "d = [x ** 2 for x in range(1000000)]\n",
        "e = [x ** 2 for x in range(1000000)]\n",
        "\n",
        "end = time.time()\n",
        "total_time = end - start\n",
        "print(f\"time:{total_time}\" + \"[s]\")"
      ]
    },
    {
      "cell_type": "code",
      "execution_count": 3,
      "id": "799a9e62",
      "metadata": {
        "id": "799a9e62"
      },
      "outputs": [],
      "source": [
        "end=time.time()\n",
        "total_time = end - start"
      ]
    },
    {
      "cell_type": "code",
      "execution_count": 4,
      "id": "3eb15328",
      "metadata": {
        "id": "3eb15328",
        "outputId": "8a44b61d-3981-43d8-9bb4-5f8a81acd5c7",
        "colab": {
          "base_uri": "https://localhost:8080/"
        }
      },
      "outputs": [
        {
          "output_type": "stream",
          "name": "stdout",
          "text": [
            "time:1.8501017093658447[s]\n"
          ]
        }
      ],
      "source": [
        "print(f\"time:{total_time}\" + \"[s]\")"
      ]
    },
    {
      "cell_type": "markdown",
      "source": [
        "## マジックコマンドを利用した時間測定"
      ],
      "metadata": {
        "id": "sfEPslu8hfNh"
      },
      "id": "sfEPslu8hfNh"
    },
    {
      "cell_type": "code",
      "execution_count": 5,
      "id": "500f3c63",
      "metadata": {
        "id": "500f3c63",
        "outputId": "179f8fbd-6f6a-4a3c-d986-e257d66f1419",
        "colab": {
          "base_uri": "https://localhost:8080/"
        }
      },
      "outputs": [
        {
          "output_type": "stream",
          "name": "stdout",
          "text": [
            "CPU times: user 4.3 s, sys: 305 ms, total: 4.6 s\n",
            "Wall time: 5.08 s\n"
          ]
        }
      ],
      "source": [
        "%%time\n",
        "a = []\n",
        "for x in range(10000000):\n",
        "    a.append(x ** 2)"
      ]
    },
    {
      "cell_type": "code",
      "execution_count": 6,
      "id": "60d56386",
      "metadata": {
        "id": "60d56386",
        "outputId": "11d0daff-e82a-4a7c-861a-5d192c4e7c5a",
        "colab": {
          "base_uri": "https://localhost:8080/"
        }
      },
      "outputs": [
        {
          "output_type": "stream",
          "name": "stdout",
          "text": [
            "CPU times: user 2.89 s, sys: 208 ms, total: 3.1 s\n",
            "Wall time: 3.12 s\n"
          ]
        }
      ],
      "source": [
        "%%time\n",
        "a = [x ** 2 for x in range(10000000)]"
      ]
    },
    {
      "cell_type": "code",
      "execution_count": 7,
      "id": "18f770d6",
      "metadata": {
        "id": "18f770d6",
        "outputId": "dd782943-12b0-45d0-fe91-6c7f8b5b7c78",
        "colab": {
          "base_uri": "https://localhost:8080/"
        }
      },
      "outputs": [
        {
          "output_type": "stream",
          "name": "stdout",
          "text": [
            "CPU times: user 1.7 s, sys: 144 ms, total: 1.84 s\n",
            "Wall time: 1.85 s\n"
          ]
        }
      ],
      "source": [
        "%%time\n",
        "a = [x ** 2 for x in range(1000000)]\n",
        "b = [x ** 2 for x in range(1000000)]\n",
        "c = [x ** 2 for x in range(1000000)]\n",
        "d = [x ** 2 for x in range(1000000)]\n",
        "e = [x ** 2 for x in range(1000000)]"
      ]
    },
    {
      "cell_type": "code",
      "execution_count": 8,
      "id": "f9cf1a0e",
      "metadata": {
        "id": "f9cf1a0e",
        "outputId": "3224e1b9-d4ad-48ab-ac4f-c71eb6a19ecd",
        "colab": {
          "base_uri": "https://localhost:8080/"
        }
      },
      "outputs": [
        {
          "output_type": "stream",
          "name": "stdout",
          "text": [
            "CPU times: user 332 ms, sys: 24 ms, total: 356 ms\n",
            "Wall time: 387 ms\n"
          ]
        }
      ],
      "source": [
        "a = [x ** 2 for x in range(1000000)]\n",
        "b = [x ** 2 for x in range(1000000)]\n",
        "c = [x ** 2 for x in range(1000000)]\n",
        "%time d = [x ** 2 for x in range(1000000)]\n",
        "e = [x ** 2 for x in range(1000000)]"
      ]
    },
    {
      "cell_type": "markdown",
      "id": "118d14ec",
      "metadata": {
        "id": "118d14ec"
      },
      "source": [
        "# コメント"
      ]
    },
    {
      "cell_type": "markdown",
      "id": "149ec889",
      "metadata": {
        "id": "149ec889"
      },
      "source": [
        "CPU times: CPU時間 <br>\n",
        "user: ユーザースペースで CPU が利用された時間<br>\n",
        "sys: カーネルスペースで CPU が利用された時間<br>\n",
        "total: CPU が利用された時間の合計 (total = user + sys)<br>\n",
        "Wall time: 全体の実行時間"
      ]
    }
  ],
  "metadata": {
    "kernelspec": {
      "display_name": "Python 3 (ipykernel)",
      "language": "python",
      "name": "python3"
    },
    "language_info": {
      "codemirror_mode": {
        "name": "ipython",
        "version": 3
      },
      "file_extension": ".py",
      "mimetype": "text/x-python",
      "name": "python",
      "nbconvert_exporter": "python",
      "pygments_lexer": "ipython3",
      "version": "3.8.13"
    },
    "colab": {
      "provenance": [],
      "include_colab_link": true
    }
  },
  "nbformat": 4,
  "nbformat_minor": 5
}