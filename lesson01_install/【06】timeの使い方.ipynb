{
  "cells": [
    {
      "cell_type": "markdown",
      "metadata": {
        "id": "view-in-github",
        "colab_type": "text"
      },
      "source": [
        "<a href=\"https://colab.research.google.com/github/chemoinformatics-lecture/lecture-beginner/blob/main/lesson01_install/%E3%80%9006%E3%80%91time%E3%81%AE%E4%BD%BF%E3%81%84%E6%96%B9.ipynb\" target=\"_parent\"><img src=\"https://colab.research.google.com/assets/colab-badge.svg\" alt=\"Open In Colab\"/></a>"
      ]
    },
    {
      "cell_type": "markdown",
      "source": [
        "## Time関数を利用したプログラムの実行時間の測定"
      ],
      "metadata": {
        "id": "XLrdVouVhKqb"
      },
      "id": "XLrdVouVhKqb"
    },
    {
      "cell_type": "code",
      "execution_count": 1,
      "id": "9d8d11cf",
      "metadata": {
        "id": "9d8d11cf"
      },
      "outputs": [],
      "source": [
        "import time"
      ]
    },
    {
      "cell_type": "code",
      "execution_count": 2,
      "id": "3ba761d2",
      "metadata": {
        "id": "3ba761d2",
        "outputId": "4f868c2d-52c2-4665-aba0-815718acc1ba",
        "colab": {
          "base_uri": "https://localhost:8080/"
        }
      },
      "outputs": [
        {
          "output_type": "stream",
          "name": "stdout",
          "text": [
            "time:1.84[s]\n"
          ]
        }
      ],
      "source": [
        "start = time.time()\n",
        "\n",
        "a = [x ** 2 for x in range(1000000)]\n",
        "b = [x ** 2 for x in range(1000000)]\n",
        "c = [x ** 2 for x in range(1000000)]\n",
        "d = [x ** 2 for x in range(1000000)]\n",
        "e = [x ** 2 for x in range(1000000)]\n",
        "\n",
        "end = time.time()\n",
        "total_time = end - start\n",
        "print(f\"time:{total_time:.2f}\" + \"[s]\")"
      ]
    },
    {
      "cell_type": "code",
      "execution_count": 3,
      "id": "799a9e62",
      "metadata": {
        "id": "799a9e62"
      },
      "outputs": [],
      "source": [
        "end=time.time()\n",
        "total_time = end - start"
      ]
    },
    {
      "cell_type": "code",
      "execution_count": 4,
      "id": "3eb15328",
      "metadata": {
        "id": "3eb15328",
        "outputId": "54132973-cf40-4053-c60c-28ed9f7f8d89",
        "colab": {
          "base_uri": "https://localhost:8080/"
        }
      },
      "outputs": [
        {
          "output_type": "stream",
          "name": "stdout",
          "text": [
            "time:1.85[s]\n"
          ]
        }
      ],
      "source": [
        "print(f\"time:{total_time:.2f}\" + \"[s]\")"
      ]
    },
    {
      "cell_type": "markdown",
      "source": [
        "## マジックコマンドを利用した時間測定"
      ],
      "metadata": {
        "id": "sfEPslu8hfNh"
      },
      "id": "sfEPslu8hfNh"
    },
    {
      "cell_type": "code",
      "execution_count": 5,
      "id": "60d56386",
      "metadata": {
        "id": "60d56386",
        "outputId": "894c7b43-ae77-43ae-ae2a-d255740f2de1",
        "colab": {
          "base_uri": "https://localhost:8080/"
        }
      },
      "outputs": [
        {
          "output_type": "stream",
          "name": "stdout",
          "text": [
            "CPU times: user 3.31 s, sys: 311 ms, total: 3.62 s\n",
            "Wall time: 4.1 s\n"
          ]
        }
      ],
      "source": [
        "%%time\n",
        "a = [x ** 2 for x in range(10000000)]"
      ]
    },
    {
      "cell_type": "code",
      "execution_count": 6,
      "id": "500f3c63",
      "metadata": {
        "id": "500f3c63",
        "outputId": "58797c09-fddc-4499-9169-0ae32a2eff47",
        "colab": {
          "base_uri": "https://localhost:8080/"
        }
      },
      "outputs": [
        {
          "output_type": "stream",
          "name": "stdout",
          "text": [
            "CPU times: user 3.79 s, sys: 208 ms, total: 4 s\n",
            "Wall time: 4.07 s\n"
          ]
        }
      ],
      "source": [
        "%%time\n",
        "a = []\n",
        "for x in range(10000000):\n",
        "    a.append(x ** 2)"
      ]
    },
    {
      "cell_type": "markdown",
      "source": [
        "## 全体を測定するときは%%timeで部分的に測定するときは%timeを使う。"
      ],
      "metadata": {
        "id": "N-WvPL4UD02x"
      },
      "id": "N-WvPL4UD02x"
    },
    {
      "cell_type": "code",
      "execution_count": 7,
      "id": "18f770d6",
      "metadata": {
        "id": "18f770d6",
        "outputId": "dcb9eb99-4baf-4107-c713-ff4de56c9d73",
        "colab": {
          "base_uri": "https://localhost:8080/"
        }
      },
      "outputs": [
        {
          "output_type": "stream",
          "name": "stdout",
          "text": [
            "CPU times: user 1.55 s, sys: 131 ms, total: 1.68 s\n",
            "Wall time: 1.69 s\n"
          ]
        }
      ],
      "source": [
        "%%time\n",
        "a = [x ** 2 for x in range(1000000)]\n",
        "b = [x ** 2 for x in range(1000000)]\n",
        "c = [x ** 2 for x in range(1000000)]\n",
        "d = [x ** 2 for x in range(1000000)]\n",
        "e = [x ** 2 for x in range(1000000)]"
      ]
    },
    {
      "cell_type": "code",
      "execution_count": 8,
      "id": "f9cf1a0e",
      "metadata": {
        "id": "f9cf1a0e",
        "outputId": "6f90ce94-3ed0-476f-8d84-7856b152273d",
        "colab": {
          "base_uri": "https://localhost:8080/"
        }
      },
      "outputs": [
        {
          "output_type": "stream",
          "name": "stdout",
          "text": [
            "CPU times: user 285 ms, sys: 21.9 ms, total: 307 ms\n",
            "Wall time: 319 ms\n"
          ]
        }
      ],
      "source": [
        "a = [x ** 2 for x in range(1000000)]\n",
        "b = [x ** 2 for x in range(1000000)]\n",
        "c = [x ** 2 for x in range(1000000)]\n",
        "%time d = [x ** 2 for x in range(1000000)]\n",
        "e = [x ** 2 for x in range(1000000)]"
      ]
    },
    {
      "cell_type": "markdown",
      "id": "118d14ec",
      "metadata": {
        "id": "118d14ec"
      },
      "source": [
        "# コメント"
      ]
    },
    {
      "cell_type": "markdown",
      "id": "149ec889",
      "metadata": {
        "id": "149ec889"
      },
      "source": [
        "CPU times: CPU時間 <br>\n",
        "user: ユーザースペースで CPU が利用された時間<br>\n",
        "sys: カーネルスペースで CPU が利用された時間<br>\n",
        "total: CPU が利用された時間の合計 (total = user + sys)<br>\n",
        "Wall time: 全体の実行時間"
      ]
    }
  ],
  "metadata": {
    "kernelspec": {
      "display_name": "Python 3 (ipykernel)",
      "language": "python",
      "name": "python3"
    },
    "language_info": {
      "codemirror_mode": {
        "name": "ipython",
        "version": 3
      },
      "file_extension": ".py",
      "mimetype": "text/x-python",
      "name": "python",
      "nbconvert_exporter": "python",
      "pygments_lexer": "ipython3",
      "version": "3.8.13"
    },
    "colab": {
      "provenance": [],
      "include_colab_link": true
    }
  },
  "nbformat": 4,
  "nbformat_minor": 5
}