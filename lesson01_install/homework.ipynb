{
 "cells": [
  {
   "cell_type": "markdown",
   "id": "57733624",
   "metadata": {},
   "source": [
    "# 問題１pythonのversionを、jupyter notebook上に出力してください。"
   ]
  },
  {
   "cell_type": "code",
   "execution_count": null,
   "id": "60616788",
   "metadata": {},
   "outputs": [],
   "source": []
  },
  {
   "cell_type": "markdown",
   "id": "bb6db6f4",
   "metadata": {},
   "source": [
    "# 問題２ timeをimportしてUNIX時間を表示させてください。"
   ]
  },
  {
   "cell_type": "code",
   "execution_count": null,
   "id": "e84978e5",
   "metadata": {},
   "outputs": [],
   "source": []
  },
  {
   "cell_type": "markdown",
   "id": "be5ba9e9",
   "metadata": {},
   "source": [
    "# 問題３ 0から1000までの奇数が入ったリストを作成して、そのプログラムの実行時間を測定してください。"
   ]
  },
  {
   "cell_type": "code",
   "execution_count": null,
   "id": "784732dd",
   "metadata": {},
   "outputs": [],
   "source": []
  }
 ],
 "metadata": {
  "kernelspec": {
   "display_name": "Python 3 (ipykernel)",
   "language": "python",
   "name": "python3"
  },
  "language_info": {
   "codemirror_mode": {
    "name": "ipython",
    "version": 3
   },
   "file_extension": ".py",
   "mimetype": "text/x-python",
   "name": "python",
   "nbconvert_exporter": "python",
   "pygments_lexer": "ipython3",
   "version": "3.8.11"
  }
 },
 "nbformat": 4,
 "nbformat_minor": 5
}
