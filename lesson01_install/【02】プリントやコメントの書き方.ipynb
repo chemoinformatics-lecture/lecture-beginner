{
  "cells": [
    {
      "cell_type": "markdown",
      "metadata": {
        "id": "view-in-github",
        "colab_type": "text"
      },
      "source": [
        "<a href=\"https://colab.research.google.com/github/chemoinformatics-lecture/lecture-beginner/blob/main/lesson01_install/%E3%80%9002%E3%80%91%E3%83%97%E3%83%AA%E3%83%B3%E3%83%88%E3%82%84%E3%82%B3%E3%83%A1%E3%83%B3%E3%83%88%E3%81%AE%E6%9B%B8%E3%81%8D%E6%96%B9.ipynb\" target=\"_parent\"><img src=\"https://colab.research.google.com/assets/colab-badge.svg\" alt=\"Open In Colab\"/></a>"
      ]
    },
    {
      "cell_type": "markdown",
      "id": "dec55c57",
      "metadata": {
        "id": "dec55c57"
      },
      "source": [
        "# はじめに"
      ]
    },
    {
      "cell_type": "code",
      "execution_count": null,
      "id": "e88feca4",
      "metadata": {
        "colab": {
          "base_uri": "https://localhost:8080/"
        },
        "id": "e88feca4",
        "outputId": "dc889eb9-90ac-437b-eb37-29645f5cc635"
      },
      "outputs": [
        {
          "output_type": "stream",
          "name": "stdout",
          "text": [
            "Hello World\n"
          ]
        }
      ],
      "source": [
        "print(\"Hello World\")"
      ]
    },
    {
      "cell_type": "code",
      "execution_count": null,
      "id": "9ecbe704",
      "metadata": {
        "id": "9ecbe704"
      },
      "outputs": [],
      "source": [
        "a = 5"
      ]
    },
    {
      "cell_type": "code",
      "execution_count": null,
      "id": "f5eb8764",
      "metadata": {
        "id": "f5eb8764"
      },
      "outputs": [],
      "source": [
        "b = 4"
      ]
    },
    {
      "cell_type": "code",
      "execution_count": null,
      "id": "1b509a7f",
      "metadata": {
        "colab": {
          "base_uri": "https://localhost:8080/"
        },
        "id": "1b509a7f",
        "outputId": "9514c83d-db89-4039-94ea-5ea10a1c35ac"
      },
      "outputs": [
        {
          "output_type": "stream",
          "name": "stdout",
          "text": [
            "aは\n",
            "5\n",
            "bは\n",
            "4\n",
            "a+bの結果は\n",
            "9\n"
          ]
        }
      ],
      "source": [
        "print(\"aは\")\n",
        "print(a)\n",
        "print(\"bは\")\n",
        "print(b)\n",
        "print(\"a+bの結果は\")\n",
        "print(a + b)"
      ]
    },
    {
      "cell_type": "code",
      "execution_count": null,
      "id": "a508bc05",
      "metadata": {
        "colab": {
          "base_uri": "https://localhost:8080/"
        },
        "id": "a508bc05",
        "outputId": "0640e778-7b19-459b-9bf9-7854c2ee90f3"
      },
      "outputs": [
        {
          "output_type": "stream",
          "name": "stdout",
          "text": [
            "aは\n",
            "5\n",
            "bは\n",
            "4\n",
            "a * bの結果は\n",
            "20\n"
          ]
        }
      ],
      "source": [
        "print(\"aは\")\n",
        "print(a)\n",
        "print(\"bは\")\n",
        "print(b)\n",
        "print(\"a * bの結果は\")\n",
        "print(a * b)"
      ]
    },
    {
      "cell_type": "code",
      "execution_count": null,
      "id": "789a72a7",
      "metadata": {
        "colab": {
          "base_uri": "https://localhost:8080/"
        },
        "id": "789a72a7",
        "outputId": "4226def4-6b9a-4fb3-efdc-880aab1677c7"
      },
      "outputs": [
        {
          "output_type": "execute_result",
          "data": {
            "text/plain": [
              "1.25"
            ]
          },
          "metadata": {},
          "execution_count": 6
        }
      ],
      "source": [
        "a / b"
      ]
    },
    {
      "cell_type": "code",
      "execution_count": null,
      "id": "b38702dc",
      "metadata": {
        "colab": {
          "base_uri": "https://localhost:8080/"
        },
        "id": "b38702dc",
        "outputId": "6d11a695-0b86-48c5-b080-08ed40e6dd6d"
      },
      "outputs": [
        {
          "output_type": "execute_result",
          "data": {
            "text/plain": [
              "1"
            ]
          },
          "metadata": {},
          "execution_count": 7
        }
      ],
      "source": [
        "a // b"
      ]
    }
  ],
  "metadata": {
    "kernelspec": {
      "display_name": "Python 3",
      "language": "python",
      "name": "python3"
    },
    "language_info": {
      "codemirror_mode": {
        "name": "ipython",
        "version": 3
      },
      "file_extension": ".py",
      "mimetype": "text/x-python",
      "name": "python",
      "nbconvert_exporter": "python",
      "pygments_lexer": "ipython3",
      "version": "3.8.8"
    },
    "colab": {
      "provenance": [],
      "include_colab_link": true
    }
  },
  "nbformat": 4,
  "nbformat_minor": 5
}