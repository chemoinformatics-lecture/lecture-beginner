{
 "cells": [
  {
   "cell_type": "markdown",
   "id": "dec55c57",
   "metadata": {},
   "source": [
    "# はじめに"
   ]
  },
  {
   "cell_type": "code",
   "execution_count": 1,
   "id": "e88feca4",
   "metadata": {},
   "outputs": [
    {
     "name": "stdout",
     "output_type": "stream",
     "text": [
      "Hello World\n"
     ]
    }
   ],
   "source": [
    "print(\"Hello World\")"
   ]
  },
  {
   "cell_type": "code",
   "execution_count": 2,
   "id": "9ecbe704",
   "metadata": {},
   "outputs": [],
   "source": [
    "a = 5"
   ]
  },
  {
   "cell_type": "code",
   "execution_count": 3,
   "id": "f5eb8764",
   "metadata": {},
   "outputs": [],
   "source": [
    "b = 4"
   ]
  },
  {
   "cell_type": "code",
   "execution_count": 4,
   "id": "1b509a7f",
   "metadata": {},
   "outputs": [
    {
     "name": "stdout",
     "output_type": "stream",
     "text": [
      "aは\n",
      "5\n",
      "bは\n",
      "4\n",
      "a+bの結果は\n",
      "9\n"
     ]
    }
   ],
   "source": [
    "print(\"aは\")\n",
    "print(a)\n",
    "print(\"bは\")\n",
    "print(b)\n",
    "print(\"a+bの結果は\")\n",
    "print(a + b)"
   ]
  },
  {
   "cell_type": "code",
   "execution_count": 5,
   "id": "a508bc05",
   "metadata": {},
   "outputs": [
    {
     "name": "stdout",
     "output_type": "stream",
     "text": [
      "aは\n",
      "5\n",
      "bは\n",
      "4\n",
      "a * bの結果は\n",
      "20\n"
     ]
    }
   ],
   "source": [
    "print(\"aは\")\n",
    "print(a)\n",
    "print(\"bは\")\n",
    "print(b)\n",
    "print(\"a * bの結果は\")\n",
    "print(a * b)"
   ]
  },
  {
   "cell_type": "code",
   "execution_count": 6,
   "id": "789a72a7",
   "metadata": {},
   "outputs": [
    {
     "data": {
      "text/plain": [
       "1.25"
      ]
     },
     "execution_count": 6,
     "metadata": {},
     "output_type": "execute_result"
    }
   ],
   "source": [
    "a / b"
   ]
  },
  {
   "cell_type": "code",
   "execution_count": 7,
   "id": "b38702dc",
   "metadata": {},
   "outputs": [
    {
     "data": {
      "text/plain": [
       "1"
      ]
     },
     "execution_count": 7,
     "metadata": {},
     "output_type": "execute_result"
    }
   ],
   "source": [
    "a // b"
   ]
  },
  {
   "cell_type": "markdown",
   "id": "16593d65",
   "metadata": {},
   "source": [
    "# コメントを書いたり、コメントアウトの書き方"
   ]
  },
  {
   "cell_type": "markdown",
   "id": "b46d880e",
   "metadata": {},
   "source": [
    "コメントアウト\"command + /\""
   ]
  }
 ],
 "metadata": {
  "kernelspec": {
   "display_name": "Python 3",
   "language": "python",
   "name": "python3"
  },
  "language_info": {
   "codemirror_mode": {
    "name": "ipython",
    "version": 3
   },
   "file_extension": ".py",
   "mimetype": "text/x-python",
   "name": "python",
   "nbconvert_exporter": "python",
   "pygments_lexer": "ipython3",
   "version": "3.8.8"
  }
 },
 "nbformat": 4,
 "nbformat_minor": 5
}
