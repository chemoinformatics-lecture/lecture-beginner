{
  "cells": [
    {
      "cell_type": "markdown",
      "metadata": {
        "id": "view-in-github",
        "colab_type": "text"
      },
      "source": [
        "<a href=\"https://colab.research.google.com/github/chemoinformatics-lecture/lecture-beginner/blob/main/lesson01_install/%E3%80%9002%E3%80%91%E3%83%97%E3%83%AA%E3%83%B3%E3%83%88%E3%82%84%E3%82%B3%E3%83%A1%E3%83%B3%E3%83%88%E3%81%AE%E6%9B%B8%E3%81%8D%E6%96%B9.ipynb\" target=\"_parent\"><img src=\"https://colab.research.google.com/assets/colab-badge.svg\" alt=\"Open In Colab\"/></a>"
      ]
    },
    {
      "cell_type": "markdown",
      "id": "dec55c57",
      "metadata": {
        "id": "dec55c57"
      },
      "source": [
        "# はじめに"
      ]
    },
    {
      "cell_type": "markdown",
      "source": [
        "## print文"
      ],
      "metadata": {
        "id": "wfT5yP2Fp7QP"
      },
      "id": "wfT5yP2Fp7QP"
    },
    {
      "cell_type": "code",
      "execution_count": 1,
      "id": "e88feca4",
      "metadata": {
        "colab": {
          "base_uri": "https://localhost:8080/"
        },
        "id": "e88feca4",
        "outputId": "e98ff587-6ad5-44cb-9724-e87526598ae4"
      },
      "outputs": [
        {
          "output_type": "stream",
          "name": "stdout",
          "text": [
            "Hello World\n"
          ]
        }
      ],
      "source": [
        "print(\"Hello World\")"
      ]
    },
    {
      "cell_type": "markdown",
      "source": [
        "## プリント文無しでも最終行はプリントされる"
      ],
      "metadata": {
        "id": "7LotMhdFqHHT"
      },
      "id": "7LotMhdFqHHT"
    },
    {
      "cell_type": "code",
      "execution_count": 2,
      "id": "9ecbe704",
      "metadata": {
        "id": "9ecbe704",
        "outputId": "4c95a708-27ea-41d4-e99b-f86220c50c5e",
        "colab": {
          "base_uri": "https://localhost:8080/"
        }
      },
      "outputs": [
        {
          "output_type": "execute_result",
          "data": {
            "text/plain": [
              "5"
            ]
          },
          "metadata": {},
          "execution_count": 2
        }
      ],
      "source": [
        "a = 5\n",
        "a"
      ]
    },
    {
      "cell_type": "code",
      "execution_count": 3,
      "id": "f5eb8764",
      "metadata": {
        "id": "f5eb8764",
        "outputId": "f14608c7-5037-4225-b74b-28044966fb76",
        "colab": {
          "base_uri": "https://localhost:8080/"
        }
      },
      "outputs": [
        {
          "output_type": "execute_result",
          "data": {
            "text/plain": [
              "9"
            ]
          },
          "metadata": {},
          "execution_count": 3
        }
      ],
      "source": [
        "b = 4\n",
        "a + b"
      ]
    },
    {
      "cell_type": "markdown",
      "source": [
        "## 途中結果を表示したければ、間でprint文を入れる。"
      ],
      "metadata": {
        "id": "y0vcomb2qZR0"
      },
      "id": "y0vcomb2qZR0"
    },
    {
      "cell_type": "code",
      "execution_count": 4,
      "id": "1b509a7f",
      "metadata": {
        "colab": {
          "base_uri": "https://localhost:8080/"
        },
        "id": "1b509a7f",
        "outputId": "85d14588-5fb8-464b-a622-dad702ce4066"
      },
      "outputs": [
        {
          "output_type": "stream",
          "name": "stdout",
          "text": [
            "aは\n",
            "5\n",
            "bは\n",
            "4\n",
            "a+bの結果は\n",
            "9\n"
          ]
        }
      ],
      "source": [
        "print(\"aは\")\n",
        "print(a)\n",
        "print(\"bは\")\n",
        "print(b)\n",
        "print(\"a+bの結果は\")\n",
        "print(a + b)"
      ]
    },
    {
      "cell_type": "markdown",
      "source": [
        "## コメントアウトのやり方"
      ],
      "metadata": {
        "id": "y2HVgrPpqlnN"
      },
      "id": "y2HVgrPpqlnN"
    },
    {
      "cell_type": "markdown",
      "source": [
        "### 1行のコメントアウト"
      ],
      "metadata": {
        "id": "jkyFREsrrH7w"
      },
      "id": "jkyFREsrrH7w"
    },
    {
      "cell_type": "code",
      "execution_count": 5,
      "id": "789a72a7",
      "metadata": {
        "colab": {
          "base_uri": "https://localhost:8080/"
        },
        "id": "789a72a7",
        "outputId": "14c1ced1-f026-4f51-d205-cd9a7c2d16a2"
      },
      "outputs": [
        {
          "output_type": "stream",
          "name": "stdout",
          "text": [
            "a+bの結果は\n",
            "9\n"
          ]
        }
      ],
      "source": [
        "# print(\"aは\") ← 先頭に#をつけるとprintされなくなります。\n",
        "# print(a)\n",
        "# print(\"bは\")\n",
        "# print(b)\n",
        "print(\"a+bの結果は\")\n",
        "print(a + b)"
      ]
    },
    {
      "cell_type": "code",
      "source": [
        "# 行の途中からコメントをすることもできる。\n",
        "print(\"aは\") \n",
        "print(a) #a=5が代入されている。\n",
        "print(\"bは\")\n",
        "print(b) #b=4が代入されている。\n",
        "print(\"a+bの結果は\")\n",
        "print(a + b)"
      ],
      "metadata": {
        "id": "xXsg1N9frklo",
        "outputId": "be3a7d7b-174c-403c-99e5-e9bae1771384",
        "colab": {
          "base_uri": "https://localhost:8080/"
        }
      },
      "id": "xXsg1N9frklo",
      "execution_count": 6,
      "outputs": [
        {
          "output_type": "stream",
          "name": "stdout",
          "text": [
            "aは\n",
            "5\n",
            "bは\n",
            "4\n",
            "a+bの結果は\n",
            "9\n"
          ]
        }
      ]
    },
    {
      "cell_type": "markdown",
      "source": [
        "### 複数行のコメントアウト"
      ],
      "metadata": {
        "id": "EpkE_etnrMBu"
      },
      "id": "EpkE_etnrMBu"
    },
    {
      "cell_type": "markdown",
      "source": [
        "先頭に\"を3つつなげてコメントアウトするところ指定することもできる。\n",
        "<br>\n",
        "\"\"\"<br>\n",
        "コメントアウトするところ<br>\n",
        "<br>\n",
        "\"\"\""
      ],
      "metadata": {
        "id": "X4pT7oG7sCBq"
      },
      "id": "X4pT7oG7sCBq"
    },
    {
      "cell_type": "code",
      "source": [
        "\"\"\"\n",
        "print(\"aは\")\n",
        "print(a)\n",
        "print(\"bは\")\n",
        "print(b)\n",
        "\"\"\"\n",
        "print(\"a+bの結果は\")\n",
        "print(a + b)"
      ],
      "metadata": {
        "id": "KZMQ0mCDq3ii",
        "outputId": "1d976a0b-586e-4810-f832-28677a06f676",
        "colab": {
          "base_uri": "https://localhost:8080/"
        }
      },
      "id": "KZMQ0mCDq3ii",
      "execution_count": 8,
      "outputs": [
        {
          "output_type": "stream",
          "name": "stdout",
          "text": [
            "a+bの結果は\n",
            "9\n"
          ]
        }
      ]
    }
  ],
  "metadata": {
    "kernelspec": {
      "display_name": "Python 3",
      "language": "python",
      "name": "python3"
    },
    "language_info": {
      "codemirror_mode": {
        "name": "ipython",
        "version": 3
      },
      "file_extension": ".py",
      "mimetype": "text/x-python",
      "name": "python",
      "nbconvert_exporter": "python",
      "pygments_lexer": "ipython3",
      "version": "3.8.8"
    },
    "colab": {
      "provenance": [],
      "include_colab_link": true
    }
  },
  "nbformat": 4,
  "nbformat_minor": 5
}