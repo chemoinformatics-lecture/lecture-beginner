{
  "cells": [
    {
      "cell_type": "markdown",
      "metadata": {
        "id": "view-in-github",
        "colab_type": "text"
      },
      "source": [
        "<a href=\"https://colab.research.google.com/github/chemoinformatics-lecture/lecture-beginner/blob/main/lesson01_install/%E3%80%9001%E3%80%91google%20colaboratory%E3%81%AE%E4%BD%BF%E3%81%84%E6%96%B9.ipynb\" target=\"_parent\"><img src=\"https://colab.research.google.com/assets/colab-badge.svg\" alt=\"Open In Colab\"/></a>"
      ]
    },
    {
      "cell_type": "markdown",
      "id": "ded3e83a",
      "metadata": {
        "id": "ded3e83a"
      },
      "source": [
        "# google colabolatoryでプログラムの実行"
      ]
    },
    {
      "cell_type": "markdown",
      "id": "ab752a2e",
      "metadata": {
        "id": "ab752a2e"
      },
      "source": [
        "# googleアカウントの作成とchromeのダウンロードを行う"
      ]
    },
    {
      "cell_type": "markdown",
      "id": "82e5bcd3",
      "metadata": {
        "id": "82e5bcd3"
      },
      "source": [
        "googleのアカウントがあれば、google colabolatoryを無料で使用できる。"
      ]
    },
    {
      "cell_type": "markdown",
      "id": "e0e71869",
      "metadata": {
        "id": "e0e71869"
      },
      "source": [
        "googleアカウントは、複数持っていても大丈夫\n",
        "勉強用に設定（パスワードを忘れないように注意）\n",
        "\n",
        "https://allabout.co.jp/gm/gc/474435/\n",
        "   \n",
        "chromeならば、アカウントの切り替えや同時使用も楽\n",
        "\n",
        "https://www.pc-koubou.jp/magazine/36073"
      ]
    },
    {
      "cell_type": "markdown",
      "id": "20645987",
      "metadata": {
        "id": "20645987"
      },
      "source": [
        "## google colabolatoryのメリット"
      ]
    },
    {
      "cell_type": "markdown",
      "id": "bf617c45",
      "metadata": {
        "id": "bf617c45"
      },
      "source": [
        "1. 手軽で簡単\n",
        "2. 無料\n",
        "3. 高性能GPUが使える\n",
        "4. 共有が楽"
      ]
    },
    {
      "cell_type": "markdown",
      "id": "ff85de8f",
      "metadata": {
        "id": "ff85de8f"
      },
      "source": [
        "## google colabolatoryのデメリット"
      ]
    },
    {
      "cell_type": "markdown",
      "id": "4c1009ef",
      "metadata": {
        "id": "4c1009ef"
      },
      "source": [
        "　1. 90分ルール(セッション切断から90分経過でリセット実行)\n",
        "　2. 12時間ルール(ノートブック起動から12時間経過でリセット実行)"
      ]
    },
    {
      "cell_type": "markdown",
      "id": "9f8c2f4e",
      "metadata": {
        "id": "9f8c2f4e"
      },
      "source": [
        "# google colabへのリンク"
      ]
    },
    {
      "cell_type": "markdown",
      "id": "2f74eee8",
      "metadata": {
        "id": "2f74eee8"
      },
      "source": [
        "githubリポジトリ内のjupyter notebookを開き、開いたURLの\n",
        "”https://github.com”\n",
        "を\n",
        "”https://colab.research.google.com/github”\n",
        "に変換してアクセスすると、google colabolatoryで開くことができる。\n",
        "\n",
        "\"https://github.com/chemoinformatics-lecture/lecture-beginner/blob/main/lesson01_install/lecture_note1.ipynb\"\n",
        "だったら、\n",
        "\"https://colab.research.google.com/github/chemoinformatics-lecture/lecture-beginner/blob/main/lesson01_install/lecture_note1.ipynb”\n",
        "になる。"
      ]
    },
    {
      "cell_type": "markdown",
      "id": "17016cec",
      "metadata": {
        "id": "17016cec"
      },
      "source": [
        "[![Open In Colab](https://colab.research.google.com/assets/colab-badge.svg)](http://colab.research.google.com/github/chemoinformatics-lecture/lecture-beginner/blob/main/lesson01_install/lecture_note1.ipynb)"
      ]
    },
    {
      "cell_type": "markdown",
      "id": "02dd13f8",
      "metadata": {
        "id": "02dd13f8"
      },
      "source": [
        "↑ colabで開くようなリンクも作成することができる。\n",
        "\n",
        "https://rcmdnk.com/blog/2019/05/24/computer-github-python/\n",
        "\n",
        "ブックマークレットも便利"
      ]
    },
    {
      "cell_type": "markdown",
      "id": "c931ee16",
      "metadata": {
        "id": "c931ee16"
      },
      "source": [
        "# google colabolatoryの使い方"
      ]
    },
    {
      "cell_type": "code",
      "execution_count": null,
      "id": "2d5da117",
      "metadata": {
        "id": "2d5da117",
        "outputId": "2d3291ac-c4a1-40a5-a7c6-cb5e59210ebc",
        "colab": {
          "base_uri": "https://localhost:8080/"
        }
      },
      "outputs": [
        {
          "output_type": "stream",
          "name": "stdout",
          "text": [
            "hello Python\n"
          ]
        }
      ],
      "source": [
        "print(\"hello Python\")"
      ]
    },
    {
      "cell_type": "code",
      "execution_count": null,
      "id": "e19658a9",
      "metadata": {
        "id": "e19658a9",
        "outputId": "00e615ba-12a5-4b31-df21-0d594944a46b",
        "colab": {
          "base_uri": "https://localhost:8080/"
        }
      },
      "outputs": [
        {
          "output_type": "execute_result",
          "data": {
            "text/plain": [
              "2"
            ]
          },
          "metadata": {},
          "execution_count": 22
        }
      ],
      "source": [
        "1+1 "
      ]
    },
    {
      "cell_type": "markdown",
      "id": "38d56e2f",
      "metadata": {
        "id": "38d56e2f"
      },
      "source": [
        "# 事前に入っているライブラリー"
      ]
    },
    {
      "cell_type": "code",
      "execution_count": null,
      "id": "0c7018cd",
      "metadata": {
        "id": "0c7018cd",
        "outputId": "f5b36fc6-a9c5-431d-9cf8-c98ce192754d",
        "colab": {
          "base_uri": "https://localhost:8080/"
        }
      },
      "outputs": [
        {
          "output_type": "stream",
          "name": "stdout",
          "text": [
            "absl-py==1.2.0\n",
            "aiohttp==3.8.1\n",
            "aiosignal==1.2.0\n",
            "alabaster==0.7.12\n",
            "albumentations==1.2.1\n",
            "altair==4.2.0\n",
            "appdirs==1.4.4\n",
            "arviz==0.12.1\n",
            "astor==0.8.1\n",
            "astropy==4.3.1\n",
            "astunparse==1.6.3\n",
            "async-timeout==4.0.2\n",
            "asynctest==0.13.0\n",
            "atari-py==0.2.9\n",
            "atomicwrites==1.4.1\n",
            "attrs==22.1.0\n",
            "audioread==2.1.9\n",
            "autograd==1.4\n",
            "Babel==2.10.3\n",
            "backcall==0.2.0\n",
            "beautifulsoup4==4.6.3\n",
            "bleach==5.0.1\n",
            "blis==0.7.8\n",
            "bokeh==2.3.3\n",
            "branca==0.5.0\n",
            "bs4==0.0.1\n",
            "CacheControl==0.12.11\n",
            "cached-property==1.5.2\n",
            "cachetools==4.2.4\n",
            "catalogue==2.0.8\n",
            "certifi==2022.6.15\n",
            "cffi==1.15.1\n",
            "cftime==1.6.1\n",
            "chardet==3.0.4\n",
            "charset-normalizer==2.1.0\n",
            "click==7.1.2\n",
            "clikit==0.6.2\n",
            "cloudpickle==1.3.0\n",
            "cmake==3.22.6\n",
            "cmdstanpy==1.0.4\n",
            "colorcet==3.0.0\n",
            "colorlover==0.3.0\n",
            "community==1.0.0b1\n",
            "contextlib2==0.5.5\n",
            "convertdate==2.4.0\n",
            "crashtest==0.3.1\n",
            "crcmod==1.7\n",
            "cufflinks==0.17.3\n",
            "cvxopt==1.3.0\n",
            "cvxpy==1.2.1\n",
            "cycler==0.11.0\n",
            "cymem==2.0.6\n",
            "Cython==0.29.32\n",
            "daft==0.0.4\n",
            "dask==2.12.0\n",
            "datascience==0.17.5\n",
            "debugpy==1.0.0\n",
            "decorator==4.4.2\n",
            "defusedxml==0.7.1\n",
            "deprecat==2.1.1\n",
            "descartes==1.1.0\n",
            "dill==0.3.5.1\n",
            "distributed==1.25.3\n",
            "dlib==19.24.0\n",
            "dm-tree==0.1.7\n",
            "docutils==0.17.1\n",
            "dopamine-rl==1.0.5\n",
            "earthengine-api==0.1.318\n",
            "easydict==1.9\n",
            "ecos==2.0.10\n",
            "editdistance==0.5.3\n",
            "en-core-web-sm @ https://github.com/explosion/spacy-models/releases/download/en_core_web_sm-3.4.0/en_core_web_sm-3.4.0-py3-none-any.whl\n",
            "entrypoints==0.4\n",
            "ephem==4.1.3\n",
            "et-xmlfile==1.1.0\n",
            "etils==0.7.1\n",
            "fa2==0.3.5\n",
            "fastai==2.7.9\n",
            "fastcore==1.5.16\n",
            "fastdownload==0.0.7\n",
            "fastdtw==0.3.4\n",
            "fastjsonschema==2.16.1\n",
            "fastprogress==1.0.3\n",
            "fastrlock==0.8\n",
            "feather-format==0.4.1\n",
            "filelock==3.8.0\n",
            "firebase-admin==4.4.0\n",
            "fix-yahoo-finance==0.0.22\n",
            "Flask==1.1.4\n",
            "flatbuffers==2.0\n",
            "folium==0.12.1.post1\n",
            "frozenlist==1.3.1\n",
            "future==0.16.0\n",
            "gast==0.5.3\n",
            "GDAL==2.2.2\n",
            "gdown==4.4.0\n",
            "gensim==3.6.0\n",
            "geographiclib==1.52\n",
            "geopy==1.17.0\n",
            "gin-config==0.5.0\n",
            "glob2==0.7\n",
            "google==2.0.3\n",
            "google-api-core==1.31.6\n",
            "google-api-python-client==1.12.11\n",
            "google-auth==1.35.0\n",
            "google-auth-httplib2==0.0.4\n",
            "google-auth-oauthlib==0.4.6\n",
            "google-cloud-bigquery==1.21.0\n",
            "google-cloud-bigquery-storage==1.1.2\n",
            "google-cloud-core==1.0.3\n",
            "google-cloud-datastore==1.8.0\n",
            "google-cloud-firestore==1.7.0\n",
            "google-cloud-language==1.2.0\n",
            "google-cloud-storage==1.18.1\n",
            "google-cloud-translate==1.5.0\n",
            "google-colab @ file:///colabtools/dist/google-colab-1.0.0.tar.gz\n",
            "google-pasta==0.2.0\n",
            "google-resumable-media==0.4.1\n",
            "googleapis-common-protos==1.56.4\n",
            "googledrivedownloader==0.4\n",
            "graphviz==0.10.1\n",
            "greenlet==1.1.2\n",
            "grpcio==1.47.0\n",
            "gspread==3.4.2\n",
            "gspread-dataframe==3.0.8\n",
            "gym==0.17.3\n",
            "h5py==3.1.0\n",
            "HeapDict==1.0.1\n",
            "hijri-converter==2.2.4\n",
            "holidays==0.14.2\n",
            "holoviews==1.14.9\n",
            "html5lib==1.0.1\n",
            "httpimport==0.5.18\n",
            "httplib2==0.17.4\n",
            "httplib2shim==0.0.3\n",
            "httpstan==4.6.1\n",
            "humanize==0.5.1\n",
            "hyperopt==0.1.2\n",
            "idna==2.10\n",
            "imageio==2.9.0\n",
            "imagesize==1.4.1\n",
            "imbalanced-learn==0.8.1\n",
            "imblearn==0.0\n",
            "imgaug==0.4.0\n",
            "importlib-metadata==4.12.0\n",
            "importlib-resources==5.9.0\n",
            "imutils==0.5.4\n",
            "inflect==2.1.0\n",
            "intel-openmp==2022.1.0\n",
            "intervaltree==2.1.0\n",
            "ipykernel==5.3.4\n",
            "ipython==7.9.0\n",
            "ipython-genutils==0.2.0\n",
            "ipython-sql==0.3.9\n",
            "ipywidgets==7.7.1\n",
            "itsdangerous==1.1.0\n",
            "jax==0.3.14\n",
            "jaxlib @ https://storage.googleapis.com/jax-releases/cuda11/jaxlib-0.3.14+cuda11.cudnn805-cp37-none-manylinux2014_x86_64.whl\n",
            "jieba==0.42.1\n",
            "Jinja2==2.11.3\n",
            "joblib==1.1.0\n",
            "jpeg4py==0.1.4\n",
            "jsonschema==4.3.3\n",
            "jupyter-client==6.1.12\n",
            "jupyter-console==6.1.0\n",
            "jupyter-core==4.11.1\n",
            "jupyterlab-widgets==1.1.1\n",
            "kaggle==1.5.12\n",
            "kapre==0.3.7\n",
            "keras==2.8.0\n",
            "Keras-Preprocessing==1.1.2\n",
            "keras-vis==0.4.1\n",
            "kiwisolver==1.4.4\n",
            "korean-lunar-calendar==0.2.1\n",
            "langcodes==3.3.0\n",
            "libclang==14.0.6\n",
            "librosa==0.8.1\n",
            "lightgbm==2.2.3\n",
            "llvmlite==0.39.0\n",
            "lmdb==0.99\n",
            "LunarCalendar==0.0.9\n",
            "lxml==4.9.1\n",
            "Markdown==3.4.1\n",
            "MarkupSafe==2.0.1\n",
            "marshmallow==3.17.0\n",
            "matplotlib==3.2.2\n",
            "matplotlib-venn==0.11.7\n",
            "missingno==0.5.1\n",
            "mistune==0.8.4\n",
            "mizani==0.6.0\n",
            "mkl==2019.0\n",
            "mlxtend==0.14.0\n",
            "more-itertools==8.14.0\n",
            "moviepy==0.2.3.5\n",
            "mpmath==1.2.1\n",
            "msgpack==1.0.4\n",
            "multidict==6.0.2\n",
            "multitasking==0.0.11\n",
            "murmurhash==1.0.7\n",
            "music21==5.5.0\n",
            "natsort==5.5.0\n",
            "nbconvert==5.6.1\n",
            "nbformat==5.4.0\n",
            "netCDF4==1.6.0\n",
            "networkx==2.6.3\n",
            "nibabel==3.0.2\n",
            "nltk==3.7\n",
            "notebook==5.3.1\n",
            "numba==0.56.0\n",
            "numexpr==2.8.3\n",
            "numpy==1.21.6\n",
            "oauth2client==4.1.3\n",
            "oauthlib==3.2.0\n",
            "okgrade==0.4.3\n",
            "opencv-contrib-python==4.6.0.66\n",
            "opencv-python==4.6.0.66\n",
            "opencv-python-headless==4.6.0.66\n",
            "openpyxl==3.0.10\n",
            "opt-einsum==3.3.0\n",
            "osqp==0.6.2.post0\n",
            "packaging==21.3\n",
            "palettable==3.3.0\n",
            "pandas==1.3.5\n",
            "pandas-datareader==0.9.0\n",
            "pandas-gbq==0.13.3\n",
            "pandas-profiling==1.4.1\n",
            "pandocfilters==1.5.0\n",
            "panel==0.12.1\n",
            "param==1.12.2\n",
            "parso==0.8.3\n",
            "pastel==0.2.1\n",
            "pathlib==1.0.1\n",
            "pathy==0.6.2\n",
            "patsy==0.5.2\n",
            "pep517==0.13.0\n",
            "pexpect==4.8.0\n",
            "pickleshare==0.7.5\n",
            "Pillow==7.1.2\n",
            "pip-tools==6.2.0\n",
            "plotly==5.5.0\n",
            "plotnine==0.6.0\n",
            "pluggy==0.7.1\n",
            "pooch==1.6.0\n",
            "portpicker==1.3.9\n",
            "prefetch-generator==1.0.1\n",
            "preshed==3.0.6\n",
            "prettytable==3.3.0\n",
            "progressbar2==3.38.0\n",
            "promise==2.3\n",
            "prompt-toolkit==2.0.10\n",
            "prophet==1.1\n",
            "protobuf==3.17.3\n",
            "psutil==5.4.8\n",
            "psycopg2==2.9.3\n",
            "ptyprocess==0.7.0\n",
            "PubChemPy==1.0.4\n",
            "py==1.11.0\n",
            "pyarrow==6.0.1\n",
            "pyasn1==0.4.8\n",
            "pyasn1-modules==0.2.8\n",
            "pycocotools==2.0.4\n",
            "pycparser==2.21\n",
            "pyct==0.4.8\n",
            "pydantic==1.9.1\n",
            "pydata-google-auth==1.4.0\n",
            "pydot==1.3.0\n",
            "pydot-ng==2.0.0\n",
            "pydotplus==2.0.2\n",
            "PyDrive==1.3.1\n",
            "pyemd==0.5.1\n",
            "pyerfa==2.0.0.1\n",
            "pyglet==1.5.0\n",
            "Pygments==2.6.1\n",
            "pygobject==3.26.1\n",
            "pylev==1.4.0\n",
            "pymc3==3.11.5\n",
            "PyMeeus==0.5.11\n",
            "pymongo==4.2.0\n",
            "pymystem3==0.2.0\n",
            "PyOpenGL==3.1.6\n",
            "pyparsing==3.0.9\n",
            "pyrsistent==0.18.1\n",
            "pysimdjson==3.2.0\n",
            "pysndfile==1.3.8\n",
            "PySocks==1.7.1\n",
            "pystan==3.3.0\n",
            "pytest==3.6.4\n",
            "python-apt==0.0.0\n",
            "python-chess==0.23.11\n",
            "python-dateutil==2.8.2\n",
            "python-louvain==0.16\n",
            "python-slugify==6.1.2\n",
            "python-utils==3.3.3\n",
            "pytz==2022.1\n",
            "pyviz-comms==2.2.0\n",
            "PyWavelets==1.3.0\n",
            "PyYAML==3.13\n",
            "pyzmq==23.2.0\n",
            "qdldl==0.1.5.post2\n",
            "qudida==0.0.4\n",
            "rdkit==2022.3.5\n",
            "regex==2022.6.2\n",
            "requests==2.23.0\n",
            "requests-oauthlib==1.3.1\n",
            "resampy==0.4.0\n",
            "rpy2==3.4.5\n",
            "rsa==4.9\n",
            "scikit-image==0.18.3\n",
            "scikit-learn==1.0.2\n",
            "scipy==1.7.3\n",
            "screen-resolution-extra==0.0.0\n",
            "scs==3.2.0\n",
            "seaborn==0.11.2\n",
            "semver==2.13.0\n",
            "Send2Trash==1.8.0\n",
            "setuptools-git==1.2\n",
            "Shapely==1.8.2\n",
            "six==1.15.0\n",
            "sklearn==0.0\n",
            "sklearn-pandas==1.8.0\n",
            "smart-open==5.2.1\n",
            "snowballstemmer==2.2.0\n",
            "sortedcontainers==2.4.0\n",
            "SoundFile==0.10.3.post1\n",
            "spacy==3.4.1\n",
            "spacy-legacy==3.0.9\n",
            "spacy-loggers==1.0.3\n",
            "Sphinx==1.8.6\n",
            "sphinxcontrib-serializinghtml==1.1.5\n",
            "sphinxcontrib-websupport==1.2.4\n",
            "SQLAlchemy==1.4.40\n",
            "sqlparse==0.4.2\n",
            "srsly==2.4.4\n",
            "statsmodels==0.10.2\n",
            "sympy==1.7.1\n",
            "tables==3.7.0\n",
            "tabulate==0.8.10\n",
            "tblib==1.7.0\n",
            "tenacity==8.0.1\n",
            "tensorboard==2.8.0\n",
            "tensorboard-data-server==0.6.1\n",
            "tensorboard-plugin-wit==1.8.1\n",
            "tensorflow==2.8.2+zzzcolab20220719082949\n",
            "tensorflow-datasets==4.6.0\n",
            "tensorflow-estimator==2.8.0\n",
            "tensorflow-gcs-config==2.8.0\n",
            "tensorflow-hub==0.12.0\n",
            "tensorflow-io-gcs-filesystem==0.26.0\n",
            "tensorflow-metadata==1.9.0\n",
            "tensorflow-probability==0.16.0\n",
            "termcolor==1.1.0\n",
            "terminado==0.13.3\n",
            "testpath==0.6.0\n",
            "text-unidecode==1.3\n",
            "textblob==0.15.3\n",
            "Theano-PyMC==1.1.2\n",
            "thinc==8.1.0\n",
            "threadpoolctl==3.1.0\n",
            "tifffile==2021.11.2\n",
            "toml==0.10.2\n",
            "tomli==2.0.1\n",
            "toolz==0.12.0\n",
            "torch @ https://download.pytorch.org/whl/cu113/torch-1.12.1%2Bcu113-cp37-cp37m-linux_x86_64.whl\n",
            "torchaudio @ https://download.pytorch.org/whl/cu113/torchaudio-0.12.1%2Bcu113-cp37-cp37m-linux_x86_64.whl\n",
            "torchsummary==1.5.1\n",
            "torchtext==0.13.1\n",
            "torchvision @ https://download.pytorch.org/whl/cu113/torchvision-0.13.1%2Bcu113-cp37-cp37m-linux_x86_64.whl\n",
            "tornado==5.1.1\n",
            "tqdm==4.64.0\n",
            "traitlets==5.1.1\n",
            "tweepy==3.10.0\n",
            "typeguard==2.7.1\n",
            "typer==0.4.2\n",
            "typing-extensions==4.1.1\n",
            "tzlocal==1.5.1\n",
            "ujson==5.4.0\n",
            "uritemplate==3.0.1\n",
            "urllib3==1.24.3\n",
            "vega-datasets==0.9.0\n",
            "wasabi==0.10.1\n",
            "wcwidth==0.2.5\n",
            "webargs==8.2.0\n",
            "webencodings==0.5.1\n",
            "Werkzeug==1.0.1\n",
            "widgetsnbextension==3.6.1\n",
            "wordcloud==1.8.2.2\n",
            "wrapt==1.14.1\n",
            "xarray==0.20.2\n",
            "xarray-einstats==0.2.2\n",
            "xgboost==0.90\n",
            "xkit==0.0.0\n",
            "xlrd==1.1.0\n",
            "xlwt==1.3.0\n",
            "yarl==1.8.1\n",
            "yellowbrick==1.4\n",
            "zict==2.2.0\n",
            "zipp==3.8.1\n"
          ]
        }
      ],
      "source": [
        "!pip freeze"
      ]
    },
    {
      "cell_type": "markdown",
      "id": "3bb48ac2",
      "metadata": {
        "id": "3bb48ac2"
      },
      "source": [
        "matplotlib, pandas, numpy, sklearnなどが事前に入っている。"
      ]
    },
    {
      "cell_type": "markdown",
      "id": "2b87eb48",
      "metadata": {
        "id": "2b87eb48"
      },
      "source": [
        "参考web\n",
        "https://blog.masahiko.info/entry/2020/03/14/160151"
      ]
    },
    {
      "cell_type": "code",
      "execution_count": null,
      "id": "439d828b",
      "metadata": {
        "id": "439d828b"
      },
      "outputs": [],
      "source": [
        "import pandas as pd"
      ]
    },
    {
      "cell_type": "code",
      "execution_count": null,
      "id": "9ada83dc",
      "metadata": {
        "id": "9ada83dc",
        "outputId": "9e3daf69-626b-4a9d-a7e8-2a5fd06d5ab7",
        "colab": {
          "base_uri": "https://localhost:8080/",
          "height": 143
        }
      },
      "outputs": [
        {
          "output_type": "execute_result",
          "data": {
            "text/plain": [
              "   名前     役割   身長\n",
              "0  田中   営業部長  178\n",
              "1  山田    広報部  173\n",
              "2  高橋  技術責任者  169"
            ],
            "text/html": [
              "\n",
              "  <div id=\"df-595e3d8c-df90-4267-9a30-c6dd37b7cffd\">\n",
              "    <div class=\"colab-df-container\">\n",
              "      <div>\n",
              "<style scoped>\n",
              "    .dataframe tbody tr th:only-of-type {\n",
              "        vertical-align: middle;\n",
              "    }\n",
              "\n",
              "    .dataframe tbody tr th {\n",
              "        vertical-align: top;\n",
              "    }\n",
              "\n",
              "    .dataframe thead th {\n",
              "        text-align: right;\n",
              "    }\n",
              "</style>\n",
              "<table border=\"1\" class=\"dataframe\">\n",
              "  <thead>\n",
              "    <tr style=\"text-align: right;\">\n",
              "      <th></th>\n",
              "      <th>名前</th>\n",
              "      <th>役割</th>\n",
              "      <th>身長</th>\n",
              "    </tr>\n",
              "  </thead>\n",
              "  <tbody>\n",
              "    <tr>\n",
              "      <th>0</th>\n",
              "      <td>田中</td>\n",
              "      <td>営業部長</td>\n",
              "      <td>178</td>\n",
              "    </tr>\n",
              "    <tr>\n",
              "      <th>1</th>\n",
              "      <td>山田</td>\n",
              "      <td>広報部</td>\n",
              "      <td>173</td>\n",
              "    </tr>\n",
              "    <tr>\n",
              "      <th>2</th>\n",
              "      <td>高橋</td>\n",
              "      <td>技術責任者</td>\n",
              "      <td>169</td>\n",
              "    </tr>\n",
              "  </tbody>\n",
              "</table>\n",
              "</div>\n",
              "      <button class=\"colab-df-convert\" onclick=\"convertToInteractive('df-595e3d8c-df90-4267-9a30-c6dd37b7cffd')\"\n",
              "              title=\"Convert this dataframe to an interactive table.\"\n",
              "              style=\"display:none;\">\n",
              "        \n",
              "  <svg xmlns=\"http://www.w3.org/2000/svg\" height=\"24px\"viewBox=\"0 0 24 24\"\n",
              "       width=\"24px\">\n",
              "    <path d=\"M0 0h24v24H0V0z\" fill=\"none\"/>\n",
              "    <path d=\"M18.56 5.44l.94 2.06.94-2.06 2.06-.94-2.06-.94-.94-2.06-.94 2.06-2.06.94zm-11 1L8.5 8.5l.94-2.06 2.06-.94-2.06-.94L8.5 2.5l-.94 2.06-2.06.94zm10 10l.94 2.06.94-2.06 2.06-.94-2.06-.94-.94-2.06-.94 2.06-2.06.94z\"/><path d=\"M17.41 7.96l-1.37-1.37c-.4-.4-.92-.59-1.43-.59-.52 0-1.04.2-1.43.59L10.3 9.45l-7.72 7.72c-.78.78-.78 2.05 0 2.83L4 21.41c.39.39.9.59 1.41.59.51 0 1.02-.2 1.41-.59l7.78-7.78 2.81-2.81c.8-.78.8-2.07 0-2.86zM5.41 20L4 18.59l7.72-7.72 1.47 1.35L5.41 20z\"/>\n",
              "  </svg>\n",
              "      </button>\n",
              "      \n",
              "  <style>\n",
              "    .colab-df-container {\n",
              "      display:flex;\n",
              "      flex-wrap:wrap;\n",
              "      gap: 12px;\n",
              "    }\n",
              "\n",
              "    .colab-df-convert {\n",
              "      background-color: #E8F0FE;\n",
              "      border: none;\n",
              "      border-radius: 50%;\n",
              "      cursor: pointer;\n",
              "      display: none;\n",
              "      fill: #1967D2;\n",
              "      height: 32px;\n",
              "      padding: 0 0 0 0;\n",
              "      width: 32px;\n",
              "    }\n",
              "\n",
              "    .colab-df-convert:hover {\n",
              "      background-color: #E2EBFA;\n",
              "      box-shadow: 0px 1px 2px rgba(60, 64, 67, 0.3), 0px 1px 3px 1px rgba(60, 64, 67, 0.15);\n",
              "      fill: #174EA6;\n",
              "    }\n",
              "\n",
              "    [theme=dark] .colab-df-convert {\n",
              "      background-color: #3B4455;\n",
              "      fill: #D2E3FC;\n",
              "    }\n",
              "\n",
              "    [theme=dark] .colab-df-convert:hover {\n",
              "      background-color: #434B5C;\n",
              "      box-shadow: 0px 1px 3px 1px rgba(0, 0, 0, 0.15);\n",
              "      filter: drop-shadow(0px 1px 2px rgba(0, 0, 0, 0.3));\n",
              "      fill: #FFFFFF;\n",
              "    }\n",
              "  </style>\n",
              "\n",
              "      <script>\n",
              "        const buttonEl =\n",
              "          document.querySelector('#df-595e3d8c-df90-4267-9a30-c6dd37b7cffd button.colab-df-convert');\n",
              "        buttonEl.style.display =\n",
              "          google.colab.kernel.accessAllowed ? 'block' : 'none';\n",
              "\n",
              "        async function convertToInteractive(key) {\n",
              "          const element = document.querySelector('#df-595e3d8c-df90-4267-9a30-c6dd37b7cffd');\n",
              "          const dataTable =\n",
              "            await google.colab.kernel.invokeFunction('convertToInteractive',\n",
              "                                                     [key], {});\n",
              "          if (!dataTable) return;\n",
              "\n",
              "          const docLinkHtml = 'Like what you see? Visit the ' +\n",
              "            '<a target=\"_blank\" href=https://colab.research.google.com/notebooks/data_table.ipynb>data table notebook</a>'\n",
              "            + ' to learn more about interactive tables.';\n",
              "          element.innerHTML = '';\n",
              "          dataTable['output_type'] = 'display_data';\n",
              "          await google.colab.output.renderOutput(dataTable, element);\n",
              "          const docLink = document.createElement('div');\n",
              "          docLink.innerHTML = docLinkHtml;\n",
              "          element.appendChild(docLink);\n",
              "        }\n",
              "      </script>\n",
              "    </div>\n",
              "  </div>\n",
              "  "
            ]
          },
          "metadata": {},
          "execution_count": 25
        }
      ],
      "source": [
        "df = pd.DataFrame({\n",
        "    '名前' :['田中', '山田', '高橋'],\n",
        "    '役割' : ['営業部長', '広報部', '技術責任者'],\n",
        "    '身長' : [178, 173, 169]\n",
        "    })\n",
        "\n",
        "df"
      ]
    },
    {
      "cell_type": "markdown",
      "id": "785ac7c5",
      "metadata": {
        "id": "785ac7c5"
      },
      "source": [
        "google colabolatoryが使用しているOSやpythonのversion"
      ]
    },
    {
      "cell_type": "code",
      "execution_count": null,
      "id": "9729ffc4",
      "metadata": {
        "id": "9729ffc4",
        "outputId": "6e21f84a-1105-4a8f-dbee-032419d9f05c",
        "colab": {
          "base_uri": "https://localhost:8080/"
        }
      },
      "outputs": [
        {
          "output_type": "stream",
          "name": "stdout",
          "text": [
            "Python 3.7.13\n"
          ]
        }
      ],
      "source": [
        "!python -V"
      ]
    },
    {
      "cell_type": "code",
      "execution_count": null,
      "id": "3311fbe5",
      "metadata": {
        "id": "3311fbe5",
        "outputId": "d0fd4024-c078-417b-b509-d78112f96b16",
        "colab": {
          "base_uri": "https://localhost:8080/",
          "height": 35
        }
      },
      "outputs": [
        {
          "output_type": "execute_result",
          "data": {
            "text/plain": [
              "'Linux-5.4.188+-x86_64-with-Ubuntu-18.04-bionic'"
            ],
            "application/vnd.google.colaboratory.intrinsic+json": {
              "type": "string"
            }
          },
          "metadata": {},
          "execution_count": 27
        }
      ],
      "source": [
        "import platform\n",
        "# 使用しているOSを表示\n",
        "platform.platform()"
      ]
    },
    {
      "cell_type": "markdown",
      "id": "e0afdeee",
      "metadata": {
        "id": "e0afdeee"
      },
      "source": [
        "# google colabolatoryの注意点\n",
        "90分ほど操作しない状態が続く場合、仮想マシンは停止し、ダウンロードしたデータやライブラリは初期化される仕様なので注意が必要"
      ]
    },
    {
      "cell_type": "markdown",
      "id": "3e999132",
      "metadata": {
        "id": "3e999132"
      },
      "source": [
        "## ライブラリーにインストール"
      ]
    },
    {
      "cell_type": "markdown",
      "id": "f024788f",
      "metadata": {
        "id": "f024788f"
      },
      "source": [
        "先頭に!をつけて行う。"
      ]
    },
    {
      "cell_type": "code",
      "execution_count": null,
      "id": "654e8343",
      "metadata": {
        "id": "654e8343",
        "outputId": "c98467ea-83c6-470d-e795-588aa467a7a8",
        "colab": {
          "base_uri": "https://localhost:8080/"
        }
      },
      "outputs": [
        {
          "output_type": "stream",
          "name": "stdout",
          "text": [
            "Looking in indexes: https://pypi.org/simple, https://us-python.pkg.dev/colab-wheels/public/simple/\n",
            "Requirement already satisfied: rdkit in /usr/local/lib/python3.7/dist-packages (2022.3.5)\n",
            "Requirement already satisfied: Pillow in /usr/local/lib/python3.7/dist-packages (from rdkit) (7.1.2)\n",
            "Requirement already satisfied: numpy in /usr/local/lib/python3.7/dist-packages (from rdkit) (1.21.6)\n"
          ]
        }
      ],
      "source": [
        "!pip install rdkit"
      ]
    },
    {
      "cell_type": "code",
      "execution_count": null,
      "id": "ac41fe35",
      "metadata": {
        "id": "ac41fe35"
      },
      "outputs": [],
      "source": [
        "from rdkit import Chem\n",
        "from rdkit.Chem import Draw"
      ]
    },
    {
      "cell_type": "code",
      "execution_count": null,
      "id": "4708368c",
      "metadata": {
        "id": "4708368c",
        "outputId": "a3ec2720-3567-4317-cd50-545c635914f7",
        "colab": {
          "base_uri": "https://localhost:8080/",
          "height": 117
        }
      },
      "outputs": [
        {
          "output_type": "execute_result",
          "data": {
            "text/plain": [
              "<PIL.PngImagePlugin.PngImageFile image mode=RGB size=100x100 at 0x7FBAA9A62290>"
            ],
            "image/png": "[encoded data removed]"
          },
          "metadata": {},
          "execution_count": 30
        }
      ],
      "source": [
        "mol = Chem.MolFromSmiles('Cc1ccccc1')\n",
        "Draw.MolToImage(mol, size=(100,100))"
      ]
    },
    {
      "cell_type": "code",
      "execution_count": null,
      "id": "3e4bd6f1",
      "metadata": {
        "id": "3e4bd6f1",
        "outputId": "aaa42029-57b2-4e5a-c950-bb53e56ea7ab",
        "colab": {
          "base_uri": "https://localhost:8080/"
        }
      },
      "outputs": [
        {
          "output_type": "stream",
          "name": "stdout",
          "text": [
            "Looking in indexes: https://pypi.org/simple, https://us-python.pkg.dev/colab-wheels/public/simple/\n",
            "Requirement already satisfied: pubchempy in /usr/local/lib/python3.7/dist-packages (1.0.4)\n"
          ]
        }
      ],
      "source": [
        "!pip install pubchempy"
      ]
    },
    {
      "cell_type": "code",
      "execution_count": null,
      "id": "6411053b",
      "metadata": {
        "id": "6411053b"
      },
      "outputs": [],
      "source": [
        "import pubchempy as pcp"
      ]
    },
    {
      "cell_type": "code",
      "execution_count": null,
      "id": "67660a0f",
      "metadata": {
        "id": "67660a0f",
        "outputId": "fea40727-fa25-40f4-cd65-cd06d3e976a5",
        "colab": {
          "base_uri": "https://localhost:8080/"
        }
      },
      "outputs": [
        {
          "output_type": "execute_result",
          "data": {
            "text/plain": [
              "[Compound(5950), Compound(449619), Compound(7311724), Compound(155817681)]"
            ]
          },
          "metadata": {},
          "execution_count": 33
        }
      ],
      "source": [
        "aa = pcp.get_compounds('alanine', 'name')\n",
        "aa"
      ]
    },
    {
      "cell_type": "markdown",
      "id": "911f5dec",
      "metadata": {
        "id": "911f5dec"
      },
      "source": [
        "# ファイルのアップロードとダウンロード"
      ]
    },
    {
      "cell_type": "code",
      "execution_count": null,
      "id": "c285085a",
      "metadata": {
        "id": "c285085a",
        "outputId": "ad1f1ca0-ddf6-4908-8e02-d743be32ecef",
        "colab": {
          "resources": {
            "http://localhost:8080/nbextensions/google.colab/files.js": {
              "data": "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",
              "ok": true,
              "headers": [
                [
                  "content-type",
                  "application/javascript"
                ]
              ],
              "status": 200,
              "status_text": ""
            }
          },
          "base_uri": "https://localhost:8080/",
          "height": 60
        }
      },
      "outputs": [
        {
          "output_type": "display_data",
          "data": {
            "text/plain": [
              "<IPython.core.display.HTML object>"
            ],
            "text/html": [
              "\n",
              "     <input type=\"file\" id=\"files-75395991-8ab2-48a1-aafb-0343a0fb6a6b\" name=\"files[]\" multiple disabled\n",
              "        style=\"border:none\" />\n",
              "     <output id=\"result-75395991-8ab2-48a1-aafb-0343a0fb6a6b\">\n",
              "      Upload widget is only available when the cell has been executed in the\n",
              "      current browser session. Please rerun this cell to enable.\n",
              "      </output>\n",
              "      <script src=\"/nbextensions/google.colab/files.js\"></script> "
            ]
          },
          "metadata": {}
        },
        {
          "output_type": "execute_result",
          "data": {
            "text/plain": [
              "{}"
            ]
          },
          "metadata": {},
          "execution_count": 34
        }
      ],
      "source": [
        "from google.colab import files\n",
        "files.upload()"
      ]
    },
    {
      "cell_type": "markdown",
      "id": "247c5670",
      "metadata": {
        "id": "247c5670"
      },
      "source": [
        "手動でも可能\n",
        "\n",
        "https://blog.kikagaku.co.jp/google-colab-file"
      ]
    },
    {
      "cell_type": "markdown",
      "id": "c6f6f844",
      "metadata": {
        "id": "c6f6f844"
      },
      "source": [
        "# google driveへの保存方法"
      ]
    },
    {
      "cell_type": "code",
      "execution_count": null,
      "id": "7ff7186c",
      "metadata": {
        "id": "7ff7186c",
        "outputId": "3c576829-8a49-4cf7-89c8-ae74003b52f7",
        "colab": {
          "base_uri": "https://localhost:8080/"
        }
      },
      "outputs": [
        {
          "output_type": "stream",
          "name": "stdout",
          "text": [
            "Drive already mounted at /content/drive; to attempt to forcibly remount, call drive.mount(\"/content/drive\", force_remount=True).\n"
          ]
        }
      ],
      "source": [
        "from google.colab import drive\n",
        "drive.mount('/content/drive')"
      ]
    },
    {
      "cell_type": "markdown",
      "id": "4af51c22",
      "metadata": {
        "id": "4af51c22"
      },
      "source": [
        "【Google Colaboratory】Google ドライブにマウントし、ファイルへアクセスする方法\n",
        "\n",
        "https://blog.kikagaku.co.jp/google-colab-drive-mount"
      ]
    },
    {
      "cell_type": "markdown",
      "id": "1e515cb4",
      "metadata": {
        "id": "1e515cb4"
      },
      "source": [
        "Google Colab/Drive に pip インストール: これなら消えない\n",
        "\n",
        "https://ggcs.io/2020/06/22/google-colab-pip-install/"
      ]
    },
    {
      "cell_type": "code",
      "execution_count": null,
      "id": "8483c337",
      "metadata": {
        "id": "8483c337"
      },
      "outputs": [],
      "source": [
        "import pandas as pd"
      ]
    },
    {
      "cell_type": "code",
      "execution_count": null,
      "id": "409b42b1",
      "metadata": {
        "id": "409b42b1",
        "outputId": "c621d4f9-487f-459a-ced2-76608deecd4e",
        "colab": {
          "base_uri": "https://localhost:8080/",
          "height": 1000
        }
      },
      "outputs": [
        {
          "output_type": "execute_result",
          "data": {
            "text/plain": [
              "       id                                             smiles  \\\n",
              "0       8  OC[C@H]1O[C@@H](OC2=CC3=C(O)C=C(O)C=C3[O+]=C2C...   \n",
              "1       9  OC[C@H]1O[C@@H](OC2=CC3=C(C=C(O)C=C3O)[O+]=C2C...   \n",
              "2      10  C[C@@H]1O[C@@H](OC[C@H]2O[C@@H](OC3=CC4=C(O)C=...   \n",
              "3      11  OC[C@H]1O[C@@H](O[C@H]2[C@H](OC3=CC4=C(O)C=C(O...   \n",
              "4      12  OC[C@@H]1O[C@H](OC2=CC3=C(O)C=C(O)C=C3[O+]=C2C...   \n",
              "..    ...                                                ...   \n",
              "366  1060         OC1=CC2=C(C(O)=C1)C(=O)C1=CC(O)=C(O)C=C1O2   \n",
              "367  1061                              CCC1=CC=C(C=C1)C(O)=O   \n",
              "368  1062                                           NCC(O)=O   \n",
              "369  1063                              COC1=CC(OC)=CC(OC)=C1   \n",
              "370  1064                    COC1=C(O)C=CC(=C1)C(=O)NCC(O)=O   \n",
              "\n",
              "             metabolite_class       metabolite_subclass  \\\n",
              "0                  Flavonoids              Anthocyanins   \n",
              "1                  Flavonoids              Anthocyanins   \n",
              "2                  Flavonoids              Anthocyanins   \n",
              "3                  Flavonoids              Anthocyanins   \n",
              "4                  Flavonoids              Anthocyanins   \n",
              "..                        ...                       ...   \n",
              "366         Other polyphenols       Hydroxybenzoketones   \n",
              "367  Non-phenolic metabolites  Non-phenolic metabolites   \n",
              "368  Non-phenolic metabolites  Non-phenolic metabolites   \n",
              "369  Non-phenolic metabolites  Non-phenolic metabolites   \n",
              "370  Non-phenolic metabolites  Non-phenolic metabolites   \n",
              "\n",
              "                           name  molecular_weight    formula  cas_number  \\\n",
              "0      Cyanidin 3-O-galactoside          449.3850  C21H21O11         NaN   \n",
              "1        Cyanidin 3-O-glucoside          449.3850  C21H21O11   7084-24-4   \n",
              "2       Cyanidin 3-O-rutinoside          595.5260  C27H31O15         NaN   \n",
              "3      Cyanidin 3-O-sophoroside          611.5250  C27H31O16         NaN   \n",
              "4    Pelargonidin 3-O-glucoside          433.3850  C21H21O10  18466-51-8   \n",
              "..                          ...               ...        ...         ...   \n",
              "366                 Norathyriol          260.1990    C13H8O6         NaN   \n",
              "367         4-Ethylbenzoic acid          150.1740    C9H10O2         NaN   \n",
              "368                     Glycine           75.0666    C2H5NO2         NaN   \n",
              "369     1,3,5-Trimethoxybenzene          168.1900    C9H12O3         NaN   \n",
              "370            Vanilloylglycine          225.1980  C10H11NO5         NaN   \n",
              "\n",
              "                  created_at               updated_at  \n",
              "0    2002-08-22 11:51:47 UTC  2015-05-10 23:28:36 UTC  \n",
              "1    2002-09-20 16:19:06 UTC  2015-05-10 23:28:36 UTC  \n",
              "2    2002-09-20 16:19:39 UTC  2015-05-10 23:28:36 UTC  \n",
              "3    2002-09-20 16:20:08 UTC  2015-05-10 23:28:36 UTC  \n",
              "4    2002-09-20 16:20:38 UTC  2015-05-10 23:28:36 UTC  \n",
              "..                       ...                      ...  \n",
              "366  2011-02-07 11:00:11 UTC  2013-10-17 16:06:47 UTC  \n",
              "367  2011-01-20 13:20:03 UTC  2013-10-17 16:06:47 UTC  \n",
              "368  2010-11-10 00:00:00 UTC  2013-10-17 16:06:47 UTC  \n",
              "369  2010-11-10 00:00:00 UTC  2015-04-14 03:50:58 UTC  \n",
              "370  2010-11-10 00:00:00 UTC  2013-10-17 16:06:47 UTC  \n",
              "\n",
              "[371 rows x 10 columns]"
            ],
            "text/html": [
              "\n",
              "  <div id=\"df-6b5321f3-c032-4a6f-bb7f-5984c9e0d98f\">\n",
              "    <div class=\"colab-df-container\">\n",
              "      <div>\n",
              "<style scoped>\n",
              "    .dataframe tbody tr th:only-of-type {\n",
              "        vertical-align: middle;\n",
              "    }\n",
              "\n",
              "    .dataframe tbody tr th {\n",
              "        vertical-align: top;\n",
              "    }\n",
              "\n",
              "    .dataframe thead th {\n",
              "        text-align: right;\n",
              "    }\n",
              "</style>\n",
              "<table border=\"1\" class=\"dataframe\">\n",
              "  <thead>\n",
              "    <tr style=\"text-align: right;\">\n",
              "      <th></th>\n",
              "      <th>id</th>\n",
              "      <th>smiles</th>\n",
              "      <th>metabolite_class</th>\n",
              "      <th>metabolite_subclass</th>\n",
              "      <th>name</th>\n",
              "      <th>molecular_weight</th>\n",
              "      <th>formula</th>\n",
              "      <th>cas_number</th>\n",
              "      <th>created_at</th>\n",
              "      <th>updated_at</th>\n",
              "    </tr>\n",
              "  </thead>\n",
              "  <tbody>\n",
              "    <tr>\n",
              "      <th>0</th>\n",
              "      <td>8</td>\n",
              "      <td>OC[C@H]1O[C@@H](OC2=CC3=C(O)C=C(O)C=C3[O+]=C2C...</td>\n",
              "      <td>Flavonoids</td>\n",
              "      <td>Anthocyanins</td>\n",
              "      <td>Cyanidin 3-O-galactoside</td>\n",
              "      <td>449.3850</td>\n",
              "      <td>C21H21O11</td>\n",
              "      <td>NaN</td>\n",
              "      <td>2002-08-22 11:51:47 UTC</td>\n",
              "      <td>2015-05-10 23:28:36 UTC</td>\n",
              "    </tr>\n",
              "    <tr>\n",
              "      <th>1</th>\n",
              "      <td>9</td>\n",
              "      <td>OC[C@H]1O[C@@H](OC2=CC3=C(C=C(O)C=C3O)[O+]=C2C...</td>\n",
              "      <td>Flavonoids</td>\n",
              "      <td>Anthocyanins</td>\n",
              "      <td>Cyanidin 3-O-glucoside</td>\n",
              "      <td>449.3850</td>\n",
              "      <td>C21H21O11</td>\n",
              "      <td>7084-24-4</td>\n",
              "      <td>2002-09-20 16:19:06 UTC</td>\n",
              "      <td>2015-05-10 23:28:36 UTC</td>\n",
              "    </tr>\n",
              "    <tr>\n",
              "      <th>2</th>\n",
              "      <td>10</td>\n",
              "      <td>C[C@@H]1O[C@@H](OC[C@H]2O[C@@H](OC3=CC4=C(O)C=...</td>\n",
              "      <td>Flavonoids</td>\n",
              "      <td>Anthocyanins</td>\n",
              "      <td>Cyanidin 3-O-rutinoside</td>\n",
              "      <td>595.5260</td>\n",
              "      <td>C27H31O15</td>\n",
              "      <td>NaN</td>\n",
              "      <td>2002-09-20 16:19:39 UTC</td>\n",
              "      <td>2015-05-10 23:28:36 UTC</td>\n",
              "    </tr>\n",
              "    <tr>\n",
              "      <th>3</th>\n",
              "      <td>11</td>\n",
              "      <td>OC[C@H]1O[C@@H](O[C@H]2[C@H](OC3=CC4=C(O)C=C(O...</td>\n",
              "      <td>Flavonoids</td>\n",
              "      <td>Anthocyanins</td>\n",
              "      <td>Cyanidin 3-O-sophoroside</td>\n",
              "      <td>611.5250</td>\n",
              "      <td>C27H31O16</td>\n",
              "      <td>NaN</td>\n",
              "      <td>2002-09-20 16:20:08 UTC</td>\n",
              "      <td>2015-05-10 23:28:36 UTC</td>\n",
              "    </tr>\n",
              "    <tr>\n",
              "      <th>4</th>\n",
              "      <td>12</td>\n",
              "      <td>OC[C@@H]1O[C@H](OC2=CC3=C(O)C=C(O)C=C3[O+]=C2C...</td>\n",
              "      <td>Flavonoids</td>\n",
              "      <td>Anthocyanins</td>\n",
              "      <td>Pelargonidin 3-O-glucoside</td>\n",
              "      <td>433.3850</td>\n",
              "      <td>C21H21O10</td>\n",
              "      <td>18466-51-8</td>\n",
              "      <td>2002-09-20 16:20:38 UTC</td>\n",
              "      <td>2015-05-10 23:28:36 UTC</td>\n",
              "    </tr>\n",
              "    <tr>\n",
              "      <th>...</th>\n",
              "      <td>...</td>\n",
              "      <td>...</td>\n",
              "      <td>...</td>\n",
              "      <td>...</td>\n",
              "      <td>...</td>\n",
              "      <td>...</td>\n",
              "      <td>...</td>\n",
              "      <td>...</td>\n",
              "      <td>...</td>\n",
              "      <td>...</td>\n",
              "    </tr>\n",
              "    <tr>\n",
              "      <th>366</th>\n",
              "      <td>1060</td>\n",
              "      <td>OC1=CC2=C(C(O)=C1)C(=O)C1=CC(O)=C(O)C=C1O2</td>\n",
              "      <td>Other polyphenols</td>\n",
              "      <td>Hydroxybenzoketones</td>\n",
              "      <td>Norathyriol</td>\n",
              "      <td>260.1990</td>\n",
              "      <td>C13H8O6</td>\n",
              "      <td>NaN</td>\n",
              "      <td>2011-02-07 11:00:11 UTC</td>\n",
              "      <td>2013-10-17 16:06:47 UTC</td>\n",
              "    </tr>\n",
              "    <tr>\n",
              "      <th>367</th>\n",
              "      <td>1061</td>\n",
              "      <td>CCC1=CC=C(C=C1)C(O)=O</td>\n",
              "      <td>Non-phenolic metabolites</td>\n",
              "      <td>Non-phenolic metabolites</td>\n",
              "      <td>4-Ethylbenzoic acid</td>\n",
              "      <td>150.1740</td>\n",
              "      <td>C9H10O2</td>\n",
              "      <td>NaN</td>\n",
              "      <td>2011-01-20 13:20:03 UTC</td>\n",
              "      <td>2013-10-17 16:06:47 UTC</td>\n",
              "    </tr>\n",
              "    <tr>\n",
              "      <th>368</th>\n",
              "      <td>1062</td>\n",
              "      <td>NCC(O)=O</td>\n",
              "      <td>Non-phenolic metabolites</td>\n",
              "      <td>Non-phenolic metabolites</td>\n",
              "      <td>Glycine</td>\n",
              "      <td>75.0666</td>\n",
              "      <td>C2H5NO2</td>\n",
              "      <td>NaN</td>\n",
              "      <td>2010-11-10 00:00:00 UTC</td>\n",
              "      <td>2013-10-17 16:06:47 UTC</td>\n",
              "    </tr>\n",
              "    <tr>\n",
              "      <th>369</th>\n",
              "      <td>1063</td>\n",
              "      <td>COC1=CC(OC)=CC(OC)=C1</td>\n",
              "      <td>Non-phenolic metabolites</td>\n",
              "      <td>Non-phenolic metabolites</td>\n",
              "      <td>1,3,5-Trimethoxybenzene</td>\n",
              "      <td>168.1900</td>\n",
              "      <td>C9H12O3</td>\n",
              "      <td>NaN</td>\n",
              "      <td>2010-11-10 00:00:00 UTC</td>\n",
              "      <td>2015-04-14 03:50:58 UTC</td>\n",
              "    </tr>\n",
              "    <tr>\n",
              "      <th>370</th>\n",
              "      <td>1064</td>\n",
              "      <td>COC1=C(O)C=CC(=C1)C(=O)NCC(O)=O</td>\n",
              "      <td>Non-phenolic metabolites</td>\n",
              "      <td>Non-phenolic metabolites</td>\n",
              "      <td>Vanilloylglycine</td>\n",
              "      <td>225.1980</td>\n",
              "      <td>C10H11NO5</td>\n",
              "      <td>NaN</td>\n",
              "      <td>2010-11-10 00:00:00 UTC</td>\n",
              "      <td>2013-10-17 16:06:47 UTC</td>\n",
              "    </tr>\n",
              "  </tbody>\n",
              "</table>\n",
              "<p>371 rows × 10 columns</p>\n",
              "</div>\n",
              "      <button class=\"colab-df-convert\" onclick=\"convertToInteractive('df-6b5321f3-c032-4a6f-bb7f-5984c9e0d98f')\"\n",
              "              title=\"Convert this dataframe to an interactive table.\"\n",
              "              style=\"display:none;\">\n",
              "        \n",
              "  <svg xmlns=\"http://www.w3.org/2000/svg\" height=\"24px\"viewBox=\"0 0 24 24\"\n",
              "       width=\"24px\">\n",
              "    <path d=\"M0 0h24v24H0V0z\" fill=\"none\"/>\n",
              "    <path d=\"M18.56 5.44l.94 2.06.94-2.06 2.06-.94-2.06-.94-.94-2.06-.94 2.06-2.06.94zm-11 1L8.5 8.5l.94-2.06 2.06-.94-2.06-.94L8.5 2.5l-.94 2.06-2.06.94zm10 10l.94 2.06.94-2.06 2.06-.94-2.06-.94-.94-2.06-.94 2.06-2.06.94z\"/><path d=\"M17.41 7.96l-1.37-1.37c-.4-.4-.92-.59-1.43-.59-.52 0-1.04.2-1.43.59L10.3 9.45l-7.72 7.72c-.78.78-.78 2.05 0 2.83L4 21.41c.39.39.9.59 1.41.59.51 0 1.02-.2 1.41-.59l7.78-7.78 2.81-2.81c.8-.78.8-2.07 0-2.86zM5.41 20L4 18.59l7.72-7.72 1.47 1.35L5.41 20z\"/>\n",
              "  </svg>\n",
              "      </button>\n",
              "      \n",
              "  <style>\n",
              "    .colab-df-container {\n",
              "      display:flex;\n",
              "      flex-wrap:wrap;\n",
              "      gap: 12px;\n",
              "    }\n",
              "\n",
              "    .colab-df-convert {\n",
              "      background-color: #E8F0FE;\n",
              "      border: none;\n",
              "      border-radius: 50%;\n",
              "      cursor: pointer;\n",
              "      display: none;\n",
              "      fill: #1967D2;\n",
              "      height: 32px;\n",
              "      padding: 0 0 0 0;\n",
              "      width: 32px;\n",
              "    }\n",
              "\n",
              "    .colab-df-convert:hover {\n",
              "      background-color: #E2EBFA;\n",
              "      box-shadow: 0px 1px 2px rgba(60, 64, 67, 0.3), 0px 1px 3px 1px rgba(60, 64, 67, 0.15);\n",
              "      fill: #174EA6;\n",
              "    }\n",
              "\n",
              "    [theme=dark] .colab-df-convert {\n",
              "      background-color: #3B4455;\n",
              "      fill: #D2E3FC;\n",
              "    }\n",
              "\n",
              "    [theme=dark] .colab-df-convert:hover {\n",
              "      background-color: #434B5C;\n",
              "      box-shadow: 0px 1px 3px 1px rgba(0, 0, 0, 0.15);\n",
              "      filter: drop-shadow(0px 1px 2px rgba(0, 0, 0, 0.3));\n",
              "      fill: #FFFFFF;\n",
              "    }\n",
              "  </style>\n",
              "\n",
              "      <script>\n",
              "        const buttonEl =\n",
              "          document.querySelector('#df-6b5321f3-c032-4a6f-bb7f-5984c9e0d98f button.colab-df-convert');\n",
              "        buttonEl.style.display =\n",
              "          google.colab.kernel.accessAllowed ? 'block' : 'none';\n",
              "\n",
              "        async function convertToInteractive(key) {\n",
              "          const element = document.querySelector('#df-6b5321f3-c032-4a6f-bb7f-5984c9e0d98f');\n",
              "          const dataTable =\n",
              "            await google.colab.kernel.invokeFunction('convertToInteractive',\n",
              "                                                     [key], {});\n",
              "          if (!dataTable) return;\n",
              "\n",
              "          const docLinkHtml = 'Like what you see? Visit the ' +\n",
              "            '<a target=\"_blank\" href=https://colab.research.google.com/notebooks/data_table.ipynb>data table notebook</a>'\n",
              "            + ' to learn more about interactive tables.';\n",
              "          element.innerHTML = '';\n",
              "          dataTable['output_type'] = 'display_data';\n",
              "          await google.colab.output.renderOutput(dataTable, element);\n",
              "          const docLink = document.createElement('div');\n",
              "          docLink.innerHTML = docLinkHtml;\n",
              "          element.appendChild(docLink);\n",
              "        }\n",
              "      </script>\n",
              "    </div>\n",
              "  </div>\n",
              "  "
            ]
          },
          "metadata": {},
          "execution_count": 37
        }
      ],
      "source": [
        "df = pd.read_csv(\"/content/drive/MyDrive/data/metabolites-structures.csv\")\n",
        "df"
      ]
    },
    {
      "cell_type": "markdown",
      "id": "8e697baa",
      "metadata": {
        "id": "8e697baa"
      },
      "source": [
        "# mini condaのインストールと環境設定"
      ]
    },
    {
      "cell_type": "markdown",
      "id": "6096d643",
      "metadata": {
        "id": "6096d643"
      },
      "source": [
        "pip が使えなくて、condaでインストールする必要がある時には、以下のように行う。\n",
        "\n",
        "ColaboratoryでRDKit (2021.2.26版)\n",
        "\n",
        "https://qiita.com/tonets/items/0d991dd16911a689e1ee"
      ]
    },
    {
      "cell_type": "code",
      "execution_count": null,
      "id": "67c6f758",
      "metadata": {
        "id": "67c6f758"
      },
      "outputs": [],
      "source": [
        "%%bash\n",
        "wget -c https://repo.continuum.io/miniconda/Miniconda3-latest-Linux-x86_64.sh\n",
        "chmod +x Miniconda3-latest-Linux-x86_64.sh\n",
        "bash ./Miniconda3-latest-Linux-x86_64.sh -b -f -p /usr/local\n",
        "conda update --channel defaults --all --yes"
      ]
    },
    {
      "cell_type": "markdown",
      "id": "a2f59cfc",
      "metadata": {
        "id": "a2f59cfc"
      },
      "source": [
        "https://repo.anaconda.com/miniconda/\n",
        "ここの中にあるファイルを指定できる。"
      ]
    },
    {
      "cell_type": "code",
      "execution_count": null,
      "id": "946872b7",
      "metadata": {
        "id": "946872b7"
      },
      "outputs": [],
      "source": [
        "import sys\n",
        "_ = (sys.path.append(\"/usr/local/lib/python3.7/site-packages\"))"
      ]
    },
    {
      "cell_type": "markdown",
      "id": "71f625cf",
      "metadata": {
        "id": "71f625cf"
      },
      "source": [
        "あとは、!conda installでライブラリーをインストールすればよい。"
      ]
    },
    {
      "cell_type": "code",
      "execution_count": null,
      "id": "28307548",
      "metadata": {
        "id": "28307548"
      },
      "outputs": [],
      "source": [
        "!conda install -c conda-forge rdkit"
      ]
    }
  ],
  "metadata": {
    "celltoolbar": "Slideshow",
    "kernelspec": {
      "display_name": "Python 3 (ipykernel)",
      "language": "python",
      "name": "python3"
    },
    "language_info": {
      "codemirror_mode": {
        "name": "ipython",
        "version": 3
      },
      "file_extension": ".py",
      "mimetype": "text/x-python",
      "name": "python",
      "nbconvert_exporter": "python",
      "pygments_lexer": "ipython3",
      "version": "3.8.13"
    },
    "colab": {
      "name": "lecture_note1.ipynb のコピー",
      "provenance": [],
      "include_colab_link": true
    }
  },
  "nbformat": 4,
  "nbformat_minor": 5
}