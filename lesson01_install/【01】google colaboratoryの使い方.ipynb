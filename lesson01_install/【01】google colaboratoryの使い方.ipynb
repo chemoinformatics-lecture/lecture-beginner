{
  "cells": [
    {
      "cell_type": "markdown",
      "id": "ded3e83a",
      "metadata": {
        "id": "ded3e83a"
      },
      "source": [
        "# google colabolatoryでプログラムの実行"
      ]
    },
    {
      "cell_type": "markdown",
      "id": "ab752a2e",
      "metadata": {
        "id": "ab752a2e"
      },
      "source": [
        "# googleアカウントの作成とchromeのダウンロードを行う"
      ]
    },
    {
      "cell_type": "markdown",
      "id": "82e5bcd3",
      "metadata": {
        "id": "82e5bcd3"
      },
      "source": [
        "googleのアカウントがあれば、google colabolatoryを無料で使用できる。"
      ]
    },
    {
      "cell_type": "markdown",
      "id": "e0e71869",
      "metadata": {
        "id": "e0e71869"
      },
      "source": [
        "googleアカウントは、複数持っていても大丈夫\n",
        "勉強用に設定（パスワードを忘れないように注意）\n",
        "\n",
        "https://allabout.co.jp/gm/gc/474435/\n",
        "   \n",
        "chromeならば、アカウントの切り替えや同時使用も楽\n",
        "\n",
        "https://www.pc-koubou.jp/magazine/36073"
      ]
    },
    {
      "cell_type": "markdown",
      "id": "20645987",
      "metadata": {
        "id": "20645987"
      },
      "source": [
        "## google colabolatoryのメリット"
      ]
    },
    {
      "cell_type": "markdown",
      "id": "bf617c45",
      "metadata": {
        "id": "bf617c45"
      },
      "source": [
        "1. 手軽で簡単\n",
        "2. 無料\n",
        "3. 高性能GPUが使える\n",
        "4. 共有が楽"
      ]
    },
    {
      "cell_type": "markdown",
      "id": "ff85de8f",
      "metadata": {
        "id": "ff85de8f"
      },
      "source": [
        "## google colabolatoryのデメリット"
      ]
    },
    {
      "cell_type": "markdown",
      "id": "4c1009ef",
      "metadata": {
        "id": "4c1009ef"
      },
      "source": [
        "　1. 90分ルール(セッション切断から90分経過でリセット実行)\n",
        "　2. 12時間ルール(ノートブック起動から12時間経過でリセット実行)"
      ]
    },
    {
      "cell_type": "markdown",
      "id": "9f8c2f4e",
      "metadata": {
        "id": "9f8c2f4e"
      },
      "source": [
        "# google colabへのリンク"
      ]
    },
    {
      "cell_type": "markdown",
      "id": "2f74eee8",
      "metadata": {
        "id": "2f74eee8"
      },
      "source": [
        "githubリポジトリ内のjupyter notebookを開き、開いたURLの\n",
        "”https://github.com”\n",
        "を\n",
        "”https://colab.research.google.com/github”\n",
        "に変換してアクセスすると、google colabolatoryで開くことができる。\n",
        "\n",
        "\"https://github.com/chemoinformatics-lecture/lecture-beginner/blob/main/lesson01_install/【01】google%20colaboratoryの使い方.ipynb\"\n",
        "だったら、\n",
        "\"https://colab.research.google.com/github.com/chemoinformatics-lecture/lecture-beginner/blob/main/lesson01_install/【01】google%20colaboratoryの使い方.ipynb”\n",
        "になる。"
      ]
    },
    {
      "cell_type": "markdown",
      "id": "17016cec",
      "metadata": {
        "id": "17016cec"
      },
      "source": [
        "[![Open In Colab](https://colab.research.google.com/assets/colab-badge.svg)](http://colab.research.google.com/github.com/chemoinformatics-lecture/lecture-beginner/blob/main/lesson01_install/【01】google%20colaboratoryの使い方.ipynb)"
      ]
    },
    {
      "cell_type": "markdown",
      "source": [],
      "metadata": {
        "id": "eEeoLs_sNUoY"
      },
      "id": "eEeoLs_sNUoY"
    },
    {
      "cell_type": "markdown",
      "id": "02dd13f8",
      "metadata": {
        "id": "02dd13f8"
      },
      "source": [
        "↑ colabで開くようなリンクも作成することができる。\n",
        "\n",
        "https://rcmdnk.com/blog/2019/05/24/computer-github-python/\n",
        "\n",
        "ブックマークレットも便利"
      ]
    },
    {
      "cell_type": "markdown",
      "id": "c931ee16",
      "metadata": {
        "id": "c931ee16"
      },
      "source": [
        "# google colabolatoryの使い方"
      ]
    },
    {
      "cell_type": "code",
      "execution_count": 2,
      "id": "2d5da117",
      "metadata": {
        "id": "2d5da117",
        "outputId": "900f29e9-40c2-405b-8832-5027d08fe09d",
        "colab": {
          "base_uri": "https://localhost:8080/"
        }
      },
      "outputs": [
        {
          "output_type": "stream",
          "name": "stdout",
          "text": [
            "Hello World\n"
          ]
        }
      ],
      "source": [
        "print(\"Hello World\")"
      ]
    },
    {
      "cell_type": "markdown",
      "id": "e0afdeee",
      "metadata": {
        "id": "e0afdeee"
      },
      "source": [
        "# google colabolatoryの注意点\n",
        "90分ほど操作しない状態が続く場合、仮想マシンは停止し、ダウンロードしたデータやライブラリは初期化される仕様なので注意が必要"
      ]
    },
    {
      "cell_type": "markdown",
      "id": "c6f6f844",
      "metadata": {
        "id": "c6f6f844"
      },
      "source": [
        "# google driveへの保存方法"
      ]
    },
    {
      "cell_type": "code",
      "execution_count": 3,
      "id": "7ff7186c",
      "metadata": {
        "id": "7ff7186c",
        "outputId": "70fa2f90-3b60-44a1-d49f-005e500213a4",
        "colab": {
          "base_uri": "https://localhost:8080/"
        }
      },
      "outputs": [
        {
          "output_type": "stream",
          "name": "stdout",
          "text": [
            "Mounted at /content/drive\n"
          ]
        }
      ],
      "source": [
        "from google.colab import drive\n",
        "drive.mount('/content/drive')"
      ]
    },
    {
      "cell_type": "markdown",
      "id": "4af51c22",
      "metadata": {
        "id": "4af51c22"
      },
      "source": [
        "【Google Colaboratory】Google ドライブにマウントし、ファイルへアクセスする方法\n",
        "\n",
        "https://blog.kikagaku.co.jp/google-colab-drive-mount"
      ]
    }
  ],
  "metadata": {
    "celltoolbar": "Slideshow",
    "kernelspec": {
      "display_name": "Python 3 (ipykernel)",
      "language": "python",
      "name": "python3"
    },
    "language_info": {
      "codemirror_mode": {
        "name": "ipython",
        "version": 3
      },
      "file_extension": ".py",
      "mimetype": "text/x-python",
      "name": "python",
      "nbconvert_exporter": "python",
      "pygments_lexer": "ipython3",
      "version": "3.8.13"
    },
    "colab": {
      "name": "lecture_note1.ipynb のコピー",
      "provenance": []
    }
  },
  "nbformat": 4,
  "nbformat_minor": 5
}