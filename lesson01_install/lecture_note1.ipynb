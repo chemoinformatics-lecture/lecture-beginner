{
 "cells": [
  {
   "cell_type": "markdown",
   "id": "45a9e26f",
   "metadata": {},
   "source": [
    "Jupyter 知っておくと少し便利なTIPS集\n",
    "https://qiita.com/simonritchie/items/d7dccb798f0b9c8b1ec5"
   ]
  },
  {
   "cell_type": "markdown",
   "id": "a90a013a",
   "metadata": {},
   "source": [
    "# google colabへのリンク"
   ]
  },
  {
   "cell_type": "markdown",
   "id": "76698a15",
   "metadata": {},
   "source": [
    "[![Open In Colab](https://colab.research.google.com/assets/colab-badge.svg)](http://colab.research.google.com/github/chemoinformatics-lecture/lecture-beginner/blob/main/lesson01_install/lecture_note1.ipynb)"
   ]
  },
  {
   "cell_type": "markdown",
   "id": "2fe60631",
   "metadata": {},
   "source": [
    "# ライブラリーのインストール"
   ]
  },
  {
   "cell_type": "markdown",
   "id": "9e866fd5",
   "metadata": {},
   "source": [
    "先頭に!をつけて行う。"
   ]
  },
  {
   "cell_type": "code",
   "execution_count": null,
   "id": "ab0f8970",
   "metadata": {},
   "outputs": [],
   "source": [
    "!wget -c https://repo.continuum.io/miniconda/Miniconda3-latest-Linux-x86_64.sh\n",
    "!chmod +x Miniconda3-latest-Linux-x86_64.sh\n",
    "!bash ./Miniconda3-latest-Linux-x86_64.sh -b -f -p /usr/local"
   ]
  },
  {
   "cell_type": "code",
   "execution_count": null,
   "id": "b4d13eca",
   "metadata": {},
   "outputs": [],
   "source": [
    "!conda install -c mcs07 pubchempy"
   ]
  },
  {
   "cell_type": "markdown",
   "id": "a530ec60",
   "metadata": {},
   "source": [
    "# ファイルのアップロード"
   ]
  },
  {
   "cell_type": "code",
   "execution_count": null,
   "id": "c285085a",
   "metadata": {},
   "outputs": [],
   "source": []
  },
  {
   "cell_type": "markdown",
   "id": "b0e646fd",
   "metadata": {},
   "source": [
    "# ファイルのダウンロード"
   ]
  },
  {
   "cell_type": "code",
   "execution_count": null,
   "id": "5fbc69e4",
   "metadata": {},
   "outputs": [],
   "source": []
  },
  {
   "cell_type": "markdown",
   "id": "3960316f",
   "metadata": {},
   "source": [
    "# google driveへの保存方法"
   ]
  },
  {
   "cell_type": "code",
   "execution_count": null,
   "id": "64164587",
   "metadata": {},
   "outputs": [],
   "source": []
  }
 ],
 "metadata": {
  "kernelspec": {
   "display_name": "Python 3 (ipykernel)",
   "language": "python",
   "name": "python3"
  },
  "language_info": {
   "codemirror_mode": {
    "name": "ipython",
    "version": 3
   },
   "file_extension": ".py",
   "mimetype": "text/x-python",
   "name": "python",
   "nbconvert_exporter": "python",
   "pygments_lexer": "ipython3",
   "version": "3.8.13"
  }
 },
 "nbformat": 4,
 "nbformat_minor": 5
}
