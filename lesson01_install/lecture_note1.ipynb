{
 "cells": [
  {
   "cell_type": "markdown",
   "id": "9f8c2f4e",
   "metadata": {},
   "source": [
    "# google colabへのリンク"
   ]
  },
  {
   "cell_type": "markdown",
   "id": "17016cec",
   "metadata": {},
   "source": [
    "[![Open In Colab](https://colab.research.google.com/assets/colab-badge.svg)](http://colab.research.google.com/github/chemoinformatics-lecture/lecture-beginner/blob/main/lesson01_install/lecture_note1.ipynb)"
   ]
  },
  {
   "cell_type": "markdown",
   "id": "c931ee16",
   "metadata": {},
   "source": [
    "# google colabolatoryの使い方"
   ]
  },
  {
   "cell_type": "code",
   "execution_count": null,
   "id": "2d5da117",
   "metadata": {},
   "outputs": [],
   "source": [
    "print(\"hello Python\")"
   ]
  },
  {
   "cell_type": "code",
   "execution_count": null,
   "id": "e19658a9",
   "metadata": {},
   "outputs": [],
   "source": [
    "1+1 "
   ]
  },
  {
   "cell_type": "markdown",
   "id": "38d56e2f",
   "metadata": {},
   "source": [
    "# 事前に入っているライブラリー"
   ]
  },
  {
   "cell_type": "code",
   "execution_count": null,
   "id": "0c7018cd",
   "metadata": {},
   "outputs": [],
   "source": [
    "!pip freeze"
   ]
  },
  {
   "cell_type": "code",
   "execution_count": null,
   "id": "235e237b",
   "metadata": {},
   "outputs": [],
   "source": [
    "matplotlib, pandas, seaborn, plotly, sklearn, numpyなどなどが事前に入っている。"
   ]
  },
  {
   "cell_type": "markdown",
   "id": "2b87eb48",
   "metadata": {},
   "source": [
    "参考web\n",
    "https://blog.masahiko.info/entry/2020/03/14/160151"
   ]
  },
  {
   "cell_type": "markdown",
   "id": "e0afdeee",
   "metadata": {},
   "source": [
    "# google colabolatoryの注意点\n",
    "90分ほど操作しない状態が続く場合、仮想マシンは停止し、ダウンロードしたデータやライブラリは初期化される仕様なので注意が必要"
   ]
  },
  {
   "cell_type": "markdown",
   "id": "8e697baa",
   "metadata": {},
   "source": [
    "# mini condaのインストールと環境設定"
   ]
  },
  {
   "cell_type": "markdown",
   "id": "a2f59cfc",
   "metadata": {},
   "source": [
    "https://repo.anaconda.com/miniconda/\n",
    "ここの中にあるファイルを指定できる。"
   ]
  },
  {
   "cell_type": "code",
   "execution_count": null,
   "id": "67c6f758",
   "metadata": {},
   "outputs": [],
   "source": [
    "%%bash\n",
    "\n",
    "MINICONDA_INSTALLER_SCRIPT=Miniconda3-latest-Linux-x86_64.sh\n",
    "MINICONDA_PREFIX=/usr/local\n",
    "wget https://repo.continuum.io/miniconda/$MINICONDA_INSTALLER_SCRIPT\n",
    "chmod +x $MINICONDA_INSTALLER_SCRIPT\n",
    "./$MINICONDA_INSTALLER_SCRIPT -b -f -p $MINICONDA_PREFIX\n",
    "conda install --channel defaults conda python=3.8 --yes\n",
    "conda update --channel defaults --all --yes"
   ]
  },
  {
   "cell_type": "code",
   "execution_count": null,
   "id": "946872b7",
   "metadata": {},
   "outputs": [],
   "source": [
    "import sys\n",
    "_ = (sys.path\n",
    "        .append(\"/usr/local/lib/python3.8/site-packages\"))"
   ]
  },
  {
   "cell_type": "markdown",
   "id": "3e999132",
   "metadata": {},
   "source": [
    "## ライブラリーにインストール"
   ]
  },
  {
   "cell_type": "markdown",
   "id": "f024788f",
   "metadata": {},
   "source": [
    "先頭に!をつけて行う。"
   ]
  },
  {
   "cell_type": "code",
   "execution_count": null,
   "id": "5144e0e9",
   "metadata": {},
   "outputs": [],
   "source": [
    "!conda install -c rdkit rdkit --yes "
   ]
  },
  {
   "cell_type": "code",
   "execution_count": null,
   "id": "ac41fe35",
   "metadata": {},
   "outputs": [],
   "source": [
    "from rdkit import Chem\n",
    "from rdkit.Chem import Draw"
   ]
  },
  {
   "cell_type": "code",
   "execution_count": null,
   "id": "4708368c",
   "metadata": {},
   "outputs": [],
   "source": [
    "mol = Chem.MolFromSmiles('Cc1ccccc1')\n",
    "Draw.MolToImage(mol, size=(100,100))"
   ]
  },
  {
   "cell_type": "code",
   "execution_count": null,
   "id": "3e4bd6f1",
   "metadata": {},
   "outputs": [],
   "source": [
    "!conda install -c mcs07 pubchempy"
   ]
  },
  {
   "cell_type": "code",
   "execution_count": null,
   "id": "6411053b",
   "metadata": {},
   "outputs": [],
   "source": [
    "import pubchempy as pcp"
   ]
  },
  {
   "cell_type": "code",
   "execution_count": null,
   "id": "67660a0f",
   "metadata": {},
   "outputs": [],
   "source": [
    "aa = pcp.get_compounds('alanine', 'name')\n",
    "aa"
   ]
  },
  {
   "cell_type": "markdown",
   "id": "911f5dec",
   "metadata": {},
   "source": [
    "# ファイルのアップロード"
   ]
  },
  {
   "cell_type": "code",
   "execution_count": null,
   "id": "c285085a",
   "metadata": {},
   "outputs": [],
   "source": []
  },
  {
   "cell_type": "markdown",
   "id": "e648dc68",
   "metadata": {},
   "source": [
    "# ファイルのダウンロード"
   ]
  },
  {
   "cell_type": "code",
   "execution_count": null,
   "id": "a24370a6",
   "metadata": {},
   "outputs": [],
   "source": []
  },
  {
   "cell_type": "markdown",
   "id": "c6f6f844",
   "metadata": {},
   "source": [
    "# google driveへの保存方法"
   ]
  },
  {
   "cell_type": "code",
   "execution_count": null,
   "id": "7ff7186c",
   "metadata": {},
   "outputs": [],
   "source": []
  }
 ],
 "metadata": {
  "kernelspec": {
   "display_name": "Python 3 (ipykernel)",
   "language": "python",
   "name": "python3"
  },
  "language_info": {
   "codemirror_mode": {
    "name": "ipython",
    "version": 3
   },
   "file_extension": ".py",
   "mimetype": "text/x-python",
   "name": "python",
   "nbconvert_exporter": "python",
   "pygments_lexer": "ipython3",
   "version": "3.8.13"
  }
 },
 "nbformat": 4,
 "nbformat_minor": 5
}
