{
 "cells": [
  {
   "cell_type": "markdown",
   "id": "9decedee",
   "metadata": {
    "slideshow": {
     "slide_type": "slide"
    }
   },
   "source": [
    "# google colabolatoryでプログラムの実行"
   ]
  },
  {
   "cell_type": "markdown",
   "id": "a475da73",
   "metadata": {
    "slideshow": {
     "slide_type": "slide"
    }
   },
   "source": [
    "# googleアカウントの作成とchromeのダウンロードを行う"
   ]
  },
  {
   "cell_type": "markdown",
   "id": "edbfc44d",
   "metadata": {},
   "source": [
    "googleのアカウントがあれば、google colabolatoryを無料で使用できる。"
   ]
  },
  {
   "cell_type": "markdown",
   "id": "f6c59b9f",
   "metadata": {},
   "source": [
    "googleアカウントは、複数持っていても大丈夫\n",
    "勉強用に設定（パスワードを忘れないように注意）\n",
    "\n",
    "https://allabout.co.jp/gm/gc/474435/\n",
    "   \n",
    "chromeならば、アカウントの切り替えや同時使用も楽\n",
    "\n",
    "https://www.pc-koubou.jp/magazine/36073"
   ]
  },
  {
   "cell_type": "markdown",
   "id": "f3f02d59",
   "metadata": {},
   "source": [
    "## google colabolatoryのメリット"
   ]
  },
  {
   "cell_type": "markdown",
   "id": "0ef154d7",
   "metadata": {},
   "source": [
    "1. 手軽で簡単\n",
    "2. 無料\n",
    "3. 高性能GPUが使える\n",
    "4. 共有が楽"
   ]
  },
  {
   "cell_type": "markdown",
   "id": "fcc2727d",
   "metadata": {},
   "source": [
    "## google colabolatoryのデメリット"
   ]
  },
  {
   "cell_type": "markdown",
   "id": "3aadee1b",
   "metadata": {},
   "source": [
    "　1. 90分ルール(セッション切断から90分経過でリセット実行)\n",
    "　2. 12時間ルール(ノートブック起動から12時間経過でリセット実行)"
   ]
  },
  {
   "cell_type": "markdown",
   "id": "9f8c2f4e",
   "metadata": {},
   "source": [
    "# google colabへのリンク"
   ]
  },
  {
   "cell_type": "markdown",
   "id": "0eb703ea",
   "metadata": {},
   "source": [
    "githubリポジトリ内のjupyter notebookを開き、開いたURLの\n",
    "”https://github.com”\n",
    "を\n",
    "”https://colab.research.google.com/github”\n",
    "に変換してアクセスすると、google colabolatoryで開くことができる。\n",
    "\n",
    "\"https://github.com/chemoinformatics-lecture/lecture-beginner/blob/main/lesson01_install/lecture_note1.ipynb\"\n",
    "だったら、\n",
    "\"https://colab.research.google.com/github/chemoinformatics-lecture/lecture-beginner/blob/main/lesson01_install/lecture_note1.ipynb”\n",
    "になる。"
   ]
  },
  {
   "cell_type": "markdown",
   "id": "17016cec",
   "metadata": {},
   "source": [
    "[![Open In Colab](https://colab.research.google.com/assets/colab-badge.svg)](http://colab.research.google.com/github/chemoinformatics-lecture/lecture-beginner/blob/main/lesson01_install/lecture_note1.ipynb)"
   ]
  },
  {
   "cell_type": "markdown",
   "id": "031c7302",
   "metadata": {},
   "source": [
    "↑ colabで開くようなリンクも作成することができる。\n",
    "\n",
    "https://rcmdnk.com/blog/2019/05/24/computer-github-python/\n",
    "\n",
    "ブックマークレットも便利"
   ]
  },
  {
   "cell_type": "markdown",
   "id": "c931ee16",
   "metadata": {},
   "source": [
    "# google colabolatoryの使い方"
   ]
  },
  {
   "cell_type": "code",
   "execution_count": null,
   "id": "2d5da117",
   "metadata": {},
   "outputs": [],
   "source": [
    "print(\"hello Python\")"
   ]
  },
  {
   "cell_type": "code",
   "execution_count": null,
   "id": "e19658a9",
   "metadata": {},
   "outputs": [],
   "source": [
    "1+1 "
   ]
  },
  {
   "cell_type": "markdown",
   "id": "38d56e2f",
   "metadata": {},
   "source": [
    "# 事前に入っているライブラリー"
   ]
  },
  {
   "cell_type": "code",
   "execution_count": null,
   "id": "0c7018cd",
   "metadata": {},
   "outputs": [],
   "source": [
    "!pip freeze"
   ]
  },
  {
   "cell_type": "code",
   "execution_count": null,
   "id": "235e237b",
   "metadata": {},
   "outputs": [],
   "source": [
    "matplotlib, pandas, numpy, sklearnなどが事前に入っている。"
   ]
  },
  {
   "cell_type": "markdown",
   "id": "2b87eb48",
   "metadata": {},
   "source": [
    "参考web\n",
    "https://blog.masahiko.info/entry/2020/03/14/160151"
   ]
  },
  {
   "cell_type": "code",
   "execution_count": null,
   "id": "1e2d5cf0",
   "metadata": {},
   "outputs": [],
   "source": [
    "import pandas as pd"
   ]
  },
  {
   "cell_type": "code",
   "execution_count": null,
   "id": "9f147541",
   "metadata": {},
   "outputs": [],
   "source": [
    "df = pd.DataFrame({\n",
    "    '名前' :['田中', '山田', '高橋'],\n",
    "    '役割' : ['営業部長', '広報部', '技術責任者'],\n",
    "    '身長' : [178, 173, 169]\n",
    "    })\n",
    "\n",
    "df"
   ]
  },
  {
   "cell_type": "code",
   "execution_count": null,
   "id": "9ec54197",
   "metadata": {},
   "outputs": [],
   "source": [
    "google colabolatoryが使用しているOSやpythonのversion"
   ]
  },
  {
   "cell_type": "code",
   "execution_count": null,
   "id": "ddbeff31",
   "metadata": {},
   "outputs": [],
   "source": [
    "!python version"
   ]
  },
  {
   "cell_type": "code",
   "execution_count": null,
   "id": "5c0dafc4",
   "metadata": {},
   "outputs": [],
   "source": [
    "import platform\n",
    "# 使用しているOSを表示\n",
    "platform.platform()"
   ]
  },
  {
   "cell_type": "markdown",
   "id": "e0afdeee",
   "metadata": {},
   "source": [
    "# google colabolatoryの注意点\n",
    "90分ほど操作しない状態が続く場合、仮想マシンは停止し、ダウンロードしたデータやライブラリは初期化される仕様なので注意が必要"
   ]
  },
  {
   "cell_type": "markdown",
   "id": "3e999132",
   "metadata": {},
   "source": [
    "## ライブラリーにインストール"
   ]
  },
  {
   "cell_type": "markdown",
   "id": "f024788f",
   "metadata": {},
   "source": [
    "先頭に!をつけて行う。"
   ]
  },
  {
   "cell_type": "code",
   "execution_count": null,
   "id": "654e8343",
   "metadata": {},
   "outputs": [],
   "source": [
    "!pip install rdkit"
   ]
  },
  {
   "cell_type": "code",
   "execution_count": null,
   "id": "ac41fe35",
   "metadata": {},
   "outputs": [],
   "source": [
    "from rdkit import Chem\n",
    "from rdkit.Chem import Draw"
   ]
  },
  {
   "cell_type": "code",
   "execution_count": null,
   "id": "4708368c",
   "metadata": {},
   "outputs": [],
   "source": [
    "mol = Chem.MolFromSmiles('Cc1ccccc1')\n",
    "Draw.MolToImage(mol, size=(100,100))"
   ]
  },
  {
   "cell_type": "code",
   "execution_count": null,
   "id": "3e4bd6f1",
   "metadata": {},
   "outputs": [],
   "source": [
    "!pip install pubchempy"
   ]
  },
  {
   "cell_type": "code",
   "execution_count": null,
   "id": "6411053b",
   "metadata": {},
   "outputs": [],
   "source": [
    "import pubchempy as pcp"
   ]
  },
  {
   "cell_type": "code",
   "execution_count": null,
   "id": "67660a0f",
   "metadata": {},
   "outputs": [],
   "source": [
    "aa = pcp.get_compounds('alanine', 'name')\n",
    "aa"
   ]
  },
  {
   "cell_type": "markdown",
   "id": "911f5dec",
   "metadata": {},
   "source": [
    "# ファイルのアップロードとダウンロード"
   ]
  },
  {
   "cell_type": "code",
   "execution_count": null,
   "id": "c285085a",
   "metadata": {},
   "outputs": [],
   "source": [
    "from google.colab import files\n",
    "files.upload()"
   ]
  },
  {
   "cell_type": "markdown",
   "id": "247c5670",
   "metadata": {},
   "source": [
    "手動でも可能\n",
    "\n",
    "https://blog.kikagaku.co.jp/google-colab-file"
   ]
  },
  {
   "cell_type": "markdown",
   "id": "c6f6f844",
   "metadata": {},
   "source": [
    "# google driveへの保存方法"
   ]
  },
  {
   "cell_type": "code",
   "execution_count": null,
   "id": "7ff7186c",
   "metadata": {},
   "outputs": [],
   "source": [
    "from google.colab import drive\n",
    "drive.mount('/content/drive')"
   ]
  },
  {
   "cell_type": "markdown",
   "id": "4af51c22",
   "metadata": {},
   "source": [
    "【Google Colaboratory】Google ドライブにマウントし、ファイルへアクセスする方法\n",
    "\n",
    "https://blog.kikagaku.co.jp/google-colab-drive-mount"
   ]
  },
  {
   "cell_type": "markdown",
   "id": "1ab30d93",
   "metadata": {},
   "source": [
    "Google Colab/Drive に pip インストール: これなら消えない\n",
    "\n",
    "https://ggcs.io/2020/06/22/google-colab-pip-install/"
   ]
  },
  {
   "cell_type": "code",
   "execution_count": null,
   "id": "6e702b6c",
   "metadata": {},
   "outputs": [],
   "source": [
    "import pandas as pd"
   ]
  },
  {
   "cell_type": "code",
   "execution_count": null,
   "id": "5f6c8bff",
   "metadata": {},
   "outputs": [],
   "source": [
    "df = pd.read_csv(\"/content/drive/MyDrive/data/output.csv\")\n",
    "df"
   ]
  },
  {
   "cell_type": "markdown",
   "id": "8e697baa",
   "metadata": {},
   "source": [
    "# mini condaのインストールと環境設定"
   ]
  },
  {
   "cell_type": "markdown",
   "id": "e4d91f67",
   "metadata": {},
   "source": [
    "pip が使えなくて、condaでインストールする必要がある時には、以下のように行う。\n",
    "\n",
    "ColaboratoryでRDKit (2021.2.26版)\n",
    "\n",
    "https://qiita.com/tonets/items/0d991dd16911a689e1ee"
   ]
  },
  {
   "cell_type": "code",
   "execution_count": null,
   "id": "67c6f758",
   "metadata": {},
   "outputs": [],
   "source": [
    "%%bash\n",
    "wget -c https://repo.continuum.io/miniconda/Miniconda3-latest-Linux-x86_64.sh\n",
    "chmod +x Miniconda3-latest-Linux-x86_64.sh\n",
    "bash ./Miniconda3-latest-Linux-x86_64.sh -b -f -p /usr/local\n",
    "conda update --channel defaults --all --yes"
   ]
  },
  {
   "cell_type": "markdown",
   "id": "a2f59cfc",
   "metadata": {},
   "source": [
    "https://repo.anaconda.com/miniconda/\n",
    "ここの中にあるファイルを指定できる。"
   ]
  },
  {
   "cell_type": "code",
   "execution_count": null,
   "id": "946872b7",
   "metadata": {},
   "outputs": [],
   "source": [
    "import sys\n",
    "_ = (sys.path.append(\"/usr/local/lib/python3.7/site-packages\"))"
   ]
  },
  {
   "cell_type": "markdown",
   "id": "836ff229",
   "metadata": {},
   "source": [
    "あとは、!conda installでライブラリーをインストールすればよい。"
   ]
  },
  {
   "cell_type": "code",
   "execution_count": null,
   "id": "6de94fe1",
   "metadata": {},
   "outputs": [],
   "source": [
    "!conda install -c conda-forge rdkit"
   ]
  }
 ],
 "metadata": {
  "celltoolbar": "Slideshow",
  "kernelspec": {
   "display_name": "Python 3 (ipykernel)",
   "language": "python",
   "name": "python3"
  },
  "language_info": {
   "codemirror_mode": {
    "name": "ipython",
    "version": 3
   },
   "file_extension": ".py",
   "mimetype": "text/x-python",
   "name": "python",
   "nbconvert_exporter": "python",
   "pygments_lexer": "ipython3",
   "version": "3.8.13"
  }
 },
 "nbformat": 4,
 "nbformat_minor": 5
}
