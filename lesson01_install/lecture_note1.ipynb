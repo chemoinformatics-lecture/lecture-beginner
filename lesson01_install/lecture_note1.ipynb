{
 "cells": [
  {
   "cell_type": "markdown",
   "id": "45a9e26f",
   "metadata": {},
   "source": [
    "Jupyter 知っておくと少し便利なTIPS集\n",
    "https://qiita.com/simonritchie/items/d7dccb798f0b9c8b1ec5"
   ]
  },
  {
   "cell_type": "markdown",
   "id": "9ad47162",
   "metadata": {},
   "source": [
    "# google colabへのリンク"
   ]
  },
  {
   "cell_type": "markdown",
   "id": "41b398ff",
   "metadata": {},
   "source": [
    "[![Open In Colab](https://colab.research.google.com/assets/colab-badge.svg)](http://colab.research.google.com/github/chemoinformatics-lecture/lecture-beginner/blob/main/lesson01_install/lecture_note1.ipynb)"
   ]
  },
  {
   "cell_type": "markdown",
   "id": "e4532b2c",
   "metadata": {},
   "source": [
    "# ライブラリーのインストール"
   ]
  },
  {
   "cell_type": "markdown",
   "id": "6368e5aa",
   "metadata": {},
   "source": [
    "先頭に!をつけて行う。"
   ]
  },
  {
   "cell_type": "code",
   "execution_count": null,
   "id": "7475b6f8",
   "metadata": {},
   "outputs": [],
   "source": [
    "!wget -c https://repo.continuum.io/miniconda/Miniconda3-latest-Linux-x86_64.sh\n",
    "!chmod +x Miniconda3-latest-Linux-x86_64.sh\n",
    "!bash ./Miniconda3-latest-Linux-x86_64.sh -b -f -p /usr/local"
   ]
  },
  {
   "cell_type": "code",
   "execution_count": null,
   "id": "7fdfe939",
   "metadata": {},
   "outputs": [],
   "source": [
    "!conda install -c conda-forge rdkit"
   ]
  },
  {
   "cell_type": "code",
   "execution_count": null,
   "id": "9b1a6316",
   "metadata": {},
   "outputs": [],
   "source": [
    "from rdkit import Chem"
   ]
  },
  {
   "cell_type": "code",
   "execution_count": null,
   "id": "8b66837d",
   "metadata": {},
   "outputs": [],
   "source": [
    "m = Chem.MolFromSmiles('Cc1ccccc1')\n",
    "m"
   ]
  },
  {
   "cell_type": "code",
   "execution_count": null,
   "id": "0a6623dd",
   "metadata": {},
   "outputs": [],
   "source": [
    "!conda install -c mcs07 pubchempy"
   ]
  },
  {
   "cell_type": "code",
   "execution_count": null,
   "id": "7c38609f",
   "metadata": {},
   "outputs": [],
   "source": [
    "import pubchempy as pcp"
   ]
  },
  {
   "cell_type": "code",
   "execution_count": null,
   "id": "a0b4d9c3",
   "metadata": {},
   "outputs": [],
   "source": [
    "aa = pcp.get_compounds('alanine', 'name')\n",
    "aa"
   ]
  },
  {
   "cell_type": "markdown",
   "id": "e6366bd7",
   "metadata": {},
   "source": [
    "# ファイルのアップロード"
   ]
  },
  {
   "cell_type": "code",
   "execution_count": null,
   "id": "c285085a",
   "metadata": {},
   "outputs": [],
   "source": []
  },
  {
   "cell_type": "markdown",
   "id": "92bdfbd9",
   "metadata": {},
   "source": [
    "# ファイルのダウンロード"
   ]
  },
  {
   "cell_type": "code",
   "execution_count": null,
   "id": "65876c82",
   "metadata": {},
   "outputs": [],
   "source": []
  },
  {
   "cell_type": "markdown",
   "id": "5f4220c6",
   "metadata": {},
   "source": [
    "# google driveへの保存方法"
   ]
  },
  {
   "cell_type": "code",
   "execution_count": null,
   "id": "99b87d7d",
   "metadata": {},
   "outputs": [],
   "source": []
  }
 ],
 "metadata": {
  "kernelspec": {
   "display_name": "Python 3 (ipykernel)",
   "language": "python",
   "name": "python3"
  },
  "language_info": {
   "codemirror_mode": {
    "name": "ipython",
    "version": 3
   },
   "file_extension": ".py",
   "mimetype": "text/x-python",
   "name": "python",
   "nbconvert_exporter": "python",
   "pygments_lexer": "ipython3",
   "version": "3.8.13"
  }
 },
 "nbformat": 4,
 "nbformat_minor": 5
}
