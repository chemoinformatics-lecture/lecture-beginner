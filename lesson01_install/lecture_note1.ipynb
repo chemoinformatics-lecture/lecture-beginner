{
 "cells": [
  {
   "cell_type": "markdown",
   "id": "45a9e26f",
   "metadata": {},
   "source": [
    "Jupyter 知っておくと少し便利なTIPS集\n",
    "https://qiita.com/simonritchie/items/d7dccb798f0b9c8b1ec5"
   ]
  },
  {
   "cell_type": "markdown",
   "id": "cf516a51",
   "metadata": {},
   "source": [
    "# google colabへのリンク"
   ]
  },
  {
   "cell_type": "markdown",
   "id": "5b633ac4",
   "metadata": {},
   "source": [
    "[![Open In Colab](https://colab.research.google.com/assets/colab-badge.svg)](http://colab.research.google.com/github/chemoinformatics-lecture/lecture-beginner/blob/main/lesson01_install/lecture_note1.ipynb)"
   ]
  },
  {
   "cell_type": "markdown",
   "id": "8c19e8de",
   "metadata": {},
   "source": [
    "# ライブラリーのインストール"
   ]
  },
  {
   "cell_type": "markdown",
   "id": "b9dac3dc",
   "metadata": {},
   "source": [
    "先頭に!をつけて行う。"
   ]
  },
  {
   "cell_type": "code",
   "execution_count": null,
   "id": "02def4b8",
   "metadata": {},
   "outputs": [],
   "source": [
    "!conda install -c mcs07 pubchempy"
   ]
  },
  {
   "cell_type": "markdown",
   "id": "93ce0fa8",
   "metadata": {},
   "source": [
    "# ファイルのアップロード"
   ]
  },
  {
   "cell_type": "code",
   "execution_count": null,
   "id": "c285085a",
   "metadata": {},
   "outputs": [],
   "source": []
  },
  {
   "cell_type": "markdown",
   "id": "b5b6796b",
   "metadata": {},
   "source": [
    "# ファイルのダウンロード"
   ]
  },
  {
   "cell_type": "code",
   "execution_count": null,
   "id": "c41f6616",
   "metadata": {},
   "outputs": [],
   "source": []
  },
  {
   "cell_type": "markdown",
   "id": "6d0e7405",
   "metadata": {},
   "source": [
    "# google driveへの保存方法"
   ]
  },
  {
   "cell_type": "code",
   "execution_count": null,
   "id": "9f33ea15",
   "metadata": {},
   "outputs": [],
   "source": []
  }
 ],
 "metadata": {
  "kernelspec": {
   "display_name": "Python 3 (ipykernel)",
   "language": "python",
   "name": "python3"
  },
  "language_info": {
   "codemirror_mode": {
    "name": "ipython",
    "version": 3
   },
   "file_extension": ".py",
   "mimetype": "text/x-python",
   "name": "python",
   "nbconvert_exporter": "python",
   "pygments_lexer": "ipython3",
   "version": "3.8.13"
  }
 },
 "nbformat": 4,
 "nbformat_minor": 5
}
