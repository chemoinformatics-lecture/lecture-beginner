{
 "cells": [
  {
   "cell_type": "markdown",
   "id": "45a9e26f",
   "metadata": {},
   "source": [
    "Jupyter 知っておくと少し便利なTIPS集\n",
    "https://qiita.com/simonritchie/items/d7dccb798f0b9c8b1ec5"
   ]
  },
  {
   "cell_type": "code",
   "execution_count": null,
   "id": "4d0eaf2a",
   "metadata": {},
   "outputs": [],
   "source": []
  },
  {
   "cell_type": "code",
   "execution_count": null,
   "id": "c285085a",
   "metadata": {},
   "outputs": [],
   "source": []
  }
 ],
 "metadata": {
  "kernelspec": {
   "display_name": "Python 3 (ipykernel)",
   "language": "python",
   "name": "python3"
  },
  "language_info": {
   "codemirror_mode": {
    "name": "ipython",
    "version": 3
   },
   "file_extension": ".py",
   "mimetype": "text/x-python",
   "name": "python",
   "nbconvert_exporter": "python",
   "pygments_lexer": "ipython3",
   "version": "3.8.11"
  }
 },
 "nbformat": 4,
 "nbformat_minor": 5
}
