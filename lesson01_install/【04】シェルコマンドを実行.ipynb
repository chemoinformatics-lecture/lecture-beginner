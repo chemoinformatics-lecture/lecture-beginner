{
  "cells": [
    {
      "cell_type": "markdown",
      "metadata": {
        "id": "view-in-github",
        "colab_type": "text"
      },
      "source": [
        "<a href=\"https://colab.research.google.com/github/chemoinformatics-lecture/lecture-beginner/blob/main/lesson01_install/%E3%80%9004%E3%80%91%E3%82%B7%E3%82%A7%E3%83%AB%E3%82%B3%E3%83%9E%E3%83%B3%E3%83%89%E3%82%92%E5%AE%9F%E8%A1%8C.ipynb\" target=\"_parent\"><img src=\"https://colab.research.google.com/assets/colab-badge.svg\" alt=\"Open In Colab\"/></a>"
      ]
    },
    {
      "cell_type": "markdown",
      "id": "b65f1b49",
      "metadata": {
        "id": "b65f1b49"
      },
      "source": [
        "# システムコマンド"
      ]
    },
    {
      "cell_type": "markdown",
      "id": "9887f1d9",
      "metadata": {
        "id": "9887f1d9"
      },
      "source": [
        "先頭に ! をつけるとシェルコマンドを実行できます。たとえば ls コマンドを実行したりできます。"
      ]
    },
    {
      "cell_type": "markdown",
      "id": "6412ecd1",
      "metadata": {
        "id": "6412ecd1"
      },
      "source": [
        "# !pip freeze "
      ]
    },
    {
      "cell_type": "markdown",
      "source": [
        "インストールされているものの確認を行う。"
      ],
      "metadata": {
        "id": "i6MHDJtXasJA"
      },
      "id": "i6MHDJtXasJA"
    },
    {
      "cell_type": "code",
      "source": [
        "!pip freeze"
      ],
      "metadata": {
        "id": "j-NZ5eE7XcTv"
      },
      "id": "j-NZ5eE7XcTv",
      "execution_count": null,
      "outputs": []
    },
    {
      "cell_type": "markdown",
      "id": "92c3e955",
      "metadata": {
        "id": "92c3e955"
      },
      "source": [
        "# ! pip install"
      ]
    },
    {
      "cell_type": "code",
      "execution_count": 1,
      "id": "7eba28a6",
      "metadata": {
        "id": "7eba28a6",
        "outputId": "74877fe2-426c-40f5-9432-f3d3d297a005",
        "colab": {
          "base_uri": "https://localhost:8080/"
        }
      },
      "outputs": [
        {
          "output_type": "stream",
          "name": "stdout",
          "text": [
            "Looking in indexes: https://pypi.org/simple, https://us-python.pkg.dev/colab-wheels/public/simple/\n",
            "Collecting rdkit\n",
            "  Downloading rdkit-2022.3.5-cp37-cp37m-manylinux_2_17_x86_64.manylinux2014_x86_64.whl (36.8 MB)\n",
            "\u001b[K     |████████████████████████████████| 36.8 MB 452 kB/s \n",
            "\u001b[?25hRequirement already satisfied: numpy in /usr/local/lib/python3.7/dist-packages (from rdkit) (1.21.6)\n",
            "Requirement already satisfied: Pillow in /usr/local/lib/python3.7/dist-packages (from rdkit) (7.1.2)\n",
            "Installing collected packages: rdkit\n",
            "Successfully installed rdkit-2022.3.5\n"
          ]
        }
      ],
      "source": [
        "# ケモインフォマティクスの代表的なソフト\n",
        "!pip install rdkit"
      ]
    },
    {
      "cell_type": "code",
      "execution_count": 2,
      "id": "0582f8d5",
      "metadata": {
        "id": "0582f8d5"
      },
      "outputs": [],
      "source": [
        "from rdkit import Chem\n",
        "from rdkit.Chem import Draw"
      ]
    },
    {
      "cell_type": "code",
      "execution_count": 3,
      "id": "e950bd58",
      "metadata": {
        "id": "e950bd58",
        "outputId": "dd2de94a-6359-41fd-e2e9-ba363be3a3c8",
        "colab": {
          "base_uri": "https://localhost:8080/",
          "height": 117
        }
      },
      "outputs": [
        {
          "output_type": "execute_result",
          "data": {
            "text/plain": [
              "<PIL.PngImagePlugin.PngImageFile image mode=RGB size=100x100 at 0x7F31583BD490>"
            ],
            "image/png": "[encoded data removed]"
          },
          "metadata": {},
          "execution_count": 3
        }
      ],
      "source": [
        "mol = Chem.MolFromSmiles('Cc1ccccc1')\n",
        "Draw.MolToImage(mol, size=(100,100))"
      ]
    },
    {
      "cell_type": "code",
      "execution_count": 4,
      "id": "304f5b96",
      "metadata": {
        "id": "304f5b96",
        "outputId": "4483447b-1cbd-456e-d38e-bfdc435c4ef2",
        "colab": {
          "base_uri": "https://localhost:8080/"
        }
      },
      "outputs": [
        {
          "output_type": "stream",
          "name": "stdout",
          "text": [
            "Looking in indexes: https://pypi.org/simple, https://us-python.pkg.dev/colab-wheels/public/simple/\n",
            "Collecting pubchempy\n",
            "  Downloading PubChemPy-1.0.4.tar.gz (29 kB)\n",
            "Building wheels for collected packages: pubchempy\n",
            "  Building wheel for pubchempy (setup.py) ... \u001b[?25l\u001b[?25hdone\n",
            "  Created wheel for pubchempy: filename=PubChemPy-1.0.4-py3-none-any.whl size=13834 sha256=7cc0cd972012bbc50ec81ea0f6175692fd9d7c018e304892d6015eb05f4f93da\n",
            "  Stored in directory: /root/.cache/pip/wheels/7c/3d/8c/8192697412e9899dc55bbbb08bbc1197bef333caaa2a71c448\n",
            "Successfully built pubchempy\n",
            "Installing collected packages: pubchempy\n",
            "Successfully installed pubchempy-1.0.4\n"
          ]
        }
      ],
      "source": [
        "# pubchemにアクセスするためのpythonのプログラム\n",
        "!pip install pubchempy"
      ]
    },
    {
      "cell_type": "code",
      "source": [
        "import pubchempy as pcp"
      ],
      "metadata": {
        "id": "fYYYA8jJXsB-"
      },
      "id": "fYYYA8jJXsB-",
      "execution_count": 5,
      "outputs": []
    },
    {
      "cell_type": "code",
      "source": [
        "compounds = pcp.get_compounds('alanine', 'name')\n",
        "compounds[0].canonical_smiles"
      ],
      "metadata": {
        "id": "_NNUmqiNXuyB",
        "outputId": "7dd9a631-e599-43c5-92cc-687abeda0e80",
        "colab": {
          "base_uri": "https://localhost:8080/",
          "height": 35
        }
      },
      "id": "_NNUmqiNXuyB",
      "execution_count": 7,
      "outputs": [
        {
          "output_type": "execute_result",
          "data": {
            "text/plain": [
              "'CC(C(=O)O)N'"
            ],
            "application/vnd.google.colaboratory.intrinsic+json": {
              "type": "string"
            }
          },
          "metadata": {},
          "execution_count": 7
        }
      ]
    },
    {
      "cell_type": "markdown",
      "id": "6def6161",
      "metadata": {
        "id": "6def6161"
      },
      "source": [
        "# ! wget "
      ]
    },
    {
      "cell_type": "code",
      "execution_count": 19,
      "id": "5f659770",
      "metadata": {
        "id": "5f659770",
        "outputId": "c03e7452-93d2-4ca9-c29a-0102576cc624",
        "colab": {
          "base_uri": "https://localhost:8080/"
        }
      },
      "outputs": [
        {
          "output_type": "stream",
          "name": "stdout",
          "text": [
            "--2022-09-22 22:55:31--  https://raw.githubusercontent.com/chemoinformatics-lecture/lecture-beginner/main/lesson07_automl/data/example.csv\n",
            "Resolving raw.githubusercontent.com (raw.githubusercontent.com)... 185.199.108.133, 185.199.109.133, 185.199.110.133, ...\n",
            "Connecting to raw.githubusercontent.com (raw.githubusercontent.com)|185.199.108.133|:443... connected.\n",
            "HTTP request sent, awaiting response... 200 OK\n",
            "Length: 43103 (42K) [text/plain]\n",
            "Saving to: ‘example.csv.1’\n",
            "\n",
            "\rexample.csv.1         0%[                    ]       0  --.-KB/s               \rexample.csv.1       100%[===================>]  42.09K  --.-KB/s    in 0.01s   \n",
            "\n",
            "2022-09-22 22:55:31 (3.14 MB/s) - ‘example.csv.1’ saved [43103/43103]\n",
            "\n",
            "--2022-09-22 22:55:31--  https://raw.githubusercontent.com/chemoinformatics-lecture/lecture-beginner/main/lesson05_MOPAC/phenol/phenol.dat\n",
            "Resolving raw.githubusercontent.com (raw.githubusercontent.com)... 185.199.111.133, 185.199.108.133, 185.199.109.133, ...\n",
            "Connecting to raw.githubusercontent.com (raw.githubusercontent.com)|185.199.111.133|:443... connected.\n",
            "HTTP request sent, awaiting response... 200 OK\n",
            "Length: 690 [text/plain]\n",
            "Saving to: ‘phenol.dat’\n",
            "\n",
            "phenol.dat          100%[===================>]     690  --.-KB/s    in 0s      \n",
            "\n",
            "2022-09-22 22:55:31 (17.7 MB/s) - ‘phenol.dat’ saved [690/690]\n",
            "\n"
          ]
        }
      ],
      "source": [
        "# githubの所定の場所からファイルを直接、ダウンロードできる。\n",
        "!wget https://raw.githubusercontent.com/chemoinformatics-lecture/lecture-beginner/main/lesson07_automl/data/example.csv\n",
        "!wget https://raw.githubusercontent.com/chemoinformatics-lecture/lecture-beginner/main/lesson05_MOPAC/phenol/phenol.dat"
      ]
    },
    {
      "cell_type": "code",
      "execution_count": 15,
      "id": "18708cb4",
      "metadata": {
        "id": "18708cb4"
      },
      "outputs": [],
      "source": [
        "# 表のデータを作成したり加工したりするときに、よく使用するライブラリー\n",
        "import pandas as pd"
      ]
    },
    {
      "cell_type": "code",
      "source": [
        "df = pd.read_csv(\"example.csv\")"
      ],
      "metadata": {
        "id": "Al1iQwZ2ZFet"
      },
      "id": "Al1iQwZ2ZFet",
      "execution_count": 16,
      "outputs": []
    },
    {
      "cell_type": "code",
      "source": [
        "df"
      ],
      "metadata": {
        "id": "ypHnwyt5ZooM",
        "outputId": "d31b273a-85dc-4e67-ee75-5446c3e83d1f",
        "colab": {
          "base_uri": "https://localhost:8080/",
          "height": 505
        }
      },
      "id": "ypHnwyt5ZooM",
      "execution_count": 17,
      "outputs": [
        {
          "output_type": "execute_result",
          "data": {
            "text/plain": [
              "    Unnamed: 0                                             SMILES  \\\n",
              "0            0                                   O=C1C=CC(=O)C=C1   \n",
              "1            1                      Cc1c(C)c2c(c(C)c1O)CC(C)(C)O2   \n",
              "2            2                              COc1c(O)cc(C)c(O)c1OC   \n",
              "3            3                                   Cc1c(O)ccc(O)c1C   \n",
              "4            4            CC(C)(C)c1cc(C(C)(C)C)c(O)c(C(C)(C)C)c1   \n",
              "..         ...                                                ...   \n",
              "69          69   C1=CC(=C(C=C1C2=C(C(=O)C3=C(C=C(C=C3O2)O)O)O)O)O   \n",
              "70          70                  CC1=C(C2=C(CCC(O2)(C)C)C(=C1O)C)C   \n",
              "71          71  CC1=CC(=C(C(=C1)C(C)(C)C)O)CC2=C(C(=CC(=C2)C)C...   \n",
              "72          72                  CC(C)(C)C1=CC(=C(C=C1O)C(C)(C)C)O   \n",
              "73          73  CC1=C(C(=C(C(=C1O)OC)OC)O)C/C=C(\\C)/CC/C=C(\\C)...   \n",
              "\n",
              "                                           _Name  MaxEStateIndex  \\\n",
              "0                               1_4_benzoquinone       10.282778   \n",
              "1   2_3_dihydro_22467_pentamethylbenzofuran_5_ol        9.965950   \n",
              "2         2_3_dimethoxy_5_methyl_1_4_benzenediol        9.517824   \n",
              "3                   2_3_dimethyl_1_4_benzenediol        9.113426   \n",
              "4                       2_4_6_tritertbutylphenol       10.650222   \n",
              "..                                           ...             ...   \n",
              "69                                     quercetin       12.142874   \n",
              "70            6_hydroxy_22578_pentamethylchroman       10.017680   \n",
              "71   2_2_methylenebis4_methyl_6_tert_butylphenol       10.817918   \n",
              "72                 2_5_di_tert_butylhydroquinone       10.003634   \n",
              "73                                   ubiquinol10       10.747662   \n",
              "\n",
              "    MinEStateIndex       qed  MaxPartialCharge  MinPartialCharge  \\\n",
              "0        -0.120741  0.416681          0.178413         -0.289961   \n",
              "1        -0.140787  0.706652          0.126677         -0.507381   \n",
              "2        -0.046620  0.682324          0.206777         -0.504146   \n",
              "3         0.231759  0.535657          0.118517         -0.507672   \n",
              "4        -0.050255  0.673700          0.122542         -0.507341   \n",
              "..             ...       ...               ...               ...   \n",
              "69       -0.887671  0.434190          0.238289         -0.507678   \n",
              "70       -0.089670  0.725578          0.126509         -0.507381   \n",
              "71       -0.128896  0.714221          0.122346         -0.507350   \n",
              "72       -0.168673  0.657115          0.119367         -0.507638   \n",
              "73        0.006340  0.057663          0.206823         -0.503963   \n",
              "\n",
              "    FpDensityMorgan1  FpDensityMorgan3  ...  VSA_EState9  FractionCSP3  \\\n",
              "0           0.750000          1.250000  ...     0.000000      0.000000   \n",
              "1           1.066667          2.266667  ...     0.000000      0.538462   \n",
              "2           1.076923          2.076923  ...     2.794444      0.333333   \n",
              "3           0.900000          1.500000  ...     0.000000      0.250000   \n",
              "4           0.631579          1.157895  ...     0.000000      0.666667   \n",
              "..               ...               ...  ...          ...           ...   \n",
              "69          0.818182          2.227273  ...     0.000000      0.000000   \n",
              "70          1.062500          2.312500  ...     0.000000      0.571429   \n",
              "71          0.640000          1.240000  ...     0.000000      0.478261   \n",
              "72          0.687500          1.125000  ...     0.000000      0.571429   \n",
              "73          0.349206          0.809524  ...     2.912974      0.559322   \n",
              "\n",
              "     MolLogP     MolMR  formation_HEAT    HOMO   LUMO  LUMO-HOMO   DIPOLE  \\\n",
              "0    0.25060   28.2940       -28.37194 -10.556 -2.002      8.554  0.00018   \n",
              "1    3.03096   60.7288      -101.68499  -8.047  0.352      8.399  2.57703   \n",
              "2    1.42342   47.6126      -147.22279  -8.498 -0.142      8.356  2.50890   \n",
              "3    1.71464   39.2456       -81.91756  -8.523  0.027      8.550  1.27077   \n",
              "4    5.28470   84.2068       -91.82528  -8.480  0.472      8.952  1.63362   \n",
              "..       ...       ...             ...     ...    ...        ...      ...   \n",
              "69   1.98800   76.2440      -236.50178  -8.829 -1.197      7.632  3.10544   \n",
              "70   3.42106   65.3458      -109.55595  -8.022  0.424      8.446  1.13185   \n",
              "71   5.90044  105.8936      -119.15188  -8.278  0.162      8.440  3.19035   \n",
              "72   3.69280   67.1716      -111.29693  -8.391  0.111      8.502  0.00046   \n",
              "73  18.47062  277.6666      -206.16455  -8.371 -0.028      8.343  2.47157   \n",
              "\n",
              "    LN(SOAC)  \n",
              "0  -1.078810  \n",
              "1   0.538997  \n",
              "2  -0.814508  \n",
              "3  -0.904460  \n",
              "4  -5.463830  \n",
              "..       ...  \n",
              "69 -7.230000  \n",
              "70 -0.503000  \n",
              "71 -2.680000  \n",
              "72 -1.810000  \n",
              "73 -0.652010  \n",
              "\n",
              "[74 rows x 65 columns]"
            ],
            "text/html": [
              "\n",
              "  <div id=\"df-86876ae7-eab6-438c-a2e8-0c04cc389e6d\">\n",
              "    <div class=\"colab-df-container\">\n",
              "      <div>\n",
              "<style scoped>\n",
              "    .dataframe tbody tr th:only-of-type {\n",
              "        vertical-align: middle;\n",
              "    }\n",
              "\n",
              "    .dataframe tbody tr th {\n",
              "        vertical-align: top;\n",
              "    }\n",
              "\n",
              "    .dataframe thead th {\n",
              "        text-align: right;\n",
              "    }\n",
              "</style>\n",
              "<table border=\"1\" class=\"dataframe\">\n",
              "  <thead>\n",
              "    <tr style=\"text-align: right;\">\n",
              "      <th></th>\n",
              "      <th>Unnamed: 0</th>\n",
              "      <th>SMILES</th>\n",
              "      <th>_Name</th>\n",
              "      <th>MaxEStateIndex</th>\n",
              "      <th>MinEStateIndex</th>\n",
              "      <th>qed</th>\n",
              "      <th>MaxPartialCharge</th>\n",
              "      <th>MinPartialCharge</th>\n",
              "      <th>FpDensityMorgan1</th>\n",
              "      <th>FpDensityMorgan3</th>\n",
              "      <th>...</th>\n",
              "      <th>VSA_EState9</th>\n",
              "      <th>FractionCSP3</th>\n",
              "      <th>MolLogP</th>\n",
              "      <th>MolMR</th>\n",
              "      <th>formation_HEAT</th>\n",
              "      <th>HOMO</th>\n",
              "      <th>LUMO</th>\n",
              "      <th>LUMO-HOMO</th>\n",
              "      <th>DIPOLE</th>\n",
              "      <th>LN(SOAC)</th>\n",
              "    </tr>\n",
              "  </thead>\n",
              "  <tbody>\n",
              "    <tr>\n",
              "      <th>0</th>\n",
              "      <td>0</td>\n",
              "      <td>O=C1C=CC(=O)C=C1</td>\n",
              "      <td>1_4_benzoquinone</td>\n",
              "      <td>10.282778</td>\n",
              "      <td>-0.120741</td>\n",
              "      <td>0.416681</td>\n",
              "      <td>0.178413</td>\n",
              "      <td>-0.289961</td>\n",
              "      <td>0.750000</td>\n",
              "      <td>1.250000</td>\n",
              "      <td>...</td>\n",
              "      <td>0.000000</td>\n",
              "      <td>0.000000</td>\n",
              "      <td>0.25060</td>\n",
              "      <td>28.2940</td>\n",
              "      <td>-28.37194</td>\n",
              "      <td>-10.556</td>\n",
              "      <td>-2.002</td>\n",
              "      <td>8.554</td>\n",
              "      <td>0.00018</td>\n",
              "      <td>-1.078810</td>\n",
              "    </tr>\n",
              "    <tr>\n",
              "      <th>1</th>\n",
              "      <td>1</td>\n",
              "      <td>Cc1c(C)c2c(c(C)c1O)CC(C)(C)O2</td>\n",
              "      <td>2_3_dihydro_22467_pentamethylbenzofuran_5_ol</td>\n",
              "      <td>9.965950</td>\n",
              "      <td>-0.140787</td>\n",
              "      <td>0.706652</td>\n",
              "      <td>0.126677</td>\n",
              "      <td>-0.507381</td>\n",
              "      <td>1.066667</td>\n",
              "      <td>2.266667</td>\n",
              "      <td>...</td>\n",
              "      <td>0.000000</td>\n",
              "      <td>0.538462</td>\n",
              "      <td>3.03096</td>\n",
              "      <td>60.7288</td>\n",
              "      <td>-101.68499</td>\n",
              "      <td>-8.047</td>\n",
              "      <td>0.352</td>\n",
              "      <td>8.399</td>\n",
              "      <td>2.57703</td>\n",
              "      <td>0.538997</td>\n",
              "    </tr>\n",
              "    <tr>\n",
              "      <th>2</th>\n",
              "      <td>2</td>\n",
              "      <td>COc1c(O)cc(C)c(O)c1OC</td>\n",
              "      <td>2_3_dimethoxy_5_methyl_1_4_benzenediol</td>\n",
              "      <td>9.517824</td>\n",
              "      <td>-0.046620</td>\n",
              "      <td>0.682324</td>\n",
              "      <td>0.206777</td>\n",
              "      <td>-0.504146</td>\n",
              "      <td>1.076923</td>\n",
              "      <td>2.076923</td>\n",
              "      <td>...</td>\n",
              "      <td>2.794444</td>\n",
              "      <td>0.333333</td>\n",
              "      <td>1.42342</td>\n",
              "      <td>47.6126</td>\n",
              "      <td>-147.22279</td>\n",
              "      <td>-8.498</td>\n",
              "      <td>-0.142</td>\n",
              "      <td>8.356</td>\n",
              "      <td>2.50890</td>\n",
              "      <td>-0.814508</td>\n",
              "    </tr>\n",
              "    <tr>\n",
              "      <th>3</th>\n",
              "      <td>3</td>\n",
              "      <td>Cc1c(O)ccc(O)c1C</td>\n",
              "      <td>2_3_dimethyl_1_4_benzenediol</td>\n",
              "      <td>9.113426</td>\n",
              "      <td>0.231759</td>\n",
              "      <td>0.535657</td>\n",
              "      <td>0.118517</td>\n",
              "      <td>-0.507672</td>\n",
              "      <td>0.900000</td>\n",
              "      <td>1.500000</td>\n",
              "      <td>...</td>\n",
              "      <td>0.000000</td>\n",
              "      <td>0.250000</td>\n",
              "      <td>1.71464</td>\n",
              "      <td>39.2456</td>\n",
              "      <td>-81.91756</td>\n",
              "      <td>-8.523</td>\n",
              "      <td>0.027</td>\n",
              "      <td>8.550</td>\n",
              "      <td>1.27077</td>\n",
              "      <td>-0.904460</td>\n",
              "    </tr>\n",
              "    <tr>\n",
              "      <th>4</th>\n",
              "      <td>4</td>\n",
              "      <td>CC(C)(C)c1cc(C(C)(C)C)c(O)c(C(C)(C)C)c1</td>\n",
              "      <td>2_4_6_tritertbutylphenol</td>\n",
              "      <td>10.650222</td>\n",
              "      <td>-0.050255</td>\n",
              "      <td>0.673700</td>\n",
              "      <td>0.122542</td>\n",
              "      <td>-0.507341</td>\n",
              "      <td>0.631579</td>\n",
              "      <td>1.157895</td>\n",
              "      <td>...</td>\n",
              "      <td>0.000000</td>\n",
              "      <td>0.666667</td>\n",
              "      <td>5.28470</td>\n",
              "      <td>84.2068</td>\n",
              "      <td>-91.82528</td>\n",
              "      <td>-8.480</td>\n",
              "      <td>0.472</td>\n",
              "      <td>8.952</td>\n",
              "      <td>1.63362</td>\n",
              "      <td>-5.463830</td>\n",
              "    </tr>\n",
              "    <tr>\n",
              "      <th>...</th>\n",
              "      <td>...</td>\n",
              "      <td>...</td>\n",
              "      <td>...</td>\n",
              "      <td>...</td>\n",
              "      <td>...</td>\n",
              "      <td>...</td>\n",
              "      <td>...</td>\n",
              "      <td>...</td>\n",
              "      <td>...</td>\n",
              "      <td>...</td>\n",
              "      <td>...</td>\n",
              "      <td>...</td>\n",
              "      <td>...</td>\n",
              "      <td>...</td>\n",
              "      <td>...</td>\n",
              "      <td>...</td>\n",
              "      <td>...</td>\n",
              "      <td>...</td>\n",
              "      <td>...</td>\n",
              "      <td>...</td>\n",
              "      <td>...</td>\n",
              "    </tr>\n",
              "    <tr>\n",
              "      <th>69</th>\n",
              "      <td>69</td>\n",
              "      <td>C1=CC(=C(C=C1C2=C(C(=O)C3=C(C=C(C=C3O2)O)O)O)O)O</td>\n",
              "      <td>quercetin</td>\n",
              "      <td>12.142874</td>\n",
              "      <td>-0.887671</td>\n",
              "      <td>0.434190</td>\n",
              "      <td>0.238289</td>\n",
              "      <td>-0.507678</td>\n",
              "      <td>0.818182</td>\n",
              "      <td>2.227273</td>\n",
              "      <td>...</td>\n",
              "      <td>0.000000</td>\n",
              "      <td>0.000000</td>\n",
              "      <td>1.98800</td>\n",
              "      <td>76.2440</td>\n",
              "      <td>-236.50178</td>\n",
              "      <td>-8.829</td>\n",
              "      <td>-1.197</td>\n",
              "      <td>7.632</td>\n",
              "      <td>3.10544</td>\n",
              "      <td>-7.230000</td>\n",
              "    </tr>\n",
              "    <tr>\n",
              "      <th>70</th>\n",
              "      <td>70</td>\n",
              "      <td>CC1=C(C2=C(CCC(O2)(C)C)C(=C1O)C)C</td>\n",
              "      <td>6_hydroxy_22578_pentamethylchroman</td>\n",
              "      <td>10.017680</td>\n",
              "      <td>-0.089670</td>\n",
              "      <td>0.725578</td>\n",
              "      <td>0.126509</td>\n",
              "      <td>-0.507381</td>\n",
              "      <td>1.062500</td>\n",
              "      <td>2.312500</td>\n",
              "      <td>...</td>\n",
              "      <td>0.000000</td>\n",
              "      <td>0.571429</td>\n",
              "      <td>3.42106</td>\n",
              "      <td>65.3458</td>\n",
              "      <td>-109.55595</td>\n",
              "      <td>-8.022</td>\n",
              "      <td>0.424</td>\n",
              "      <td>8.446</td>\n",
              "      <td>1.13185</td>\n",
              "      <td>-0.503000</td>\n",
              "    </tr>\n",
              "    <tr>\n",
              "      <th>71</th>\n",
              "      <td>71</td>\n",
              "      <td>CC1=CC(=C(C(=C1)C(C)(C)C)O)CC2=C(C(=CC(=C2)C)C...</td>\n",
              "      <td>2_2_methylenebis4_methyl_6_tert_butylphenol</td>\n",
              "      <td>10.817918</td>\n",
              "      <td>-0.128896</td>\n",
              "      <td>0.714221</td>\n",
              "      <td>0.122346</td>\n",
              "      <td>-0.507350</td>\n",
              "      <td>0.640000</td>\n",
              "      <td>1.240000</td>\n",
              "      <td>...</td>\n",
              "      <td>0.000000</td>\n",
              "      <td>0.478261</td>\n",
              "      <td>5.90044</td>\n",
              "      <td>105.8936</td>\n",
              "      <td>-119.15188</td>\n",
              "      <td>-8.278</td>\n",
              "      <td>0.162</td>\n",
              "      <td>8.440</td>\n",
              "      <td>3.19035</td>\n",
              "      <td>-2.680000</td>\n",
              "    </tr>\n",
              "    <tr>\n",
              "      <th>72</th>\n",
              "      <td>72</td>\n",
              "      <td>CC(C)(C)C1=CC(=C(C=C1O)C(C)(C)C)O</td>\n",
              "      <td>2_5_di_tert_butylhydroquinone</td>\n",
              "      <td>10.003634</td>\n",
              "      <td>-0.168673</td>\n",
              "      <td>0.657115</td>\n",
              "      <td>0.119367</td>\n",
              "      <td>-0.507638</td>\n",
              "      <td>0.687500</td>\n",
              "      <td>1.125000</td>\n",
              "      <td>...</td>\n",
              "      <td>0.000000</td>\n",
              "      <td>0.571429</td>\n",
              "      <td>3.69280</td>\n",
              "      <td>67.1716</td>\n",
              "      <td>-111.29693</td>\n",
              "      <td>-8.391</td>\n",
              "      <td>0.111</td>\n",
              "      <td>8.502</td>\n",
              "      <td>0.00046</td>\n",
              "      <td>-1.810000</td>\n",
              "    </tr>\n",
              "    <tr>\n",
              "      <th>73</th>\n",
              "      <td>73</td>\n",
              "      <td>CC1=C(C(=C(C(=C1O)OC)OC)O)C/C=C(\\C)/CC/C=C(\\C)...</td>\n",
              "      <td>ubiquinol10</td>\n",
              "      <td>10.747662</td>\n",
              "      <td>0.006340</td>\n",
              "      <td>0.057663</td>\n",
              "      <td>0.206823</td>\n",
              "      <td>-0.503963</td>\n",
              "      <td>0.349206</td>\n",
              "      <td>0.809524</td>\n",
              "      <td>...</td>\n",
              "      <td>2.912974</td>\n",
              "      <td>0.559322</td>\n",
              "      <td>18.47062</td>\n",
              "      <td>277.6666</td>\n",
              "      <td>-206.16455</td>\n",
              "      <td>-8.371</td>\n",
              "      <td>-0.028</td>\n",
              "      <td>8.343</td>\n",
              "      <td>2.47157</td>\n",
              "      <td>-0.652010</td>\n",
              "    </tr>\n",
              "  </tbody>\n",
              "</table>\n",
              "<p>74 rows × 65 columns</p>\n",
              "</div>\n",
              "      <button class=\"colab-df-convert\" onclick=\"convertToInteractive('df-86876ae7-eab6-438c-a2e8-0c04cc389e6d')\"\n",
              "              title=\"Convert this dataframe to an interactive table.\"\n",
              "              style=\"display:none;\">\n",
              "        \n",
              "  <svg xmlns=\"http://www.w3.org/2000/svg\" height=\"24px\"viewBox=\"0 0 24 24\"\n",
              "       width=\"24px\">\n",
              "    <path d=\"M0 0h24v24H0V0z\" fill=\"none\"/>\n",
              "    <path d=\"M18.56 5.44l.94 2.06.94-2.06 2.06-.94-2.06-.94-.94-2.06-.94 2.06-2.06.94zm-11 1L8.5 8.5l.94-2.06 2.06-.94-2.06-.94L8.5 2.5l-.94 2.06-2.06.94zm10 10l.94 2.06.94-2.06 2.06-.94-2.06-.94-.94-2.06-.94 2.06-2.06.94z\"/><path d=\"M17.41 7.96l-1.37-1.37c-.4-.4-.92-.59-1.43-.59-.52 0-1.04.2-1.43.59L10.3 9.45l-7.72 7.72c-.78.78-.78 2.05 0 2.83L4 21.41c.39.39.9.59 1.41.59.51 0 1.02-.2 1.41-.59l7.78-7.78 2.81-2.81c.8-.78.8-2.07 0-2.86zM5.41 20L4 18.59l7.72-7.72 1.47 1.35L5.41 20z\"/>\n",
              "  </svg>\n",
              "      </button>\n",
              "      \n",
              "  <style>\n",
              "    .colab-df-container {\n",
              "      display:flex;\n",
              "      flex-wrap:wrap;\n",
              "      gap: 12px;\n",
              "    }\n",
              "\n",
              "    .colab-df-convert {\n",
              "      background-color: #E8F0FE;\n",
              "      border: none;\n",
              "      border-radius: 50%;\n",
              "      cursor: pointer;\n",
              "      display: none;\n",
              "      fill: #1967D2;\n",
              "      height: 32px;\n",
              "      padding: 0 0 0 0;\n",
              "      width: 32px;\n",
              "    }\n",
              "\n",
              "    .colab-df-convert:hover {\n",
              "      background-color: #E2EBFA;\n",
              "      box-shadow: 0px 1px 2px rgba(60, 64, 67, 0.3), 0px 1px 3px 1px rgba(60, 64, 67, 0.15);\n",
              "      fill: #174EA6;\n",
              "    }\n",
              "\n",
              "    [theme=dark] .colab-df-convert {\n",
              "      background-color: #3B4455;\n",
              "      fill: #D2E3FC;\n",
              "    }\n",
              "\n",
              "    [theme=dark] .colab-df-convert:hover {\n",
              "      background-color: #434B5C;\n",
              "      box-shadow: 0px 1px 3px 1px rgba(0, 0, 0, 0.15);\n",
              "      filter: drop-shadow(0px 1px 2px rgba(0, 0, 0, 0.3));\n",
              "      fill: #FFFFFF;\n",
              "    }\n",
              "  </style>\n",
              "\n",
              "      <script>\n",
              "        const buttonEl =\n",
              "          document.querySelector('#df-86876ae7-eab6-438c-a2e8-0c04cc389e6d button.colab-df-convert');\n",
              "        buttonEl.style.display =\n",
              "          google.colab.kernel.accessAllowed ? 'block' : 'none';\n",
              "\n",
              "        async function convertToInteractive(key) {\n",
              "          const element = document.querySelector('#df-86876ae7-eab6-438c-a2e8-0c04cc389e6d');\n",
              "          const dataTable =\n",
              "            await google.colab.kernel.invokeFunction('convertToInteractive',\n",
              "                                                     [key], {});\n",
              "          if (!dataTable) return;\n",
              "\n",
              "          const docLinkHtml = 'Like what you see? Visit the ' +\n",
              "            '<a target=\"_blank\" href=https://colab.research.google.com/notebooks/data_table.ipynb>data table notebook</a>'\n",
              "            + ' to learn more about interactive tables.';\n",
              "          element.innerHTML = '';\n",
              "          dataTable['output_type'] = 'display_data';\n",
              "          await google.colab.output.renderOutput(dataTable, element);\n",
              "          const docLink = document.createElement('div');\n",
              "          docLink.innerHTML = docLinkHtml;\n",
              "          element.appendChild(docLink);\n",
              "        }\n",
              "      </script>\n",
              "    </div>\n",
              "  </div>\n",
              "  "
            ]
          },
          "metadata": {},
          "execution_count": 17
        }
      ]
    },
    {
      "cell_type": "markdown",
      "id": "467e84e3",
      "metadata": {
        "id": "467e84e3"
      },
      "source": [
        "# !cat "
      ]
    },
    {
      "cell_type": "code",
      "execution_count": 20,
      "id": "56b87370",
      "metadata": {
        "id": "56b87370",
        "outputId": "ae9a6c29-0b87-491e-9da8-848fa2188c99",
        "colab": {
          "base_uri": "https://localhost:8080/"
        }
      },
      "outputs": [
        {
          "output_type": "stream",
          "name": "stdout",
          "text": [
            "PM7 EF PRECISE GNORM=0.05 NOINTER GRAPHF VECTORS MMOK\n",
            "\n",
            "Winmostar\n",
            "C  0.000000     1 0.000000     1 0.000000     1\n",
            "O  1.455000     1 0.000000     1 0.000000     1\n",
            "C  -0.697564    1 1.208124     1 0.000000     1\n",
            "C  -0.697489    1 -1.208167    1 -0.000015    1\n",
            "C  -2.092535    1 -1.208258    1 -0.000619    1\n",
            "C  -2.092615    1 1.208061     1 0.000575     1\n",
            "C  -2.790099    1 -0.000121    1 -0.000859    1\n",
            "H  -0.147593    1 -2.160474    1 -0.000479    1\n",
            "H  -2.642414    1 -2.160567    1 -0.001058    1\n",
            "H  -0.147790    1 2.160497     1 0.000074     1\n",
            "H  -2.642546    1 2.160345     1 0.000693     1\n",
            "H  -3.889766    1 -0.000059    1 -0.001085    1\n",
            "H  1.649727     1 -0.925762    1 0.163237     1\n",
            "\n"
          ]
        }
      ],
      "source": [
        "# ファイルを読むときに使用するコマンド\n",
        "!cat phenol.dat"
      ]
    }
  ],
  "metadata": {
    "kernelspec": {
      "display_name": "Python 3 (ipykernel)",
      "language": "python",
      "name": "python3"
    },
    "language_info": {
      "codemirror_mode": {
        "name": "ipython",
        "version": 3
      },
      "file_extension": ".py",
      "mimetype": "text/x-python",
      "name": "python",
      "nbconvert_exporter": "python",
      "pygments_lexer": "ipython3",
      "version": "3.8.13"
    },
    "colab": {
      "provenance": [],
      "include_colab_link": true
    }
  },
  "nbformat": 4,
  "nbformat_minor": 5
}