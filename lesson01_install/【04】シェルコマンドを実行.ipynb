{
 "cells": [
  {
   "cell_type": "markdown",
   "id": "b65f1b49",
   "metadata": {},
   "source": [
    "# システムコマンド"
   ]
  },
  {
   "cell_type": "markdown",
   "id": "9887f1d9",
   "metadata": {},
   "source": [
    "先頭に ! をつけるとシェルコマンドを実行できます。たとえば ls コマンドを実行したりできます。"
   ]
  },
  {
   "cell_type": "markdown",
   "id": "92c3e955",
   "metadata": {},
   "source": [
    "# ! pip install"
   ]
  },
  {
   "cell_type": "code",
   "execution_count": null,
   "id": "7eba28a6",
   "metadata": {},
   "outputs": [],
   "source": []
  },
  {
   "cell_type": "code",
   "execution_count": null,
   "id": "0582f8d5",
   "metadata": {},
   "outputs": [],
   "source": []
  },
  {
   "cell_type": "markdown",
   "id": "6412ecd1",
   "metadata": {},
   "source": [
    "# !pip freeze "
   ]
  },
  {
   "cell_type": "code",
   "execution_count": null,
   "id": "e950bd58",
   "metadata": {},
   "outputs": [],
   "source": []
  },
  {
   "cell_type": "code",
   "execution_count": null,
   "id": "304f5b96",
   "metadata": {},
   "outputs": [],
   "source": []
  },
  {
   "cell_type": "markdown",
   "id": "6def6161",
   "metadata": {},
   "source": [
    "# ! wget "
   ]
  },
  {
   "cell_type": "code",
   "execution_count": null,
   "id": "5f659770",
   "metadata": {},
   "outputs": [],
   "source": []
  },
  {
   "cell_type": "code",
   "execution_count": null,
   "id": "18708cb4",
   "metadata": {},
   "outputs": [],
   "source": []
  },
  {
   "cell_type": "markdown",
   "id": "467e84e3",
   "metadata": {},
   "source": [
    "# !cat "
   ]
  },
  {
   "cell_type": "code",
   "execution_count": null,
   "id": "56b87370",
   "metadata": {},
   "outputs": [],
   "source": []
  },
  {
   "cell_type": "code",
   "execution_count": null,
   "id": "b7ca74ac",
   "metadata": {},
   "outputs": [],
   "source": []
  }
 ],
 "metadata": {
  "kernelspec": {
   "display_name": "Python 3 (ipykernel)",
   "language": "python",
   "name": "python3"
  },
  "language_info": {
   "codemirror_mode": {
    "name": "ipython",
    "version": 3
   },
   "file_extension": ".py",
   "mimetype": "text/x-python",
   "name": "python",
   "nbconvert_exporter": "python",
   "pygments_lexer": "ipython3",
   "version": "3.8.13"
  }
 },
 "nbformat": 4,
 "nbformat_minor": 5
}
