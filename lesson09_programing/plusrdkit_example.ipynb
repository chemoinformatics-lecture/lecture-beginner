{
 "cells": [
  {
   "cell_type": "code",
   "execution_count": 1,
   "id": "4ef772de",
   "metadata": {},
   "outputs": [],
   "source": [
    "from  plusrdkit import RDkitSdfAnalyser"
   ]
  },
  {
   "cell_type": "code",
   "execution_count": 2,
   "id": "31231e9e",
   "metadata": {},
   "outputs": [],
   "source": [
    "logdatasetdf = RDkitSdfAnalyser(\"data/logSdataset1290_2d.sdf\")"
   ]
  },
  {
   "cell_type": "code",
   "execution_count": 3,
   "id": "513dedae",
   "metadata": {},
   "outputs": [],
   "source": [
    "logdatasetdf .add_molLogP()"
   ]
  },
  {
   "cell_type": "code",
   "execution_count": 4,
   "id": "e8f9e7b4",
   "metadata": {},
   "outputs": [],
   "source": [
    "logdatasetdf.del_mol()"
   ]
  },
  {
   "cell_type": "code",
   "execution_count": 5,
   "id": "baa9a27f",
   "metadata": {},
   "outputs": [],
   "source": [
    "logdatasetdf.output_csv()"
   ]
  },
  {
   "cell_type": "code",
   "execution_count": 6,
   "id": "2f539631",
   "metadata": {},
   "outputs": [],
   "source": [
    "from plusrdkit import RDKitSmilesAnalyser"
   ]
  },
  {
   "cell_type": "code",
   "execution_count": 7,
   "id": "8d02ab77",
   "metadata": {},
   "outputs": [],
   "source": [
    "acetone = RDKitSmilesAnalyser(\"CC(=O)C\")"
   ]
  },
  {
   "cell_type": "code",
   "execution_count": 8,
   "id": "68c1535a",
   "metadata": {
    "scrolled": false
   },
   "outputs": [
    {
     "name": "stdout",
     "output_type": "stream",
     "text": [
      "17.07\n"
     ]
    }
   ],
   "source": [
    "acetone.print_TPSA()"
   ]
  },
  {
   "cell_type": "code",
   "execution_count": null,
   "id": "9d980845",
   "metadata": {},
   "outputs": [],
   "source": []
  }
 ],
 "metadata": {
  "kernelspec": {
   "display_name": "Python 3 (ipykernel)",
   "language": "python",
   "name": "python3"
  },
  "language_info": {
   "codemirror_mode": {
    "name": "ipython",
    "version": 3
   },
   "file_extension": ".py",
   "mimetype": "text/x-python",
   "name": "python",
   "nbconvert_exporter": "python",
   "pygments_lexer": "ipython3",
   "version": "3.8.13"
  }
 },
 "nbformat": 4,
 "nbformat_minor": 5
}
