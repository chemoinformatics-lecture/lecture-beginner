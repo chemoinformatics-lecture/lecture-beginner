{
 "cells": [
  {
   "cell_type": "markdown",
   "id": "d8718a6c",
   "metadata": {},
   "source": [
    "# pubchemの課題"
   ]
  },
  {
   "cell_type": "markdown",
   "id": "dc37bc72",
   "metadata": {},
   "source": [
    "## 問題１使用しているpubchemのversionを表示させなさい。"
   ]
  },
  {
   "cell_type": "code",
   "execution_count": 7,
   "id": "f1cad556",
   "metadata": {},
   "outputs": [
    {
     "data": {
      "text/plain": [
       "'1.0.4'"
      ]
     },
     "execution_count": 7,
     "metadata": {},
     "output_type": "execute_result"
    }
   ],
   "source": [
    "import pubchempy as pcp\n",
    "pcp. __version__"
   ]
  },
  {
   "cell_type": "markdown",
   "id": "0abeb808",
   "metadata": {},
   "source": [
    "## 問題２ pubchempyを使用して\"catechin\"で検索して得られた結果のリストの1番目に得られたものをisomeric_smilesで表示させなさい。"
   ]
  },
  {
   "cell_type": "code",
   "execution_count": 8,
   "id": "7b251dc2",
   "metadata": {},
   "outputs": [
    {
     "data": {
      "text/plain": [
       "'C1[C@@H]([C@H](OC2=CC(=CC(=C21)O)O)C3=CC(=C(C=C3)O)O)O'"
      ]
     },
     "execution_count": 8,
     "metadata": {},
     "output_type": "execute_result"
    }
   ],
   "source": [
    "compounds = pcp.get_compounds('catechin', 'name')\n",
    "compounds[0].isomeric_smiles"
   ]
  },
  {
   "cell_type": "markdown",
   "id": "7cbfa773",
   "metadata": {},
   "source": [
    "## 問題３pubchemで検索した\"catechin\"で検索して得られた結果の全てを、iupac_nameとisomeric_smilesを表示させなさい。"
   ]
  },
  {
   "cell_type": "code",
   "execution_count": 9,
   "id": "eb7d9610",
   "metadata": {},
   "outputs": [
    {
     "name": "stdout",
     "output_type": "stream",
     "text": [
      "(2R,3S)-2-(3,4-dihydroxyphenyl)-3,4-dihydro-2H-chromene-3,5,7-triol\n",
      "C1[C@@H]([C@H](OC2=CC(=CC(=C21)O)O)C3=CC(=C(C=C3)O)O)O\n",
      "---------------------------\n"
     ]
    }
   ],
   "source": [
    "for compound in compounds:\n",
    "    print(compound.iupac_name)\n",
    "    print(compound.isomeric_smiles)\n",
    "    print('---------------------------')"
   ]
  },
  {
   "cell_type": "markdown",
   "id": "bc434642",
   "metadata": {},
   "source": [
    "## 問題4  catechineと同じ分子式の化合物をpubchemで検索して、xlogp, isomeric_smilesをpandasのデータフレームで表示させなさい。"
   ]
  },
  {
   "cell_type": "code",
   "execution_count": 10,
   "id": "56ea759e",
   "metadata": {},
   "outputs": [
    {
     "data": {
      "text/plain": [
       "'C15H14O6'"
      ]
     },
     "execution_count": 10,
     "metadata": {},
     "output_type": "execute_result"
    }
   ],
   "source": [
    "compounds[0].molecular_formula"
   ]
  },
  {
   "cell_type": "code",
   "execution_count": 11,
   "id": "b19b1f91",
   "metadata": {},
   "outputs": [],
   "source": [
    "cs = pcp.get_compounds(compounds[0].molecular_formula, 'formula')\n",
    "df_formula = pcp.compounds_to_frame(cs, properties=['isomeric_smiles', 'xlogp'])"
   ]
  },
  {
   "cell_type": "code",
   "execution_count": 12,
   "id": "14b72612",
   "metadata": {},
   "outputs": [
    {
     "data": {
      "text/html": [
       "<div>\n",
       "<style scoped>\n",
       "    .dataframe tbody tr th:only-of-type {\n",
       "        vertical-align: middle;\n",
       "    }\n",
       "\n",
       "    .dataframe tbody tr th {\n",
       "        vertical-align: top;\n",
       "    }\n",
       "\n",
       "    .dataframe thead th {\n",
       "        text-align: right;\n",
       "    }\n",
       "</style>\n",
       "<table border=\"1\" class=\"dataframe\">\n",
       "  <thead>\n",
       "    <tr style=\"text-align: right;\">\n",
       "      <th></th>\n",
       "      <th>isomeric_smiles</th>\n",
       "      <th>xlogp</th>\n",
       "    </tr>\n",
       "    <tr>\n",
       "      <th>cid</th>\n",
       "      <th></th>\n",
       "      <th></th>\n",
       "    </tr>\n",
       "  </thead>\n",
       "  <tbody>\n",
       "    <tr>\n",
       "      <th>9064</th>\n",
       "      <td>C1[C@@H]([C@H](OC2=CC(=CC(=C21)O)O)C3=CC(=C(C=...</td>\n",
       "      <td>0.4</td>\n",
       "    </tr>\n",
       "    <tr>\n",
       "      <th>72276</th>\n",
       "      <td>C1[C@H]([C@H](OC2=CC(=CC(=C21)O)O)C3=CC(=C(C=C...</td>\n",
       "      <td>0.4</td>\n",
       "    </tr>\n",
       "    <tr>\n",
       "      <th>10149</th>\n",
       "      <td>CC1=C(C(=C2C(=C1O)C(=O)C=C(C2=O)OC)O)CC(=O)C</td>\n",
       "      <td>2.0</td>\n",
       "    </tr>\n",
       "    <tr>\n",
       "      <th>182232</th>\n",
       "      <td>C1[C@@H]([C@@H](OC2=CC(=CC(=C21)O)O)C3=CC(=C(C...</td>\n",
       "      <td>0.4</td>\n",
       "    </tr>\n",
       "    <tr>\n",
       "      <th>1203</th>\n",
       "      <td>C1C(C(OC2=CC(=CC(=C21)O)O)C3=CC(=C(C=C3)O)O)O</td>\n",
       "      <td>0.4</td>\n",
       "    </tr>\n",
       "    <tr>\n",
       "      <th>...</th>\n",
       "      <td>...</td>\n",
       "      <td>...</td>\n",
       "    </tr>\n",
       "    <tr>\n",
       "      <th>151806657</th>\n",
       "      <td>CCC1=C(C(=O)C=CO1)C2=C(C=CC(=C2OC)O)C(=O)O</td>\n",
       "      <td>1.7</td>\n",
       "    </tr>\n",
       "    <tr>\n",
       "      <th>154790229</th>\n",
       "      <td>C[C@]12C(O1)[C@H](OC2O)C3=C(C=C4C(=C3)C=CC(=O)...</td>\n",
       "      <td>0.8</td>\n",
       "    </tr>\n",
       "    <tr>\n",
       "      <th>156581603</th>\n",
       "      <td>COC1CCC2=C1C(=O)C3=C(C=C(C=C3O2)C(=O)OC)O</td>\n",
       "      <td>1.7</td>\n",
       "    </tr>\n",
       "    <tr>\n",
       "      <th>156581989</th>\n",
       "      <td>CC=CC1=CC(=O)C2=C(O1)C(=C(C=C2C(=O)OC)OC)O</td>\n",
       "      <td>2.0</td>\n",
       "    </tr>\n",
       "    <tr>\n",
       "      <th>156587700</th>\n",
       "      <td>CCOC(=O)C1=CC2=C(C(=C1)OC)C(=O)C=C(O2)C(=O)C</td>\n",
       "      <td>1.6</td>\n",
       "    </tr>\n",
       "  </tbody>\n",
       "</table>\n",
       "<p>1030 rows × 2 columns</p>\n",
       "</div>"
      ],
      "text/plain": [
       "                                             isomeric_smiles  xlogp\n",
       "cid                                                                \n",
       "9064       C1[C@@H]([C@H](OC2=CC(=CC(=C21)O)O)C3=CC(=C(C=...    0.4\n",
       "72276      C1[C@H]([C@H](OC2=CC(=CC(=C21)O)O)C3=CC(=C(C=C...    0.4\n",
       "10149           CC1=C(C(=C2C(=C1O)C(=O)C=C(C2=O)OC)O)CC(=O)C    2.0\n",
       "182232     C1[C@@H]([C@@H](OC2=CC(=CC(=C21)O)O)C3=CC(=C(C...    0.4\n",
       "1203           C1C(C(OC2=CC(=CC(=C21)O)O)C3=CC(=C(C=C3)O)O)O    0.4\n",
       "...                                                      ...    ...\n",
       "151806657         CCC1=C(C(=O)C=CO1)C2=C(C=CC(=C2OC)O)C(=O)O    1.7\n",
       "154790229  C[C@]12C(O1)[C@H](OC2O)C3=C(C=C4C(=C3)C=CC(=O)...    0.8\n",
       "156581603          COC1CCC2=C1C(=O)C3=C(C=C(C=C3O2)C(=O)OC)O    1.7\n",
       "156581989         CC=CC1=CC(=O)C2=C(O1)C(=C(C=C2C(=O)OC)OC)O    2.0\n",
       "156587700       CCOC(=O)C1=CC2=C(C(=C1)OC)C(=O)C=C(O2)C(=O)C    1.6\n",
       "\n",
       "[1030 rows x 2 columns]"
      ]
     },
     "execution_count": 12,
     "metadata": {},
     "output_type": "execute_result"
    }
   ],
   "source": [
    "df_formula"
   ]
  },
  {
   "cell_type": "code",
   "execution_count": 13,
   "id": "38913519",
   "metadata": {},
   "outputs": [],
   "source": [
    "cs = pcp.get_compounds('C15H14O6', 'formula')\n",
    "df_formula = pcp.compounds_to_frame(cs, properties=['isomeric_smiles', 'xlogp'])"
   ]
  },
  {
   "cell_type": "code",
   "execution_count": 14,
   "id": "63658fba",
   "metadata": {},
   "outputs": [
    {
     "data": {
      "text/html": [
       "<div>\n",
       "<style scoped>\n",
       "    .dataframe tbody tr th:only-of-type {\n",
       "        vertical-align: middle;\n",
       "    }\n",
       "\n",
       "    .dataframe tbody tr th {\n",
       "        vertical-align: top;\n",
       "    }\n",
       "\n",
       "    .dataframe thead th {\n",
       "        text-align: right;\n",
       "    }\n",
       "</style>\n",
       "<table border=\"1\" class=\"dataframe\">\n",
       "  <thead>\n",
       "    <tr style=\"text-align: right;\">\n",
       "      <th></th>\n",
       "      <th>isomeric_smiles</th>\n",
       "      <th>xlogp</th>\n",
       "    </tr>\n",
       "    <tr>\n",
       "      <th>cid</th>\n",
       "      <th></th>\n",
       "      <th></th>\n",
       "    </tr>\n",
       "  </thead>\n",
       "  <tbody>\n",
       "    <tr>\n",
       "      <th>9064</th>\n",
       "      <td>C1[C@@H]([C@H](OC2=CC(=CC(=C21)O)O)C3=CC(=C(C=...</td>\n",
       "      <td>0.4</td>\n",
       "    </tr>\n",
       "    <tr>\n",
       "      <th>72276</th>\n",
       "      <td>C1[C@H]([C@H](OC2=CC(=CC(=C21)O)O)C3=CC(=C(C=C...</td>\n",
       "      <td>0.4</td>\n",
       "    </tr>\n",
       "    <tr>\n",
       "      <th>10149</th>\n",
       "      <td>CC1=C(C(=C2C(=C1O)C(=O)C=C(C2=O)OC)O)CC(=O)C</td>\n",
       "      <td>2.0</td>\n",
       "    </tr>\n",
       "    <tr>\n",
       "      <th>182232</th>\n",
       "      <td>C1[C@@H]([C@@H](OC2=CC(=CC(=C21)O)O)C3=CC(=C(C...</td>\n",
       "      <td>0.4</td>\n",
       "    </tr>\n",
       "    <tr>\n",
       "      <th>1203</th>\n",
       "      <td>C1C(C(OC2=CC(=CC(=C21)O)O)C3=CC(=C(C=C3)O)O)O</td>\n",
       "      <td>0.4</td>\n",
       "    </tr>\n",
       "    <tr>\n",
       "      <th>...</th>\n",
       "      <td>...</td>\n",
       "      <td>...</td>\n",
       "    </tr>\n",
       "    <tr>\n",
       "      <th>151806657</th>\n",
       "      <td>CCC1=C(C(=O)C=CO1)C2=C(C=CC(=C2OC)O)C(=O)O</td>\n",
       "      <td>1.7</td>\n",
       "    </tr>\n",
       "    <tr>\n",
       "      <th>154790229</th>\n",
       "      <td>C[C@]12C(O1)[C@H](OC2O)C3=C(C=C4C(=C3)C=CC(=O)...</td>\n",
       "      <td>0.8</td>\n",
       "    </tr>\n",
       "    <tr>\n",
       "      <th>156581603</th>\n",
       "      <td>COC1CCC2=C1C(=O)C3=C(C=C(C=C3O2)C(=O)OC)O</td>\n",
       "      <td>1.7</td>\n",
       "    </tr>\n",
       "    <tr>\n",
       "      <th>156581989</th>\n",
       "      <td>CC=CC1=CC(=O)C2=C(O1)C(=C(C=C2C(=O)OC)OC)O</td>\n",
       "      <td>2.0</td>\n",
       "    </tr>\n",
       "    <tr>\n",
       "      <th>156587700</th>\n",
       "      <td>CCOC(=O)C1=CC2=C(C(=C1)OC)C(=O)C=C(O2)C(=O)C</td>\n",
       "      <td>1.6</td>\n",
       "    </tr>\n",
       "  </tbody>\n",
       "</table>\n",
       "<p>1030 rows × 2 columns</p>\n",
       "</div>"
      ],
      "text/plain": [
       "                                             isomeric_smiles  xlogp\n",
       "cid                                                                \n",
       "9064       C1[C@@H]([C@H](OC2=CC(=CC(=C21)O)O)C3=CC(=C(C=...    0.4\n",
       "72276      C1[C@H]([C@H](OC2=CC(=CC(=C21)O)O)C3=CC(=C(C=C...    0.4\n",
       "10149           CC1=C(C(=C2C(=C1O)C(=O)C=C(C2=O)OC)O)CC(=O)C    2.0\n",
       "182232     C1[C@@H]([C@@H](OC2=CC(=CC(=C21)O)O)C3=CC(=C(C...    0.4\n",
       "1203           C1C(C(OC2=CC(=CC(=C21)O)O)C3=CC(=C(C=C3)O)O)O    0.4\n",
       "...                                                      ...    ...\n",
       "151806657         CCC1=C(C(=O)C=CO1)C2=C(C=CC(=C2OC)O)C(=O)O    1.7\n",
       "154790229  C[C@]12C(O1)[C@H](OC2O)C3=C(C=C4C(=C3)C=CC(=O)...    0.8\n",
       "156581603          COC1CCC2=C1C(=O)C3=C(C=C(C=C3O2)C(=O)OC)O    1.7\n",
       "156581989         CC=CC1=CC(=O)C2=C(O1)C(=C(C=C2C(=O)OC)OC)O    2.0\n",
       "156587700       CCOC(=O)C1=CC2=C(C(=C1)OC)C(=O)C=C(O2)C(=O)C    1.6\n",
       "\n",
       "[1030 rows x 2 columns]"
      ]
     },
     "execution_count": 14,
     "metadata": {},
     "output_type": "execute_result"
    }
   ],
   "source": [
    "df_formula"
   ]
  },
  {
   "cell_type": "code",
   "execution_count": 15,
   "id": "9a01da53",
   "metadata": {},
   "outputs": [
    {
     "data": {
      "text/plain": [
       "'1.1.3'"
      ]
     },
     "execution_count": 15,
     "metadata": {},
     "output_type": "execute_result"
    }
   ],
   "source": [
    "import pandas as pd\n",
    "pd.__version__"
   ]
  },
  {
   "cell_type": "code",
   "execution_count": 16,
   "id": "72618861",
   "metadata": {},
   "outputs": [
    {
     "name": "stdout",
     "output_type": "stream",
     "text": [
      "Python 3.8.12\r\n"
     ]
    }
   ],
   "source": [
    "!python -V"
   ]
  },
  {
   "cell_type": "code",
   "execution_count": null,
   "id": "a9467bdd",
   "metadata": {},
   "outputs": [],
   "source": []
  }
 ],
 "metadata": {
  "kernelspec": {
   "display_name": "Python 3 (ipykernel)",
   "language": "python",
   "name": "python3"
  },
  "language_info": {
   "codemirror_mode": {
    "name": "ipython",
    "version": 3
   },
   "file_extension": ".py",
   "mimetype": "text/x-python",
   "name": "python",
   "nbconvert_exporter": "python",
   "pygments_lexer": "ipython3",
   "version": "3.8.12"
  },
  "toc": {
   "base_numbering": 1,
   "nav_menu": {},
   "number_sections": true,
   "sideBar": true,
   "skip_h1_title": false,
   "title_cell": "Table of Contents",
   "title_sidebar": "Contents",
   "toc_cell": false,
   "toc_position": {},
   "toc_section_display": true,
   "toc_window_display": false
  }
 },
 "nbformat": 4,
 "nbformat_minor": 5
}
