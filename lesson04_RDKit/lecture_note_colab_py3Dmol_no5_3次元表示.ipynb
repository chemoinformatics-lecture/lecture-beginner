{
  "cells": [
    {
      "cell_type": "markdown",
      "metadata": {
        "id": "view-in-github",
        "colab_type": "text"
      },
      "source": [
        "<a href=\"https://colab.research.google.com/github/chemoinformatics-lecture/lecture-beginner/blob/main/lesson04_RDKit/lecture_note_colab_py3Dmol_no5_3%E6%AC%A1%E5%85%83%E8%A1%A8%E7%A4%BA.ipynb\" target=\"_parent\"><img src=\"https://colab.research.google.com/assets/colab-badge.svg\" alt=\"Open In Colab\"/></a>"
      ]
    },
    {
      "cell_type": "code",
      "source": [
        "#rdkitのインストール\n",
        "!pip install rdkit\n",
        "!pip install pubchempy"
      ],
      "metadata": {
        "id": "omUGeYnxEtPo",
        "outputId": "b7311afc-4be1-4192-afd7-79a62ca1a2e6",
        "colab": {
          "base_uri": "https://localhost:8080/"
        }
      },
      "id": "omUGeYnxEtPo",
      "execution_count": 37,
      "outputs": [
        {
          "output_type": "stream",
          "name": "stdout",
          "text": [
            "Requirement already satisfied: rdkit in /usr/local/lib/python3.10/dist-packages (2023.9.1)\n",
            "Requirement already satisfied: numpy in /usr/local/lib/python3.10/dist-packages (from rdkit) (1.23.5)\n",
            "Requirement already satisfied: Pillow in /usr/local/lib/python3.10/dist-packages (from rdkit) (9.4.0)\n",
            "Requirement already satisfied: pubchempy in /usr/local/lib/python3.10/dist-packages (1.0.4)\n"
          ]
        }
      ]
    },
    {
      "cell_type": "code",
      "source": [
        "!pip install py3dmol"
      ],
      "metadata": {
        "id": "YrbWdwzkCDw3",
        "outputId": "701eee5c-eadb-4035-9b3a-18a1025a1667",
        "colab": {
          "base_uri": "https://localhost:8080/"
        }
      },
      "id": "YrbWdwzkCDw3",
      "execution_count": 23,
      "outputs": [
        {
          "output_type": "stream",
          "name": "stdout",
          "text": [
            "Collecting py3dmol\n",
            "  Downloading py3Dmol-2.0.4-py2.py3-none-any.whl (12 kB)\n",
            "Installing collected packages: py3dmol\n",
            "Successfully installed py3dmol-2.0.4\n"
          ]
        }
      ]
    },
    {
      "cell_type": "code",
      "source": [
        "import py3Dmol\n",
        "py3Dmol.__version__"
      ],
      "metadata": {
        "id": "qlDh3AmDCRh3",
        "outputId": "3417cc6c-1f54-4208-a087-f72c3655fee0",
        "colab": {
          "base_uri": "https://localhost:8080/",
          "height": 35
        }
      },
      "id": "qlDh3AmDCRh3",
      "execution_count": 24,
      "outputs": [
        {
          "output_type": "execute_result",
          "data": {
            "text/plain": [
              "'2.0.4'"
            ],
            "application/vnd.google.colaboratory.intrinsic+json": {
              "type": "string"
            }
          },
          "metadata": {},
          "execution_count": 24
        }
      ]
    },
    {
      "cell_type": "code",
      "execution_count": 2,
      "id": "e2402fae",
      "metadata": {
        "id": "e2402fae",
        "outputId": "942fa79e-67a9-4ced-908e-425d86a9e5f0",
        "colab": {
          "base_uri": "https://localhost:8080/",
          "height": 35
        }
      },
      "outputs": [
        {
          "output_type": "execute_result",
          "data": {
            "text/plain": [
              "'Linux-5.15.120+-x86_64-with-glibc2.35'"
            ],
            "application/vnd.google.colaboratory.intrinsic+json": {
              "type": "string"
            }
          },
          "metadata": {},
          "execution_count": 2
        }
      ],
      "source": [
        "import platform\n",
        "# 使用しているOSを表示\n",
        "platform.platform()"
      ]
    },
    {
      "cell_type": "code",
      "execution_count": 3,
      "id": "77ef4637",
      "metadata": {
        "id": "77ef4637",
        "outputId": "96b168e2-49f5-40e0-bd9b-ef18f34e6e3a",
        "colab": {
          "base_uri": "https://localhost:8080/"
        }
      },
      "outputs": [
        {
          "output_type": "stream",
          "name": "stdout",
          "text": [
            "Python 3.10.12\n"
          ]
        }
      ],
      "source": [
        "# pythonのversionを表示\n",
        "!python -V"
      ]
    },
    {
      "cell_type": "markdown",
      "source": [
        "## pubchempyからの呼び出しと確認"
      ],
      "metadata": {
        "id": "nYDlcL0jGA3v"
      },
      "id": "nYDlcL0jGA3v"
    },
    {
      "cell_type": "code",
      "source": [
        "import pubchempy as pcp\n",
        "sdf = pcp.get_sdf('taxol', 'name')\n",
        "print(sdf)"
      ],
      "metadata": {
        "id": "6oHL2QMoDzCB",
        "outputId": "43dd92b4-c1ef-41c9-95dd-25d4b1ddad5d",
        "colab": {
          "base_uri": "https://localhost:8080/"
        }
      },
      "id": "6oHL2QMoDzCB",
      "execution_count": 52,
      "outputs": [
        {
          "output_type": "stream",
          "name": "stdout",
          "text": [
            "36314\n",
            "  -OEChem-11182320112D\n",
            "\n",
            "113119  0     1  0  0  0  0  0999 V2000\n",
            "    5.1483   -5.7417    0.0000 O   0  0  0  0  0  0  0  0  0  0  0  0\n",
            "    6.3178   -4.1322    0.0000 O   0  0  0  0  0  0  0  0  0  0  0  0\n",
            "    7.0057   -3.2798    0.0000 O   0  0  0  0  0  0  0  0  0  0  0  0\n",
            "    7.4821   -1.9332    0.0000 O   0  0  0  0  0  0  0  0  0  0  0  0\n",
            "    2.4962   -3.0851    0.0000 O   0  0  0  0  0  0  0  0  0  0  0  0\n",
            "    3.5446   -0.3023    0.0000 O   0  0  0  0  0  0  0  0  0  0  0  0\n",
            "    2.8690   -1.9332    0.0000 O   0  0  0  0  0  0  0  0  0  0  0  0\n",
            "    7.5875    0.4787    0.0000 O   0  0  0  0  0  0  0  0  0  0  0  0\n",
            "    7.6038   -5.2924    0.0000 O   0  0  0  0  0  0  0  0  0  0  0  0\n",
            "    8.4245   -2.2863    0.0000 O   0  0  0  0  0  0  0  0  0  0  0  0\n",
            "    4.7693    0.9225    0.0000 O   0  0  0  0  0  0  0  0  0  0  0  0\n",
            "    6.3628    1.7035    0.0000 O   0  0  0  0  0  0  0  0  0  0  0  0\n",
            "    9.0017    1.8929    0.0000 O   0  0  0  0  0  0  0  0  0  0  0  0\n",
            "    7.2593    5.0495    0.0000 O   0  0  0  0  0  0  0  0  0  0  0  0\n",
            "    6.8110    3.3765    0.0000 N   0  0  0  0  0  0  0  0  0  0  0  0\n",
            "    5.1755   -3.2398    0.0000 C   0  0  2  0  0  0  0  0  0  0  0  0\n",
            "    5.3274   -4.2703    0.0000 C   0  0  2  0  0  0  0  0  0  0  0  0\n",
            "    4.2517   -2.8571    0.0000 C   0  0  1  0  0  0  0  0  0  0  0  0\n",
            "    4.5059   -4.9108    0.0000 C   0  0  1  0  0  0  0  0  0  0  0  0\n",
            "    6.0994   -2.8571    0.0000 C   0  0  1  0  0  0  0  0  0  0  0  0\n",
            "    6.4821   -1.9332    0.0000 C   0  0  2  0  0  0  0  0  0  0  0  0\n",
            "    3.4156   -3.4784    0.0000 C   0  0  2  0  0  0  0  0  0  0  0  0\n",
            "    3.5436   -4.5122    0.0000 C   0  0  0  0  0  0  0  0  0  0  0  0\n",
            "    6.0994   -1.0094    0.0000 C   0  0  0  0  0  0  0  0  0  0  0  0\n",
            "    5.9766   -5.0959    0.0000 C   0  0  0  0  0  0  0  0  0  0  0  0\n",
            "    3.8690   -1.9332    0.0000 C   0  0  0  0  0  0  0  0  0  0  0  0\n",
            "    7.1552   -1.1916    0.0000 C   0  0  0  0  0  0  0  0  0  0  0  0\n",
            "    5.1755   -0.6267    0.0000 C   0  0  0  0  0  0  0  0  0  0  0  0\n",
            "    3.3278   -2.4744    0.0000 C   0  0  0  0  0  0  0  0  0  0  0  0\n",
            "    4.2517   -1.0094    0.0000 C   0  0  1  0  0  0  0  0  0  0  0  0\n",
            "    6.8804   -0.2284    0.0000 C   0  0  1  0  0  0  0  0  0  0  0  0\n",
            "    5.9172    0.0464    0.0000 C   0  0  0  0  0  0  0  0  0  0  0  0\n",
            "    6.3971    0.1014    0.0000 C   0  0  0  0  0  0  0  0  0  0  0  0\n",
            "    7.2102   -0.7117    0.0000 C   0  0  0  0  0  0  0  0  0  0  0  0\n",
            "    5.6897    1.0202    0.0000 C   0  0  0  0  0  0  0  0  0  0  0  0\n",
            "    6.6259   -5.0835    0.0000 C   0  0  0  0  0  0  0  0  0  0  0  0\n",
            "    8.0019   -3.1927    0.0000 C   0  0  0  0  0  0  0  0  0  0  0  0\n",
            "    5.9560   -5.8260    0.0000 C   0  0  0  0  0  0  0  0  0  0  0  0\n",
            "    3.8034    0.6637    0.0000 C   0  0  0  0  0  0  0  0  0  0  0  0\n",
            "    7.3287    1.4446    0.0000 C   0  0  0  0  0  0  0  0  0  0  0  0\n",
            "    8.5755   -4.0118    0.0000 C   0  0  0  0  0  0  0  0  0  0  0  0\n",
            "    8.0358    2.1518    0.0000 C   0  0  1  0  0  0  0  0  0  0  0  0\n",
            "    3.0963    1.3708    0.0000 C   0  0  0  0  0  0  0  0  0  0  0  0\n",
            "    9.5717   -3.9245    0.0000 C   0  0  0  0  0  0  0  0  0  0  0  0\n",
            "    8.1530   -4.9181    0.0000 C   0  0  0  0  0  0  0  0  0  0  0  0\n",
            "    7.7770    3.1177    0.0000 C   0  0  2  0  0  0  0  0  0  0  0  0\n",
            "   10.1453   -4.7436    0.0000 C   0  0  0  0  0  0  0  0  0  0  0  0\n",
            "    8.7266   -5.7372    0.0000 C   0  0  0  0  0  0  0  0  0  0  0  0\n",
            "    9.7228   -5.6500    0.0000 C   0  0  0  0  0  0  0  0  0  0  0  0\n",
            "    8.4841    3.8248    0.0000 C   0  0  0  0  0  0  0  0  0  0  0  0\n",
            "    9.4500    3.5660    0.0000 C   0  0  0  0  0  0  0  0  0  0  0  0\n",
            "    8.2253    4.7907    0.0000 C   0  0  0  0  0  0  0  0  0  0  0  0\n",
            "    6.5522    4.3424    0.0000 C   0  0  0  0  0  0  0  0  0  0  0  0\n",
            "   10.1571    4.2731    0.0000 C   0  0  0  0  0  0  0  0  0  0  0  0\n",
            "    8.9324    5.4978    0.0000 C   0  0  0  0  0  0  0  0  0  0  0  0\n",
            "    5.5863    4.6012    0.0000 C   0  0  0  0  0  0  0  0  0  0  0  0\n",
            "    9.8983    5.2390    0.0000 C   0  0  0  0  0  0  0  0  0  0  0  0\n",
            "    4.8792    3.8941    0.0000 C   0  0  0  0  0  0  0  0  0  0  0  0\n",
            "    5.3275    5.5672    0.0000 C   0  0  0  0  0  0  0  0  0  0  0  0\n",
            "    3.9133    4.1530    0.0000 C   0  0  0  0  0  0  0  0  0  0  0  0\n",
            "    4.3616    5.8260    0.0000 C   0  0  0  0  0  0  0  0  0  0  0  0\n",
            "    3.6545    5.1189    0.0000 C   0  0  0  0  0  0  0  0  0  0  0  0\n",
            "    5.9608   -3.5651    0.0000 H   0  0  0  0  0  0  0  0  0  0  0  0\n",
            "    3.9897   -5.5860    0.0000 H   0  0  0  0  0  0  0  0  0  0  0  0\n",
            "    6.6773   -2.6324    0.0000 H   0  0  0  0  0  0  0  0  0  0  0  0\n",
            "    2.9201   -3.8511    0.0000 H   0  0  0  0  0  0  0  0  0  0  0  0\n",
            "    2.9243   -4.4819    0.0000 H   0  0  0  0  0  0  0  0  0  0  0  0\n",
            "    3.4078   -5.1171    0.0000 H   0  0  0  0  0  0  0  0  0  0  0  0\n",
            "    6.3585   -5.5844    0.0000 H   0  0  0  0  0  0  0  0  0  0  0  0\n",
            "    6.4645   -4.7134    0.0000 H   0  0  0  0  0  0  0  0  0  0  0  0\n",
            "    7.5297   -1.6857    0.0000 H   0  0  0  0  0  0  0  0  0  0  0  0\n",
            "    7.7099   -0.9145    0.0000 H   0  0  0  0  0  0  0  0  0  0  0  0\n",
            "    3.5650   -1.9016    0.0000 H   0  0  0  0  0  0  0  0  0  0  0  0\n",
            "    2.7550   -2.2372    0.0000 H   0  0  0  0  0  0  0  0  0  0  0  0\n",
            "    3.0905   -3.0472    0.0000 H   0  0  0  0  0  0  0  0  0  0  0  0\n",
            "    4.3726   -0.4013    0.0000 H   0  0  0  0  0  0  0  0  0  0  0  0\n",
            "    7.4806   -0.3840    0.0000 H   0  0  0  0  0  0  0  0  0  0  0  0\n",
            "    6.9959   -0.0590    0.0000 H   0  0  0  0  0  0  0  0  0  0  0  0\n",
            "    6.5575    0.7003    0.0000 H   0  0  0  0  0  0  0  0  0  0  0  0\n",
            "    5.7982    0.2619    0.0000 H   0  0  0  0  0  0  0  0  0  0  0  0\n",
            "    7.3707   -1.3106    0.0000 H   0  0  0  0  0  0  0  0  0  0  0  0\n",
            "    7.8091   -0.5513    0.0000 H   0  0  0  0  0  0  0  0  0  0  0  0\n",
            "    7.0498   -0.1129    0.0000 H   0  0  0  0  0  0  0  0  0  0  0  0\n",
            "    7.7921   -1.3963    0.0000 H   0  0  0  0  0  0  0  0  0  0  0  0\n",
            "    2.0000   -3.4568    0.0000 H   0  0  0  0  0  0  0  0  0  0  0  0\n",
            "    6.2935    1.1613    0.0000 H   0  0  0  0  0  0  0  0  0  0  0  0\n",
            "    5.5487    1.6240    0.0000 H   0  0  0  0  0  0  0  0  0  0  0  0\n",
            "    5.0860    0.8792    0.0000 H   0  0  0  0  0  0  0  0  0  0  0  0\n",
            "    5.4957   -5.4107    0.0000 H   0  0  0  0  0  0  0  0  0  0  0  0\n",
            "    5.5406   -6.2863    0.0000 H   0  0  0  0  0  0  0  0  0  0  0  0\n",
            "    6.4163   -6.2413    0.0000 H   0  0  0  0  0  0  0  0  0  0  0  0\n",
            "    8.1963    1.5529    0.0000 H   0  0  0  0  0  0  0  0  0  0  0  0\n",
            "    3.5347    1.8092    0.0000 H   0  0  0  0  0  0  0  0  0  0  0  0\n",
            "    2.6579    1.8092    0.0000 H   0  0  0  0  0  0  0  0  0  0  0  0\n",
            "    2.6579    0.9324    0.0000 H   0  0  0  0  0  0  0  0  0  0  0  0\n",
            "    9.8337   -3.3626    0.0000 H   0  0  0  0  0  0  0  0  0  0  0  0\n",
            "    7.5353   -4.9722    0.0000 H   0  0  0  0  0  0  0  0  0  0  0  0\n",
            "    7.6165    3.7166    0.0000 H   0  0  0  0  0  0  0  0  0  0  0  0\n",
            "   10.7630   -4.6896    0.0000 H   0  0  0  0  0  0  0  0  0  0  0  0\n",
            "    8.4646   -6.2991    0.0000 H   0  0  0  0  0  0  0  0  0  0  0  0\n",
            "    9.1622    1.2941    0.0000 H   0  0  0  0  0  0  0  0  0  0  0  0\n",
            "   10.0784   -6.1578    0.0000 H   0  0  0  0  0  0  0  0  0  0  0  0\n",
            "    6.3726    2.9381    0.0000 H   0  0  0  0  0  0  0  0  0  0  0  0\n",
            "    9.6105    2.9671    0.0000 H   0  0  0  0  0  0  0  0  0  0  0  0\n",
            "    7.6264    4.9512    0.0000 H   0  0  0  0  0  0  0  0  0  0  0  0\n",
            "   10.7560    4.1126    0.0000 H   0  0  0  0  0  0  0  0  0  0  0  0\n",
            "    8.7719    6.0967    0.0000 H   0  0  0  0  0  0  0  0  0  0  0  0\n",
            "   10.3367    5.6774    0.0000 H   0  0  0  0  0  0  0  0  0  0  0  0\n",
            "    5.0397    3.2953    0.0000 H   0  0  0  0  0  0  0  0  0  0  0  0\n",
            "    5.7659    6.0056    0.0000 H   0  0  0  0  0  0  0  0  0  0  0  0\n",
            "    3.4749    3.7145    0.0000 H   0  0  0  0  0  0  0  0  0  0  0  0\n",
            "    4.2011    6.4249    0.0000 H   0  0  0  0  0  0  0  0  0  0  0  0\n",
            "    3.0556    5.2793    0.0000 H   0  0  0  0  0  0  0  0  0  0  0  0\n",
            "  1 19  1  0  0  0  0\n",
            "  1 25  1  0  0  0  0\n",
            " 17  2  1  1  0  0  0\n",
            "  2 36  1  0  0  0  0\n",
            " 20  3  1  1  0  0  0\n",
            "  3 37  1  0  0  0  0\n",
            " 21  4  1  6  0  0  0\n",
            "  4 84  1  0  0  0  0\n",
            " 22  5  1  6  0  0  0\n",
            "  5 85  1  0  0  0  0\n",
            " 30  6  1  6  0  0  0\n",
            "  6 39  1  0  0  0  0\n",
            "  7 26  2  0  0  0  0\n",
            " 31  8  1  1  0  0  0\n",
            "  8 40  1  0  0  0  0\n",
            "  9 36  2  0  0  0  0\n",
            " 10 37  2  0  0  0  0\n",
            " 11 39  2  0  0  0  0\n",
            " 12 40  2  0  0  0  0\n",
            " 42 13  1  1  0  0  0\n",
            " 13101  1  0  0  0  0\n",
            " 14 53  2  0  0  0  0\n",
            " 46 15  1  1  0  0  0\n",
            " 15 53  1  0  0  0  0\n",
            " 15103  1  0  0  0  0\n",
            " 16 17  1  0  0  0  0\n",
            " 16 18  1  0  0  0  0\n",
            " 16 20  1  0  0  0  0\n",
            " 16 63  1  1  0  0  0\n",
            " 17 19  1  0  0  0  0\n",
            " 17 25  1  0  0  0  0\n",
            " 18 22  1  0  0  0  0\n",
            " 18 26  1  0  0  0  0\n",
            " 18 29  1  6  0  0  0\n",
            " 19 23  1  0  0  0  0\n",
            " 19 64  1  1  0  0  0\n",
            " 20 21  1  0  0  0  0\n",
            " 20 65  1  0  0  0  0\n",
            " 21 24  1  0  0  0  0\n",
            " 21 27  1  0  0  0  0\n",
            " 22 23  1  0  0  0  0\n",
            " 22 66  1  0  0  0  0\n",
            " 23 67  1  0  0  0  0\n",
            " 23 68  1  0  0  0  0\n",
            " 24 28  1  0  0  0  0\n",
            " 24 33  1  0  0  0  0\n",
            " 24 34  1  0  0  0  0\n",
            " 25 69  1  0  0  0  0\n",
            " 25 70  1  0  0  0  0\n",
            " 26 30  1  0  0  0  0\n",
            " 27 31  1  0  0  0  0\n",
            " 27 71  1  0  0  0  0\n",
            " 27 72  1  0  0  0  0\n",
            " 28 30  1  0  0  0  0\n",
            " 28 32  2  0  0  0  0\n",
            " 29 73  1  0  0  0  0\n",
            " 29 74  1  0  0  0  0\n",
            " 29 75  1  0  0  0  0\n",
            " 30 76  1  0  0  0  0\n",
            " 31 32  1  0  0  0  0\n",
            " 31 77  1  0  0  0  0\n",
            " 32 35  1  0  0  0  0\n",
            " 33 78  1  0  0  0  0\n",
            " 33 79  1  0  0  0  0\n",
            " 33 80  1  0  0  0  0\n",
            " 34 81  1  0  0  0  0\n",
            " 34 82  1  0  0  0  0\n",
            " 34 83  1  0  0  0  0\n",
            " 35 86  1  0  0  0  0\n",
            " 35 87  1  0  0  0  0\n",
            " 35 88  1  0  0  0  0\n",
            " 36 38  1  0  0  0  0\n",
            " 37 41  1  0  0  0  0\n",
            " 38 89  1  0  0  0  0\n",
            " 38 90  1  0  0  0  0\n",
            " 38 91  1  0  0  0  0\n",
            " 39 43  1  0  0  0  0\n",
            " 40 42  1  0  0  0  0\n",
            " 41 44  2  0  0  0  0\n",
            " 41 45  1  0  0  0  0\n",
            " 42 46  1  0  0  0  0\n",
            " 42 92  1  0  0  0  0\n",
            " 43 93  1  0  0  0  0\n",
            " 43 94  1  0  0  0  0\n",
            " 43 95  1  0  0  0  0\n",
            " 44 47  1  0  0  0  0\n",
            " 44 96  1  0  0  0  0\n",
            " 45 48  2  0  0  0  0\n",
            " 45 97  1  0  0  0  0\n",
            " 46 50  1  0  0  0  0\n",
            " 46 98  1  0  0  0  0\n",
            " 47 49  2  0  0  0  0\n",
            " 47 99  1  0  0  0  0\n",
            " 48 49  1  0  0  0  0\n",
            " 48100  1  0  0  0  0\n",
            " 49102  1  0  0  0  0\n",
            " 50 51  2  0  0  0  0\n",
            " 50 52  1  0  0  0  0\n",
            " 51 54  1  0  0  0  0\n",
            " 51104  1  0  0  0  0\n",
            " 52 55  2  0  0  0  0\n",
            " 52105  1  0  0  0  0\n",
            " 53 56  1  0  0  0  0\n",
            " 54 57  2  0  0  0  0\n",
            " 54106  1  0  0  0  0\n",
            " 55 57  1  0  0  0  0\n",
            " 55107  1  0  0  0  0\n",
            " 56 58  2  0  0  0  0\n",
            " 56 59  1  0  0  0  0\n",
            " 57108  1  0  0  0  0\n",
            " 58 60  1  0  0  0  0\n",
            " 58109  1  0  0  0  0\n",
            " 59 61  2  0  0  0  0\n",
            " 59110  1  0  0  0  0\n",
            " 60 62  2  0  0  0  0\n",
            " 60111  1  0  0  0  0\n",
            " 61 62  1  0  0  0  0\n",
            " 61112  1  0  0  0  0\n",
            " 62113  1  0  0  0  0\n",
            "M  END\n",
            "> <PUBCHEM_COMPOUND_CID>\n",
            "36314\n",
            "\n",
            "> <PUBCHEM_COMPOUND_CANONICALIZED>\n",
            "1\n",
            "\n",
            "> <PUBCHEM_CACTVS_COMPLEXITY>\n",
            "1790\n",
            "\n",
            "> <PUBCHEM_CACTVS_HBOND_ACCEPTOR>\n",
            "14\n",
            "\n",
            "> <PUBCHEM_CACTVS_HBOND_DONOR>\n",
            "4\n",
            "\n",
            "> <PUBCHEM_CACTVS_ROTATABLE_BOND>\n",
            "14\n",
            "\n",
            "> <PUBCHEM_CACTVS_SUBSKEYS>\n",
            "AAADcfB+PAAAAAAAAAAAAAAAAABIAAAAAAAwYMGCAAAaIACBUAAAHgAQCAAAD3zhmAYyCILABgCIAqHSGAKCAAAkAAAIiIFIDMgLNj6AtR2GcQhn9gGbqYfa7PzPgAAAAAAAAABCAAYQADCAAAAAAAAAAA==\n",
            "\n",
            "> <PUBCHEM_IUPAC_OPENEYE_NAME>\n",
            "[(1S,2S,3R,4S,7R,9S,10S,12R,15S)-4,12-diacetoxy-15-[(2R,3S)-3-benzamido-2-hydroxy-3-phenyl-propanoyl]oxy-1,9-dihydroxy-10,14,17,17-tetramethyl-11-oxo-6-oxatetracyclo[11.3.1.03,10.04,7]heptadec-13-en-2-yl] benzoate\n",
            "\n",
            "> <PUBCHEM_IUPAC_CAS_NAME>\n",
            "benzoic acid [(1S,2S,3R,4S,7R,9S,10S,12R,15S)-4,12-diacetyloxy-15-[(2R,3S)-3-benzamido-2-hydroxy-1-oxo-3-phenylpropoxy]-1,9-dihydroxy-10,14,17,17-tetramethyl-11-oxo-6-oxatetracyclo[11.3.1.03,10.04,7]heptadec-13-en-2-yl] ester\n",
            "\n",
            "> <PUBCHEM_IUPAC_NAME_MARKUP>\n",
            "[(1<I>S</I>,2<I>S</I>,3<I>R</I>,4<I>S</I>,7<I>R</I>,9<I>S</I>,10<I>S</I>,12<I>R</I>,15<I>S</I>)-4,12-diacetyloxy-15-[(2<I>R</I>,3<I>S</I>)-3-benzamido-2-hydroxy-3-phenylpropanoyl]oxy-1,9-dihydroxy-10,14,17,17-tetramethyl-11-oxo-6-oxatetracyclo[11.3.1.0<SUP>3,10</SUP>.0<SUP>4,7</SUP>]heptadec-13-en-2-yl] benzoate\n",
            "\n",
            "> <PUBCHEM_IUPAC_NAME>\n",
            "[(1S,2S,3R,4S,7R,9S,10S,12R,15S)-4,12-diacetyloxy-15-[(2R,3S)-3-benzamido-2-hydroxy-3-phenylpropanoyl]oxy-1,9-dihydroxy-10,14,17,17-tetramethyl-11-oxo-6-oxatetracyclo[11.3.1.03,10.04,7]heptadec-13-en-2-yl] benzoate\n",
            "\n",
            "> <PUBCHEM_IUPAC_SYSTEMATIC_NAME>\n",
            "[(1S,2S,3R,4S,7R,9S,10S,12R,15S)-4,12-diacetyloxy-15-[(2R,3S)-3-benzamido-2-oxidanyl-3-phenyl-propanoyl]oxy-10,14,17,17-tetramethyl-1,9-bis(oxidanyl)-11-oxidanylidene-6-oxatetracyclo[11.3.1.03,10.04,7]heptadec-13-en-2-yl] benzoate\n",
            "\n",
            "> <PUBCHEM_IUPAC_TRADITIONAL_NAME>\n",
            "benzoic acid [(1S,2S,3R,4S,7R,9S,10S,12R,15S)-4,12-diacetoxy-15-[(2R,3S)-3-benzamido-2-hydroxy-3-phenyl-propanoyl]oxy-1,9-dihydroxy-11-keto-10,14,17,17-tetramethyl-6-oxatetracyclo[11.3.1.03,10.04,7]heptadec-13-en-2-yl] ester\n",
            "\n",
            "> <PUBCHEM_IUPAC_INCHI>\n",
            "InChI=1S/C47H51NO14/c1-25-31(60-43(56)36(52)35(28-16-10-7-11-17-28)48-41(54)29-18-12-8-13-19-29)23-47(57)40(61-42(55)30-20-14-9-15-21-30)38-45(6,32(51)22-33-46(38,24-58-33)62-27(3)50)39(53)37(59-26(2)49)34(25)44(47,4)5/h7-21,31-33,35-38,40,51-52,57H,22-24H2,1-6H3,(H,48,54)/t31-,32-,33+,35-,36+,37+,38-,40-,45+,46-,47+/m0/s1\n",
            "\n",
            "> <PUBCHEM_IUPAC_INCHIKEY>\n",
            "RCINICONZNJXQF-MZXODVADSA-N\n",
            "\n",
            "> <PUBCHEM_XLOGP3>\n",
            "2.5\n",
            "\n",
            "> <PUBCHEM_EXACT_MASS>\n",
            "853.33095530\n",
            "\n",
            "> <PUBCHEM_MOLECULAR_FORMULA>\n",
            "C47H51NO14\n",
            "\n",
            "> <PUBCHEM_MOLECULAR_WEIGHT>\n",
            "853.9\n",
            "\n",
            "> <PUBCHEM_OPENEYE_CAN_SMILES>\n",
            "CC1=C2C(C(=O)C3(C(CC4C(C3C(C(C2(C)C)(CC1OC(=O)C(C(C5=CC=CC=C5)NC(=O)C6=CC=CC=C6)O)O)OC(=O)C7=CC=CC=C7)(CO4)OC(=O)C)O)C)OC(=O)C\n",
            "\n",
            "> <PUBCHEM_OPENEYE_ISO_SMILES>\n",
            "CC1=C2[C@H](C(=O)[C@@]3([C@H](C[C@@H]4[C@]([C@H]3[C@@H]([C@@](C2(C)C)(C[C@@H]1OC(=O)[C@@H]([C@H](C5=CC=CC=C5)NC(=O)C6=CC=CC=C6)O)O)OC(=O)C7=CC=CC=C7)(CO4)OC(=O)C)O)C)OC(=O)C\n",
            "\n",
            "> <PUBCHEM_CACTVS_TPSA>\n",
            "221\n",
            "\n",
            "> <PUBCHEM_MONOISOTOPIC_WEIGHT>\n",
            "853.33095530\n",
            "\n",
            "> <PUBCHEM_TOTAL_CHARGE>\n",
            "0\n",
            "\n",
            "> <PUBCHEM_HEAVY_ATOM_COUNT>\n",
            "62\n",
            "\n",
            "> <PUBCHEM_ATOM_DEF_STEREO_COUNT>\n",
            "11\n",
            "\n",
            "> <PUBCHEM_ATOM_UDEF_STEREO_COUNT>\n",
            "0\n",
            "\n",
            "> <PUBCHEM_BOND_DEF_STEREO_COUNT>\n",
            "0\n",
            "\n",
            "> <PUBCHEM_BOND_UDEF_STEREO_COUNT>\n",
            "0\n",
            "\n",
            "> <PUBCHEM_ISOTOPIC_ATOM_COUNT>\n",
            "0\n",
            "\n",
            "> <PUBCHEM_COMPONENT_COUNT>\n",
            "1\n",
            "\n",
            "> <PUBCHEM_CACTVS_TAUTO_COUNT>\n",
            "-1\n",
            "\n",
            "> <PUBCHEM_COORDINATE_TYPE>\n",
            "1\n",
            "5\n",
            "255\n",
            "\n",
            "> <PUBCHEM_BONDANNOTATIONS>\n",
            "42  13  5\n",
            "46  15  5\n",
            "16  63  5\n",
            "18  29  6\n",
            "19  64  5\n",
            "17  2  5\n",
            "20  3  5\n",
            "21  4  6\n",
            "41  44  8\n",
            "41  45  8\n",
            "44  47  8\n",
            "45  48  8\n",
            "47  49  8\n",
            "48  49  8\n",
            "22  5  6\n",
            "50  51  8\n",
            "50  52  8\n",
            "51  54  8\n",
            "52  55  8\n",
            "54  57  8\n",
            "55  57  8\n",
            "56  58  8\n",
            "56  59  8\n",
            "58  60  8\n",
            "59  61  8\n",
            "30  6  6\n",
            "60  62  8\n",
            "61  62  8\n",
            "31  8  5\n",
            "\n",
            "$$$$\n",
            "\n"
          ]
        }
      ]
    },
    {
      "cell_type": "code",
      "source": [
        "view = py3Dmol.view(data=sdf)\n",
        "view.setStyle({'stick': {}})\n",
        "view.show()"
      ],
      "metadata": {
        "id": "JWrKKHD0DVwK",
        "outputId": "dddbc08c-b477-496d-9eaa-aff08db28a44",
        "colab": {
          "base_uri": "https://localhost:8080/",
          "height": 497
        }
      },
      "id": "JWrKKHD0DVwK",
      "execution_count": 50,
      "outputs": [
        {
          "output_type": "display_data",
          "data": {
            "application/3dmoljs_load.v0": "<div id=\"3dmolviewer_17003562503901117\"  style=\"position: relative; width: 640px; height: 480px;\">\n        <p id=\"3dmolwarning_17003562503901117\" style=\"background-color:#ffcccc;color:black\">You appear to be running in JupyterLab (or JavaScript failed to load for some other reason).  You need to install the 3dmol extension: <br>\n        <tt>jupyter labextension install jupyterlab_3dmol</tt></p>\n        </div>\n<script>\n\nvar loadScriptAsync = function(uri){\n  return new Promise((resolve, reject) => {\n    //this is to ignore the existence of requirejs amd\n    var savedexports, savedmodule;\n    if (typeof exports !== 'undefined') savedexports = exports;\n    else exports = {}\n    if (typeof module !== 'undefined') savedmodule = module;\n    else module = {}\n\n    var tag = document.createElement('script');\n    tag.src = uri;\n    tag.async = true;\n    tag.onload = () => {\n        exports = savedexports;\n        module = savedmodule;\n        resolve();\n    };\n  var firstScriptTag = document.getElementsByTagName('script')[0];\n  firstScriptTag.parentNode.insertBefore(tag, firstScriptTag);\n});\n};\n\nif(typeof $3Dmolpromise === 'undefined') {\n$3Dmolpromise = null;\n  $3Dmolpromise = loadScriptAsync('https://cdnjs.cloudflare.com/ajax/libs/3Dmol/2.0.4/3Dmol-min.js');\n}\n\nvar viewer_17003562503901117 = null;\nvar warn = document.getElementById(\"3dmolwarning_17003562503901117\");\nif(warn) {\n    warn.parentNode.removeChild(warn);\n}\n$3Dmolpromise.then(function() {\nviewer_17003562503901117 = $3Dmol.createViewer(document.getElementById(\"3dmolviewer_17003562503901117\"),{backgroundColor:\"white\"});\nviewer_17003562503901117.addModel(\"36314\\n  -OEChem-11182320062D\\n\\n113119  0     1  0  0  0  0  0999 V2000\\n    5.1483   -5.7417    0.0000 O   0  0  0  0  0  0  0  0  0  0  0  0\\n    6.3178   -4.1322    0.0000 O   0  0  0  0  0  0  0  0  0  0  0  0\\n    7.0057   -3.2798    0.0000 O   0  0  0  0  0  0  0  0  0  0  0  0\\n    7.4821   -1.9332    0.0000 O   0  0  0  0  0  0  0  0  0  0  0  0\\n    2.4962   -3.0851    0.0000 O   0  0  0  0  0  0  0  0  0  0  0  0\\n    3.5446   -0.3023    0.0000 O   0  0  0  0  0  0  0  0  0  0  0  0\\n    2.8690   -1.9332    0.0000 O   0  0  0  0  0  0  0  0  0  0  0  0\\n    7.5875    0.4787    0.0000 O   0  0  0  0  0  0  0  0  0  0  0  0\\n    7.6038   -5.2924    0.0000 O   0  0  0  0  0  0  0  0  0  0  0  0\\n    8.4245   -2.2863    0.0000 O   0  0  0  0  0  0  0  0  0  0  0  0\\n    4.7693    0.9225    0.0000 O   0  0  0  0  0  0  0  0  0  0  0  0\\n    6.3628    1.7035    0.0000 O   0  0  0  0  0  0  0  0  0  0  0  0\\n    9.0017    1.8929    0.0000 O   0  0  0  0  0  0  0  0  0  0  0  0\\n    7.2593    5.0495    0.0000 O   0  0  0  0  0  0  0  0  0  0  0  0\\n    6.8110    3.3765    0.0000 N   0  0  0  0  0  0  0  0  0  0  0  0\\n    5.1755   -3.2398    0.0000 C   0  0  2  0  0  0  0  0  0  0  0  0\\n    5.3274   -4.2703    0.0000 C   0  0  2  0  0  0  0  0  0  0  0  0\\n    4.2517   -2.8571    0.0000 C   0  0  1  0  0  0  0  0  0  0  0  0\\n    4.5059   -4.9108    0.0000 C   0  0  1  0  0  0  0  0  0  0  0  0\\n    6.0994   -2.8571    0.0000 C   0  0  1  0  0  0  0  0  0  0  0  0\\n    6.4821   -1.9332    0.0000 C   0  0  2  0  0  0  0  0  0  0  0  0\\n    3.4156   -3.4784    0.0000 C   0  0  2  0  0  0  0  0  0  0  0  0\\n    3.5436   -4.5122    0.0000 C   0  0  0  0  0  0  0  0  0  0  0  0\\n    6.0994   -1.0094    0.0000 C   0  0  0  0  0  0  0  0  0  0  0  0\\n    5.9766   -5.0959    0.0000 C   0  0  0  0  0  0  0  0  0  0  0  0\\n    3.8690   -1.9332    0.0000 C   0  0  0  0  0  0  0  0  0  0  0  0\\n    7.1552   -1.1916    0.0000 C   0  0  0  0  0  0  0  0  0  0  0  0\\n    5.1755   -0.6267    0.0000 C   0  0  0  0  0  0  0  0  0  0  0  0\\n    3.3278   -2.4744    0.0000 C   0  0  0  0  0  0  0  0  0  0  0  0\\n    4.2517   -1.0094    0.0000 C   0  0  1  0  0  0  0  0  0  0  0  0\\n    6.8804   -0.2284    0.0000 C   0  0  1  0  0  0  0  0  0  0  0  0\\n    5.9172    0.0464    0.0000 C   0  0  0  0  0  0  0  0  0  0  0  0\\n    6.3971    0.1014    0.0000 C   0  0  0  0  0  0  0  0  0  0  0  0\\n    7.2102   -0.7117    0.0000 C   0  0  0  0  0  0  0  0  0  0  0  0\\n    5.6897    1.0202    0.0000 C   0  0  0  0  0  0  0  0  0  0  0  0\\n    6.6259   -5.0835    0.0000 C   0  0  0  0  0  0  0  0  0  0  0  0\\n    8.0019   -3.1927    0.0000 C   0  0  0  0  0  0  0  0  0  0  0  0\\n    5.9560   -5.8260    0.0000 C   0  0  0  0  0  0  0  0  0  0  0  0\\n    3.8034    0.6637    0.0000 C   0  0  0  0  0  0  0  0  0  0  0  0\\n    7.3287    1.4446    0.0000 C   0  0  0  0  0  0  0  0  0  0  0  0\\n    8.5755   -4.0118    0.0000 C   0  0  0  0  0  0  0  0  0  0  0  0\\n    8.0358    2.1518    0.0000 C   0  0  1  0  0  0  0  0  0  0  0  0\\n    3.0963    1.3708    0.0000 C   0  0  0  0  0  0  0  0  0  0  0  0\\n    9.5717   -3.9245    0.0000 C   0  0  0  0  0  0  0  0  0  0  0  0\\n    8.1530   -4.9181    0.0000 C   0  0  0  0  0  0  0  0  0  0  0  0\\n    7.7770    3.1177    0.0000 C   0  0  2  0  0  0  0  0  0  0  0  0\\n   10.1453   -4.7436    0.0000 C   0  0  0  0  0  0  0  0  0  0  0  0\\n    8.7266   -5.7372    0.0000 C   0  0  0  0  0  0  0  0  0  0  0  0\\n    9.7228   -5.6500    0.0000 C   0  0  0  0  0  0  0  0  0  0  0  0\\n    8.4841    3.8248    0.0000 C   0  0  0  0  0  0  0  0  0  0  0  0\\n    9.4500    3.5660    0.0000 C   0  0  0  0  0  0  0  0  0  0  0  0\\n    8.2253    4.7907    0.0000 C   0  0  0  0  0  0  0  0  0  0  0  0\\n    6.5522    4.3424    0.0000 C   0  0  0  0  0  0  0  0  0  0  0  0\\n   10.1571    4.2731    0.0000 C   0  0  0  0  0  0  0  0  0  0  0  0\\n    8.9324    5.4978    0.0000 C   0  0  0  0  0  0  0  0  0  0  0  0\\n    5.5863    4.6012    0.0000 C   0  0  0  0  0  0  0  0  0  0  0  0\\n    9.8983    5.2390    0.0000 C   0  0  0  0  0  0  0  0  0  0  0  0\\n    4.8792    3.8941    0.0000 C   0  0  0  0  0  0  0  0  0  0  0  0\\n    5.3275    5.5672    0.0000 C   0  0  0  0  0  0  0  0  0  0  0  0\\n    3.9133    4.1530    0.0000 C   0  0  0  0  0  0  0  0  0  0  0  0\\n    4.3616    5.8260    0.0000 C   0  0  0  0  0  0  0  0  0  0  0  0\\n    3.6545    5.1189    0.0000 C   0  0  0  0  0  0  0  0  0  0  0  0\\n    5.9608   -3.5651    0.0000 H   0  0  0  0  0  0  0  0  0  0  0  0\\n    3.9897   -5.5860    0.0000 H   0  0  0  0  0  0  0  0  0  0  0  0\\n    6.6773   -2.6324    0.0000 H   0  0  0  0  0  0  0  0  0  0  0  0\\n    2.9201   -3.8511    0.0000 H   0  0  0  0  0  0  0  0  0  0  0  0\\n    2.9243   -4.4819    0.0000 H   0  0  0  0  0  0  0  0  0  0  0  0\\n    3.4078   -5.1171    0.0000 H   0  0  0  0  0  0  0  0  0  0  0  0\\n    6.3585   -5.5844    0.0000 H   0  0  0  0  0  0  0  0  0  0  0  0\\n    6.4645   -4.7134    0.0000 H   0  0  0  0  0  0  0  0  0  0  0  0\\n    7.5297   -1.6857    0.0000 H   0  0  0  0  0  0  0  0  0  0  0  0\\n    7.7099   -0.9145    0.0000 H   0  0  0  0  0  0  0  0  0  0  0  0\\n    3.5650   -1.9016    0.0000 H   0  0  0  0  0  0  0  0  0  0  0  0\\n    2.7550   -2.2372    0.0000 H   0  0  0  0  0  0  0  0  0  0  0  0\\n    3.0905   -3.0472    0.0000 H   0  0  0  0  0  0  0  0  0  0  0  0\\n    4.3726   -0.4013    0.0000 H   0  0  0  0  0  0  0  0  0  0  0  0\\n    7.4806   -0.3840    0.0000 H   0  0  0  0  0  0  0  0  0  0  0  0\\n    6.9959   -0.0590    0.0000 H   0  0  0  0  0  0  0  0  0  0  0  0\\n    6.5575    0.7003    0.0000 H   0  0  0  0  0  0  0  0  0  0  0  0\\n    5.7982    0.2619    0.0000 H   0  0  0  0  0  0  0  0  0  0  0  0\\n    7.3707   -1.3106    0.0000 H   0  0  0  0  0  0  0  0  0  0  0  0\\n    7.8091   -0.5513    0.0000 H   0  0  0  0  0  0  0  0  0  0  0  0\\n    7.0498   -0.1129    0.0000 H   0  0  0  0  0  0  0  0  0  0  0  0\\n    7.7921   -1.3963    0.0000 H   0  0  0  0  0  0  0  0  0  0  0  0\\n    2.0000   -3.4568    0.0000 H   0  0  0  0  0  0  0  0  0  0  0  0\\n    6.2935    1.1613    0.0000 H   0  0  0  0  0  0  0  0  0  0  0  0\\n    5.5487    1.6240    0.0000 H   0  0  0  0  0  0  0  0  0  0  0  0\\n    5.0860    0.8792    0.0000 H   0  0  0  0  0  0  0  0  0  0  0  0\\n    5.4957   -5.4107    0.0000 H   0  0  0  0  0  0  0  0  0  0  0  0\\n    5.5406   -6.2863    0.0000 H   0  0  0  0  0  0  0  0  0  0  0  0\\n    6.4163   -6.2413    0.0000 H   0  0  0  0  0  0  0  0  0  0  0  0\\n    8.1963    1.5529    0.0000 H   0  0  0  0  0  0  0  0  0  0  0  0\\n    3.5347    1.8092    0.0000 H   0  0  0  0  0  0  0  0  0  0  0  0\\n    2.6579    1.8092    0.0000 H   0  0  0  0  0  0  0  0  0  0  0  0\\n    2.6579    0.9324    0.0000 H   0  0  0  0  0  0  0  0  0  0  0  0\\n    9.8337   -3.3626    0.0000 H   0  0  0  0  0  0  0  0  0  0  0  0\\n    7.5353   -4.9722    0.0000 H   0  0  0  0  0  0  0  0  0  0  0  0\\n    7.6165    3.7166    0.0000 H   0  0  0  0  0  0  0  0  0  0  0  0\\n   10.7630   -4.6896    0.0000 H   0  0  0  0  0  0  0  0  0  0  0  0\\n    8.4646   -6.2991    0.0000 H   0  0  0  0  0  0  0  0  0  0  0  0\\n    9.1622    1.2941    0.0000 H   0  0  0  0  0  0  0  0  0  0  0  0\\n   10.0784   -6.1578    0.0000 H   0  0  0  0  0  0  0  0  0  0  0  0\\n    6.3726    2.9381    0.0000 H   0  0  0  0  0  0  0  0  0  0  0  0\\n    9.6105    2.9671    0.0000 H   0  0  0  0  0  0  0  0  0  0  0  0\\n    7.6264    4.9512    0.0000 H   0  0  0  0  0  0  0  0  0  0  0  0\\n   10.7560    4.1126    0.0000 H   0  0  0  0  0  0  0  0  0  0  0  0\\n    8.7719    6.0967    0.0000 H   0  0  0  0  0  0  0  0  0  0  0  0\\n   10.3367    5.6774    0.0000 H   0  0  0  0  0  0  0  0  0  0  0  0\\n    5.0397    3.2953    0.0000 H   0  0  0  0  0  0  0  0  0  0  0  0\\n    5.7659    6.0056    0.0000 H   0  0  0  0  0  0  0  0  0  0  0  0\\n    3.4749    3.7145    0.0000 H   0  0  0  0  0  0  0  0  0  0  0  0\\n    4.2011    6.4249    0.0000 H   0  0  0  0  0  0  0  0  0  0  0  0\\n    3.0556    5.2793    0.0000 H   0  0  0  0  0  0  0  0  0  0  0  0\\n  1 19  1  0  0  0  0\\n  1 25  1  0  0  0  0\\n 17  2  1  1  0  0  0\\n  2 36  1  0  0  0  0\\n 20  3  1  1  0  0  0\\n  3 37  1  0  0  0  0\\n 21  4  1  6  0  0  0\\n  4 84  1  0  0  0  0\\n 22  5  1  6  0  0  0\\n  5 85  1  0  0  0  0\\n 30  6  1  6  0  0  0\\n  6 39  1  0  0  0  0\\n  7 26  2  0  0  0  0\\n 31  8  1  1  0  0  0\\n  8 40  1  0  0  0  0\\n  9 36  2  0  0  0  0\\n 10 37  2  0  0  0  0\\n 11 39  2  0  0  0  0\\n 12 40  2  0  0  0  0\\n 42 13  1  1  0  0  0\\n 13101  1  0  0  0  0\\n 14 53  2  0  0  0  0\\n 46 15  1  1  0  0  0\\n 15 53  1  0  0  0  0\\n 15103  1  0  0  0  0\\n 16 17  1  0  0  0  0\\n 16 18  1  0  0  0  0\\n 16 20  1  0  0  0  0\\n 16 63  1  1  0  0  0\\n 17 19  1  0  0  0  0\\n 17 25  1  0  0  0  0\\n 18 22  1  0  0  0  0\\n 18 26  1  0  0  0  0\\n 18 29  1  6  0  0  0\\n 19 23  1  0  0  0  0\\n 19 64  1  1  0  0  0\\n 20 21  1  0  0  0  0\\n 20 65  1  0  0  0  0\\n 21 24  1  0  0  0  0\\n 21 27  1  0  0  0  0\\n 22 23  1  0  0  0  0\\n 22 66  1  0  0  0  0\\n 23 67  1  0  0  0  0\\n 23 68  1  0  0  0  0\\n 24 28  1  0  0  0  0\\n 24 33  1  0  0  0  0\\n 24 34  1  0  0  0  0\\n 25 69  1  0  0  0  0\\n 25 70  1  0  0  0  0\\n 26 30  1  0  0  0  0\\n 27 31  1  0  0  0  0\\n 27 71  1  0  0  0  0\\n 27 72  1  0  0  0  0\\n 28 30  1  0  0  0  0\\n 28 32  2  0  0  0  0\\n 29 73  1  0  0  0  0\\n 29 74  1  0  0  0  0\\n 29 75  1  0  0  0  0\\n 30 76  1  0  0  0  0\\n 31 32  1  0  0  0  0\\n 31 77  1  0  0  0  0\\n 32 35  1  0  0  0  0\\n 33 78  1  0  0  0  0\\n 33 79  1  0  0  0  0\\n 33 80  1  0  0  0  0\\n 34 81  1  0  0  0  0\\n 34 82  1  0  0  0  0\\n 34 83  1  0  0  0  0\\n 35 86  1  0  0  0  0\\n 35 87  1  0  0  0  0\\n 35 88  1  0  0  0  0\\n 36 38  1  0  0  0  0\\n 37 41  1  0  0  0  0\\n 38 89  1  0  0  0  0\\n 38 90  1  0  0  0  0\\n 38 91  1  0  0  0  0\\n 39 43  1  0  0  0  0\\n 40 42  1  0  0  0  0\\n 41 44  2  0  0  0  0\\n 41 45  1  0  0  0  0\\n 42 46  1  0  0  0  0\\n 42 92  1  0  0  0  0\\n 43 93  1  0  0  0  0\\n 43 94  1  0  0  0  0\\n 43 95  1  0  0  0  0\\n 44 47  1  0  0  0  0\\n 44 96  1  0  0  0  0\\n 45 48  2  0  0  0  0\\n 45 97  1  0  0  0  0\\n 46 50  1  0  0  0  0\\n 46 98  1  0  0  0  0\\n 47 49  2  0  0  0  0\\n 47 99  1  0  0  0  0\\n 48 49  1  0  0  0  0\\n 48100  1  0  0  0  0\\n 49102  1  0  0  0  0\\n 50 51  2  0  0  0  0\\n 50 52  1  0  0  0  0\\n 51 54  1  0  0  0  0\\n 51104  1  0  0  0  0\\n 52 55  2  0  0  0  0\\n 52105  1  0  0  0  0\\n 53 56  1  0  0  0  0\\n 54 57  2  0  0  0  0\\n 54106  1  0  0  0  0\\n 55 57  1  0  0  0  0\\n 55107  1  0  0  0  0\\n 56 58  2  0  0  0  0\\n 56 59  1  0  0  0  0\\n 57108  1  0  0  0  0\\n 58 60  1  0  0  0  0\\n 58109  1  0  0  0  0\\n 59 61  2  0  0  0  0\\n 59110  1  0  0  0  0\\n 60 62  2  0  0  0  0\\n 60111  1  0  0  0  0\\n 61 62  1  0  0  0  0\\n 61112  1  0  0  0  0\\n 62113  1  0  0  0  0\\nM  END\\n> <PUBCHEM_COMPOUND_CID>\\n36314\\n\\n> <PUBCHEM_COMPOUND_CANONICALIZED>\\n1\\n\\n> <PUBCHEM_CACTVS_COMPLEXITY>\\n1790\\n\\n> <PUBCHEM_CACTVS_HBOND_ACCEPTOR>\\n14\\n\\n> <PUBCHEM_CACTVS_HBOND_DONOR>\\n4\\n\\n> <PUBCHEM_CACTVS_ROTATABLE_BOND>\\n14\\n\\n> <PUBCHEM_CACTVS_SUBSKEYS>\\nAAADcfB+PAAAAAAAAAAAAAAAAABIAAAAAAAwYMGCAAAaIACBUAAAHgAQCAAAD3zhmAYyCILABgCIAqHSGAKCAAAkAAAIiIFIDMgLNj6AtR2GcQhn9gGbqYfa7PzPgAAAAAAAAABCAAYQADCAAAAAAAAAAA==\\n\\n> <PUBCHEM_IUPAC_OPENEYE_NAME>\\n[(1S,2S,3R,4S,7R,9S,10S,12R,15S)-4,12-diacetoxy-15-[(2R,3S)-3-benzamido-2-hydroxy-3-phenyl-propanoyl]oxy-1,9-dihydroxy-10,14,17,17-tetramethyl-11-oxo-6-oxatetracyclo[11.3.1.03,10.04,7]heptadec-13-en-2-yl] benzoate\\n\\n> <PUBCHEM_IUPAC_CAS_NAME>\\nbenzoic acid [(1S,2S,3R,4S,7R,9S,10S,12R,15S)-4,12-diacetyloxy-15-[(2R,3S)-3-benzamido-2-hydroxy-1-oxo-3-phenylpropoxy]-1,9-dihydroxy-10,14,17,17-tetramethyl-11-oxo-6-oxatetracyclo[11.3.1.03,10.04,7]heptadec-13-en-2-yl] ester\\n\\n> <PUBCHEM_IUPAC_NAME_MARKUP>\\n[(1<I>S</I>,2<I>S</I>,3<I>R</I>,4<I>S</I>,7<I>R</I>,9<I>S</I>,10<I>S</I>,12<I>R</I>,15<I>S</I>)-4,12-diacetyloxy-15-[(2<I>R</I>,3<I>S</I>)-3-benzamido-2-hydroxy-3-phenylpropanoyl]oxy-1,9-dihydroxy-10,14,17,17-tetramethyl-11-oxo-6-oxatetracyclo[11.3.1.0<SUP>3,10</SUP>.0<SUP>4,7</SUP>]heptadec-13-en-2-yl] benzoate\\n\\n> <PUBCHEM_IUPAC_NAME>\\n[(1S,2S,3R,4S,7R,9S,10S,12R,15S)-4,12-diacetyloxy-15-[(2R,3S)-3-benzamido-2-hydroxy-3-phenylpropanoyl]oxy-1,9-dihydroxy-10,14,17,17-tetramethyl-11-oxo-6-oxatetracyclo[11.3.1.03,10.04,7]heptadec-13-en-2-yl] benzoate\\n\\n> <PUBCHEM_IUPAC_SYSTEMATIC_NAME>\\n[(1S,2S,3R,4S,7R,9S,10S,12R,15S)-4,12-diacetyloxy-15-[(2R,3S)-3-benzamido-2-oxidanyl-3-phenyl-propanoyl]oxy-10,14,17,17-tetramethyl-1,9-bis(oxidanyl)-11-oxidanylidene-6-oxatetracyclo[11.3.1.03,10.04,7]heptadec-13-en-2-yl] benzoate\\n\\n> <PUBCHEM_IUPAC_TRADITIONAL_NAME>\\nbenzoic acid [(1S,2S,3R,4S,7R,9S,10S,12R,15S)-4,12-diacetoxy-15-[(2R,3S)-3-benzamido-2-hydroxy-3-phenyl-propanoyl]oxy-1,9-dihydroxy-11-keto-10,14,17,17-tetramethyl-6-oxatetracyclo[11.3.1.03,10.04,7]heptadec-13-en-2-yl] ester\\n\\n> <PUBCHEM_IUPAC_INCHI>\\nInChI=1S/C47H51NO14/c1-25-31(60-43(56)36(52)35(28-16-10-7-11-17-28)48-41(54)29-18-12-8-13-19-29)23-47(57)40(61-42(55)30-20-14-9-15-21-30)38-45(6,32(51)22-33-46(38,24-58-33)62-27(3)50)39(53)37(59-26(2)49)34(25)44(47,4)5/h7-21,31-33,35-38,40,51-52,57H,22-24H2,1-6H3,(H,48,54)/t31-,32-,33+,35-,36+,37+,38-,40-,45+,46-,47+/m0/s1\\n\\n> <PUBCHEM_IUPAC_INCHIKEY>\\nRCINICONZNJXQF-MZXODVADSA-N\\n\\n> <PUBCHEM_XLOGP3>\\n2.5\\n\\n> <PUBCHEM_EXACT_MASS>\\n853.33095530\\n\\n> <PUBCHEM_MOLECULAR_FORMULA>\\nC47H51NO14\\n\\n> <PUBCHEM_MOLECULAR_WEIGHT>\\n853.9\\n\\n> <PUBCHEM_OPENEYE_CAN_SMILES>\\nCC1=C2C(C(=O)C3(C(CC4C(C3C(C(C2(C)C)(CC1OC(=O)C(C(C5=CC=CC=C5)NC(=O)C6=CC=CC=C6)O)O)OC(=O)C7=CC=CC=C7)(CO4)OC(=O)C)O)C)OC(=O)C\\n\\n> <PUBCHEM_OPENEYE_ISO_SMILES>\\nCC1=C2[C@H](C(=O)[C@@]3([C@H](C[C@@H]4[C@]([C@H]3[C@@H]([C@@](C2(C)C)(C[C@@H]1OC(=O)[C@@H]([C@H](C5=CC=CC=C5)NC(=O)C6=CC=CC=C6)O)O)OC(=O)C7=CC=CC=C7)(CO4)OC(=O)C)O)C)OC(=O)C\\n\\n> <PUBCHEM_CACTVS_TPSA>\\n221\\n\\n> <PUBCHEM_MONOISOTOPIC_WEIGHT>\\n853.33095530\\n\\n> <PUBCHEM_TOTAL_CHARGE>\\n0\\n\\n> <PUBCHEM_HEAVY_ATOM_COUNT>\\n62\\n\\n> <PUBCHEM_ATOM_DEF_STEREO_COUNT>\\n11\\n\\n> <PUBCHEM_ATOM_UDEF_STEREO_COUNT>\\n0\\n\\n> <PUBCHEM_BOND_DEF_STEREO_COUNT>\\n0\\n\\n> <PUBCHEM_BOND_UDEF_STEREO_COUNT>\\n0\\n\\n> <PUBCHEM_ISOTOPIC_ATOM_COUNT>\\n0\\n\\n> <PUBCHEM_COMPONENT_COUNT>\\n1\\n\\n> <PUBCHEM_CACTVS_TAUTO_COUNT>\\n-1\\n\\n> <PUBCHEM_COORDINATE_TYPE>\\n1\\n5\\n255\\n\\n> <PUBCHEM_BONDANNOTATIONS>\\n42  13  5\\n46  15  5\\n16  63  5\\n18  29  6\\n19  64  5\\n17  2  5\\n20  3  5\\n21  4  6\\n41  44  8\\n41  45  8\\n44  47  8\\n45  48  8\\n47  49  8\\n48  49  8\\n22  5  6\\n50  51  8\\n50  52  8\\n51  54  8\\n52  55  8\\n54  57  8\\n55  57  8\\n56  58  8\\n56  59  8\\n58  60  8\\n59  61  8\\n30  6  6\\n60  62  8\\n61  62  8\\n31  8  5\\n\\n$$$$\\n\");\nviewer_17003562503901117.zoomTo();\n\tviewer_17003562503901117.setStyle({\"stick\": {}});\nviewer_17003562503901117.render();\n});\n</script>",
            "text/html": [
              "<div id=\"3dmolviewer_17003562503901117\"  style=\"position: relative; width: 640px; height: 480px;\">\n",
              "        <p id=\"3dmolwarning_17003562503901117\" style=\"background-color:#ffcccc;color:black\">You appear to be running in JupyterLab (or JavaScript failed to load for some other reason).  You need to install the 3dmol extension: <br>\n",
              "        <tt>jupyter labextension install jupyterlab_3dmol</tt></p>\n",
              "        </div>\n",
              "<script>\n",
              "\n",
              "var loadScriptAsync = function(uri){\n",
              "  return new Promise((resolve, reject) => {\n",
              "    //this is to ignore the existence of requirejs amd\n",
              "    var savedexports, savedmodule;\n",
              "    if (typeof exports !== 'undefined') savedexports = exports;\n",
              "    else exports = {}\n",
              "    if (typeof module !== 'undefined') savedmodule = module;\n",
              "    else module = {}\n",
              "\n",
              "    var tag = document.createElement('script');\n",
              "    tag.src = uri;\n",
              "    tag.async = true;\n",
              "    tag.onload = () => {\n",
              "        exports = savedexports;\n",
              "        module = savedmodule;\n",
              "        resolve();\n",
              "    };\n",
              "  var firstScriptTag = document.getElementsByTagName('script')[0];\n",
              "  firstScriptTag.parentNode.insertBefore(tag, firstScriptTag);\n",
              "});\n",
              "};\n",
              "\n",
              "if(typeof $3Dmolpromise === 'undefined') {\n",
              "$3Dmolpromise = null;\n",
              "  $3Dmolpromise = loadScriptAsync('https://cdnjs.cloudflare.com/ajax/libs/3Dmol/2.0.4/3Dmol-min.js');\n",
              "}\n",
              "\n",
              "var viewer_17003562503901117 = null;\n",
              "var warn = document.getElementById(\"3dmolwarning_17003562503901117\");\n",
              "if(warn) {\n",
              "    warn.parentNode.removeChild(warn);\n",
              "}\n",
              "$3Dmolpromise.then(function() {\n",
              "viewer_17003562503901117 = $3Dmol.createViewer(document.getElementById(\"3dmolviewer_17003562503901117\"),{backgroundColor:\"white\"});\n",
              "viewer_17003562503901117.addModel(\"36314\\n  -OEChem-11182320062D\\n\\n113119  0     1  0  0  0  0  0999 V2000\\n    5.1483   -5.7417    0.0000 O   0  0  0  0  0  0  0  0  0  0  0  0\\n    6.3178   -4.1322    0.0000 O   0  0  0  0  0  0  0  0  0  0  0  0\\n    7.0057   -3.2798    0.0000 O   0  0  0  0  0  0  0  0  0  0  0  0\\n    7.4821   -1.9332    0.0000 O   0  0  0  0  0  0  0  0  0  0  0  0\\n    2.4962   -3.0851    0.0000 O   0  0  0  0  0  0  0  0  0  0  0  0\\n    3.5446   -0.3023    0.0000 O   0  0  0  0  0  0  0  0  0  0  0  0\\n    2.8690   -1.9332    0.0000 O   0  0  0  0  0  0  0  0  0  0  0  0\\n    7.5875    0.4787    0.0000 O   0  0  0  0  0  0  0  0  0  0  0  0\\n    7.6038   -5.2924    0.0000 O   0  0  0  0  0  0  0  0  0  0  0  0\\n    8.4245   -2.2863    0.0000 O   0  0  0  0  0  0  0  0  0  0  0  0\\n    4.7693    0.9225    0.0000 O   0  0  0  0  0  0  0  0  0  0  0  0\\n    6.3628    1.7035    0.0000 O   0  0  0  0  0  0  0  0  0  0  0  0\\n    9.0017    1.8929    0.0000 O   0  0  0  0  0  0  0  0  0  0  0  0\\n    7.2593    5.0495    0.0000 O   0  0  0  0  0  0  0  0  0  0  0  0\\n    6.8110    3.3765    0.0000 N   0  0  0  0  0  0  0  0  0  0  0  0\\n    5.1755   -3.2398    0.0000 C   0  0  2  0  0  0  0  0  0  0  0  0\\n    5.3274   -4.2703    0.0000 C   0  0  2  0  0  0  0  0  0  0  0  0\\n    4.2517   -2.8571    0.0000 C   0  0  1  0  0  0  0  0  0  0  0  0\\n    4.5059   -4.9108    0.0000 C   0  0  1  0  0  0  0  0  0  0  0  0\\n    6.0994   -2.8571    0.0000 C   0  0  1  0  0  0  0  0  0  0  0  0\\n    6.4821   -1.9332    0.0000 C   0  0  2  0  0  0  0  0  0  0  0  0\\n    3.4156   -3.4784    0.0000 C   0  0  2  0  0  0  0  0  0  0  0  0\\n    3.5436   -4.5122    0.0000 C   0  0  0  0  0  0  0  0  0  0  0  0\\n    6.0994   -1.0094    0.0000 C   0  0  0  0  0  0  0  0  0  0  0  0\\n    5.9766   -5.0959    0.0000 C   0  0  0  0  0  0  0  0  0  0  0  0\\n    3.8690   -1.9332    0.0000 C   0  0  0  0  0  0  0  0  0  0  0  0\\n    7.1552   -1.1916    0.0000 C   0  0  0  0  0  0  0  0  0  0  0  0\\n    5.1755   -0.6267    0.0000 C   0  0  0  0  0  0  0  0  0  0  0  0\\n    3.3278   -2.4744    0.0000 C   0  0  0  0  0  0  0  0  0  0  0  0\\n    4.2517   -1.0094    0.0000 C   0  0  1  0  0  0  0  0  0  0  0  0\\n    6.8804   -0.2284    0.0000 C   0  0  1  0  0  0  0  0  0  0  0  0\\n    5.9172    0.0464    0.0000 C   0  0  0  0  0  0  0  0  0  0  0  0\\n    6.3971    0.1014    0.0000 C   0  0  0  0  0  0  0  0  0  0  0  0\\n    7.2102   -0.7117    0.0000 C   0  0  0  0  0  0  0  0  0  0  0  0\\n    5.6897    1.0202    0.0000 C   0  0  0  0  0  0  0  0  0  0  0  0\\n    6.6259   -5.0835    0.0000 C   0  0  0  0  0  0  0  0  0  0  0  0\\n    8.0019   -3.1927    0.0000 C   0  0  0  0  0  0  0  0  0  0  0  0\\n    5.9560   -5.8260    0.0000 C   0  0  0  0  0  0  0  0  0  0  0  0\\n    3.8034    0.6637    0.0000 C   0  0  0  0  0  0  0  0  0  0  0  0\\n    7.3287    1.4446    0.0000 C   0  0  0  0  0  0  0  0  0  0  0  0\\n    8.5755   -4.0118    0.0000 C   0  0  0  0  0  0  0  0  0  0  0  0\\n    8.0358    2.1518    0.0000 C   0  0  1  0  0  0  0  0  0  0  0  0\\n    3.0963    1.3708    0.0000 C   0  0  0  0  0  0  0  0  0  0  0  0\\n    9.5717   -3.9245    0.0000 C   0  0  0  0  0  0  0  0  0  0  0  0\\n    8.1530   -4.9181    0.0000 C   0  0  0  0  0  0  0  0  0  0  0  0\\n    7.7770    3.1177    0.0000 C   0  0  2  0  0  0  0  0  0  0  0  0\\n   10.1453   -4.7436    0.0000 C   0  0  0  0  0  0  0  0  0  0  0  0\\n    8.7266   -5.7372    0.0000 C   0  0  0  0  0  0  0  0  0  0  0  0\\n    9.7228   -5.6500    0.0000 C   0  0  0  0  0  0  0  0  0  0  0  0\\n    8.4841    3.8248    0.0000 C   0  0  0  0  0  0  0  0  0  0  0  0\\n    9.4500    3.5660    0.0000 C   0  0  0  0  0  0  0  0  0  0  0  0\\n    8.2253    4.7907    0.0000 C   0  0  0  0  0  0  0  0  0  0  0  0\\n    6.5522    4.3424    0.0000 C   0  0  0  0  0  0  0  0  0  0  0  0\\n   10.1571    4.2731    0.0000 C   0  0  0  0  0  0  0  0  0  0  0  0\\n    8.9324    5.4978    0.0000 C   0  0  0  0  0  0  0  0  0  0  0  0\\n    5.5863    4.6012    0.0000 C   0  0  0  0  0  0  0  0  0  0  0  0\\n    9.8983    5.2390    0.0000 C   0  0  0  0  0  0  0  0  0  0  0  0\\n    4.8792    3.8941    0.0000 C   0  0  0  0  0  0  0  0  0  0  0  0\\n    5.3275    5.5672    0.0000 C   0  0  0  0  0  0  0  0  0  0  0  0\\n    3.9133    4.1530    0.0000 C   0  0  0  0  0  0  0  0  0  0  0  0\\n    4.3616    5.8260    0.0000 C   0  0  0  0  0  0  0  0  0  0  0  0\\n    3.6545    5.1189    0.0000 C   0  0  0  0  0  0  0  0  0  0  0  0\\n    5.9608   -3.5651    0.0000 H   0  0  0  0  0  0  0  0  0  0  0  0\\n    3.9897   -5.5860    0.0000 H   0  0  0  0  0  0  0  0  0  0  0  0\\n    6.6773   -2.6324    0.0000 H   0  0  0  0  0  0  0  0  0  0  0  0\\n    2.9201   -3.8511    0.0000 H   0  0  0  0  0  0  0  0  0  0  0  0\\n    2.9243   -4.4819    0.0000 H   0  0  0  0  0  0  0  0  0  0  0  0\\n    3.4078   -5.1171    0.0000 H   0  0  0  0  0  0  0  0  0  0  0  0\\n    6.3585   -5.5844    0.0000 H   0  0  0  0  0  0  0  0  0  0  0  0\\n    6.4645   -4.7134    0.0000 H   0  0  0  0  0  0  0  0  0  0  0  0\\n    7.5297   -1.6857    0.0000 H   0  0  0  0  0  0  0  0  0  0  0  0\\n    7.7099   -0.9145    0.0000 H   0  0  0  0  0  0  0  0  0  0  0  0\\n    3.5650   -1.9016    0.0000 H   0  0  0  0  0  0  0  0  0  0  0  0\\n    2.7550   -2.2372    0.0000 H   0  0  0  0  0  0  0  0  0  0  0  0\\n    3.0905   -3.0472    0.0000 H   0  0  0  0  0  0  0  0  0  0  0  0\\n    4.3726   -0.4013    0.0000 H   0  0  0  0  0  0  0  0  0  0  0  0\\n    7.4806   -0.3840    0.0000 H   0  0  0  0  0  0  0  0  0  0  0  0\\n    6.9959   -0.0590    0.0000 H   0  0  0  0  0  0  0  0  0  0  0  0\\n    6.5575    0.7003    0.0000 H   0  0  0  0  0  0  0  0  0  0  0  0\\n    5.7982    0.2619    0.0000 H   0  0  0  0  0  0  0  0  0  0  0  0\\n    7.3707   -1.3106    0.0000 H   0  0  0  0  0  0  0  0  0  0  0  0\\n    7.8091   -0.5513    0.0000 H   0  0  0  0  0  0  0  0  0  0  0  0\\n    7.0498   -0.1129    0.0000 H   0  0  0  0  0  0  0  0  0  0  0  0\\n    7.7921   -1.3963    0.0000 H   0  0  0  0  0  0  0  0  0  0  0  0\\n    2.0000   -3.4568    0.0000 H   0  0  0  0  0  0  0  0  0  0  0  0\\n    6.2935    1.1613    0.0000 H   0  0  0  0  0  0  0  0  0  0  0  0\\n    5.5487    1.6240    0.0000 H   0  0  0  0  0  0  0  0  0  0  0  0\\n    5.0860    0.8792    0.0000 H   0  0  0  0  0  0  0  0  0  0  0  0\\n    5.4957   -5.4107    0.0000 H   0  0  0  0  0  0  0  0  0  0  0  0\\n    5.5406   -6.2863    0.0000 H   0  0  0  0  0  0  0  0  0  0  0  0\\n    6.4163   -6.2413    0.0000 H   0  0  0  0  0  0  0  0  0  0  0  0\\n    8.1963    1.5529    0.0000 H   0  0  0  0  0  0  0  0  0  0  0  0\\n    3.5347    1.8092    0.0000 H   0  0  0  0  0  0  0  0  0  0  0  0\\n    2.6579    1.8092    0.0000 H   0  0  0  0  0  0  0  0  0  0  0  0\\n    2.6579    0.9324    0.0000 H   0  0  0  0  0  0  0  0  0  0  0  0\\n    9.8337   -3.3626    0.0000 H   0  0  0  0  0  0  0  0  0  0  0  0\\n    7.5353   -4.9722    0.0000 H   0  0  0  0  0  0  0  0  0  0  0  0\\n    7.6165    3.7166    0.0000 H   0  0  0  0  0  0  0  0  0  0  0  0\\n   10.7630   -4.6896    0.0000 H   0  0  0  0  0  0  0  0  0  0  0  0\\n    8.4646   -6.2991    0.0000 H   0  0  0  0  0  0  0  0  0  0  0  0\\n    9.1622    1.2941    0.0000 H   0  0  0  0  0  0  0  0  0  0  0  0\\n   10.0784   -6.1578    0.0000 H   0  0  0  0  0  0  0  0  0  0  0  0\\n    6.3726    2.9381    0.0000 H   0  0  0  0  0  0  0  0  0  0  0  0\\n    9.6105    2.9671    0.0000 H   0  0  0  0  0  0  0  0  0  0  0  0\\n    7.6264    4.9512    0.0000 H   0  0  0  0  0  0  0  0  0  0  0  0\\n   10.7560    4.1126    0.0000 H   0  0  0  0  0  0  0  0  0  0  0  0\\n    8.7719    6.0967    0.0000 H   0  0  0  0  0  0  0  0  0  0  0  0\\n   10.3367    5.6774    0.0000 H   0  0  0  0  0  0  0  0  0  0  0  0\\n    5.0397    3.2953    0.0000 H   0  0  0  0  0  0  0  0  0  0  0  0\\n    5.7659    6.0056    0.0000 H   0  0  0  0  0  0  0  0  0  0  0  0\\n    3.4749    3.7145    0.0000 H   0  0  0  0  0  0  0  0  0  0  0  0\\n    4.2011    6.4249    0.0000 H   0  0  0  0  0  0  0  0  0  0  0  0\\n    3.0556    5.2793    0.0000 H   0  0  0  0  0  0  0  0  0  0  0  0\\n  1 19  1  0  0  0  0\\n  1 25  1  0  0  0  0\\n 17  2  1  1  0  0  0\\n  2 36  1  0  0  0  0\\n 20  3  1  1  0  0  0\\n  3 37  1  0  0  0  0\\n 21  4  1  6  0  0  0\\n  4 84  1  0  0  0  0\\n 22  5  1  6  0  0  0\\n  5 85  1  0  0  0  0\\n 30  6  1  6  0  0  0\\n  6 39  1  0  0  0  0\\n  7 26  2  0  0  0  0\\n 31  8  1  1  0  0  0\\n  8 40  1  0  0  0  0\\n  9 36  2  0  0  0  0\\n 10 37  2  0  0  0  0\\n 11 39  2  0  0  0  0\\n 12 40  2  0  0  0  0\\n 42 13  1  1  0  0  0\\n 13101  1  0  0  0  0\\n 14 53  2  0  0  0  0\\n 46 15  1  1  0  0  0\\n 15 53  1  0  0  0  0\\n 15103  1  0  0  0  0\\n 16 17  1  0  0  0  0\\n 16 18  1  0  0  0  0\\n 16 20  1  0  0  0  0\\n 16 63  1  1  0  0  0\\n 17 19  1  0  0  0  0\\n 17 25  1  0  0  0  0\\n 18 22  1  0  0  0  0\\n 18 26  1  0  0  0  0\\n 18 29  1  6  0  0  0\\n 19 23  1  0  0  0  0\\n 19 64  1  1  0  0  0\\n 20 21  1  0  0  0  0\\n 20 65  1  0  0  0  0\\n 21 24  1  0  0  0  0\\n 21 27  1  0  0  0  0\\n 22 23  1  0  0  0  0\\n 22 66  1  0  0  0  0\\n 23 67  1  0  0  0  0\\n 23 68  1  0  0  0  0\\n 24 28  1  0  0  0  0\\n 24 33  1  0  0  0  0\\n 24 34  1  0  0  0  0\\n 25 69  1  0  0  0  0\\n 25 70  1  0  0  0  0\\n 26 30  1  0  0  0  0\\n 27 31  1  0  0  0  0\\n 27 71  1  0  0  0  0\\n 27 72  1  0  0  0  0\\n 28 30  1  0  0  0  0\\n 28 32  2  0  0  0  0\\n 29 73  1  0  0  0  0\\n 29 74  1  0  0  0  0\\n 29 75  1  0  0  0  0\\n 30 76  1  0  0  0  0\\n 31 32  1  0  0  0  0\\n 31 77  1  0  0  0  0\\n 32 35  1  0  0  0  0\\n 33 78  1  0  0  0  0\\n 33 79  1  0  0  0  0\\n 33 80  1  0  0  0  0\\n 34 81  1  0  0  0  0\\n 34 82  1  0  0  0  0\\n 34 83  1  0  0  0  0\\n 35 86  1  0  0  0  0\\n 35 87  1  0  0  0  0\\n 35 88  1  0  0  0  0\\n 36 38  1  0  0  0  0\\n 37 41  1  0  0  0  0\\n 38 89  1  0  0  0  0\\n 38 90  1  0  0  0  0\\n 38 91  1  0  0  0  0\\n 39 43  1  0  0  0  0\\n 40 42  1  0  0  0  0\\n 41 44  2  0  0  0  0\\n 41 45  1  0  0  0  0\\n 42 46  1  0  0  0  0\\n 42 92  1  0  0  0  0\\n 43 93  1  0  0  0  0\\n 43 94  1  0  0  0  0\\n 43 95  1  0  0  0  0\\n 44 47  1  0  0  0  0\\n 44 96  1  0  0  0  0\\n 45 48  2  0  0  0  0\\n 45 97  1  0  0  0  0\\n 46 50  1  0  0  0  0\\n 46 98  1  0  0  0  0\\n 47 49  2  0  0  0  0\\n 47 99  1  0  0  0  0\\n 48 49  1  0  0  0  0\\n 48100  1  0  0  0  0\\n 49102  1  0  0  0  0\\n 50 51  2  0  0  0  0\\n 50 52  1  0  0  0  0\\n 51 54  1  0  0  0  0\\n 51104  1  0  0  0  0\\n 52 55  2  0  0  0  0\\n 52105  1  0  0  0  0\\n 53 56  1  0  0  0  0\\n 54 57  2  0  0  0  0\\n 54106  1  0  0  0  0\\n 55 57  1  0  0  0  0\\n 55107  1  0  0  0  0\\n 56 58  2  0  0  0  0\\n 56 59  1  0  0  0  0\\n 57108  1  0  0  0  0\\n 58 60  1  0  0  0  0\\n 58109  1  0  0  0  0\\n 59 61  2  0  0  0  0\\n 59110  1  0  0  0  0\\n 60 62  2  0  0  0  0\\n 60111  1  0  0  0  0\\n 61 62  1  0  0  0  0\\n 61112  1  0  0  0  0\\n 62113  1  0  0  0  0\\nM  END\\n> <PUBCHEM_COMPOUND_CID>\\n36314\\n\\n> <PUBCHEM_COMPOUND_CANONICALIZED>\\n1\\n\\n> <PUBCHEM_CACTVS_COMPLEXITY>\\n1790\\n\\n> <PUBCHEM_CACTVS_HBOND_ACCEPTOR>\\n14\\n\\n> <PUBCHEM_CACTVS_HBOND_DONOR>\\n4\\n\\n> <PUBCHEM_CACTVS_ROTATABLE_BOND>\\n14\\n\\n> <PUBCHEM_CACTVS_SUBSKEYS>\\nAAADcfB+PAAAAAAAAAAAAAAAAABIAAAAAAAwYMGCAAAaIACBUAAAHgAQCAAAD3zhmAYyCILABgCIAqHSGAKCAAAkAAAIiIFIDMgLNj6AtR2GcQhn9gGbqYfa7PzPgAAAAAAAAABCAAYQADCAAAAAAAAAAA==\\n\\n> <PUBCHEM_IUPAC_OPENEYE_NAME>\\n[(1S,2S,3R,4S,7R,9S,10S,12R,15S)-4,12-diacetoxy-15-[(2R,3S)-3-benzamido-2-hydroxy-3-phenyl-propanoyl]oxy-1,9-dihydroxy-10,14,17,17-tetramethyl-11-oxo-6-oxatetracyclo[11.3.1.03,10.04,7]heptadec-13-en-2-yl] benzoate\\n\\n> <PUBCHEM_IUPAC_CAS_NAME>\\nbenzoic acid [(1S,2S,3R,4S,7R,9S,10S,12R,15S)-4,12-diacetyloxy-15-[(2R,3S)-3-benzamido-2-hydroxy-1-oxo-3-phenylpropoxy]-1,9-dihydroxy-10,14,17,17-tetramethyl-11-oxo-6-oxatetracyclo[11.3.1.03,10.04,7]heptadec-13-en-2-yl] ester\\n\\n> <PUBCHEM_IUPAC_NAME_MARKUP>\\n[(1<I>S</I>,2<I>S</I>,3<I>R</I>,4<I>S</I>,7<I>R</I>,9<I>S</I>,10<I>S</I>,12<I>R</I>,15<I>S</I>)-4,12-diacetyloxy-15-[(2<I>R</I>,3<I>S</I>)-3-benzamido-2-hydroxy-3-phenylpropanoyl]oxy-1,9-dihydroxy-10,14,17,17-tetramethyl-11-oxo-6-oxatetracyclo[11.3.1.0<SUP>3,10</SUP>.0<SUP>4,7</SUP>]heptadec-13-en-2-yl] benzoate\\n\\n> <PUBCHEM_IUPAC_NAME>\\n[(1S,2S,3R,4S,7R,9S,10S,12R,15S)-4,12-diacetyloxy-15-[(2R,3S)-3-benzamido-2-hydroxy-3-phenylpropanoyl]oxy-1,9-dihydroxy-10,14,17,17-tetramethyl-11-oxo-6-oxatetracyclo[11.3.1.03,10.04,7]heptadec-13-en-2-yl] benzoate\\n\\n> <PUBCHEM_IUPAC_SYSTEMATIC_NAME>\\n[(1S,2S,3R,4S,7R,9S,10S,12R,15S)-4,12-diacetyloxy-15-[(2R,3S)-3-benzamido-2-oxidanyl-3-phenyl-propanoyl]oxy-10,14,17,17-tetramethyl-1,9-bis(oxidanyl)-11-oxidanylidene-6-oxatetracyclo[11.3.1.03,10.04,7]heptadec-13-en-2-yl] benzoate\\n\\n> <PUBCHEM_IUPAC_TRADITIONAL_NAME>\\nbenzoic acid [(1S,2S,3R,4S,7R,9S,10S,12R,15S)-4,12-diacetoxy-15-[(2R,3S)-3-benzamido-2-hydroxy-3-phenyl-propanoyl]oxy-1,9-dihydroxy-11-keto-10,14,17,17-tetramethyl-6-oxatetracyclo[11.3.1.03,10.04,7]heptadec-13-en-2-yl] ester\\n\\n> <PUBCHEM_IUPAC_INCHI>\\nInChI=1S/C47H51NO14/c1-25-31(60-43(56)36(52)35(28-16-10-7-11-17-28)48-41(54)29-18-12-8-13-19-29)23-47(57)40(61-42(55)30-20-14-9-15-21-30)38-45(6,32(51)22-33-46(38,24-58-33)62-27(3)50)39(53)37(59-26(2)49)34(25)44(47,4)5/h7-21,31-33,35-38,40,51-52,57H,22-24H2,1-6H3,(H,48,54)/t31-,32-,33+,35-,36+,37+,38-,40-,45+,46-,47+/m0/s1\\n\\n> <PUBCHEM_IUPAC_INCHIKEY>\\nRCINICONZNJXQF-MZXODVADSA-N\\n\\n> <PUBCHEM_XLOGP3>\\n2.5\\n\\n> <PUBCHEM_EXACT_MASS>\\n853.33095530\\n\\n> <PUBCHEM_MOLECULAR_FORMULA>\\nC47H51NO14\\n\\n> <PUBCHEM_MOLECULAR_WEIGHT>\\n853.9\\n\\n> <PUBCHEM_OPENEYE_CAN_SMILES>\\nCC1=C2C(C(=O)C3(C(CC4C(C3C(C(C2(C)C)(CC1OC(=O)C(C(C5=CC=CC=C5)NC(=O)C6=CC=CC=C6)O)O)OC(=O)C7=CC=CC=C7)(CO4)OC(=O)C)O)C)OC(=O)C\\n\\n> <PUBCHEM_OPENEYE_ISO_SMILES>\\nCC1=C2[C@H](C(=O)[C@@]3([C@H](C[C@@H]4[C@]([C@H]3[C@@H]([C@@](C2(C)C)(C[C@@H]1OC(=O)[C@@H]([C@H](C5=CC=CC=C5)NC(=O)C6=CC=CC=C6)O)O)OC(=O)C7=CC=CC=C7)(CO4)OC(=O)C)O)C)OC(=O)C\\n\\n> <PUBCHEM_CACTVS_TPSA>\\n221\\n\\n> <PUBCHEM_MONOISOTOPIC_WEIGHT>\\n853.33095530\\n\\n> <PUBCHEM_TOTAL_CHARGE>\\n0\\n\\n> <PUBCHEM_HEAVY_ATOM_COUNT>\\n62\\n\\n> <PUBCHEM_ATOM_DEF_STEREO_COUNT>\\n11\\n\\n> <PUBCHEM_ATOM_UDEF_STEREO_COUNT>\\n0\\n\\n> <PUBCHEM_BOND_DEF_STEREO_COUNT>\\n0\\n\\n> <PUBCHEM_BOND_UDEF_STEREO_COUNT>\\n0\\n\\n> <PUBCHEM_ISOTOPIC_ATOM_COUNT>\\n0\\n\\n> <PUBCHEM_COMPONENT_COUNT>\\n1\\n\\n> <PUBCHEM_CACTVS_TAUTO_COUNT>\\n-1\\n\\n> <PUBCHEM_COORDINATE_TYPE>\\n1\\n5\\n255\\n\\n> <PUBCHEM_BONDANNOTATIONS>\\n42  13  5\\n46  15  5\\n16  63  5\\n18  29  6\\n19  64  5\\n17  2  5\\n20  3  5\\n21  4  6\\n41  44  8\\n41  45  8\\n44  47  8\\n45  48  8\\n47  49  8\\n48  49  8\\n22  5  6\\n50  51  8\\n50  52  8\\n51  54  8\\n52  55  8\\n54  57  8\\n55  57  8\\n56  58  8\\n56  59  8\\n58  60  8\\n59  61  8\\n30  6  6\\n60  62  8\\n61  62  8\\n31  8  5\\n\\n$$$$\\n\");\n",
              "viewer_17003562503901117.zoomTo();\n",
              "\tviewer_17003562503901117.setStyle({\"stick\": {}});\n",
              "viewer_17003562503901117.render();\n",
              "});\n",
              "</script>"
            ]
          },
          "metadata": {}
        }
      ]
    },
    {
      "cell_type": "code",
      "execution_count": 46,
      "id": "e4351980",
      "metadata": {
        "id": "e4351980",
        "outputId": "2ad0493b-ba71-4e98-d588-d617d97c0323",
        "colab": {
          "base_uri": "https://localhost:8080/"
        }
      },
      "outputs": [
        {
          "output_type": "stream",
          "name": "stdout",
          "text": [
            "2023.09.1\n"
          ]
        }
      ],
      "source": [
        "from rdkit import rdBase, Chem\n",
        "from rdkit.Chem import Descriptors, Draw\n",
        "from rdkit.ML.Descriptors import MoleculeDescriptors\n",
        "print(rdBase.rdkitVersion)"
      ]
    },
    {
      "cell_type": "code",
      "source": [
        "mol = Chem.MolFromMolBlock(sdf)\n",
        "mol"
      ],
      "metadata": {
        "id": "eTQHpHv4GrNP",
        "outputId": "c478f85c-f799-4400-ca17-66274a8d7317",
        "colab": {
          "base_uri": "https://localhost:8080/",
          "height": 167
        }
      },
      "id": "eTQHpHv4GrNP",
      "execution_count": 47,
      "outputs": [
        {
          "output_type": "execute_result",
          "data": {
            "text/plain": [
              "<rdkit.Chem.rdchem.Mol at 0x7daa11626030>"
            ],
            "image/png": "[encoded data removed]"
          },
          "metadata": {},
          "execution_count": 47
        }
      ]
    },
    {
      "cell_type": "code",
      "source": [
        "Chem.AddHs(mol, addCoords=True)\n",
        "# 3次元構造の作成。\n",
        "AllChem.EmbedMolecule(mol, AllChem.ETKDG())\n",
        "# MMFFで最適化\n",
        "AllChem.MMFFOptimizeMoleculeConfs(mol)\n",
        "# 構造を書き出す\n",
        "Draw.MolsToGridImage([mol])"
      ],
      "metadata": {
        "id": "xHy2-y7DGqJl",
        "outputId": "dd4bbd03-6398-403e-ee83-0660d6f9364a",
        "colab": {
          "base_uri": "https://localhost:8080/",
          "height": 252
        }
      },
      "id": "xHy2-y7DGqJl",
      "execution_count": 48,
      "outputs": [
        {
          "output_type": "stream",
          "name": "stderr",
          "text": [
            "[01:06:11] Molecule does not have explicit Hs. Consider calling AddHs()\n",
            "[01:06:11] Molecule does not have explicit Hs. Consider calling AddHs()\n"
          ]
        },
        {
          "output_type": "execute_result",
          "data": {
            "image/png": "[encoded data removed]",
            "text/plain": [
              "<IPython.core.display.Image object>"
            ]
          },
          "metadata": {},
          "execution_count": 48
        }
      ]
    },
    {
      "cell_type": "code",
      "source": [
        "sdf2 = Chem.MolToMolBlock(mol)\n",
        "print(sdf2)"
      ],
      "metadata": {
        "id": "5NxM98GvIgIp",
        "outputId": "faa48667-d0f3-49e8-dd57-2b7ca34230db",
        "colab": {
          "base_uri": "https://localhost:8080/"
        }
      },
      "id": "5NxM98GvIgIp",
      "execution_count": 53,
      "outputs": [
        {
          "output_type": "stream",
          "name": "stdout",
          "text": [
            "36314\n",
            "     RDKit          3D\n",
            "\n",
            " 62 68  0  0  1  0  0  0  0  0999 V2000\n",
            "   -7.0408    0.3387   -1.4459 O   0  0  0  0  0  0  0  0  0  0  0  0\n",
            "   -4.7403    2.4103   -1.0734 O   0  0  0  0  0  0  0  0  0  0  0  0\n",
            "   -3.7738    0.4617    1.4686 O   0  0  0  0  0  0  0  0  0  0  0  0\n",
            "   -1.9831   -1.3070    0.5844 O   0  0  0  0  0  0  0  0  0  0  0  0\n",
            "   -4.0787   -2.2400   -3.8528 O   0  0  0  0  0  0  0  0  0  0  0  0\n",
            "   -0.2167   -2.4100   -3.0916 O   0  0  0  0  0  0  0  0  0  0  0  0\n",
            "   -2.3684   -3.3008   -1.5078 O   0  0  0  0  0  0  0  0  0  0  0  0\n",
            "    1.8683   -0.1330    1.2738 O   0  0  0  0  0  0  0  0  0  0  0  0\n",
            "   -3.9507    2.4065   -3.2207 O   0  0  0  0  0  0  0  0  0  0  0  0\n",
            "   -2.8490    2.4095    2.2309 O   0  0  0  0  0  0  0  0  0  0  0  0\n",
            "   -1.1259   -1.3616   -4.9111 O   0  0  0  0  0  0  0  0  0  0  0  0\n",
            "    2.4102   -1.8455    2.6951 O   0  0  0  0  0  0  0  0  0  0  0  0\n",
            "    3.8396    1.0922    2.8834 O   0  0  0  0  0  0  0  0  0  0  0  0\n",
            "    6.9572   -0.3184    2.3528 O   0  0  0  0  0  0  0  0  0  0  0  0\n",
            "    5.8178    0.9319    0.7972 N   0  0  0  0  0  0  0  0  0  0  0  0\n",
            "   -3.7187    0.1872   -0.9711 C   0  0  2  0  0  0  0  0  0  0  0  0\n",
            "   -5.0042    0.9830   -1.1844 C   0  0  2  0  0  0  0  0  0  0  0  0\n",
            "   -3.6651   -1.2205   -1.6582 C   0  0  1  0  0  0  0  0  0  0  0  0\n",
            "   -5.9366    0.5689   -2.3474 C   0  0  1  0  0  0  0  0  0  0  0  0\n",
            "   -2.9803    0.6811    0.3077 C   0  0  2  0  0  0  0  0  0  0  0  0\n",
            "   -1.6004    0.0815    0.4025 C   0  0  2  0  0  0  0  0  0  0  0  0\n",
            "   -4.1910   -1.0430   -3.0975 C   0  0  2  0  0  0  0  0  0  0  0  0\n",
            "   -5.6532   -0.6660   -3.1507 C   0  0  0  0  0  0  0  0  0  0  0  0\n",
            "   -0.8010    0.4715   -0.8872 C   0  0  0  0  0  0  0  0  0  0  0  0\n",
            "   -6.1768    0.5133   -0.3040 C   0  0  0  0  0  0  0  0  0  0  0  0\n",
            "   -2.3431   -2.0972   -1.8100 C   0  0  0  0  0  0  0  0  0  0  0  0\n",
            "   -0.5530    0.1500    1.5088 C   0  0  0  0  0  0  0  0  0  0  0  0\n",
            "   -0.2205   -0.8447   -1.2575 C   0  0  0  0  0  0  0  0  0  0  0  0\n",
            "   -4.6275   -2.1173   -0.8725 C   0  0  0  0  0  0  0  0  0  0  0  0\n",
            "   -1.0132   -1.4966   -2.3758 C   0  0  1  0  0  0  0  0  0  0  0  0\n",
            "    0.6317   -0.8162    1.1061 C   0  0  1  0  0  0  0  0  0  0  0  0\n",
            "    0.5746   -1.4195   -0.3191 C   0  0  0  0  0  0  0  0  0  0  0  0\n",
            "    0.2717    1.5317   -0.6242 C   0  0  0  0  0  0  0  0  0  0  0  0\n",
            "   -1.5106    1.1237   -2.0607 C   0  0  0  0  0  0  0  0  0  0  0  0\n",
            "    1.1071   -2.8061   -0.4338 C   0  0  0  0  0  0  0  0  0  0  0  0\n",
            "   -4.2452    2.9990   -2.1941 C   0  0  0  0  0  0  0  0  0  0  0  0\n",
            "   -3.5974    1.4565    2.3746 C   0  0  0  0  0  0  0  0  0  0  0  0\n",
            "   -4.0960    4.4678   -1.9791 C   0  0  0  0  0  0  0  0  0  0  0  0\n",
            "   -0.4219   -2.2306   -4.4182 C   0  0  0  0  0  0  0  0  0  0  0  0\n",
            "    2.7048   -0.8147    2.1040 C   0  0  0  0  0  0  0  0  0  0  0  0\n",
            "   -4.4405    1.2310    3.5613 C   0  0  0  0  0  0  0  0  0  0  0  0\n",
            "    4.0525   -0.1433    2.2026 C   0  0  1  0  0  0  0  0  0  0  0  0\n",
            "    0.3504   -3.2420   -5.1968 C   0  0  0  0  0  0  0  0  0  0  0  0\n",
            "   -4.3730    2.1528    4.6049 C   0  0  0  0  0  0  0  0  0  0  0  0\n",
            "   -5.2994    0.1356    3.6474 C   0  0  0  0  0  0  0  0  0  0  0  0\n",
            "    4.6101    0.1313    0.8108 C   0  0  2  0  0  0  0  0  0  0  0  0\n",
            "   -5.1646    1.9770    5.7369 C   0  0  0  0  0  0  0  0  0  0  0  0\n",
            "   -6.0898   -0.0374    4.7801 C   0  0  0  0  0  0  0  0  0  0  0  0\n",
            "   -6.0226    0.8831    5.8234 C   0  0  0  0  0  0  0  0  0  0  0  0\n",
            "    4.7100   -1.0374   -0.1212 C   0  0  0  0  0  0  0  0  0  0  0  0\n",
            "    5.2577   -2.2582    0.2772 C   0  0  0  0  0  0  0  0  0  0  0  0\n",
            "    4.2360   -0.8954   -1.4270 C   0  0  0  0  0  0  0  0  0  0  0  0\n",
            "    6.9150    0.6254    1.5707 C   0  0  0  0  0  0  0  0  0  0  0  0\n",
            "    5.3264   -3.3238   -0.6169 C   0  0  0  0  0  0  0  0  0  0  0  0\n",
            "    4.3041   -1.9602   -2.3219 C   0  0  0  0  0  0  0  0  0  0  0  0\n",
            "    8.0719    1.5279    1.4007 C   0  0  0  0  0  0  0  0  0  0  0  0\n",
            "    4.8491   -3.1747   -1.9158 C   0  0  0  0  0  0  0  0  0  0  0  0\n",
            "    8.0230    2.6064    0.5171 C   0  0  0  0  0  0  0  0  0  0  0  0\n",
            "    9.2285    1.2820    2.1412 C   0  0  0  0  0  0  0  0  0  0  0  0\n",
            "    9.1320    3.4373    0.3747 C   0  0  0  0  0  0  0  0  0  0  0  0\n",
            "   10.3360    2.1144    1.9962 C   0  0  0  0  0  0  0  0  0  0  0  0\n",
            "   10.2874    3.1912    1.1135 C   0  0  0  0  0  0  0  0  0  0  0  0\n",
            "  1 19  1  0\n",
            "  1 25  1  0\n",
            " 17  2  1  6\n",
            "  2 36  1  0\n",
            " 20  3  1  6\n",
            "  3 37  1  0\n",
            " 21  4  1  6\n",
            " 22  5  1  6\n",
            " 30  6  1  1\n",
            "  6 39  1  0\n",
            "  7 26  2  0\n",
            " 31  8  1  6\n",
            "  8 40  1  0\n",
            "  9 36  2  0\n",
            " 10 37  2  0\n",
            " 11 39  2  0\n",
            " 12 40  2  0\n",
            " 42 13  1  6\n",
            " 14 53  2  0\n",
            " 46 15  1  1\n",
            " 15 53  1  0\n",
            " 16 17  1  0\n",
            " 16 18  1  0\n",
            " 16 20  1  1\n",
            " 17 19  1  0\n",
            " 17 25  1  0\n",
            " 18 22  1  0\n",
            " 18 26  1  0\n",
            " 18 29  1  1\n",
            " 19 23  1  1\n",
            " 20 21  1  0\n",
            " 21 24  1  0\n",
            " 21 27  1  0\n",
            " 22 23  1  0\n",
            " 24 28  1  0\n",
            " 24 33  1  0\n",
            " 24 34  1  0\n",
            " 26 30  1  0\n",
            " 27 31  1  0\n",
            " 28 30  1  0\n",
            " 28 32  2  0\n",
            " 31 32  1  0\n",
            " 32 35  1  0\n",
            " 36 38  1  0\n",
            " 37 41  1  0\n",
            " 39 43  1  0\n",
            " 40 42  1  0\n",
            " 41 44  2  0\n",
            " 41 45  1  0\n",
            " 42 46  1  0\n",
            " 44 47  1  0\n",
            " 45 48  2  0\n",
            " 46 50  1  0\n",
            " 47 49  2  0\n",
            " 48 49  1  0\n",
            " 50 51  2  0\n",
            " 50 52  1  0\n",
            " 51 54  1  0\n",
            " 52 55  2  0\n",
            " 53 56  1  0\n",
            " 54 57  2  0\n",
            " 55 57  1  0\n",
            " 56 58  2  0\n",
            " 56 59  1  0\n",
            " 58 60  1  0\n",
            " 59 61  2  0\n",
            " 60 62  2  0\n",
            " 61 62  1  0\n",
            "M  END\n",
            "\n"
          ]
        }
      ]
    },
    {
      "cell_type": "code",
      "source": [
        "view = py3Dmol.view(data=sdf2)\n",
        "view.setStyle({'stick': {}})\n",
        "view.show()"
      ],
      "metadata": {
        "id": "dKdujOj0HAAd",
        "outputId": "a6eb2504-1729-4de0-d5a4-b4d3b480b1d9",
        "colab": {
          "base_uri": "https://localhost:8080/",
          "height": 497
        }
      },
      "id": "dKdujOj0HAAd",
      "execution_count": 51,
      "outputs": [
        {
          "output_type": "display_data",
          "data": {
            "application/3dmoljs_load.v0": "<div id=\"3dmolviewer_1700356263506787\"  style=\"position: relative; width: 640px; height: 480px;\">\n        <p id=\"3dmolwarning_1700356263506787\" style=\"background-color:#ffcccc;color:black\">You appear to be running in JupyterLab (or JavaScript failed to load for some other reason).  You need to install the 3dmol extension: <br>\n        <tt>jupyter labextension install jupyterlab_3dmol</tt></p>\n        </div>\n<script>\n\nvar loadScriptAsync = function(uri){\n  return new Promise((resolve, reject) => {\n    //this is to ignore the existence of requirejs amd\n    var savedexports, savedmodule;\n    if (typeof exports !== 'undefined') savedexports = exports;\n    else exports = {}\n    if (typeof module !== 'undefined') savedmodule = module;\n    else module = {}\n\n    var tag = document.createElement('script');\n    tag.src = uri;\n    tag.async = true;\n    tag.onload = () => {\n        exports = savedexports;\n        module = savedmodule;\n        resolve();\n    };\n  var firstScriptTag = document.getElementsByTagName('script')[0];\n  firstScriptTag.parentNode.insertBefore(tag, firstScriptTag);\n});\n};\n\nif(typeof $3Dmolpromise === 'undefined') {\n$3Dmolpromise = null;\n  $3Dmolpromise = loadScriptAsync('https://cdnjs.cloudflare.com/ajax/libs/3Dmol/2.0.4/3Dmol-min.js');\n}\n\nvar viewer_1700356263506787 = null;\nvar warn = document.getElementById(\"3dmolwarning_1700356263506787\");\nif(warn) {\n    warn.parentNode.removeChild(warn);\n}\n$3Dmolpromise.then(function() {\nviewer_1700356263506787 = $3Dmol.createViewer(document.getElementById(\"3dmolviewer_1700356263506787\"),{backgroundColor:\"white\"});\nviewer_1700356263506787.addModel(\"36314\\n     RDKit          3D\\n\\n 62 68  0  0  1  0  0  0  0  0999 V2000\\n   -7.0408    0.3387   -1.4459 O   0  0  0  0  0  0  0  0  0  0  0  0\\n   -4.7403    2.4103   -1.0734 O   0  0  0  0  0  0  0  0  0  0  0  0\\n   -3.7738    0.4617    1.4686 O   0  0  0  0  0  0  0  0  0  0  0  0\\n   -1.9831   -1.3070    0.5844 O   0  0  0  0  0  0  0  0  0  0  0  0\\n   -4.0787   -2.2400   -3.8528 O   0  0  0  0  0  0  0  0  0  0  0  0\\n   -0.2167   -2.4100   -3.0916 O   0  0  0  0  0  0  0  0  0  0  0  0\\n   -2.3684   -3.3008   -1.5078 O   0  0  0  0  0  0  0  0  0  0  0  0\\n    1.8683   -0.1330    1.2738 O   0  0  0  0  0  0  0  0  0  0  0  0\\n   -3.9507    2.4065   -3.2207 O   0  0  0  0  0  0  0  0  0  0  0  0\\n   -2.8490    2.4095    2.2309 O   0  0  0  0  0  0  0  0  0  0  0  0\\n   -1.1259   -1.3616   -4.9111 O   0  0  0  0  0  0  0  0  0  0  0  0\\n    2.4102   -1.8455    2.6951 O   0  0  0  0  0  0  0  0  0  0  0  0\\n    3.8396    1.0922    2.8834 O   0  0  0  0  0  0  0  0  0  0  0  0\\n    6.9572   -0.3184    2.3528 O   0  0  0  0  0  0  0  0  0  0  0  0\\n    5.8178    0.9319    0.7972 N   0  0  0  0  0  0  0  0  0  0  0  0\\n   -3.7187    0.1872   -0.9711 C   0  0  2  0  0  0  0  0  0  0  0  0\\n   -5.0042    0.9830   -1.1844 C   0  0  2  0  0  0  0  0  0  0  0  0\\n   -3.6651   -1.2205   -1.6582 C   0  0  1  0  0  0  0  0  0  0  0  0\\n   -5.9366    0.5689   -2.3474 C   0  0  1  0  0  0  0  0  0  0  0  0\\n   -2.9803    0.6811    0.3077 C   0  0  2  0  0  0  0  0  0  0  0  0\\n   -1.6004    0.0815    0.4025 C   0  0  2  0  0  0  0  0  0  0  0  0\\n   -4.1910   -1.0430   -3.0975 C   0  0  2  0  0  0  0  0  0  0  0  0\\n   -5.6532   -0.6660   -3.1507 C   0  0  0  0  0  0  0  0  0  0  0  0\\n   -0.8010    0.4715   -0.8872 C   0  0  0  0  0  0  0  0  0  0  0  0\\n   -6.1768    0.5133   -0.3040 C   0  0  0  0  0  0  0  0  0  0  0  0\\n   -2.3431   -2.0972   -1.8100 C   0  0  0  0  0  0  0  0  0  0  0  0\\n   -0.5530    0.1500    1.5088 C   0  0  0  0  0  0  0  0  0  0  0  0\\n   -0.2205   -0.8447   -1.2575 C   0  0  0  0  0  0  0  0  0  0  0  0\\n   -4.6275   -2.1173   -0.8725 C   0  0  0  0  0  0  0  0  0  0  0  0\\n   -1.0132   -1.4966   -2.3758 C   0  0  1  0  0  0  0  0  0  0  0  0\\n    0.6317   -0.8162    1.1061 C   0  0  1  0  0  0  0  0  0  0  0  0\\n    0.5746   -1.4195   -0.3191 C   0  0  0  0  0  0  0  0  0  0  0  0\\n    0.2717    1.5317   -0.6242 C   0  0  0  0  0  0  0  0  0  0  0  0\\n   -1.5106    1.1237   -2.0607 C   0  0  0  0  0  0  0  0  0  0  0  0\\n    1.1071   -2.8061   -0.4338 C   0  0  0  0  0  0  0  0  0  0  0  0\\n   -4.2452    2.9990   -2.1941 C   0  0  0  0  0  0  0  0  0  0  0  0\\n   -3.5974    1.4565    2.3746 C   0  0  0  0  0  0  0  0  0  0  0  0\\n   -4.0960    4.4678   -1.9791 C   0  0  0  0  0  0  0  0  0  0  0  0\\n   -0.4219   -2.2306   -4.4182 C   0  0  0  0  0  0  0  0  0  0  0  0\\n    2.7048   -0.8147    2.1040 C   0  0  0  0  0  0  0  0  0  0  0  0\\n   -4.4405    1.2310    3.5613 C   0  0  0  0  0  0  0  0  0  0  0  0\\n    4.0525   -0.1433    2.2026 C   0  0  1  0  0  0  0  0  0  0  0  0\\n    0.3504   -3.2420   -5.1968 C   0  0  0  0  0  0  0  0  0  0  0  0\\n   -4.3730    2.1528    4.6049 C   0  0  0  0  0  0  0  0  0  0  0  0\\n   -5.2994    0.1356    3.6474 C   0  0  0  0  0  0  0  0  0  0  0  0\\n    4.6101    0.1313    0.8108 C   0  0  2  0  0  0  0  0  0  0  0  0\\n   -5.1646    1.9770    5.7369 C   0  0  0  0  0  0  0  0  0  0  0  0\\n   -6.0898   -0.0374    4.7801 C   0  0  0  0  0  0  0  0  0  0  0  0\\n   -6.0226    0.8831    5.8234 C   0  0  0  0  0  0  0  0  0  0  0  0\\n    4.7100   -1.0374   -0.1212 C   0  0  0  0  0  0  0  0  0  0  0  0\\n    5.2577   -2.2582    0.2772 C   0  0  0  0  0  0  0  0  0  0  0  0\\n    4.2360   -0.8954   -1.4270 C   0  0  0  0  0  0  0  0  0  0  0  0\\n    6.9150    0.6254    1.5707 C   0  0  0  0  0  0  0  0  0  0  0  0\\n    5.3264   -3.3238   -0.6169 C   0  0  0  0  0  0  0  0  0  0  0  0\\n    4.3041   -1.9602   -2.3219 C   0  0  0  0  0  0  0  0  0  0  0  0\\n    8.0719    1.5279    1.4007 C   0  0  0  0  0  0  0  0  0  0  0  0\\n    4.8491   -3.1747   -1.9158 C   0  0  0  0  0  0  0  0  0  0  0  0\\n    8.0230    2.6064    0.5171 C   0  0  0  0  0  0  0  0  0  0  0  0\\n    9.2285    1.2820    2.1412 C   0  0  0  0  0  0  0  0  0  0  0  0\\n    9.1320    3.4373    0.3747 C   0  0  0  0  0  0  0  0  0  0  0  0\\n   10.3360    2.1144    1.9962 C   0  0  0  0  0  0  0  0  0  0  0  0\\n   10.2874    3.1912    1.1135 C   0  0  0  0  0  0  0  0  0  0  0  0\\n  1 19  1  0\\n  1 25  1  0\\n 17  2  1  6\\n  2 36  1  0\\n 20  3  1  6\\n  3 37  1  0\\n 21  4  1  6\\n 22  5  1  6\\n 30  6  1  1\\n  6 39  1  0\\n  7 26  2  0\\n 31  8  1  6\\n  8 40  1  0\\n  9 36  2  0\\n 10 37  2  0\\n 11 39  2  0\\n 12 40  2  0\\n 42 13  1  6\\n 14 53  2  0\\n 46 15  1  1\\n 15 53  1  0\\n 16 17  1  0\\n 16 18  1  0\\n 16 20  1  1\\n 17 19  1  0\\n 17 25  1  0\\n 18 22  1  0\\n 18 26  1  0\\n 18 29  1  1\\n 19 23  1  1\\n 20 21  1  0\\n 21 24  1  0\\n 21 27  1  0\\n 22 23  1  0\\n 24 28  1  0\\n 24 33  1  0\\n 24 34  1  0\\n 26 30  1  0\\n 27 31  1  0\\n 28 30  1  0\\n 28 32  2  0\\n 31 32  1  0\\n 32 35  1  0\\n 36 38  1  0\\n 37 41  1  0\\n 39 43  1  0\\n 40 42  1  0\\n 41 44  2  0\\n 41 45  1  0\\n 42 46  1  0\\n 44 47  1  0\\n 45 48  2  0\\n 46 50  1  0\\n 47 49  2  0\\n 48 49  1  0\\n 50 51  2  0\\n 50 52  1  0\\n 51 54  1  0\\n 52 55  2  0\\n 53 56  1  0\\n 54 57  2  0\\n 55 57  1  0\\n 56 58  2  0\\n 56 59  1  0\\n 58 60  1  0\\n 59 61  2  0\\n 60 62  2  0\\n 61 62  1  0\\nM  END\\n\");\nviewer_1700356263506787.zoomTo();\n\tviewer_1700356263506787.setStyle({\"stick\": {}});\nviewer_1700356263506787.render();\n});\n</script>",
            "text/html": [
              "<div id=\"3dmolviewer_1700356263506787\"  style=\"position: relative; width: 640px; height: 480px;\">\n",
              "        <p id=\"3dmolwarning_1700356263506787\" style=\"background-color:#ffcccc;color:black\">You appear to be running in JupyterLab (or JavaScript failed to load for some other reason).  You need to install the 3dmol extension: <br>\n",
              "        <tt>jupyter labextension install jupyterlab_3dmol</tt></p>\n",
              "        </div>\n",
              "<script>\n",
              "\n",
              "var loadScriptAsync = function(uri){\n",
              "  return new Promise((resolve, reject) => {\n",
              "    //this is to ignore the existence of requirejs amd\n",
              "    var savedexports, savedmodule;\n",
              "    if (typeof exports !== 'undefined') savedexports = exports;\n",
              "    else exports = {}\n",
              "    if (typeof module !== 'undefined') savedmodule = module;\n",
              "    else module = {}\n",
              "\n",
              "    var tag = document.createElement('script');\n",
              "    tag.src = uri;\n",
              "    tag.async = true;\n",
              "    tag.onload = () => {\n",
              "        exports = savedexports;\n",
              "        module = savedmodule;\n",
              "        resolve();\n",
              "    };\n",
              "  var firstScriptTag = document.getElementsByTagName('script')[0];\n",
              "  firstScriptTag.parentNode.insertBefore(tag, firstScriptTag);\n",
              "});\n",
              "};\n",
              "\n",
              "if(typeof $3Dmolpromise === 'undefined') {\n",
              "$3Dmolpromise = null;\n",
              "  $3Dmolpromise = loadScriptAsync('https://cdnjs.cloudflare.com/ajax/libs/3Dmol/2.0.4/3Dmol-min.js');\n",
              "}\n",
              "\n",
              "var viewer_1700356263506787 = null;\n",
              "var warn = document.getElementById(\"3dmolwarning_1700356263506787\");\n",
              "if(warn) {\n",
              "    warn.parentNode.removeChild(warn);\n",
              "}\n",
              "$3Dmolpromise.then(function() {\n",
              "viewer_1700356263506787 = $3Dmol.createViewer(document.getElementById(\"3dmolviewer_1700356263506787\"),{backgroundColor:\"white\"});\n",
              "viewer_1700356263506787.addModel(\"36314\\n     RDKit          3D\\n\\n 62 68  0  0  1  0  0  0  0  0999 V2000\\n   -7.0408    0.3387   -1.4459 O   0  0  0  0  0  0  0  0  0  0  0  0\\n   -4.7403    2.4103   -1.0734 O   0  0  0  0  0  0  0  0  0  0  0  0\\n   -3.7738    0.4617    1.4686 O   0  0  0  0  0  0  0  0  0  0  0  0\\n   -1.9831   -1.3070    0.5844 O   0  0  0  0  0  0  0  0  0  0  0  0\\n   -4.0787   -2.2400   -3.8528 O   0  0  0  0  0  0  0  0  0  0  0  0\\n   -0.2167   -2.4100   -3.0916 O   0  0  0  0  0  0  0  0  0  0  0  0\\n   -2.3684   -3.3008   -1.5078 O   0  0  0  0  0  0  0  0  0  0  0  0\\n    1.8683   -0.1330    1.2738 O   0  0  0  0  0  0  0  0  0  0  0  0\\n   -3.9507    2.4065   -3.2207 O   0  0  0  0  0  0  0  0  0  0  0  0\\n   -2.8490    2.4095    2.2309 O   0  0  0  0  0  0  0  0  0  0  0  0\\n   -1.1259   -1.3616   -4.9111 O   0  0  0  0  0  0  0  0  0  0  0  0\\n    2.4102   -1.8455    2.6951 O   0  0  0  0  0  0  0  0  0  0  0  0\\n    3.8396    1.0922    2.8834 O   0  0  0  0  0  0  0  0  0  0  0  0\\n    6.9572   -0.3184    2.3528 O   0  0  0  0  0  0  0  0  0  0  0  0\\n    5.8178    0.9319    0.7972 N   0  0  0  0  0  0  0  0  0  0  0  0\\n   -3.7187    0.1872   -0.9711 C   0  0  2  0  0  0  0  0  0  0  0  0\\n   -5.0042    0.9830   -1.1844 C   0  0  2  0  0  0  0  0  0  0  0  0\\n   -3.6651   -1.2205   -1.6582 C   0  0  1  0  0  0  0  0  0  0  0  0\\n   -5.9366    0.5689   -2.3474 C   0  0  1  0  0  0  0  0  0  0  0  0\\n   -2.9803    0.6811    0.3077 C   0  0  2  0  0  0  0  0  0  0  0  0\\n   -1.6004    0.0815    0.4025 C   0  0  2  0  0  0  0  0  0  0  0  0\\n   -4.1910   -1.0430   -3.0975 C   0  0  2  0  0  0  0  0  0  0  0  0\\n   -5.6532   -0.6660   -3.1507 C   0  0  0  0  0  0  0  0  0  0  0  0\\n   -0.8010    0.4715   -0.8872 C   0  0  0  0  0  0  0  0  0  0  0  0\\n   -6.1768    0.5133   -0.3040 C   0  0  0  0  0  0  0  0  0  0  0  0\\n   -2.3431   -2.0972   -1.8100 C   0  0  0  0  0  0  0  0  0  0  0  0\\n   -0.5530    0.1500    1.5088 C   0  0  0  0  0  0  0  0  0  0  0  0\\n   -0.2205   -0.8447   -1.2575 C   0  0  0  0  0  0  0  0  0  0  0  0\\n   -4.6275   -2.1173   -0.8725 C   0  0  0  0  0  0  0  0  0  0  0  0\\n   -1.0132   -1.4966   -2.3758 C   0  0  1  0  0  0  0  0  0  0  0  0\\n    0.6317   -0.8162    1.1061 C   0  0  1  0  0  0  0  0  0  0  0  0\\n    0.5746   -1.4195   -0.3191 C   0  0  0  0  0  0  0  0  0  0  0  0\\n    0.2717    1.5317   -0.6242 C   0  0  0  0  0  0  0  0  0  0  0  0\\n   -1.5106    1.1237   -2.0607 C   0  0  0  0  0  0  0  0  0  0  0  0\\n    1.1071   -2.8061   -0.4338 C   0  0  0  0  0  0  0  0  0  0  0  0\\n   -4.2452    2.9990   -2.1941 C   0  0  0  0  0  0  0  0  0  0  0  0\\n   -3.5974    1.4565    2.3746 C   0  0  0  0  0  0  0  0  0  0  0  0\\n   -4.0960    4.4678   -1.9791 C   0  0  0  0  0  0  0  0  0  0  0  0\\n   -0.4219   -2.2306   -4.4182 C   0  0  0  0  0  0  0  0  0  0  0  0\\n    2.7048   -0.8147    2.1040 C   0  0  0  0  0  0  0  0  0  0  0  0\\n   -4.4405    1.2310    3.5613 C   0  0  0  0  0  0  0  0  0  0  0  0\\n    4.0525   -0.1433    2.2026 C   0  0  1  0  0  0  0  0  0  0  0  0\\n    0.3504   -3.2420   -5.1968 C   0  0  0  0  0  0  0  0  0  0  0  0\\n   -4.3730    2.1528    4.6049 C   0  0  0  0  0  0  0  0  0  0  0  0\\n   -5.2994    0.1356    3.6474 C   0  0  0  0  0  0  0  0  0  0  0  0\\n    4.6101    0.1313    0.8108 C   0  0  2  0  0  0  0  0  0  0  0  0\\n   -5.1646    1.9770    5.7369 C   0  0  0  0  0  0  0  0  0  0  0  0\\n   -6.0898   -0.0374    4.7801 C   0  0  0  0  0  0  0  0  0  0  0  0\\n   -6.0226    0.8831    5.8234 C   0  0  0  0  0  0  0  0  0  0  0  0\\n    4.7100   -1.0374   -0.1212 C   0  0  0  0  0  0  0  0  0  0  0  0\\n    5.2577   -2.2582    0.2772 C   0  0  0  0  0  0  0  0  0  0  0  0\\n    4.2360   -0.8954   -1.4270 C   0  0  0  0  0  0  0  0  0  0  0  0\\n    6.9150    0.6254    1.5707 C   0  0  0  0  0  0  0  0  0  0  0  0\\n    5.3264   -3.3238   -0.6169 C   0  0  0  0  0  0  0  0  0  0  0  0\\n    4.3041   -1.9602   -2.3219 C   0  0  0  0  0  0  0  0  0  0  0  0\\n    8.0719    1.5279    1.4007 C   0  0  0  0  0  0  0  0  0  0  0  0\\n    4.8491   -3.1747   -1.9158 C   0  0  0  0  0  0  0  0  0  0  0  0\\n    8.0230    2.6064    0.5171 C   0  0  0  0  0  0  0  0  0  0  0  0\\n    9.2285    1.2820    2.1412 C   0  0  0  0  0  0  0  0  0  0  0  0\\n    9.1320    3.4373    0.3747 C   0  0  0  0  0  0  0  0  0  0  0  0\\n   10.3360    2.1144    1.9962 C   0  0  0  0  0  0  0  0  0  0  0  0\\n   10.2874    3.1912    1.1135 C   0  0  0  0  0  0  0  0  0  0  0  0\\n  1 19  1  0\\n  1 25  1  0\\n 17  2  1  6\\n  2 36  1  0\\n 20  3  1  6\\n  3 37  1  0\\n 21  4  1  6\\n 22  5  1  6\\n 30  6  1  1\\n  6 39  1  0\\n  7 26  2  0\\n 31  8  1  6\\n  8 40  1  0\\n  9 36  2  0\\n 10 37  2  0\\n 11 39  2  0\\n 12 40  2  0\\n 42 13  1  6\\n 14 53  2  0\\n 46 15  1  1\\n 15 53  1  0\\n 16 17  1  0\\n 16 18  1  0\\n 16 20  1  1\\n 17 19  1  0\\n 17 25  1  0\\n 18 22  1  0\\n 18 26  1  0\\n 18 29  1  1\\n 19 23  1  1\\n 20 21  1  0\\n 21 24  1  0\\n 21 27  1  0\\n 22 23  1  0\\n 24 28  1  0\\n 24 33  1  0\\n 24 34  1  0\\n 26 30  1  0\\n 27 31  1  0\\n 28 30  1  0\\n 28 32  2  0\\n 31 32  1  0\\n 32 35  1  0\\n 36 38  1  0\\n 37 41  1  0\\n 39 43  1  0\\n 40 42  1  0\\n 41 44  2  0\\n 41 45  1  0\\n 42 46  1  0\\n 44 47  1  0\\n 45 48  2  0\\n 46 50  1  0\\n 47 49  2  0\\n 48 49  1  0\\n 50 51  2  0\\n 50 52  1  0\\n 51 54  1  0\\n 52 55  2  0\\n 53 56  1  0\\n 54 57  2  0\\n 55 57  1  0\\n 56 58  2  0\\n 56 59  1  0\\n 58 60  1  0\\n 59 61  2  0\\n 60 62  2  0\\n 61 62  1  0\\nM  END\\n\");\n",
              "viewer_1700356263506787.zoomTo();\n",
              "\tviewer_1700356263506787.setStyle({\"stick\": {}});\n",
              "viewer_1700356263506787.render();\n",
              "});\n",
              "</script>"
            ]
          },
          "metadata": {}
        }
      ]
    }
  ],
  "metadata": {
    "celltoolbar": "Slideshow",
    "kernelspec": {
      "display_name": "Python 3 (ipykernel)",
      "language": "python",
      "name": "python3"
    },
    "language_info": {
      "codemirror_mode": {
        "name": "ipython",
        "version": 3
      },
      "file_extension": ".py",
      "mimetype": "text/x-python",
      "name": "python",
      "nbconvert_exporter": "python",
      "pygments_lexer": "ipython3",
      "version": "3.9.7"
    },
    "colab": {
      "name": "lecture_note_RDKit_no4_構造変換.ipynb",
      "provenance": [],
      "include_colab_link": true
    }
  },
  "nbformat": 4,
  "nbformat_minor": 5
}