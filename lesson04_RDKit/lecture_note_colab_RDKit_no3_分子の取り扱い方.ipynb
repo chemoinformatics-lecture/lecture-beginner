{
  "cells": [
    {
      "cell_type": "markdown",
      "metadata": {
        "id": "view-in-github",
        "colab_type": "text"
      },
      "source": [
        "<a href=\"https://colab.research.google.com/github/chemoinformatics-lecture/lecture-beginner/blob/main/lesson04_RDKit/lecture_note_colab_RDKit_no3_%E5%88%86%E5%AD%90%E3%81%AE%E5%8F%96%E3%82%8A%E6%89%B1%E3%81%84%E6%96%B9.ipynb\" target=\"_parent\"><img src=\"https://colab.research.google.com/assets/colab-badge.svg\" alt=\"Open In Colab\"/></a>"
      ]
    },
    {
      "cell_type": "markdown",
      "id": "32825347",
      "metadata": {
        "id": "32825347"
      },
      "source": [
        "# RDKitの分子を取り扱う\n",
        "\n",
        "# 環関係\n",
        "\n",
        "ringinfo = mol.GetRingInfo()<br>\n",
        "ringinfo.NumRings()\n",
        "\n",
        "# 結合関係\n",
        "\n",
        "bonds_info = mol.GetBonds()<br>\n",
        "bond.GetBondType()<br>\n",
        "begin_atom = bond.GetBeginAtom()<br>\n",
        "begin_atom.GetSymbol()<br>\n",
        "end_atom = bond.GetEndAtom()<br>\n",
        "end_atom.GetSymbol()<br>\n",
        "atoms_info = mol.GetAtoms()<br>\n",
        "\n",
        "# 原子関係\n",
        "\n",
        "atoms_info = mol.GetAtoms()<br>\n",
        "atom.GetIdx()<br>\n",
        "atom.GetSymbol()<br>\n",
        "atom.GetNumRadicalElectrons()<br>\n",
        "atom.GetFormalCharge()<br>"
      ]
    },
    {
      "cell_type": "code",
      "source": [
        "# rdkitのインストール\n",
        "!pip install rdkit\n",
        "#pubchempyのインストール\n",
        "!pip install pubchempy"
      ],
      "metadata": {
        "id": "WqqjlncIDm7k",
        "outputId": "62f414ce-57f6-4cf1-bbbc-e3ba80365eb0",
        "colab": {
          "base_uri": "https://localhost:8080/"
        }
      },
      "id": "WqqjlncIDm7k",
      "execution_count": 1,
      "outputs": [
        {
          "output_type": "stream",
          "name": "stdout",
          "text": [
            "Looking in indexes: https://pypi.org/simple, https://us-python.pkg.dev/colab-wheels/public/simple/\n",
            "Collecting rdkit\n",
            "  Downloading rdkit-2022.3.5-cp37-cp37m-manylinux_2_17_x86_64.manylinux2014_x86_64.whl (36.8 MB)\n",
            "\u001b[K     |████████████████████████████████| 36.8 MB 452 kB/s \n",
            "\u001b[?25hRequirement already satisfied: numpy in /usr/local/lib/python3.7/dist-packages (from rdkit) (1.21.6)\n",
            "Requirement already satisfied: Pillow in /usr/local/lib/python3.7/dist-packages (from rdkit) (7.1.2)\n",
            "Installing collected packages: rdkit\n",
            "Successfully installed rdkit-2022.3.5\n",
            "Looking in indexes: https://pypi.org/simple, https://us-python.pkg.dev/colab-wheels/public/simple/\n",
            "Collecting pubchempy\n",
            "  Downloading PubChemPy-1.0.4.tar.gz (29 kB)\n",
            "Building wheels for collected packages: pubchempy\n",
            "  Building wheel for pubchempy (setup.py) ... \u001b[?25l\u001b[?25hdone\n",
            "  Created wheel for pubchempy: filename=PubChemPy-1.0.4-py3-none-any.whl size=13834 sha256=ee475faac9fbfbd045adda83f8e064b531de4c2fc256c26c3424ffb60908d480\n",
            "  Stored in directory: /root/.cache/pip/wheels/7c/3d/8c/8192697412e9899dc55bbbb08bbc1197bef333caaa2a71c448\n",
            "Successfully built pubchempy\n",
            "Installing collected packages: pubchempy\n",
            "Successfully installed pubchempy-1.0.4\n"
          ]
        }
      ]
    },
    {
      "cell_type": "code",
      "execution_count": 2,
      "id": "1ae90aa1",
      "metadata": {
        "id": "1ae90aa1",
        "outputId": "6d71f0e1-a942-4bb2-a3cc-e24d7196d113",
        "colab": {
          "base_uri": "https://localhost:8080/",
          "height": 35
        }
      },
      "outputs": [
        {
          "output_type": "execute_result",
          "data": {
            "text/plain": [
              "'Linux-5.4.188+-x86_64-with-Ubuntu-18.04-bionic'"
            ],
            "application/vnd.google.colaboratory.intrinsic+json": {
              "type": "string"
            }
          },
          "metadata": {},
          "execution_count": 2
        }
      ],
      "source": [
        "import platform\n",
        "# 使用しているOSを表示\n",
        "platform.platform()"
      ]
    },
    {
      "cell_type": "code",
      "execution_count": 3,
      "id": "71edcf4b",
      "metadata": {
        "id": "71edcf4b",
        "outputId": "d1644663-ac6a-451f-da83-64d597d1edde",
        "colab": {
          "base_uri": "https://localhost:8080/"
        }
      },
      "outputs": [
        {
          "output_type": "stream",
          "name": "stdout",
          "text": [
            "Python 3.7.13\n"
          ]
        }
      ],
      "source": [
        "# pythonのversionを表示\n",
        "!python -V"
      ]
    },
    {
      "cell_type": "code",
      "execution_count": 4,
      "id": "603bf24e",
      "metadata": {
        "id": "603bf24e",
        "outputId": "aaada895-30ec-4276-c50f-8589923067a6",
        "colab": {
          "base_uri": "https://localhost:8080/",
          "height": 35
        }
      },
      "outputs": [
        {
          "output_type": "execute_result",
          "data": {
            "text/plain": [
              "'1.0.4'"
            ],
            "application/vnd.google.colaboratory.intrinsic+json": {
              "type": "string"
            }
          },
          "metadata": {},
          "execution_count": 4
        }
      ],
      "source": [
        "import pubchempy as pcp\n",
        "# pcpと略すのが一般的\n",
        "# pubchemのversionを表示\n",
        "pcp. __version__"
      ]
    },
    {
      "cell_type": "code",
      "execution_count": 5,
      "id": "b55f70bc",
      "metadata": {
        "id": "b55f70bc",
        "outputId": "baa31419-32a5-4b57-b793-3612072f7612",
        "colab": {
          "base_uri": "https://localhost:8080/",
          "height": 35
        }
      },
      "outputs": [
        {
          "output_type": "execute_result",
          "data": {
            "text/plain": [
              "'1.3.5'"
            ],
            "application/vnd.google.colaboratory.intrinsic+json": {
              "type": "string"
            }
          },
          "metadata": {},
          "execution_count": 5
        }
      ],
      "source": [
        "import pandas as pd\n",
        "# pdと略すのが一般的\n",
        "# pandasのversionを表示\n",
        "pd.__version__"
      ]
    },
    {
      "cell_type": "code",
      "execution_count": 9,
      "id": "7cc87143",
      "metadata": {
        "id": "7cc87143",
        "outputId": "42b040b3-3d19-4392-e868-380a1b9d83ba",
        "colab": {
          "base_uri": "https://localhost:8080/"
        }
      },
      "outputs": [
        {
          "output_type": "stream",
          "name": "stdout",
          "text": [
            "2022.03.5\n"
          ]
        }
      ],
      "source": [
        "from rdkit import rdBase, Chem\n",
        "from rdkit.Chem import AllChem, Draw\n",
        "print(rdBase.rdkitVersion)"
      ]
    },
    {
      "cell_type": "code",
      "execution_count": 10,
      "id": "cb1d2ca7",
      "metadata": {
        "id": "cb1d2ca7"
      },
      "outputs": [],
      "source": [
        "compoud = \"quercetine\""
      ]
    },
    {
      "cell_type": "code",
      "execution_count": 11,
      "id": "ce1378a0",
      "metadata": {
        "id": "ce1378a0",
        "outputId": "2ab24988-5ce6-47a6-fecc-90d3e7488731",
        "colab": {
          "base_uri": "https://localhost:8080/",
          "height": 217
        }
      },
      "outputs": [
        {
          "output_type": "execute_result",
          "data": {
            "text/plain": [
              "<PIL.PngImagePlugin.PngImageFile image mode=RGB size=600x200 at 0x7FA471F40A10>"
            ],
            "image/png": "[encoded data removed]"
          },
          "metadata": {},
          "execution_count": 11
        }
      ],
      "source": [
        "pcp_compoud = pcp.get_compounds(compoud, 'name')\n",
        "compoud_smiles = pcp_compoud[0].isomeric_smiles\n",
        "mol = Chem.MolFromSmiles(compoud_smiles)\n",
        "Draw.MolsToGridImage([mol])"
      ]
    },
    {
      "cell_type": "markdown",
      "id": "15107851",
      "metadata": {
        "id": "15107851"
      },
      "source": [
        "## 環の情報"
      ]
    },
    {
      "cell_type": "code",
      "execution_count": 12,
      "id": "6a1fa236",
      "metadata": {
        "id": "6a1fa236",
        "outputId": "fcfafdb6-b8c1-4656-a74d-724a8f1523f0",
        "colab": {
          "base_uri": "https://localhost:8080/"
        }
      },
      "outputs": [
        {
          "output_type": "execute_result",
          "data": {
            "text/plain": [
              "<rdkit.Chem.rdchem.RingInfo at 0x7fa487b74670>"
            ]
          },
          "metadata": {},
          "execution_count": 12
        }
      ],
      "source": [
        "ringinfo = mol.GetRingInfo()\n",
        "ringinfo"
      ]
    },
    {
      "cell_type": "code",
      "execution_count": 13,
      "id": "be598643",
      "metadata": {
        "id": "be598643",
        "outputId": "61e70096-6c12-48e6-e80c-ca571b71ea66",
        "colab": {
          "base_uri": "https://localhost:8080/"
        }
      },
      "outputs": [
        {
          "output_type": "execute_result",
          "data": {
            "text/plain": [
              "3"
            ]
          },
          "metadata": {},
          "execution_count": 13
        }
      ],
      "source": [
        "ringinfo.NumRings()"
      ]
    },
    {
      "cell_type": "markdown",
      "id": "c773f127",
      "metadata": {
        "id": "c773f127"
      },
      "source": [
        "## 結合の情報"
      ]
    },
    {
      "cell_type": "code",
      "execution_count": 14,
      "id": "7b90110e",
      "metadata": {
        "id": "7b90110e"
      },
      "outputs": [],
      "source": [
        "bonds_info = mol.GetBonds()"
      ]
    },
    {
      "cell_type": "code",
      "execution_count": 15,
      "id": "d2e84814",
      "metadata": {
        "id": "d2e84814",
        "outputId": "32568b04-1f6e-4cb1-96d4-3b94c38011fb",
        "colab": {
          "base_uri": "https://localhost:8080/"
        }
      },
      "outputs": [
        {
          "output_type": "execute_result",
          "data": {
            "text/plain": [
              "24"
            ]
          },
          "metadata": {},
          "execution_count": 15
        }
      ],
      "source": [
        "len(bonds_info)"
      ]
    },
    {
      "cell_type": "code",
      "execution_count": 16,
      "id": "3d202ce2",
      "metadata": {
        "id": "3d202ce2",
        "outputId": "5b937c6c-9ad0-42aa-f214-e2788c7a9997",
        "colab": {
          "base_uri": "https://localhost:8080/"
        }
      },
      "outputs": [
        {
          "output_type": "stream",
          "name": "stdout",
          "text": [
            "-------------------------\n",
            "C\n",
            "C\n",
            "AROMATIC\n",
            "-------------------------\n",
            "C\n",
            "C\n",
            "AROMATIC\n",
            "-------------------------\n",
            "C\n",
            "C\n",
            "AROMATIC\n",
            "-------------------------\n",
            "C\n",
            "C\n",
            "AROMATIC\n",
            "-------------------------\n",
            "C\n",
            "C\n",
            "AROMATIC\n",
            "-------------------------\n",
            "C\n",
            "C\n",
            "SINGLE\n",
            "-------------------------\n",
            "C\n",
            "C\n",
            "AROMATIC\n",
            "-------------------------\n",
            "C\n",
            "C\n",
            "AROMATIC\n",
            "-------------------------\n",
            "C\n",
            "O\n",
            "DOUBLE\n",
            "-------------------------\n",
            "C\n",
            "C\n",
            "AROMATIC\n",
            "-------------------------\n",
            "C\n",
            "C\n",
            "AROMATIC\n",
            "-------------------------\n",
            "C\n",
            "C\n",
            "AROMATIC\n",
            "-------------------------\n",
            "C\n",
            "C\n",
            "AROMATIC\n",
            "-------------------------\n",
            "C\n",
            "C\n",
            "AROMATIC\n",
            "-------------------------\n",
            "C\n",
            "C\n",
            "AROMATIC\n",
            "-------------------------\n",
            "C\n",
            "O\n",
            "AROMATIC\n",
            "-------------------------\n",
            "C\n",
            "O\n",
            "SINGLE\n",
            "-------------------------\n",
            "C\n",
            "O\n",
            "SINGLE\n",
            "-------------------------\n",
            "C\n",
            "O\n",
            "SINGLE\n",
            "-------------------------\n",
            "C\n",
            "O\n",
            "SINGLE\n",
            "-------------------------\n",
            "C\n",
            "O\n",
            "SINGLE\n",
            "-------------------------\n",
            "C\n",
            "C\n",
            "AROMATIC\n",
            "-------------------------\n",
            "O\n",
            "C\n",
            "AROMATIC\n",
            "-------------------------\n",
            "C\n",
            "C\n",
            "AROMATIC\n"
          ]
        }
      ],
      "source": [
        "for bond in bonds_info:\n",
        "    print(\"-------------------------\")\n",
        "    begin_atom = bond.GetBeginAtom()\n",
        "    end_atom = bond.GetEndAtom()\n",
        "    print(begin_atom.GetSymbol())\n",
        "    print(end_atom.GetSymbol())\n",
        "    print (bond.GetBondType())"
      ]
    },
    {
      "cell_type": "markdown",
      "id": "3584521a",
      "metadata": {
        "id": "3584521a"
      },
      "source": [
        "## 原子の情報"
      ]
    },
    {
      "cell_type": "code",
      "execution_count": 17,
      "id": "2006cc3a",
      "metadata": {
        "id": "2006cc3a",
        "outputId": "ba55c026-b6db-45e8-d119-5ba0428d5856",
        "colab": {
          "base_uri": "https://localhost:8080/",
          "height": 35
        }
      },
      "outputs": [
        {
          "output_type": "execute_result",
          "data": {
            "text/plain": [
              "'C1=CC(=C(C=C1C2=C(C(=O)C3=C(C=C(C=C3O2)O)O)O)O)O'"
            ],
            "application/vnd.google.colaboratory.intrinsic+json": {
              "type": "string"
            }
          },
          "metadata": {},
          "execution_count": 17
        }
      ],
      "source": [
        "compoud_smiles"
      ]
    },
    {
      "cell_type": "code",
      "execution_count": 18,
      "id": "3d25b05d",
      "metadata": {
        "id": "3d25b05d",
        "outputId": "80e0bc45-2688-48f2-da55-af79918a3eb0",
        "colab": {
          "base_uri": "https://localhost:8080/",
          "height": 217
        }
      },
      "outputs": [
        {
          "output_type": "execute_result",
          "data": {
            "text/plain": [
              "<PIL.PngImagePlugin.PngImageFile image mode=RGB size=600x200 at 0x7FA471E46F50>"
            ],
            "image/png": "[encoded data removed]"
          },
          "metadata": {},
          "execution_count": 18
        }
      ],
      "source": [
        "# 1つの原子をラジカルにしてみる。\n",
        "mol = Chem.MolFromSmiles(\"C1=CC(=C(C=C1C2=C(C(=O)C3=C(C=C(C=C3O2)O)O)O)O)[O]\")\n",
        "Draw.MolsToGridImage([mol])"
      ]
    },
    {
      "cell_type": "code",
      "execution_count": 19,
      "id": "4ae67be4",
      "metadata": {
        "id": "4ae67be4",
        "outputId": "a359c329-d0c3-4983-c4f1-287e6a4090e6",
        "colab": {
          "base_uri": "https://localhost:8080/",
          "height": 217
        }
      },
      "outputs": [
        {
          "output_type": "execute_result",
          "data": {
            "text/plain": [
              "<PIL.PngImagePlugin.PngImageFile image mode=RGB size=600x200 at 0x7FA4760C9F10>"
            ],
            "image/png": "[encoded data removed]"
          },
          "metadata": {},
          "execution_count": 19
        }
      ],
      "source": [
        "mol = Chem.AddHs(mol)\n",
        "Draw.MolsToGridImage([mol])"
      ]
    },
    {
      "cell_type": "code",
      "execution_count": 20,
      "id": "4b489175",
      "metadata": {
        "id": "4b489175",
        "outputId": "114ff377-98a8-40b0-a1cf-024ca166ef03",
        "colab": {
          "base_uri": "https://localhost:8080/"
        }
      },
      "outputs": [
        {
          "output_type": "execute_result",
          "data": {
            "text/plain": [
              "31"
            ]
          },
          "metadata": {},
          "execution_count": 20
        }
      ],
      "source": [
        "atoms_info = mol.GetAtoms()\n",
        "len(atoms_info)"
      ]
    },
    {
      "cell_type": "code",
      "execution_count": 21,
      "id": "1eed9128",
      "metadata": {
        "id": "1eed9128",
        "outputId": "bc1ffa5d-7d68-4123-cf3d-0d5949a5d039",
        "colab": {
          "base_uri": "https://localhost:8080/"
        }
      },
      "outputs": [
        {
          "output_type": "stream",
          "name": "stdout",
          "text": [
            "------------------------------\n",
            "0:C\n",
            "radical:0\n",
            "charge:0\n",
            "------------------------------\n",
            "1:C\n",
            "radical:0\n",
            "charge:0\n",
            "------------------------------\n",
            "2:C\n",
            "radical:0\n",
            "charge:0\n",
            "------------------------------\n",
            "3:C\n",
            "radical:0\n",
            "charge:0\n",
            "------------------------------\n",
            "4:C\n",
            "radical:0\n",
            "charge:0\n",
            "------------------------------\n",
            "5:C\n",
            "radical:0\n",
            "charge:0\n",
            "------------------------------\n",
            "6:C\n",
            "radical:0\n",
            "charge:0\n",
            "------------------------------\n",
            "7:C\n",
            "radical:0\n",
            "charge:0\n",
            "------------------------------\n",
            "8:C\n",
            "radical:0\n",
            "charge:0\n",
            "------------------------------\n",
            "9:O\n",
            "radical:0\n",
            "charge:0\n",
            "------------------------------\n",
            "10:C\n",
            "radical:0\n",
            "charge:0\n",
            "------------------------------\n",
            "11:C\n",
            "radical:0\n",
            "charge:0\n",
            "------------------------------\n",
            "12:C\n",
            "radical:0\n",
            "charge:0\n",
            "------------------------------\n",
            "13:C\n",
            "radical:0\n",
            "charge:0\n",
            "------------------------------\n",
            "14:C\n",
            "radical:0\n",
            "charge:0\n",
            "------------------------------\n",
            "15:C\n",
            "radical:0\n",
            "charge:0\n",
            "------------------------------\n",
            "16:O\n",
            "radical:0\n",
            "charge:0\n",
            "------------------------------\n",
            "17:O\n",
            "radical:0\n",
            "charge:0\n",
            "------------------------------\n",
            "18:O\n",
            "radical:0\n",
            "charge:0\n",
            "------------------------------\n",
            "19:O\n",
            "radical:0\n",
            "charge:0\n",
            "------------------------------\n",
            "20:O\n",
            "radical:0\n",
            "charge:0\n",
            "------------------------------\n",
            "21:O\n",
            "radical:1\n",
            "charge:0\n",
            "------------------------------\n",
            "22:H\n",
            "radical:0\n",
            "charge:0\n",
            "------------------------------\n",
            "23:H\n",
            "radical:0\n",
            "charge:0\n",
            "------------------------------\n",
            "24:H\n",
            "radical:0\n",
            "charge:0\n",
            "------------------------------\n",
            "25:H\n",
            "radical:0\n",
            "charge:0\n",
            "------------------------------\n",
            "26:H\n",
            "radical:0\n",
            "charge:0\n",
            "------------------------------\n",
            "27:H\n",
            "radical:0\n",
            "charge:0\n",
            "------------------------------\n",
            "28:H\n",
            "radical:0\n",
            "charge:0\n",
            "------------------------------\n",
            "29:H\n",
            "radical:0\n",
            "charge:0\n",
            "------------------------------\n",
            "30:H\n",
            "radical:0\n",
            "charge:0\n"
          ]
        }
      ],
      "source": [
        "#原子の情報色々を取得できる。\n",
        "for atom in atoms_info:\n",
        "    print(\"---\" * 10)\n",
        "    print(atom.GetIdx(), end=(\":\"))\n",
        "    print(atom.GetSymbol())\n",
        "    print(\"radical:\" + str(atom.GetNumRadicalElectrons()) )\n",
        "    print(\"charge:\"+ str(atom.GetFormalCharge()))"
      ]
    },
    {
      "cell_type": "code",
      "execution_count": 22,
      "id": "e14cc557",
      "metadata": {
        "id": "e14cc557",
        "outputId": "4db86aa3-d135-413c-e7d1-715a0c51e18a",
        "colab": {
          "base_uri": "https://localhost:8080/"
        }
      },
      "outputs": [
        {
          "output_type": "stream",
          "name": "stdout",
          "text": [
            "21:O\n"
          ]
        }
      ],
      "source": [
        "for atom in atoms_info:\n",
        "    if atom.GetNumRadicalElectrons() >= 1:\n",
        "        print(atom.GetIdx(), end=(\":\"))\n",
        "        print(atom.GetSymbol())"
      ]
    }
  ],
  "metadata": {
    "celltoolbar": "Slideshow",
    "kernelspec": {
      "display_name": "Python 3 (ipykernel)",
      "language": "python",
      "name": "python3"
    },
    "language_info": {
      "codemirror_mode": {
        "name": "ipython",
        "version": 3
      },
      "file_extension": ".py",
      "mimetype": "text/x-python",
      "name": "python",
      "nbconvert_exporter": "python",
      "pygments_lexer": "ipython3",
      "version": "3.9.7"
    },
    "colab": {
      "name": "lecture_note_RDKit_no3_分子の取り扱い方.ipynb",
      "provenance": [],
      "include_colab_link": true
    }
  },
  "nbformat": 4,
  "nbformat_minor": 5
}