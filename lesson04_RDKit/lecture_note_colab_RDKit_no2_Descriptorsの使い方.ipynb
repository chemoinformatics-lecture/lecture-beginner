{
  "cells": [
    {
      "cell_type": "markdown",
      "metadata": {
        "id": "view-in-github",
        "colab_type": "text"
      },
      "source": [
        "<a href=\"https://colab.research.google.com/github/chemoinformatics-lecture/lecture-beginner/blob/main/lesson04_RDKit/lecture_note_colab_RDKit_no2_Descriptors%E3%81%AE%E4%BD%BF%E3%81%84%E6%96%B9.ipynb\" target=\"_parent\"><img src=\"https://colab.research.google.com/assets/colab-badge.svg\" alt=\"Open In Colab\"/></a>"
      ]
    },
    {
      "cell_type": "markdown",
      "source": [
        "# 0.　ライブラリーのインストール"
      ],
      "metadata": {
        "id": "yTEyE9lOa54F"
      },
      "id": "yTEyE9lOa54F"
    },
    {
      "cell_type": "code",
      "source": [
        "#ライブラリーのインストール\n",
        "!pip install rdkit==2022.3.5\n",
        "!pip install pubchempy"
      ],
      "metadata": {
        "colab": {
          "base_uri": "https://localhost:8080/"
        },
        "id": "rMdvuZbFCHfK",
        "outputId": "ea535922-15bb-450f-d22f-982f5d944889"
      },
      "id": "rMdvuZbFCHfK",
      "execution_count": 1,
      "outputs": [
        {
          "output_type": "stream",
          "name": "stdout",
          "text": [
            "Requirement already satisfied: rdkit==2022.3.5 in /usr/local/lib/python3.10/dist-packages (2022.3.5)\n",
            "Requirement already satisfied: numpy in /usr/local/lib/python3.10/dist-packages (from rdkit==2022.3.5) (1.23.5)\n",
            "Requirement already satisfied: Pillow in /usr/local/lib/python3.10/dist-packages (from rdkit==2022.3.5) (9.4.0)\n",
            "Requirement already satisfied: pubchempy in /usr/local/lib/python3.10/dist-packages (1.0.4)\n"
          ]
        }
      ]
    },
    {
      "cell_type": "markdown",
      "id": "c7212418",
      "metadata": {
        "id": "c7212418"
      },
      "source": [
        "# 1. 1つの分子に対してDescriptorで数字を表示する。"
      ]
    },
    {
      "cell_type": "markdown",
      "source": [
        "### Descriptorsについて"
      ],
      "metadata": {
        "id": "OO2FkYRn8qq5"
      },
      "id": "OO2FkYRn8qq5"
    },
    {
      "cell_type": "code",
      "execution_count": 2,
      "id": "ae0ff6e8",
      "metadata": {
        "colab": {
          "base_uri": "https://localhost:8080/"
        },
        "id": "ae0ff6e8",
        "outputId": "d3b48f6a-dcda-404e-8729-7f22ac367bc8"
      },
      "outputs": [
        {
          "output_type": "execute_result",
          "data": {
            "text/plain": [
              "208"
            ]
          },
          "metadata": {},
          "execution_count": 2
        }
      ],
      "source": [
        "# Descriptorsに入っているものがList形式になっている。\n",
        "from rdkit.Chem import Descriptors\n",
        "len(Descriptors.descList)"
      ]
    },
    {
      "cell_type": "code",
      "source": [
        "type(Descriptors.descList)"
      ],
      "metadata": {
        "id": "H4Qkqfay8luz",
        "outputId": "df381f29-0a35-47ad-ca33-94b35a5dffaa",
        "colab": {
          "base_uri": "https://localhost:8080/"
        }
      },
      "id": "H4Qkqfay8luz",
      "execution_count": 3,
      "outputs": [
        {
          "output_type": "execute_result",
          "data": {
            "text/plain": [
              "list"
            ]
          },
          "metadata": {},
          "execution_count": 3
        }
      ]
    },
    {
      "cell_type": "code",
      "source": [
        "# 記述子の名前と記述子を作成する関数を表示した例\n",
        "Descriptors.descList[0]"
      ],
      "metadata": {
        "colab": {
          "base_uri": "https://localhost:8080/"
        },
        "id": "pNLRgIt6lN6f",
        "outputId": "a0d92bae-c999-4277-a302-a7224a418ff8"
      },
      "id": "pNLRgIt6lN6f",
      "execution_count": 4,
      "outputs": [
        {
          "output_type": "execute_result",
          "data": {
            "text/plain": [
              "('MaxEStateIndex',\n",
              " <function rdkit.Chem.EState.EState.MaxEStateIndex(mol, force=1)>)"
            ]
          },
          "metadata": {},
          "execution_count": 4
        }
      ]
    },
    {
      "cell_type": "code",
      "source": [
        "type(Descriptors.descList[0])"
      ],
      "metadata": {
        "id": "DcAqQsBY7WCg",
        "outputId": "1c2f517b-ea25-4bec-80ac-f060f5768cf8",
        "colab": {
          "base_uri": "https://localhost:8080/"
        }
      },
      "id": "DcAqQsBY7WCg",
      "execution_count": 5,
      "outputs": [
        {
          "output_type": "execute_result",
          "data": {
            "text/plain": [
              "tuple"
            ]
          },
          "metadata": {},
          "execution_count": 5
        }
      ]
    },
    {
      "cell_type": "markdown",
      "source": [
        "### Descriptorsの表示"
      ],
      "metadata": {
        "id": "Ay8v94gZ8uLb"
      },
      "id": "Ay8v94gZ8uLb"
    },
    {
      "cell_type": "code",
      "execution_count": 6,
      "id": "8e2d8cda",
      "metadata": {
        "id": "8e2d8cda"
      },
      "outputs": [],
      "source": [
        "# 使用する化合物の名前\n",
        "compound_name = \"quercetine\""
      ]
    },
    {
      "cell_type": "code",
      "source": [
        "# 今回はpubchemで名前からsmilesに変換してRDKitのmolファイルに変換しています。\n",
        "import pubchempy as pcp\n",
        "pcp_compoud = pcp.get_compounds(compound_name, 'name')\n",
        "compound_smiles = pcp_compoud[0].isomeric_smiles\n",
        "compound_smiles"
      ],
      "metadata": {
        "colab": {
          "base_uri": "https://localhost:8080/",
          "height": 35
        },
        "id": "ECE3_a5SpoD8",
        "outputId": "bc389f70-013e-4589-a3bb-5a102f0fbbea"
      },
      "id": "ECE3_a5SpoD8",
      "execution_count": 7,
      "outputs": [
        {
          "output_type": "execute_result",
          "data": {
            "text/plain": [
              "'C1=CC(=C(C=C1C2=C(C(=O)C3=C(C=C(C=C3O2)O)O)O)O)O'"
            ],
            "application/vnd.google.colaboratory.intrinsic+json": {
              "type": "string"
            }
          },
          "metadata": {},
          "execution_count": 7
        }
      ]
    },
    {
      "cell_type": "code",
      "execution_count": 8,
      "id": "4a658963",
      "metadata": {
        "colab": {
          "base_uri": "https://localhost:8080/",
          "height": 167
        },
        "id": "4a658963",
        "outputId": "2ab6d3e6-7533-4a69-f8f2-c3a531b663e5"
      },
      "outputs": [
        {
          "output_type": "execute_result",
          "data": {
            "text/plain": [
              "<rdkit.Chem.rdchem.Mol at 0x78738abd0100>"
            ],
            "image/png": "[encoded data removed]"
          },
          "metadata": {},
          "execution_count": 8
        }
      ],
      "source": [
        "# RDKitで化合物をsmilesから読み込んで画面上に表示させます。\n",
        "from rdkit import Chem\n",
        "from rdkit.Chem.Draw import IPythonConsole\n",
        "\n",
        "mol = Chem.MolFromSmiles(compound_smiles)\n",
        "mol"
      ]
    },
    {
      "cell_type": "code",
      "execution_count": 9,
      "id": "96ec3c01",
      "metadata": {
        "colab": {
          "base_uri": "https://localhost:8080/"
        },
        "id": "96ec3c01",
        "outputId": "903137c4-a35d-4ece-9be6-91283bae5c0a"
      },
      "outputs": [
        {
          "output_type": "execute_result",
          "data": {
            "text/plain": [
              "1.9880000000000009"
            ]
          },
          "metadata": {},
          "execution_count": 9
        }
      ],
      "source": [
        "#読み込んだ分子のMolLogPを出力します。\n",
        "Descriptors.MolLogP(mol)"
      ]
    },
    {
      "cell_type": "code",
      "execution_count": 10,
      "id": "1a60ffc9",
      "metadata": {
        "colab": {
          "base_uri": "https://localhost:8080/"
        },
        "id": "1a60ffc9",
        "outputId": "5b1d4647-8720-4481-8272-31674464ae0f"
      },
      "outputs": [
        {
          "output_type": "execute_result",
          "data": {
            "text/plain": [
              "0.4341904402990982"
            ]
          },
          "metadata": {},
          "execution_count": 10
        }
      ],
      "source": [
        "#読み込んだ分子のqedを出力します。\n",
        "Descriptors.qed(mol)"
      ]
    },
    {
      "cell_type": "markdown",
      "id": "4af8788a",
      "metadata": {
        "id": "4af8788a"
      },
      "source": [
        "# 2. 複数分子を読み込んだデータフレームにDescriptorを追加する。"
      ]
    },
    {
      "cell_type": "code",
      "execution_count": 11,
      "id": "d865c842",
      "metadata": {
        "id": "d865c842"
      },
      "outputs": [],
      "source": [
        "from rdkit.Chem import AllChem, PandasTools"
      ]
    },
    {
      "cell_type": "code",
      "source": [
        "from google.colab import drive\n",
        "drive.mount('/content/drive')"
      ],
      "metadata": {
        "colab": {
          "base_uri": "https://localhost:8080/"
        },
        "id": "3e0d5L9gCdiH",
        "outputId": "3bee17dc-c49e-4f9c-f32f-25d7d12553ec"
      },
      "id": "3e0d5L9gCdiH",
      "execution_count": 12,
      "outputs": [
        {
          "output_type": "stream",
          "name": "stdout",
          "text": [
            "Drive already mounted at /content/drive; to attempt to forcibly remount, call drive.mount(\"/content/drive\", force_remount=True).\n"
          ]
        }
      ]
    },
    {
      "cell_type": "code",
      "execution_count": 13,
      "id": "615ec1de",
      "metadata": {
        "colab": {
          "base_uri": "https://localhost:8080/",
          "height": 267
        },
        "id": "615ec1de",
        "outputId": "9fdbeea3-7071-4a96-8ce2-a540abff894e"
      },
      "outputs": [
        {
          "output_type": "execute_result",
          "data": {
            "text/plain": [
              "           ID                                              ROMol\n",
              "116  87558032  <img data-content=\"rdkit/molecule\" src=\"data:i..."
            ],
            "text/html": [
              "\n",
              "  <div id=\"df-62f5597a-1397-4c2f-9bc7-be6b3a10c59d\" class=\"colab-df-container\">\n",
              "    <div>\n",
              "<style scoped>\n",
              "    .dataframe tbody tr th:only-of-type {\n",
              "        vertical-align: middle;\n",
              "    }\n",
              "\n",
              "    .dataframe tbody tr th {\n",
              "        vertical-align: top;\n",
              "    }\n",
              "\n",
              "    .dataframe thead th {\n",
              "        text-align: right;\n",
              "    }\n",
              "</style>\n",
              "<table border=\"1\" class=\"dataframe\">\n",
              "  <thead>\n",
              "    <tr style=\"text-align: right;\">\n",
              "      <th></th>\n",
              "      <th>ID</th>\n",
              "      <th>ROMol</th>\n",
              "    </tr>\n",
              "  </thead>\n",
              "  <tbody>\n",
              "    <tr>\n",
              "      <th>116</th>\n",
              "      <td>87558032</td>\n",
              "      <td style=\"text-align: center;\"><img data-content=\"rdkit/molecule\" src=\"data:image/png;base64,iVBORw0KGgoAAAANSUhEUgAAAMgAAADICAIAAAAiOjnJAAAABmJLR0QA/wD/AP+gvaeTAAAQHklEQVR4nO3de3RM5/oH8O9kciEhEolbCBoiOaFUKIKg1cVxHFUscdyCKovDKl2SsqjWLRQ9qEsdl6b0QrUo4naE0ESTNi45WhVB4xYal4TcyGUmz/ljJyOSGJnZ+5n4/dbzWfnD3jN59rtnvtmz97vfd+iICEJoza66GyD+f5JgCRYSLMFCgiVYSLAECwmWYCHBEiwkWIKFBEuwkGAJFhIswUKCJVhIsAQLCZZgIcESLCRYgoUES7CQYAkWEizBQoIlWEiwBAsJlmAhwRIsJFiChQRLsJBgCRYSLMFCgiVYSLAECwmWYCHBEiwkWIKFBEuwkGAJFhIswUKCJVhIsAQLCZZgIcESLCRYgoUES7CQYAkWEizBQoIlWEiwBAsJlmAhwRIsJFiChQRLsJBgCRYSLMFCgiVYSLAECwmWYCHBEiwkWIKFBEuwkGAJFhIswUKCJVhIsAQLCZZgIcESLCRYgoUES7CQYAkWEizBQoIlWEiwBAsJlmAhwRIsJFiChQRLsJBgCRYSLMFCgiVYSLAECwmWYGE2WEYjPv4YXbsiOBhDh+LGDVu1SvyfZ2/uwY0bkZSEEyfg6IioKAwahFOnYCcHOfF8OiJ65oNdu+Lf/0bbtiWLXbpg82a0aWObllV05MiRmJgYlUVmzpzp7u6uSXvU2Lt3b0JCgsoi8+fPd3Jy0qQ92iMzmjen+/efLA4ZQocPm3s+pyFDhrz66qvq97dHjx579+6trr0gouLi4n79+nXs2FH9vnTu3PnEiRPVuC9mmP0o9PLCrVvw8ChZvHkTTZqofzmsEB0dvWvXLmdn59mzZ9euXdvqOvHx8VFRUWlpaX369KlRo4aGLay6bdu2HTp0yM3N7aOPPlLThqNHjx47dmzq1KlJSUn29mbfx2phLnXr1tHw4VRURER0+DB17EjFxbbJe1kFBQV+fn4APvnkE5WlDAZD27ZtASxatEiTtlkqJyencePGACIjI1WWevToUfPmzQF89tlnmrRNW2aDZTDQvHnUpQt16UIDBtC1a0RE+/ZRz56Um2ub9hHR0qVLAfj6+ubn56uvFhcXp9PpataseU3ZHduaOXMmgA4dOhiNRvXVdu7cCaBu3br37t1TX01bZoNVkdFIgYEE0Ny5PO0pLz093dXVFcChQ4e0qhkSEgJg2LBhWhWsoitXrjg5OdnZ2f38889a1ezbty+AyZMna1VQK1ULVlYWRUWV/Ds+nnQ6cnKiS5f4mmUyatQoAG+99ZaGNW/evOni4gIgJiZGw7LP1b9/fwBvv/22svjbb7+tXbvWYDBYWufChQsrVqww/dvBwcHOzu7UqVNatlW1KgQrO5saNyYHB0pOLlkzahQBpOmbXan4+HidTufk5HRJ6xAvWLAAQOvWrYuUM0h+UVFRAFxdXW/fvq2see2116w423vw4EGtWrV0Ol1CQoKyZvr06QC6detWXB1nwM9StSPWxIkE0BtvlCymp1OdOgSQdh9PFRmNFBIyA8Bcho/dx48f+/j4uLi4REba4g+9oKCgVatWAFauXKms2bFjh3J6dL9sh07VzJ49G0BgYKByopaVldWoUSMA33zzjcbtVqFqwcrIIA8PAmjPnpI1S5cSQL6+pMUJdaU2bCCA/va3g3l5eRz1Dxz42cvrhrs73b3LUf4pixcvBhAQEFBYWEhlLug2bNhgRbW8vLxmzZoB2Lx5s7Lm888/B9CwYcOsrCwt261ClU/eV68mgHx86PFjIqKCAvLzI4BUdwFUKjOT6tUjgL77jqN8iX79CKCJExk3QURpaWm1atUCcLi0e3nu3LkA2rdvb8UJlmLbtm0A6tev/+DBAyIyGo2dO3cGMGvWLM3arU6Vg2UwULt2BNDChSVrDh0iICkw8M/SkwYNTZlCAAUH83acXbpETk5kZ0e//MK4leHDhwMYMmSIsvjHH3/UqFFDp9P9+OOPasr26tULwLRp05TF06dP29nZOTo6pqSkqG2xFizpboiLI52Oatakq1eVFRunTtXr9WPGjNG2TefPk7096fV07py2hSsRFkYABQVxJfjkyZNKt9nV0hdt4MCBAEaPHq2y8vnz5+3t7e3t7c+Vvkzjxo0D0KdPH5WVNWFhP9awYQQUl/YAmf744uLiNGxTr14E0LvvaljymbKzycuLAPryS+2LGwyGV155BcC8efOUNdHR0QBq165969Yt9fWnTJkC4PXXX1cW79y54+bmBmD//v3qi6tkYbBu3Ijr1OkVPz9TD1C5KxT1tm8ngDw8yPKrJStt2UIANWhADx9qXHndunUAmjZtqlx/FBYW+vv7A1i2bJkm9TMzMz09PQF8//33ypoVK1YAaNGihSZ3KdSwMFhECxcuLHuBY7pC2bRpk/rW5OVRs2YEkBbFqqq4mIKDCaDwcC3LZmRkKO/6rl27lDXLly8H0LJlSw3f9fXr1wPw9vbOzc0loqKiopdffhnAkiVLtNqEdSwOVn5+vq+vL4DVq1cra7Zv3172CkWNvDyaNYu6diWNDn9Vdfo0+fqSth8gkyZNAtC7d29lMT09vU6dOgAOHDig4VaMRqMymujDDz9U1hw7dgyAs7Pz9evXNdyQpSwOFhHt3bsXgLu7+93SLqByVygWOXKEpkwpSdLNm7Rgga1TpUhPp6FD6ebNksV//pOs7QogIkpKStLr9fb29r/++quyJjQ0FMCbb76puqXl/fTTTzqdrkaNGqmpqcqawYMHAxgxYoTa0t99R2PGUGgobdtGRHTixJPun+JimjLFzK9aEywi6tevH4AJEyYoixWvUKpu/Xpyd6eNG4mIfv/9Sfe+jV27Ru7uNHhwyWKzZlRYaGWp4uLinj17AnjvvfeUNcq9KUdHR83vTSmUO6qDBg1SFm/cuKHcDFU1DHDlShowgFJS6PJlGjyYFi+mTZvI1E9mNFL9+mZ+2+zQ5Ge7cuVKmzZtioqKEhISOnXqlJqaOmPGDDs7uxEjRjg7O5d7sr19d4Oh8tF5Li64cAFXr2LfPsTG4t49TJuG6GgrWqTW9esYPRoeHhg/Hn//O5o3R2Iizpx55vMdHZMLC69V+tDx48eXL19ev379lJQU5TKtT58+0dHRc+bMWbRoEUfjb9++7e/vn5OTc/r06Q4dOgCYN2/e/PnzW7ZsuXLlSr1eX/FX3B0cuhQVPbNicDD8/fHf/8LTEwAePoS/PxYuRGoqliwBgOJiNGqEO3eeWcHqQIeHhwMICgpas2bN6NGjzex2q1ZJAFX607IlrV9PEREUGUmhodV8xAoOptRU+stfSq4hYmIqb7Py06PHVDO77OLiEhERYSp+79698PDwXM5BbF988cXBgwdNi48ePXJ3d1cGFVYqqE0bc7uXmEiNGj21gRYtaMUK8vam4OCSH7NHLOuHtM6dO/frr79OS0sLCwsrLCzs3r27cuOionr1XH18Ki9i2vGxYxEZifh4q5ujjZdewvDh+PhjAKhbF3/9q5lnBjg7V/7wxYsXr127Fhsbq/TFAPD09Fy2bJn2zS1j7NixZRcTExMfPnyYl5fXu3dvBweHis8PaNjQ3EBzT08UFj61JjcXNWti5EhERAAAEby8zDVIzV/JuXPnBgwYACA0NNTqIsoRi4jOnaMmTar5iEVE+fnUrh3VqWP9Odb9+/c9PDwAVNesDYPB0K5dOwALFiywvkrfvk8G4UVHU69eFp1jqQqWJv3IpmAR0fTp1R8sIjpyhADrg0VEn376KQAfH5/Hyj1721qzZg3KdMxaKSWFAgNp3DgaP57at6cLF2wUrIKCAqUfefny5VYXIaKsLDL1f+XnU0ICbdmipp41cnLoX/+isoPgr15VdfewGmdtZGRkKMfLPaYxTlYzGCglhZKTS7pesrIoI+PJo6V3PytlfbCUkwZt+5Hv3iUXF3JwoN9/16pklcyaRQD94x9a1oyNjdXpdM7OzjaetTFx4kQAb1TXkb+UlcEy9SOXvRLRxKRJBFBpf7UtXLlSMnhGuykOJYYOHQrbzto4e/asXq93cHBINo0jryZWBkvpXxg4cKC2rSGijAzy9CSAdu/WvHbl+vcngEqnOGjJNGvj+PHj2levoLi4ODg4GEBYWJgNNmeeNcHim+OgWLuWAGralHjGJD8lKooAcnUlhtGKRLadtbF161YADRo0eKj5OA3LWRwso9HYqVMnAB988AFHg6jMYNX585m2UKKggFq1IoBKpzhoz3TPfs2aNVzbICKi7OxsLy8vAFu3bmXdUBVZHKwNGzYAaNKkCWs/8smT5Qarsli8mAAKCFDVs/BcP/zwA56+Z88hLCwMQFBQ0AsyCcyyYGVmZtarVw/Ajh07mBpkMnw4ARQSomKMgVlpaYZatQig6GimLTyh3LOfyDZt4/Lly8oc619YR+9bwrJgTZ06FUD37t1t8GeRlkbduv3npZf8jh49ylF/5MiR3bqNHDfuT47i5Vy6dEl54xMTEznqlxts8iKwIFjK2Bi9Xm/F2BjrREREoMxoVQ1VnOPAbcaMGUwfVXv27LHBR62lLAiWMprvXdtMciCiMhOIV61apWHZinMcbCA7O1uZr/zl09M2kpOT21iiXFdCxQG9L4iqBuvbb78F4OHhYcWUcDX27dsHwNXV9c8/NfvMUuY4eHt7M82xfpYtW7ZU7A44e/asuTECFYSEhJStqUxBaN26teYHdZWqNNDv0aNHAQEB169f37hx44QJEyx6IdTr37//wYMHx48fv3nzZvXVMjMz/fz87t+/v2vXLmUIr80QUc+ePePi4sLDw02jaPLz8y9fvlz1Im5ubt7e3sq/09LS/P398/LyYmJilK8YeYFUJX1z5swBEBgYaPWUcDW0veSZPHkyyszFs7EzZ84o85UvXryovpryRV/ljmEviOcHyzQrNTY21gYNqtT7778PoEOHDtnZ2bkqJCYmKmPzTXMcbO+dd94B0Lt3bzU7kpubGx0dXY1fTfhczw/W1q1bHRwc1AzlUy8nJ8fLy0vN19qa6PX66dOnV+O+3L17193dXZN90el0C01fpfGCqdI51sWLF93c3Bo2bKj+tbDamTNndu/evWrVKpV1du7c2bVrV2VoRnVJTEz86quvIiMjVdbZv39/UFBQdX39s3lWztIRwjz5/0sECwmWYCHBEiwkWIKFBEuwkGAJFhIswUKCJVhIsAQLCZZgIcESLCRYgoUES7CQYAkWEizBQoIlWEiwBAsJlmAhwRIsJFiChQRLsJBgCRYSLMFCgiVYSLAECwmWYCHBEiwkWIKFBEuwkGAJFhIswUKCJVhIsAQLCZZgIcESLCRYgoUES7CQYAkWEizBQoIlWEiwBAsJlmAhwRIsJFiChQRLsJBgCRYSLMFCgiVYSLAECwmWYCHBEiwkWIKFBEuwkGAJFhIswUKCJVhIsAQLCZZgIcESLCRYgoUES7CQYAkWEizBQoIlWEiwBAsJlmAhwRIsJFiChQRLsJBgCRYSLMFCgiVYSLAECwmWYCHBEiwkWIKFBEuw+B/FHKBpf8H8kQAAAQd6VFh0cmRraXRQS0wgcmRraXQgMjAyMi4wMy41AAB4nHu/b+09BiDgZYAARiAWAGJBIG5g5GDQANLMTBwMGSCakZEdIsAMo9kcwDQLG0MCkGZiwkk7gA1gZkQwGKA6YSZgUQHSy8jMzcCtwcTIo8DEosDEygA0Emg7MwcDM7cCC2cGEwtXAis7AxsHAydvAhdfBhM3PwMPbwYTD1+CCBMbMwcbEys7GycvDx8Xi/gpqP/AAORJBtVSKQcQfSBay1G1dJY9iJ3JMN8Bxt7lyQFnz8g7gyTe4QDTC2LDDBXfbgoXB7Fh4m6qj+HiIDZMvGSrqT3MTKGlwnA3BHlyOMLUg9gMWIAYAIiFMcVOj6iPAAABVXpUWHRNT0wgcmRraXQgMjAyMi4wMy41AAB4nIWUXW6DMAzH3zmFT2DFzqcfW6imaSpIG9sd9r77qw5bG1dMIRApdn42wf4rJcdYnOcB6nif3r5/4DF4GtTvOq+IwJd3zg1XqAs4X15eZxjX0/nuGZfPef0ASkBZY/R5Zk/rcr17CBZw6LYBjIF80MXD84hk5chhCrnuE7JL+V/QwwwBJZXS54JyjMQS+1yEERL6Ug64pFxAjnLwI9lybXvHFeUYixffzyeW6+Qj7QtkdFIOEhJZsJeRFXSYleyXhryCgsz5CAwKFoyU5eCM0YK9M6btjLv9HXiZpydd/ir1vMxTUyrrJG6K3Dy+CY90xqavaqYmo2rmphZSojRRVFNa76vZPiVqaQLby81BpmekOYtpDWlSMR0INYqCKXXYwqKpKW2ByRQv1FATlf880dbNVqna97tA18MNtrDRl8iota0AAACTelRYdFNNSUxFUyByZGtpdCAyMDIyLjAzLjUAAHicTY47DgMxCESvktKWEAL8AbRKRb97CK6xh88WiZ3yaXgzRJT3VU+OOEtKZparZkqN4NddCAgOQiU3YBSa+iAIdm4dDkEWHysQtOZtpR1l+B/5tF0ysZltVfFZ2KrhYN2uo4hulwln1774e02rhn7jtJ4iqPcHBGgwkfoASgEAAAAASUVORK5CYII=\" alt=\"Mol\"/></td>\n",
              "    </tr>\n",
              "  </tbody>\n",
              "</table>\n",
              "</div>\n",
              "    <div class=\"colab-df-buttons\">\n",
              "\n",
              "  <div class=\"colab-df-container\">\n",
              "    <button class=\"colab-df-convert\" onclick=\"convertToInteractive('df-62f5597a-1397-4c2f-9bc7-be6b3a10c59d')\"\n",
              "            title=\"Convert this dataframe to an interactive table.\"\n",
              "            style=\"display:none;\">\n",
              "\n",
              "  <svg xmlns=\"http://www.w3.org/2000/svg\" height=\"24px\" viewBox=\"0 -960 960 960\">\n",
              "    <path d=\"M120-120v-720h720v720H120Zm60-500h600v-160H180v160Zm220 220h160v-160H400v160Zm0 220h160v-160H400v160ZM180-400h160v-160H180v160Zm440 0h160v-160H620v160ZM180-180h160v-160H180v160Zm440 0h160v-160H620v160Z\"/>\n",
              "  </svg>\n",
              "    </button>\n",
              "\n",
              "  <style>\n",
              "    .colab-df-container {\n",
              "      display:flex;\n",
              "      gap: 12px;\n",
              "    }\n",
              "\n",
              "    .colab-df-convert {\n",
              "      background-color: #E8F0FE;\n",
              "      border: none;\n",
              "      border-radius: 50%;\n",
              "      cursor: pointer;\n",
              "      display: none;\n",
              "      fill: #1967D2;\n",
              "      height: 32px;\n",
              "      padding: 0 0 0 0;\n",
              "      width: 32px;\n",
              "    }\n",
              "\n",
              "    .colab-df-convert:hover {\n",
              "      background-color: #E2EBFA;\n",
              "      box-shadow: 0px 1px 2px rgba(60, 64, 67, 0.3), 0px 1px 3px 1px rgba(60, 64, 67, 0.15);\n",
              "      fill: #174EA6;\n",
              "    }\n",
              "\n",
              "    .colab-df-buttons div {\n",
              "      margin-bottom: 4px;\n",
              "    }\n",
              "\n",
              "    [theme=dark] .colab-df-convert {\n",
              "      background-color: #3B4455;\n",
              "      fill: #D2E3FC;\n",
              "    }\n",
              "\n",
              "    [theme=dark] .colab-df-convert:hover {\n",
              "      background-color: #434B5C;\n",
              "      box-shadow: 0px 1px 3px 1px rgba(0, 0, 0, 0.15);\n",
              "      filter: drop-shadow(0px 1px 2px rgba(0, 0, 0, 0.3));\n",
              "      fill: #FFFFFF;\n",
              "    }\n",
              "  </style>\n",
              "\n",
              "    <script>\n",
              "      const buttonEl =\n",
              "        document.querySelector('#df-62f5597a-1397-4c2f-9bc7-be6b3a10c59d button.colab-df-convert');\n",
              "      buttonEl.style.display =\n",
              "        google.colab.kernel.accessAllowed ? 'block' : 'none';\n",
              "\n",
              "      async function convertToInteractive(key) {\n",
              "        const element = document.querySelector('#df-62f5597a-1397-4c2f-9bc7-be6b3a10c59d');\n",
              "        const dataTable =\n",
              "          await google.colab.kernel.invokeFunction('convertToInteractive',\n",
              "                                                    [key], {});\n",
              "        if (!dataTable) return;\n",
              "\n",
              "        const docLinkHtml = 'Like what you see? Visit the ' +\n",
              "          '<a target=\"_blank\" href=https://colab.research.google.com/notebooks/data_table.ipynb>data table notebook</a>'\n",
              "          + ' to learn more about interactive tables.';\n",
              "        element.innerHTML = '';\n",
              "        dataTable['output_type'] = 'display_data';\n",
              "        await google.colab.output.renderOutput(dataTable, element);\n",
              "        const docLink = document.createElement('div');\n",
              "        docLink.innerHTML = docLinkHtml;\n",
              "        element.appendChild(docLink);\n",
              "      }\n",
              "    </script>\n",
              "  </div>\n",
              "\n",
              "    </div>\n",
              "  </div>\n"
            ]
          },
          "metadata": {},
          "execution_count": 13
        }
      ],
      "source": [
        "df = PandasTools.LoadSDF('/content/drive/MyDrive/data/PubChem_TCI_phenol_records.sdf')\n",
        "df = df[['ID','ROMol']]\n",
        "df.tail(1)"
      ]
    },
    {
      "cell_type": "code",
      "source": [
        "df[\"smiles\"] = df[\"ROMol\"].map(Chem.MolToSmiles)"
      ],
      "metadata": {
        "id": "Coaf9AAQeGHu"
      },
      "id": "Coaf9AAQeGHu",
      "execution_count": 14,
      "outputs": []
    },
    {
      "cell_type": "code",
      "execution_count": 15,
      "id": "4d3fdef0",
      "metadata": {
        "colab": {
          "base_uri": "https://localhost:8080/",
          "height": 267
        },
        "id": "4d3fdef0",
        "outputId": "d0492ad0-d587-4c61-8d97-381d57802720"
      },
      "outputs": [
        {
          "output_type": "execute_result",
          "data": {
            "text/plain": [
              "           ID                                              ROMol  \\\n",
              "116  87558032  <img data-content=\"rdkit/molecule\" src=\"data:i...   \n",
              "\n",
              "                          smiles  MolLogP       qed  \n",
              "116  CC(=O)N1CCN(c2ccc(O)cc2)CC1   1.0607  0.769321  "
            ],
            "text/html": [
              "\n",
              "  <div id=\"df-a798915d-9e1b-40ae-9b66-8107a154b234\" class=\"colab-df-container\">\n",
              "    <div>\n",
              "<style scoped>\n",
              "    .dataframe tbody tr th:only-of-type {\n",
              "        vertical-align: middle;\n",
              "    }\n",
              "\n",
              "    .dataframe tbody tr th {\n",
              "        vertical-align: top;\n",
              "    }\n",
              "\n",
              "    .dataframe thead th {\n",
              "        text-align: right;\n",
              "    }\n",
              "</style>\n",
              "<table border=\"1\" class=\"dataframe\">\n",
              "  <thead>\n",
              "    <tr style=\"text-align: right;\">\n",
              "      <th></th>\n",
              "      <th>ID</th>\n",
              "      <th>ROMol</th>\n",
              "      <th>smiles</th>\n",
              "      <th>MolLogP</th>\n",
              "      <th>qed</th>\n",
              "    </tr>\n",
              "  </thead>\n",
              "  <tbody>\n",
              "    <tr>\n",
              "      <th>116</th>\n",
              "      <td>87558032</td>\n",
              "      <td style=\"text-align: center;\"><img data-content=\"rdkit/molecule\" src=\"data:image/png;base64,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\" alt=\"Mol\"/></td>\n",
              "      <td>CC(=O)N1CCN(c2ccc(O)cc2)CC1</td>\n",
              "      <td>1.0607</td>\n",
              "      <td>0.769321</td>\n",
              "    </tr>\n",
              "  </tbody>\n",
              "</table>\n",
              "</div>\n",
              "    <div class=\"colab-df-buttons\">\n",
              "\n",
              "  <div class=\"colab-df-container\">\n",
              "    <button class=\"colab-df-convert\" onclick=\"convertToInteractive('df-a798915d-9e1b-40ae-9b66-8107a154b234')\"\n",
              "            title=\"Convert this dataframe to an interactive table.\"\n",
              "            style=\"display:none;\">\n",
              "\n",
              "  <svg xmlns=\"http://www.w3.org/2000/svg\" height=\"24px\" viewBox=\"0 -960 960 960\">\n",
              "    <path d=\"M120-120v-720h720v720H120Zm60-500h600v-160H180v160Zm220 220h160v-160H400v160Zm0 220h160v-160H400v160ZM180-400h160v-160H180v160Zm440 0h160v-160H620v160ZM180-180h160v-160H180v160Zm440 0h160v-160H620v160Z\"/>\n",
              "  </svg>\n",
              "    </button>\n",
              "\n",
              "  <style>\n",
              "    .colab-df-container {\n",
              "      display:flex;\n",
              "      gap: 12px;\n",
              "    }\n",
              "\n",
              "    .colab-df-convert {\n",
              "      background-color: #E8F0FE;\n",
              "      border: none;\n",
              "      border-radius: 50%;\n",
              "      cursor: pointer;\n",
              "      display: none;\n",
              "      fill: #1967D2;\n",
              "      height: 32px;\n",
              "      padding: 0 0 0 0;\n",
              "      width: 32px;\n",
              "    }\n",
              "\n",
              "    .colab-df-convert:hover {\n",
              "      background-color: #E2EBFA;\n",
              "      box-shadow: 0px 1px 2px rgba(60, 64, 67, 0.3), 0px 1px 3px 1px rgba(60, 64, 67, 0.15);\n",
              "      fill: #174EA6;\n",
              "    }\n",
              "\n",
              "    .colab-df-buttons div {\n",
              "      margin-bottom: 4px;\n",
              "    }\n",
              "\n",
              "    [theme=dark] .colab-df-convert {\n",
              "      background-color: #3B4455;\n",
              "      fill: #D2E3FC;\n",
              "    }\n",
              "\n",
              "    [theme=dark] .colab-df-convert:hover {\n",
              "      background-color: #434B5C;\n",
              "      box-shadow: 0px 1px 3px 1px rgba(0, 0, 0, 0.15);\n",
              "      filter: drop-shadow(0px 1px 2px rgba(0, 0, 0, 0.3));\n",
              "      fill: #FFFFFF;\n",
              "    }\n",
              "  </style>\n",
              "\n",
              "    <script>\n",
              "      const buttonEl =\n",
              "        document.querySelector('#df-a798915d-9e1b-40ae-9b66-8107a154b234 button.colab-df-convert');\n",
              "      buttonEl.style.display =\n",
              "        google.colab.kernel.accessAllowed ? 'block' : 'none';\n",
              "\n",
              "      async function convertToInteractive(key) {\n",
              "        const element = document.querySelector('#df-a798915d-9e1b-40ae-9b66-8107a154b234');\n",
              "        const dataTable =\n",
              "          await google.colab.kernel.invokeFunction('convertToInteractive',\n",
              "                                                    [key], {});\n",
              "        if (!dataTable) return;\n",
              "\n",
              "        const docLinkHtml = 'Like what you see? Visit the ' +\n",
              "          '<a target=\"_blank\" href=https://colab.research.google.com/notebooks/data_table.ipynb>data table notebook</a>'\n",
              "          + ' to learn more about interactive tables.';\n",
              "        element.innerHTML = '';\n",
              "        dataTable['output_type'] = 'display_data';\n",
              "        await google.colab.output.renderOutput(dataTable, element);\n",
              "        const docLink = document.createElement('div');\n",
              "        docLink.innerHTML = docLinkHtml;\n",
              "        element.appendChild(docLink);\n",
              "      }\n",
              "    </script>\n",
              "  </div>\n",
              "\n",
              "    </div>\n",
              "  </div>\n"
            ]
          },
          "metadata": {},
          "execution_count": 15
        }
      ],
      "source": [
        "df[\"MolLogP\"] = df[\"ROMol\"].map(Descriptors.MolLogP)\n",
        "df[\"qed\"] = df[\"ROMol\"].map(Descriptors.qed)\n",
        "df.tail(1)"
      ]
    },
    {
      "cell_type": "code",
      "execution_count": 16,
      "id": "12f58eb7",
      "metadata": {
        "colab": {
          "base_uri": "https://localhost:8080/",
          "height": 469
        },
        "id": "12f58eb7",
        "outputId": "ee762dd1-4afe-4506-ac10-aeb0f4b604e4"
      },
      "outputs": [
        {
          "output_type": "execute_result",
          "data": {
            "text/plain": [
              "array([[<Axes: title={'center': 'MolLogP'}>]], dtype=object)"
            ]
          },
          "metadata": {},
          "execution_count": 16
        },
        {
          "output_type": "display_data",
          "data": {
            "text/plain": [
              "<Figure size 640x480 with 1 Axes>"
            ],
            "image/png": "[encoded data removed]"
          },
          "metadata": {}
        }
      ],
      "source": [
        "df.hist('MolLogP')"
      ]
    },
    {
      "cell_type": "code",
      "execution_count": 17,
      "id": "359c8991",
      "metadata": {
        "colab": {
          "base_uri": "https://localhost:8080/",
          "height": 468
        },
        "id": "359c8991",
        "outputId": "be3627c9-62e7-4d2b-9f0d-c054185acdbc"
      },
      "outputs": [
        {
          "output_type": "execute_result",
          "data": {
            "text/plain": [
              "<Axes: xlabel='MolLogP', ylabel='qed'>"
            ]
          },
          "metadata": {},
          "execution_count": 17
        },
        {
          "output_type": "display_data",
          "data": {
            "text/plain": [
              "<Figure size 640x480 with 1 Axes>"
            ],
            "image/png": "[encoded data removed]"
          },
          "metadata": {}
        }
      ],
      "source": [
        "df.plot(kind='scatter', x='MolLogP', y='qed')"
      ]
    },
    {
      "cell_type": "markdown",
      "id": "9c7b0ccc",
      "metadata": {
        "id": "9c7b0ccc"
      },
      "source": [
        "# 3. 複数分子を読み込んだデータフレームにDescriptorを全て追加する。"
      ]
    },
    {
      "cell_type": "code",
      "execution_count": 18,
      "id": "b46a8fb4",
      "metadata": {
        "colab": {
          "base_uri": "https://localhost:8080/"
        },
        "id": "b46a8fb4",
        "outputId": "04d55161-7ef6-4ec6-f617-1d383fe3bd0d"
      },
      "outputs": [
        {
          "output_type": "stream",
          "name": "stderr",
          "text": [
            "<ipython-input-18-44f6fa84814c>:2: PerformanceWarning: DataFrame is highly fragmented.  This is usually the result of calling `frame.insert` many times, which has poor performance.  Consider joining all columns at once using pd.concat(axis=1) instead. To get a de-fragmented frame, use `newframe = frame.copy()`\n",
            "  df[i] = df[\"ROMol\"].map(j)\n",
            "<ipython-input-18-44f6fa84814c>:2: PerformanceWarning: DataFrame is highly fragmented.  This is usually the result of calling `frame.insert` many times, which has poor performance.  Consider joining all columns at once using pd.concat(axis=1) instead. To get a de-fragmented frame, use `newframe = frame.copy()`\n",
            "  df[i] = df[\"ROMol\"].map(j)\n",
            "<ipython-input-18-44f6fa84814c>:2: PerformanceWarning: DataFrame is highly fragmented.  This is usually the result of calling `frame.insert` many times, which has poor performance.  Consider joining all columns at once using pd.concat(axis=1) instead. To get a de-fragmented frame, use `newframe = frame.copy()`\n",
            "  df[i] = df[\"ROMol\"].map(j)\n",
            "<ipython-input-18-44f6fa84814c>:2: PerformanceWarning: DataFrame is highly fragmented.  This is usually the result of calling `frame.insert` many times, which has poor performance.  Consider joining all columns at once using pd.concat(axis=1) instead. To get a de-fragmented frame, use `newframe = frame.copy()`\n",
            "  df[i] = df[\"ROMol\"].map(j)\n",
            "<ipython-input-18-44f6fa84814c>:2: PerformanceWarning: DataFrame is highly fragmented.  This is usually the result of calling `frame.insert` many times, which has poor performance.  Consider joining all columns at once using pd.concat(axis=1) instead. To get a de-fragmented frame, use `newframe = frame.copy()`\n",
            "  df[i] = df[\"ROMol\"].map(j)\n",
            "<ipython-input-18-44f6fa84814c>:2: PerformanceWarning: DataFrame is highly fragmented.  This is usually the result of calling `frame.insert` many times, which has poor performance.  Consider joining all columns at once using pd.concat(axis=1) instead. To get a de-fragmented frame, use `newframe = frame.copy()`\n",
            "  df[i] = df[\"ROMol\"].map(j)\n",
            "<ipython-input-18-44f6fa84814c>:2: PerformanceWarning: DataFrame is highly fragmented.  This is usually the result of calling `frame.insert` many times, which has poor performance.  Consider joining all columns at once using pd.concat(axis=1) instead. To get a de-fragmented frame, use `newframe = frame.copy()`\n",
            "  df[i] = df[\"ROMol\"].map(j)\n",
            "<ipython-input-18-44f6fa84814c>:2: PerformanceWarning: DataFrame is highly fragmented.  This is usually the result of calling `frame.insert` many times, which has poor performance.  Consider joining all columns at once using pd.concat(axis=1) instead. To get a de-fragmented frame, use `newframe = frame.copy()`\n",
            "  df[i] = df[\"ROMol\"].map(j)\n",
            "<ipython-input-18-44f6fa84814c>:2: PerformanceWarning: DataFrame is highly fragmented.  This is usually the result of calling `frame.insert` many times, which has poor performance.  Consider joining all columns at once using pd.concat(axis=1) instead. To get a de-fragmented frame, use `newframe = frame.copy()`\n",
            "  df[i] = df[\"ROMol\"].map(j)\n",
            "<ipython-input-18-44f6fa84814c>:2: PerformanceWarning: DataFrame is highly fragmented.  This is usually the result of calling `frame.insert` many times, which has poor performance.  Consider joining all columns at once using pd.concat(axis=1) instead. To get a de-fragmented frame, use `newframe = frame.copy()`\n",
            "  df[i] = df[\"ROMol\"].map(j)\n",
            "<ipython-input-18-44f6fa84814c>:2: PerformanceWarning: DataFrame is highly fragmented.  This is usually the result of calling `frame.insert` many times, which has poor performance.  Consider joining all columns at once using pd.concat(axis=1) instead. To get a de-fragmented frame, use `newframe = frame.copy()`\n",
            "  df[i] = df[\"ROMol\"].map(j)\n",
            "<ipython-input-18-44f6fa84814c>:2: PerformanceWarning: DataFrame is highly fragmented.  This is usually the result of calling `frame.insert` many times, which has poor performance.  Consider joining all columns at once using pd.concat(axis=1) instead. To get a de-fragmented frame, use `newframe = frame.copy()`\n",
            "  df[i] = df[\"ROMol\"].map(j)\n",
            "<ipython-input-18-44f6fa84814c>:2: PerformanceWarning: DataFrame is highly fragmented.  This is usually the result of calling `frame.insert` many times, which has poor performance.  Consider joining all columns at once using pd.concat(axis=1) instead. To get a de-fragmented frame, use `newframe = frame.copy()`\n",
            "  df[i] = df[\"ROMol\"].map(j)\n",
            "<ipython-input-18-44f6fa84814c>:2: PerformanceWarning: DataFrame is highly fragmented.  This is usually the result of calling `frame.insert` many times, which has poor performance.  Consider joining all columns at once using pd.concat(axis=1) instead. To get a de-fragmented frame, use `newframe = frame.copy()`\n",
            "  df[i] = df[\"ROMol\"].map(j)\n",
            "<ipython-input-18-44f6fa84814c>:2: PerformanceWarning: DataFrame is highly fragmented.  This is usually the result of calling `frame.insert` many times, which has poor performance.  Consider joining all columns at once using pd.concat(axis=1) instead. To get a de-fragmented frame, use `newframe = frame.copy()`\n",
            "  df[i] = df[\"ROMol\"].map(j)\n",
            "<ipython-input-18-44f6fa84814c>:2: PerformanceWarning: DataFrame is highly fragmented.  This is usually the result of calling `frame.insert` many times, which has poor performance.  Consider joining all columns at once using pd.concat(axis=1) instead. To get a de-fragmented frame, use `newframe = frame.copy()`\n",
            "  df[i] = df[\"ROMol\"].map(j)\n",
            "<ipython-input-18-44f6fa84814c>:2: PerformanceWarning: DataFrame is highly fragmented.  This is usually the result of calling `frame.insert` many times, which has poor performance.  Consider joining all columns at once using pd.concat(axis=1) instead. To get a de-fragmented frame, use `newframe = frame.copy()`\n",
            "  df[i] = df[\"ROMol\"].map(j)\n",
            "<ipython-input-18-44f6fa84814c>:2: PerformanceWarning: DataFrame is highly fragmented.  This is usually the result of calling `frame.insert` many times, which has poor performance.  Consider joining all columns at once using pd.concat(axis=1) instead. To get a de-fragmented frame, use `newframe = frame.copy()`\n",
            "  df[i] = df[\"ROMol\"].map(j)\n",
            "<ipython-input-18-44f6fa84814c>:2: PerformanceWarning: DataFrame is highly fragmented.  This is usually the result of calling `frame.insert` many times, which has poor performance.  Consider joining all columns at once using pd.concat(axis=1) instead. To get a de-fragmented frame, use `newframe = frame.copy()`\n",
            "  df[i] = df[\"ROMol\"].map(j)\n",
            "<ipython-input-18-44f6fa84814c>:2: PerformanceWarning: DataFrame is highly fragmented.  This is usually the result of calling `frame.insert` many times, which has poor performance.  Consider joining all columns at once using pd.concat(axis=1) instead. To get a de-fragmented frame, use `newframe = frame.copy()`\n",
            "  df[i] = df[\"ROMol\"].map(j)\n",
            "<ipython-input-18-44f6fa84814c>:2: PerformanceWarning: DataFrame is highly fragmented.  This is usually the result of calling `frame.insert` many times, which has poor performance.  Consider joining all columns at once using pd.concat(axis=1) instead. To get a de-fragmented frame, use `newframe = frame.copy()`\n",
            "  df[i] = df[\"ROMol\"].map(j)\n",
            "<ipython-input-18-44f6fa84814c>:2: PerformanceWarning: DataFrame is highly fragmented.  This is usually the result of calling `frame.insert` many times, which has poor performance.  Consider joining all columns at once using pd.concat(axis=1) instead. To get a de-fragmented frame, use `newframe = frame.copy()`\n",
            "  df[i] = df[\"ROMol\"].map(j)\n",
            "<ipython-input-18-44f6fa84814c>:2: PerformanceWarning: DataFrame is highly fragmented.  This is usually the result of calling `frame.insert` many times, which has poor performance.  Consider joining all columns at once using pd.concat(axis=1) instead. To get a de-fragmented frame, use `newframe = frame.copy()`\n",
            "  df[i] = df[\"ROMol\"].map(j)\n",
            "<ipython-input-18-44f6fa84814c>:2: PerformanceWarning: DataFrame is highly fragmented.  This is usually the result of calling `frame.insert` many times, which has poor performance.  Consider joining all columns at once using pd.concat(axis=1) instead. To get a de-fragmented frame, use `newframe = frame.copy()`\n",
            "  df[i] = df[\"ROMol\"].map(j)\n",
            "<ipython-input-18-44f6fa84814c>:2: PerformanceWarning: DataFrame is highly fragmented.  This is usually the result of calling `frame.insert` many times, which has poor performance.  Consider joining all columns at once using pd.concat(axis=1) instead. To get a de-fragmented frame, use `newframe = frame.copy()`\n",
            "  df[i] = df[\"ROMol\"].map(j)\n",
            "<ipython-input-18-44f6fa84814c>:2: PerformanceWarning: DataFrame is highly fragmented.  This is usually the result of calling `frame.insert` many times, which has poor performance.  Consider joining all columns at once using pd.concat(axis=1) instead. To get a de-fragmented frame, use `newframe = frame.copy()`\n",
            "  df[i] = df[\"ROMol\"].map(j)\n",
            "<ipython-input-18-44f6fa84814c>:2: PerformanceWarning: DataFrame is highly fragmented.  This is usually the result of calling `frame.insert` many times, which has poor performance.  Consider joining all columns at once using pd.concat(axis=1) instead. To get a de-fragmented frame, use `newframe = frame.copy()`\n",
            "  df[i] = df[\"ROMol\"].map(j)\n",
            "<ipython-input-18-44f6fa84814c>:2: PerformanceWarning: DataFrame is highly fragmented.  This is usually the result of calling `frame.insert` many times, which has poor performance.  Consider joining all columns at once using pd.concat(axis=1) instead. To get a de-fragmented frame, use `newframe = frame.copy()`\n",
            "  df[i] = df[\"ROMol\"].map(j)\n",
            "<ipython-input-18-44f6fa84814c>:2: PerformanceWarning: DataFrame is highly fragmented.  This is usually the result of calling `frame.insert` many times, which has poor performance.  Consider joining all columns at once using pd.concat(axis=1) instead. To get a de-fragmented frame, use `newframe = frame.copy()`\n",
            "  df[i] = df[\"ROMol\"].map(j)\n",
            "<ipython-input-18-44f6fa84814c>:2: PerformanceWarning: DataFrame is highly fragmented.  This is usually the result of calling `frame.insert` many times, which has poor performance.  Consider joining all columns at once using pd.concat(axis=1) instead. To get a de-fragmented frame, use `newframe = frame.copy()`\n",
            "  df[i] = df[\"ROMol\"].map(j)\n",
            "<ipython-input-18-44f6fa84814c>:2: PerformanceWarning: DataFrame is highly fragmented.  This is usually the result of calling `frame.insert` many times, which has poor performance.  Consider joining all columns at once using pd.concat(axis=1) instead. To get a de-fragmented frame, use `newframe = frame.copy()`\n",
            "  df[i] = df[\"ROMol\"].map(j)\n",
            "<ipython-input-18-44f6fa84814c>:2: PerformanceWarning: DataFrame is highly fragmented.  This is usually the result of calling `frame.insert` many times, which has poor performance.  Consider joining all columns at once using pd.concat(axis=1) instead. To get a de-fragmented frame, use `newframe = frame.copy()`\n",
            "  df[i] = df[\"ROMol\"].map(j)\n",
            "<ipython-input-18-44f6fa84814c>:2: PerformanceWarning: DataFrame is highly fragmented.  This is usually the result of calling `frame.insert` many times, which has poor performance.  Consider joining all columns at once using pd.concat(axis=1) instead. To get a de-fragmented frame, use `newframe = frame.copy()`\n",
            "  df[i] = df[\"ROMol\"].map(j)\n",
            "<ipython-input-18-44f6fa84814c>:2: PerformanceWarning: DataFrame is highly fragmented.  This is usually the result of calling `frame.insert` many times, which has poor performance.  Consider joining all columns at once using pd.concat(axis=1) instead. To get a de-fragmented frame, use `newframe = frame.copy()`\n",
            "  df[i] = df[\"ROMol\"].map(j)\n",
            "<ipython-input-18-44f6fa84814c>:2: PerformanceWarning: DataFrame is highly fragmented.  This is usually the result of calling `frame.insert` many times, which has poor performance.  Consider joining all columns at once using pd.concat(axis=1) instead. To get a de-fragmented frame, use `newframe = frame.copy()`\n",
            "  df[i] = df[\"ROMol\"].map(j)\n",
            "<ipython-input-18-44f6fa84814c>:2: PerformanceWarning: DataFrame is highly fragmented.  This is usually the result of calling `frame.insert` many times, which has poor performance.  Consider joining all columns at once using pd.concat(axis=1) instead. To get a de-fragmented frame, use `newframe = frame.copy()`\n",
            "  df[i] = df[\"ROMol\"].map(j)\n",
            "<ipython-input-18-44f6fa84814c>:2: PerformanceWarning: DataFrame is highly fragmented.  This is usually the result of calling `frame.insert` many times, which has poor performance.  Consider joining all columns at once using pd.concat(axis=1) instead. To get a de-fragmented frame, use `newframe = frame.copy()`\n",
            "  df[i] = df[\"ROMol\"].map(j)\n",
            "<ipython-input-18-44f6fa84814c>:2: PerformanceWarning: DataFrame is highly fragmented.  This is usually the result of calling `frame.insert` many times, which has poor performance.  Consider joining all columns at once using pd.concat(axis=1) instead. To get a de-fragmented frame, use `newframe = frame.copy()`\n",
            "  df[i] = df[\"ROMol\"].map(j)\n",
            "<ipython-input-18-44f6fa84814c>:2: PerformanceWarning: DataFrame is highly fragmented.  This is usually the result of calling `frame.insert` many times, which has poor performance.  Consider joining all columns at once using pd.concat(axis=1) instead. To get a de-fragmented frame, use `newframe = frame.copy()`\n",
            "  df[i] = df[\"ROMol\"].map(j)\n",
            "<ipython-input-18-44f6fa84814c>:2: PerformanceWarning: DataFrame is highly fragmented.  This is usually the result of calling `frame.insert` many times, which has poor performance.  Consider joining all columns at once using pd.concat(axis=1) instead. To get a de-fragmented frame, use `newframe = frame.copy()`\n",
            "  df[i] = df[\"ROMol\"].map(j)\n",
            "<ipython-input-18-44f6fa84814c>:2: PerformanceWarning: DataFrame is highly fragmented.  This is usually the result of calling `frame.insert` many times, which has poor performance.  Consider joining all columns at once using pd.concat(axis=1) instead. To get a de-fragmented frame, use `newframe = frame.copy()`\n",
            "  df[i] = df[\"ROMol\"].map(j)\n",
            "<ipython-input-18-44f6fa84814c>:2: PerformanceWarning: DataFrame is highly fragmented.  This is usually the result of calling `frame.insert` many times, which has poor performance.  Consider joining all columns at once using pd.concat(axis=1) instead. To get a de-fragmented frame, use `newframe = frame.copy()`\n",
            "  df[i] = df[\"ROMol\"].map(j)\n",
            "<ipython-input-18-44f6fa84814c>:2: PerformanceWarning: DataFrame is highly fragmented.  This is usually the result of calling `frame.insert` many times, which has poor performance.  Consider joining all columns at once using pd.concat(axis=1) instead. To get a de-fragmented frame, use `newframe = frame.copy()`\n",
            "  df[i] = df[\"ROMol\"].map(j)\n",
            "<ipython-input-18-44f6fa84814c>:2: PerformanceWarning: DataFrame is highly fragmented.  This is usually the result of calling `frame.insert` many times, which has poor performance.  Consider joining all columns at once using pd.concat(axis=1) instead. To get a de-fragmented frame, use `newframe = frame.copy()`\n",
            "  df[i] = df[\"ROMol\"].map(j)\n",
            "<ipython-input-18-44f6fa84814c>:2: PerformanceWarning: DataFrame is highly fragmented.  This is usually the result of calling `frame.insert` many times, which has poor performance.  Consider joining all columns at once using pd.concat(axis=1) instead. To get a de-fragmented frame, use `newframe = frame.copy()`\n",
            "  df[i] = df[\"ROMol\"].map(j)\n",
            "<ipython-input-18-44f6fa84814c>:2: PerformanceWarning: DataFrame is highly fragmented.  This is usually the result of calling `frame.insert` many times, which has poor performance.  Consider joining all columns at once using pd.concat(axis=1) instead. To get a de-fragmented frame, use `newframe = frame.copy()`\n",
            "  df[i] = df[\"ROMol\"].map(j)\n",
            "<ipython-input-18-44f6fa84814c>:2: PerformanceWarning: DataFrame is highly fragmented.  This is usually the result of calling `frame.insert` many times, which has poor performance.  Consider joining all columns at once using pd.concat(axis=1) instead. To get a de-fragmented frame, use `newframe = frame.copy()`\n",
            "  df[i] = df[\"ROMol\"].map(j)\n",
            "<ipython-input-18-44f6fa84814c>:2: PerformanceWarning: DataFrame is highly fragmented.  This is usually the result of calling `frame.insert` many times, which has poor performance.  Consider joining all columns at once using pd.concat(axis=1) instead. To get a de-fragmented frame, use `newframe = frame.copy()`\n",
            "  df[i] = df[\"ROMol\"].map(j)\n",
            "<ipython-input-18-44f6fa84814c>:2: PerformanceWarning: DataFrame is highly fragmented.  This is usually the result of calling `frame.insert` many times, which has poor performance.  Consider joining all columns at once using pd.concat(axis=1) instead. To get a de-fragmented frame, use `newframe = frame.copy()`\n",
            "  df[i] = df[\"ROMol\"].map(j)\n",
            "<ipython-input-18-44f6fa84814c>:2: PerformanceWarning: DataFrame is highly fragmented.  This is usually the result of calling `frame.insert` many times, which has poor performance.  Consider joining all columns at once using pd.concat(axis=1) instead. To get a de-fragmented frame, use `newframe = frame.copy()`\n",
            "  df[i] = df[\"ROMol\"].map(j)\n",
            "<ipython-input-18-44f6fa84814c>:2: PerformanceWarning: DataFrame is highly fragmented.  This is usually the result of calling `frame.insert` many times, which has poor performance.  Consider joining all columns at once using pd.concat(axis=1) instead. To get a de-fragmented frame, use `newframe = frame.copy()`\n",
            "  df[i] = df[\"ROMol\"].map(j)\n",
            "<ipython-input-18-44f6fa84814c>:2: PerformanceWarning: DataFrame is highly fragmented.  This is usually the result of calling `frame.insert` many times, which has poor performance.  Consider joining all columns at once using pd.concat(axis=1) instead. To get a de-fragmented frame, use `newframe = frame.copy()`\n",
            "  df[i] = df[\"ROMol\"].map(j)\n",
            "<ipython-input-18-44f6fa84814c>:2: PerformanceWarning: DataFrame is highly fragmented.  This is usually the result of calling `frame.insert` many times, which has poor performance.  Consider joining all columns at once using pd.concat(axis=1) instead. To get a de-fragmented frame, use `newframe = frame.copy()`\n",
            "  df[i] = df[\"ROMol\"].map(j)\n",
            "<ipython-input-18-44f6fa84814c>:2: PerformanceWarning: DataFrame is highly fragmented.  This is usually the result of calling `frame.insert` many times, which has poor performance.  Consider joining all columns at once using pd.concat(axis=1) instead. To get a de-fragmented frame, use `newframe = frame.copy()`\n",
            "  df[i] = df[\"ROMol\"].map(j)\n",
            "<ipython-input-18-44f6fa84814c>:2: PerformanceWarning: DataFrame is highly fragmented.  This is usually the result of calling `frame.insert` many times, which has poor performance.  Consider joining all columns at once using pd.concat(axis=1) instead. To get a de-fragmented frame, use `newframe = frame.copy()`\n",
            "  df[i] = df[\"ROMol\"].map(j)\n",
            "<ipython-input-18-44f6fa84814c>:2: PerformanceWarning: DataFrame is highly fragmented.  This is usually the result of calling `frame.insert` many times, which has poor performance.  Consider joining all columns at once using pd.concat(axis=1) instead. To get a de-fragmented frame, use `newframe = frame.copy()`\n",
            "  df[i] = df[\"ROMol\"].map(j)\n",
            "<ipython-input-18-44f6fa84814c>:2: PerformanceWarning: DataFrame is highly fragmented.  This is usually the result of calling `frame.insert` many times, which has poor performance.  Consider joining all columns at once using pd.concat(axis=1) instead. To get a de-fragmented frame, use `newframe = frame.copy()`\n",
            "  df[i] = df[\"ROMol\"].map(j)\n",
            "<ipython-input-18-44f6fa84814c>:2: PerformanceWarning: DataFrame is highly fragmented.  This is usually the result of calling `frame.insert` many times, which has poor performance.  Consider joining all columns at once using pd.concat(axis=1) instead. To get a de-fragmented frame, use `newframe = frame.copy()`\n",
            "  df[i] = df[\"ROMol\"].map(j)\n",
            "<ipython-input-18-44f6fa84814c>:2: PerformanceWarning: DataFrame is highly fragmented.  This is usually the result of calling `frame.insert` many times, which has poor performance.  Consider joining all columns at once using pd.concat(axis=1) instead. To get a de-fragmented frame, use `newframe = frame.copy()`\n",
            "  df[i] = df[\"ROMol\"].map(j)\n",
            "<ipython-input-18-44f6fa84814c>:2: PerformanceWarning: DataFrame is highly fragmented.  This is usually the result of calling `frame.insert` many times, which has poor performance.  Consider joining all columns at once using pd.concat(axis=1) instead. To get a de-fragmented frame, use `newframe = frame.copy()`\n",
            "  df[i] = df[\"ROMol\"].map(j)\n",
            "<ipython-input-18-44f6fa84814c>:2: PerformanceWarning: DataFrame is highly fragmented.  This is usually the result of calling `frame.insert` many times, which has poor performance.  Consider joining all columns at once using pd.concat(axis=1) instead. To get a de-fragmented frame, use `newframe = frame.copy()`\n",
            "  df[i] = df[\"ROMol\"].map(j)\n",
            "<ipython-input-18-44f6fa84814c>:2: PerformanceWarning: DataFrame is highly fragmented.  This is usually the result of calling `frame.insert` many times, which has poor performance.  Consider joining all columns at once using pd.concat(axis=1) instead. To get a de-fragmented frame, use `newframe = frame.copy()`\n",
            "  df[i] = df[\"ROMol\"].map(j)\n",
            "<ipython-input-18-44f6fa84814c>:2: PerformanceWarning: DataFrame is highly fragmented.  This is usually the result of calling `frame.insert` many times, which has poor performance.  Consider joining all columns at once using pd.concat(axis=1) instead. To get a de-fragmented frame, use `newframe = frame.copy()`\n",
            "  df[i] = df[\"ROMol\"].map(j)\n",
            "<ipython-input-18-44f6fa84814c>:2: PerformanceWarning: DataFrame is highly fragmented.  This is usually the result of calling `frame.insert` many times, which has poor performance.  Consider joining all columns at once using pd.concat(axis=1) instead. To get a de-fragmented frame, use `newframe = frame.copy()`\n",
            "  df[i] = df[\"ROMol\"].map(j)\n",
            "<ipython-input-18-44f6fa84814c>:2: PerformanceWarning: DataFrame is highly fragmented.  This is usually the result of calling `frame.insert` many times, which has poor performance.  Consider joining all columns at once using pd.concat(axis=1) instead. To get a de-fragmented frame, use `newframe = frame.copy()`\n",
            "  df[i] = df[\"ROMol\"].map(j)\n",
            "<ipython-input-18-44f6fa84814c>:2: PerformanceWarning: DataFrame is highly fragmented.  This is usually the result of calling `frame.insert` many times, which has poor performance.  Consider joining all columns at once using pd.concat(axis=1) instead. To get a de-fragmented frame, use `newframe = frame.copy()`\n",
            "  df[i] = df[\"ROMol\"].map(j)\n",
            "<ipython-input-18-44f6fa84814c>:2: PerformanceWarning: DataFrame is highly fragmented.  This is usually the result of calling `frame.insert` many times, which has poor performance.  Consider joining all columns at once using pd.concat(axis=1) instead. To get a de-fragmented frame, use `newframe = frame.copy()`\n",
            "  df[i] = df[\"ROMol\"].map(j)\n",
            "<ipython-input-18-44f6fa84814c>:2: PerformanceWarning: DataFrame is highly fragmented.  This is usually the result of calling `frame.insert` many times, which has poor performance.  Consider joining all columns at once using pd.concat(axis=1) instead. To get a de-fragmented frame, use `newframe = frame.copy()`\n",
            "  df[i] = df[\"ROMol\"].map(j)\n",
            "<ipython-input-18-44f6fa84814c>:2: PerformanceWarning: DataFrame is highly fragmented.  This is usually the result of calling `frame.insert` many times, which has poor performance.  Consider joining all columns at once using pd.concat(axis=1) instead. To get a de-fragmented frame, use `newframe = frame.copy()`\n",
            "  df[i] = df[\"ROMol\"].map(j)\n",
            "<ipython-input-18-44f6fa84814c>:2: PerformanceWarning: DataFrame is highly fragmented.  This is usually the result of calling `frame.insert` many times, which has poor performance.  Consider joining all columns at once using pd.concat(axis=1) instead. To get a de-fragmented frame, use `newframe = frame.copy()`\n",
            "  df[i] = df[\"ROMol\"].map(j)\n",
            "<ipython-input-18-44f6fa84814c>:2: PerformanceWarning: DataFrame is highly fragmented.  This is usually the result of calling `frame.insert` many times, which has poor performance.  Consider joining all columns at once using pd.concat(axis=1) instead. To get a de-fragmented frame, use `newframe = frame.copy()`\n",
            "  df[i] = df[\"ROMol\"].map(j)\n",
            "<ipython-input-18-44f6fa84814c>:2: PerformanceWarning: DataFrame is highly fragmented.  This is usually the result of calling `frame.insert` many times, which has poor performance.  Consider joining all columns at once using pd.concat(axis=1) instead. To get a de-fragmented frame, use `newframe = frame.copy()`\n",
            "  df[i] = df[\"ROMol\"].map(j)\n",
            "<ipython-input-18-44f6fa84814c>:2: PerformanceWarning: DataFrame is highly fragmented.  This is usually the result of calling `frame.insert` many times, which has poor performance.  Consider joining all columns at once using pd.concat(axis=1) instead. To get a de-fragmented frame, use `newframe = frame.copy()`\n",
            "  df[i] = df[\"ROMol\"].map(j)\n",
            "<ipython-input-18-44f6fa84814c>:2: PerformanceWarning: DataFrame is highly fragmented.  This is usually the result of calling `frame.insert` many times, which has poor performance.  Consider joining all columns at once using pd.concat(axis=1) instead. To get a de-fragmented frame, use `newframe = frame.copy()`\n",
            "  df[i] = df[\"ROMol\"].map(j)\n",
            "<ipython-input-18-44f6fa84814c>:2: PerformanceWarning: DataFrame is highly fragmented.  This is usually the result of calling `frame.insert` many times, which has poor performance.  Consider joining all columns at once using pd.concat(axis=1) instead. To get a de-fragmented frame, use `newframe = frame.copy()`\n",
            "  df[i] = df[\"ROMol\"].map(j)\n",
            "<ipython-input-18-44f6fa84814c>:2: PerformanceWarning: DataFrame is highly fragmented.  This is usually the result of calling `frame.insert` many times, which has poor performance.  Consider joining all columns at once using pd.concat(axis=1) instead. To get a de-fragmented frame, use `newframe = frame.copy()`\n",
            "  df[i] = df[\"ROMol\"].map(j)\n",
            "<ipython-input-18-44f6fa84814c>:2: PerformanceWarning: DataFrame is highly fragmented.  This is usually the result of calling `frame.insert` many times, which has poor performance.  Consider joining all columns at once using pd.concat(axis=1) instead. To get a de-fragmented frame, use `newframe = frame.copy()`\n",
            "  df[i] = df[\"ROMol\"].map(j)\n",
            "<ipython-input-18-44f6fa84814c>:2: PerformanceWarning: DataFrame is highly fragmented.  This is usually the result of calling `frame.insert` many times, which has poor performance.  Consider joining all columns at once using pd.concat(axis=1) instead. To get a de-fragmented frame, use `newframe = frame.copy()`\n",
            "  df[i] = df[\"ROMol\"].map(j)\n",
            "<ipython-input-18-44f6fa84814c>:2: PerformanceWarning: DataFrame is highly fragmented.  This is usually the result of calling `frame.insert` many times, which has poor performance.  Consider joining all columns at once using pd.concat(axis=1) instead. To get a de-fragmented frame, use `newframe = frame.copy()`\n",
            "  df[i] = df[\"ROMol\"].map(j)\n",
            "<ipython-input-18-44f6fa84814c>:2: PerformanceWarning: DataFrame is highly fragmented.  This is usually the result of calling `frame.insert` many times, which has poor performance.  Consider joining all columns at once using pd.concat(axis=1) instead. To get a de-fragmented frame, use `newframe = frame.copy()`\n",
            "  df[i] = df[\"ROMol\"].map(j)\n",
            "<ipython-input-18-44f6fa84814c>:2: PerformanceWarning: DataFrame is highly fragmented.  This is usually the result of calling `frame.insert` many times, which has poor performance.  Consider joining all columns at once using pd.concat(axis=1) instead. To get a de-fragmented frame, use `newframe = frame.copy()`\n",
            "  df[i] = df[\"ROMol\"].map(j)\n",
            "<ipython-input-18-44f6fa84814c>:2: PerformanceWarning: DataFrame is highly fragmented.  This is usually the result of calling `frame.insert` many times, which has poor performance.  Consider joining all columns at once using pd.concat(axis=1) instead. To get a de-fragmented frame, use `newframe = frame.copy()`\n",
            "  df[i] = df[\"ROMol\"].map(j)\n",
            "<ipython-input-18-44f6fa84814c>:2: PerformanceWarning: DataFrame is highly fragmented.  This is usually the result of calling `frame.insert` many times, which has poor performance.  Consider joining all columns at once using pd.concat(axis=1) instead. To get a de-fragmented frame, use `newframe = frame.copy()`\n",
            "  df[i] = df[\"ROMol\"].map(j)\n",
            "<ipython-input-18-44f6fa84814c>:2: PerformanceWarning: DataFrame is highly fragmented.  This is usually the result of calling `frame.insert` many times, which has poor performance.  Consider joining all columns at once using pd.concat(axis=1) instead. To get a de-fragmented frame, use `newframe = frame.copy()`\n",
            "  df[i] = df[\"ROMol\"].map(j)\n",
            "<ipython-input-18-44f6fa84814c>:2: PerformanceWarning: DataFrame is highly fragmented.  This is usually the result of calling `frame.insert` many times, which has poor performance.  Consider joining all columns at once using pd.concat(axis=1) instead. To get a de-fragmented frame, use `newframe = frame.copy()`\n",
            "  df[i] = df[\"ROMol\"].map(j)\n",
            "<ipython-input-18-44f6fa84814c>:2: PerformanceWarning: DataFrame is highly fragmented.  This is usually the result of calling `frame.insert` many times, which has poor performance.  Consider joining all columns at once using pd.concat(axis=1) instead. To get a de-fragmented frame, use `newframe = frame.copy()`\n",
            "  df[i] = df[\"ROMol\"].map(j)\n",
            "<ipython-input-18-44f6fa84814c>:2: PerformanceWarning: DataFrame is highly fragmented.  This is usually the result of calling `frame.insert` many times, which has poor performance.  Consider joining all columns at once using pd.concat(axis=1) instead. To get a de-fragmented frame, use `newframe = frame.copy()`\n",
            "  df[i] = df[\"ROMol\"].map(j)\n",
            "<ipython-input-18-44f6fa84814c>:2: PerformanceWarning: DataFrame is highly fragmented.  This is usually the result of calling `frame.insert` many times, which has poor performance.  Consider joining all columns at once using pd.concat(axis=1) instead. To get a de-fragmented frame, use `newframe = frame.copy()`\n",
            "  df[i] = df[\"ROMol\"].map(j)\n",
            "<ipython-input-18-44f6fa84814c>:2: PerformanceWarning: DataFrame is highly fragmented.  This is usually the result of calling `frame.insert` many times, which has poor performance.  Consider joining all columns at once using pd.concat(axis=1) instead. To get a de-fragmented frame, use `newframe = frame.copy()`\n",
            "  df[i] = df[\"ROMol\"].map(j)\n",
            "<ipython-input-18-44f6fa84814c>:2: PerformanceWarning: DataFrame is highly fragmented.  This is usually the result of calling `frame.insert` many times, which has poor performance.  Consider joining all columns at once using pd.concat(axis=1) instead. To get a de-fragmented frame, use `newframe = frame.copy()`\n",
            "  df[i] = df[\"ROMol\"].map(j)\n",
            "<ipython-input-18-44f6fa84814c>:2: PerformanceWarning: DataFrame is highly fragmented.  This is usually the result of calling `frame.insert` many times, which has poor performance.  Consider joining all columns at once using pd.concat(axis=1) instead. To get a de-fragmented frame, use `newframe = frame.copy()`\n",
            "  df[i] = df[\"ROMol\"].map(j)\n",
            "<ipython-input-18-44f6fa84814c>:2: PerformanceWarning: DataFrame is highly fragmented.  This is usually the result of calling `frame.insert` many times, which has poor performance.  Consider joining all columns at once using pd.concat(axis=1) instead. To get a de-fragmented frame, use `newframe = frame.copy()`\n",
            "  df[i] = df[\"ROMol\"].map(j)\n",
            "<ipython-input-18-44f6fa84814c>:2: PerformanceWarning: DataFrame is highly fragmented.  This is usually the result of calling `frame.insert` many times, which has poor performance.  Consider joining all columns at once using pd.concat(axis=1) instead. To get a de-fragmented frame, use `newframe = frame.copy()`\n",
            "  df[i] = df[\"ROMol\"].map(j)\n",
            "<ipython-input-18-44f6fa84814c>:2: PerformanceWarning: DataFrame is highly fragmented.  This is usually the result of calling `frame.insert` many times, which has poor performance.  Consider joining all columns at once using pd.concat(axis=1) instead. To get a de-fragmented frame, use `newframe = frame.copy()`\n",
            "  df[i] = df[\"ROMol\"].map(j)\n",
            "<ipython-input-18-44f6fa84814c>:2: PerformanceWarning: DataFrame is highly fragmented.  This is usually the result of calling `frame.insert` many times, which has poor performance.  Consider joining all columns at once using pd.concat(axis=1) instead. To get a de-fragmented frame, use `newframe = frame.copy()`\n",
            "  df[i] = df[\"ROMol\"].map(j)\n",
            "<ipython-input-18-44f6fa84814c>:2: PerformanceWarning: DataFrame is highly fragmented.  This is usually the result of calling `frame.insert` many times, which has poor performance.  Consider joining all columns at once using pd.concat(axis=1) instead. To get a de-fragmented frame, use `newframe = frame.copy()`\n",
            "  df[i] = df[\"ROMol\"].map(j)\n",
            "<ipython-input-18-44f6fa84814c>:2: PerformanceWarning: DataFrame is highly fragmented.  This is usually the result of calling `frame.insert` many times, which has poor performance.  Consider joining all columns at once using pd.concat(axis=1) instead. To get a de-fragmented frame, use `newframe = frame.copy()`\n",
            "  df[i] = df[\"ROMol\"].map(j)\n",
            "<ipython-input-18-44f6fa84814c>:2: PerformanceWarning: DataFrame is highly fragmented.  This is usually the result of calling `frame.insert` many times, which has poor performance.  Consider joining all columns at once using pd.concat(axis=1) instead. To get a de-fragmented frame, use `newframe = frame.copy()`\n",
            "  df[i] = df[\"ROMol\"].map(j)\n",
            "<ipython-input-18-44f6fa84814c>:2: PerformanceWarning: DataFrame is highly fragmented.  This is usually the result of calling `frame.insert` many times, which has poor performance.  Consider joining all columns at once using pd.concat(axis=1) instead. To get a de-fragmented frame, use `newframe = frame.copy()`\n",
            "  df[i] = df[\"ROMol\"].map(j)\n",
            "<ipython-input-18-44f6fa84814c>:2: PerformanceWarning: DataFrame is highly fragmented.  This is usually the result of calling `frame.insert` many times, which has poor performance.  Consider joining all columns at once using pd.concat(axis=1) instead. To get a de-fragmented frame, use `newframe = frame.copy()`\n",
            "  df[i] = df[\"ROMol\"].map(j)\n",
            "<ipython-input-18-44f6fa84814c>:2: PerformanceWarning: DataFrame is highly fragmented.  This is usually the result of calling `frame.insert` many times, which has poor performance.  Consider joining all columns at once using pd.concat(axis=1) instead. To get a de-fragmented frame, use `newframe = frame.copy()`\n",
            "  df[i] = df[\"ROMol\"].map(j)\n",
            "<ipython-input-18-44f6fa84814c>:2: PerformanceWarning: DataFrame is highly fragmented.  This is usually the result of calling `frame.insert` many times, which has poor performance.  Consider joining all columns at once using pd.concat(axis=1) instead. To get a de-fragmented frame, use `newframe = frame.copy()`\n",
            "  df[i] = df[\"ROMol\"].map(j)\n",
            "<ipython-input-18-44f6fa84814c>:2: PerformanceWarning: DataFrame is highly fragmented.  This is usually the result of calling `frame.insert` many times, which has poor performance.  Consider joining all columns at once using pd.concat(axis=1) instead. To get a de-fragmented frame, use `newframe = frame.copy()`\n",
            "  df[i] = df[\"ROMol\"].map(j)\n",
            "<ipython-input-18-44f6fa84814c>:2: PerformanceWarning: DataFrame is highly fragmented.  This is usually the result of calling `frame.insert` many times, which has poor performance.  Consider joining all columns at once using pd.concat(axis=1) instead. To get a de-fragmented frame, use `newframe = frame.copy()`\n",
            "  df[i] = df[\"ROMol\"].map(j)\n",
            "<ipython-input-18-44f6fa84814c>:2: PerformanceWarning: DataFrame is highly fragmented.  This is usually the result of calling `frame.insert` many times, which has poor performance.  Consider joining all columns at once using pd.concat(axis=1) instead. To get a de-fragmented frame, use `newframe = frame.copy()`\n",
            "  df[i] = df[\"ROMol\"].map(j)\n",
            "<ipython-input-18-44f6fa84814c>:2: PerformanceWarning: DataFrame is highly fragmented.  This is usually the result of calling `frame.insert` many times, which has poor performance.  Consider joining all columns at once using pd.concat(axis=1) instead. To get a de-fragmented frame, use `newframe = frame.copy()`\n",
            "  df[i] = df[\"ROMol\"].map(j)\n",
            "<ipython-input-18-44f6fa84814c>:2: PerformanceWarning: DataFrame is highly fragmented.  This is usually the result of calling `frame.insert` many times, which has poor performance.  Consider joining all columns at once using pd.concat(axis=1) instead. To get a de-fragmented frame, use `newframe = frame.copy()`\n",
            "  df[i] = df[\"ROMol\"].map(j)\n",
            "<ipython-input-18-44f6fa84814c>:2: PerformanceWarning: DataFrame is highly fragmented.  This is usually the result of calling `frame.insert` many times, which has poor performance.  Consider joining all columns at once using pd.concat(axis=1) instead. To get a de-fragmented frame, use `newframe = frame.copy()`\n",
            "  df[i] = df[\"ROMol\"].map(j)\n",
            "<ipython-input-18-44f6fa84814c>:2: PerformanceWarning: DataFrame is highly fragmented.  This is usually the result of calling `frame.insert` many times, which has poor performance.  Consider joining all columns at once using pd.concat(axis=1) instead. To get a de-fragmented frame, use `newframe = frame.copy()`\n",
            "  df[i] = df[\"ROMol\"].map(j)\n"
          ]
        }
      ],
      "source": [
        "for i, j in Descriptors.descList:\n",
        "    df[i] = df[\"ROMol\"].map(j)"
      ]
    },
    {
      "cell_type": "code",
      "execution_count": 19,
      "id": "14890912",
      "metadata": {
        "colab": {
          "base_uri": "https://localhost:8080/",
          "height": 317
        },
        "id": "14890912",
        "outputId": "5f8398d3-6c0e-4596-db3b-f88d9eab9972"
      },
      "outputs": [
        {
          "output_type": "execute_result",
          "data": {
            "text/plain": [
              "           ID                                              ROMol  \\\n",
              "116  87558032  <img data-content=\"rdkit/molecule\" src=\"data:i...   \n",
              "\n",
              "                          smiles  MolLogP       qed  MaxEStateIndex  \\\n",
              "116  CC(=O)N1CCN(c2ccc(O)cc2)CC1   1.0607  0.769321       11.160981   \n",
              "\n",
              "     MinEStateIndex  MaxAbsEStateIndex  MinAbsEStateIndex    MolWt  ...  \\\n",
              "116        0.143848          11.160981           0.143848  220.272  ...   \n",
              "\n",
              "     fr_sulfide  fr_sulfonamd  fr_sulfone  fr_term_acetylene  fr_tetrazole  \\\n",
              "116           0             0           0                  0             0   \n",
              "\n",
              "     fr_thiazole  fr_thiocyan  fr_thiophene  fr_unbrch_alkane  fr_urea  \n",
              "116            0            0             0                 0        0  \n",
              "\n",
              "[1 rows x 211 columns]"
            ],
            "text/html": [
              "\n",
              "  <div id=\"df-30c67414-ad37-4fc2-a907-53b7ae15298c\" class=\"colab-df-container\">\n",
              "    <div>\n",
              "<style scoped>\n",
              "    .dataframe tbody tr th:only-of-type {\n",
              "        vertical-align: middle;\n",
              "    }\n",
              "\n",
              "    .dataframe tbody tr th {\n",
              "        vertical-align: top;\n",
              "    }\n",
              "\n",
              "    .dataframe thead th {\n",
              "        text-align: right;\n",
              "    }\n",
              "</style>\n",
              "<table border=\"1\" class=\"dataframe\">\n",
              "  <thead>\n",
              "    <tr style=\"text-align: right;\">\n",
              "      <th></th>\n",
              "      <th>ID</th>\n",
              "      <th>ROMol</th>\n",
              "      <th>smiles</th>\n",
              "      <th>MolLogP</th>\n",
              "      <th>qed</th>\n",
              "      <th>MaxEStateIndex</th>\n",
              "      <th>MinEStateIndex</th>\n",
              "      <th>MaxAbsEStateIndex</th>\n",
              "      <th>MinAbsEStateIndex</th>\n",
              "      <th>MolWt</th>\n",
              "      <th>...</th>\n",
              "      <th>fr_sulfide</th>\n",
              "      <th>fr_sulfonamd</th>\n",
              "      <th>fr_sulfone</th>\n",
              "      <th>fr_term_acetylene</th>\n",
              "      <th>fr_tetrazole</th>\n",
              "      <th>fr_thiazole</th>\n",
              "      <th>fr_thiocyan</th>\n",
              "      <th>fr_thiophene</th>\n",
              "      <th>fr_unbrch_alkane</th>\n",
              "      <th>fr_urea</th>\n",
              "    </tr>\n",
              "  </thead>\n",
              "  <tbody>\n",
              "    <tr>\n",
              "      <th>116</th>\n",
              "      <td>87558032</td>\n",
              "      <td style=\"text-align: center;\"><img data-content=\"rdkit/molecule\" src=\"data:image/png;base64,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\" alt=\"Mol\"/></td>\n",
              "      <td>CC(=O)N1CCN(c2ccc(O)cc2)CC1</td>\n",
              "      <td>1.0607</td>\n",
              "      <td>0.769321</td>\n",
              "      <td>11.160981</td>\n",
              "      <td>0.143848</td>\n",
              "      <td>11.160981</td>\n",
              "      <td>0.143848</td>\n",
              "      <td>220.272</td>\n",
              "      <td>...</td>\n",
              "      <td>0</td>\n",
              "      <td>0</td>\n",
              "      <td>0</td>\n",
              "      <td>0</td>\n",
              "      <td>0</td>\n",
              "      <td>0</td>\n",
              "      <td>0</td>\n",
              "      <td>0</td>\n",
              "      <td>0</td>\n",
              "      <td>0</td>\n",
              "    </tr>\n",
              "  </tbody>\n",
              "</table>\n",
              "<p>1 rows × 211 columns</p>\n",
              "</div>\n",
              "    <div class=\"colab-df-buttons\">\n",
              "\n",
              "  <div class=\"colab-df-container\">\n",
              "    <button class=\"colab-df-convert\" onclick=\"convertToInteractive('df-30c67414-ad37-4fc2-a907-53b7ae15298c')\"\n",
              "            title=\"Convert this dataframe to an interactive table.\"\n",
              "            style=\"display:none;\">\n",
              "\n",
              "  <svg xmlns=\"http://www.w3.org/2000/svg\" height=\"24px\" viewBox=\"0 -960 960 960\">\n",
              "    <path d=\"M120-120v-720h720v720H120Zm60-500h600v-160H180v160Zm220 220h160v-160H400v160Zm0 220h160v-160H400v160ZM180-400h160v-160H180v160Zm440 0h160v-160H620v160ZM180-180h160v-160H180v160Zm440 0h160v-160H620v160Z\"/>\n",
              "  </svg>\n",
              "    </button>\n",
              "\n",
              "  <style>\n",
              "    .colab-df-container {\n",
              "      display:flex;\n",
              "      gap: 12px;\n",
              "    }\n",
              "\n",
              "    .colab-df-convert {\n",
              "      background-color: #E8F0FE;\n",
              "      border: none;\n",
              "      border-radius: 50%;\n",
              "      cursor: pointer;\n",
              "      display: none;\n",
              "      fill: #1967D2;\n",
              "      height: 32px;\n",
              "      padding: 0 0 0 0;\n",
              "      width: 32px;\n",
              "    }\n",
              "\n",
              "    .colab-df-convert:hover {\n",
              "      background-color: #E2EBFA;\n",
              "      box-shadow: 0px 1px 2px rgba(60, 64, 67, 0.3), 0px 1px 3px 1px rgba(60, 64, 67, 0.15);\n",
              "      fill: #174EA6;\n",
              "    }\n",
              "\n",
              "    .colab-df-buttons div {\n",
              "      margin-bottom: 4px;\n",
              "    }\n",
              "\n",
              "    [theme=dark] .colab-df-convert {\n",
              "      background-color: #3B4455;\n",
              "      fill: #D2E3FC;\n",
              "    }\n",
              "\n",
              "    [theme=dark] .colab-df-convert:hover {\n",
              "      background-color: #434B5C;\n",
              "      box-shadow: 0px 1px 3px 1px rgba(0, 0, 0, 0.15);\n",
              "      filter: drop-shadow(0px 1px 2px rgba(0, 0, 0, 0.3));\n",
              "      fill: #FFFFFF;\n",
              "    }\n",
              "  </style>\n",
              "\n",
              "    <script>\n",
              "      const buttonEl =\n",
              "        document.querySelector('#df-30c67414-ad37-4fc2-a907-53b7ae15298c button.colab-df-convert');\n",
              "      buttonEl.style.display =\n",
              "        google.colab.kernel.accessAllowed ? 'block' : 'none';\n",
              "\n",
              "      async function convertToInteractive(key) {\n",
              "        const element = document.querySelector('#df-30c67414-ad37-4fc2-a907-53b7ae15298c');\n",
              "        const dataTable =\n",
              "          await google.colab.kernel.invokeFunction('convertToInteractive',\n",
              "                                                    [key], {});\n",
              "        if (!dataTable) return;\n",
              "\n",
              "        const docLinkHtml = 'Like what you see? Visit the ' +\n",
              "          '<a target=\"_blank\" href=https://colab.research.google.com/notebooks/data_table.ipynb>data table notebook</a>'\n",
              "          + ' to learn more about interactive tables.';\n",
              "        element.innerHTML = '';\n",
              "        dataTable['output_type'] = 'display_data';\n",
              "        await google.colab.output.renderOutput(dataTable, element);\n",
              "        const docLink = document.createElement('div');\n",
              "        docLink.innerHTML = docLinkHtml;\n",
              "        element.appendChild(docLink);\n",
              "      }\n",
              "    </script>\n",
              "  </div>\n",
              "\n",
              "    </div>\n",
              "  </div>\n"
            ]
          },
          "metadata": {},
          "execution_count": 19
        }
      ],
      "source": [
        "df.tail(1)"
      ]
    },
    {
      "cell_type": "markdown",
      "id": "5d7681fa",
      "metadata": {
        "id": "5d7681fa"
      },
      "source": [
        "# 4. morganfingerprintを表示"
      ]
    },
    {
      "cell_type": "code",
      "source": [
        "help(AllChem.GetMorganFingerprintAsBitVect)"
      ],
      "metadata": {
        "id": "APq3_OLibsG-",
        "outputId": "1f263081-68e5-44df-dc44-ca19d7685ad8",
        "colab": {
          "base_uri": "https://localhost:8080/"
        }
      },
      "id": "APq3_OLibsG-",
      "execution_count": 20,
      "outputs": [
        {
          "output_type": "stream",
          "name": "stdout",
          "text": [
            "Help on built-in function GetMorganFingerprintAsBitVect in module rdkit.Chem.rdMolDescriptors:\n",
            "\n",
            "GetMorganFingerprintAsBitVect(...)\n",
            "    GetMorganFingerprintAsBitVect( (Mol)mol, (int)radius [, (int)nBits=2048 [, (AtomPairsParameters)invariants=[] [, (AtomPairsParameters)fromAtoms=[] [, (bool)useChirality=False [, (bool)useBondTypes=True [, (bool)useFeatures=False [, (AtomPairsParameters)bitInfo=None [, (bool)includeRedundantEnvironments=False]]]]]]]]) -> ExplicitBitVect :\n",
            "        Returns a Morgan fingerprint for a molecule as a bit vector\n",
            "    \n",
            "        C++ signature :\n",
            "            ExplicitBitVect* GetMorganFingerprintAsBitVect(RDKit::ROMol,unsigned int [,unsigned int=2048 [,boost::python::api::object=[] [,boost::python::api::object=[] [,bool=False [,bool=True [,bool=False [,boost::python::api::object=None [,bool=False]]]]]]]])\n",
            "\n"
          ]
        }
      ]
    },
    {
      "cell_type": "code",
      "source": [
        "from rdkit.Chem import Draw\n",
        "from rdkit.Chem.Draw import IPythonConsole"
      ],
      "metadata": {
        "id": "2iFd0Zwdng2G"
      },
      "id": "2iFd0Zwdng2G",
      "execution_count": 21,
      "outputs": []
    },
    {
      "cell_type": "code",
      "source": [
        "# 特定のsmilesを有する構造を表示してみる。\n",
        "smiles = \"c1c2ccc[nH0]c2ccc1\"\n",
        "compound = Chem.MolFromSmiles(smiles)\n",
        "compound"
      ],
      "metadata": {
        "colab": {
          "base_uri": "https://localhost:8080/",
          "height": 167
        },
        "id": "uzT7UORsoDoa",
        "outputId": "add382f0-b683-440e-9392-73b8c1e04f88"
      },
      "id": "uzT7UORsoDoa",
      "execution_count": 22,
      "outputs": [
        {
          "output_type": "execute_result",
          "data": {
            "text/plain": [
              "<rdkit.Chem.rdchem.Mol at 0x7873772edc60>"
            ],
            "image/png": "[encoded data removed]"
          },
          "metadata": {},
          "execution_count": 22
        }
      ]
    },
    {
      "cell_type": "code",
      "source": [
        "from rdkit.Chem import AllChem\n",
        "\n",
        "# fingerprintの取得\n",
        "\n",
        "bitI_morgan = {}\n",
        "fp_morgan = AllChem.GetMorganFingerprintAsBitVect(compound, 2, bitInfo=bitI_morgan)\n",
        "\n",
        "print(fp_morgan.GetNumBits())\n",
        "print(fp_morgan.GetNumOnBits())"
      ],
      "metadata": {
        "colab": {
          "base_uri": "https://localhost:8080/"
        },
        "id": "oAl2RRT2oAKc",
        "outputId": "d05c6039-407d-4b9b-a300-329cf8a20782"
      },
      "id": "oAl2RRT2oAKc",
      "execution_count": 23,
      "outputs": [
        {
          "output_type": "stream",
          "name": "stdout",
          "text": [
            "2048\n",
            "17\n"
          ]
        }
      ]
    },
    {
      "cell_type": "code",
      "source": [
        "# fingerprintの可視化\n",
        "morgan_turples = ((compound , bit, bitI_morgan) for bit in list(bitI_morgan.keys()))\n",
        "Draw.DrawMorganBits(morgan_turples, molsPerRow=4, legends=['bit: '+str(x) for x in list(bitI_morgan.keys())])"
      ],
      "metadata": {
        "colab": {
          "base_uri": "https://localhost:8080/",
          "height": 767
        },
        "id": "NlB4n3VinUXb",
        "outputId": "ee5bc1a8-559e-44fb-f0fa-6bc442988266"
      },
      "id": "NlB4n3VinUXb",
      "execution_count": 24,
      "outputs": [
        {
          "output_type": "execute_result",
          "data": {
            "text/plain": [
              "<PIL.PngImagePlugin.PngImageFile image mode=RGB size=600x750>"
            ],
            "image/png": "[encoded data removed]"
          },
          "metadata": {},
          "execution_count": 24
        }
      ]
    },
    {
      "cell_type": "markdown",
      "source": [
        "## 複数分子"
      ],
      "metadata": {
        "id": "2K38bMnuoUE6"
      },
      "id": "2K38bMnuoUE6"
    },
    {
      "cell_type": "code",
      "execution_count": 25,
      "id": "11cc7d08",
      "metadata": {
        "colab": {
          "base_uri": "https://localhost:8080/"
        },
        "id": "11cc7d08",
        "outputId": "6b2ba285-852a-48da-e965-da55880b7954"
      },
      "outputs": [
        {
          "output_type": "stream",
          "name": "stdout",
          "text": [
            "(117, 2048)\n"
          ]
        }
      ],
      "source": [
        "import pandas as pd\n",
        "import numpy as np\n",
        "\n",
        "fingerprints = []\n",
        "safe = []\n",
        "for mol_idx, mol in enumerate(df[\"ROMol\"]):\n",
        "    try:\n",
        "        #\n",
        "        fingerprint = [x for x in AllChem.GetMorganFingerprintAsBitVect(mol, 2, 2048)]\n",
        "        fingerprints.append(fingerprint)\n",
        "        safe.append(mol_idx)\n",
        "\n",
        "    except:\n",
        "        print(\"Error\", mol_idx)\n",
        "        continue\n",
        "fingerprints = np.array(fingerprints)\n",
        "print(fingerprints.shape)\n",
        "df_fp = pd.DataFrame(fingerprints)"
      ]
    },
    {
      "cell_type": "code",
      "execution_count": 26,
      "id": "478f2446",
      "metadata": {
        "colab": {
          "base_uri": "https://localhost:8080/",
          "height": 424
        },
        "id": "478f2446",
        "outputId": "c3de35dd-9d60-4ee6-d46a-caa77625e02a"
      },
      "outputs": [
        {
          "output_type": "execute_result",
          "data": {
            "text/plain": [
              "     0     1     2     3     4     5     6     7     8     9     ...  2038  \\\n",
              "0       0     1     0     0     0     0     0     0     0     0  ...     0   \n",
              "1       0     0     0     0     0     0     0     0     0     0  ...     0   \n",
              "2       0     0     0     0     0     0     0     0     0     0  ...     0   \n",
              "3       0     0     0     0     0     0     0     0     0     0  ...     0   \n",
              "4       0     1     0     0     0     0     0     0     0     0  ...     0   \n",
              "..    ...   ...   ...   ...   ...   ...   ...   ...   ...   ...  ...   ...   \n",
              "112     0     0     0     0     0     0     0     0     0     0  ...     0   \n",
              "113     0     0     0     0     0     0     0     0     0     0  ...     0   \n",
              "114     0     0     0     0     0     0     0     0     0     0  ...     0   \n",
              "115     0     0     0     0     0     0     0     0     0     0  ...     0   \n",
              "116     0     0     0     0     0     0     0     0     0     0  ...     0   \n",
              "\n",
              "     2039  2040  2041  2042  2043  2044  2045  2046  2047  \n",
              "0       0     0     0     0     0     0     0     0     0  \n",
              "1       0     0     0     0     0     0     0     0     0  \n",
              "2       0     0     0     0     0     0     0     0     0  \n",
              "3       0     0     0     0     0     0     0     0     0  \n",
              "4       0     0     0     0     0     0     0     0     0  \n",
              "..    ...   ...   ...   ...   ...   ...   ...   ...   ...  \n",
              "112     0     0     0     0     0     0     1     0     0  \n",
              "113     0     0     0     0     0     0     0     0     0  \n",
              "114     0     0     0     0     0     0     1     0     0  \n",
              "115     0     0     0     0     0     0     0     0     0  \n",
              "116     0     0     0     0     0     0     0     0     0  \n",
              "\n",
              "[117 rows x 2048 columns]"
            ],
            "text/html": [
              "\n",
              "  <div id=\"df-6284a536-bad6-4f91-b6c1-0b1a5c6aa6bc\" class=\"colab-df-container\">\n",
              "    <div>\n",
              "<style scoped>\n",
              "    .dataframe tbody tr th:only-of-type {\n",
              "        vertical-align: middle;\n",
              "    }\n",
              "\n",
              "    .dataframe tbody tr th {\n",
              "        vertical-align: top;\n",
              "    }\n",
              "\n",
              "    .dataframe thead th {\n",
              "        text-align: right;\n",
              "    }\n",
              "</style>\n",
              "<table border=\"1\" class=\"dataframe\">\n",
              "  <thead>\n",
              "    <tr style=\"text-align: right;\">\n",
              "      <th></th>\n",
              "      <th>0</th>\n",
              "      <th>1</th>\n",
              "      <th>2</th>\n",
              "      <th>3</th>\n",
              "      <th>4</th>\n",
              "      <th>5</th>\n",
              "      <th>6</th>\n",
              "      <th>7</th>\n",
              "      <th>8</th>\n",
              "      <th>9</th>\n",
              "      <th>...</th>\n",
              "      <th>2038</th>\n",
              "      <th>2039</th>\n",
              "      <th>2040</th>\n",
              "      <th>2041</th>\n",
              "      <th>2042</th>\n",
              "      <th>2043</th>\n",
              "      <th>2044</th>\n",
              "      <th>2045</th>\n",
              "      <th>2046</th>\n",
              "      <th>2047</th>\n",
              "    </tr>\n",
              "  </thead>\n",
              "  <tbody>\n",
              "    <tr>\n",
              "      <th>0</th>\n",
              "      <td>0</td>\n",
              "      <td>1</td>\n",
              "      <td>0</td>\n",
              "      <td>0</td>\n",
              "      <td>0</td>\n",
              "      <td>0</td>\n",
              "      <td>0</td>\n",
              "      <td>0</td>\n",
              "      <td>0</td>\n",
              "      <td>0</td>\n",
              "      <td>...</td>\n",
              "      <td>0</td>\n",
              "      <td>0</td>\n",
              "      <td>0</td>\n",
              "      <td>0</td>\n",
              "      <td>0</td>\n",
              "      <td>0</td>\n",
              "      <td>0</td>\n",
              "      <td>0</td>\n",
              "      <td>0</td>\n",
              "      <td>0</td>\n",
              "    </tr>\n",
              "    <tr>\n",
              "      <th>1</th>\n",
              "      <td>0</td>\n",
              "      <td>0</td>\n",
              "      <td>0</td>\n",
              "      <td>0</td>\n",
              "      <td>0</td>\n",
              "      <td>0</td>\n",
              "      <td>0</td>\n",
              "      <td>0</td>\n",
              "      <td>0</td>\n",
              "      <td>0</td>\n",
              "      <td>...</td>\n",
              "      <td>0</td>\n",
              "      <td>0</td>\n",
              "      <td>0</td>\n",
              "      <td>0</td>\n",
              "      <td>0</td>\n",
              "      <td>0</td>\n",
              "      <td>0</td>\n",
              "      <td>0</td>\n",
              "      <td>0</td>\n",
              "      <td>0</td>\n",
              "    </tr>\n",
              "    <tr>\n",
              "      <th>2</th>\n",
              "      <td>0</td>\n",
              "      <td>0</td>\n",
              "      <td>0</td>\n",
              "      <td>0</td>\n",
              "      <td>0</td>\n",
              "      <td>0</td>\n",
              "      <td>0</td>\n",
              "      <td>0</td>\n",
              "      <td>0</td>\n",
              "      <td>0</td>\n",
              "      <td>...</td>\n",
              "      <td>0</td>\n",
              "      <td>0</td>\n",
              "      <td>0</td>\n",
              "      <td>0</td>\n",
              "      <td>0</td>\n",
              "      <td>0</td>\n",
              "      <td>0</td>\n",
              "      <td>0</td>\n",
              "      <td>0</td>\n",
              "      <td>0</td>\n",
              "    </tr>\n",
              "    <tr>\n",
              "      <th>3</th>\n",
              "      <td>0</td>\n",
              "      <td>0</td>\n",
              "      <td>0</td>\n",
              "      <td>0</td>\n",
              "      <td>0</td>\n",
              "      <td>0</td>\n",
              "      <td>0</td>\n",
              "      <td>0</td>\n",
              "      <td>0</td>\n",
              "      <td>0</td>\n",
              "      <td>...</td>\n",
              "      <td>0</td>\n",
              "      <td>0</td>\n",
              "      <td>0</td>\n",
              "      <td>0</td>\n",
              "      <td>0</td>\n",
              "      <td>0</td>\n",
              "      <td>0</td>\n",
              "      <td>0</td>\n",
              "      <td>0</td>\n",
              "      <td>0</td>\n",
              "    </tr>\n",
              "    <tr>\n",
              "      <th>4</th>\n",
              "      <td>0</td>\n",
              "      <td>1</td>\n",
              "      <td>0</td>\n",
              "      <td>0</td>\n",
              "      <td>0</td>\n",
              "      <td>0</td>\n",
              "      <td>0</td>\n",
              "      <td>0</td>\n",
              "      <td>0</td>\n",
              "      <td>0</td>\n",
              "      <td>...</td>\n",
              "      <td>0</td>\n",
              "      <td>0</td>\n",
              "      <td>0</td>\n",
              "      <td>0</td>\n",
              "      <td>0</td>\n",
              "      <td>0</td>\n",
              "      <td>0</td>\n",
              "      <td>0</td>\n",
              "      <td>0</td>\n",
              "      <td>0</td>\n",
              "    </tr>\n",
              "    <tr>\n",
              "      <th>...</th>\n",
              "      <td>...</td>\n",
              "      <td>...</td>\n",
              "      <td>...</td>\n",
              "      <td>...</td>\n",
              "      <td>...</td>\n",
              "      <td>...</td>\n",
              "      <td>...</td>\n",
              "      <td>...</td>\n",
              "      <td>...</td>\n",
              "      <td>...</td>\n",
              "      <td>...</td>\n",
              "      <td>...</td>\n",
              "      <td>...</td>\n",
              "      <td>...</td>\n",
              "      <td>...</td>\n",
              "      <td>...</td>\n",
              "      <td>...</td>\n",
              "      <td>...</td>\n",
              "      <td>...</td>\n",
              "      <td>...</td>\n",
              "      <td>...</td>\n",
              "    </tr>\n",
              "    <tr>\n",
              "      <th>112</th>\n",
              "      <td>0</td>\n",
              "      <td>0</td>\n",
              "      <td>0</td>\n",
              "      <td>0</td>\n",
              "      <td>0</td>\n",
              "      <td>0</td>\n",
              "      <td>0</td>\n",
              "      <td>0</td>\n",
              "      <td>0</td>\n",
              "      <td>0</td>\n",
              "      <td>...</td>\n",
              "      <td>0</td>\n",
              "      <td>0</td>\n",
              "      <td>0</td>\n",
              "      <td>0</td>\n",
              "      <td>0</td>\n",
              "      <td>0</td>\n",
              "      <td>0</td>\n",
              "      <td>1</td>\n",
              "      <td>0</td>\n",
              "      <td>0</td>\n",
              "    </tr>\n",
              "    <tr>\n",
              "      <th>113</th>\n",
              "      <td>0</td>\n",
              "      <td>0</td>\n",
              "      <td>0</td>\n",
              "      <td>0</td>\n",
              "      <td>0</td>\n",
              "      <td>0</td>\n",
              "      <td>0</td>\n",
              "      <td>0</td>\n",
              "      <td>0</td>\n",
              "      <td>0</td>\n",
              "      <td>...</td>\n",
              "      <td>0</td>\n",
              "      <td>0</td>\n",
              "      <td>0</td>\n",
              "      <td>0</td>\n",
              "      <td>0</td>\n",
              "      <td>0</td>\n",
              "      <td>0</td>\n",
              "      <td>0</td>\n",
              "      <td>0</td>\n",
              "      <td>0</td>\n",
              "    </tr>\n",
              "    <tr>\n",
              "      <th>114</th>\n",
              "      <td>0</td>\n",
              "      <td>0</td>\n",
              "      <td>0</td>\n",
              "      <td>0</td>\n",
              "      <td>0</td>\n",
              "      <td>0</td>\n",
              "      <td>0</td>\n",
              "      <td>0</td>\n",
              "      <td>0</td>\n",
              "      <td>0</td>\n",
              "      <td>...</td>\n",
              "      <td>0</td>\n",
              "      <td>0</td>\n",
              "      <td>0</td>\n",
              "      <td>0</td>\n",
              "      <td>0</td>\n",
              "      <td>0</td>\n",
              "      <td>0</td>\n",
              "      <td>1</td>\n",
              "      <td>0</td>\n",
              "      <td>0</td>\n",
              "    </tr>\n",
              "    <tr>\n",
              "      <th>115</th>\n",
              "      <td>0</td>\n",
              "      <td>0</td>\n",
              "      <td>0</td>\n",
              "      <td>0</td>\n",
              "      <td>0</td>\n",
              "      <td>0</td>\n",
              "      <td>0</td>\n",
              "      <td>0</td>\n",
              "      <td>0</td>\n",
              "      <td>0</td>\n",
              "      <td>...</td>\n",
              "      <td>0</td>\n",
              "      <td>0</td>\n",
              "      <td>0</td>\n",
              "      <td>0</td>\n",
              "      <td>0</td>\n",
              "      <td>0</td>\n",
              "      <td>0</td>\n",
              "      <td>0</td>\n",
              "      <td>0</td>\n",
              "      <td>0</td>\n",
              "    </tr>\n",
              "    <tr>\n",
              "      <th>116</th>\n",
              "      <td>0</td>\n",
              "      <td>0</td>\n",
              "      <td>0</td>\n",
              "      <td>0</td>\n",
              "      <td>0</td>\n",
              "      <td>0</td>\n",
              "      <td>0</td>\n",
              "      <td>0</td>\n",
              "      <td>0</td>\n",
              "      <td>0</td>\n",
              "      <td>...</td>\n",
              "      <td>0</td>\n",
              "      <td>0</td>\n",
              "      <td>0</td>\n",
              "      <td>0</td>\n",
              "      <td>0</td>\n",
              "      <td>0</td>\n",
              "      <td>0</td>\n",
              "      <td>0</td>\n",
              "      <td>0</td>\n",
              "      <td>0</td>\n",
              "    </tr>\n",
              "  </tbody>\n",
              "</table>\n",
              "<p>117 rows × 2048 columns</p>\n",
              "</div>\n",
              "    <div class=\"colab-df-buttons\">\n",
              "\n",
              "  <div class=\"colab-df-container\">\n",
              "    <button class=\"colab-df-convert\" onclick=\"convertToInteractive('df-6284a536-bad6-4f91-b6c1-0b1a5c6aa6bc')\"\n",
              "            title=\"Convert this dataframe to an interactive table.\"\n",
              "            style=\"display:none;\">\n",
              "\n",
              "  <svg xmlns=\"http://www.w3.org/2000/svg\" height=\"24px\" viewBox=\"0 -960 960 960\">\n",
              "    <path d=\"M120-120v-720h720v720H120Zm60-500h600v-160H180v160Zm220 220h160v-160H400v160Zm0 220h160v-160H400v160ZM180-400h160v-160H180v160Zm440 0h160v-160H620v160ZM180-180h160v-160H180v160Zm440 0h160v-160H620v160Z\"/>\n",
              "  </svg>\n",
              "    </button>\n",
              "\n",
              "  <style>\n",
              "    .colab-df-container {\n",
              "      display:flex;\n",
              "      gap: 12px;\n",
              "    }\n",
              "\n",
              "    .colab-df-convert {\n",
              "      background-color: #E8F0FE;\n",
              "      border: none;\n",
              "      border-radius: 50%;\n",
              "      cursor: pointer;\n",
              "      display: none;\n",
              "      fill: #1967D2;\n",
              "      height: 32px;\n",
              "      padding: 0 0 0 0;\n",
              "      width: 32px;\n",
              "    }\n",
              "\n",
              "    .colab-df-convert:hover {\n",
              "      background-color: #E2EBFA;\n",
              "      box-shadow: 0px 1px 2px rgba(60, 64, 67, 0.3), 0px 1px 3px 1px rgba(60, 64, 67, 0.15);\n",
              "      fill: #174EA6;\n",
              "    }\n",
              "\n",
              "    .colab-df-buttons div {\n",
              "      margin-bottom: 4px;\n",
              "    }\n",
              "\n",
              "    [theme=dark] .colab-df-convert {\n",
              "      background-color: #3B4455;\n",
              "      fill: #D2E3FC;\n",
              "    }\n",
              "\n",
              "    [theme=dark] .colab-df-convert:hover {\n",
              "      background-color: #434B5C;\n",
              "      box-shadow: 0px 1px 3px 1px rgba(0, 0, 0, 0.15);\n",
              "      filter: drop-shadow(0px 1px 2px rgba(0, 0, 0, 0.3));\n",
              "      fill: #FFFFFF;\n",
              "    }\n",
              "  </style>\n",
              "\n",
              "    <script>\n",
              "      const buttonEl =\n",
              "        document.querySelector('#df-6284a536-bad6-4f91-b6c1-0b1a5c6aa6bc button.colab-df-convert');\n",
              "      buttonEl.style.display =\n",
              "        google.colab.kernel.accessAllowed ? 'block' : 'none';\n",
              "\n",
              "      async function convertToInteractive(key) {\n",
              "        const element = document.querySelector('#df-6284a536-bad6-4f91-b6c1-0b1a5c6aa6bc');\n",
              "        const dataTable =\n",
              "          await google.colab.kernel.invokeFunction('convertToInteractive',\n",
              "                                                    [key], {});\n",
              "        if (!dataTable) return;\n",
              "\n",
              "        const docLinkHtml = 'Like what you see? Visit the ' +\n",
              "          '<a target=\"_blank\" href=https://colab.research.google.com/notebooks/data_table.ipynb>data table notebook</a>'\n",
              "          + ' to learn more about interactive tables.';\n",
              "        element.innerHTML = '';\n",
              "        dataTable['output_type'] = 'display_data';\n",
              "        await google.colab.output.renderOutput(dataTable, element);\n",
              "        const docLink = document.createElement('div');\n",
              "        docLink.innerHTML = docLinkHtml;\n",
              "        element.appendChild(docLink);\n",
              "      }\n",
              "    </script>\n",
              "  </div>\n",
              "\n",
              "\n",
              "<div id=\"df-5c1ec2af-42ba-4d25-a389-afc0122787ca\">\n",
              "  <button class=\"colab-df-quickchart\" onclick=\"quickchart('df-5c1ec2af-42ba-4d25-a389-afc0122787ca')\"\n",
              "            title=\"Suggest charts.\"\n",
              "            style=\"display:none;\">\n",
              "\n",
              "<svg xmlns=\"http://www.w3.org/2000/svg\" height=\"24px\"viewBox=\"0 0 24 24\"\n",
              "     width=\"24px\">\n",
              "    <g>\n",
              "        <path d=\"M19 3H5c-1.1 0-2 .9-2 2v14c0 1.1.9 2 2 2h14c1.1 0 2-.9 2-2V5c0-1.1-.9-2-2-2zM9 17H7v-7h2v7zm4 0h-2V7h2v10zm4 0h-2v-4h2v4z\"/>\n",
              "    </g>\n",
              "</svg>\n",
              "  </button>\n",
              "\n",
              "<style>\n",
              "  .colab-df-quickchart {\n",
              "      --bg-color: #E8F0FE;\n",
              "      --fill-color: #1967D2;\n",
              "      --hover-bg-color: #E2EBFA;\n",
              "      --hover-fill-color: #174EA6;\n",
              "      --disabled-fill-color: #AAA;\n",
              "      --disabled-bg-color: #DDD;\n",
              "  }\n",
              "\n",
              "  [theme=dark] .colab-df-quickchart {\n",
              "      --bg-color: #3B4455;\n",
              "      --fill-color: #D2E3FC;\n",
              "      --hover-bg-color: #434B5C;\n",
              "      --hover-fill-color: #FFFFFF;\n",
              "      --disabled-bg-color: #3B4455;\n",
              "      --disabled-fill-color: #666;\n",
              "  }\n",
              "\n",
              "  .colab-df-quickchart {\n",
              "    background-color: var(--bg-color);\n",
              "    border: none;\n",
              "    border-radius: 50%;\n",
              "    cursor: pointer;\n",
              "    display: none;\n",
              "    fill: var(--fill-color);\n",
              "    height: 32px;\n",
              "    padding: 0;\n",
              "    width: 32px;\n",
              "  }\n",
              "\n",
              "  .colab-df-quickchart:hover {\n",
              "    background-color: var(--hover-bg-color);\n",
              "    box-shadow: 0 1px 2px rgba(60, 64, 67, 0.3), 0 1px 3px 1px rgba(60, 64, 67, 0.15);\n",
              "    fill: var(--button-hover-fill-color);\n",
              "  }\n",
              "\n",
              "  .colab-df-quickchart-complete:disabled,\n",
              "  .colab-df-quickchart-complete:disabled:hover {\n",
              "    background-color: var(--disabled-bg-color);\n",
              "    fill: var(--disabled-fill-color);\n",
              "    box-shadow: none;\n",
              "  }\n",
              "\n",
              "  .colab-df-spinner {\n",
              "    border: 2px solid var(--fill-color);\n",
              "    border-color: transparent;\n",
              "    border-bottom-color: var(--fill-color);\n",
              "    animation:\n",
              "      spin 1s steps(1) infinite;\n",
              "  }\n",
              "\n",
              "  @keyframes spin {\n",
              "    0% {\n",
              "      border-color: transparent;\n",
              "      border-bottom-color: var(--fill-color);\n",
              "      border-left-color: var(--fill-color);\n",
              "    }\n",
              "    20% {\n",
              "      border-color: transparent;\n",
              "      border-left-color: var(--fill-color);\n",
              "      border-top-color: var(--fill-color);\n",
              "    }\n",
              "    30% {\n",
              "      border-color: transparent;\n",
              "      border-left-color: var(--fill-color);\n",
              "      border-top-color: var(--fill-color);\n",
              "      border-right-color: var(--fill-color);\n",
              "    }\n",
              "    40% {\n",
              "      border-color: transparent;\n",
              "      border-right-color: var(--fill-color);\n",
              "      border-top-color: var(--fill-color);\n",
              "    }\n",
              "    60% {\n",
              "      border-color: transparent;\n",
              "      border-right-color: var(--fill-color);\n",
              "    }\n",
              "    80% {\n",
              "      border-color: transparent;\n",
              "      border-right-color: var(--fill-color);\n",
              "      border-bottom-color: var(--fill-color);\n",
              "    }\n",
              "    90% {\n",
              "      border-color: transparent;\n",
              "      border-bottom-color: var(--fill-color);\n",
              "    }\n",
              "  }\n",
              "</style>\n",
              "\n",
              "  <script>\n",
              "    async function quickchart(key) {\n",
              "      const quickchartButtonEl =\n",
              "        document.querySelector('#' + key + ' button');\n",
              "      quickchartButtonEl.disabled = true;  // To prevent multiple clicks.\n",
              "      quickchartButtonEl.classList.add('colab-df-spinner');\n",
              "      try {\n",
              "        const charts = await google.colab.kernel.invokeFunction(\n",
              "            'suggestCharts', [key], {});\n",
              "      } catch (error) {\n",
              "        console.error('Error during call to suggestCharts:', error);\n",
              "      }\n",
              "      quickchartButtonEl.classList.remove('colab-df-spinner');\n",
              "      quickchartButtonEl.classList.add('colab-df-quickchart-complete');\n",
              "    }\n",
              "    (() => {\n",
              "      let quickchartButtonEl =\n",
              "        document.querySelector('#df-5c1ec2af-42ba-4d25-a389-afc0122787ca button');\n",
              "      quickchartButtonEl.style.display =\n",
              "        google.colab.kernel.accessAllowed ? 'block' : 'none';\n",
              "    })();\n",
              "  </script>\n",
              "</div>\n",
              "    </div>\n",
              "  </div>\n"
            ]
          },
          "metadata": {},
          "execution_count": 26
        }
      ],
      "source": [
        "df_fp"
      ]
    },
    {
      "cell_type": "code",
      "source": [
        "df_fp['ID'] = df['ID']\n",
        "df_fp['smiles'] = df['smiles']\n",
        "\n",
        "from rdkit.Chem import PandasTools\n",
        "\n",
        "PandasTools.AddMoleculeColumnToFrame(df_fp, \"smiles\")\n",
        "df_fp.tail(1)"
      ],
      "metadata": {
        "id": "wbmQW-0uHCA4",
        "outputId": "2533f5ae-8c4f-4a40-9bbe-4f77d8438a64",
        "colab": {
          "base_uri": "https://localhost:8080/",
          "height": 297
        }
      },
      "id": "wbmQW-0uHCA4",
      "execution_count": 27,
      "outputs": [
        {
          "output_type": "execute_result",
          "data": {
            "text/plain": [
              "     0  1  2  3  4  5  6  7  8  9  ...  2041  2042  2043  2044  2045  2046  \\\n",
              "116  0  0  0  0  0  0  0  0  0  0  ...     0     0     0     0     0     0   \n",
              "\n",
              "     2047        ID                       smiles  \\\n",
              "116     0  87558032  CC(=O)N1CCN(c2ccc(O)cc2)CC1   \n",
              "\n",
              "                                                 ROMol  \n",
              "116  <img data-content=\"rdkit/molecule\" src=\"data:i...  \n",
              "\n",
              "[1 rows x 2051 columns]"
            ],
            "text/html": [
              "\n",
              "  <div id=\"df-09fddce8-e87d-4836-b372-76520b0e2693\" class=\"colab-df-container\">\n",
              "    <div>\n",
              "<style scoped>\n",
              "    .dataframe tbody tr th:only-of-type {\n",
              "        vertical-align: middle;\n",
              "    }\n",
              "\n",
              "    .dataframe tbody tr th {\n",
              "        vertical-align: top;\n",
              "    }\n",
              "\n",
              "    .dataframe thead th {\n",
              "        text-align: right;\n",
              "    }\n",
              "</style>\n",
              "<table border=\"1\" class=\"dataframe\">\n",
              "  <thead>\n",
              "    <tr style=\"text-align: right;\">\n",
              "      <th></th>\n",
              "      <th>0</th>\n",
              "      <th>1</th>\n",
              "      <th>2</th>\n",
              "      <th>3</th>\n",
              "      <th>4</th>\n",
              "      <th>5</th>\n",
              "      <th>6</th>\n",
              "      <th>7</th>\n",
              "      <th>8</th>\n",
              "      <th>9</th>\n",
              "      <th>...</th>\n",
              "      <th>2041</th>\n",
              "      <th>2042</th>\n",
              "      <th>2043</th>\n",
              "      <th>2044</th>\n",
              "      <th>2045</th>\n",
              "      <th>2046</th>\n",
              "      <th>2047</th>\n",
              "      <th>ID</th>\n",
              "      <th>smiles</th>\n",
              "      <th>ROMol</th>\n",
              "    </tr>\n",
              "  </thead>\n",
              "  <tbody>\n",
              "    <tr>\n",
              "      <th>116</th>\n",
              "      <td>0</td>\n",
              "      <td>0</td>\n",
              "      <td>0</td>\n",
              "      <td>0</td>\n",
              "      <td>0</td>\n",
              "      <td>0</td>\n",
              "      <td>0</td>\n",
              "      <td>0</td>\n",
              "      <td>0</td>\n",
              "      <td>0</td>\n",
              "      <td>...</td>\n",
              "      <td>0</td>\n",
              "      <td>0</td>\n",
              "      <td>0</td>\n",
              "      <td>0</td>\n",
              "      <td>0</td>\n",
              "      <td>0</td>\n",
              "      <td>0</td>\n",
              "      <td>87558032</td>\n",
              "      <td>CC(=O)N1CCN(c2ccc(O)cc2)CC1</td>\n",
              "      <td style=\"text-align: center;\"><img data-content=\"rdkit/molecule\" src=\"data:image/png;base64,iVBORw0KGgoAAAANSUhEUgAAAMgAAADICAIAAAAiOjnJAAAABmJLR0QA/wD/AP+gvaeTAAAPh0lEQVR4nO3deVRUdRsH8O8MjoiCHjDfVBQXkDdw1ywVeA0Q61gpejSi3NMy98xEDZdcEtPSVzSPHTIqlxfNDLJzXMLXhXDLXRQ1SxPLDmICyjbMPO8fd5p4WYZZ7sNMnedz+OPe68xzfzN8uff+7v3dq4aIIITatM5ugPh7kmAJFhIswUKCJVhIsAQLCZZgIcESLCRYgoUES7CQYAkWEizBQoIlWEiwBAsJlmAhwRIsJFiChQRLsJBgCRYSLMFCgiVYSLAECwmWYCHBEiwkWIKFBEuwkGAJFhIswUKCJVhIsAQLCZZgIcESLCRYgoUES7CQYAkWEizBQoIlWEiwBAsJlmAhwRIsJFiChQRLsJBgCRYSLMFCgiVYSLAECwmWYCHBEiwkWIKFBEuwkGAJFhIswUKCJVhIsAQLCZZgIcESLCRYgoUES7CQYAkWEizBQoIlWEiwBAsJlmAhwRIsJFiChQRLsJBgCRYSLMFCgiVYSLAECwmWYCHBEiwkWIKFBEuwkGAJFhIswUKCJVhIsASLes5ugPhLKStDVhbc3BAcjHqWwiPBElbLzsbIkQgPR1kZjh3Djh1o3bqm12qIqC7bZhO9Xu9gBTc3N63WJXb3f4fP8vzzmDUL/foBQEoK9u7Fpk01vphcUm5ubkpKiuNfxeTJkw8dOuTcz3L//v2dO3c6/lnGjh174MABZ34SX18yGk3Tv/9OQUEWXuuiwZo4caJGo9FqtfUc4+Hh4ePjc/fuXSd+llmzZgFw/LM0bNjQy8vrl19+cdon+asH6+LFi8pXefHiRQdLPf3008p2S5WG2eGHH35wd3fXarUnT550sNSQIUMAjB49Wo122WXgQMrIME3v3Eljxlh4rSsGKyoqCsCMGTMcL3Xp0iWdTufm5nb+/HnHq9nhueeeAzB+/HjHS12/fr1BgwYajeb48eOOV7PBiROUnU1EdP489ehBS5bQggXUqxfduGHhTS4XrB07dgBQcf81ZcoUABEREapUs8n+/fsBqLj/mjNnDoDevXsbzbskbno9dexIOh2lpxMRFRbSwYOUkUFFRZbf51rBKi4ubteuHYANGzYoS3JycuwrVVRUlJeXR0T37t175JFHAOzatUu1hlpBr9d36tQJwMqVK9WqWVhY2LJlSwCff/65WjVr8e9/E0D+/lRSQkT0229UXm7N+1wrWEuWLAHQsWNHvV5PRIcOHdLpdHPmzLG1znfffdemTZuXXnpJmU1MTATQvn37EuXbqROrV68G4O/vr+5KP/nkEwC+vr6FhYUqlq1eXh41bUoApaYSERmNFBZG3bqZ9owWuVCwcnJyPD09Aezbt4+IDAZDz549ASxevNjWUj///HPDhg01Gs3hw4eJqLy8vHPnzgASEhLUb3d18vLymjZtCuDrr79Wt7LRaHziiScAxMfHq1u5GpMmEUCRkabZbdsIoH/8g+7fr/WtLhSsESNGABg2bJgyu3HjRgCtW7d++PChHdUWLFgAoHv37gaDgYjS09PVPdyxLD7+tJ+f/4ABAziKZ2Zm1qvnHhHxn59+4ij/h6wsqleP6tUjpd9TVERt2hBASUnWvNtVgnX06FGNRuPu7n7t2jUiys/Pb968OYDt27fbV7CoqKhNmzYANm3apCwZPHiwcppRtUbX4Px5cnOjRo1KLl/+lWkVkyfnA/TH3yCPAQMIoGnTTLMLFxJA3bv/lY6xjEbjk08+CeDtt99WlsycORNASEiII92fLVu2AHj00Ufv379PRNevX1dOKXF316OiCKDp0xlXkZNDjRoRQP/9L88KvvySAPL2JqVvfuuWaX1WX8ZwiWAlJycDaN68eX5+PhFdu3ZNlZOKRqMxLCwMQFxcnLIkLi4OQJ8+ffi66198QQD5+BD32f7Fiwmgrl2t3ILYoKSkZOOgQeUtW9K6daZFL75IAL34ovVFnB8scxf6s88+U5YMHDgQwKuvvup48VOnTmm12vr161+5coWICgoKWrRoAWDLli2OF6+qtJQCAgigDz/kKP9/ioupbVsCaONGlSsnJCQACOvZk/R6IqLMTNJoyMPD8hnRSpwfrLlz51Y86Wc+qfjrr+ocoIwdOxbA4MGDldmPP/5Y6a4/ePBAlfoVLVtGAAUHm34j3LZvJ4CaNaPff1et5p07dxo3bgxg7969RGQwGK7ExpJGQwsW2FTHycH68ccflcsUx44dIyK9Xt+xY0cAq1atUmsVd+7cadKkCYA9e/YQkcFgULrrC2z8pqxYETVuTADt3atuYUv69SOAZs5UreCYMWMAREdHK7PK3+GCyEiysW/u5GANHToUwKhRo5TZDz74AEBAQIC6JxWVbXtQUFBZWRkRZWZmajQaDw+Pn1Ttr48aRQANHapiydqdOUNubqTTWXPOsnbmI4erV69ShSOHrVu32lrKmcE6cOAAAE9Pz9u3bxNRXl6ej48PgN27d6u7otLS0sDAQACJiYnKktjYWAAxMTEqrmXlSmrWjK5fV7GkVSZMoKeeUiFYRqMxNDQUgPlSx1tvvWV3X8disJYt+3N6/XrTnjw1lWbMoPh4unzZ1pVVVF5e3qVLFwDL/ljLa6+9BqB///6OlK3JV199BcDb2zs3N5eIbt261ahRIwAHDx50pOy8eXTqlGl6/vxar8yyKCmhtDRav940+803lJlpT53NmzcrZ2eUvrl5wM+JEyfsqGYxWG3b/jn9r3/RzZu0fDmNHEkXLtDBg9S1KzkwFmX9+vUA2rVrV1xcTKqOwaqJMjZrypQpyuyiRYsAdOvWrdyB/nqHDhQWZurw//OfVGdjDipZuJB8fOj774mIli6l5GSbKxQVFfn5+VU8nzxo0CAA48aNs69JNt5MsWEDsrPh4QEACxdi7VpMn47vv6/p5Zu12nKjseryhw8fxsfHKwfpDRo0AHDkyBEAkydPVg7eObz//vvp6eknT57U6/U6nW727NnJyclnz54dP358P2UcdxUeHv7FxWE1FQwJgU6HqCgkJmLGDKZWW2vmTEybhsOHTbNffIEHD6p/pU5Xotf/p9JCo9EYHh5+5syZgIAAAOnp6WlpaV5eXkuXLrWzQZZS16IFRUWZfry96exZ6tTpz3/NzqbwcEpIIKCmH6/69Wtar5+fX9uKW0SiS5cu3bt3z76/DytlZmYqlw4V7777rtJhrEnfviNq/nCUlETBwVRURF270q1bTt5ipaRQXBwlJpq2WH5+NTa7VStLt3VERkZOmjRJuWa/YsUKu5tkcYvl7o59+0zT/frBywsFBX/+a24umjVD584YPbqmArFubqUGQ9XlhYWFaWlpRHTmzJnu3bsrC4OCgiw1Rg19+vQxTxPR7t278/Pzu3TpYm5DJc2bh3ToUGO1wEAA8PDAsmWYPVvlptph/nz07YuICLRqheHDcfdu9S/z9NQ/eFD9r6y0tDQ1NTU9Pb1Xr14BAQHTp0+3vzWWUlf1GGvYMNq2jYiovJyGD6eUFLsTrcrVQEeYj1XvWzEIpCbBwaaJIUOoYUMnb7GI6MsvqVEje46xzN577z0AQUFBDg4DsRissLA/p2Ni6PZtys2lESMoKoqeeopWrXLkizSPX0hxIJ12q3qsah/zuJgbNygw0GnBWrOGvvnGNB0bSzt32l/KfGpmzZo1jjTJmeexHBxx5Yj58+cD6NGjR8VDLgcdP07PP0/5+WrVs9batbRoka0nxi1JS0tDhVMz9nFmsAwGw+OPPw67xog6otL4UrWEhhJAs2erWLJ25utI+/erWfaZZ54B8Prrr9tdwcmXdDIyMpSrKzdv3qyzlb7wwgsAzCPi1XL6NGm1VL8+XbmibmFLxo0jgAYNUrms+ba5c+fO2VfB+aMbhg8fDuDll1+um9WZo3zDlkEgVmL6NdeENcrTpk0DEB4ebt/bnR8sph1Ttcw733feeYej/m+/UZMmBNCePRzlKwsLY9z5mm+b22lXX8D5wSKeQ+lqffTRR9zdhRUrCKCgICorY1qDydat1t8yY6dKl91s4hLBUqvzb1lBQUEdnOAoLaXAQAJo7Vq+ldh6y4ydqg4UsJ5LBIuqXFrn8OabbwLo27cv9ynZ1FTzsHeuDfCiRQaAevQg5k185aFN1nOVYFUdDKQutW7QsNLw4Q9DQj6cMmUqR/GbN2+2bx8YErLlyBGO8pXZ95QbVwkWVRm+qK5nn30WwIQJE1SvXC3Wp9zExMQAiI2NVb1ytcxPuVGGj1vJtR4VOXbs2OTk5Ojo6F27dlVcfvr06by8POvrhIaGeihjewAA3377bVRUlJeX19WrV5XDrDowderUdevWRUREKDdhqyUzMzM0NLRBgwaXL19W7sitA/PmzVu+fHnv3r2VUd1WvYct6PYw3yKy5//765GRkTZ9ERW3eRxPfbEGx1NuDAZDr169ACxcuFCtmtaoeoterVxriwUgISFh7ty5wcHBZ8+e1el0ysK4uLjTp09bXyQ5OdnX11eZXrNmzRtvvOHv75+VleXu7q5+i2u2bt26qVOntm/fPisrSxnP6KCkpKQJEya0atUqOztbGVpdZz799NMxY8b4+vpmZ2crz26pBWfQ7VFaWtqhQwcA68y34TqA76kv1jA/5Wb58uWOVzPfM7NNGblUt6o+BsEylwsWESkHWN7e3o4/1G/ixIlgu0HDGsoBlqenp+NPuVEeklsHp0tqUunBLZa53K5Q0b9///T09Hbt2vn7+9tdpKSkJDMzU6vVnjt3Ljg4WMXm2SQ6Ojo1NdXPz08Z52SfsrKyo0ePGgyGEydOKI8Nc4qRI0du3rz5lVdeSUpKquWl/EG3x4ULF5TzmQ6KiYlZvXq1cz/LtWvXlI2Ng6Kjox0ZhK6KnJycuXPnFhQU1PpKF91iASguLs7IyHCwSNu2bTtYGLVeV8rKyg4dOuRgkdatWz/22GOqtKcOuG6wxF+aS/w/M+LvR4IlWEiwBAsJlmAhwRIsJFiChQRLsJBgCRYSLMFCgiVYSLAECwmWYCHBEiwkWIKFBEuwkGAJFhIswUKCJVhIsAQLCZZgIcESLCRYgoUES7CQYAkWEizBQoIlWEiwBAsJlmAhwRIsJFiChQRLsJBgCRYSLMFCgiVYSLAECwmWYCHBEiwkWIKFBEuwkGAJFhIswUKCJVhIsAQLCZZgIcESLCRYgoUES7CQYAkWEizBQoIlWEiwBAsJlmAhwRIsJFiChQRLsJBgCRYSLMFCgiVYSLAECwmWYCHBEiwkWIKFBEuwkGAJFhIswUKCJVhIsAQLCZZgIcESLCRYgoUES7CQYAkWEizBQoIlWEiwBAsJlmDxP9fcqZQbZ23xAAABAnpUWHRyZGtpdFBLTCByZGtpdCAyMDIyLjAzLjUAAHicbU9LbsJADPV4Ek8S8quEYJsNFbfIrHqOLLNE6gVYdskd2iI2XIFkzQEQK6SeAIkTYMahGVW1ZPn5zfMb+3rYX4AjAwnFWXK+cK4VQfPgNMGSqw4iqWikanlHfNZf3oqebOt65YGnkyOU+kfyx3TCSylcotKVDiAIISQgU5moxShu4qTFZFIlaZNmLVIOeQGFhsw0UyRd5BQGFMVJmpn5cbjPBR+5sz9v207ajeV7PwU7vhZsmf/4HkY8va1HvF6czqsvwX03+pT96LPy8KZ/v5Wvg74f/Z2m82b9v2pvB4dnd22ZPi51CQlmAAABRnpUWHRNT0wgcmRraXQgMjAyMi4wMy41AAB4nI1UUW6DMAz95xS+AJGdOIF8FqiqaSpIG9sd9r/7azYVdVCljARb4LzYyfMTDej4mN5/fuE5/NQ0AFh5cs7wHRCxuYO+wHC9vc0wrpdhj4zL17x+AiWgTvbIPGIv63LfIwQjROejJERoyfmcMfSADrdhW70A2cVHtLX1F2CAxTJWEjLMEPZoLWGUyv7MEZMA0XX/AzspjWdK95JREp24dVakP3FtQkWG/Zg1pPamfXJeKU5eOG/TmRtROJSvsUR8uFMVGkvqa8BUNrMCvM7TQacP5Q7LPJlydXrTp85gKpQ1YBMbiUWTFIklEw6JdSYPEutNBCyWrdMsRmVDWR1R0TjanC8axFskFH1gdcQF3VqWYkEqbS4V7JE629NpFrazKm0lSfq9/xrkvfkDQrzSWFMeUykAAACAelRYdFNNSUxFUyByZGtpdCAyMDIyLjAzLjUAAHicbY1LCsAgDESv0qVCIhq1pUhX2eshcg0P3yrFEuhm4A3zYTZXszUwVyMkIqZZEbLMYesmO8qAwdF5+gQluQweynSXGYdFOujdoXBEHpxtJFXHOLIfvh+4T416CP9+Fqlh22/tQyzuzYbHZQAAAABJRU5ErkJggg==\" alt=\"Mol\"/></td>\n",
              "    </tr>\n",
              "  </tbody>\n",
              "</table>\n",
              "<p>1 rows × 2051 columns</p>\n",
              "</div>\n",
              "    <div class=\"colab-df-buttons\">\n",
              "\n",
              "  <div class=\"colab-df-container\">\n",
              "    <button class=\"colab-df-convert\" onclick=\"convertToInteractive('df-09fddce8-e87d-4836-b372-76520b0e2693')\"\n",
              "            title=\"Convert this dataframe to an interactive table.\"\n",
              "            style=\"display:none;\">\n",
              "\n",
              "  <svg xmlns=\"http://www.w3.org/2000/svg\" height=\"24px\" viewBox=\"0 -960 960 960\">\n",
              "    <path d=\"M120-120v-720h720v720H120Zm60-500h600v-160H180v160Zm220 220h160v-160H400v160Zm0 220h160v-160H400v160ZM180-400h160v-160H180v160Zm440 0h160v-160H620v160ZM180-180h160v-160H180v160Zm440 0h160v-160H620v160Z\"/>\n",
              "  </svg>\n",
              "    </button>\n",
              "\n",
              "  <style>\n",
              "    .colab-df-container {\n",
              "      display:flex;\n",
              "      gap: 12px;\n",
              "    }\n",
              "\n",
              "    .colab-df-convert {\n",
              "      background-color: #E8F0FE;\n",
              "      border: none;\n",
              "      border-radius: 50%;\n",
              "      cursor: pointer;\n",
              "      display: none;\n",
              "      fill: #1967D2;\n",
              "      height: 32px;\n",
              "      padding: 0 0 0 0;\n",
              "      width: 32px;\n",
              "    }\n",
              "\n",
              "    .colab-df-convert:hover {\n",
              "      background-color: #E2EBFA;\n",
              "      box-shadow: 0px 1px 2px rgba(60, 64, 67, 0.3), 0px 1px 3px 1px rgba(60, 64, 67, 0.15);\n",
              "      fill: #174EA6;\n",
              "    }\n",
              "\n",
              "    .colab-df-buttons div {\n",
              "      margin-bottom: 4px;\n",
              "    }\n",
              "\n",
              "    [theme=dark] .colab-df-convert {\n",
              "      background-color: #3B4455;\n",
              "      fill: #D2E3FC;\n",
              "    }\n",
              "\n",
              "    [theme=dark] .colab-df-convert:hover {\n",
              "      background-color: #434B5C;\n",
              "      box-shadow: 0px 1px 3px 1px rgba(0, 0, 0, 0.15);\n",
              "      filter: drop-shadow(0px 1px 2px rgba(0, 0, 0, 0.3));\n",
              "      fill: #FFFFFF;\n",
              "    }\n",
              "  </style>\n",
              "\n",
              "    <script>\n",
              "      const buttonEl =\n",
              "        document.querySelector('#df-09fddce8-e87d-4836-b372-76520b0e2693 button.colab-df-convert');\n",
              "      buttonEl.style.display =\n",
              "        google.colab.kernel.accessAllowed ? 'block' : 'none';\n",
              "\n",
              "      async function convertToInteractive(key) {\n",
              "        const element = document.querySelector('#df-09fddce8-e87d-4836-b372-76520b0e2693');\n",
              "        const dataTable =\n",
              "          await google.colab.kernel.invokeFunction('convertToInteractive',\n",
              "                                                    [key], {});\n",
              "        if (!dataTable) return;\n",
              "\n",
              "        const docLinkHtml = 'Like what you see? Visit the ' +\n",
              "          '<a target=\"_blank\" href=https://colab.research.google.com/notebooks/data_table.ipynb>data table notebook</a>'\n",
              "          + ' to learn more about interactive tables.';\n",
              "        element.innerHTML = '';\n",
              "        dataTable['output_type'] = 'display_data';\n",
              "        await google.colab.output.renderOutput(dataTable, element);\n",
              "        const docLink = document.createElement('div');\n",
              "        docLink.innerHTML = docLinkHtml;\n",
              "        element.appendChild(docLink);\n",
              "      }\n",
              "    </script>\n",
              "  </div>\n",
              "\n",
              "    </div>\n",
              "  </div>\n"
            ]
          },
          "metadata": {},
          "execution_count": 27
        }
      ]
    },
    {
      "cell_type": "code",
      "source": [
        "row_number = 116\n",
        "mol = df_fp[\"ROMol\"][row_number]\n",
        "\n",
        "bitI_morgan = {}\n",
        "fp_morgan = AllChem.GetMorganFingerprintAsBitVect(compound, 2, bitInfo=bitI_morgan)\n",
        "\n",
        "morgan_turples = ((mol , bit, bitI_morgan) for bit in list(bitI_morgan.keys()))\n",
        "Draw.DrawMorganBits(morgan_turples, molsPerRow=4, legends=['bit: '+str(x) for x in list(bitI_morgan.keys())])"
      ],
      "metadata": {
        "id": "5B6LNoGTHPkz",
        "outputId": "d0785dd1-8227-43ee-888d-71bb51d4668f",
        "colab": {
          "base_uri": "https://localhost:8080/",
          "height": 767
        }
      },
      "id": "5B6LNoGTHPkz",
      "execution_count": 28,
      "outputs": [
        {
          "output_type": "execute_result",
          "data": {
            "text/plain": [
              "<PIL.PngImagePlugin.PngImageFile image mode=RGB size=600x750>"
            ],
            "image/png": "[encoded data removed]"
          },
          "metadata": {},
          "execution_count": 28
        }
      ]
    },
    {
      "cell_type": "markdown",
      "source": [
        "## RDKFingerprint"
      ],
      "metadata": {
        "id": "rMAoPd1gHyVC"
      },
      "id": "rMAoPd1gHyVC"
    },
    {
      "cell_type": "code",
      "source": [
        "row_number =116\n",
        "bit_number = 2047\n",
        "\n",
        "mol = df[\"ROMol\"][row_number]\n",
        "\n",
        "bitI_rdkit = {}\n",
        "fp_rdkit = Chem.RDKFingerprint(mol, maxPath=5, bitInfo=bitI_rdkit)\n",
        "rdkit_turples = ((mol, bit, bitI_rdkit) for bit in list(bitI_rdkit.keys())[:12])\n",
        "Draw.DrawRDKitBits(rdkit_turples, molsPerRow=4, legends=['bit: '+str(x) for x in list(bitI_rdkit.keys())[:12]])"
      ],
      "metadata": {
        "id": "IC3deDU7F1dP",
        "outputId": "7ff39dc0-abba-4ae0-c01b-a4ec019012b1",
        "colab": {
          "base_uri": "https://localhost:8080/",
          "height": 467
        }
      },
      "id": "IC3deDU7F1dP",
      "execution_count": 29,
      "outputs": [
        {
          "output_type": "execute_result",
          "data": {
            "text/plain": [
              "<PIL.PngImagePlugin.PngImageFile image mode=RGB size=600x450>"
            ],
            "image/png": "[encoded data removed]"
          },
          "metadata": {},
          "execution_count": 29
        }
      ]
    }
  ],
  "metadata": {
    "kernelspec": {
      "display_name": "Python 3 (ipykernel)",
      "language": "python",
      "name": "python3"
    },
    "language_info": {
      "codemirror_mode": {
        "name": "ipython",
        "version": 3
      },
      "file_extension": ".py",
      "mimetype": "text/x-python",
      "name": "python",
      "nbconvert_exporter": "python",
      "pygments_lexer": "ipython3",
      "version": "3.8.12"
    },
    "toc": {
      "base_numbering": 1,
      "nav_menu": {},
      "number_sections": true,
      "sideBar": true,
      "skip_h1_title": false,
      "title_cell": "Table of Contents",
      "title_sidebar": "Contents",
      "toc_cell": false,
      "toc_position": {},
      "toc_section_display": true,
      "toc_window_display": false
    },
    "colab": {
      "name": "lecture_note_RDKit_no2_Descriptorsの使い方.ipynb",
      "provenance": [],
      "include_colab_link": true
    }
  },
  "nbformat": 4,
  "nbformat_minor": 5
}