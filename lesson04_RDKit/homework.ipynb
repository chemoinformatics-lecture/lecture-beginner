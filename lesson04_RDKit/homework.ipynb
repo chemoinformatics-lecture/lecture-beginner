{
 "cells": [
  {
   "cell_type": "markdown",
   "id": "da35f185",
   "metadata": {},
   "source": [
    "# 問題１ 使用しているRDKitのバージョンを出力せよ。"
   ]
  },
  {
   "cell_type": "code",
   "execution_count": null,
   "id": "3465383b",
   "metadata": {},
   "outputs": [],
   "source": []
  },
  {
   "cell_type": "markdown",
   "id": "337210b1",
   "metadata": {},
   "source": [
    "# 問題２ \"l-ascorbic acid\"をRDKitのmolファイルにしてjupyter notebook上に表示させよ。"
   ]
  },
  {
   "cell_type": "code",
   "execution_count": null,
   "id": "86b6c8e0",
   "metadata": {},
   "outputs": [],
   "source": []
  },
  {
   "cell_type": "markdown",
   "id": "58cfa287",
   "metadata": {},
   "source": [
    "# 問題３\"l-ascorbic acid\"のBertzCTの値を示せ。"
   ]
  },
  {
   "cell_type": "code",
   "execution_count": null,
   "id": "dfa6a0cc",
   "metadata": {},
   "outputs": [],
   "source": []
  },
  {
   "cell_type": "markdown",
   "id": "38a125ad",
   "metadata": {},
   "source": [
    "# 問題4 pubchemに示されたantioxidantのSDFファイルをダウンロードしてRDKitのPandasTools読み込め。また、読み込まれた中身のデータをランダムに列を1個表示させよ。行は、'PUBCHEM_COMPOUND_CID', 'ROMol'にすること。"
   ]
  },
  {
   "cell_type": "code",
   "execution_count": null,
   "id": "344a7448",
   "metadata": {},
   "outputs": [],
   "source": []
  },
  {
   "cell_type": "markdown",
   "id": "18947d83",
   "metadata": {},
   "source": [
    "# 問題5 読み込んだSDFファイルのデータフレームに\"smiles\"の項目を追加し、ランダムに列を1個だけ表示せよ。"
   ]
  },
  {
   "cell_type": "code",
   "execution_count": null,
   "id": "bd9de684",
   "metadata": {},
   "outputs": [],
   "source": []
  },
  {
   "cell_type": "markdown",
   "id": "98f489c3",
   "metadata": {},
   "source": [
    "# 問題6 読み込んだSDFファイルのデータベースの化合物の中で\"fr_Ar_OH\", の項目が１以上である化合物だけのデータフレームを作成して個数を比べよ。"
   ]
  },
  {
   "cell_type": "code",
   "execution_count": null,
   "id": "92ccca81",
   "metadata": {},
   "outputs": [],
   "source": []
  }
 ],
 "metadata": {
  "kernelspec": {
   "display_name": "Python 3 (ipykernel)",
   "language": "python",
   "name": "python3"
  },
  "language_info": {
   "codemirror_mode": {
    "name": "ipython",
    "version": 3
   },
   "file_extension": ".py",
   "mimetype": "text/x-python",
   "name": "python",
   "nbconvert_exporter": "python",
   "pygments_lexer": "ipython3",
   "version": "3.8.12"
  },
  "toc": {
   "base_numbering": 1,
   "nav_menu": {},
   "number_sections": true,
   "sideBar": true,
   "skip_h1_title": false,
   "title_cell": "Table of Contents",
   "title_sidebar": "Contents",
   "toc_cell": false,
   "toc_position": {},
   "toc_section_display": true,
   "toc_window_display": false
  }
 },
 "nbformat": 4,
 "nbformat_minor": 5
}
