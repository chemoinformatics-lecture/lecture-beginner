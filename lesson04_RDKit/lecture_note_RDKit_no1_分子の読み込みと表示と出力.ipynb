{
 "cells": [
  {
   "cell_type": "markdown",
   "metadata": {
    "slideshow": {
     "slide_type": "slide"
    }
   },
   "source": [
    "#### １分子の読み込み  \n",
    "rdkit.Chem.MolFromMolBlock(mol_block) \n",
    "\n",
    "rdkit.Chem.MolFromSmiles(smiles)\n",
    "\n",
    "rdkit.Chem.MolFromInchi(Inchi)\n",
    "\n",
    "#### 複数分子の読み込み\n",
    "rdkit.Chem.SDMolSupplier(SDF)\n",
    "\n",
    "rdkit.Draw.MolsToGridImage(mols)\n",
    "\n",
    "rdkit.Chem.PandasTools.LoadSDF(SDF)\n",
    "\n",
    "#### Pandasの復習\n",
    "\n",
    "df[\"smiles\"] = df[\"ROMol\"].map(Chem.MolToSmiles)\n",
    "\n",
    "pd.to_csv('output.csv')\n",
    "\n",
    "pd.read_csv('output.csv')"
   ]
  },
  {
   "cell_type": "code",
   "execution_count": 1,
   "metadata": {
    "slideshow": {
     "slide_type": "slide"
    }
   },
   "outputs": [
    {
     "data": {
      "text/plain": [
       "'macOS-10.16-x86_64-i386-64bit'"
      ]
     },
     "execution_count": 1,
     "metadata": {},
     "output_type": "execute_result"
    }
   ],
   "source": [
    "import platform\n",
    "# 使用しているOSを表示\n",
    "platform.platform()"
   ]
  },
  {
   "cell_type": "code",
   "execution_count": 2,
   "metadata": {},
   "outputs": [
    {
     "name": "stdout",
     "output_type": "stream",
     "text": [
      "Python 3.9.7\r\n"
     ]
    }
   ],
   "source": [
    "# pythonのversionを表示\n",
    "!python -V"
   ]
  },
  {
   "cell_type": "code",
   "execution_count": 3,
   "metadata": {},
   "outputs": [
    {
     "data": {
      "text/plain": [
       "'1.0.4'"
      ]
     },
     "execution_count": 3,
     "metadata": {},
     "output_type": "execute_result"
    }
   ],
   "source": [
    "import pubchempy as pcp\n",
    "# pcpと略すのが一般的\n",
    "# pubchemのversionを表示\n",
    "pcp. __version__"
   ]
  },
  {
   "cell_type": "code",
   "execution_count": 4,
   "metadata": {},
   "outputs": [
    {
     "data": {
      "text/plain": [
       "'1.3.2'"
      ]
     },
     "execution_count": 4,
     "metadata": {},
     "output_type": "execute_result"
    }
   ],
   "source": [
    "import pandas as pd\n",
    "# pdと略すのが一般的\n",
    "# pandasのversionを表示\n",
    "pd.__version__"
   ]
  },
  {
   "cell_type": "code",
   "execution_count": 5,
   "metadata": {},
   "outputs": [
    {
     "name": "stdout",
     "output_type": "stream",
     "text": [
      "2021.03.5\n"
     ]
    }
   ],
   "source": [
    "from rdkit import rdBase, Chem\n",
    "print(rdBase.rdkitVersion)"
   ]
  },
  {
   "cell_type": "markdown",
   "metadata": {
    "slideshow": {
     "slide_type": "slide"
    }
   },
   "source": [
    "# １分子の読み込み"
   ]
  },
  {
   "cell_type": "markdown",
   "metadata": {},
   "source": [
    "## rdkit.Chem.MolFromSmiles(smiles)"
   ]
  },
  {
   "cell_type": "code",
   "execution_count": 6,
   "metadata": {},
   "outputs": [],
   "source": [
    "quercetine = pcp.get_compounds('quercetine', 'name')"
   ]
  },
  {
   "cell_type": "code",
   "execution_count": 7,
   "metadata": {},
   "outputs": [
    {
     "data": {
      "text/plain": [
       "'C1=CC(=C(C=C1C2=C(C(=O)C3=C(C=C(C=C3O2)O)O)O)O)O'"
      ]
     },
     "execution_count": 7,
     "metadata": {},
     "output_type": "execute_result"
    }
   ],
   "source": [
    "quercetine_smiles = quercetine[0].isomeric_smiles\n",
    "quercetine_smiles"
   ]
  },
  {
   "cell_type": "code",
   "execution_count": 8,
   "metadata": {},
   "outputs": [
    {
     "data": {
      "image/png": "[encoded data removed]",
      "text/plain": [
       "<rdkit.Chem.rdchem.Mol at 0x7fdab83d4400>"
      ]
     },
     "execution_count": 8,
     "metadata": {},
     "output_type": "execute_result"
    }
   ],
   "source": [
    "quercetine_mol = Chem.MolFromSmiles(quercetine_smiles)\n",
    "quercetine_mol "
   ]
  },
  {
   "cell_type": "code",
   "execution_count": 9,
   "metadata": {
    "slideshow": {
     "slide_type": "subslide"
    }
   },
   "outputs": [
    {
     "data": {
      "text/plain": [
       "rdkit.Chem.rdchem.Mol"
      ]
     },
     "execution_count": 9,
     "metadata": {},
     "output_type": "execute_result"
    }
   ],
   "source": [
    "type(quercetine_mol)"
   ]
  },
  {
   "cell_type": "code",
   "execution_count": 10,
   "metadata": {},
   "outputs": [
    {
     "name": "stdout",
     "output_type": "stream",
     "text": [
      "Help on method GetAtoms:\n",
      "\n",
      "GetAtoms(...) method of rdkit.Chem.rdchem.Mol instance\n",
      "    GetAtoms( (Mol)arg1) -> _ROAtomSeq :\n",
      "        Returns a read-only sequence containing all of the molecule's Atoms.\n",
      "        \n",
      "    \n",
      "        C++ signature :\n",
      "            RDKit::ReadOnlySeq<RDKit::AtomIterator_<RDKit::Atom, RDKit::ROMol>, RDKit::Atom*, RDKit::AtomCountFunctor>* GetAtoms(boost::shared_ptr<RDKit::ROMol>)\n",
      "\n"
     ]
    }
   ],
   "source": [
    "help(quercetine_mol.GetAtoms)"
   ]
  },
  {
   "cell_type": "markdown",
   "metadata": {
    "slideshow": {
     "slide_type": "slide"
    }
   },
   "source": [
    "## rdkit.Chem.MolFromMolBlock(mol_block)"
   ]
  },
  {
   "cell_type": "code",
   "execution_count": 11,
   "metadata": {},
   "outputs": [
    {
     "name": "stdout",
     "output_type": "stream",
     "text": [
      "5280343\n",
      "  -OEChem-09302117412D\n",
      "\n",
      " 32 34  0     0  0  0  0  0  0999 V2000\n",
      "    6.0682   -0.2704    0.0000 O   0  0  0  0  0  0  0  0  0  0  0  0\n",
      "    7.8003    1.7296    0.0000 O   0  0  0  0  0  0  0  0  0  0  0  0\n",
      "    4.3198    2.7642    0.0000 O   0  0  0  0  0  0  0  0  0  0  0  0\n",
      "    6.0682    2.7296    0.0000 O   0  0  0  0  0  0  0  0  0  0  0  0\n",
      "    2.5381   -0.2945    0.0000 O   0  0  0  0  0  0  0  0  0  0  0  0\n",
      "    8.6663   -2.7704    0.0000 O   0  0  0  0  0  0  0  0  0  0  0  0\n",
      "   10.3984   -1.7704    0.0000 O   0  0  0  0  0  0  0  0  0  0  0  0\n",
      "    5.2022    1.2296    0.0000 C   0  0  0  0  0  0  0  0  0  0  0  0\n",
      "    5.2022    0.2296    0.0000 C   0  0  0  0  0  0  0  0  0  0  0  0\n",
      "    6.9343    0.2296    0.0000 C   0  0  0  0  0  0  0  0  0  0  0  0\n",
      "    7.8003   -0.2704    0.0000 C   0  0  0  0  0  0  0  0  0  0  0  0\n",
      "    6.9343    1.2296    0.0000 C   0  0  0  0  0  0  0  0  0  0  0  0\n",
      "    6.0682    1.7296    0.0000 C   0  0  0  0  0  0  0  0  0  0  0  0\n",
      "    4.3083    1.7643    0.0000 C   0  0  0  0  0  0  0  0  0  0  0  0\n",
      "    4.3083   -0.3051    0.0000 C   0  0  0  0  0  0  0  0  0  0  0  0\n",
      "    3.4022    0.2088    0.0000 C   0  0  0  0  0  0  0  0  0  0  0  0\n",
      "    7.8003   -1.2704    0.0000 C   0  0  0  0  0  0  0  0  0  0  0  0\n",
      "    3.4022    1.2504    0.0000 C   0  0  0  0  0  0  0  0  0  0  0  0\n",
      "    8.6663    0.2296    0.0000 C   0  0  0  0  0  0  0  0  0  0  0  0\n",
      "    8.6663   -1.7704    0.0000 C   0  0  0  0  0  0  0  0  0  0  0  0\n",
      "    9.5323   -0.2704    0.0000 C   0  0  0  0  0  0  0  0  0  0  0  0\n",
      "    9.5323   -1.2704    0.0000 C   0  0  0  0  0  0  0  0  0  0  0  0\n",
      "    4.3154   -0.9250    0.0000 H   0  0  0  0  0  0  0  0  0  0  0  0\n",
      "    7.2634   -1.5804    0.0000 H   0  0  0  0  0  0  0  0  0  0  0  0\n",
      "    2.8665    1.5625    0.0000 H   0  0  0  0  0  0  0  0  0  0  0  0\n",
      "    8.6663    0.8496    0.0000 H   0  0  0  0  0  0  0  0  0  0  0  0\n",
      "   10.0693    0.0396    0.0000 H   0  0  0  0  0  0  0  0  0  0  0  0\n",
      "    7.8003    2.3496    0.0000 H   0  0  0  0  0  0  0  0  0  0  0  0\n",
      "    3.7865    3.0804    0.0000 H   0  0  0  0  0  0  0  0  0  0  0  0\n",
      "    2.0000    0.0134    0.0000 H   0  0  0  0  0  0  0  0  0  0  0  0\n",
      "    8.1294   -3.0804    0.0000 H   0  0  0  0  0  0  0  0  0  0  0  0\n",
      "   10.9353   -1.4604    0.0000 H   0  0  0  0  0  0  0  0  0  0  0  0\n",
      "  1  9  1  0  0  0  0\n",
      "  1 10  1  0  0  0  0\n",
      "  2 12  1  0  0  0  0\n",
      "  2 28  1  0  0  0  0\n",
      "  3 14  1  0  0  0  0\n",
      "  3 29  1  0  0  0  0\n",
      "  4 13  2  0  0  0  0\n",
      "  5 16  1  0  0  0  0\n",
      "  5 30  1  0  0  0  0\n",
      "  6 20  1  0  0  0  0\n",
      "  6 31  1  0  0  0  0\n",
      "  7 22  1  0  0  0  0\n",
      "  7 32  1  0  0  0  0\n",
      "  8  9  1  0  0  0  0\n",
      "  8 13  1  0  0  0  0\n",
      "  8 14  2  0  0  0  0\n",
      "  9 15  2  0  0  0  0\n",
      " 10 11  1  0  0  0  0\n",
      " 10 12  2  0  0  0  0\n",
      " 11 17  2  0  0  0  0\n",
      " 11 19  1  0  0  0  0\n",
      " 12 13  1  0  0  0  0\n",
      " 14 18  1  0  0  0  0\n",
      " 15 16  1  0  0  0  0\n",
      " 15 23  1  0  0  0  0\n",
      " 16 18  2  0  0  0  0\n",
      " 17 20  1  0  0  0  0\n",
      " 17 24  1  0  0  0  0\n",
      " 18 25  1  0  0  0  0\n",
      " 19 21  2  0  0  0  0\n",
      " 19 26  1  0  0  0  0\n",
      " 20 22  2  0  0  0  0\n",
      " 21 22  1  0  0  0  0\n",
      " 21 27  1  0  0  0  0\n",
      "M  END\n",
      "> <PUBCHEM_COMPOUND_CID>\n",
      "5280343\n",
      "\n",
      "> <PUBCHEM_COMPOUND_CANONICALIZED>\n",
      "1\n",
      "\n",
      "> <PUBCHEM_CACTVS_COMPLEXITY>\n",
      "488\n",
      "\n",
      "> <PUBCHEM_CACTVS_HBOND_ACCEPTOR>\n",
      "7\n",
      "\n",
      "> <PUBCHEM_CACTVS_HBOND_DONOR>\n",
      "5\n",
      "\n",
      "> <PUBCHEM_CACTVS_ROTATABLE_BOND>\n",
      "1\n",
      "\n",
      "> <PUBCHEM_CACTVS_SUBSKEYS>\n",
      "AAADccBwOAAAAAAAAAAAAAAAAAAAAAAAAAAwYIAAAAAAAACBQAAAGgAACAAADASAmAAwBoAABgCIAqBSAAICCAAkIAAIiAFGiMgNJzaGNRqCeWGl4BUJuQfI7LzOIAABCAAIQABAAAIQABCAAAAAAAAAAA==\n",
      "\n",
      "> <PUBCHEM_IUPAC_OPENEYE_NAME>\n",
      "2-(3,4-dihydroxyphenyl)-3,5,7-trihydroxy-chromen-4-one\n",
      "\n",
      "> <PUBCHEM_IUPAC_CAS_NAME>\n",
      "2-(3,4-dihydroxyphenyl)-3,5,7-trihydroxy-1-benzopyran-4-one\n",
      "\n",
      "> <PUBCHEM_IUPAC_NAME_MARKUP>\n",
      "2-(3,4-dihydroxyphenyl)-3,5,7-trihydroxychromen-4-one\n",
      "\n",
      "> <PUBCHEM_IUPAC_NAME>\n",
      "2-(3,4-dihydroxyphenyl)-3,5,7-trihydroxychromen-4-one\n",
      "\n",
      "> <PUBCHEM_IUPAC_SYSTEMATIC_NAME>\n",
      "2-[3,4-bis(oxidanyl)phenyl]-3,5,7-tris(oxidanyl)chromen-4-one\n",
      "\n",
      "> <PUBCHEM_IUPAC_TRADITIONAL_NAME>\n",
      "2-(3,4-dihydroxyphenyl)-3,5,7-trihydroxy-chromone\n",
      "\n",
      "> <PUBCHEM_IUPAC_INCHI>\n",
      "InChI=1S/C15H10O7/c16-7-4-10(19)12-11(5-7)22-15(14(21)13(12)20)6-1-2-8(17)9(18)3-6/h1-5,16-19,21H\n",
      "\n",
      "> <PUBCHEM_IUPAC_INCHIKEY>\n",
      "REFJWTPEDVJJIY-UHFFFAOYSA-N\n",
      "\n",
      "> <PUBCHEM_XLOGP3>\n",
      "1.5\n",
      "\n",
      "> <PUBCHEM_EXACT_MASS>\n",
      "302.04265265\n",
      "\n",
      "> <PUBCHEM_MOLECULAR_FORMULA>\n",
      "C15H10O7\n",
      "\n",
      "> <PUBCHEM_MOLECULAR_WEIGHT>\n",
      "302.23\n",
      "\n",
      "> <PUBCHEM_OPENEYE_CAN_SMILES>\n",
      "C1=CC(=C(C=C1C2=C(C(=O)C3=C(C=C(C=C3O2)O)O)O)O)O\n",
      "\n",
      "> <PUBCHEM_OPENEYE_ISO_SMILES>\n",
      "C1=CC(=C(C=C1C2=C(C(=O)C3=C(C=C(C=C3O2)O)O)O)O)O\n",
      "\n",
      "> <PUBCHEM_CACTVS_TPSA>\n",
      "127\n",
      "\n",
      "> <PUBCHEM_MONOISOTOPIC_WEIGHT>\n",
      "302.04265265\n",
      "\n",
      "> <PUBCHEM_TOTAL_CHARGE>\n",
      "0\n",
      "\n",
      "> <PUBCHEM_HEAVY_ATOM_COUNT>\n",
      "22\n",
      "\n",
      "> <PUBCHEM_ATOM_DEF_STEREO_COUNT>\n",
      "0\n",
      "\n",
      "> <PUBCHEM_ATOM_UDEF_STEREO_COUNT>\n",
      "0\n",
      "\n",
      "> <PUBCHEM_BOND_DEF_STEREO_COUNT>\n",
      "0\n",
      "\n",
      "> <PUBCHEM_BOND_UDEF_STEREO_COUNT>\n",
      "0\n",
      "\n",
      "> <PUBCHEM_ISOTOPIC_ATOM_COUNT>\n",
      "0\n",
      "\n",
      "> <PUBCHEM_COMPONENT_COUNT>\n",
      "1\n",
      "\n",
      "> <PUBCHEM_CACTVS_TAUTO_COUNT>\n",
      "435\n",
      "\n",
      "> <PUBCHEM_COORDINATE_TYPE>\n",
      "1\n",
      "5\n",
      "255\n",
      "\n",
      "> <PUBCHEM_BONDANNOTATIONS>\n",
      "1  10  8\n",
      "1  9  8\n",
      "10  12  8\n",
      "11  17  8\n",
      "11  19  8\n",
      "12  13  8\n",
      "14  18  8\n",
      "15  16  8\n",
      "16  18  8\n",
      "17  20  8\n",
      "19  21  8\n",
      "20  22  8\n",
      "21  22  8\n",
      "8  13  8\n",
      "8  14  8\n",
      "8  9  8\n",
      "9  15  8\n",
      "\n",
      "$$$$\n",
      "\n"
     ]
    }
   ],
   "source": [
    "quercetine_sdf = pcp.get_sdf('quercetine', 'name')\n",
    "print(quercetine_sdf)"
   ]
  },
  {
   "cell_type": "code",
   "execution_count": 12,
   "metadata": {
    "slideshow": {
     "slide_type": "subslide"
    }
   },
   "outputs": [
    {
     "data": {
      "image/png": "[encoded data removed]",
      "text/plain": [
       "<rdkit.Chem.rdchem.Mol at 0x7fdac81b9160>"
      ]
     },
     "execution_count": 12,
     "metadata": {},
     "output_type": "execute_result"
    }
   ],
   "source": [
    "Chem.MolFromMolBlock(quercetine_sdf)"
   ]
  },
  {
   "cell_type": "markdown",
   "metadata": {
    "slideshow": {
     "slide_type": "slide"
    }
   },
   "source": [
    "## rdkit.Chem.MolFromInchi(Inchi)"
   ]
  },
  {
   "cell_type": "code",
   "execution_count": 13,
   "metadata": {},
   "outputs": [
    {
     "data": {
      "text/plain": [
       "'InChI=1S/C15H10O7/c16-7-4-10(19)12-11(5-7)22-15(14(21)13(12)20)6-1-2-8(17)9(18)3-6/h1-5,16-19,21H'"
      ]
     },
     "execution_count": 13,
     "metadata": {},
     "output_type": "execute_result"
    }
   ],
   "source": [
    "quercetine_inchi = quercetine[0].inchi\n",
    "quercetine_inchi"
   ]
  },
  {
   "cell_type": "code",
   "execution_count": 14,
   "metadata": {},
   "outputs": [
    {
     "data": {
      "image/png": "[encoded data removed]",
      "text/plain": [
       "<rdkit.Chem.rdchem.Mol at 0x7fdac81a95f0>"
      ]
     },
     "execution_count": 14,
     "metadata": {},
     "output_type": "execute_result"
    }
   ],
   "source": [
    "Chem.MolFromInchi(quercetine_inchi)"
   ]
  },
  {
   "cell_type": "code",
   "execution_count": 15,
   "metadata": {
    "slideshow": {
     "slide_type": "subslide"
    }
   },
   "outputs": [
    {
     "name": "stdout",
     "output_type": "stream",
     "text": [
      "Help on built-in function MolFromPDBFile in module rdkit.Chem.rdmolfiles:\n",
      "\n",
      "MolFromPDBFile(...)\n",
      "    MolFromPDBFile( (str)molFileName [, (bool)sanitize=True [, (bool)removeHs=True [, (int)flavor=0 [, (bool)proximityBonding=True]]]]) -> Mol :\n",
      "        Construct a molecule from a PDB file.\n",
      "        \n",
      "          ARGUMENTS:\n",
      "        \n",
      "            - fileName: name of the file to read\n",
      "        \n",
      "            - sanitize: (optional) toggles sanitization of the molecule.\n",
      "              Defaults to true.\n",
      "        \n",
      "            - removeHs: (optional) toggles removing hydrogens from the molecule.\n",
      "              This only make sense when sanitization is done.\n",
      "              Defaults to true.\n",
      "        \n",
      "            - flavor: (optional) \n",
      "        \n",
      "            - proximityBonding: (optional) toggles automatic proximity bonding\n",
      "        \n",
      "          RETURNS:\n",
      "        \n",
      "            a Mol object, None on failure.\n",
      "        \n",
      "        \n",
      "    \n",
      "        C++ signature :\n",
      "            RDKit::ROMol* MolFromPDBFile(char const* [,bool=True [,bool=True [,unsigned int=0 [,bool=True]]]])\n",
      "\n"
     ]
    }
   ],
   "source": [
    "# その他の読み込み方法もあるが、必要に応じて調べてみてください。\n",
    "help(Chem.MolFromPDBFile)"
   ]
  },
  {
   "cell_type": "markdown",
   "metadata": {
    "slideshow": {
     "slide_type": "slide"
    }
   },
   "source": [
    "# 複数分子の読み込み"
   ]
  },
  {
   "cell_type": "code",
   "execution_count": 16,
   "metadata": {},
   "outputs": [],
   "source": [
    "suppl = Chem.SDMolSupplier('data/PubChem_TCI_phenol_records.sdf')"
   ]
  },
  {
   "cell_type": "code",
   "execution_count": 17,
   "metadata": {},
   "outputs": [
    {
     "data": {
      "text/plain": [
       "rdkit.Chem.rdmolfiles.SDMolSupplier"
      ]
     },
     "execution_count": 17,
     "metadata": {},
     "output_type": "execute_result"
    }
   ],
   "source": [
    "type(suppl)"
   ]
  },
  {
   "cell_type": "code",
   "execution_count": 18,
   "metadata": {},
   "outputs": [],
   "source": [
    "# supplを変換してリストにする。\n",
    "mols = [mol for mol in suppl]"
   ]
  },
  {
   "cell_type": "code",
   "execution_count": 19,
   "metadata": {},
   "outputs": [
    {
     "data": {
      "text/plain": [
       "117"
      ]
     },
     "execution_count": 19,
     "metadata": {},
     "output_type": "execute_result"
    }
   ],
   "source": [
    "len(mols)"
   ]
  },
  {
   "cell_type": "code",
   "execution_count": 20,
   "metadata": {
    "slideshow": {
     "slide_type": "slide"
    }
   },
   "outputs": [
    {
     "name": "stderr",
     "output_type": "stream",
     "text": [
      "/opt/anaconda3/envs/lecture-beginner/lib/python3.9/site-packages/rdkit/Chem/Draw/IPythonConsole.py:190: UserWarning: Truncating the list of molecules to be displayed to 3. Change the maxMols value to display more.\n",
      "  warnings.warn(\n"
     ]
    },
    {
     "data": {
      "image/png": "[encoded data removed]",
      "text/plain": [
       "<IPython.core.display.Image object>"
      ]
     },
     "execution_count": 20,
     "metadata": {},
     "output_type": "execute_result"
    }
   ],
   "source": [
    "from rdkit.Chem import Draw\n",
    "Draw.MolsToGridImage(mols,  maxMols=3, molsPerRow=3, subImgSize=(400,400))"
   ]
  },
  {
   "cell_type": "markdown",
   "metadata": {
    "slideshow": {
     "slide_type": "slide"
    }
   },
   "source": [
    "# Pandasのデータフレームに変換"
   ]
  },
  {
   "cell_type": "code",
   "execution_count": 21,
   "metadata": {},
   "outputs": [],
   "source": [
    "from rdkit.Chem import AllChem, PandasTools"
   ]
  },
  {
   "cell_type": "code",
   "execution_count": 22,
   "metadata": {},
   "outputs": [],
   "source": [
    "df = PandasTools.LoadSDF('data/PubChem_TCI_phenol_records.sdf')"
   ]
  },
  {
   "cell_type": "code",
   "execution_count": 23,
   "metadata": {},
   "outputs": [
    {
     "data": {
      "text/html": [
       "<div>\n",
       "<style scoped>\n",
       "    .dataframe tbody tr th:only-of-type {\n",
       "        vertical-align: middle;\n",
       "    }\n",
       "\n",
       "    .dataframe tbody tr th {\n",
       "        vertical-align: top;\n",
       "    }\n",
       "\n",
       "    .dataframe thead th {\n",
       "        text-align: right;\n",
       "    }\n",
       "</style>\n",
       "<table border=\"1\" class=\"dataframe\">\n",
       "  <thead>\n",
       "    <tr style=\"text-align: right;\">\n",
       "      <th></th>\n",
       "      <th>PUBCHEM_COMPOUND_ID_TYPE</th>\n",
       "      <th>PUBCHEM_TOTAL_CHARGE</th>\n",
       "      <th>PUBCHEM_SUBSTANCE_ID</th>\n",
       "      <th>PUBCHEM_SUBSTANCE_VERSION</th>\n",
       "      <th>PUBCHEM_EXT_DATASOURCE_NAME</th>\n",
       "      <th>PUBCHEM_EXT_DATASOURCE_REGID</th>\n",
       "      <th>PUBCHEM_SUBSTANCE_SYNONYM</th>\n",
       "      <th>PUBCHEM_XREF_EXT_ID</th>\n",
       "      <th>PUBCHEM_EXT_DATASOURCE_URL</th>\n",
       "      <th>PUBCHEM_EXT_SUBSTANCE_URL</th>\n",
       "      <th>PUBCHEM_CID_ASSOCIATIONS</th>\n",
       "      <th>PUBCHEM_COORDINATE_TYPE</th>\n",
       "      <th>ID</th>\n",
       "      <th>ROMol</th>\n",
       "      <th>PUBCHEM_BONDANNOTATIONS</th>\n",
       "      <th>PUBCHEM_SUBSTANCE_COMMENT</th>\n",
       "      <th>PUBCHEM_GENERIC_REGISTRY_NAME</th>\n",
       "    </tr>\n",
       "  </thead>\n",
       "  <tbody>\n",
       "    <tr>\n",
       "      <th>0</th>\n",
       "      <td>0</td>\n",
       "      <td>0</td>\n",
       "      <td>354335558</td>\n",
       "      <td>1</td>\n",
       "      <td>TCI (Tokyo Chemical Industry)</td>\n",
       "      <td>A3190</td>\n",
       "      <td>4-[1-Hydroxy-2-[[6-(4-phenylbutoxy)hexyl]amino...</td>\n",
       "      <td>A3190</td>\n",
       "      <td>http://www.tcichemicals.com/en/us/</td>\n",
       "      <td>http://www.tcichemicals.com/eshop/en/us/commod...</td>\n",
       "      <td>56801  1\\n5152  2\\n6844  2</td>\n",
       "      <td>1\\n3</td>\n",
       "      <td>354335558</td>\n",
       "      <td><img data-content=\"rdkit/molecule\" src=\"data:image/png;base64,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\" alt=\"Mol\"/></td>\n",
       "      <td>NaN</td>\n",
       "      <td>NaN</td>\n",
       "      <td>NaN</td>\n",
       "    </tr>\n",
       "  </tbody>\n",
       "</table>\n",
       "</div>"
      ],
      "text/plain": [
       "  PUBCHEM_COMPOUND_ID_TYPE PUBCHEM_TOTAL_CHARGE PUBCHEM_SUBSTANCE_ID  \\\n",
       "0                        0                    0            354335558   \n",
       "\n",
       "  PUBCHEM_SUBSTANCE_VERSION    PUBCHEM_EXT_DATASOURCE_NAME  \\\n",
       "0                         1  TCI (Tokyo Chemical Industry)   \n",
       "\n",
       "  PUBCHEM_EXT_DATASOURCE_REGID  \\\n",
       "0                        A3190   \n",
       "\n",
       "                           PUBCHEM_SUBSTANCE_SYNONYM PUBCHEM_XREF_EXT_ID  \\\n",
       "0  4-[1-Hydroxy-2-[[6-(4-phenylbutoxy)hexyl]amino...               A3190   \n",
       "\n",
       "           PUBCHEM_EXT_DATASOURCE_URL  \\\n",
       "0  http://www.tcichemicals.com/en/us/   \n",
       "\n",
       "                           PUBCHEM_EXT_SUBSTANCE_URL  \\\n",
       "0  http://www.tcichemicals.com/eshop/en/us/commod...   \n",
       "\n",
       "     PUBCHEM_CID_ASSOCIATIONS PUBCHEM_COORDINATE_TYPE         ID  \\\n",
       "0  56801  1\\n5152  2\\n6844  2                    1\\n3  354335558   \n",
       "\n",
       "                                               ROMol PUBCHEM_BONDANNOTATIONS  \\\n",
       "0  <img data-content=\"rdkit/molecule\" src=\"data:i...                     NaN   \n",
       "\n",
       "  PUBCHEM_SUBSTANCE_COMMENT PUBCHEM_GENERIC_REGISTRY_NAME  \n",
       "0                       NaN                           NaN  "
      ]
     },
     "execution_count": 23,
     "metadata": {},
     "output_type": "execute_result"
    }
   ],
   "source": [
    "df.head(1)"
   ]
  },
  {
   "cell_type": "code",
   "execution_count": 24,
   "metadata": {},
   "outputs": [
    {
     "data": {
      "text/plain": [
       "Index(['PUBCHEM_COMPOUND_ID_TYPE', 'PUBCHEM_TOTAL_CHARGE',\n",
       "       'PUBCHEM_SUBSTANCE_ID', 'PUBCHEM_SUBSTANCE_VERSION',\n",
       "       'PUBCHEM_EXT_DATASOURCE_NAME', 'PUBCHEM_EXT_DATASOURCE_REGID',\n",
       "       'PUBCHEM_SUBSTANCE_SYNONYM', 'PUBCHEM_XREF_EXT_ID',\n",
       "       'PUBCHEM_EXT_DATASOURCE_URL', 'PUBCHEM_EXT_SUBSTANCE_URL',\n",
       "       'PUBCHEM_CID_ASSOCIATIONS', 'PUBCHEM_COORDINATE_TYPE', 'ID', 'ROMol',\n",
       "       'PUBCHEM_BONDANNOTATIONS', 'PUBCHEM_SUBSTANCE_COMMENT',\n",
       "       'PUBCHEM_GENERIC_REGISTRY_NAME'],\n",
       "      dtype='object')"
      ]
     },
     "execution_count": 24,
     "metadata": {},
     "output_type": "execute_result"
    }
   ],
   "source": [
    "df.columns"
   ]
  },
  {
   "cell_type": "code",
   "execution_count": 25,
   "metadata": {
    "slideshow": {
     "slide_type": "subslide"
    }
   },
   "outputs": [
    {
     "data": {
      "text/html": [
       "<div>\n",
       "<style scoped>\n",
       "    .dataframe tbody tr th:only-of-type {\n",
       "        vertical-align: middle;\n",
       "    }\n",
       "\n",
       "    .dataframe tbody tr th {\n",
       "        vertical-align: top;\n",
       "    }\n",
       "\n",
       "    .dataframe thead th {\n",
       "        text-align: right;\n",
       "    }\n",
       "</style>\n",
       "<table border=\"1\" class=\"dataframe\">\n",
       "  <thead>\n",
       "    <tr style=\"text-align: right;\">\n",
       "      <th></th>\n",
       "      <th>ID</th>\n",
       "      <th>ROMol</th>\n",
       "    </tr>\n",
       "  </thead>\n",
       "  <tbody>\n",
       "    <tr>\n",
       "      <th>73</th>\n",
       "      <td>87571087</td>\n",
       "      <td><img data-content=\"rdkit/molecule\" src=\"data:image/png;base64,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\" alt=\"Mol\"/></td>\n",
       "    </tr>\n",
       "  </tbody>\n",
       "</table>\n",
       "</div>"
      ],
      "text/plain": [
       "          ID                                              ROMol\n",
       "73  87571087  <img data-content=\"rdkit/molecule\" src=\"data:i..."
      ]
     },
     "execution_count": 25,
     "metadata": {},
     "output_type": "execute_result"
    }
   ],
   "source": [
    "df2 = df[['ID','ROMol']]\n",
    "df2.sample(1)"
   ]
  },
  {
   "cell_type": "markdown",
   "metadata": {
    "slideshow": {
     "slide_type": "slide"
    }
   },
   "source": [
    "# すでに読み込んだデータフレームの中にあるsmilesをmolファイルに変換する。"
   ]
  },
  {
   "cell_type": "code",
   "execution_count": 26,
   "metadata": {},
   "outputs": [],
   "source": [
    "compoundlist = [\"phenol\", \"anisole\", \"aniline\" ]\n",
    "properties = ['iupacname', 'canonicalsmiles']"
   ]
  },
  {
   "cell_type": "code",
   "execution_count": 27,
   "metadata": {},
   "outputs": [],
   "source": [
    "import sys\n",
    "import pandas as pd\n",
    "\n",
    "df = pd.DataFrame()\n",
    "for compound in compoundlist:\n",
    "    try:\n",
    "        temp = pcp.get_properties(properties, compound, 'name', as_dataframe=True)\n",
    "        #as_dataframe=True とすることでpandas dataframe として情報を取得可能\n",
    "        df = pd.concat([df,temp], axis=0, join='outer', sort=True)\n",
    "    except:\n",
    "        print(\"--------error-----------\")\n",
    "        print(cas)\n",
    "        print(sys.exc_info())\n",
    "        pass"
   ]
  },
  {
   "cell_type": "code",
   "execution_count": 28,
   "metadata": {
    "slideshow": {
     "slide_type": "slide"
    }
   },
   "outputs": [
    {
     "data": {
      "text/html": [
       "<div>\n",
       "<style scoped>\n",
       "    .dataframe tbody tr th:only-of-type {\n",
       "        vertical-align: middle;\n",
       "    }\n",
       "\n",
       "    .dataframe tbody tr th {\n",
       "        vertical-align: top;\n",
       "    }\n",
       "\n",
       "    .dataframe thead th {\n",
       "        text-align: right;\n",
       "    }\n",
       "</style>\n",
       "<table border=\"1\" class=\"dataframe\">\n",
       "  <thead>\n",
       "    <tr style=\"text-align: right;\">\n",
       "      <th></th>\n",
       "      <th>CanonicalSMILES</th>\n",
       "      <th>IUPACName</th>\n",
       "    </tr>\n",
       "    <tr>\n",
       "      <th>CID</th>\n",
       "      <th></th>\n",
       "      <th></th>\n",
       "    </tr>\n",
       "  </thead>\n",
       "  <tbody>\n",
       "    <tr>\n",
       "      <th>996</th>\n",
       "      <td>C1=CC=C(C=C1)O</td>\n",
       "      <td>phenol</td>\n",
       "    </tr>\n",
       "    <tr>\n",
       "      <th>7519</th>\n",
       "      <td>COC1=CC=CC=C1</td>\n",
       "      <td>anisole</td>\n",
       "    </tr>\n",
       "    <tr>\n",
       "      <th>6115</th>\n",
       "      <td>C1=CC=C(C=C1)N</td>\n",
       "      <td>aniline</td>\n",
       "    </tr>\n",
       "  </tbody>\n",
       "</table>\n",
       "</div>"
      ],
      "text/plain": [
       "     CanonicalSMILES IUPACName\n",
       "CID                           \n",
       "996   C1=CC=C(C=C1)O    phenol\n",
       "7519   COC1=CC=CC=C1   anisole\n",
       "6115  C1=CC=C(C=C1)N   aniline"
      ]
     },
     "execution_count": 28,
     "metadata": {},
     "output_type": "execute_result"
    }
   ],
   "source": [
    "df"
   ]
  },
  {
   "cell_type": "code",
   "execution_count": 29,
   "metadata": {
    "slideshow": {
     "slide_type": "slide"
    }
   },
   "outputs": [],
   "source": [
    "#すでにSMILESが書かれているものに対してMolオブジェクトを追加するやり方\n",
    "PandasTools.AddMoleculeColumnToFrame(df, \"CanonicalSMILES\")"
   ]
  },
  {
   "cell_type": "code",
   "execution_count": 30,
   "metadata": {},
   "outputs": [
    {
     "data": {
      "text/html": [
       "<div>\n",
       "<style scoped>\n",
       "    .dataframe tbody tr th:only-of-type {\n",
       "        vertical-align: middle;\n",
       "    }\n",
       "\n",
       "    .dataframe tbody tr th {\n",
       "        vertical-align: top;\n",
       "    }\n",
       "\n",
       "    .dataframe thead th {\n",
       "        text-align: right;\n",
       "    }\n",
       "</style>\n",
       "<table border=\"1\" class=\"dataframe\">\n",
       "  <thead>\n",
       "    <tr style=\"text-align: right;\">\n",
       "      <th></th>\n",
       "      <th>CanonicalSMILES</th>\n",
       "      <th>IUPACName</th>\n",
       "      <th>ROMol</th>\n",
       "    </tr>\n",
       "    <tr>\n",
       "      <th>CID</th>\n",
       "      <th></th>\n",
       "      <th></th>\n",
       "      <th></th>\n",
       "    </tr>\n",
       "  </thead>\n",
       "  <tbody>\n",
       "    <tr>\n",
       "      <th>996</th>\n",
       "      <td>C1=CC=C(C=C1)O</td>\n",
       "      <td>phenol</td>\n",
       "      <td><img data-content=\"rdkit/molecule\" src=\"data:image/png;base64,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\" alt=\"Mol\"/></td>\n",
       "    </tr>\n",
       "  </tbody>\n",
       "</table>\n",
       "</div>"
      ],
      "text/plain": [
       "    CanonicalSMILES IUPACName  \\\n",
       "CID                             \n",
       "996  C1=CC=C(C=C1)O    phenol   \n",
       "\n",
       "                                                 ROMol  \n",
       "CID                                                     \n",
       "996  <img data-content=\"rdkit/molecule\" src=\"data:i...  "
      ]
     },
     "execution_count": 30,
     "metadata": {},
     "output_type": "execute_result"
    }
   ],
   "source": [
    "df.head(1)"
   ]
  },
  {
   "cell_type": "markdown",
   "metadata": {
    "slideshow": {
     "slide_type": "slide"
    }
   },
   "source": [
    "## RDKitとpubchemで出力するsmilesの差"
   ]
  },
  {
   "cell_type": "code",
   "execution_count": 31,
   "metadata": {},
   "outputs": [],
   "source": [
    "df[\"smiles_from_RDKit\"] = df[\"ROMol\"].map(Chem.MolToSmiles)"
   ]
  },
  {
   "cell_type": "code",
   "execution_count": 40,
   "metadata": {},
   "outputs": [
    {
     "data": {
      "text/html": [
       "<div>\n",
       "<style scoped>\n",
       "    .dataframe tbody tr th:only-of-type {\n",
       "        vertical-align: middle;\n",
       "    }\n",
       "\n",
       "    .dataframe tbody tr th {\n",
       "        vertical-align: top;\n",
       "    }\n",
       "\n",
       "    .dataframe thead th {\n",
       "        text-align: right;\n",
       "    }\n",
       "</style>\n",
       "<table border=\"1\" class=\"dataframe\">\n",
       "  <thead>\n",
       "    <tr style=\"text-align: right;\">\n",
       "      <th></th>\n",
       "      <th>CanonicalSMILES</th>\n",
       "      <th>IUPACName</th>\n",
       "      <th>ROMol</th>\n",
       "      <th>smiles_from_RDKit</th>\n",
       "    </tr>\n",
       "    <tr>\n",
       "      <th>CID</th>\n",
       "      <th></th>\n",
       "      <th></th>\n",
       "      <th></th>\n",
       "      <th></th>\n",
       "    </tr>\n",
       "  </thead>\n",
       "  <tbody>\n",
       "    <tr>\n",
       "      <th>996</th>\n",
       "      <td>C1=CC=C(C=C1)O</td>\n",
       "      <td>phenol</td>\n",
       "      <td><img data-content=\"rdkit/molecule\" src=\"data:image/png;base64,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\" alt=\"Mol\"/></td>\n",
       "      <td>Oc1ccccc1</td>\n",
       "    </tr>\n",
       "  </tbody>\n",
       "</table>\n",
       "</div>"
      ],
      "text/plain": [
       "    CanonicalSMILES IUPACName  \\\n",
       "CID                             \n",
       "996  C1=CC=C(C=C1)O    phenol   \n",
       "\n",
       "                                                 ROMol smiles_from_RDKit  \n",
       "CID                                                                       \n",
       "996  <img data-content=\"rdkit/molecule\" src=\"data:i...         Oc1ccccc1  "
      ]
     },
     "execution_count": 40,
     "metadata": {},
     "output_type": "execute_result"
    }
   ],
   "source": [
    "df.head(1)"
   ]
  },
  {
   "cell_type": "markdown",
   "metadata": {
    "slideshow": {
     "slide_type": "slide"
    }
   },
   "source": [
    "## 出力"
   ]
  },
  {
   "cell_type": "code",
   "execution_count": 33,
   "metadata": {},
   "outputs": [
    {
     "data": {
      "text/html": [
       "<div>\n",
       "<style scoped>\n",
       "    .dataframe tbody tr th:only-of-type {\n",
       "        vertical-align: middle;\n",
       "    }\n",
       "\n",
       "    .dataframe tbody tr th {\n",
       "        vertical-align: top;\n",
       "    }\n",
       "\n",
       "    .dataframe thead th {\n",
       "        text-align: right;\n",
       "    }\n",
       "</style>\n",
       "<table border=\"1\" class=\"dataframe\">\n",
       "  <thead>\n",
       "    <tr style=\"text-align: right;\">\n",
       "      <th></th>\n",
       "      <th>IUPACName</th>\n",
       "      <th>smiles_from_RDKit</th>\n",
       "    </tr>\n",
       "    <tr>\n",
       "      <th>CID</th>\n",
       "      <th></th>\n",
       "      <th></th>\n",
       "    </tr>\n",
       "  </thead>\n",
       "  <tbody>\n",
       "    <tr>\n",
       "      <th>996</th>\n",
       "      <td>phenol</td>\n",
       "      <td>Oc1ccccc1</td>\n",
       "    </tr>\n",
       "    <tr>\n",
       "      <th>7519</th>\n",
       "      <td>anisole</td>\n",
       "      <td>COc1ccccc1</td>\n",
       "    </tr>\n",
       "    <tr>\n",
       "      <th>6115</th>\n",
       "      <td>aniline</td>\n",
       "      <td>Nc1ccccc1</td>\n",
       "    </tr>\n",
       "  </tbody>\n",
       "</table>\n",
       "</div>"
      ],
      "text/plain": [
       "     IUPACName smiles_from_RDKit\n",
       "CID                             \n",
       "996     phenol         Oc1ccccc1\n",
       "7519   anisole        COc1ccccc1\n",
       "6115   aniline         Nc1ccccc1"
      ]
     },
     "execution_count": 33,
     "metadata": {},
     "output_type": "execute_result"
    }
   ],
   "source": [
    "df_to_csv = df[['IUPACName', 'smiles_from_RDKit']]\n",
    "df_to_csv"
   ]
  },
  {
   "cell_type": "code",
   "execution_count": 34,
   "metadata": {},
   "outputs": [
    {
     "name": "stdout",
     "output_type": "stream",
     "text": [
      "\u001b[34mdata\u001b[m\u001b[m\r\n",
      "homework.ipynb\r\n",
      "homework_answer.ipynb\r\n",
      "lecture_note_RDKit_no1_分子の読み込みと表示と出力.ipynb\r\n",
      "lecture_note_RDKit_no2_Descriptorsの使い方.ipynb\r\n",
      "lecture_note_RDKit_no3_分子の取り扱い方.ipynb\r\n",
      "lecture_note_RDKit_no4_構造変換.ipynb\r\n",
      "lecture_note_RDKit_no5_部分構造探索.ipynb\r\n"
     ]
    }
   ],
   "source": [
    "!ls"
   ]
  },
  {
   "cell_type": "code",
   "execution_count": 35,
   "metadata": {
    "slideshow": {
     "slide_type": "slide"
    }
   },
   "outputs": [],
   "source": [
    "df_to_csv.to_csv('output.csv')"
   ]
  },
  {
   "cell_type": "code",
   "execution_count": 36,
   "metadata": {},
   "outputs": [
    {
     "name": "stdout",
     "output_type": "stream",
     "text": [
      "\u001b[34mdata\u001b[m\u001b[m\r\n",
      "homework.ipynb\r\n",
      "homework_answer.ipynb\r\n",
      "lecture_note_RDKit_no1_分子の読み込みと表示と出力.ipynb\r\n",
      "lecture_note_RDKit_no2_Descriptorsの使い方.ipynb\r\n",
      "lecture_note_RDKit_no3_分子の取り扱い方.ipynb\r\n",
      "lecture_note_RDKit_no4_構造変換.ipynb\r\n",
      "lecture_note_RDKit_no5_部分構造探索.ipynb\r\n",
      "output.csv\r\n"
     ]
    }
   ],
   "source": [
    "!ls"
   ]
  },
  {
   "cell_type": "code",
   "execution_count": 37,
   "metadata": {},
   "outputs": [
    {
     "data": {
      "text/html": [
       "<div>\n",
       "<style scoped>\n",
       "    .dataframe tbody tr th:only-of-type {\n",
       "        vertical-align: middle;\n",
       "    }\n",
       "\n",
       "    .dataframe tbody tr th {\n",
       "        vertical-align: top;\n",
       "    }\n",
       "\n",
       "    .dataframe thead th {\n",
       "        text-align: right;\n",
       "    }\n",
       "</style>\n",
       "<table border=\"1\" class=\"dataframe\">\n",
       "  <thead>\n",
       "    <tr style=\"text-align: right;\">\n",
       "      <th></th>\n",
       "      <th>CID</th>\n",
       "      <th>IUPACName</th>\n",
       "      <th>smiles_from_RDKit</th>\n",
       "    </tr>\n",
       "  </thead>\n",
       "  <tbody>\n",
       "    <tr>\n",
       "      <th>0</th>\n",
       "      <td>996</td>\n",
       "      <td>phenol</td>\n",
       "      <td>Oc1ccccc1</td>\n",
       "    </tr>\n",
       "    <tr>\n",
       "      <th>1</th>\n",
       "      <td>7519</td>\n",
       "      <td>anisole</td>\n",
       "      <td>COc1ccccc1</td>\n",
       "    </tr>\n",
       "    <tr>\n",
       "      <th>2</th>\n",
       "      <td>6115</td>\n",
       "      <td>aniline</td>\n",
       "      <td>Nc1ccccc1</td>\n",
       "    </tr>\n",
       "  </tbody>\n",
       "</table>\n",
       "</div>"
      ],
      "text/plain": [
       "    CID IUPACName smiles_from_RDKit\n",
       "0   996    phenol         Oc1ccccc1\n",
       "1  7519   anisole        COc1ccccc1\n",
       "2  6115   aniline         Nc1ccccc1"
      ]
     },
     "execution_count": 37,
     "metadata": {},
     "output_type": "execute_result"
    }
   ],
   "source": [
    "df_from_csv = pd.read_csv('output.csv')\n",
    "df_from_csv"
   ]
  },
  {
   "cell_type": "code",
   "execution_count": 38,
   "metadata": {
    "slideshow": {
     "slide_type": "subslide"
    }
   },
   "outputs": [],
   "source": [
    "!rm output.csv"
   ]
  },
  {
   "cell_type": "code",
   "execution_count": 39,
   "metadata": {},
   "outputs": [
    {
     "name": "stdout",
     "output_type": "stream",
     "text": [
      "\u001b[34mdata\u001b[m\u001b[m\r\n",
      "homework.ipynb\r\n",
      "homework_answer.ipynb\r\n",
      "lecture_note_RDKit_no1_分子の読み込みと表示と出力.ipynb\r\n",
      "lecture_note_RDKit_no2_Descriptorsの使い方.ipynb\r\n",
      "lecture_note_RDKit_no3_分子の取り扱い方.ipynb\r\n",
      "lecture_note_RDKit_no4_構造変換.ipynb\r\n",
      "lecture_note_RDKit_no5_部分構造探索.ipynb\r\n"
     ]
    }
   ],
   "source": [
    "!ls"
   ]
  }
 ],
 "metadata": {
  "celltoolbar": "Slideshow",
  "kernelspec": {
   "display_name": "Python 3",
   "language": "python",
   "name": "python3"
  },
  "language_info": {
   "codemirror_mode": {
    "name": "ipython",
    "version": 3
   },
   "file_extension": ".py",
   "mimetype": "text/x-python",
   "name": "python",
   "nbconvert_exporter": "python",
   "pygments_lexer": "ipython3",
   "version": "3.8.5"
  },
  "toc": {
   "base_numbering": 1,
   "nav_menu": {},
   "number_sections": true,
   "sideBar": true,
   "skip_h1_title": false,
   "title_cell": "Table of Contents",
   "title_sidebar": "Contents",
   "toc_cell": false,
   "toc_position": {},
   "toc_section_display": true,
   "toc_window_display": false
  }
 },
 "nbformat": 4,
 "nbformat_minor": 5
}
