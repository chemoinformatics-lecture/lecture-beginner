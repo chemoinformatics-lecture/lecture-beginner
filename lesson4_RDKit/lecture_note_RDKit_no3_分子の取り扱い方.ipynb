{
 "cells": [
  {
   "cell_type": "code",
   "execution_count": 1,
   "id": "1ae90aa1",
   "metadata": {},
   "outputs": [
    {
     "data": {
      "text/plain": [
       "'macOS-10.15.7-x86_64-i386-64bit'"
      ]
     },
     "execution_count": 1,
     "metadata": {},
     "output_type": "execute_result"
    }
   ],
   "source": [
    "import platform\n",
    "# 使用しているOSを表示\n",
    "platform.platform()"
   ]
  },
  {
   "cell_type": "code",
   "execution_count": 2,
   "id": "71edcf4b",
   "metadata": {},
   "outputs": [
    {
     "name": "stdout",
     "output_type": "stream",
     "text": [
      "Python 3.8.11\r\n"
     ]
    }
   ],
   "source": [
    "# pythonのversionを表示\n",
    "!python -V"
   ]
  },
  {
   "cell_type": "code",
   "execution_count": 3,
   "id": "603bf24e",
   "metadata": {},
   "outputs": [
    {
     "data": {
      "text/plain": [
       "'1.0.4'"
      ]
     },
     "execution_count": 3,
     "metadata": {},
     "output_type": "execute_result"
    }
   ],
   "source": [
    "import pubchempy as pcp\n",
    "# pcpと略すのが一般的\n",
    "# pubchemのversionを表示\n",
    "pcp. __version__"
   ]
  },
  {
   "cell_type": "code",
   "execution_count": 4,
   "id": "b55f70bc",
   "metadata": {},
   "outputs": [
    {
     "data": {
      "text/plain": [
       "'1.1.3'"
      ]
     },
     "execution_count": 4,
     "metadata": {},
     "output_type": "execute_result"
    }
   ],
   "source": [
    "import pandas as pd\n",
    "# pdと略すのが一般的\n",
    "# pandasのversionを表示\n",
    "pd.__version__"
   ]
  },
  {
   "cell_type": "code",
   "execution_count": 5,
   "id": "7cc87143",
   "metadata": {},
   "outputs": [
    {
     "name": "stdout",
     "output_type": "stream",
     "text": [
      "2019.09.3\n"
     ]
    },
    {
     "name": "stderr",
     "output_type": "stream",
     "text": [
      "RDKit WARNING: [13:20:18] Enabling RDKit 2019.09.3 jupyter extensions\n",
      "[13:20:18] Enabling RDKit 2019.09.3 jupyter extensions\n"
     ]
    }
   ],
   "source": [
    "from rdkit import rdBase, Chem\n",
    "from rdkit.Chem import AllChem\n",
    "print(rdBase.rdkitVersion)"
   ]
  },
  {
   "cell_type": "code",
   "execution_count": 6,
   "id": "cb1d2ca7",
   "metadata": {},
   "outputs": [],
   "source": [
    "compoud = \"quercetine\""
   ]
  },
  {
   "cell_type": "code",
   "execution_count": 7,
   "id": "ce1378a0",
   "metadata": {},
   "outputs": [
    {
     "data": {
      "image/png": "[encoded data removed]",
      "text/plain": [
       "<rdkit.Chem.rdchem.Mol at 0x7fadd8ec0e20>"
      ]
     },
     "execution_count": 7,
     "metadata": {},
     "output_type": "execute_result"
    }
   ],
   "source": [
    "pcp_compoud = pcp.get_compounds(compoud, 'name')\n",
    "compoud_smiles = pcp_compoud[0].isomeric_smiles\n",
    "mol = Chem.MolFromSmiles(compoud_smiles)\n",
    "mol "
   ]
  },
  {
   "cell_type": "code",
   "execution_count": 8,
   "id": "6cb99f02",
   "metadata": {},
   "outputs": [
    {
     "data": {
      "image/png": "[encoded data removed]",
      "text/plain": [
       "<rdkit.Chem.rdchem.Mol at 0x7fadc8c6cd00>"
      ]
     },
     "execution_count": 8,
     "metadata": {},
     "output_type": "execute_result"
    }
   ],
   "source": [
    "mol = Chem.AddHs(mol)\n",
    "mol"
   ]
  },
  {
   "cell_type": "markdown",
   "id": "15107851",
   "metadata": {},
   "source": [
    "## 環の情報"
   ]
  },
  {
   "cell_type": "code",
   "execution_count": 9,
   "id": "6a1fa236",
   "metadata": {},
   "outputs": [
    {
     "data": {
      "text/plain": [
       "<rdkit.Chem.rdchem.RingInfo at 0x7fadd8ee3040>"
      ]
     },
     "execution_count": 9,
     "metadata": {},
     "output_type": "execute_result"
    }
   ],
   "source": [
    "ringinfo = mol.GetRingInfo()\n",
    "ringinfo"
   ]
  },
  {
   "cell_type": "code",
   "execution_count": 10,
   "id": "be598643",
   "metadata": {},
   "outputs": [
    {
     "data": {
      "text/plain": [
       "3"
      ]
     },
     "execution_count": 10,
     "metadata": {},
     "output_type": "execute_result"
    }
   ],
   "source": [
    "ringinfo.NumRings()"
   ]
  },
  {
   "cell_type": "markdown",
   "id": "c773f127",
   "metadata": {},
   "source": [
    "## 結合の情報"
   ]
  },
  {
   "cell_type": "code",
   "execution_count": 11,
   "id": "7b90110e",
   "metadata": {},
   "outputs": [],
   "source": [
    "bonds_info = mol.GetBonds()"
   ]
  },
  {
   "cell_type": "code",
   "execution_count": 12,
   "id": "d2e84814",
   "metadata": {},
   "outputs": [
    {
     "data": {
      "text/plain": [
       "34"
      ]
     },
     "execution_count": 12,
     "metadata": {},
     "output_type": "execute_result"
    }
   ],
   "source": [
    "len(bonds_info)"
   ]
  },
  {
   "cell_type": "code",
   "execution_count": 13,
   "id": "3d202ce2",
   "metadata": {},
   "outputs": [
    {
     "name": "stdout",
     "output_type": "stream",
     "text": [
      "-------------------------\n",
      "C\n",
      "C\n",
      "AROMATIC\n",
      "-------------------------\n",
      "C\n",
      "C\n",
      "AROMATIC\n",
      "-------------------------\n",
      "C\n",
      "C\n",
      "AROMATIC\n",
      "-------------------------\n",
      "C\n",
      "C\n",
      "AROMATIC\n",
      "-------------------------\n",
      "C\n",
      "C\n",
      "AROMATIC\n",
      "-------------------------\n",
      "C\n",
      "C\n",
      "SINGLE\n",
      "-------------------------\n",
      "C\n",
      "C\n",
      "AROMATIC\n",
      "-------------------------\n",
      "C\n",
      "C\n",
      "AROMATIC\n",
      "-------------------------\n",
      "C\n",
      "O\n",
      "DOUBLE\n",
      "-------------------------\n",
      "C\n",
      "C\n",
      "AROMATIC\n",
      "-------------------------\n",
      "C\n",
      "C\n",
      "AROMATIC\n",
      "-------------------------\n",
      "C\n",
      "C\n",
      "AROMATIC\n",
      "-------------------------\n",
      "C\n",
      "C\n",
      "AROMATIC\n",
      "-------------------------\n",
      "C\n",
      "C\n",
      "AROMATIC\n",
      "-------------------------\n",
      "C\n",
      "C\n",
      "AROMATIC\n",
      "-------------------------\n",
      "C\n",
      "O\n",
      "AROMATIC\n",
      "-------------------------\n",
      "C\n",
      "O\n",
      "SINGLE\n",
      "-------------------------\n",
      "C\n",
      "O\n",
      "SINGLE\n",
      "-------------------------\n",
      "C\n",
      "O\n",
      "SINGLE\n",
      "-------------------------\n",
      "C\n",
      "O\n",
      "SINGLE\n",
      "-------------------------\n",
      "C\n",
      "O\n",
      "SINGLE\n",
      "-------------------------\n",
      "C\n",
      "C\n",
      "AROMATIC\n",
      "-------------------------\n",
      "O\n",
      "C\n",
      "AROMATIC\n",
      "-------------------------\n",
      "C\n",
      "C\n",
      "AROMATIC\n",
      "-------------------------\n",
      "C\n",
      "H\n",
      "SINGLE\n",
      "-------------------------\n",
      "C\n",
      "H\n",
      "SINGLE\n",
      "-------------------------\n",
      "C\n",
      "H\n",
      "SINGLE\n",
      "-------------------------\n",
      "C\n",
      "H\n",
      "SINGLE\n",
      "-------------------------\n",
      "C\n",
      "H\n",
      "SINGLE\n",
      "-------------------------\n",
      "O\n",
      "H\n",
      "SINGLE\n",
      "-------------------------\n",
      "O\n",
      "H\n",
      "SINGLE\n",
      "-------------------------\n",
      "O\n",
      "H\n",
      "SINGLE\n",
      "-------------------------\n",
      "O\n",
      "H\n",
      "SINGLE\n",
      "-------------------------\n",
      "O\n",
      "H\n",
      "SINGLE\n"
     ]
    }
   ],
   "source": [
    "for bond in bonds_info:\n",
    "    print(\"-------------------------\")\n",
    "    begin_atom = bond.GetBeginAtom()\n",
    "    end_atom = bond.GetEndAtom()\n",
    "    print(begin_atom.GetSymbol())\n",
    "    print(end_atom.GetSymbol())\n",
    "    print (bond.GetBondType())"
   ]
  },
  {
   "cell_type": "markdown",
   "id": "3584521a",
   "metadata": {},
   "source": [
    "## 原子の情報"
   ]
  },
  {
   "cell_type": "code",
   "execution_count": 14,
   "id": "2006cc3a",
   "metadata": {},
   "outputs": [
    {
     "data": {
      "text/plain": [
       "'C1=CC(=C(C=C1C2=C(C(=O)C3=C(C=C(C=C3O2)O)O)O)O)O'"
      ]
     },
     "execution_count": 14,
     "metadata": {},
     "output_type": "execute_result"
    }
   ],
   "source": [
    "compoud_smiles"
   ]
  },
  {
   "cell_type": "code",
   "execution_count": 15,
   "id": "3d25b05d",
   "metadata": {},
   "outputs": [
    {
     "data": {
      "image/png": "[encoded data removed]",
      "text/plain": [
       "<rdkit.Chem.rdchem.Mol at 0x7fadd8ec0f40>"
      ]
     },
     "execution_count": 15,
     "metadata": {},
     "output_type": "execute_result"
    }
   ],
   "source": [
    "# 1つの原子をラジカルにしてみる。\n",
    "mol = Chem.MolFromSmiles(\"C1=CC(=C(C=C1C2=C(C(=O)C3=C(C=C(C=C3O2)O)O)O)O)[O]\")\n",
    "mol "
   ]
  },
  {
   "cell_type": "code",
   "execution_count": 16,
   "id": "4ae67be4",
   "metadata": {},
   "outputs": [
    {
     "data": {
      "image/png": "[encoded data removed]",
      "text/plain": [
       "<rdkit.Chem.rdchem.Mol at 0x7fade8669880>"
      ]
     },
     "execution_count": 16,
     "metadata": {},
     "output_type": "execute_result"
    }
   ],
   "source": [
    "mol = Chem.AddHs(mol)\n",
    "mol"
   ]
  },
  {
   "cell_type": "code",
   "execution_count": 17,
   "id": "4b489175",
   "metadata": {},
   "outputs": [
    {
     "data": {
      "text/plain": [
       "31"
      ]
     },
     "execution_count": 17,
     "metadata": {},
     "output_type": "execute_result"
    }
   ],
   "source": [
    "atoms_info = mol.GetAtoms()\n",
    "len(atoms_info)"
   ]
  },
  {
   "cell_type": "code",
   "execution_count": 18,
   "id": "1eed9128",
   "metadata": {},
   "outputs": [
    {
     "name": "stdout",
     "output_type": "stream",
     "text": [
      "-------------------------\n",
      "0:C\n",
      "radical:0\n",
      "charge:0\n",
      "-------------------------\n",
      "1:C\n",
      "radical:0\n",
      "charge:0\n",
      "-------------------------\n",
      "2:C\n",
      "radical:0\n",
      "charge:0\n",
      "-------------------------\n",
      "3:C\n",
      "radical:0\n",
      "charge:0\n",
      "-------------------------\n",
      "4:C\n",
      "radical:0\n",
      "charge:0\n",
      "-------------------------\n",
      "5:C\n",
      "radical:0\n",
      "charge:0\n",
      "-------------------------\n",
      "6:C\n",
      "radical:0\n",
      "charge:0\n",
      "-------------------------\n",
      "7:C\n",
      "radical:0\n",
      "charge:0\n",
      "-------------------------\n",
      "8:C\n",
      "radical:0\n",
      "charge:0\n",
      "-------------------------\n",
      "9:O\n",
      "radical:0\n",
      "charge:0\n",
      "-------------------------\n",
      "10:C\n",
      "radical:0\n",
      "charge:0\n",
      "-------------------------\n",
      "11:C\n",
      "radical:0\n",
      "charge:0\n",
      "-------------------------\n",
      "12:C\n",
      "radical:0\n",
      "charge:0\n",
      "-------------------------\n",
      "13:C\n",
      "radical:0\n",
      "charge:0\n",
      "-------------------------\n",
      "14:C\n",
      "radical:0\n",
      "charge:0\n",
      "-------------------------\n",
      "15:C\n",
      "radical:0\n",
      "charge:0\n",
      "-------------------------\n",
      "16:O\n",
      "radical:0\n",
      "charge:0\n",
      "-------------------------\n",
      "17:O\n",
      "radical:0\n",
      "charge:0\n",
      "-------------------------\n",
      "18:O\n",
      "radical:0\n",
      "charge:0\n",
      "-------------------------\n",
      "19:O\n",
      "radical:0\n",
      "charge:0\n",
      "-------------------------\n",
      "20:O\n",
      "radical:0\n",
      "charge:0\n",
      "-------------------------\n",
      "21:O\n",
      "radical:1\n",
      "charge:0\n",
      "-------------------------\n",
      "22:H\n",
      "radical:0\n",
      "charge:0\n",
      "-------------------------\n",
      "23:H\n",
      "radical:0\n",
      "charge:0\n",
      "-------------------------\n",
      "24:H\n",
      "radical:0\n",
      "charge:0\n",
      "-------------------------\n",
      "25:H\n",
      "radical:0\n",
      "charge:0\n",
      "-------------------------\n",
      "26:H\n",
      "radical:0\n",
      "charge:0\n",
      "-------------------------\n",
      "27:H\n",
      "radical:0\n",
      "charge:0\n",
      "-------------------------\n",
      "28:H\n",
      "radical:0\n",
      "charge:0\n",
      "-------------------------\n",
      "29:H\n",
      "radical:0\n",
      "charge:0\n",
      "-------------------------\n",
      "30:H\n",
      "radical:0\n",
      "charge:0\n"
     ]
    }
   ],
   "source": [
    "#原子の情報色々を取得できる。\n",
    "for atom in atoms_info:\n",
    "    print(\"-------------------------\")\n",
    "    print(atom.GetIdx(), end=(\":\"))\n",
    "    print(atom.GetSymbol())\n",
    "    print(\"radical:\" + str(atom.GetNumRadicalElectrons()) )\n",
    "    print(\"charge:\"+ str(atom.GetFormalCharge()))"
   ]
  },
  {
   "cell_type": "code",
   "execution_count": 19,
   "id": "e14cc557",
   "metadata": {},
   "outputs": [
    {
     "name": "stdout",
     "output_type": "stream",
     "text": [
      "21:O\n"
     ]
    }
   ],
   "source": [
    "for atom in atoms_info:\n",
    "    if atom.GetNumRadicalElectrons() >= 1:\n",
    "        print(atom.GetIdx(), end=(\":\"))\n",
    "        print(atom.GetSymbol())"
   ]
  }
 ],
 "metadata": {
  "kernelspec": {
   "display_name": "Python 3 (ipykernel)",
   "language": "python",
   "name": "python3"
  },
  "language_info": {
   "codemirror_mode": {
    "name": "ipython",
    "version": 3
   },
   "file_extension": ".py",
   "mimetype": "text/x-python",
   "name": "python",
   "nbconvert_exporter": "python",
   "pygments_lexer": "ipython3",
   "version": "3.8.11"
  }
 },
 "nbformat": 4,
 "nbformat_minor": 5
}
