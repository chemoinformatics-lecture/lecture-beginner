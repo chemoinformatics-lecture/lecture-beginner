{
 "cells": [
  {
   "cell_type": "code",
   "execution_count": 1,
   "id": "f35d2542",
   "metadata": {},
   "outputs": [
    {
     "data": {
      "text/plain": [
       "'macOS-10.16-x86_64-i386-64bit'"
      ]
     },
     "execution_count": 1,
     "metadata": {},
     "output_type": "execute_result"
    }
   ],
   "source": [
    "import platform\n",
    "platform.platform()"
   ]
  },
  {
   "cell_type": "code",
   "execution_count": 2,
   "id": "21ded099",
   "metadata": {},
   "outputs": [
    {
     "name": "stdout",
     "output_type": "stream",
     "text": [
      "Python 3.9.7\r\n"
     ]
    }
   ],
   "source": [
    "!python -V"
   ]
  },
  {
   "cell_type": "code",
   "execution_count": 3,
   "id": "d282dc31",
   "metadata": {},
   "outputs": [
    {
     "data": {
      "text/plain": [
       "'1.0.4'"
      ]
     },
     "execution_count": 3,
     "metadata": {},
     "output_type": "execute_result"
    }
   ],
   "source": [
    "import pubchempy as pcp\n",
    "pcp.__version__"
   ]
  },
  {
   "cell_type": "code",
   "execution_count": 4,
   "id": "5076a0d4",
   "metadata": {},
   "outputs": [
    {
     "data": {
      "text/plain": [
       "'1.3.2'"
      ]
     },
     "execution_count": 4,
     "metadata": {},
     "output_type": "execute_result"
    }
   ],
   "source": [
    "import pandas as pd\n",
    "pd.__version__"
   ]
  },
  {
   "cell_type": "code",
   "execution_count": 5,
   "id": "8b44cdce",
   "metadata": {},
   "outputs": [
    {
     "name": "stdout",
     "output_type": "stream",
     "text": [
      "2021.03.5\n"
     ]
    }
   ],
   "source": [
    "from rdkit import rdBase, Chem\n",
    "print(rdBase.rdkitVersion)"
   ]
  },
  {
   "cell_type": "code",
   "execution_count": 6,
   "id": "6e58d85b",
   "metadata": {},
   "outputs": [],
   "source": [
    "quercetine = pcp.get_compounds('quercetine', 'name')"
   ]
  },
  {
   "cell_type": "code",
   "execution_count": 7,
   "id": "309ee4cc",
   "metadata": {},
   "outputs": [],
   "source": [
    "quercetine_smiles = quercetine[0].isomeric_smiles"
   ]
  },
  {
   "cell_type": "code",
   "execution_count": 8,
   "id": "849db9d3",
   "metadata": {},
   "outputs": [
    {
     "data": {
      "image/png": "[encoded data removed]",
      "text/plain": [
       "<rdkit.Chem.rdchem.Mol at 0x7fa181ae7ac0>"
      ]
     },
     "execution_count": 8,
     "metadata": {},
     "output_type": "execute_result"
    }
   ],
   "source": [
    "quercetine_mol = Chem.MolFromSmiles(quercetine_smiles)\n",
    "quercetine_mol"
   ]
  },
  {
   "cell_type": "code",
   "execution_count": 9,
   "id": "fae34851",
   "metadata": {},
   "outputs": [
    {
     "name": "stdout",
     "output_type": "stream",
     "text": [
      "5280343\n",
      "  -OEChem-09302121002D\n",
      "\n",
      " 32 34  0     0  0  0  0  0  0999 V2000\n",
      "    6.0682   -0.2704    0.0000 O   0  0  0  0  0  0  0  0  0  0  0  0\n",
      "    7.8003    1.7296    0.0000 O   0  0  0  0  0  0  0  0  0  0  0  0\n",
      "    4.3198    2.7642    0.0000 O   0  0  0  0  0  0  0  0  0  0  0  0\n",
      "    6.0682    2.7296    0.0000 O   0  0  0  0  0  0  0  0  0  0  0  0\n",
      "    2.5381   -0.2945    0.0000 O   0  0  0  0  0  0  0  0  0  0  0  0\n",
      "    8.6663   -2.7704    0.0000 O   0  0  0  0  0  0  0  0  0  0  0  0\n",
      "   10.3984   -1.7704    0.0000 O   0  0  0  0  0  0  0  0  0  0  0  0\n",
      "    5.2022    1.2296    0.0000 C   0  0  0  0  0  0  0  0  0  0  0  0\n",
      "    5.2022    0.2296    0.0000 C   0  0  0  0  0  0  0  0  0  0  0  0\n",
      "    6.9343    0.2296    0.0000 C   0  0  0  0  0  0  0  0  0  0  0  0\n",
      "    7.8003   -0.2704    0.0000 C   0  0  0  0  0  0  0  0  0  0  0  0\n",
      "    6.9343    1.2296    0.0000 C   0  0  0  0  0  0  0  0  0  0  0  0\n",
      "    6.0682    1.7296    0.0000 C   0  0  0  0  0  0  0  0  0  0  0  0\n",
      "    4.3083    1.7643    0.0000 C   0  0  0  0  0  0  0  0  0  0  0  0\n",
      "    4.3083   -0.3051    0.0000 C   0  0  0  0  0  0  0  0  0  0  0  0\n",
      "    3.4022    0.2088    0.0000 C   0  0  0  0  0  0  0  0  0  0  0  0\n",
      "    7.8003   -1.2704    0.0000 C   0  0  0  0  0  0  0  0  0  0  0  0\n",
      "    3.4022    1.2504    0.0000 C   0  0  0  0  0  0  0  0  0  0  0  0\n",
      "    8.6663    0.2296    0.0000 C   0  0  0  0  0  0  0  0  0  0  0  0\n",
      "    8.6663   -1.7704    0.0000 C   0  0  0  0  0  0  0  0  0  0  0  0\n",
      "    9.5323   -0.2704    0.0000 C   0  0  0  0  0  0  0  0  0  0  0  0\n",
      "    9.5323   -1.2704    0.0000 C   0  0  0  0  0  0  0  0  0  0  0  0\n",
      "    4.3154   -0.9250    0.0000 H   0  0  0  0  0  0  0  0  0  0  0  0\n",
      "    7.2634   -1.5804    0.0000 H   0  0  0  0  0  0  0  0  0  0  0  0\n",
      "    2.8665    1.5625    0.0000 H   0  0  0  0  0  0  0  0  0  0  0  0\n",
      "    8.6663    0.8496    0.0000 H   0  0  0  0  0  0  0  0  0  0  0  0\n",
      "   10.0693    0.0396    0.0000 H   0  0  0  0  0  0  0  0  0  0  0  0\n",
      "    7.8003    2.3496    0.0000 H   0  0  0  0  0  0  0  0  0  0  0  0\n",
      "    3.7865    3.0804    0.0000 H   0  0  0  0  0  0  0  0  0  0  0  0\n",
      "    2.0000    0.0134    0.0000 H   0  0  0  0  0  0  0  0  0  0  0  0\n",
      "    8.1294   -3.0804    0.0000 H   0  0  0  0  0  0  0  0  0  0  0  0\n",
      "   10.9353   -1.4604    0.0000 H   0  0  0  0  0  0  0  0  0  0  0  0\n",
      "  1  9  1  0  0  0  0\n",
      "  1 10  1  0  0  0  0\n",
      "  2 12  1  0  0  0  0\n",
      "  2 28  1  0  0  0  0\n",
      "  3 14  1  0  0  0  0\n",
      "  3 29  1  0  0  0  0\n",
      "  4 13  2  0  0  0  0\n",
      "  5 16  1  0  0  0  0\n",
      "  5 30  1  0  0  0  0\n",
      "  6 20  1  0  0  0  0\n",
      "  6 31  1  0  0  0  0\n",
      "  7 22  1  0  0  0  0\n",
      "  7 32  1  0  0  0  0\n",
      "  8  9  1  0  0  0  0\n",
      "  8 13  1  0  0  0  0\n",
      "  8 14  2  0  0  0  0\n",
      "  9 15  2  0  0  0  0\n",
      " 10 11  1  0  0  0  0\n",
      " 10 12  2  0  0  0  0\n",
      " 11 17  2  0  0  0  0\n",
      " 11 19  1  0  0  0  0\n",
      " 12 13  1  0  0  0  0\n",
      " 14 18  1  0  0  0  0\n",
      " 15 16  1  0  0  0  0\n",
      " 15 23  1  0  0  0  0\n",
      " 16 18  2  0  0  0  0\n",
      " 17 20  1  0  0  0  0\n",
      " 17 24  1  0  0  0  0\n",
      " 18 25  1  0  0  0  0\n",
      " 19 21  2  0  0  0  0\n",
      " 19 26  1  0  0  0  0\n",
      " 20 22  2  0  0  0  0\n",
      " 21 22  1  0  0  0  0\n",
      " 21 27  1  0  0  0  0\n",
      "M  END\n",
      "> <PUBCHEM_COMPOUND_CID>\n",
      "5280343\n",
      "\n",
      "> <PUBCHEM_COMPOUND_CANONICALIZED>\n",
      "1\n",
      "\n",
      "> <PUBCHEM_CACTVS_COMPLEXITY>\n",
      "488\n",
      "\n",
      "> <PUBCHEM_CACTVS_HBOND_ACCEPTOR>\n",
      "7\n",
      "\n",
      "> <PUBCHEM_CACTVS_HBOND_DONOR>\n",
      "5\n",
      "\n",
      "> <PUBCHEM_CACTVS_ROTATABLE_BOND>\n",
      "1\n",
      "\n",
      "> <PUBCHEM_CACTVS_SUBSKEYS>\n",
      "AAADccBwOAAAAAAAAAAAAAAAAAAAAAAAAAAwYIAAAAAAAACBQAAAGgAACAAADASAmAAwBoAABgCIAqBSAAICCAAkIAAIiAFGiMgNJzaGNRqCeWGl4BUJuQfI7LzOIAABCAAIQABAAAIQABCAAAAAAAAAAA==\n",
      "\n",
      "> <PUBCHEM_IUPAC_OPENEYE_NAME>\n",
      "2-(3,4-dihydroxyphenyl)-3,5,7-trihydroxy-chromen-4-one\n",
      "\n",
      "> <PUBCHEM_IUPAC_CAS_NAME>\n",
      "2-(3,4-dihydroxyphenyl)-3,5,7-trihydroxy-1-benzopyran-4-one\n",
      "\n",
      "> <PUBCHEM_IUPAC_NAME_MARKUP>\n",
      "2-(3,4-dihydroxyphenyl)-3,5,7-trihydroxychromen-4-one\n",
      "\n",
      "> <PUBCHEM_IUPAC_NAME>\n",
      "2-(3,4-dihydroxyphenyl)-3,5,7-trihydroxychromen-4-one\n",
      "\n",
      "> <PUBCHEM_IUPAC_SYSTEMATIC_NAME>\n",
      "2-[3,4-bis(oxidanyl)phenyl]-3,5,7-tris(oxidanyl)chromen-4-one\n",
      "\n",
      "> <PUBCHEM_IUPAC_TRADITIONAL_NAME>\n",
      "2-(3,4-dihydroxyphenyl)-3,5,7-trihydroxy-chromone\n",
      "\n",
      "> <PUBCHEM_IUPAC_INCHI>\n",
      "InChI=1S/C15H10O7/c16-7-4-10(19)12-11(5-7)22-15(14(21)13(12)20)6-1-2-8(17)9(18)3-6/h1-5,16-19,21H\n",
      "\n",
      "> <PUBCHEM_IUPAC_INCHIKEY>\n",
      "REFJWTPEDVJJIY-UHFFFAOYSA-N\n",
      "\n",
      "> <PUBCHEM_XLOGP3>\n",
      "1.5\n",
      "\n",
      "> <PUBCHEM_EXACT_MASS>\n",
      "302.04265265\n",
      "\n",
      "> <PUBCHEM_MOLECULAR_FORMULA>\n",
      "C15H10O7\n",
      "\n",
      "> <PUBCHEM_MOLECULAR_WEIGHT>\n",
      "302.23\n",
      "\n",
      "> <PUBCHEM_OPENEYE_CAN_SMILES>\n",
      "C1=CC(=C(C=C1C2=C(C(=O)C3=C(C=C(C=C3O2)O)O)O)O)O\n",
      "\n",
      "> <PUBCHEM_OPENEYE_ISO_SMILES>\n",
      "C1=CC(=C(C=C1C2=C(C(=O)C3=C(C=C(C=C3O2)O)O)O)O)O\n",
      "\n",
      "> <PUBCHEM_CACTVS_TPSA>\n",
      "127\n",
      "\n",
      "> <PUBCHEM_MONOISOTOPIC_WEIGHT>\n",
      "302.04265265\n",
      "\n",
      "> <PUBCHEM_TOTAL_CHARGE>\n",
      "0\n",
      "\n",
      "> <PUBCHEM_HEAVY_ATOM_COUNT>\n",
      "22\n",
      "\n",
      "> <PUBCHEM_ATOM_DEF_STEREO_COUNT>\n",
      "0\n",
      "\n",
      "> <PUBCHEM_ATOM_UDEF_STEREO_COUNT>\n",
      "0\n",
      "\n",
      "> <PUBCHEM_BOND_DEF_STEREO_COUNT>\n",
      "0\n",
      "\n",
      "> <PUBCHEM_BOND_UDEF_STEREO_COUNT>\n",
      "0\n",
      "\n",
      "> <PUBCHEM_ISOTOPIC_ATOM_COUNT>\n",
      "0\n",
      "\n",
      "> <PUBCHEM_COMPONENT_COUNT>\n",
      "1\n",
      "\n",
      "> <PUBCHEM_CACTVS_TAUTO_COUNT>\n",
      "435\n",
      "\n",
      "> <PUBCHEM_COORDINATE_TYPE>\n",
      "1\n",
      "5\n",
      "255\n",
      "\n",
      "> <PUBCHEM_BONDANNOTATIONS>\n",
      "1  10  8\n",
      "1  9  8\n",
      "10  12  8\n",
      "11  17  8\n",
      "11  19  8\n",
      "12  13  8\n",
      "14  18  8\n",
      "15  16  8\n",
      "16  18  8\n",
      "17  20  8\n",
      "19  21  8\n",
      "20  22  8\n",
      "21  22  8\n",
      "8  13  8\n",
      "8  14  8\n",
      "8  9  8\n",
      "9  15  8\n",
      "\n",
      "$$$$\n",
      "\n"
     ]
    }
   ],
   "source": [
    "quercetine_sdf = pcp.get_sdf('quercetine', 'name')\n",
    "print(quercetine_sdf)"
   ]
  },
  {
   "cell_type": "code",
   "execution_count": 10,
   "id": "afb16352",
   "metadata": {},
   "outputs": [
    {
     "data": {
      "image/png": "[encoded data removed]",
      "text/plain": [
       "<rdkit.Chem.rdchem.Mol at 0x7fa16029f220>"
      ]
     },
     "execution_count": 10,
     "metadata": {},
     "output_type": "execute_result"
    }
   ],
   "source": [
    "Chem.MolFromMolBlock(quercetine_sdf)"
   ]
  },
  {
   "cell_type": "code",
   "execution_count": 11,
   "id": "52c78af4",
   "metadata": {},
   "outputs": [
    {
     "data": {
      "text/plain": [
       "'InChI=1S/C15H10O7/c16-7-4-10(19)12-11(5-7)22-15(14(21)13(12)20)6-1-2-8(17)9(18)3-6/h1-5,16-19,21H'"
      ]
     },
     "execution_count": 11,
     "metadata": {},
     "output_type": "execute_result"
    }
   ],
   "source": [
    "quercetine[0].inchi"
   ]
  },
  {
   "cell_type": "code",
   "execution_count": 12,
   "id": "2156d01f",
   "metadata": {},
   "outputs": [
    {
     "data": {
      "image/png": "[encoded data removed]",
      "text/plain": [
       "<rdkit.Chem.rdchem.Mol at 0x7fa16028c740>"
      ]
     },
     "execution_count": 12,
     "metadata": {},
     "output_type": "execute_result"
    }
   ],
   "source": [
    "Chem.MolFromInchi(quercetine[0].inchi)"
   ]
  },
  {
   "cell_type": "code",
   "execution_count": 13,
   "id": "a5378b5b",
   "metadata": {},
   "outputs": [
    {
     "name": "stdout",
     "output_type": "stream",
     "text": [
      "Help on built-in function MolFromPDBFile in module rdkit.Chem.rdmolfiles:\n",
      "\n",
      "MolFromPDBFile(...)\n",
      "    MolFromPDBFile( (str)molFileName [, (bool)sanitize=True [, (bool)removeHs=True [, (int)flavor=0 [, (bool)proximityBonding=True]]]]) -> Mol :\n",
      "        Construct a molecule from a PDB file.\n",
      "        \n",
      "          ARGUMENTS:\n",
      "        \n",
      "            - fileName: name of the file to read\n",
      "        \n",
      "            - sanitize: (optional) toggles sanitization of the molecule.\n",
      "              Defaults to true.\n",
      "        \n",
      "            - removeHs: (optional) toggles removing hydrogens from the molecule.\n",
      "              This only make sense when sanitization is done.\n",
      "              Defaults to true.\n",
      "        \n",
      "            - flavor: (optional) \n",
      "        \n",
      "            - proximityBonding: (optional) toggles automatic proximity bonding\n",
      "        \n",
      "          RETURNS:\n",
      "        \n",
      "            a Mol object, None on failure.\n",
      "        \n",
      "        \n",
      "    \n",
      "        C++ signature :\n",
      "            RDKit::ROMol* MolFromPDBFile(char const* [,bool=True [,bool=True [,unsigned int=0 [,bool=True]]]])\n",
      "\n"
     ]
    }
   ],
   "source": [
    "help(Chem.MolFromPDBFile)"
   ]
  },
  {
   "cell_type": "code",
   "execution_count": 14,
   "id": "cc4dabe2",
   "metadata": {},
   "outputs": [
    {
     "name": "stdout",
     "output_type": "stream",
     "text": [
      "\u001b[34mdata\u001b[m\u001b[m\r\n",
      "homework.ipynb\r\n",
      "homework_answer.ipynb\r\n",
      "lecture_note_RDKit_no1_分子の読み込みと表示と出力.ipynb\r\n",
      "lecture_note_RDKit_no2_Descriptorsの使い方.ipynb\r\n",
      "lecture_note_RDKit_no3_分子の取り扱い方.ipynb\r\n",
      "lecture_note_RDKit_no4_構造変換.ipynb\r\n",
      "lecture_note_RDKit_no5_部分構造探索.ipynb\r\n",
      "note.ipynb\r\n"
     ]
    }
   ],
   "source": [
    "!ls"
   ]
  },
  {
   "cell_type": "code",
   "execution_count": 15,
   "id": "5efda398",
   "metadata": {},
   "outputs": [],
   "source": [
    "suppl = Chem.SDMolSupplier('data/PubChem_TCI_phenol_records.sdf')"
   ]
  },
  {
   "cell_type": "code",
   "execution_count": 16,
   "id": "1b8e8cc6",
   "metadata": {},
   "outputs": [
    {
     "data": {
      "text/plain": [
       "rdkit.Chem.rdmolfiles.SDMolSupplier"
      ]
     },
     "execution_count": 16,
     "metadata": {},
     "output_type": "execute_result"
    }
   ],
   "source": [
    "type(suppl)"
   ]
  },
  {
   "cell_type": "code",
   "execution_count": 17,
   "id": "72fc2cee",
   "metadata": {},
   "outputs": [],
   "source": [
    "mols = [mol for mol in suppl]"
   ]
  },
  {
   "cell_type": "code",
   "execution_count": 18,
   "id": "f9cf5e47",
   "metadata": {},
   "outputs": [
    {
     "data": {
      "text/plain": [
       "117"
      ]
     },
     "execution_count": 18,
     "metadata": {},
     "output_type": "execute_result"
    }
   ],
   "source": [
    "len(mols)"
   ]
  },
  {
   "cell_type": "code",
   "execution_count": 19,
   "id": "be91a082",
   "metadata": {},
   "outputs": [
    {
     "name": "stderr",
     "output_type": "stream",
     "text": [
      "/opt/anaconda3/envs/lecture-beginner/lib/python3.9/site-packages/rdkit/Chem/Draw/IPythonConsole.py:190: UserWarning: Truncating the list of molecules to be displayed to 3. Change the maxMols value to display more.\n",
      "  warnings.warn(\n"
     ]
    },
    {
     "data": {
      "image/png": "[encoded data removed]",
      "text/plain": [
       "<IPython.core.display.Image object>"
      ]
     },
     "execution_count": 19,
     "metadata": {},
     "output_type": "execute_result"
    }
   ],
   "source": [
    "from rdkit.Chem import Draw\n",
    "Draw.MolsToGridImage(mols, maxMols=3, molsPerRow=3, subImgSize=(400, 400))"
   ]
  },
  {
   "cell_type": "code",
   "execution_count": 20,
   "id": "16cbc4ce",
   "metadata": {},
   "outputs": [],
   "source": [
    "from rdkit.Chem import AllChem, PandasTools"
   ]
  },
  {
   "cell_type": "code",
   "execution_count": 21,
   "id": "7b5354ce",
   "metadata": {},
   "outputs": [],
   "source": [
    "df = PandasTools.LoadSDF('data/PubChem_TCI_phenol_records.sdf')"
   ]
  },
  {
   "cell_type": "code",
   "execution_count": 22,
   "id": "1000cd5a",
   "metadata": {},
   "outputs": [
    {
     "data": {
      "text/html": [
       "<div>\n",
       "<style scoped>\n",
       "    .dataframe tbody tr th:only-of-type {\n",
       "        vertical-align: middle;\n",
       "    }\n",
       "\n",
       "    .dataframe tbody tr th {\n",
       "        vertical-align: top;\n",
       "    }\n",
       "\n",
       "    .dataframe thead th {\n",
       "        text-align: right;\n",
       "    }\n",
       "</style>\n",
       "<table border=\"1\" class=\"dataframe\">\n",
       "  <thead>\n",
       "    <tr style=\"text-align: right;\">\n",
       "      <th></th>\n",
       "      <th>PUBCHEM_COMPOUND_ID_TYPE</th>\n",
       "      <th>PUBCHEM_TOTAL_CHARGE</th>\n",
       "      <th>PUBCHEM_SUBSTANCE_ID</th>\n",
       "      <th>PUBCHEM_SUBSTANCE_VERSION</th>\n",
       "      <th>PUBCHEM_EXT_DATASOURCE_NAME</th>\n",
       "      <th>PUBCHEM_EXT_DATASOURCE_REGID</th>\n",
       "      <th>PUBCHEM_SUBSTANCE_SYNONYM</th>\n",
       "      <th>PUBCHEM_XREF_EXT_ID</th>\n",
       "      <th>PUBCHEM_EXT_DATASOURCE_URL</th>\n",
       "      <th>PUBCHEM_EXT_SUBSTANCE_URL</th>\n",
       "      <th>PUBCHEM_CID_ASSOCIATIONS</th>\n",
       "      <th>PUBCHEM_COORDINATE_TYPE</th>\n",
       "      <th>ID</th>\n",
       "      <th>ROMol</th>\n",
       "      <th>PUBCHEM_BONDANNOTATIONS</th>\n",
       "      <th>PUBCHEM_SUBSTANCE_COMMENT</th>\n",
       "      <th>PUBCHEM_GENERIC_REGISTRY_NAME</th>\n",
       "    </tr>\n",
       "  </thead>\n",
       "  <tbody>\n",
       "    <tr>\n",
       "      <th>0</th>\n",
       "      <td>0</td>\n",
       "      <td>0</td>\n",
       "      <td>354335558</td>\n",
       "      <td>1</td>\n",
       "      <td>TCI (Tokyo Chemical Industry)</td>\n",
       "      <td>A3190</td>\n",
       "      <td>4-[1-Hydroxy-2-[[6-(4-phenylbutoxy)hexyl]amino...</td>\n",
       "      <td>A3190</td>\n",
       "      <td>http://www.tcichemicals.com/en/us/</td>\n",
       "      <td>http://www.tcichemicals.com/eshop/en/us/commod...</td>\n",
       "      <td>56801  1\\n5152  2\\n6844  2</td>\n",
       "      <td>1\\n3</td>\n",
       "      <td>354335558</td>\n",
       "      <td><img data-content=\"rdkit/molecule\" src=\"data:image/png;base64,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\" alt=\"Mol\"/></td>\n",
       "      <td>NaN</td>\n",
       "      <td>NaN</td>\n",
       "      <td>NaN</td>\n",
       "    </tr>\n",
       "  </tbody>\n",
       "</table>\n",
       "</div>"
      ],
      "text/plain": [
       "  PUBCHEM_COMPOUND_ID_TYPE PUBCHEM_TOTAL_CHARGE PUBCHEM_SUBSTANCE_ID  \\\n",
       "0                        0                    0            354335558   \n",
       "\n",
       "  PUBCHEM_SUBSTANCE_VERSION    PUBCHEM_EXT_DATASOURCE_NAME  \\\n",
       "0                         1  TCI (Tokyo Chemical Industry)   \n",
       "\n",
       "  PUBCHEM_EXT_DATASOURCE_REGID  \\\n",
       "0                        A3190   \n",
       "\n",
       "                           PUBCHEM_SUBSTANCE_SYNONYM PUBCHEM_XREF_EXT_ID  \\\n",
       "0  4-[1-Hydroxy-2-[[6-(4-phenylbutoxy)hexyl]amino...               A3190   \n",
       "\n",
       "           PUBCHEM_EXT_DATASOURCE_URL  \\\n",
       "0  http://www.tcichemicals.com/en/us/   \n",
       "\n",
       "                           PUBCHEM_EXT_SUBSTANCE_URL  \\\n",
       "0  http://www.tcichemicals.com/eshop/en/us/commod...   \n",
       "\n",
       "     PUBCHEM_CID_ASSOCIATIONS PUBCHEM_COORDINATE_TYPE         ID  \\\n",
       "0  56801  1\\n5152  2\\n6844  2                    1\\n3  354335558   \n",
       "\n",
       "                                               ROMol PUBCHEM_BONDANNOTATIONS  \\\n",
       "0  <img data-content=\"rdkit/molecule\" src=\"data:i...                     NaN   \n",
       "\n",
       "  PUBCHEM_SUBSTANCE_COMMENT PUBCHEM_GENERIC_REGISTRY_NAME  \n",
       "0                       NaN                           NaN  "
      ]
     },
     "execution_count": 22,
     "metadata": {},
     "output_type": "execute_result"
    }
   ],
   "source": [
    "df.head(1)"
   ]
  },
  {
   "cell_type": "code",
   "execution_count": 23,
   "id": "289eb9da",
   "metadata": {},
   "outputs": [
    {
     "data": {
      "text/plain": [
       "Index(['PUBCHEM_COMPOUND_ID_TYPE', 'PUBCHEM_TOTAL_CHARGE',\n",
       "       'PUBCHEM_SUBSTANCE_ID', 'PUBCHEM_SUBSTANCE_VERSION',\n",
       "       'PUBCHEM_EXT_DATASOURCE_NAME', 'PUBCHEM_EXT_DATASOURCE_REGID',\n",
       "       'PUBCHEM_SUBSTANCE_SYNONYM', 'PUBCHEM_XREF_EXT_ID',\n",
       "       'PUBCHEM_EXT_DATASOURCE_URL', 'PUBCHEM_EXT_SUBSTANCE_URL',\n",
       "       'PUBCHEM_CID_ASSOCIATIONS', 'PUBCHEM_COORDINATE_TYPE', 'ID', 'ROMol',\n",
       "       'PUBCHEM_BONDANNOTATIONS', 'PUBCHEM_SUBSTANCE_COMMENT',\n",
       "       'PUBCHEM_GENERIC_REGISTRY_NAME'],\n",
       "      dtype='object')"
      ]
     },
     "execution_count": 23,
     "metadata": {},
     "output_type": "execute_result"
    }
   ],
   "source": [
    "df.columns"
   ]
  },
  {
   "cell_type": "code",
   "execution_count": 24,
   "id": "75ed41f9",
   "metadata": {},
   "outputs": [],
   "source": [
    "df2 = df[['ID', 'ROMol']]"
   ]
  },
  {
   "cell_type": "code",
   "execution_count": 25,
   "id": "f26747b2",
   "metadata": {},
   "outputs": [
    {
     "data": {
      "text/html": [
       "<div>\n",
       "<style scoped>\n",
       "    .dataframe tbody tr th:only-of-type {\n",
       "        vertical-align: middle;\n",
       "    }\n",
       "\n",
       "    .dataframe tbody tr th {\n",
       "        vertical-align: top;\n",
       "    }\n",
       "\n",
       "    .dataframe thead th {\n",
       "        text-align: right;\n",
       "    }\n",
       "</style>\n",
       "<table border=\"1\" class=\"dataframe\">\n",
       "  <thead>\n",
       "    <tr style=\"text-align: right;\">\n",
       "      <th></th>\n",
       "      <th>ID</th>\n",
       "      <th>ROMol</th>\n",
       "    </tr>\n",
       "  </thead>\n",
       "  <tbody>\n",
       "    <tr>\n",
       "      <th>23</th>\n",
       "      <td>253660281</td>\n",
       "      <td><img data-content=\"rdkit/molecule\" src=\"data:image/png;base64,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\" alt=\"Mol\"/></td>\n",
       "    </tr>\n",
       "  </tbody>\n",
       "</table>\n",
       "</div>"
      ],
      "text/plain": [
       "           ID                                              ROMol\n",
       "23  253660281  <img data-content=\"rdkit/molecule\" src=\"data:i..."
      ]
     },
     "execution_count": 25,
     "metadata": {},
     "output_type": "execute_result"
    }
   ],
   "source": [
    "df2.sample(1)"
   ]
  },
  {
   "cell_type": "code",
   "execution_count": 26,
   "id": "8eb0af8a",
   "metadata": {},
   "outputs": [],
   "source": [
    "compoundlist = [\"phenol\", \"anisole\", \"aniline\"]\n",
    "properties = [\"iupacname\", 'canonicalsmiles']"
   ]
  },
  {
   "cell_type": "code",
   "execution_count": 27,
   "id": "0d7af902",
   "metadata": {},
   "outputs": [],
   "source": [
    "import sys \n",
    "import pandas as pd\n",
    "\n",
    "df = pd.DataFrame()\n",
    "for compound in compoundlist:\n",
    "    try:\n",
    "        temp = pcp.get_properties(properties, compound, 'name', as_dataframe=True)\n",
    "        df = pd.concat([df, temp], axis=0, join='outer', sort=True)\n",
    "    except:\n",
    "        print(compound)\n",
    "        print(sys.exc_info())\n",
    "        pass\n"
   ]
  },
  {
   "cell_type": "code",
   "execution_count": 28,
   "id": "40d2d696",
   "metadata": {},
   "outputs": [
    {
     "data": {
      "text/html": [
       "<div>\n",
       "<style scoped>\n",
       "    .dataframe tbody tr th:only-of-type {\n",
       "        vertical-align: middle;\n",
       "    }\n",
       "\n",
       "    .dataframe tbody tr th {\n",
       "        vertical-align: top;\n",
       "    }\n",
       "\n",
       "    .dataframe thead th {\n",
       "        text-align: right;\n",
       "    }\n",
       "</style>\n",
       "<table border=\"1\" class=\"dataframe\">\n",
       "  <thead>\n",
       "    <tr style=\"text-align: right;\">\n",
       "      <th></th>\n",
       "      <th>CanonicalSMILES</th>\n",
       "      <th>IUPACName</th>\n",
       "    </tr>\n",
       "    <tr>\n",
       "      <th>CID</th>\n",
       "      <th></th>\n",
       "      <th></th>\n",
       "    </tr>\n",
       "  </thead>\n",
       "  <tbody>\n",
       "    <tr>\n",
       "      <th>996</th>\n",
       "      <td>C1=CC=C(C=C1)O</td>\n",
       "      <td>phenol</td>\n",
       "    </tr>\n",
       "    <tr>\n",
       "      <th>7519</th>\n",
       "      <td>COC1=CC=CC=C1</td>\n",
       "      <td>anisole</td>\n",
       "    </tr>\n",
       "    <tr>\n",
       "      <th>6115</th>\n",
       "      <td>C1=CC=C(C=C1)N</td>\n",
       "      <td>aniline</td>\n",
       "    </tr>\n",
       "  </tbody>\n",
       "</table>\n",
       "</div>"
      ],
      "text/plain": [
       "     CanonicalSMILES IUPACName\n",
       "CID                           \n",
       "996   C1=CC=C(C=C1)O    phenol\n",
       "7519   COC1=CC=CC=C1   anisole\n",
       "6115  C1=CC=C(C=C1)N   aniline"
      ]
     },
     "execution_count": 28,
     "metadata": {},
     "output_type": "execute_result"
    }
   ],
   "source": [
    "df"
   ]
  },
  {
   "cell_type": "code",
   "execution_count": 29,
   "id": "cad52bd5",
   "metadata": {},
   "outputs": [],
   "source": [
    "PandasTools.AddMoleculeColumnToFrame(df, \"CanonicalSMILES\")"
   ]
  },
  {
   "cell_type": "code",
   "execution_count": 30,
   "id": "5de9823c",
   "metadata": {},
   "outputs": [
    {
     "data": {
      "text/html": [
       "<div>\n",
       "<style scoped>\n",
       "    .dataframe tbody tr th:only-of-type {\n",
       "        vertical-align: middle;\n",
       "    }\n",
       "\n",
       "    .dataframe tbody tr th {\n",
       "        vertical-align: top;\n",
       "    }\n",
       "\n",
       "    .dataframe thead th {\n",
       "        text-align: right;\n",
       "    }\n",
       "</style>\n",
       "<table border=\"1\" class=\"dataframe\">\n",
       "  <thead>\n",
       "    <tr style=\"text-align: right;\">\n",
       "      <th></th>\n",
       "      <th>CanonicalSMILES</th>\n",
       "      <th>IUPACName</th>\n",
       "      <th>ROMol</th>\n",
       "    </tr>\n",
       "    <tr>\n",
       "      <th>CID</th>\n",
       "      <th></th>\n",
       "      <th></th>\n",
       "      <th></th>\n",
       "    </tr>\n",
       "  </thead>\n",
       "  <tbody>\n",
       "    <tr>\n",
       "      <th>996</th>\n",
       "      <td>C1=CC=C(C=C1)O</td>\n",
       "      <td>phenol</td>\n",
       "      <td><img data-content=\"rdkit/molecule\" src=\"data:image/png;base64,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\" alt=\"Mol\"/></td>\n",
       "    </tr>\n",
       "  </tbody>\n",
       "</table>\n",
       "</div>"
      ],
      "text/plain": [
       "    CanonicalSMILES IUPACName  \\\n",
       "CID                             \n",
       "996  C1=CC=C(C=C1)O    phenol   \n",
       "\n",
       "                                                 ROMol  \n",
       "CID                                                     \n",
       "996  <img data-content=\"rdkit/molecule\" src=\"data:i...  "
      ]
     },
     "execution_count": 30,
     "metadata": {},
     "output_type": "execute_result"
    }
   ],
   "source": [
    "df.head(1)"
   ]
  },
  {
   "cell_type": "code",
   "execution_count": 31,
   "id": "705dc17e",
   "metadata": {},
   "outputs": [],
   "source": [
    "df[\"smiles_from_RDKit\"] = df[\"ROMol\"].map(Chem.MolToSmiles)"
   ]
  },
  {
   "cell_type": "code",
   "execution_count": 32,
   "id": "202724fd",
   "metadata": {},
   "outputs": [
    {
     "data": {
      "text/html": [
       "<div>\n",
       "<style scoped>\n",
       "    .dataframe tbody tr th:only-of-type {\n",
       "        vertical-align: middle;\n",
       "    }\n",
       "\n",
       "    .dataframe tbody tr th {\n",
       "        vertical-align: top;\n",
       "    }\n",
       "\n",
       "    .dataframe thead th {\n",
       "        text-align: right;\n",
       "    }\n",
       "</style>\n",
       "<table border=\"1\" class=\"dataframe\">\n",
       "  <thead>\n",
       "    <tr style=\"text-align: right;\">\n",
       "      <th></th>\n",
       "      <th>CanonicalSMILES</th>\n",
       "      <th>IUPACName</th>\n",
       "      <th>ROMol</th>\n",
       "      <th>smiles_from_RDKit</th>\n",
       "    </tr>\n",
       "    <tr>\n",
       "      <th>CID</th>\n",
       "      <th></th>\n",
       "      <th></th>\n",
       "      <th></th>\n",
       "      <th></th>\n",
       "    </tr>\n",
       "  </thead>\n",
       "  <tbody>\n",
       "    <tr>\n",
       "      <th>996</th>\n",
       "      <td>C1=CC=C(C=C1)O</td>\n",
       "      <td>phenol</td>\n",
       "      <td><img data-content=\"rdkit/molecule\" src=\"data:image/png;base64,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\" alt=\"Mol\"/></td>\n",
       "      <td>Oc1ccccc1</td>\n",
       "    </tr>\n",
       "  </tbody>\n",
       "</table>\n",
       "</div>"
      ],
      "text/plain": [
       "    CanonicalSMILES IUPACName  \\\n",
       "CID                             \n",
       "996  C1=CC=C(C=C1)O    phenol   \n",
       "\n",
       "                                                 ROMol smiles_from_RDKit  \n",
       "CID                                                                       \n",
       "996  <img data-content=\"rdkit/molecule\" src=\"data:i...         Oc1ccccc1  "
      ]
     },
     "execution_count": 32,
     "metadata": {},
     "output_type": "execute_result"
    }
   ],
   "source": [
    "df.head(1)"
   ]
  },
  {
   "cell_type": "code",
   "execution_count": 33,
   "id": "394cdf3f",
   "metadata": {},
   "outputs": [
    {
     "data": {
      "text/html": [
       "<div>\n",
       "<style scoped>\n",
       "    .dataframe tbody tr th:only-of-type {\n",
       "        vertical-align: middle;\n",
       "    }\n",
       "\n",
       "    .dataframe tbody tr th {\n",
       "        vertical-align: top;\n",
       "    }\n",
       "\n",
       "    .dataframe thead th {\n",
       "        text-align: right;\n",
       "    }\n",
       "</style>\n",
       "<table border=\"1\" class=\"dataframe\">\n",
       "  <thead>\n",
       "    <tr style=\"text-align: right;\">\n",
       "      <th></th>\n",
       "      <th>IUPACName</th>\n",
       "      <th>smiles_from_RDKit</th>\n",
       "    </tr>\n",
       "    <tr>\n",
       "      <th>CID</th>\n",
       "      <th></th>\n",
       "      <th></th>\n",
       "    </tr>\n",
       "  </thead>\n",
       "  <tbody>\n",
       "    <tr>\n",
       "      <th>996</th>\n",
       "      <td>phenol</td>\n",
       "      <td>Oc1ccccc1</td>\n",
       "    </tr>\n",
       "    <tr>\n",
       "      <th>7519</th>\n",
       "      <td>anisole</td>\n",
       "      <td>COc1ccccc1</td>\n",
       "    </tr>\n",
       "    <tr>\n",
       "      <th>6115</th>\n",
       "      <td>aniline</td>\n",
       "      <td>Nc1ccccc1</td>\n",
       "    </tr>\n",
       "  </tbody>\n",
       "</table>\n",
       "</div>"
      ],
      "text/plain": [
       "     IUPACName smiles_from_RDKit\n",
       "CID                             \n",
       "996     phenol         Oc1ccccc1\n",
       "7519   anisole        COc1ccccc1\n",
       "6115   aniline         Nc1ccccc1"
      ]
     },
     "execution_count": 33,
     "metadata": {},
     "output_type": "execute_result"
    }
   ],
   "source": [
    "df_to_csv = df[['IUPACName', 'smiles_from_RDKit']]\n",
    "df_to_csv"
   ]
  },
  {
   "cell_type": "code",
   "execution_count": 34,
   "id": "77359db0",
   "metadata": {},
   "outputs": [
    {
     "name": "stdout",
     "output_type": "stream",
     "text": [
      "\u001b[34mdata\u001b[m\u001b[m\r\n",
      "homework.ipynb\r\n",
      "homework_answer.ipynb\r\n",
      "lecture_note_RDKit_no1_分子の読み込みと表示と出力.ipynb\r\n",
      "lecture_note_RDKit_no2_Descriptorsの使い方.ipynb\r\n",
      "lecture_note_RDKit_no3_分子の取り扱い方.ipynb\r\n",
      "lecture_note_RDKit_no4_構造変換.ipynb\r\n",
      "lecture_note_RDKit_no5_部分構造探索.ipynb\r\n",
      "note.ipynb\r\n"
     ]
    }
   ],
   "source": [
    "!ls"
   ]
  },
  {
   "cell_type": "code",
   "execution_count": 35,
   "id": "99eee285",
   "metadata": {},
   "outputs": [],
   "source": [
    "df_to_csv.to_csv('output.csv')"
   ]
  },
  {
   "cell_type": "code",
   "execution_count": 36,
   "id": "8d556866",
   "metadata": {},
   "outputs": [
    {
     "name": "stdout",
     "output_type": "stream",
     "text": [
      "\u001b[34mdata\u001b[m\u001b[m\r\n",
      "homework.ipynb\r\n",
      "homework_answer.ipynb\r\n",
      "lecture_note_RDKit_no1_分子の読み込みと表示と出力.ipynb\r\n",
      "lecture_note_RDKit_no2_Descriptorsの使い方.ipynb\r\n",
      "lecture_note_RDKit_no3_分子の取り扱い方.ipynb\r\n",
      "lecture_note_RDKit_no4_構造変換.ipynb\r\n",
      "lecture_note_RDKit_no5_部分構造探索.ipynb\r\n",
      "note.ipynb\r\n",
      "output.csv\r\n"
     ]
    }
   ],
   "source": [
    "!ls"
   ]
  },
  {
   "cell_type": "code",
   "execution_count": 37,
   "id": "9d0c3916",
   "metadata": {},
   "outputs": [
    {
     "data": {
      "text/html": [
       "<div>\n",
       "<style scoped>\n",
       "    .dataframe tbody tr th:only-of-type {\n",
       "        vertical-align: middle;\n",
       "    }\n",
       "\n",
       "    .dataframe tbody tr th {\n",
       "        vertical-align: top;\n",
       "    }\n",
       "\n",
       "    .dataframe thead th {\n",
       "        text-align: right;\n",
       "    }\n",
       "</style>\n",
       "<table border=\"1\" class=\"dataframe\">\n",
       "  <thead>\n",
       "    <tr style=\"text-align: right;\">\n",
       "      <th></th>\n",
       "      <th>CID</th>\n",
       "      <th>IUPACName</th>\n",
       "      <th>smiles_from_RDKit</th>\n",
       "    </tr>\n",
       "  </thead>\n",
       "  <tbody>\n",
       "    <tr>\n",
       "      <th>0</th>\n",
       "      <td>996</td>\n",
       "      <td>phenol</td>\n",
       "      <td>Oc1ccccc1</td>\n",
       "    </tr>\n",
       "    <tr>\n",
       "      <th>1</th>\n",
       "      <td>7519</td>\n",
       "      <td>anisole</td>\n",
       "      <td>COc1ccccc1</td>\n",
       "    </tr>\n",
       "    <tr>\n",
       "      <th>2</th>\n",
       "      <td>6115</td>\n",
       "      <td>aniline</td>\n",
       "      <td>Nc1ccccc1</td>\n",
       "    </tr>\n",
       "  </tbody>\n",
       "</table>\n",
       "</div>"
      ],
      "text/plain": [
       "    CID IUPACName smiles_from_RDKit\n",
       "0   996    phenol         Oc1ccccc1\n",
       "1  7519   anisole        COc1ccccc1\n",
       "2  6115   aniline         Nc1ccccc1"
      ]
     },
     "execution_count": 37,
     "metadata": {},
     "output_type": "execute_result"
    }
   ],
   "source": [
    "df_from_csv =pd.read_csv('output.csv')\n",
    "df_from_csv"
   ]
  },
  {
   "cell_type": "code",
   "execution_count": 38,
   "id": "071803f3",
   "metadata": {},
   "outputs": [],
   "source": [
    "!rm output.csv"
   ]
  },
  {
   "cell_type": "code",
   "execution_count": 39,
   "id": "dcc6a72d",
   "metadata": {},
   "outputs": [
    {
     "name": "stdout",
     "output_type": "stream",
     "text": [
      "\u001b[34mdata\u001b[m\u001b[m\r\n",
      "homework.ipynb\r\n",
      "homework_answer.ipynb\r\n",
      "lecture_note_RDKit_no1_分子の読み込みと表示と出力.ipynb\r\n",
      "lecture_note_RDKit_no2_Descriptorsの使い方.ipynb\r\n",
      "lecture_note_RDKit_no3_分子の取り扱い方.ipynb\r\n",
      "lecture_note_RDKit_no4_構造変換.ipynb\r\n",
      "lecture_note_RDKit_no5_部分構造探索.ipynb\r\n",
      "note.ipynb\r\n"
     ]
    }
   ],
   "source": [
    "!ls"
   ]
  },
  {
   "cell_type": "markdown",
   "id": "c7326ed5",
   "metadata": {},
   "source": [
    "# No2"
   ]
  },
  {
   "cell_type": "code",
   "execution_count": 40,
   "id": "d5badefc",
   "metadata": {},
   "outputs": [],
   "source": [
    "from rdkit.Chem import Descriptors\n",
    "from rdkit.ML.Descriptors import MoleculeDescriptors"
   ]
  },
  {
   "cell_type": "code",
   "execution_count": 41,
   "id": "551c3526",
   "metadata": {},
   "outputs": [
    {
     "data": {
      "image/png": "[encoded data removed]",
      "text/plain": [
       "<rdkit.Chem.rdchem.Mol at 0x7fa181ae7ac0>"
      ]
     },
     "execution_count": 41,
     "metadata": {},
     "output_type": "execute_result"
    }
   ],
   "source": [
    "mol = quercetine_mol\n",
    "mol"
   ]
  },
  {
   "cell_type": "code",
   "execution_count": 42,
   "id": "d71431ea",
   "metadata": {},
   "outputs": [
    {
     "data": {
      "text/plain": [
       "208"
      ]
     },
     "execution_count": 42,
     "metadata": {},
     "output_type": "execute_result"
    }
   ],
   "source": [
    "len(Descriptors.descList)"
   ]
  },
  {
   "cell_type": "code",
   "execution_count": 43,
   "id": "46f44e64",
   "metadata": {},
   "outputs": [
    {
     "data": {
      "text/plain": [
       "131.36"
      ]
     },
     "execution_count": 43,
     "metadata": {},
     "output_type": "execute_result"
    }
   ],
   "source": [
    "Descriptors.TPSA(mol)"
   ]
  },
  {
   "cell_type": "code",
   "execution_count": 44,
   "id": "fb4fbb81",
   "metadata": {},
   "outputs": [
    {
     "data": {
      "text/plain": [
       "5"
      ]
     },
     "execution_count": 44,
     "metadata": {},
     "output_type": "execute_result"
    }
   ],
   "source": [
    "Descriptors.NumHDonors(mol)"
   ]
  },
  {
   "cell_type": "code",
   "execution_count": 45,
   "id": "8ca11da0",
   "metadata": {},
   "outputs": [],
   "source": [
    "df = df2"
   ]
  },
  {
   "cell_type": "code",
   "execution_count": 46,
   "id": "484bf01c",
   "metadata": {},
   "outputs": [
    {
     "data": {
      "text/html": [
       "<div>\n",
       "<style scoped>\n",
       "    .dataframe tbody tr th:only-of-type {\n",
       "        vertical-align: middle;\n",
       "    }\n",
       "\n",
       "    .dataframe tbody tr th {\n",
       "        vertical-align: top;\n",
       "    }\n",
       "\n",
       "    .dataframe thead th {\n",
       "        text-align: right;\n",
       "    }\n",
       "</style>\n",
       "<table border=\"1\" class=\"dataframe\">\n",
       "  <thead>\n",
       "    <tr style=\"text-align: right;\">\n",
       "      <th></th>\n",
       "      <th>ID</th>\n",
       "      <th>ROMol</th>\n",
       "    </tr>\n",
       "  </thead>\n",
       "  <tbody>\n",
       "    <tr>\n",
       "      <th>98</th>\n",
       "      <td>87561955</td>\n",
       "      <td><img data-content=\"rdkit/molecule\" src=\"data:image/png;base64,iVBORw0KGgoAAAANSUhEUgAAAMgAAADICAIAAAAiOjnJAAAABmJLR0QA/wD/AP+gvaeTAAANCElEQVR4nO3de1BU5R/H8e9yjV1avBBUUpKXVcwKqdi8JCE0lm3mWNRkg81oYTEN8kczzDTpZje3+TUTWY6Z+geNRDDZhSwaYYLU4ZKCAalQICaCFokyyIZL8Pz+eNZl2cW9yH53F/28xj9YOJx9Bt+759mzcB6FEIIAPC3A1wOAaxPCAhYIC1ggLGCBsIAFwgIWCAtYICxggbCABcICFggLWCAsYIGwgAXCAhYIC1ggLGCBsIAFwgIWCAtYICxggbCABcICFggLWCAsYIGwgAXCAhYIC1ggLGCBsIAFwgIWCAtYICxggbCABcICFggLWCAsYIGwgAXCAhYIC1ggLGCBsIAFwgIWCAtYICxggbCABcICFggLWCAsYIGwgAXCAhYIC1ggLGCBsIAFwgIWCAtYICxggbCABcICFggLWCAsYIGwgAXCAhYOw2psJKNx+GZHB7W3mz/u7qbycqqooJ4extHBuOUwrNRUamwcvpmbSwYDEdF779H06fTuu/TWWxQbSx99xDtGGIeC3P6OH38kg4Gqqmj2bCKiujpatIjmzaNFizw+OBi/3J9jFRTQmjXmqogoIYFWraKCAs8OC8Y7Z89Yr71GkyaZP25ooNRUammhBx8csc3cuVRSwjI69wkhCgoKvvjiC7VavXDhwoyMjMDAQF8P6nrkLKwVK4afnHbsICIKCqLBwRHbDAxQSAjD2Nx26NCh7OzsyspKeTM/P3/btm25ublLlizx7cCuQ84OhYmJ9PDD5n9TpxIRaTRUXz9im/p60mhoYIA6OriG6cyZM2fWrVs3f/78ysrKyMjI3Nzcb775Ztq0aY2NjSkpKY8//nhra6uvxnadEg5ERYnq6uGbr74qMjPFgQMiPFzU1Jg/WVEhwsJEfb14/32hVAq9XhiNjvbpaSaTKTc3V61WE1FwcHBWVlZPT4/80qVLl670JeDmflhCiJ07RWSkuO8+kZAgoqJEQYEQQrzwgiASRGLqVFFUxDnmYcXFxdOnT5ePEJ1O19LSYr9NZ2dnRkZGQEAAEd1yyy3bt2//77//vDO865nDsM6eFSbT8M2eHnHhgvnj/n5RXy8aGkZsUFEh4uPNeWm1I6L0tOPHjz/66KMyqdmzZ//www+Otz98+PCiyydEEhISDhw4wDc2EE7CugqDgyIvT0RHCyIRECDS08XZs569h3PnzmVlZQUFBRHRxIkTc3NzBwYGXPnGoaGhoqKiqXKmSKTT6U6ePOnZsYGFp8OSenuFXi9CQwWRCA8Xer3o7x/7XgcGBrZv3x4ZGUlEQUFBGRkZf//9t802XV1du3btcrCTvr4+g8EQHh5OREqlMicnp7e3d+xjAxs8YUlNTWLZMvORUaMxff/9WHZWVlY2d+5c+WSTkpLS0NBgs4ElO4VCsX//fsd7a29vT09PVygURBQTE5OXlzc0NDSW4YENzrCksjIxd64gemnx4pSUlMbGRnd38Pvvv6elpcmkZsyYUTTaK4OSkpK4uDi5zdKlS5ubm13Zc3V1tVarld+VmJhYVVXl7tjgSvjDEkKYTBe2bpWHsODg4PXr13d3d7vyfb29vXq9PjQ0lIhUKpVer++3O6RaZzdz5sxRs3NgcHAwLy8vOjqaiAICAtLT08+cOePWHmBUXglLCDFy0j1p0iTHk25X/r+tswsPDx81Oxe5UjC4xXthScePH3/kkUccnyZweoSyz+6sJ157unLMBRd5OyypuLh42rRp9ic2XZlTW2en1WqrPX22zOmrBHCFb8ISdu+3ZGZmbtq0yfFZAK+9lHPlvAY45rOwpI6OjtWrV8tWFAqFQqFYtWpVe3u7zWZ9fX16vT4sLMybJ5+6urpefvll+Vs3u3btwvkIt/g4LKmmpka2ZX/+yfp0uUKhSEtL8/Lp8oaGBqVSSUQemcZdP/wiLCGEfGKweZ1YW1s7f/58Od25//77KysrfTK2qKgohOUuv/7zr87OzqqqKvkrCVVVVZbIwP+5/8cUXqTT6Xbu3Pn000/feOONvh4LuMevn7GIaO3atV6u6sMPP1y/fn1bW5s37/Ta4+9heV9RUdGWLVs6Ozt9PZDxDWEBC4QFLBAWsEBYwAJhAQuEBSwQFrBAWMACYQELhAUsEBawQFjAAmEBC4QFLBAWsEBYwAJhAQuEBSwQFrDw67/S8YnMzMzly5fHxsb6eiDjm1+HJYR4++23165de+utt3rtTp977jmv3dc1zK8Phfn5+Rs3bpw5c+Ybb7zR39/v6+GAG/w6rKSkpPT0dKPRuGnTJo1G89lnn/l6ROAyX/+Nv5lKpQoMDCwsLLT/Unl5+T333CNH+9BDD/3666/eHNi+ffuUSmVgYOCWLVsGBwe9eddOHTx48Kmnnnr99de3bt3q4jXJvcZfwiorK5PpJCUlHTlyxOar8hJ+8uIc8hJ+f/31F/eQ/vjjj+XLl8tRyYvh+PDCJDZOnTr17LPPylHJ66ncddddZWVlvh7XMH8Jy5WrP54/fz4nJyckJISIJkyYYDAYmK4UevHiRb1ef8MNNxCRSqXauHFjfn6+Dy+lZM1oNBoMBnnZgbCwsJycnMLCQqfrvnifv4QlyXQcX6+2ublZp9PJn6NGo/nuu+88OIChoaG8vLybb75ZNmR9UV2fXPzNRnFxseU8iE6nO3HihPy8g5WqfMW/wpJcucJ2aWnpnXfeKbdJTU397bffxn6/NTU1DzzwgNznlY56vlp5oK6u7sHL64/Omzfv559/tt9GLkclj4xybT0fLkflj2FJNunYrzwgH6YRERGWh+n58+ev7r5Onz5tyWXKlClOc6moqIiPj5dj47jArrV//vknKytL5jJ58mSnufjJclT+G5YQwmQy2Vxktqury2Yb65+7vHy8Ww9TOWWRF9WVUxYXD3BMlwS3Zv/IuWBZfc2hoaGh3bt3x8TEyAN6dvb/7K7qys6vw5LkygOO06mrq1u8eLF8mMbHxx8+fNiVPdtMWdra2twdmwcXMbBRWlo6Z84cyxP20aNH3d2DXI4qIiJixoxGpVLk5AhvzgnHQVjSsWPHli5dKn/QcXFxJSUl9tsUFxffcccdgYGB9fX1jvdWW1trmbIkJCQ4XdTJsTEuu2Kjqalp2bJlcm+zZs3au3fvWPb25589aWnDS5SOdqKQxbgJS7JZeaC1tdVmA6PR+L3DZcbcnbK4rrS01HrlgatYjqq7u9tyPmXixIkGg+HSpUseGVt1tdBqzXklJgovrEY1zsISI1ceCAkJcf2l9VVPWVxnv/KA/aRwVHLGdtNNN/GdAeZfonSE8ReW1NHRYbPSs+P3W0pLSy3rzl3dlMV19pNCx++3/PTTT3fffbccW3JystPj+FhYL1GqUg0vUdrWJqwfnh0dordXdHSIc+eGP3nxorh84sy58RqWdOjQoYULF8r/knvvvffgwYP229hMWRwfKD3o2LFj1stRjTopbGlpsUzObrvttry8PO+MrblZPPaYZYlSUVIi1Gqh1QrLYzMpSXz+uXjmGbF58/B37d0r5sxx9S7Gd1ji8tIVt99+O9m938I3ZXHdlSaFNu8a6fX6f//918tju7xEqfjgA6FWi+nTxY4d5i8hLDP5fov8f1IqlRs2bPj444+tpyw+XGXJflL4ySefWN41SktLO3XqlK/GZjKJnTuFySTUalFUJCIjhfw5IawRTpw48eSTT8qnB3kafdRT9j5hvRyVnBouWLDgl19+8fW4zNRq0doqXnxRPP+8EFZhJSSI1avN/1JS3AhLIYSga0t5eXlhYaFarV6wYMGKFSt8PZwRampqtm3bFhsbq9FoLL/34g8iIujIEYqIoNmz6auvaMMGWreOvv2WQkNp5UrzNrW1tGcPHT3q0g79+nfer05ycnJycrKvRzE6rVZrWcXTD02eTJs3U3Y2qVTmz8TF0RNPmD8OCqI9e1zdlV//ajJ435o1FBJCNTWOtmlqosZGJ/u5Bp+xYCwCAujTTykh4YobvPMOdXcTEalU9OabV9zsGpxjwVU4eZKmTKHgYPPN06dpwgTq66PQUJowwfxJo5HOnaPoaAoJIZOJUlNp//4r7hDPWEBEZPP3uTExRETh4SM+qVSSUmn++OuvackSRztEWOC2igr68kvavdvRNpi8g3u2bqVXXqGVK2nfPkeb4RkL3JOYSLNmERGFhDjaDJN3YIFDIbBAWMACYQELhAUsEBawQFjAAmEBC4QFLBAWsEBYwAJhAQuEBSwQFrBAWMACYQELhAUsEBawQFjAAmEBC4QFLBAWsEBYwAJhAQuEBSwQFrBAWMACYQELhAUsEBawQFjAAmEBC4QFLBAWsEBYwAJhAQuEBSwQFrBAWMACYQELhAUsEBawQFjAAmEBC4QFLBAWsEBYwAJhAQuEBSwQFrBAWMACYQELhAUsEBawQFjAAmEBC4QFLBAWsEBYwAJhAQuEBSwQFrBAWMDi/81HHraTUJfDAAAAxnpUWHRyZGtpdFBLTCByZGtpdCAyMDIxLjAzLjUAAHice79v7T0GIOABYkYGCOCC4gZGDoYMIM3MyMjOkABSwMTmoAESYEHQYAXMjPgYYL1MTDCam4FZgZGTgYklg4mJNYGJg4GZLYOJmT2BhS2BlT2DiYOTQYSRjYmVnZmNRRzmJAauD2IqDuqH/A6AOBuYNR3Tr54Es69yXnKQtdgIZu/KrnQQ+10PF4exC+KXO8DUg9gwc0DqYXozNv+Bq3m2TtgRJi4GAIpMNJ4zYmaaAAAA2XpUWHRNT0wgcmRraXQgMjAyMS4wMy41AAB4nKWSwQ7CIAyG7zxFX0BSYC307DwZZ+LBd/Du+8cWF0biTJaNNBs///jWFkomDkLkwMZjvL7e0EYcnYOAFrAeIgLPiIh1f/TESXRySj4mZFtDry7CHf4h+jBKQKMMRmGfMKeOMm2mABslG4U8pRI6ynk7JfkiOX4r0lrzPsqSyxEKWU/X+7KL8nNGu/pypLtZKSxHKxKr42AuummoTxOxXvhZaFJUzVlwL6R9pmu5OfoqTVDvcO/I8p8bwGUa3QfBiI09vh57IAAAAIB6VFh0U01JTEVTIHJka2l0IDIwMjEuMDMuNQAAeJxljbENwCAMBFdJSSRjAQY7FiV9MoTXYPiAFESRynrd3/tuzaKZuec0i0d3MWBhyuAZKQhBVUwUEviCha4IVfBS1s159mXzlQlVVaCW6eeZx2WoNHxJm6fZ1z9fe8v//p39BX6tJS9dZTpeAAAAAElFTkSuQmCC\" alt=\"Mol\"/></td>\n",
       "    </tr>\n",
       "  </tbody>\n",
       "</table>\n",
       "</div>"
      ],
      "text/plain": [
       "          ID                                              ROMol\n",
       "98  87561955  <img data-content=\"rdkit/molecule\" src=\"data:i..."
      ]
     },
     "execution_count": 46,
     "metadata": {},
     "output_type": "execute_result"
    }
   ],
   "source": [
    "df.sample(1)"
   ]
  },
  {
   "cell_type": "code",
   "execution_count": 47,
   "id": "ae12a438",
   "metadata": {},
   "outputs": [],
   "source": [
    "df[\"TPSA\"] =df[\"ROMol\"].map(Descriptors.TPSA)\n",
    "df[\"MolLogP\"] =df[\"ROMol\"].map(Descriptors.MolLogP)\n",
    "df[\"qed\"] =df[\"ROMol\"].map(Descriptors.qed)"
   ]
  },
  {
   "cell_type": "code",
   "execution_count": 48,
   "id": "b41cd3d2",
   "metadata": {},
   "outputs": [
    {
     "data": {
      "text/html": [
       "<div>\n",
       "<style scoped>\n",
       "    .dataframe tbody tr th:only-of-type {\n",
       "        vertical-align: middle;\n",
       "    }\n",
       "\n",
       "    .dataframe tbody tr th {\n",
       "        vertical-align: top;\n",
       "    }\n",
       "\n",
       "    .dataframe thead th {\n",
       "        text-align: right;\n",
       "    }\n",
       "</style>\n",
       "<table border=\"1\" class=\"dataframe\">\n",
       "  <thead>\n",
       "    <tr style=\"text-align: right;\">\n",
       "      <th></th>\n",
       "      <th>ID</th>\n",
       "      <th>ROMol</th>\n",
       "      <th>TPSA</th>\n",
       "      <th>MolLogP</th>\n",
       "      <th>qed</th>\n",
       "    </tr>\n",
       "  </thead>\n",
       "  <tbody>\n",
       "    <tr>\n",
       "      <th>36</th>\n",
       "      <td>125308063</td>\n",
       "      <td><img data-content=\"rdkit/molecule\" src=\"data:image/png;base64,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\" alt=\"Mol\"/></td>\n",
       "      <td>50.94</td>\n",
       "      <td>6.7779</td>\n",
       "      <td>0.323097</td>\n",
       "    </tr>\n",
       "  </tbody>\n",
       "</table>\n",
       "</div>"
      ],
      "text/plain": [
       "           ID                                              ROMol   TPSA  \\\n",
       "36  125308063  <img data-content=\"rdkit/molecule\" src=\"data:i...  50.94   \n",
       "\n",
       "    MolLogP       qed  \n",
       "36   6.7779  0.323097  "
      ]
     },
     "execution_count": 48,
     "metadata": {},
     "output_type": "execute_result"
    }
   ],
   "source": [
    "df.sample(1)"
   ]
  },
  {
   "cell_type": "code",
   "execution_count": 49,
   "id": "e29b8acb",
   "metadata": {},
   "outputs": [
    {
     "data": {
      "text/plain": [
       "array([[<AxesSubplot:title={'center':'qed'}>]], dtype=object)"
      ]
     },
     "execution_count": 49,
     "metadata": {},
     "output_type": "execute_result"
    },
    {
     "data": {
      "image/png": "[encoded data removed]",
      "text/plain": [
       "<Figure size 432x288 with 1 Axes>"
      ]
     },
     "metadata": {
      "needs_background": "light"
     },
     "output_type": "display_data"
    }
   ],
   "source": [
    "df.hist('qed')"
   ]
  },
  {
   "cell_type": "code",
   "execution_count": 50,
   "id": "b8346378",
   "metadata": {},
   "outputs": [
    {
     "data": {
      "text/plain": [
       "<AxesSubplot:xlabel='MolLogP', ylabel='qed'>"
      ]
     },
     "execution_count": 50,
     "metadata": {},
     "output_type": "execute_result"
    },
    {
     "data": {
      "image/png": "[encoded data removed]",
      "text/plain": [
       "<Figure size 432x288 with 1 Axes>"
      ]
     },
     "metadata": {
      "needs_background": "light"
     },
     "output_type": "display_data"
    }
   ],
   "source": [
    "df.plot(kind='scatter', x='MolLogP', y='qed')"
   ]
  },
  {
   "cell_type": "code",
   "execution_count": 51,
   "id": "f09c2e54",
   "metadata": {},
   "outputs": [
    {
     "name": "stdout",
     "output_type": "stream",
     "text": [
      "(117, 2048)\n"
     ]
    }
   ],
   "source": [
    "import numpy as np\n",
    "\n",
    "fingerprints = []\n",
    "safe = []\n",
    "for mol_idx, mol in enumerate(df[\"ROMol\"]):\n",
    "    try:\n",
    "        fingerprint = [x for x in AllChem.GetMorganFingerprintAsBitVect(mol, 2, 2048)]\n",
    "        fingerprints.append(fingerprint)\n",
    "        safe.append(mol_idx)\n",
    "    \n",
    "    except:\n",
    "        print(\"Error\", mol_idx)\n",
    "        continue\n",
    "        \n",
    "fingerprints = np.array(fingerprints)\n",
    "print(fingerprints.shape)\n",
    "df_fp = pd.DataFrame(fingerprints)"
   ]
  },
  {
   "cell_type": "code",
   "execution_count": 52,
   "id": "583b62a8",
   "metadata": {},
   "outputs": [
    {
     "data": {
      "text/html": [
       "<div>\n",
       "<style scoped>\n",
       "    .dataframe tbody tr th:only-of-type {\n",
       "        vertical-align: middle;\n",
       "    }\n",
       "\n",
       "    .dataframe tbody tr th {\n",
       "        vertical-align: top;\n",
       "    }\n",
       "\n",
       "    .dataframe thead th {\n",
       "        text-align: right;\n",
       "    }\n",
       "</style>\n",
       "<table border=\"1\" class=\"dataframe\">\n",
       "  <thead>\n",
       "    <tr style=\"text-align: right;\">\n",
       "      <th></th>\n",
       "      <th>0</th>\n",
       "      <th>1</th>\n",
       "      <th>2</th>\n",
       "      <th>3</th>\n",
       "      <th>4</th>\n",
       "      <th>5</th>\n",
       "      <th>6</th>\n",
       "      <th>7</th>\n",
       "      <th>8</th>\n",
       "      <th>9</th>\n",
       "      <th>...</th>\n",
       "      <th>2038</th>\n",
       "      <th>2039</th>\n",
       "      <th>2040</th>\n",
       "      <th>2041</th>\n",
       "      <th>2042</th>\n",
       "      <th>2043</th>\n",
       "      <th>2044</th>\n",
       "      <th>2045</th>\n",
       "      <th>2046</th>\n",
       "      <th>2047</th>\n",
       "    </tr>\n",
       "  </thead>\n",
       "  <tbody>\n",
       "    <tr>\n",
       "      <th>0</th>\n",
       "      <td>0</td>\n",
       "      <td>1</td>\n",
       "      <td>0</td>\n",
       "      <td>0</td>\n",
       "      <td>0</td>\n",
       "      <td>0</td>\n",
       "      <td>0</td>\n",
       "      <td>0</td>\n",
       "      <td>0</td>\n",
       "      <td>0</td>\n",
       "      <td>...</td>\n",
       "      <td>0</td>\n",
       "      <td>0</td>\n",
       "      <td>0</td>\n",
       "      <td>0</td>\n",
       "      <td>0</td>\n",
       "      <td>0</td>\n",
       "      <td>0</td>\n",
       "      <td>0</td>\n",
       "      <td>0</td>\n",
       "      <td>0</td>\n",
       "    </tr>\n",
       "    <tr>\n",
       "      <th>1</th>\n",
       "      <td>0</td>\n",
       "      <td>0</td>\n",
       "      <td>0</td>\n",
       "      <td>0</td>\n",
       "      <td>0</td>\n",
       "      <td>0</td>\n",
       "      <td>0</td>\n",
       "      <td>0</td>\n",
       "      <td>0</td>\n",
       "      <td>0</td>\n",
       "      <td>...</td>\n",
       "      <td>0</td>\n",
       "      <td>0</td>\n",
       "      <td>0</td>\n",
       "      <td>0</td>\n",
       "      <td>0</td>\n",
       "      <td>0</td>\n",
       "      <td>0</td>\n",
       "      <td>0</td>\n",
       "      <td>0</td>\n",
       "      <td>0</td>\n",
       "    </tr>\n",
       "    <tr>\n",
       "      <th>2</th>\n",
       "      <td>0</td>\n",
       "      <td>0</td>\n",
       "      <td>0</td>\n",
       "      <td>0</td>\n",
       "      <td>0</td>\n",
       "      <td>0</td>\n",
       "      <td>0</td>\n",
       "      <td>0</td>\n",
       "      <td>0</td>\n",
       "      <td>0</td>\n",
       "      <td>...</td>\n",
       "      <td>0</td>\n",
       "      <td>0</td>\n",
       "      <td>0</td>\n",
       "      <td>0</td>\n",
       "      <td>0</td>\n",
       "      <td>0</td>\n",
       "      <td>0</td>\n",
       "      <td>0</td>\n",
       "      <td>0</td>\n",
       "      <td>0</td>\n",
       "    </tr>\n",
       "    <tr>\n",
       "      <th>3</th>\n",
       "      <td>0</td>\n",
       "      <td>0</td>\n",
       "      <td>0</td>\n",
       "      <td>0</td>\n",
       "      <td>0</td>\n",
       "      <td>0</td>\n",
       "      <td>0</td>\n",
       "      <td>0</td>\n",
       "      <td>0</td>\n",
       "      <td>0</td>\n",
       "      <td>...</td>\n",
       "      <td>0</td>\n",
       "      <td>0</td>\n",
       "      <td>0</td>\n",
       "      <td>0</td>\n",
       "      <td>0</td>\n",
       "      <td>0</td>\n",
       "      <td>0</td>\n",
       "      <td>0</td>\n",
       "      <td>0</td>\n",
       "      <td>0</td>\n",
       "    </tr>\n",
       "    <tr>\n",
       "      <th>4</th>\n",
       "      <td>0</td>\n",
       "      <td>1</td>\n",
       "      <td>0</td>\n",
       "      <td>0</td>\n",
       "      <td>0</td>\n",
       "      <td>0</td>\n",
       "      <td>0</td>\n",
       "      <td>0</td>\n",
       "      <td>0</td>\n",
       "      <td>0</td>\n",
       "      <td>...</td>\n",
       "      <td>0</td>\n",
       "      <td>0</td>\n",
       "      <td>0</td>\n",
       "      <td>0</td>\n",
       "      <td>0</td>\n",
       "      <td>0</td>\n",
       "      <td>0</td>\n",
       "      <td>0</td>\n",
       "      <td>0</td>\n",
       "      <td>0</td>\n",
       "    </tr>\n",
       "    <tr>\n",
       "      <th>...</th>\n",
       "      <td>...</td>\n",
       "      <td>...</td>\n",
       "      <td>...</td>\n",
       "      <td>...</td>\n",
       "      <td>...</td>\n",
       "      <td>...</td>\n",
       "      <td>...</td>\n",
       "      <td>...</td>\n",
       "      <td>...</td>\n",
       "      <td>...</td>\n",
       "      <td>...</td>\n",
       "      <td>...</td>\n",
       "      <td>...</td>\n",
       "      <td>...</td>\n",
       "      <td>...</td>\n",
       "      <td>...</td>\n",
       "      <td>...</td>\n",
       "      <td>...</td>\n",
       "      <td>...</td>\n",
       "      <td>...</td>\n",
       "      <td>...</td>\n",
       "    </tr>\n",
       "    <tr>\n",
       "      <th>112</th>\n",
       "      <td>0</td>\n",
       "      <td>0</td>\n",
       "      <td>0</td>\n",
       "      <td>0</td>\n",
       "      <td>0</td>\n",
       "      <td>0</td>\n",
       "      <td>0</td>\n",
       "      <td>0</td>\n",
       "      <td>0</td>\n",
       "      <td>0</td>\n",
       "      <td>...</td>\n",
       "      <td>0</td>\n",
       "      <td>0</td>\n",
       "      <td>0</td>\n",
       "      <td>0</td>\n",
       "      <td>0</td>\n",
       "      <td>0</td>\n",
       "      <td>0</td>\n",
       "      <td>1</td>\n",
       "      <td>0</td>\n",
       "      <td>0</td>\n",
       "    </tr>\n",
       "    <tr>\n",
       "      <th>113</th>\n",
       "      <td>0</td>\n",
       "      <td>0</td>\n",
       "      <td>0</td>\n",
       "      <td>0</td>\n",
       "      <td>0</td>\n",
       "      <td>0</td>\n",
       "      <td>0</td>\n",
       "      <td>0</td>\n",
       "      <td>0</td>\n",
       "      <td>0</td>\n",
       "      <td>...</td>\n",
       "      <td>0</td>\n",
       "      <td>0</td>\n",
       "      <td>0</td>\n",
       "      <td>0</td>\n",
       "      <td>0</td>\n",
       "      <td>0</td>\n",
       "      <td>0</td>\n",
       "      <td>0</td>\n",
       "      <td>0</td>\n",
       "      <td>0</td>\n",
       "    </tr>\n",
       "    <tr>\n",
       "      <th>114</th>\n",
       "      <td>0</td>\n",
       "      <td>0</td>\n",
       "      <td>0</td>\n",
       "      <td>0</td>\n",
       "      <td>0</td>\n",
       "      <td>0</td>\n",
       "      <td>0</td>\n",
       "      <td>0</td>\n",
       "      <td>0</td>\n",
       "      <td>0</td>\n",
       "      <td>...</td>\n",
       "      <td>0</td>\n",
       "      <td>0</td>\n",
       "      <td>0</td>\n",
       "      <td>0</td>\n",
       "      <td>0</td>\n",
       "      <td>0</td>\n",
       "      <td>0</td>\n",
       "      <td>1</td>\n",
       "      <td>0</td>\n",
       "      <td>0</td>\n",
       "    </tr>\n",
       "    <tr>\n",
       "      <th>115</th>\n",
       "      <td>0</td>\n",
       "      <td>0</td>\n",
       "      <td>0</td>\n",
       "      <td>0</td>\n",
       "      <td>0</td>\n",
       "      <td>0</td>\n",
       "      <td>0</td>\n",
       "      <td>0</td>\n",
       "      <td>0</td>\n",
       "      <td>0</td>\n",
       "      <td>...</td>\n",
       "      <td>0</td>\n",
       "      <td>0</td>\n",
       "      <td>0</td>\n",
       "      <td>0</td>\n",
       "      <td>0</td>\n",
       "      <td>0</td>\n",
       "      <td>0</td>\n",
       "      <td>0</td>\n",
       "      <td>0</td>\n",
       "      <td>0</td>\n",
       "    </tr>\n",
       "    <tr>\n",
       "      <th>116</th>\n",
       "      <td>0</td>\n",
       "      <td>0</td>\n",
       "      <td>0</td>\n",
       "      <td>0</td>\n",
       "      <td>0</td>\n",
       "      <td>0</td>\n",
       "      <td>0</td>\n",
       "      <td>0</td>\n",
       "      <td>0</td>\n",
       "      <td>0</td>\n",
       "      <td>...</td>\n",
       "      <td>0</td>\n",
       "      <td>0</td>\n",
       "      <td>0</td>\n",
       "      <td>0</td>\n",
       "      <td>0</td>\n",
       "      <td>0</td>\n",
       "      <td>0</td>\n",
       "      <td>0</td>\n",
       "      <td>0</td>\n",
       "      <td>0</td>\n",
       "    </tr>\n",
       "  </tbody>\n",
       "</table>\n",
       "<p>117 rows × 2048 columns</p>\n",
       "</div>"
      ],
      "text/plain": [
       "     0     1     2     3     4     5     6     7     8     9     ...  2038  \\\n",
       "0       0     1     0     0     0     0     0     0     0     0  ...     0   \n",
       "1       0     0     0     0     0     0     0     0     0     0  ...     0   \n",
       "2       0     0     0     0     0     0     0     0     0     0  ...     0   \n",
       "3       0     0     0     0     0     0     0     0     0     0  ...     0   \n",
       "4       0     1     0     0     0     0     0     0     0     0  ...     0   \n",
       "..    ...   ...   ...   ...   ...   ...   ...   ...   ...   ...  ...   ...   \n",
       "112     0     0     0     0     0     0     0     0     0     0  ...     0   \n",
       "113     0     0     0     0     0     0     0     0     0     0  ...     0   \n",
       "114     0     0     0     0     0     0     0     0     0     0  ...     0   \n",
       "115     0     0     0     0     0     0     0     0     0     0  ...     0   \n",
       "116     0     0     0     0     0     0     0     0     0     0  ...     0   \n",
       "\n",
       "     2039  2040  2041  2042  2043  2044  2045  2046  2047  \n",
       "0       0     0     0     0     0     0     0     0     0  \n",
       "1       0     0     0     0     0     0     0     0     0  \n",
       "2       0     0     0     0     0     0     0     0     0  \n",
       "3       0     0     0     0     0     0     0     0     0  \n",
       "4       0     0     0     0     0     0     0     0     0  \n",
       "..    ...   ...   ...   ...   ...   ...   ...   ...   ...  \n",
       "112     0     0     0     0     0     0     1     0     0  \n",
       "113     0     0     0     0     0     0     0     0     0  \n",
       "114     0     0     0     0     0     0     1     0     0  \n",
       "115     0     0     0     0     0     0     0     0     0  \n",
       "116     0     0     0     0     0     0     0     0     0  \n",
       "\n",
       "[117 rows x 2048 columns]"
      ]
     },
     "execution_count": 52,
     "metadata": {},
     "output_type": "execute_result"
    }
   ],
   "source": [
    "df_fp"
   ]
  },
  {
   "cell_type": "code",
   "execution_count": 53,
   "id": "3811591e",
   "metadata": {},
   "outputs": [
    {
     "data": {
      "text/html": [
       "<div>\n",
       "<style scoped>\n",
       "    .dataframe tbody tr th:only-of-type {\n",
       "        vertical-align: middle;\n",
       "    }\n",
       "\n",
       "    .dataframe tbody tr th {\n",
       "        vertical-align: top;\n",
       "    }\n",
       "\n",
       "    .dataframe thead th {\n",
       "        text-align: right;\n",
       "    }\n",
       "</style>\n",
       "<table border=\"1\" class=\"dataframe\">\n",
       "  <thead>\n",
       "    <tr style=\"text-align: right;\">\n",
       "      <th></th>\n",
       "      <th>0</th>\n",
       "      <th>1</th>\n",
       "      <th>2</th>\n",
       "      <th>3</th>\n",
       "      <th>4</th>\n",
       "      <th>5</th>\n",
       "      <th>6</th>\n",
       "      <th>7</th>\n",
       "      <th>8</th>\n",
       "      <th>9</th>\n",
       "      <th>...</th>\n",
       "      <th>2039</th>\n",
       "      <th>2040</th>\n",
       "      <th>2041</th>\n",
       "      <th>2042</th>\n",
       "      <th>2043</th>\n",
       "      <th>2044</th>\n",
       "      <th>2045</th>\n",
       "      <th>2046</th>\n",
       "      <th>2047</th>\n",
       "      <th>ID</th>\n",
       "    </tr>\n",
       "  </thead>\n",
       "  <tbody>\n",
       "    <tr>\n",
       "      <th>0</th>\n",
       "      <td>0</td>\n",
       "      <td>1</td>\n",
       "      <td>0</td>\n",
       "      <td>0</td>\n",
       "      <td>0</td>\n",
       "      <td>0</td>\n",
       "      <td>0</td>\n",
       "      <td>0</td>\n",
       "      <td>0</td>\n",
       "      <td>0</td>\n",
       "      <td>...</td>\n",
       "      <td>0</td>\n",
       "      <td>0</td>\n",
       "      <td>0</td>\n",
       "      <td>0</td>\n",
       "      <td>0</td>\n",
       "      <td>0</td>\n",
       "      <td>0</td>\n",
       "      <td>0</td>\n",
       "      <td>0</td>\n",
       "      <td>354335558</td>\n",
       "    </tr>\n",
       "    <tr>\n",
       "      <th>1</th>\n",
       "      <td>0</td>\n",
       "      <td>0</td>\n",
       "      <td>0</td>\n",
       "      <td>0</td>\n",
       "      <td>0</td>\n",
       "      <td>0</td>\n",
       "      <td>0</td>\n",
       "      <td>0</td>\n",
       "      <td>0</td>\n",
       "      <td>0</td>\n",
       "      <td>...</td>\n",
       "      <td>0</td>\n",
       "      <td>0</td>\n",
       "      <td>0</td>\n",
       "      <td>0</td>\n",
       "      <td>0</td>\n",
       "      <td>0</td>\n",
       "      <td>0</td>\n",
       "      <td>0</td>\n",
       "      <td>0</td>\n",
       "      <td>354335473</td>\n",
       "    </tr>\n",
       "    <tr>\n",
       "      <th>2</th>\n",
       "      <td>0</td>\n",
       "      <td>0</td>\n",
       "      <td>0</td>\n",
       "      <td>0</td>\n",
       "      <td>0</td>\n",
       "      <td>0</td>\n",
       "      <td>0</td>\n",
       "      <td>0</td>\n",
       "      <td>0</td>\n",
       "      <td>0</td>\n",
       "      <td>...</td>\n",
       "      <td>0</td>\n",
       "      <td>0</td>\n",
       "      <td>0</td>\n",
       "      <td>0</td>\n",
       "      <td>0</td>\n",
       "      <td>0</td>\n",
       "      <td>0</td>\n",
       "      <td>0</td>\n",
       "      <td>0</td>\n",
       "      <td>354335166</td>\n",
       "    </tr>\n",
       "    <tr>\n",
       "      <th>3</th>\n",
       "      <td>0</td>\n",
       "      <td>0</td>\n",
       "      <td>0</td>\n",
       "      <td>0</td>\n",
       "      <td>0</td>\n",
       "      <td>0</td>\n",
       "      <td>0</td>\n",
       "      <td>0</td>\n",
       "      <td>0</td>\n",
       "      <td>0</td>\n",
       "      <td>...</td>\n",
       "      <td>0</td>\n",
       "      <td>0</td>\n",
       "      <td>0</td>\n",
       "      <td>0</td>\n",
       "      <td>0</td>\n",
       "      <td>0</td>\n",
       "      <td>0</td>\n",
       "      <td>0</td>\n",
       "      <td>0</td>\n",
       "      <td>354334589</td>\n",
       "    </tr>\n",
       "    <tr>\n",
       "      <th>4</th>\n",
       "      <td>0</td>\n",
       "      <td>1</td>\n",
       "      <td>0</td>\n",
       "      <td>0</td>\n",
       "      <td>0</td>\n",
       "      <td>0</td>\n",
       "      <td>0</td>\n",
       "      <td>0</td>\n",
       "      <td>0</td>\n",
       "      <td>0</td>\n",
       "      <td>...</td>\n",
       "      <td>0</td>\n",
       "      <td>0</td>\n",
       "      <td>0</td>\n",
       "      <td>0</td>\n",
       "      <td>0</td>\n",
       "      <td>0</td>\n",
       "      <td>0</td>\n",
       "      <td>0</td>\n",
       "      <td>0</td>\n",
       "      <td>354334487</td>\n",
       "    </tr>\n",
       "    <tr>\n",
       "      <th>...</th>\n",
       "      <td>...</td>\n",
       "      <td>...</td>\n",
       "      <td>...</td>\n",
       "      <td>...</td>\n",
       "      <td>...</td>\n",
       "      <td>...</td>\n",
       "      <td>...</td>\n",
       "      <td>...</td>\n",
       "      <td>...</td>\n",
       "      <td>...</td>\n",
       "      <td>...</td>\n",
       "      <td>...</td>\n",
       "      <td>...</td>\n",
       "      <td>...</td>\n",
       "      <td>...</td>\n",
       "      <td>...</td>\n",
       "      <td>...</td>\n",
       "      <td>...</td>\n",
       "      <td>...</td>\n",
       "      <td>...</td>\n",
       "      <td>...</td>\n",
       "    </tr>\n",
       "    <tr>\n",
       "      <th>112</th>\n",
       "      <td>0</td>\n",
       "      <td>0</td>\n",
       "      <td>0</td>\n",
       "      <td>0</td>\n",
       "      <td>0</td>\n",
       "      <td>0</td>\n",
       "      <td>0</td>\n",
       "      <td>0</td>\n",
       "      <td>0</td>\n",
       "      <td>0</td>\n",
       "      <td>...</td>\n",
       "      <td>0</td>\n",
       "      <td>0</td>\n",
       "      <td>0</td>\n",
       "      <td>0</td>\n",
       "      <td>0</td>\n",
       "      <td>0</td>\n",
       "      <td>1</td>\n",
       "      <td>0</td>\n",
       "      <td>0</td>\n",
       "      <td>87558359</td>\n",
       "    </tr>\n",
       "    <tr>\n",
       "      <th>113</th>\n",
       "      <td>0</td>\n",
       "      <td>0</td>\n",
       "      <td>0</td>\n",
       "      <td>0</td>\n",
       "      <td>0</td>\n",
       "      <td>0</td>\n",
       "      <td>0</td>\n",
       "      <td>0</td>\n",
       "      <td>0</td>\n",
       "      <td>0</td>\n",
       "      <td>...</td>\n",
       "      <td>0</td>\n",
       "      <td>0</td>\n",
       "      <td>0</td>\n",
       "      <td>0</td>\n",
       "      <td>0</td>\n",
       "      <td>0</td>\n",
       "      <td>0</td>\n",
       "      <td>0</td>\n",
       "      <td>0</td>\n",
       "      <td>87558322</td>\n",
       "    </tr>\n",
       "    <tr>\n",
       "      <th>114</th>\n",
       "      <td>0</td>\n",
       "      <td>0</td>\n",
       "      <td>0</td>\n",
       "      <td>0</td>\n",
       "      <td>0</td>\n",
       "      <td>0</td>\n",
       "      <td>0</td>\n",
       "      <td>0</td>\n",
       "      <td>0</td>\n",
       "      <td>0</td>\n",
       "      <td>...</td>\n",
       "      <td>0</td>\n",
       "      <td>0</td>\n",
       "      <td>0</td>\n",
       "      <td>0</td>\n",
       "      <td>0</td>\n",
       "      <td>0</td>\n",
       "      <td>1</td>\n",
       "      <td>0</td>\n",
       "      <td>0</td>\n",
       "      <td>87558311</td>\n",
       "    </tr>\n",
       "    <tr>\n",
       "      <th>115</th>\n",
       "      <td>0</td>\n",
       "      <td>0</td>\n",
       "      <td>0</td>\n",
       "      <td>0</td>\n",
       "      <td>0</td>\n",
       "      <td>0</td>\n",
       "      <td>0</td>\n",
       "      <td>0</td>\n",
       "      <td>0</td>\n",
       "      <td>0</td>\n",
       "      <td>...</td>\n",
       "      <td>0</td>\n",
       "      <td>0</td>\n",
       "      <td>0</td>\n",
       "      <td>0</td>\n",
       "      <td>0</td>\n",
       "      <td>0</td>\n",
       "      <td>0</td>\n",
       "      <td>0</td>\n",
       "      <td>0</td>\n",
       "      <td>87558282</td>\n",
       "    </tr>\n",
       "    <tr>\n",
       "      <th>116</th>\n",
       "      <td>0</td>\n",
       "      <td>0</td>\n",
       "      <td>0</td>\n",
       "      <td>0</td>\n",
       "      <td>0</td>\n",
       "      <td>0</td>\n",
       "      <td>0</td>\n",
       "      <td>0</td>\n",
       "      <td>0</td>\n",
       "      <td>0</td>\n",
       "      <td>...</td>\n",
       "      <td>0</td>\n",
       "      <td>0</td>\n",
       "      <td>0</td>\n",
       "      <td>0</td>\n",
       "      <td>0</td>\n",
       "      <td>0</td>\n",
       "      <td>0</td>\n",
       "      <td>0</td>\n",
       "      <td>0</td>\n",
       "      <td>87558032</td>\n",
       "    </tr>\n",
       "  </tbody>\n",
       "</table>\n",
       "<p>117 rows × 2049 columns</p>\n",
       "</div>"
      ],
      "text/plain": [
       "     0  1  2  3  4  5  6  7  8  9  ...  2039  2040  2041  2042  2043  2044  \\\n",
       "0    0  1  0  0  0  0  0  0  0  0  ...     0     0     0     0     0     0   \n",
       "1    0  0  0  0  0  0  0  0  0  0  ...     0     0     0     0     0     0   \n",
       "2    0  0  0  0  0  0  0  0  0  0  ...     0     0     0     0     0     0   \n",
       "3    0  0  0  0  0  0  0  0  0  0  ...     0     0     0     0     0     0   \n",
       "4    0  1  0  0  0  0  0  0  0  0  ...     0     0     0     0     0     0   \n",
       "..  .. .. .. .. .. .. .. .. .. ..  ...   ...   ...   ...   ...   ...   ...   \n",
       "112  0  0  0  0  0  0  0  0  0  0  ...     0     0     0     0     0     0   \n",
       "113  0  0  0  0  0  0  0  0  0  0  ...     0     0     0     0     0     0   \n",
       "114  0  0  0  0  0  0  0  0  0  0  ...     0     0     0     0     0     0   \n",
       "115  0  0  0  0  0  0  0  0  0  0  ...     0     0     0     0     0     0   \n",
       "116  0  0  0  0  0  0  0  0  0  0  ...     0     0     0     0     0     0   \n",
       "\n",
       "     2045  2046  2047         ID  \n",
       "0       0     0     0  354335558  \n",
       "1       0     0     0  354335473  \n",
       "2       0     0     0  354335166  \n",
       "3       0     0     0  354334589  \n",
       "4       0     0     0  354334487  \n",
       "..    ...   ...   ...        ...  \n",
       "112     1     0     0   87558359  \n",
       "113     0     0     0   87558322  \n",
       "114     1     0     0   87558311  \n",
       "115     0     0     0   87558282  \n",
       "116     0     0     0   87558032  \n",
       "\n",
       "[117 rows x 2049 columns]"
      ]
     },
     "execution_count": 53,
     "metadata": {},
     "output_type": "execute_result"
    }
   ],
   "source": [
    "df_fp['ID'] = df['ID']\n",
    "df_fp"
   ]
  },
  {
   "cell_type": "markdown",
   "id": "fa4c48b6",
   "metadata": {},
   "source": [
    "# No3"
   ]
  },
  {
   "cell_type": "code",
   "execution_count": 54,
   "id": "32be1517",
   "metadata": {},
   "outputs": [],
   "source": [
    "mol = quercetine_mol "
   ]
  },
  {
   "cell_type": "code",
   "execution_count": 55,
   "id": "c83ef826",
   "metadata": {},
   "outputs": [
    {
     "data": {
      "image/png": "[encoded data removed]",
      "text/plain": [
       "<rdkit.Chem.rdchem.Mol at 0x7fa181ae7ac0>"
      ]
     },
     "execution_count": 55,
     "metadata": {},
     "output_type": "execute_result"
    }
   ],
   "source": [
    "mol"
   ]
  },
  {
   "cell_type": "code",
   "execution_count": 56,
   "id": "e8410835",
   "metadata": {},
   "outputs": [],
   "source": [
    "ringinfo = mol.GetRingInfo()"
   ]
  },
  {
   "cell_type": "code",
   "execution_count": 57,
   "id": "8d0a3d5b",
   "metadata": {},
   "outputs": [
    {
     "data": {
      "text/plain": [
       "3"
      ]
     },
     "execution_count": 57,
     "metadata": {},
     "output_type": "execute_result"
    }
   ],
   "source": [
    "ringinfo.NumRings()"
   ]
  },
  {
   "cell_type": "code",
   "execution_count": 58,
   "id": "e7333527",
   "metadata": {},
   "outputs": [],
   "source": [
    "bonds_info = mol.GetBonds()"
   ]
  },
  {
   "cell_type": "code",
   "execution_count": 59,
   "id": "671c8da8",
   "metadata": {},
   "outputs": [
    {
     "data": {
      "text/plain": [
       "24"
      ]
     },
     "execution_count": 59,
     "metadata": {},
     "output_type": "execute_result"
    }
   ],
   "source": [
    "len(bonds_info)"
   ]
  },
  {
   "cell_type": "code",
   "execution_count": 60,
   "id": "08d9d4fd",
   "metadata": {},
   "outputs": [
    {
     "name": "stdout",
     "output_type": "stream",
     "text": [
      "--------------------\n",
      "C\n",
      "C\n",
      "AROMATIC\n",
      "--------------------\n",
      "C\n",
      "C\n",
      "AROMATIC\n",
      "--------------------\n",
      "C\n",
      "C\n",
      "AROMATIC\n",
      "--------------------\n",
      "C\n",
      "C\n",
      "AROMATIC\n",
      "--------------------\n",
      "C\n",
      "C\n",
      "AROMATIC\n",
      "--------------------\n",
      "C\n",
      "C\n",
      "SINGLE\n",
      "--------------------\n",
      "C\n",
      "C\n",
      "AROMATIC\n",
      "--------------------\n",
      "C\n",
      "C\n",
      "AROMATIC\n",
      "--------------------\n",
      "C\n",
      "O\n",
      "DOUBLE\n",
      "--------------------\n",
      "C\n",
      "C\n",
      "AROMATIC\n",
      "--------------------\n",
      "C\n",
      "C\n",
      "AROMATIC\n",
      "--------------------\n",
      "C\n",
      "C\n",
      "AROMATIC\n",
      "--------------------\n",
      "C\n",
      "C\n",
      "AROMATIC\n",
      "--------------------\n",
      "C\n",
      "C\n",
      "AROMATIC\n",
      "--------------------\n",
      "C\n",
      "C\n",
      "AROMATIC\n",
      "--------------------\n",
      "C\n",
      "O\n",
      "AROMATIC\n",
      "--------------------\n",
      "C\n",
      "O\n",
      "SINGLE\n",
      "--------------------\n",
      "C\n",
      "O\n",
      "SINGLE\n",
      "--------------------\n",
      "C\n",
      "O\n",
      "SINGLE\n",
      "--------------------\n",
      "C\n",
      "O\n",
      "SINGLE\n",
      "--------------------\n",
      "C\n",
      "O\n",
      "SINGLE\n",
      "--------------------\n",
      "C\n",
      "C\n",
      "AROMATIC\n",
      "--------------------\n",
      "O\n",
      "C\n",
      "AROMATIC\n",
      "--------------------\n",
      "C\n",
      "C\n",
      "AROMATIC\n"
     ]
    }
   ],
   "source": [
    "for bond in bonds_info:\n",
    "    print(\"--\"*10)\n",
    "    begin_atom = bond.GetBeginAtom()\n",
    "    end_atom = bond.GetEndAtom()\n",
    "    print(begin_atom.GetSymbol())\n",
    "    print(end_atom.GetSymbol())\n",
    "    print(bond.GetBondType())"
   ]
  },
  {
   "cell_type": "code",
   "execution_count": 61,
   "id": "fb54b721",
   "metadata": {},
   "outputs": [
    {
     "data": {
      "text/plain": [
       "'O=c1c(O)c(-c2ccc(O)c(O)c2)oc2cc(O)cc(O)c12'"
      ]
     },
     "execution_count": 61,
     "metadata": {},
     "output_type": "execute_result"
    }
   ],
   "source": [
    "Chem.MolToSmiles(mol)"
   ]
  },
  {
   "cell_type": "code",
   "execution_count": 62,
   "id": "50da4d12",
   "metadata": {},
   "outputs": [],
   "source": [
    "mol = Chem.MolFromSmiles(\"O=c1c(O)c(-c2ccc(O)c([O])c2)oc2cc(O)cc(O)c12\")"
   ]
  },
  {
   "cell_type": "code",
   "execution_count": 63,
   "id": "70cea0f7",
   "metadata": {},
   "outputs": [
    {
     "data": {
      "image/png": "[encoded data removed]",
      "text/plain": [
       "<rdkit.Chem.rdchem.Mol at 0x7fa1713247c0>"
      ]
     },
     "execution_count": 63,
     "metadata": {},
     "output_type": "execute_result"
    }
   ],
   "source": [
    "mol"
   ]
  },
  {
   "cell_type": "code",
   "execution_count": 64,
   "id": "987797cd",
   "metadata": {},
   "outputs": [],
   "source": [
    "mol = Chem.AddHs(mol)"
   ]
  },
  {
   "cell_type": "code",
   "execution_count": 65,
   "id": "ba44f0fd",
   "metadata": {},
   "outputs": [
    {
     "data": {
      "text/plain": [
       "31"
      ]
     },
     "execution_count": 65,
     "metadata": {},
     "output_type": "execute_result"
    }
   ],
   "source": [
    "atoms_info = mol.GetAtoms()\n",
    "len(atoms_info)"
   ]
  },
  {
   "cell_type": "code",
   "execution_count": 66,
   "id": "7852ae02",
   "metadata": {},
   "outputs": [
    {
     "name": "stdout",
     "output_type": "stream",
     "text": [
      "--------------------\n",
      "0:O\n",
      "radical:0\n",
      "charge:0\n",
      "--------------------\n",
      "1:C\n",
      "radical:0\n",
      "charge:0\n",
      "--------------------\n",
      "2:C\n",
      "radical:0\n",
      "charge:0\n",
      "--------------------\n",
      "3:O\n",
      "radical:0\n",
      "charge:0\n",
      "--------------------\n",
      "4:C\n",
      "radical:0\n",
      "charge:0\n",
      "--------------------\n",
      "5:C\n",
      "radical:0\n",
      "charge:0\n",
      "--------------------\n",
      "6:C\n",
      "radical:0\n",
      "charge:0\n",
      "--------------------\n",
      "7:C\n",
      "radical:0\n",
      "charge:0\n",
      "--------------------\n",
      "8:C\n",
      "radical:0\n",
      "charge:0\n",
      "--------------------\n",
      "9:O\n",
      "radical:0\n",
      "charge:0\n",
      "--------------------\n",
      "10:C\n",
      "radical:0\n",
      "charge:0\n",
      "--------------------\n",
      "11:O\n",
      "radical:1\n",
      "charge:0\n",
      "--------------------\n",
      "12:C\n",
      "radical:0\n",
      "charge:0\n",
      "--------------------\n",
      "13:O\n",
      "radical:0\n",
      "charge:0\n",
      "--------------------\n",
      "14:C\n",
      "radical:0\n",
      "charge:0\n",
      "--------------------\n",
      "15:C\n",
      "radical:0\n",
      "charge:0\n",
      "--------------------\n",
      "16:C\n",
      "radical:0\n",
      "charge:0\n",
      "--------------------\n",
      "17:O\n",
      "radical:0\n",
      "charge:0\n",
      "--------------------\n",
      "18:C\n",
      "radical:0\n",
      "charge:0\n",
      "--------------------\n",
      "19:C\n",
      "radical:0\n",
      "charge:0\n",
      "--------------------\n",
      "20:O\n",
      "radical:0\n",
      "charge:0\n",
      "--------------------\n",
      "21:C\n",
      "radical:0\n",
      "charge:0\n",
      "--------------------\n",
      "22:H\n",
      "radical:0\n",
      "charge:0\n",
      "--------------------\n",
      "23:H\n",
      "radical:0\n",
      "charge:0\n",
      "--------------------\n",
      "24:H\n",
      "radical:0\n",
      "charge:0\n",
      "--------------------\n",
      "25:H\n",
      "radical:0\n",
      "charge:0\n",
      "--------------------\n",
      "26:H\n",
      "radical:0\n",
      "charge:0\n",
      "--------------------\n",
      "27:H\n",
      "radical:0\n",
      "charge:0\n",
      "--------------------\n",
      "28:H\n",
      "radical:0\n",
      "charge:0\n",
      "--------------------\n",
      "29:H\n",
      "radical:0\n",
      "charge:0\n",
      "--------------------\n",
      "30:H\n",
      "radical:0\n",
      "charge:0\n"
     ]
    }
   ],
   "source": [
    "for atom in atoms_info:\n",
    "    print(\"--\" * 10)\n",
    "    print(atom.GetIdx(), end=(\":\"))\n",
    "    print(atom.GetSymbol())\n",
    "    print(\"radical:\" + str(atom.GetNumRadicalElectrons()))\n",
    "    print(\"charge:\" + str(atom.GetFormalCharge()))"
   ]
  },
  {
   "cell_type": "code",
   "execution_count": 67,
   "id": "c2553cfd",
   "metadata": {},
   "outputs": [
    {
     "name": "stdout",
     "output_type": "stream",
     "text": [
      "11:O\n"
     ]
    }
   ],
   "source": [
    "for atom in atoms_info:\n",
    "    if atom.GetNumRadicalElectrons() >= 1:\n",
    "        print(atom.GetIdx(), end=(\":\"))\n",
    "        print(atom.GetSymbol())"
   ]
  },
  {
   "cell_type": "markdown",
   "id": "eb522831",
   "metadata": {},
   "source": [
    "# No4"
   ]
  },
  {
   "cell_type": "code",
   "execution_count": 68,
   "id": "f17cdfef",
   "metadata": {},
   "outputs": [
    {
     "name": "stderr",
     "output_type": "stream",
     "text": [
      "/opt/anaconda3/envs/lecture-beginner/lib/python3.9/site-packages/rdkit/Chem/Draw/IPythonConsole.py:190: UserWarning: Truncating the list of molecules to be displayed to 3. Change the maxMols value to display more.\n",
      "  warnings.warn(\n"
     ]
    },
    {
     "data": {
      "image/png": "[encoded data removed]",
      "text/plain": [
       "<IPython.core.display.Image object>"
      ]
     },
     "execution_count": 68,
     "metadata": {},
     "output_type": "execute_result"
    }
   ],
   "source": [
    "Draw.MolsToGridImage(mols, maxMols=3)"
   ]
  },
  {
   "cell_type": "code",
   "execution_count": 69,
   "id": "d5bedd10",
   "metadata": {},
   "outputs": [],
   "source": [
    "from rdkit.Chem import MolStandardize\n",
    "\n",
    "lfc = MolStandardize.fragment.LargestFragmentChooser()"
   ]
  },
  {
   "cell_type": "code",
   "execution_count": 70,
   "id": "83d774ce",
   "metadata": {},
   "outputs": [],
   "source": [
    "mols2 = [lfc.choose(mol) for mol in mols]"
   ]
  },
  {
   "cell_type": "code",
   "execution_count": 71,
   "id": "5ffff3cf",
   "metadata": {},
   "outputs": [
    {
     "data": {
      "image/png": "[encoded data removed]",
      "text/plain": [
       "<IPython.core.display.Image object>"
      ]
     },
     "execution_count": 71,
     "metadata": {},
     "output_type": "execute_result"
    }
   ],
   "source": [
    "Draw.MolsToGridImage(mols2, maxMols=3)"
   ]
  },
  {
   "cell_type": "code",
   "execution_count": 72,
   "id": "5583cc62",
   "metadata": {},
   "outputs": [
    {
     "data": {
      "image/png": "[encoded data removed]",
      "text/plain": [
       "<rdkit.Chem.rdchem.Mol at 0x7fa1713d1c10>"
      ]
     },
     "execution_count": 72,
     "metadata": {},
     "output_type": "execute_result"
    }
   ],
   "source": [
    "mols2[0]"
   ]
  },
  {
   "cell_type": "code",
   "execution_count": 73,
   "id": "1742fe90",
   "metadata": {},
   "outputs": [
    {
     "data": {
      "image/png": "[encoded data removed]",
      "text/plain": [
       "<rdkit.Chem.rdchem.Mol at 0x7fa1713e4c40>"
      ]
     },
     "execution_count": 73,
     "metadata": {},
     "output_type": "execute_result"
    }
   ],
   "source": [
    "Chem.AddHs(mols2[0], addCoords=True)"
   ]
  },
  {
   "cell_type": "code",
   "execution_count": 74,
   "id": "1955c347",
   "metadata": {},
   "outputs": [],
   "source": [
    "mols2 = [Chem.AddHs(mol, addCoords=True) for mol in mols2]"
   ]
  },
  {
   "cell_type": "code",
   "execution_count": 75,
   "id": "98b50ab3",
   "metadata": {},
   "outputs": [
    {
     "data": {
      "image/png": "[encoded data removed]",
      "text/plain": [
       "<IPython.core.display.Image object>"
      ]
     },
     "execution_count": 75,
     "metadata": {},
     "output_type": "execute_result"
    }
   ],
   "source": [
    "Draw.MolsToGridImage(mols2, maxMols=3)"
   ]
  },
  {
   "cell_type": "code",
   "execution_count": 79,
   "id": "9f54ff23",
   "metadata": {},
   "outputs": [
    {
     "data": {
      "image/png": "[encoded data removed]",
      "text/plain": [
       "<rdkit.Chem.rdchem.Mol at 0x7fa1713e4520>"
      ]
     },
     "execution_count": 79,
     "metadata": {},
     "output_type": "execute_result"
    }
   ],
   "source": [
    "mols2[0]"
   ]
  },
  {
   "cell_type": "code",
   "execution_count": 80,
   "id": "32bd1085",
   "metadata": {},
   "outputs": [
    {
     "data": {
      "image/png": "[encoded data removed]",
      "text/plain": [
       "<rdkit.Chem.rdchem.Mol at 0x7fa1713e4520>"
      ]
     },
     "execution_count": 80,
     "metadata": {},
     "output_type": "execute_result"
    }
   ],
   "source": [
    "from rdkit.Chem import AllChem\n",
    "n = 0\n",
    "\n",
    "AllChem.MMFFOptimizeMolecule(mols2[n])\n",
    "mols2[n]"
   ]
  },
  {
   "cell_type": "markdown",
   "id": "cfe6e600",
   "metadata": {},
   "source": [
    "# No5"
   ]
  },
  {
   "cell_type": "code",
   "execution_count": 86,
   "id": "746b3ca1",
   "metadata": {},
   "outputs": [
    {
     "name": "stderr",
     "output_type": "stream",
     "text": [
      "/opt/anaconda3/envs/lecture-beginner/lib/python3.9/site-packages/rdkit/Chem/Draw/IPythonConsole.py:190: UserWarning: Truncating the list of molecules to be displayed to 50. Change the maxMols value to display more.\n",
      "  warnings.warn(\n"
     ]
    },
    {
     "data": {
      "image/png": "[encoded data removed]",
      "text/plain": [
       "<IPython.core.display.Image object>"
      ]
     },
     "execution_count": 86,
     "metadata": {},
     "output_type": "execute_result"
    }
   ],
   "source": [
    "Draw.MolsToGridImage(mols)"
   ]
  },
  {
   "cell_type": "code",
   "execution_count": 93,
   "id": "2edd89a4",
   "metadata": {},
   "outputs": [
    {
     "data": {
      "image/png": "[encoded data removed]",
      "text/plain": [
       "<rdkit.Chem.rdchem.Mol at 0x7fa1826b14c0>"
      ]
     },
     "execution_count": 93,
     "metadata": {},
     "output_type": "execute_result"
    }
   ],
   "source": [
    "patt = Chem.MolFromSmarts('c1cc([Cl])ccc1')\n",
    "patt"
   ]
  },
  {
   "cell_type": "code",
   "execution_count": 94,
   "id": "7b378a05",
   "metadata": {},
   "outputs": [],
   "source": [
    "matches = [mol for mol in mols2 if mol.HasSubstructMatch(patt)]"
   ]
  },
  {
   "cell_type": "code",
   "execution_count": 95,
   "id": "1b488048",
   "metadata": {},
   "outputs": [
    {
     "data": {
      "text/plain": [
       "10"
      ]
     },
     "execution_count": 95,
     "metadata": {},
     "output_type": "execute_result"
    }
   ],
   "source": [
    "len(matches)"
   ]
  },
  {
   "cell_type": "code",
   "execution_count": 96,
   "id": "be58c3e5",
   "metadata": {},
   "outputs": [
    {
     "data": {
      "image/png": "[encoded data removed]",
      "text/plain": [
       "<IPython.core.display.Image object>"
      ]
     },
     "execution_count": 96,
     "metadata": {},
     "output_type": "execute_result"
    }
   ],
   "source": [
    "Draw.MolsToGridImage(matches, maxMols=3)"
   ]
  },
  {
   "cell_type": "code",
   "execution_count": null,
   "id": "39c3e0f4",
   "metadata": {},
   "outputs": [],
   "source": []
  },
  {
   "cell_type": "code",
   "execution_count": null,
   "id": "6b5735c5",
   "metadata": {},
   "outputs": [],
   "source": []
  },
  {
   "cell_type": "code",
   "execution_count": null,
   "id": "490684a3",
   "metadata": {},
   "outputs": [],
   "source": []
  }
 ],
 "metadata": {
  "kernelspec": {
   "display_name": "Python 3 (ipykernel)",
   "language": "python",
   "name": "python3"
  },
  "language_info": {
   "codemirror_mode": {
    "name": "ipython",
    "version": 3
   },
   "file_extension": ".py",
   "mimetype": "text/x-python",
   "name": "python",
   "nbconvert_exporter": "python",
   "pygments_lexer": "ipython3",
   "version": "3.9.7"
  }
 },
 "nbformat": 4,
 "nbformat_minor": 5
}
