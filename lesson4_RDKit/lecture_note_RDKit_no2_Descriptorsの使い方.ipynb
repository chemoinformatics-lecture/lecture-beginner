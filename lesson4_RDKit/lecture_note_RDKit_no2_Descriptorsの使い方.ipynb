{
 "cells": [
  {
   "cell_type": "markdown",
   "id": "e9c8ad44",
   "metadata": {
    "slideshow": {
     "slide_type": "slide"
    }
   },
   "source": [
    "# 1つの分子に対してDescriptorで数字を表示する。\n",
    "\n",
    "rdkit.chem.Descriptors.descriptor(mol)\n",
    "\n",
    "# 複数の分子に対してDescriptorで数字を表示する。\n",
    "df[\"TPSA\"] = df[\"ROMol\"].map(Descriptors.TPSA)\n",
    "\n",
    "# Pandasの復習\n",
    "\n",
    "df.hist('qed')\n",
    "\n",
    "df.plot(kind='scatter', x='MolLogP', y='qed')\n",
    "\n",
    "# morganfingerprintを表示\n",
    "\n",
    "rdkit.AllChem.GetMorganFingerprintAsBitVect(mol, 2, 2048)\n"
   ]
  },
  {
   "cell_type": "code",
   "execution_count": 1,
   "id": "1ae90aa1",
   "metadata": {
    "slideshow": {
     "slide_type": "slide"
    }
   },
   "outputs": [
    {
     "data": {
      "text/plain": [
       "'macOS-10.16-x86_64-i386-64bit'"
      ]
     },
     "execution_count": 1,
     "metadata": {},
     "output_type": "execute_result"
    }
   ],
   "source": [
    "import platform\n",
    "# 使用しているOSを表示\n",
    "platform.platform()"
   ]
  },
  {
   "cell_type": "code",
   "execution_count": 2,
   "id": "71edcf4b",
   "metadata": {},
   "outputs": [
    {
     "name": "stdout",
     "output_type": "stream",
     "text": [
      "Python 3.9.7\r\n"
     ]
    }
   ],
   "source": [
    "# pythonのversionを表示\n",
    "!python -V"
   ]
  },
  {
   "cell_type": "code",
   "execution_count": 3,
   "id": "603bf24e",
   "metadata": {},
   "outputs": [
    {
     "data": {
      "text/plain": [
       "'1.0.4'"
      ]
     },
     "execution_count": 3,
     "metadata": {},
     "output_type": "execute_result"
    }
   ],
   "source": [
    "import pubchempy as pcp\n",
    "# pcpと略すのが一般的\n",
    "# pubchemのversionを表示\n",
    "pcp. __version__"
   ]
  },
  {
   "cell_type": "code",
   "execution_count": 4,
   "id": "b55f70bc",
   "metadata": {},
   "outputs": [
    {
     "data": {
      "text/plain": [
       "'1.3.2'"
      ]
     },
     "execution_count": 4,
     "metadata": {},
     "output_type": "execute_result"
    }
   ],
   "source": [
    "import pandas as pd\n",
    "# pdと略すのが一般的\n",
    "# pandasのversionを表示\n",
    "pd.__version__"
   ]
  },
  {
   "cell_type": "code",
   "execution_count": 5,
   "id": "774e9ab3",
   "metadata": {
    "slideshow": {
     "slide_type": "slide"
    }
   },
   "outputs": [
    {
     "name": "stdout",
     "output_type": "stream",
     "text": [
      "2021.03.5\n"
     ]
    }
   ],
   "source": [
    "from rdkit import rdBase, Chem\n",
    "from rdkit.Chem import Descriptors\n",
    "from rdkit.ML.Descriptors import MoleculeDescriptors\n",
    "print(rdBase.rdkitVersion)"
   ]
  },
  {
   "cell_type": "markdown",
   "id": "1b890f71",
   "metadata": {
    "slideshow": {
     "slide_type": "slide"
    }
   },
   "source": [
    "# 1つの分子に対してDescriptorで数字を表示する。"
   ]
  },
  {
   "cell_type": "code",
   "execution_count": 6,
   "id": "cb1d2ca7",
   "metadata": {
    "slideshow": {
     "slide_type": "slide"
    }
   },
   "outputs": [],
   "source": [
    "compoud = \"quercetine\""
   ]
  },
  {
   "cell_type": "code",
   "execution_count": 7,
   "id": "ce1378a0",
   "metadata": {},
   "outputs": [
    {
     "data": {
      "image/png": "[encoded data removed]",
      "text/plain": [
       "<rdkit.Chem.rdchem.Mol at 0x7fa5ca473ac0>"
      ]
     },
     "execution_count": 7,
     "metadata": {},
     "output_type": "execute_result"
    }
   ],
   "source": [
    "# 今回はpubchemで名前からsmilesに変換してRDKitのmolファイルに変換しています。\n",
    "pcp_compoud = pcp.get_compounds(compoud, 'name')\n",
    "compoud_smiles = pcp_compoud[0].isomeric_smiles\n",
    "mol = Chem.MolFromSmiles(compoud_smiles)\n",
    "mol "
   ]
  },
  {
   "cell_type": "code",
   "execution_count": 8,
   "id": "d040369f",
   "metadata": {},
   "outputs": [
    {
     "data": {
      "text/plain": [
       "208"
      ]
     },
     "execution_count": 8,
     "metadata": {},
     "output_type": "execute_result"
    }
   ],
   "source": [
    "# Descriptorsに入っているものがList形式になっている。\n",
    "len(Descriptors.descList)"
   ]
  },
  {
   "cell_type": "code",
   "execution_count": 9,
   "id": "aa42b7c6",
   "metadata": {},
   "outputs": [
    {
     "data": {
      "text/plain": [
       "131.36"
      ]
     },
     "execution_count": 9,
     "metadata": {},
     "output_type": "execute_result"
    }
   ],
   "source": [
    "#TPSAの出力\n",
    "Descriptors.TPSA(mol)"
   ]
  },
  {
   "cell_type": "code",
   "execution_count": 10,
   "id": "37e898aa",
   "metadata": {},
   "outputs": [
    {
     "data": {
      "text/plain": [
       "5"
      ]
     },
     "execution_count": 10,
     "metadata": {},
     "output_type": "execute_result"
    }
   ],
   "source": [
    "#HBDの出力\n",
    "Descriptors.NumHDonors(mol)"
   ]
  },
  {
   "cell_type": "markdown",
   "id": "ccfbf53b",
   "metadata": {
    "slideshow": {
     "slide_type": "slide"
    }
   },
   "source": [
    "# 複数分子を読み込んだデータフレームにDescriptorを追加する。"
   ]
  },
  {
   "cell_type": "code",
   "execution_count": 11,
   "id": "e7c98c2c",
   "metadata": {
    "slideshow": {
     "slide_type": "slide"
    }
   },
   "outputs": [],
   "source": [
    "from rdkit.Chem import AllChem, PandasTools"
   ]
  },
  {
   "cell_type": "code",
   "execution_count": 12,
   "id": "952eaea0",
   "metadata": {},
   "outputs": [
    {
     "data": {
      "text/html": [
       "<div>\n",
       "<style scoped>\n",
       "    .dataframe tbody tr th:only-of-type {\n",
       "        vertical-align: middle;\n",
       "    }\n",
       "\n",
       "    .dataframe tbody tr th {\n",
       "        vertical-align: top;\n",
       "    }\n",
       "\n",
       "    .dataframe thead th {\n",
       "        text-align: right;\n",
       "    }\n",
       "</style>\n",
       "<table border=\"1\" class=\"dataframe\">\n",
       "  <thead>\n",
       "    <tr style=\"text-align: right;\">\n",
       "      <th></th>\n",
       "      <th>ID</th>\n",
       "      <th>ROMol</th>\n",
       "    </tr>\n",
       "  </thead>\n",
       "  <tbody>\n",
       "    <tr>\n",
       "      <th>34</th>\n",
       "      <td>135727285</td>\n",
       "      <td><img data-content=\"rdkit/molecule\" src=\"data:image/png;base64,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\" alt=\"Mol\"/></td>\n",
       "    </tr>\n",
       "  </tbody>\n",
       "</table>\n",
       "</div>"
      ],
      "text/plain": [
       "           ID                                              ROMol\n",
       "34  135727285  <img data-content=\"rdkit/molecule\" src=\"data:i..."
      ]
     },
     "execution_count": 12,
     "metadata": {},
     "output_type": "execute_result"
    }
   ],
   "source": [
    "df = PandasTools.LoadSDF('data/PubChem_TCI_phenol_records.sdf')\n",
    "df = df[['ID','ROMol']]\n",
    "df.sample(1)"
   ]
  },
  {
   "cell_type": "code",
   "execution_count": 13,
   "id": "f0a18449",
   "metadata": {
    "slideshow": {
     "slide_type": "slide"
    }
   },
   "outputs": [
    {
     "data": {
      "text/html": [
       "<div>\n",
       "<style scoped>\n",
       "    .dataframe tbody tr th:only-of-type {\n",
       "        vertical-align: middle;\n",
       "    }\n",
       "\n",
       "    .dataframe tbody tr th {\n",
       "        vertical-align: top;\n",
       "    }\n",
       "\n",
       "    .dataframe thead th {\n",
       "        text-align: right;\n",
       "    }\n",
       "</style>\n",
       "<table border=\"1\" class=\"dataframe\">\n",
       "  <thead>\n",
       "    <tr style=\"text-align: right;\">\n",
       "      <th></th>\n",
       "      <th>ID</th>\n",
       "      <th>ROMol</th>\n",
       "      <th>TPSA</th>\n",
       "      <th>MolLogP</th>\n",
       "      <th>qed</th>\n",
       "    </tr>\n",
       "  </thead>\n",
       "  <tbody>\n",
       "    <tr>\n",
       "      <th>19</th>\n",
       "      <td>253660925</td>\n",
       "      <td><img data-content=\"rdkit/molecule\" src=\"data:image/png;base64,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\" alt=\"Mol\"/></td>\n",
       "      <td>48.91</td>\n",
       "      <td>2.5448</td>\n",
       "      <td>0.802782</td>\n",
       "    </tr>\n",
       "  </tbody>\n",
       "</table>\n",
       "</div>"
      ],
      "text/plain": [
       "           ID                                              ROMol   TPSA  \\\n",
       "19  253660925  <img data-content=\"rdkit/molecule\" src=\"data:i...  48.91   \n",
       "\n",
       "    MolLogP       qed  \n",
       "19   2.5448  0.802782  "
      ]
     },
     "execution_count": 13,
     "metadata": {},
     "output_type": "execute_result"
    }
   ],
   "source": [
    "df[\"TPSA\"] = df[\"ROMol\"].map(Descriptors.TPSA)\n",
    "df[\"MolLogP\"] = df[\"ROMol\"].map(Descriptors.MolLogP)\n",
    "df[\"qed\"] = df[\"ROMol\"].map(Descriptors.qed)\n",
    "df.sample(1)"
   ]
  },
  {
   "cell_type": "code",
   "execution_count": 14,
   "id": "af67c957",
   "metadata": {
    "slideshow": {
     "slide_type": "slide"
    }
   },
   "outputs": [
    {
     "data": {
      "text/plain": [
       "array([[<AxesSubplot:title={'center':'qed'}>]], dtype=object)"
      ]
     },
     "execution_count": 14,
     "metadata": {},
     "output_type": "execute_result"
    },
    {
     "data": {
      "image/png": "[encoded data removed]",
      "text/plain": [
       "<Figure size 432x288 with 1 Axes>"
      ]
     },
     "metadata": {
      "needs_background": "light"
     },
     "output_type": "display_data"
    }
   ],
   "source": [
    "df.hist('qed')"
   ]
  },
  {
   "cell_type": "code",
   "execution_count": 15,
   "id": "72ae12c7",
   "metadata": {},
   "outputs": [
    {
     "data": {
      "text/plain": [
       "<AxesSubplot:xlabel='MolLogP', ylabel='qed'>"
      ]
     },
     "execution_count": 15,
     "metadata": {},
     "output_type": "execute_result"
    },
    {
     "data": {
      "image/png": "[encoded data removed]",
      "text/plain": [
       "<Figure size 432x288 with 1 Axes>"
      ]
     },
     "metadata": {
      "needs_background": "light"
     },
     "output_type": "display_data"
    }
   ],
   "source": [
    "df.plot(kind='scatter', x='MolLogP', y='qed')"
   ]
  },
  {
   "cell_type": "markdown",
   "id": "97d852c0",
   "metadata": {
    "slideshow": {
     "slide_type": "slide"
    }
   },
   "source": [
    "## morganfingerprintを表示"
   ]
  },
  {
   "cell_type": "code",
   "execution_count": 16,
   "id": "b8bacb9a",
   "metadata": {},
   "outputs": [
    {
     "name": "stdout",
     "output_type": "stream",
     "text": [
      "(117, 2048)\n"
     ]
    }
   ],
   "source": [
    "import numpy as np\n",
    "\n",
    "fingerprints = []\n",
    "safe = []\n",
    "for mol_idx, mol in enumerate(df[\"ROMol\"]):\n",
    "    try:\n",
    "        fingerprint = [x for x in AllChem.GetMorganFingerprintAsBitVect(mol, 2, 2048)]\n",
    "        fingerprints.append(fingerprint)\n",
    "        safe.append(mol_idx)\n",
    "        \n",
    "    except:\n",
    "        print(\"Error\", mol_idx)\n",
    "        continue\n",
    "fingerprints = np.array(fingerprints)\n",
    "print(fingerprints.shape)\n",
    "df_fp = pd.DataFrame(fingerprints)"
   ]
  },
  {
   "cell_type": "code",
   "execution_count": 17,
   "id": "262e4b30",
   "metadata": {
    "slideshow": {
     "slide_type": "slide"
    }
   },
   "outputs": [
    {
     "data": {
      "text/html": [
       "<div>\n",
       "<style scoped>\n",
       "    .dataframe tbody tr th:only-of-type {\n",
       "        vertical-align: middle;\n",
       "    }\n",
       "\n",
       "    .dataframe tbody tr th {\n",
       "        vertical-align: top;\n",
       "    }\n",
       "\n",
       "    .dataframe thead th {\n",
       "        text-align: right;\n",
       "    }\n",
       "</style>\n",
       "<table border=\"1\" class=\"dataframe\">\n",
       "  <thead>\n",
       "    <tr style=\"text-align: right;\">\n",
       "      <th></th>\n",
       "      <th>0</th>\n",
       "      <th>1</th>\n",
       "      <th>2</th>\n",
       "      <th>3</th>\n",
       "      <th>4</th>\n",
       "      <th>5</th>\n",
       "      <th>6</th>\n",
       "      <th>7</th>\n",
       "      <th>8</th>\n",
       "      <th>9</th>\n",
       "      <th>...</th>\n",
       "      <th>2038</th>\n",
       "      <th>2039</th>\n",
       "      <th>2040</th>\n",
       "      <th>2041</th>\n",
       "      <th>2042</th>\n",
       "      <th>2043</th>\n",
       "      <th>2044</th>\n",
       "      <th>2045</th>\n",
       "      <th>2046</th>\n",
       "      <th>2047</th>\n",
       "    </tr>\n",
       "  </thead>\n",
       "  <tbody>\n",
       "    <tr>\n",
       "      <th>0</th>\n",
       "      <td>0</td>\n",
       "      <td>1</td>\n",
       "      <td>0</td>\n",
       "      <td>0</td>\n",
       "      <td>0</td>\n",
       "      <td>0</td>\n",
       "      <td>0</td>\n",
       "      <td>0</td>\n",
       "      <td>0</td>\n",
       "      <td>0</td>\n",
       "      <td>...</td>\n",
       "      <td>0</td>\n",
       "      <td>0</td>\n",
       "      <td>0</td>\n",
       "      <td>0</td>\n",
       "      <td>0</td>\n",
       "      <td>0</td>\n",
       "      <td>0</td>\n",
       "      <td>0</td>\n",
       "      <td>0</td>\n",
       "      <td>0</td>\n",
       "    </tr>\n",
       "    <tr>\n",
       "      <th>1</th>\n",
       "      <td>0</td>\n",
       "      <td>0</td>\n",
       "      <td>0</td>\n",
       "      <td>0</td>\n",
       "      <td>0</td>\n",
       "      <td>0</td>\n",
       "      <td>0</td>\n",
       "      <td>0</td>\n",
       "      <td>0</td>\n",
       "      <td>0</td>\n",
       "      <td>...</td>\n",
       "      <td>0</td>\n",
       "      <td>0</td>\n",
       "      <td>0</td>\n",
       "      <td>0</td>\n",
       "      <td>0</td>\n",
       "      <td>0</td>\n",
       "      <td>0</td>\n",
       "      <td>0</td>\n",
       "      <td>0</td>\n",
       "      <td>0</td>\n",
       "    </tr>\n",
       "    <tr>\n",
       "      <th>2</th>\n",
       "      <td>0</td>\n",
       "      <td>0</td>\n",
       "      <td>0</td>\n",
       "      <td>0</td>\n",
       "      <td>0</td>\n",
       "      <td>0</td>\n",
       "      <td>0</td>\n",
       "      <td>0</td>\n",
       "      <td>0</td>\n",
       "      <td>0</td>\n",
       "      <td>...</td>\n",
       "      <td>0</td>\n",
       "      <td>0</td>\n",
       "      <td>0</td>\n",
       "      <td>0</td>\n",
       "      <td>0</td>\n",
       "      <td>0</td>\n",
       "      <td>0</td>\n",
       "      <td>0</td>\n",
       "      <td>0</td>\n",
       "      <td>0</td>\n",
       "    </tr>\n",
       "    <tr>\n",
       "      <th>3</th>\n",
       "      <td>0</td>\n",
       "      <td>0</td>\n",
       "      <td>0</td>\n",
       "      <td>0</td>\n",
       "      <td>0</td>\n",
       "      <td>0</td>\n",
       "      <td>0</td>\n",
       "      <td>0</td>\n",
       "      <td>0</td>\n",
       "      <td>0</td>\n",
       "      <td>...</td>\n",
       "      <td>0</td>\n",
       "      <td>0</td>\n",
       "      <td>0</td>\n",
       "      <td>0</td>\n",
       "      <td>0</td>\n",
       "      <td>0</td>\n",
       "      <td>0</td>\n",
       "      <td>0</td>\n",
       "      <td>0</td>\n",
       "      <td>0</td>\n",
       "    </tr>\n",
       "    <tr>\n",
       "      <th>4</th>\n",
       "      <td>0</td>\n",
       "      <td>1</td>\n",
       "      <td>0</td>\n",
       "      <td>0</td>\n",
       "      <td>0</td>\n",
       "      <td>0</td>\n",
       "      <td>0</td>\n",
       "      <td>0</td>\n",
       "      <td>0</td>\n",
       "      <td>0</td>\n",
       "      <td>...</td>\n",
       "      <td>0</td>\n",
       "      <td>0</td>\n",
       "      <td>0</td>\n",
       "      <td>0</td>\n",
       "      <td>0</td>\n",
       "      <td>0</td>\n",
       "      <td>0</td>\n",
       "      <td>0</td>\n",
       "      <td>0</td>\n",
       "      <td>0</td>\n",
       "    </tr>\n",
       "    <tr>\n",
       "      <th>...</th>\n",
       "      <td>...</td>\n",
       "      <td>...</td>\n",
       "      <td>...</td>\n",
       "      <td>...</td>\n",
       "      <td>...</td>\n",
       "      <td>...</td>\n",
       "      <td>...</td>\n",
       "      <td>...</td>\n",
       "      <td>...</td>\n",
       "      <td>...</td>\n",
       "      <td>...</td>\n",
       "      <td>...</td>\n",
       "      <td>...</td>\n",
       "      <td>...</td>\n",
       "      <td>...</td>\n",
       "      <td>...</td>\n",
       "      <td>...</td>\n",
       "      <td>...</td>\n",
       "      <td>...</td>\n",
       "      <td>...</td>\n",
       "      <td>...</td>\n",
       "    </tr>\n",
       "    <tr>\n",
       "      <th>112</th>\n",
       "      <td>0</td>\n",
       "      <td>0</td>\n",
       "      <td>0</td>\n",
       "      <td>0</td>\n",
       "      <td>0</td>\n",
       "      <td>0</td>\n",
       "      <td>0</td>\n",
       "      <td>0</td>\n",
       "      <td>0</td>\n",
       "      <td>0</td>\n",
       "      <td>...</td>\n",
       "      <td>0</td>\n",
       "      <td>0</td>\n",
       "      <td>0</td>\n",
       "      <td>0</td>\n",
       "      <td>0</td>\n",
       "      <td>0</td>\n",
       "      <td>0</td>\n",
       "      <td>1</td>\n",
       "      <td>0</td>\n",
       "      <td>0</td>\n",
       "    </tr>\n",
       "    <tr>\n",
       "      <th>113</th>\n",
       "      <td>0</td>\n",
       "      <td>0</td>\n",
       "      <td>0</td>\n",
       "      <td>0</td>\n",
       "      <td>0</td>\n",
       "      <td>0</td>\n",
       "      <td>0</td>\n",
       "      <td>0</td>\n",
       "      <td>0</td>\n",
       "      <td>0</td>\n",
       "      <td>...</td>\n",
       "      <td>0</td>\n",
       "      <td>0</td>\n",
       "      <td>0</td>\n",
       "      <td>0</td>\n",
       "      <td>0</td>\n",
       "      <td>0</td>\n",
       "      <td>0</td>\n",
       "      <td>0</td>\n",
       "      <td>0</td>\n",
       "      <td>0</td>\n",
       "    </tr>\n",
       "    <tr>\n",
       "      <th>114</th>\n",
       "      <td>0</td>\n",
       "      <td>0</td>\n",
       "      <td>0</td>\n",
       "      <td>0</td>\n",
       "      <td>0</td>\n",
       "      <td>0</td>\n",
       "      <td>0</td>\n",
       "      <td>0</td>\n",
       "      <td>0</td>\n",
       "      <td>0</td>\n",
       "      <td>...</td>\n",
       "      <td>0</td>\n",
       "      <td>0</td>\n",
       "      <td>0</td>\n",
       "      <td>0</td>\n",
       "      <td>0</td>\n",
       "      <td>0</td>\n",
       "      <td>0</td>\n",
       "      <td>1</td>\n",
       "      <td>0</td>\n",
       "      <td>0</td>\n",
       "    </tr>\n",
       "    <tr>\n",
       "      <th>115</th>\n",
       "      <td>0</td>\n",
       "      <td>0</td>\n",
       "      <td>0</td>\n",
       "      <td>0</td>\n",
       "      <td>0</td>\n",
       "      <td>0</td>\n",
       "      <td>0</td>\n",
       "      <td>0</td>\n",
       "      <td>0</td>\n",
       "      <td>0</td>\n",
       "      <td>...</td>\n",
       "      <td>0</td>\n",
       "      <td>0</td>\n",
       "      <td>0</td>\n",
       "      <td>0</td>\n",
       "      <td>0</td>\n",
       "      <td>0</td>\n",
       "      <td>0</td>\n",
       "      <td>0</td>\n",
       "      <td>0</td>\n",
       "      <td>0</td>\n",
       "    </tr>\n",
       "    <tr>\n",
       "      <th>116</th>\n",
       "      <td>0</td>\n",
       "      <td>0</td>\n",
       "      <td>0</td>\n",
       "      <td>0</td>\n",
       "      <td>0</td>\n",
       "      <td>0</td>\n",
       "      <td>0</td>\n",
       "      <td>0</td>\n",
       "      <td>0</td>\n",
       "      <td>0</td>\n",
       "      <td>...</td>\n",
       "      <td>0</td>\n",
       "      <td>0</td>\n",
       "      <td>0</td>\n",
       "      <td>0</td>\n",
       "      <td>0</td>\n",
       "      <td>0</td>\n",
       "      <td>0</td>\n",
       "      <td>0</td>\n",
       "      <td>0</td>\n",
       "      <td>0</td>\n",
       "    </tr>\n",
       "  </tbody>\n",
       "</table>\n",
       "<p>117 rows × 2048 columns</p>\n",
       "</div>"
      ],
      "text/plain": [
       "     0     1     2     3     4     5     6     7     8     9     ...  2038  \\\n",
       "0       0     1     0     0     0     0     0     0     0     0  ...     0   \n",
       "1       0     0     0     0     0     0     0     0     0     0  ...     0   \n",
       "2       0     0     0     0     0     0     0     0     0     0  ...     0   \n",
       "3       0     0     0     0     0     0     0     0     0     0  ...     0   \n",
       "4       0     1     0     0     0     0     0     0     0     0  ...     0   \n",
       "..    ...   ...   ...   ...   ...   ...   ...   ...   ...   ...  ...   ...   \n",
       "112     0     0     0     0     0     0     0     0     0     0  ...     0   \n",
       "113     0     0     0     0     0     0     0     0     0     0  ...     0   \n",
       "114     0     0     0     0     0     0     0     0     0     0  ...     0   \n",
       "115     0     0     0     0     0     0     0     0     0     0  ...     0   \n",
       "116     0     0     0     0     0     0     0     0     0     0  ...     0   \n",
       "\n",
       "     2039  2040  2041  2042  2043  2044  2045  2046  2047  \n",
       "0       0     0     0     0     0     0     0     0     0  \n",
       "1       0     0     0     0     0     0     0     0     0  \n",
       "2       0     0     0     0     0     0     0     0     0  \n",
       "3       0     0     0     0     0     0     0     0     0  \n",
       "4       0     0     0     0     0     0     0     0     0  \n",
       "..    ...   ...   ...   ...   ...   ...   ...   ...   ...  \n",
       "112     0     0     0     0     0     0     1     0     0  \n",
       "113     0     0     0     0     0     0     0     0     0  \n",
       "114     0     0     0     0     0     0     1     0     0  \n",
       "115     0     0     0     0     0     0     0     0     0  \n",
       "116     0     0     0     0     0     0     0     0     0  \n",
       "\n",
       "[117 rows x 2048 columns]"
      ]
     },
     "execution_count": 17,
     "metadata": {},
     "output_type": "execute_result"
    }
   ],
   "source": [
    "df_fp"
   ]
  },
  {
   "cell_type": "code",
   "execution_count": 18,
   "id": "d77aad7f",
   "metadata": {
    "slideshow": {
     "slide_type": "slide"
    }
   },
   "outputs": [
    {
     "data": {
      "text/html": [
       "<div>\n",
       "<style scoped>\n",
       "    .dataframe tbody tr th:only-of-type {\n",
       "        vertical-align: middle;\n",
       "    }\n",
       "\n",
       "    .dataframe tbody tr th {\n",
       "        vertical-align: top;\n",
       "    }\n",
       "\n",
       "    .dataframe thead th {\n",
       "        text-align: right;\n",
       "    }\n",
       "</style>\n",
       "<table border=\"1\" class=\"dataframe\">\n",
       "  <thead>\n",
       "    <tr style=\"text-align: right;\">\n",
       "      <th></th>\n",
       "      <th>0</th>\n",
       "      <th>1</th>\n",
       "      <th>2</th>\n",
       "      <th>3</th>\n",
       "      <th>4</th>\n",
       "      <th>5</th>\n",
       "      <th>6</th>\n",
       "      <th>7</th>\n",
       "      <th>8</th>\n",
       "      <th>9</th>\n",
       "      <th>...</th>\n",
       "      <th>2039</th>\n",
       "      <th>2040</th>\n",
       "      <th>2041</th>\n",
       "      <th>2042</th>\n",
       "      <th>2043</th>\n",
       "      <th>2044</th>\n",
       "      <th>2045</th>\n",
       "      <th>2046</th>\n",
       "      <th>2047</th>\n",
       "      <th>ID</th>\n",
       "    </tr>\n",
       "  </thead>\n",
       "  <tbody>\n",
       "    <tr>\n",
       "      <th>0</th>\n",
       "      <td>0</td>\n",
       "      <td>1</td>\n",
       "      <td>0</td>\n",
       "      <td>0</td>\n",
       "      <td>0</td>\n",
       "      <td>0</td>\n",
       "      <td>0</td>\n",
       "      <td>0</td>\n",
       "      <td>0</td>\n",
       "      <td>0</td>\n",
       "      <td>...</td>\n",
       "      <td>0</td>\n",
       "      <td>0</td>\n",
       "      <td>0</td>\n",
       "      <td>0</td>\n",
       "      <td>0</td>\n",
       "      <td>0</td>\n",
       "      <td>0</td>\n",
       "      <td>0</td>\n",
       "      <td>0</td>\n",
       "      <td>354335558</td>\n",
       "    </tr>\n",
       "    <tr>\n",
       "      <th>1</th>\n",
       "      <td>0</td>\n",
       "      <td>0</td>\n",
       "      <td>0</td>\n",
       "      <td>0</td>\n",
       "      <td>0</td>\n",
       "      <td>0</td>\n",
       "      <td>0</td>\n",
       "      <td>0</td>\n",
       "      <td>0</td>\n",
       "      <td>0</td>\n",
       "      <td>...</td>\n",
       "      <td>0</td>\n",
       "      <td>0</td>\n",
       "      <td>0</td>\n",
       "      <td>0</td>\n",
       "      <td>0</td>\n",
       "      <td>0</td>\n",
       "      <td>0</td>\n",
       "      <td>0</td>\n",
       "      <td>0</td>\n",
       "      <td>354335473</td>\n",
       "    </tr>\n",
       "    <tr>\n",
       "      <th>2</th>\n",
       "      <td>0</td>\n",
       "      <td>0</td>\n",
       "      <td>0</td>\n",
       "      <td>0</td>\n",
       "      <td>0</td>\n",
       "      <td>0</td>\n",
       "      <td>0</td>\n",
       "      <td>0</td>\n",
       "      <td>0</td>\n",
       "      <td>0</td>\n",
       "      <td>...</td>\n",
       "      <td>0</td>\n",
       "      <td>0</td>\n",
       "      <td>0</td>\n",
       "      <td>0</td>\n",
       "      <td>0</td>\n",
       "      <td>0</td>\n",
       "      <td>0</td>\n",
       "      <td>0</td>\n",
       "      <td>0</td>\n",
       "      <td>354335166</td>\n",
       "    </tr>\n",
       "    <tr>\n",
       "      <th>3</th>\n",
       "      <td>0</td>\n",
       "      <td>0</td>\n",
       "      <td>0</td>\n",
       "      <td>0</td>\n",
       "      <td>0</td>\n",
       "      <td>0</td>\n",
       "      <td>0</td>\n",
       "      <td>0</td>\n",
       "      <td>0</td>\n",
       "      <td>0</td>\n",
       "      <td>...</td>\n",
       "      <td>0</td>\n",
       "      <td>0</td>\n",
       "      <td>0</td>\n",
       "      <td>0</td>\n",
       "      <td>0</td>\n",
       "      <td>0</td>\n",
       "      <td>0</td>\n",
       "      <td>0</td>\n",
       "      <td>0</td>\n",
       "      <td>354334589</td>\n",
       "    </tr>\n",
       "    <tr>\n",
       "      <th>4</th>\n",
       "      <td>0</td>\n",
       "      <td>1</td>\n",
       "      <td>0</td>\n",
       "      <td>0</td>\n",
       "      <td>0</td>\n",
       "      <td>0</td>\n",
       "      <td>0</td>\n",
       "      <td>0</td>\n",
       "      <td>0</td>\n",
       "      <td>0</td>\n",
       "      <td>...</td>\n",
       "      <td>0</td>\n",
       "      <td>0</td>\n",
       "      <td>0</td>\n",
       "      <td>0</td>\n",
       "      <td>0</td>\n",
       "      <td>0</td>\n",
       "      <td>0</td>\n",
       "      <td>0</td>\n",
       "      <td>0</td>\n",
       "      <td>354334487</td>\n",
       "    </tr>\n",
       "  </tbody>\n",
       "</table>\n",
       "<p>5 rows × 2049 columns</p>\n",
       "</div>"
      ],
      "text/plain": [
       "   0  1  2  3  4  5  6  7  8  9  ...  2039  2040  2041  2042  2043  2044  \\\n",
       "0  0  1  0  0  0  0  0  0  0  0  ...     0     0     0     0     0     0   \n",
       "1  0  0  0  0  0  0  0  0  0  0  ...     0     0     0     0     0     0   \n",
       "2  0  0  0  0  0  0  0  0  0  0  ...     0     0     0     0     0     0   \n",
       "3  0  0  0  0  0  0  0  0  0  0  ...     0     0     0     0     0     0   \n",
       "4  0  1  0  0  0  0  0  0  0  0  ...     0     0     0     0     0     0   \n",
       "\n",
       "   2045  2046  2047         ID  \n",
       "0     0     0     0  354335558  \n",
       "1     0     0     0  354335473  \n",
       "2     0     0     0  354335166  \n",
       "3     0     0     0  354334589  \n",
       "4     0     0     0  354334487  \n",
       "\n",
       "[5 rows x 2049 columns]"
      ]
     },
     "execution_count": 18,
     "metadata": {},
     "output_type": "execute_result"
    }
   ],
   "source": [
    "df_fp['ID'] = df['ID']\n",
    "df_fp.head()"
   ]
  }
 ],
 "metadata": {
  "celltoolbar": "Slideshow",
  "kernelspec": {
   "display_name": "Python 3 (ipykernel)",
   "language": "python",
   "name": "python3"
  },
  "language_info": {
   "codemirror_mode": {
    "name": "ipython",
    "version": 3
   },
   "file_extension": ".py",
   "mimetype": "text/x-python",
   "name": "python",
   "nbconvert_exporter": "python",
   "pygments_lexer": "ipython3",
   "version": "3.9.7"
  }
 },
 "nbformat": 4,
 "nbformat_minor": 5
}
