{
 "cells": [
  {
   "cell_type": "code",
   "execution_count": 1,
   "id": "1ae90aa1",
   "metadata": {},
   "outputs": [
    {
     "data": {
      "text/plain": [
       "'macOS-10.15.7-x86_64-i386-64bit'"
      ]
     },
     "execution_count": 1,
     "metadata": {},
     "output_type": "execute_result"
    }
   ],
   "source": [
    "import platform\n",
    "# 使用しているOSを表示\n",
    "platform.platform()"
   ]
  },
  {
   "cell_type": "code",
   "execution_count": 2,
   "id": "71edcf4b",
   "metadata": {},
   "outputs": [
    {
     "name": "stdout",
     "output_type": "stream",
     "text": [
      "Python 3.8.11\r\n"
     ]
    }
   ],
   "source": [
    "# pythonのversionを表示\n",
    "!python -V"
   ]
  },
  {
   "cell_type": "code",
   "execution_count": 3,
   "id": "603bf24e",
   "metadata": {},
   "outputs": [
    {
     "data": {
      "text/plain": [
       "'1.0.4'"
      ]
     },
     "execution_count": 3,
     "metadata": {},
     "output_type": "execute_result"
    }
   ],
   "source": [
    "import pubchempy as pcp\n",
    "# pcpと略すのが一般的\n",
    "# pubchemのversionを表示\n",
    "pcp. __version__"
   ]
  },
  {
   "cell_type": "code",
   "execution_count": 4,
   "id": "b55f70bc",
   "metadata": {},
   "outputs": [
    {
     "data": {
      "text/plain": [
       "'1.1.3'"
      ]
     },
     "execution_count": 4,
     "metadata": {},
     "output_type": "execute_result"
    }
   ],
   "source": [
    "import pandas as pd\n",
    "# pdと略すのが一般的\n",
    "# pandasのversionを表示\n",
    "pd.__version__"
   ]
  },
  {
   "cell_type": "code",
   "execution_count": 5,
   "id": "774e9ab3",
   "metadata": {},
   "outputs": [
    {
     "name": "stdout",
     "output_type": "stream",
     "text": [
      "2019.09.3\n"
     ]
    },
    {
     "name": "stderr",
     "output_type": "stream",
     "text": [
      "RDKit WARNING: [13:28:48] Enabling RDKit 2019.09.3 jupyter extensions\n",
      "[13:28:48] Enabling RDKit 2019.09.3 jupyter extensions\n"
     ]
    }
   ],
   "source": [
    "from rdkit import rdBase, Chem\n",
    "from rdkit.Chem import Descriptors\n",
    "from rdkit.ML.Descriptors import MoleculeDescriptors\n",
    "print(rdBase.rdkitVersion)"
   ]
  },
  {
   "cell_type": "markdown",
   "id": "1b890f71",
   "metadata": {},
   "source": [
    "# 1つの分子に対してDescriptorで数字を表示する。"
   ]
  },
  {
   "cell_type": "code",
   "execution_count": 6,
   "id": "cb1d2ca7",
   "metadata": {},
   "outputs": [],
   "source": [
    "compoud = \"quercetine\""
   ]
  },
  {
   "cell_type": "code",
   "execution_count": 7,
   "id": "ce1378a0",
   "metadata": {},
   "outputs": [
    {
     "data": {
      "image/png": "[encoded data removed]",
      "text/plain": [
       "<rdkit.Chem.rdchem.Mol at 0x7fbcc88b2ee0>"
      ]
     },
     "execution_count": 7,
     "metadata": {},
     "output_type": "execute_result"
    }
   ],
   "source": [
    "# 今回はpubchemで名前からsmilesに変換してRDKitのmolファイルに変換しています。\n",
    "pcp_compoud = pcp.get_compounds(compoud, 'name')\n",
    "compoud_smiles = pcp_compoud[0].isomeric_smiles\n",
    "mol = Chem.MolFromSmiles(compoud_smiles)\n",
    "mol "
   ]
  },
  {
   "cell_type": "code",
   "execution_count": 8,
   "id": "d040369f",
   "metadata": {},
   "outputs": [
    {
     "data": {
      "text/plain": [
       "200"
      ]
     },
     "execution_count": 8,
     "metadata": {},
     "output_type": "execute_result"
    }
   ],
   "source": [
    "# Descriptorsに入っているものがList形式になっている。\n",
    "len(Descriptors.descList)"
   ]
  },
  {
   "cell_type": "code",
   "execution_count": 9,
   "id": "aa42b7c6",
   "metadata": {},
   "outputs": [
    {
     "data": {
      "text/plain": [
       "131.36"
      ]
     },
     "execution_count": 9,
     "metadata": {},
     "output_type": "execute_result"
    }
   ],
   "source": [
    "#TPSAの出力\n",
    "Descriptors.TPSA(mol)"
   ]
  },
  {
   "cell_type": "code",
   "execution_count": 10,
   "id": "37e898aa",
   "metadata": {},
   "outputs": [
    {
     "data": {
      "text/plain": [
       "5"
      ]
     },
     "execution_count": 10,
     "metadata": {},
     "output_type": "execute_result"
    }
   ],
   "source": [
    "#HBDの出力\n",
    "Descriptors.NumHDonors(mol)"
   ]
  },
  {
   "cell_type": "markdown",
   "id": "ccfbf53b",
   "metadata": {},
   "source": [
    "# 複数分子を読み込んだデータフレームにDescriptorを追加する。"
   ]
  },
  {
   "cell_type": "code",
   "execution_count": 11,
   "id": "e7c98c2c",
   "metadata": {},
   "outputs": [],
   "source": [
    "from rdkit.Chem import AllChem, PandasTools"
   ]
  },
  {
   "cell_type": "code",
   "execution_count": 12,
   "id": "952eaea0",
   "metadata": {},
   "outputs": [
    {
     "data": {
      "text/html": [
       "<div>\n",
       "<style scoped>\n",
       "    .dataframe tbody tr th:only-of-type {\n",
       "        vertical-align: middle;\n",
       "    }\n",
       "\n",
       "    .dataframe tbody tr th {\n",
       "        vertical-align: top;\n",
       "    }\n",
       "\n",
       "    .dataframe thead th {\n",
       "        text-align: right;\n",
       "    }\n",
       "</style>\n",
       "<table border=\"1\" class=\"dataframe\">\n",
       "  <thead>\n",
       "    <tr style=\"text-align: right;\">\n",
       "      <th></th>\n",
       "      <th>ID</th>\n",
       "      <th>ROMol</th>\n",
       "    </tr>\n",
       "  </thead>\n",
       "  <tbody>\n",
       "    <tr>\n",
       "      <th>6</th>\n",
       "      <td>354334324</td>\n",
       "      <td><img data-content=\"rdkit/molecule\" src=\"data:image/png;base64,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\" alt=\"Mol\"/></td>\n",
       "    </tr>\n",
       "  </tbody>\n",
       "</table>\n",
       "</div>"
      ],
      "text/plain": [
       "          ID                                              ROMol\n",
       "6  354334324  <img data-content=\"rdkit/molecule\" src=\"data:i..."
      ]
     },
     "execution_count": 12,
     "metadata": {},
     "output_type": "execute_result"
    }
   ],
   "source": [
    "df = PandasTools.LoadSDF('data/PubChem_TCI_phenol_records.sdf')\n",
    "df = df[['ID','ROMol']]\n",
    "df.sample(1)"
   ]
  },
  {
   "cell_type": "code",
   "execution_count": 13,
   "id": "f0a18449",
   "metadata": {},
   "outputs": [
    {
     "data": {
      "text/html": [
       "<div>\n",
       "<style scoped>\n",
       "    .dataframe tbody tr th:only-of-type {\n",
       "        vertical-align: middle;\n",
       "    }\n",
       "\n",
       "    .dataframe tbody tr th {\n",
       "        vertical-align: top;\n",
       "    }\n",
       "\n",
       "    .dataframe thead th {\n",
       "        text-align: right;\n",
       "    }\n",
       "</style>\n",
       "<table border=\"1\" class=\"dataframe\">\n",
       "  <thead>\n",
       "    <tr style=\"text-align: right;\">\n",
       "      <th></th>\n",
       "      <th>ID</th>\n",
       "      <th>ROMol</th>\n",
       "      <th>TPSA</th>\n",
       "      <th>MolLogP</th>\n",
       "      <th>qed</th>\n",
       "    </tr>\n",
       "  </thead>\n",
       "  <tbody>\n",
       "    <tr>\n",
       "      <th>88</th>\n",
       "      <td>87564757</td>\n",
       "      <td><img data-content=\"rdkit/molecule\" src=\"data:image/png;base64,iVBORw0KGgoAAAANSUhEUgAAAMgAAADICAIAAAAiOjnJAAAABmJLR0QA/wD/AP+gvaeTAAASgElEQVR4nO3dfVRTZ54H8F8ukPAmCAmvMfhCoSIqiljaMtY3HK1lV49zaHdPzdhpt7RTLVTbo609U+q0bulWTlF3Z+q0PW22e1oXt1Mbp+hWLdWjji/hgAVFfFkEjIB5k5eAEJNn/7iYpryZl/vk3iS/z8kfEC73/oSv97l58nB/IkIIIMQ1hu8CkH/CYCEqMFiICgwWoiKY7wL8xB9bWhw/DRGJ3khJ4asYIcAzFjfUer3Zao1kGPYRERTEd0U8wzMWZ56Oj58dGcl3FUKBZyxEhQgnSDmRU1Pj+OkfJk9eJZPxVYwQ4FDIme1Tp2ZERLAfS4MD/Qcb6P9+DiWJxSkSCd9VCAVeYyEqMFjcEYn4rkBA8OKdM3W9ve+1ts6NjHw9sKdGWXiNxZk+q/Vaf39CSAjfhQgCDoWICgwWogKDhajAYCEqMFiICgwWogKDhagIoHksn17k6XPFB9AZy6cXefpc8QF0xgIfX+TpW8UH0BkLeVNgnbGebWqyf+xzizx9q/jACtawRZ4nu7oeiYpiBLzc5f/6+yUMI5dIwNdWqAq9Pm45LvI829NTcvXq1NDQTQrFI1FRHOy9vz+utTUsPh7S0jzfWbfVquro+LKzMzcqquKBB8DXVqgGVrAc2QhJFoub79x5+cqVpTExJXJ5sme/tq7a2kNr1sCKFXDwoCf7sRLytU73UXt79927QSJRslhs9cE1cwEWLIdR7+GoqK9nzvwfne7PN28eNZmO3779m7i43ycn8/tK/lxPT3lb29X+fgCYP2HCJoUiLSxs6GsCHrJHCqBgaebNG/ZMiEj0z/Hx+TExH9+8uV+v33vr1lGT6fnk5NUymfdfLbcNDPyHVnvEZAIAhUSyXi7Pj4mxf3Vk8QIXQMEaS1xIyNbJk1fHxe1oa/upt/dfW1r263SvKhRZ3po06rfZvujo+LyjY5CQMIZRJiQ8k5goZnx7JgiDNWRGePinDz541GSquHHjYl/fvzQ1LY2JKZk0KUkspndQAlBlMOzSag0WiwhgpVRaIpdL/WJxMwbrZyKA/JiYX0VH/2dHx+ednUdMphNdXb9NSFiXmCihcP64YDbvaGurN5sBIDMi4lWFYva92QQ/gMEaLpRhipKTC6TSCq32B5PpL+3tfzMaX7h164klS7g6RGtr62da7d/EYgKQIBaXyOXLYmN96crcCb49kNOTLJH827Rpe9LT08PCmL//vWDp0kWLFtXV1Xm4276+vvfffz8zM/O7rVvFDLMuMXFfZuav/S5VgMEa37wJE/4rI2PNhAkymezYsWM5OTkvvviiTqdzY1eEkK+++mr69Omvv/662WxOTUz8Oi3tZbk83Mcv0sdEkBNMJtOWLVskEgkATJw4says7M6dO8O2qaqqAoAVK1aM/PaampoFCxawP/Ds7Ozjx497pWo+YbBc0NTUVFBQwOYjLS2tsrLS8aujBkun0xUXFwcFBQGAVCqtqKi4e/eud6vmBwbLZYcPH87MzGTjlZ+fX19fzz4/LFiDg4MVFRVRUVEAEBISUlxcfPv2bf6q9jYMljsGBwf37Nkjk8nY0BQVFel0OsdgHT58OCMjwx6+Cxcu8F2yt2Gw3GcwGOzDXGxs7AsvvAAACxYsWLlyJRupBx988LvvvuO7TH5gsDxVW1u7cOFC+4shkUjE5mz37t0Wi4Xv6niDweKGWq1OSkqKjo5mGKaoqOjWrVt8V8QzvD8WZ7799tvVq1cvWrSourqa71r456ezc3wQi8UAEBoaynchgoDBQlRgsBAVGCxEBQYLUYHBQlRgsBAVGCxEBQYLUYHBQlRgsBAVGCxEBQYLUYHBQlRgsBAVGCxEBQYLUYHBQlRgsBAVGCxEBQYLUYHBQlRgsBAVGCxEBQYLUYHBQlRgsBAVGCxEBQYLUYHBQlRgsBAVGCxEBQYLUYHBQlRgsLhx8+bNjz76SCqVnj17dt++fXyXIwB83wTV5/X19b377rsREREAILnXVTo/P7+hoYHv0viEwfKIWq2eOnUqG6aCgoLLly/v2bMnLi4OABiGUSqVAXv7ZAyWmy5evLh8+XI2UhkZGYcOHbJ/yWg0btmyhb3XbUxMTFlZ2cDAAI+l8gKD5bJhDSnG6rt06dKlQG5RgcFyAdt3aeLEieDQQmf8bwnYpjoYLGcNa/rl/LU5G8fo6GgIpDZgGKz7c2xTmJ6efuDAATd2otfrA6pxIQZrPM40VmUNDAw405IpcFqtYrBGZ7VaVSpVfHy8feKgo6NjrI3ZUXL37t1O7lytVk+ZMsU+SdHc3MxN0UKCwRpFdXV1VlYW+4tnm9ePtaXjpENeXp7zh+jr6ysrK4uMjASAsLCwLVu29PT0cFG7UGCwfqG1tVWpVLJBmTRpkkqlstlso27JjpLsZBU7SroxWXXjxg2lUsm2OJTL5eMczudgsIaYzebS0lK2d1d4eHhpaWl/f/+oW44cJTs7Oz059JkzZx5++GE2zfPnzz916pQnexMIDBax2WyVlZUpKSkAIBKJCgsLW1paxtr4hx9+mD17tjOjpKs1qFSqxMREtgalUtne3s7JnvkS6ME6d+7co48+ygYlJyfnxIkTY23pOEoqFAqVSsV5Mb29vaWlpeyL0IiIiHHOmsIXuMHSarVFRUUMwwBAcnLynj17rFbrqFuyv29nRklOXLlypbCwkE3wAw88UFlZSe9Y9ARisAYGBioqKiZMmAAAYrG4uLi4q6tr1C1dGiW5dfTo0VmzZrHxWrJkyfnz571zXK4EXLDUavW0adPsc0jXrl0ba8uzZ886jpInT570Zp2EEIvF4ruLcAIrWFqtNiwsDACysrKqq6vH2czJUdIL9Hr9+vXrg4ODAeDtt9/mqwxXBVawsrOzAWDr1q1jvU/Hzls6jpLd3d1eLnJU9fX1MpkMAMZ5eSEowaOuV/Zva9asYd8MHubAgQMlJSXNzc0AUFBQsGvXLvvqUN7NnDkzPT1dr9fzXYizAjFYo3riiSeqqqoAYM6cORUVFQsXLuS7It+Gf6UzJC8vj10OqtFoMFWewzPWkE2bNr300kvs6lDkOTxjDQkNDRVOqsrKyl577TWDwcB3Ie7DYAnRJ598Ul5ebjKZ+C7EfRgsRAUGC1GBwUJUYLAQFRgsRAUGC1GBwUJUYLAQFRgsRAUGC1GBwUJUYLAQFRgsRAUGC1GBwUJUYLAQFRgsRAUGC1GBwUJUYLAQFRgsRAUGC1GBwUJU4F9CC5FMJuvp6WFvXeSjfLh0P3b69Gm+S/CUa8H6Y0uL46chItEbKSmc1sObI0eO7N27d/v27QkJCXzX4g9cu8ZS6/VmqzWSYdhHxGh3mfJRmzdv/vTTT9PT0z/44IPBwUG+y/F5Ll+8Px0fv0mhYB/FcjmNmnhRWVlZWFjY3d29efPmzMxMbBjuoQB6VWiz2bq7uwFg1Lu4sDe+Zu9VfPXq1SeffHLp0qX19fVeL3N0hBD2HiE6nY7vWpzj0o0l52k0jo/99+svKhz2tiIxMTHj36vd8V7FwcHBRUVFvN+r2N7lQCaThYWFlZaW9vX18VvSfbkcrEMGQ8udO+yj9+7dC2Yzpcq40tLS8tRTT9kbIdm71qSmpu7fv3+s7zIajcXFxewLfh4bht+4cWPt2rVs8UlJSY888ghb/JQpU/bt2+f9epzncrDOO3Q/O9fdPU+j+X1T01VB/gcym82jtm47evSovR/O4sWLx7k3f2Nj4+OPP85u6eWG4SO7HLD3b3Zsebdw4cLa2lqvleQSj4L1vwbDotraeRpNbk3NjtbWLiH1oh2/2aRL9+ZXq9WpqansrvLz8y9evOiF4u03bB7Z5YBtP8ZOi9y3SSdfXA9Wb6/jM10WywetrQ/V1MzTaBbX1X3Z2XmX7457zrfHNRqN9p6D4493bMPwqKgooNwwvLa21n5r3YyMjEOHDo21pfNthXnBTQOB5v7+ly9fZq/of9PQcHKM1jS06XQ6Nxp6X7p0aeXKlc6Md+7t30mO3cjZ+zc7s3PHRuhpaWnC6ejEZWeKY7dv/2N9PRuvV65cafPifyDPzyiHDx+eMWOGfby7cOHCWFty3jCcLT46OtpevMlkcrX4zMxMAHh45kzbsmWkvt7DkjzHccuTQZvty87Ox+5deH3Q2tpL/8KLq2ugkb/gcdLJVcNweybY4hsaGtwuvry8/GxuLgEgISFk40biYjq5RaWXjm5wcPv16/M1mnkazfLz57/W6Si1OLp06RLnr9och6Txxzuz2fzWW2+xXZ/Cw8O3bdvm0oEcR7H09PQDBw54XjwxGEhxMQkKIgAkNpZUVBCeXlFRbNLU0Nv7TGMjOzL+trFR4+7/xVHRnmdyHO/mzp177Nixsba0Nwxft26dkzsf2aic4+vuixfJ8uUEgACQjAxy8CCXO3cO3e5fNkIOG40FP/30DyoV20jy+vXrHu7TmzPjzo93x48f12q1990h543Kx6NWk2nThuJVUEDG7sxIgzfayvVZre/v3s22vo2IiHjnnXfcfkfC+31H2UZzjrOsbjeac5zb5LBR+XgGBkhFBYmKIgBELCbFxcRbL9i916+wra2NHTIAYNKkSSqVyubKjBe/nZLt4x37vpCrxY9sVO7St3tKqyVKJRGJCABJTiaNjV44prcbYf74449z5sxhf8S5ubmnT5++77cIp7f7mTNn7O/WzZ8//9SpU/f9FrPZ7M1G5eM5d47k5ZEZM4jF4oWj8dBh1fl3JGw2m0qlSkxMBACRSKRUKtvb271crdsl8diofEw2G/HWD5C31r09PT3281BkZGRpaemwV0b2hS7Onx68hj2J2q8aR56H7AtdACAnJ0eI/Xa/+YasXUuys8nq1aS8fGhWQqcjzz77i/Dt3UvKy93YPc89oS9fvmy/crK/I+HhBY3XOF72paamssULqlH5mN57jzAMef558tln5K23SFQUWbyYDA6Sq1cJwC8uwl5+mSxb5sYRBNFsvKqqavr06fapwvDwcPsViVnw672+//57+9R5RkYGW3xoaOibb77Z+8s37IXi2jUSFET+9Kefnzl+nACQjz/2t2ARQiwWy/r16xmGYSeyPXmTxPvsU2vsVMjIhS7CsmMHiYsjjudRm40oFKSwcChY1dWkrW3osW6dDwdLo9Hk5eXBPQsWLOC7IncYDIbm5uaamhq+C7mfDRtIbu7wJ3/3O5KXNxSsYQ+3gsXzH1Po9fqSkpLc3NyTJ09KpdLnnnsOAGJjY/mtyj2xsbFTpkzJzs7mu5D7iY2Fy5fBav3Fkw0NkJQ09HFdHfT3Dz1eesm9g/AWLIvFsnPnztTU1F27djEMU1xcfO3aNfubsoiirCwwmeDEiZ+fMRqhpgZyc4c+lUggNHTo4e6fjvITrCNHjmRlZb3yyivd3d35+fl1dXU7d+5k16sg6latgowM2LgRGhqAELh5E5RKSEiAF1/k8CDeDha7XHPZsmWNjY3sQhfHFXbIG4KC4PvvYeJEmDULJBKQy8FggNOnITJyaAORiIOjcHAx6BxnFrp88803ALBq1SqvVRXQDAZy5gwxGGjs2xt3m7ES8tkXX2zZuNFoNAYHB2/YsGHbtm0+eoXuV2Jj4aGHKO2berDO9fSUt7Xd6e01Go1Lliz58MMP7X/Th/wYxWC1DgxU3Lhx/PZtAFA89tjB6uoVixbROxwSFCrB6rfZvujo+LyjY5CQMIZRJiQ8k5goZgLoBiSI42ARgCqDYZdWa7BYRAArpdISuVwaEsLtUZDwcRmsC2bzjra2erMZADIjIl5TKGZFRHC4f+RDuAnWLYvl37XagwYDAYgPCVkvl6+USrmYDEG+ytNg3bHZ/vvWrU/b2/tsNgnD/FN8/HNJSeF4ORXwPLq5rcFiudrf3zk4KAL4dWxsiVyeIBZzWh7yVa4FS63XL42JSbh3Md7DMJ2Dg9PDw19VKOba3xDwQMxDD634619nJiZ6vivEL5eHwqfj42c7ZOhEV9ej0dFcjXwkPFyXktI/cSJH+0O88fQa61e4JAGNxuVgPdvUZP/4D5Mnr5LJOK0H+QmXg7V96tSMe7NTUl9u9oKocjkZSWJxikRCoxTkT3DCCVHherA4WV6I/J1rQ6Fm3jxKdSA/g0MhogKDhajAYCEqMFiICgwWogKDhagQVrAig4JSw8KScFGX7xMRQviuAfkhAb2LPGx5aohI9EZKCl/FIA8JaChU6/VmqzWSYdhHhLs30EFCIKAzFoxYnop8l4DOWMifCOjiPaemxvFTXJ7q04Q1FOLyVL8hrF8eLk/1G3iNhagQWLBweaq/ENDFO/InAjtjIX+BwUJUYLAQFf8PkxX3WMDe72kAAAAASUVORK5CYII=\" alt=\"Mol\"/></td>\n",
       "      <td>20.23</td>\n",
       "      <td>3.4298</td>\n",
       "      <td>0.676674</td>\n",
       "    </tr>\n",
       "  </tbody>\n",
       "</table>\n",
       "</div>"
      ],
      "text/plain": [
       "          ID                                              ROMol   TPSA  \\\n",
       "88  87564757  <img data-content=\"rdkit/molecule\" src=\"data:i...  20.23   \n",
       "\n",
       "    MolLogP       qed  \n",
       "88   3.4298  0.676674  "
      ]
     },
     "execution_count": 13,
     "metadata": {},
     "output_type": "execute_result"
    }
   ],
   "source": [
    "df[\"TPSA\"] = df[\"ROMol\"].map(Descriptors.TPSA)\n",
    "df[\"MolLogP\"] = df[\"ROMol\"].map(Descriptors.MolLogP)\n",
    "df[\"qed\"] = df[\"ROMol\"].map(Descriptors.qed)\n",
    "df.sample(1)"
   ]
  },
  {
   "cell_type": "code",
   "execution_count": 14,
   "id": "af67c957",
   "metadata": {},
   "outputs": [
    {
     "data": {
      "text/plain": [
       "array([[<AxesSubplot:title={'center':'qed'}>]], dtype=object)"
      ]
     },
     "execution_count": 14,
     "metadata": {},
     "output_type": "execute_result"
    },
    {
     "data": {
      "image/png": "[encoded data removed]",
      "text/plain": [
       "<Figure size 432x288 with 1 Axes>"
      ]
     },
     "metadata": {
      "needs_background": "light"
     },
     "output_type": "display_data"
    }
   ],
   "source": [
    "df.hist('qed')"
   ]
  },
  {
   "cell_type": "code",
   "execution_count": 15,
   "id": "72ae12c7",
   "metadata": {},
   "outputs": [
    {
     "data": {
      "text/plain": [
       "<AxesSubplot:xlabel='MolLogP', ylabel='qed'>"
      ]
     },
     "execution_count": 15,
     "metadata": {},
     "output_type": "execute_result"
    },
    {
     "data": {
      "image/png": "[encoded data removed]",
      "text/plain": [
       "<Figure size 432x288 with 1 Axes>"
      ]
     },
     "metadata": {
      "needs_background": "light"
     },
     "output_type": "display_data"
    }
   ],
   "source": [
    "df.plot(kind='scatter', x='MolLogP', y='qed')"
   ]
  },
  {
   "cell_type": "markdown",
   "id": "97d852c0",
   "metadata": {},
   "source": [
    "## morganfingerprintを表示"
   ]
  },
  {
   "cell_type": "code",
   "execution_count": 16,
   "id": "b8bacb9a",
   "metadata": {},
   "outputs": [
    {
     "name": "stdout",
     "output_type": "stream",
     "text": [
      "(117, 2048)\n"
     ]
    }
   ],
   "source": [
    "import numpy as np\n",
    "\n",
    "fingerprints = []\n",
    "safe = []\n",
    "for mol_idx, mol in enumerate(df[\"ROMol\"]):\n",
    "    try:\n",
    "        fingerprint = [x for x in AllChem.GetMorganFingerprintAsBitVect(mol, 2, 2048)]\n",
    "        fingerprints.append(fingerprint)\n",
    "        safe.append(mol_idx)\n",
    "        \n",
    "    except:\n",
    "        print(\"Error\", mol_idx)\n",
    "        continue\n",
    "fingerprints = np.array(fingerprints)\n",
    "print(fingerprints.shape)\n",
    "df_fp = pd.DataFrame(fingerprints)"
   ]
  },
  {
   "cell_type": "code",
   "execution_count": 17,
   "id": "262e4b30",
   "metadata": {},
   "outputs": [
    {
     "data": {
      "text/html": [
       "<div>\n",
       "<style scoped>\n",
       "    .dataframe tbody tr th:only-of-type {\n",
       "        vertical-align: middle;\n",
       "    }\n",
       "\n",
       "    .dataframe tbody tr th {\n",
       "        vertical-align: top;\n",
       "    }\n",
       "\n",
       "    .dataframe thead th {\n",
       "        text-align: right;\n",
       "    }\n",
       "</style>\n",
       "<table border=\"1\" class=\"dataframe\">\n",
       "  <thead>\n",
       "    <tr style=\"text-align: right;\">\n",
       "      <th></th>\n",
       "      <th>0</th>\n",
       "      <th>1</th>\n",
       "      <th>2</th>\n",
       "      <th>3</th>\n",
       "      <th>4</th>\n",
       "      <th>5</th>\n",
       "      <th>6</th>\n",
       "      <th>7</th>\n",
       "      <th>8</th>\n",
       "      <th>9</th>\n",
       "      <th>...</th>\n",
       "      <th>2038</th>\n",
       "      <th>2039</th>\n",
       "      <th>2040</th>\n",
       "      <th>2041</th>\n",
       "      <th>2042</th>\n",
       "      <th>2043</th>\n",
       "      <th>2044</th>\n",
       "      <th>2045</th>\n",
       "      <th>2046</th>\n",
       "      <th>2047</th>\n",
       "    </tr>\n",
       "  </thead>\n",
       "  <tbody>\n",
       "    <tr>\n",
       "      <th>0</th>\n",
       "      <td>0</td>\n",
       "      <td>1</td>\n",
       "      <td>0</td>\n",
       "      <td>0</td>\n",
       "      <td>0</td>\n",
       "      <td>0</td>\n",
       "      <td>0</td>\n",
       "      <td>0</td>\n",
       "      <td>0</td>\n",
       "      <td>0</td>\n",
       "      <td>...</td>\n",
       "      <td>0</td>\n",
       "      <td>0</td>\n",
       "      <td>0</td>\n",
       "      <td>0</td>\n",
       "      <td>0</td>\n",
       "      <td>0</td>\n",
       "      <td>0</td>\n",
       "      <td>0</td>\n",
       "      <td>0</td>\n",
       "      <td>0</td>\n",
       "    </tr>\n",
       "    <tr>\n",
       "      <th>1</th>\n",
       "      <td>0</td>\n",
       "      <td>0</td>\n",
       "      <td>0</td>\n",
       "      <td>0</td>\n",
       "      <td>0</td>\n",
       "      <td>0</td>\n",
       "      <td>0</td>\n",
       "      <td>0</td>\n",
       "      <td>0</td>\n",
       "      <td>0</td>\n",
       "      <td>...</td>\n",
       "      <td>0</td>\n",
       "      <td>0</td>\n",
       "      <td>0</td>\n",
       "      <td>0</td>\n",
       "      <td>0</td>\n",
       "      <td>0</td>\n",
       "      <td>0</td>\n",
       "      <td>0</td>\n",
       "      <td>0</td>\n",
       "      <td>0</td>\n",
       "    </tr>\n",
       "    <tr>\n",
       "      <th>2</th>\n",
       "      <td>0</td>\n",
       "      <td>0</td>\n",
       "      <td>0</td>\n",
       "      <td>0</td>\n",
       "      <td>0</td>\n",
       "      <td>0</td>\n",
       "      <td>0</td>\n",
       "      <td>0</td>\n",
       "      <td>0</td>\n",
       "      <td>0</td>\n",
       "      <td>...</td>\n",
       "      <td>0</td>\n",
       "      <td>0</td>\n",
       "      <td>0</td>\n",
       "      <td>0</td>\n",
       "      <td>0</td>\n",
       "      <td>0</td>\n",
       "      <td>0</td>\n",
       "      <td>0</td>\n",
       "      <td>0</td>\n",
       "      <td>0</td>\n",
       "    </tr>\n",
       "    <tr>\n",
       "      <th>3</th>\n",
       "      <td>0</td>\n",
       "      <td>0</td>\n",
       "      <td>0</td>\n",
       "      <td>0</td>\n",
       "      <td>0</td>\n",
       "      <td>0</td>\n",
       "      <td>0</td>\n",
       "      <td>0</td>\n",
       "      <td>0</td>\n",
       "      <td>0</td>\n",
       "      <td>...</td>\n",
       "      <td>0</td>\n",
       "      <td>0</td>\n",
       "      <td>0</td>\n",
       "      <td>0</td>\n",
       "      <td>0</td>\n",
       "      <td>0</td>\n",
       "      <td>0</td>\n",
       "      <td>0</td>\n",
       "      <td>0</td>\n",
       "      <td>0</td>\n",
       "    </tr>\n",
       "    <tr>\n",
       "      <th>4</th>\n",
       "      <td>0</td>\n",
       "      <td>1</td>\n",
       "      <td>0</td>\n",
       "      <td>0</td>\n",
       "      <td>0</td>\n",
       "      <td>0</td>\n",
       "      <td>0</td>\n",
       "      <td>0</td>\n",
       "      <td>0</td>\n",
       "      <td>0</td>\n",
       "      <td>...</td>\n",
       "      <td>0</td>\n",
       "      <td>0</td>\n",
       "      <td>0</td>\n",
       "      <td>0</td>\n",
       "      <td>0</td>\n",
       "      <td>0</td>\n",
       "      <td>0</td>\n",
       "      <td>0</td>\n",
       "      <td>0</td>\n",
       "      <td>0</td>\n",
       "    </tr>\n",
       "    <tr>\n",
       "      <th>...</th>\n",
       "      <td>...</td>\n",
       "      <td>...</td>\n",
       "      <td>...</td>\n",
       "      <td>...</td>\n",
       "      <td>...</td>\n",
       "      <td>...</td>\n",
       "      <td>...</td>\n",
       "      <td>...</td>\n",
       "      <td>...</td>\n",
       "      <td>...</td>\n",
       "      <td>...</td>\n",
       "      <td>...</td>\n",
       "      <td>...</td>\n",
       "      <td>...</td>\n",
       "      <td>...</td>\n",
       "      <td>...</td>\n",
       "      <td>...</td>\n",
       "      <td>...</td>\n",
       "      <td>...</td>\n",
       "      <td>...</td>\n",
       "      <td>...</td>\n",
       "    </tr>\n",
       "    <tr>\n",
       "      <th>112</th>\n",
       "      <td>0</td>\n",
       "      <td>0</td>\n",
       "      <td>0</td>\n",
       "      <td>0</td>\n",
       "      <td>0</td>\n",
       "      <td>0</td>\n",
       "      <td>0</td>\n",
       "      <td>0</td>\n",
       "      <td>0</td>\n",
       "      <td>0</td>\n",
       "      <td>...</td>\n",
       "      <td>0</td>\n",
       "      <td>0</td>\n",
       "      <td>0</td>\n",
       "      <td>0</td>\n",
       "      <td>0</td>\n",
       "      <td>0</td>\n",
       "      <td>0</td>\n",
       "      <td>1</td>\n",
       "      <td>0</td>\n",
       "      <td>0</td>\n",
       "    </tr>\n",
       "    <tr>\n",
       "      <th>113</th>\n",
       "      <td>0</td>\n",
       "      <td>0</td>\n",
       "      <td>0</td>\n",
       "      <td>0</td>\n",
       "      <td>0</td>\n",
       "      <td>0</td>\n",
       "      <td>0</td>\n",
       "      <td>0</td>\n",
       "      <td>0</td>\n",
       "      <td>0</td>\n",
       "      <td>...</td>\n",
       "      <td>0</td>\n",
       "      <td>0</td>\n",
       "      <td>0</td>\n",
       "      <td>0</td>\n",
       "      <td>0</td>\n",
       "      <td>0</td>\n",
       "      <td>0</td>\n",
       "      <td>0</td>\n",
       "      <td>0</td>\n",
       "      <td>0</td>\n",
       "    </tr>\n",
       "    <tr>\n",
       "      <th>114</th>\n",
       "      <td>0</td>\n",
       "      <td>0</td>\n",
       "      <td>0</td>\n",
       "      <td>0</td>\n",
       "      <td>0</td>\n",
       "      <td>0</td>\n",
       "      <td>0</td>\n",
       "      <td>0</td>\n",
       "      <td>0</td>\n",
       "      <td>0</td>\n",
       "      <td>...</td>\n",
       "      <td>0</td>\n",
       "      <td>0</td>\n",
       "      <td>0</td>\n",
       "      <td>0</td>\n",
       "      <td>0</td>\n",
       "      <td>0</td>\n",
       "      <td>0</td>\n",
       "      <td>1</td>\n",
       "      <td>0</td>\n",
       "      <td>0</td>\n",
       "    </tr>\n",
       "    <tr>\n",
       "      <th>115</th>\n",
       "      <td>0</td>\n",
       "      <td>0</td>\n",
       "      <td>0</td>\n",
       "      <td>0</td>\n",
       "      <td>0</td>\n",
       "      <td>0</td>\n",
       "      <td>0</td>\n",
       "      <td>0</td>\n",
       "      <td>0</td>\n",
       "      <td>0</td>\n",
       "      <td>...</td>\n",
       "      <td>0</td>\n",
       "      <td>0</td>\n",
       "      <td>0</td>\n",
       "      <td>0</td>\n",
       "      <td>0</td>\n",
       "      <td>0</td>\n",
       "      <td>0</td>\n",
       "      <td>0</td>\n",
       "      <td>0</td>\n",
       "      <td>0</td>\n",
       "    </tr>\n",
       "    <tr>\n",
       "      <th>116</th>\n",
       "      <td>0</td>\n",
       "      <td>0</td>\n",
       "      <td>0</td>\n",
       "      <td>0</td>\n",
       "      <td>0</td>\n",
       "      <td>0</td>\n",
       "      <td>0</td>\n",
       "      <td>0</td>\n",
       "      <td>0</td>\n",
       "      <td>0</td>\n",
       "      <td>...</td>\n",
       "      <td>0</td>\n",
       "      <td>0</td>\n",
       "      <td>0</td>\n",
       "      <td>0</td>\n",
       "      <td>0</td>\n",
       "      <td>0</td>\n",
       "      <td>0</td>\n",
       "      <td>0</td>\n",
       "      <td>0</td>\n",
       "      <td>0</td>\n",
       "    </tr>\n",
       "  </tbody>\n",
       "</table>\n",
       "<p>117 rows × 2048 columns</p>\n",
       "</div>"
      ],
      "text/plain": [
       "     0     1     2     3     4     5     6     7     8     9     ...  2038  \\\n",
       "0       0     1     0     0     0     0     0     0     0     0  ...     0   \n",
       "1       0     0     0     0     0     0     0     0     0     0  ...     0   \n",
       "2       0     0     0     0     0     0     0     0     0     0  ...     0   \n",
       "3       0     0     0     0     0     0     0     0     0     0  ...     0   \n",
       "4       0     1     0     0     0     0     0     0     0     0  ...     0   \n",
       "..    ...   ...   ...   ...   ...   ...   ...   ...   ...   ...  ...   ...   \n",
       "112     0     0     0     0     0     0     0     0     0     0  ...     0   \n",
       "113     0     0     0     0     0     0     0     0     0     0  ...     0   \n",
       "114     0     0     0     0     0     0     0     0     0     0  ...     0   \n",
       "115     0     0     0     0     0     0     0     0     0     0  ...     0   \n",
       "116     0     0     0     0     0     0     0     0     0     0  ...     0   \n",
       "\n",
       "     2039  2040  2041  2042  2043  2044  2045  2046  2047  \n",
       "0       0     0     0     0     0     0     0     0     0  \n",
       "1       0     0     0     0     0     0     0     0     0  \n",
       "2       0     0     0     0     0     0     0     0     0  \n",
       "3       0     0     0     0     0     0     0     0     0  \n",
       "4       0     0     0     0     0     0     0     0     0  \n",
       "..    ...   ...   ...   ...   ...   ...   ...   ...   ...  \n",
       "112     0     0     0     0     0     0     1     0     0  \n",
       "113     0     0     0     0     0     0     0     0     0  \n",
       "114     0     0     0     0     0     0     1     0     0  \n",
       "115     0     0     0     0     0     0     0     0     0  \n",
       "116     0     0     0     0     0     0     0     0     0  \n",
       "\n",
       "[117 rows x 2048 columns]"
      ]
     },
     "execution_count": 17,
     "metadata": {},
     "output_type": "execute_result"
    }
   ],
   "source": [
    "df_fp"
   ]
  },
  {
   "cell_type": "code",
   "execution_count": 18,
   "id": "d77aad7f",
   "metadata": {},
   "outputs": [
    {
     "data": {
      "text/html": [
       "<div>\n",
       "<style scoped>\n",
       "    .dataframe tbody tr th:only-of-type {\n",
       "        vertical-align: middle;\n",
       "    }\n",
       "\n",
       "    .dataframe tbody tr th {\n",
       "        vertical-align: top;\n",
       "    }\n",
       "\n",
       "    .dataframe thead th {\n",
       "        text-align: right;\n",
       "    }\n",
       "</style>\n",
       "<table border=\"1\" class=\"dataframe\">\n",
       "  <thead>\n",
       "    <tr style=\"text-align: right;\">\n",
       "      <th></th>\n",
       "      <th>0</th>\n",
       "      <th>1</th>\n",
       "      <th>2</th>\n",
       "      <th>3</th>\n",
       "      <th>4</th>\n",
       "      <th>5</th>\n",
       "      <th>6</th>\n",
       "      <th>7</th>\n",
       "      <th>8</th>\n",
       "      <th>9</th>\n",
       "      <th>...</th>\n",
       "      <th>2039</th>\n",
       "      <th>2040</th>\n",
       "      <th>2041</th>\n",
       "      <th>2042</th>\n",
       "      <th>2043</th>\n",
       "      <th>2044</th>\n",
       "      <th>2045</th>\n",
       "      <th>2046</th>\n",
       "      <th>2047</th>\n",
       "      <th>ID</th>\n",
       "    </tr>\n",
       "  </thead>\n",
       "  <tbody>\n",
       "    <tr>\n",
       "      <th>0</th>\n",
       "      <td>0</td>\n",
       "      <td>1</td>\n",
       "      <td>0</td>\n",
       "      <td>0</td>\n",
       "      <td>0</td>\n",
       "      <td>0</td>\n",
       "      <td>0</td>\n",
       "      <td>0</td>\n",
       "      <td>0</td>\n",
       "      <td>0</td>\n",
       "      <td>...</td>\n",
       "      <td>0</td>\n",
       "      <td>0</td>\n",
       "      <td>0</td>\n",
       "      <td>0</td>\n",
       "      <td>0</td>\n",
       "      <td>0</td>\n",
       "      <td>0</td>\n",
       "      <td>0</td>\n",
       "      <td>0</td>\n",
       "      <td>354335558</td>\n",
       "    </tr>\n",
       "    <tr>\n",
       "      <th>1</th>\n",
       "      <td>0</td>\n",
       "      <td>0</td>\n",
       "      <td>0</td>\n",
       "      <td>0</td>\n",
       "      <td>0</td>\n",
       "      <td>0</td>\n",
       "      <td>0</td>\n",
       "      <td>0</td>\n",
       "      <td>0</td>\n",
       "      <td>0</td>\n",
       "      <td>...</td>\n",
       "      <td>0</td>\n",
       "      <td>0</td>\n",
       "      <td>0</td>\n",
       "      <td>0</td>\n",
       "      <td>0</td>\n",
       "      <td>0</td>\n",
       "      <td>0</td>\n",
       "      <td>0</td>\n",
       "      <td>0</td>\n",
       "      <td>354335473</td>\n",
       "    </tr>\n",
       "    <tr>\n",
       "      <th>2</th>\n",
       "      <td>0</td>\n",
       "      <td>0</td>\n",
       "      <td>0</td>\n",
       "      <td>0</td>\n",
       "      <td>0</td>\n",
       "      <td>0</td>\n",
       "      <td>0</td>\n",
       "      <td>0</td>\n",
       "      <td>0</td>\n",
       "      <td>0</td>\n",
       "      <td>...</td>\n",
       "      <td>0</td>\n",
       "      <td>0</td>\n",
       "      <td>0</td>\n",
       "      <td>0</td>\n",
       "      <td>0</td>\n",
       "      <td>0</td>\n",
       "      <td>0</td>\n",
       "      <td>0</td>\n",
       "      <td>0</td>\n",
       "      <td>354335166</td>\n",
       "    </tr>\n",
       "    <tr>\n",
       "      <th>3</th>\n",
       "      <td>0</td>\n",
       "      <td>0</td>\n",
       "      <td>0</td>\n",
       "      <td>0</td>\n",
       "      <td>0</td>\n",
       "      <td>0</td>\n",
       "      <td>0</td>\n",
       "      <td>0</td>\n",
       "      <td>0</td>\n",
       "      <td>0</td>\n",
       "      <td>...</td>\n",
       "      <td>0</td>\n",
       "      <td>0</td>\n",
       "      <td>0</td>\n",
       "      <td>0</td>\n",
       "      <td>0</td>\n",
       "      <td>0</td>\n",
       "      <td>0</td>\n",
       "      <td>0</td>\n",
       "      <td>0</td>\n",
       "      <td>354334589</td>\n",
       "    </tr>\n",
       "    <tr>\n",
       "      <th>4</th>\n",
       "      <td>0</td>\n",
       "      <td>1</td>\n",
       "      <td>0</td>\n",
       "      <td>0</td>\n",
       "      <td>0</td>\n",
       "      <td>0</td>\n",
       "      <td>0</td>\n",
       "      <td>0</td>\n",
       "      <td>0</td>\n",
       "      <td>0</td>\n",
       "      <td>...</td>\n",
       "      <td>0</td>\n",
       "      <td>0</td>\n",
       "      <td>0</td>\n",
       "      <td>0</td>\n",
       "      <td>0</td>\n",
       "      <td>0</td>\n",
       "      <td>0</td>\n",
       "      <td>0</td>\n",
       "      <td>0</td>\n",
       "      <td>354334487</td>\n",
       "    </tr>\n",
       "  </tbody>\n",
       "</table>\n",
       "<p>5 rows × 2049 columns</p>\n",
       "</div>"
      ],
      "text/plain": [
       "   0  1  2  3  4  5  6  7  8  9  ...  2039  2040  2041  2042  2043  2044  \\\n",
       "0  0  1  0  0  0  0  0  0  0  0  ...     0     0     0     0     0     0   \n",
       "1  0  0  0  0  0  0  0  0  0  0  ...     0     0     0     0     0     0   \n",
       "2  0  0  0  0  0  0  0  0  0  0  ...     0     0     0     0     0     0   \n",
       "3  0  0  0  0  0  0  0  0  0  0  ...     0     0     0     0     0     0   \n",
       "4  0  1  0  0  0  0  0  0  0  0  ...     0     0     0     0     0     0   \n",
       "\n",
       "   2045  2046  2047         ID  \n",
       "0     0     0     0  354335558  \n",
       "1     0     0     0  354335473  \n",
       "2     0     0     0  354335166  \n",
       "3     0     0     0  354334589  \n",
       "4     0     0     0  354334487  \n",
       "\n",
       "[5 rows x 2049 columns]"
      ]
     },
     "execution_count": 18,
     "metadata": {},
     "output_type": "execute_result"
    }
   ],
   "source": [
    "df_fp['ID'] = df['ID']\n",
    "df_fp.head()"
   ]
  }
 ],
 "metadata": {
  "kernelspec": {
   "display_name": "Python 3 (ipykernel)",
   "language": "python",
   "name": "python3"
  },
  "language_info": {
   "codemirror_mode": {
    "name": "ipython",
    "version": 3
   },
   "file_extension": ".py",
   "mimetype": "text/x-python",
   "name": "python",
   "nbconvert_exporter": "python",
   "pygments_lexer": "ipython3",
   "version": "3.8.11"
  }
 },
 "nbformat": 4,
 "nbformat_minor": 5
}
