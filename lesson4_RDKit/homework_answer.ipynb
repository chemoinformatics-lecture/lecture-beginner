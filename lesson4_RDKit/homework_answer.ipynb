{
 "cells": [
  {
   "cell_type": "markdown",
   "id": "da35f185",
   "metadata": {},
   "source": [
    "# 問題１ 使用しているRDKitのバージョンを出力せよ。"
   ]
  },
  {
   "cell_type": "code",
   "execution_count": 1,
   "id": "20fcc489",
   "metadata": {},
   "outputs": [
    {
     "name": "stdout",
     "output_type": "stream",
     "text": [
      "2019.09.3\n"
     ]
    },
    {
     "name": "stderr",
     "output_type": "stream",
     "text": [
      "RDKit WARNING: [15:49:28] Enabling RDKit 2019.09.3 jupyter extensions\n",
      "[15:49:28] Enabling RDKit 2019.09.3 jupyter extensions\n"
     ]
    }
   ],
   "source": [
    "from rdkit import rdBase, Chem\n",
    "print(rdBase.rdkitVersion)"
   ]
  },
  {
   "cell_type": "markdown",
   "id": "337210b1",
   "metadata": {},
   "source": [
    "# 問題２ \"l-ascorbic acid\"をRDKitのmolファイルにしてjupyter notebook上に表示させよ。"
   ]
  },
  {
   "cell_type": "code",
   "execution_count": 2,
   "id": "bf01f757",
   "metadata": {},
   "outputs": [
    {
     "data": {
      "text/plain": [
       "[Compound(54670067)]"
      ]
     },
     "execution_count": 2,
     "metadata": {},
     "output_type": "execute_result"
    }
   ],
   "source": [
    "import pubchempy as pcp\n",
    "l_ascorbic_acid = pcp.get_compounds('l-ascorbic acid', 'name')\n",
    "l_ascorbic_acid"
   ]
  },
  {
   "cell_type": "code",
   "execution_count": 3,
   "id": "276f004f",
   "metadata": {},
   "outputs": [
    {
     "data": {
      "image/png": "[encoded data removed]",
      "text/plain": [
       "<rdkit.Chem.rdchem.Mol at 0x7fc640536400>"
      ]
     },
     "execution_count": 3,
     "metadata": {},
     "output_type": "execute_result"
    }
   ],
   "source": [
    "ascorbic_acid_mol = Chem.MolFromSmiles(l_ascorbic_acid[0].isomeric_smiles)\n",
    "ascorbic_acid_mol "
   ]
  },
  {
   "cell_type": "markdown",
   "id": "58cfa287",
   "metadata": {},
   "source": [
    "# 問題３\"l-ascorbic acid\"のBertzCTの値を示せ。"
   ]
  },
  {
   "cell_type": "code",
   "execution_count": 4,
   "id": "2d8a6f38",
   "metadata": {},
   "outputs": [],
   "source": [
    "from rdkit.Chem import Descriptors"
   ]
  },
  {
   "cell_type": "code",
   "execution_count": 5,
   "id": "2e8a201d",
   "metadata": {},
   "outputs": [
    {
     "data": {
      "text/plain": [
       "232.19280948873626"
      ]
     },
     "execution_count": 5,
     "metadata": {},
     "output_type": "execute_result"
    }
   ],
   "source": [
    "Descriptors.BertzCT(ascorbic_acid_mol)"
   ]
  },
  {
   "cell_type": "markdown",
   "id": "38a125ad",
   "metadata": {},
   "source": [
    "# 問題4 pubchemに示されたantioxidantのSDFファイルをダウンロードしてRDKitのPandasTools読み込め。また、読み込まれた中身のデータをランダムに列を1個表示させよ。行は、'PUBCHEM_COMPOUND_CID', 'ROMol'にすること。"
   ]
  },
  {
   "cell_type": "markdown",
   "id": "6e5826bf",
   "metadata": {},
   "source": [
    "https://pubchem.ncbi.nlm.nih.gov/#input_type=list&query=ZSLAZH_LGnctXRhEmjxRazUJ1Gmg6fGvi4rq45Cb-OKQgsQ&collection=compound&alias=ChemIDplus%3A%20Antioxidants"
   ]
  },
  {
   "cell_type": "code",
   "execution_count": 6,
   "id": "7c1b1e79",
   "metadata": {},
   "outputs": [],
   "source": [
    "from rdkit.Chem import PandasTools"
   ]
  },
  {
   "cell_type": "code",
   "execution_count": 7,
   "id": "d5f1a5b4",
   "metadata": {},
   "outputs": [
    {
     "data": {
      "text/html": [
       "<div>\n",
       "<style scoped>\n",
       "    .dataframe tbody tr th:only-of-type {\n",
       "        vertical-align: middle;\n",
       "    }\n",
       "\n",
       "    .dataframe tbody tr th {\n",
       "        vertical-align: top;\n",
       "    }\n",
       "\n",
       "    .dataframe thead th {\n",
       "        text-align: right;\n",
       "    }\n",
       "</style>\n",
       "<table border=\"1\" class=\"dataframe\">\n",
       "  <thead>\n",
       "    <tr style=\"text-align: right;\">\n",
       "      <th></th>\n",
       "      <th>PUBCHEM_COMPOUND_CID</th>\n",
       "      <th>ROMol</th>\n",
       "    </tr>\n",
       "  </thead>\n",
       "  <tbody>\n",
       "    <tr>\n",
       "      <th>99</th>\n",
       "      <td>5280343</td>\n",
       "      <td><img data-content=\"rdkit/molecule\" src=\"data:image/png;base64,iVBORw0KGgoAAAANSUhEUgAAAMgAAADICAIAAAAiOjnJAAAABmJLR0QA/wD/AP+gvaeTAAAXYklEQVR4nO3de1yUVf4H8M8MIzPcQURE1BAVkJuXWdJ1RddriuKu+QvTpIuWvKqXNzBxXRXLXmnKFq61JWsaZqZdJLXNjDQXhCw1AV1FI3AEQ0Hlfpnhcn5/HJoINIE5ZwL5vl/+Mc8A5/kOfjjzPOc5zxkFYwyEiKb8vQsg9ycKFpGCgkWkoGARKShYRAoKFpGCgkWkoGARKShYRAoKFpGCgkWkoGARKShYRAoKFpGCgkWkoGARKShYRAoKFpGCgkWkoGARKShYRAoKFpGCgkWkoGARKShYRAoKFpGCgkWkoGARKShYRAoKFpGCgkWkoGARKShYRAoKFpGCgkWkoGARKShYRAoKFpGCgkWkoGARKShYRAoKFpGCgkWkoGARKShYRAoKFpGCgkWkoGARKShYRAoKFpGCgkWkoGARKTp2sD77DHPmYO5cHDjwe5dC2kb1exdwd2lpiIlBXBwALFkCZ2eMHv1710RaqwP3WImJWLwYwcEIDkZkpFk7rWY95bFjOHGi8Usvv2y+MjqzDhysvDx4ezc+dnNDWZmZ9st7yueew7PP4sUXceIEMjNx4ULjV/ftM1MZnVwHfisMDcUnn2DkSDQ04MMPERqK0lJs24YpUxAYKHG/xp4SaOwp3d1x9iwSEwGYL9+dXAfusWbMwJkz8PODvz9KSjB5MjZsQHQ0Nm6Uu9879pQlJcjPR34+amvl7v1+oWCM/d41/KbUVPz734iNRY8euHYNnp6or8elSxgwQNYe338f6enYvBkNDXj2WYSGIjsb1tZYuBAAAgJw7pysXd9HOnCPxW3ahIQEvPEGALi7Y+5c1NdjyxaJe+Q95cCBGDy4sackbdfhe6wTJxAcjO7dodPB1hZZWfDzg0YDnQ49esjaaXk5AgJQW4uvv4aXl6y93Nc6fI81ejRGjcLt29i5EwB8fBASgqoqvPmmxJ0uXgydDq6u8PCQuJf7G+v4Pv2UAczDg9XWMsZYcjIDmLMzq6iQsrvERAYwjYadOyel/a6hw/dYAGbMgK8vrlzBRx8BQHBw1syZj/v4xO/aJX5fhYWIiACAzZvh7y++/a7j905262zfzgAWGMgaGhhj+/fvB9C/f/9a3oeJ0tDApk1jAJs0ie+ItFsnCVZNzecPPfSgn9+XX37JGGtoaBg8eDCADz74QORe3niDAczJiV29KrLZLqmTBIuxjRs3Apg4cSLfjI+PBzBkyJAGQV3LpYsXMwMCGMA++khIg11cpwlWaWmpg4MDgNOnTzPGampq3NzcACQlJZneuMFg+MMf/qDRaA5HR5veGmGdKFiMsRdeeAHAo48+yjdfeeUVAJMnTza95b///e8APDw8SktLTW+NsDYE69Ah9uijbM4c9umnjDF29ChLSWn80vr1UkprIT8/39LS0sLCIjs7mzFWXFxsZ2enUCguX75sSrOpqakWFhZKpfLrr78WUyhhzGLdunX3PnVMS8OKFVizBkFBWLkSfn44exYlJdBqAeD55/Hcc3LOWX/F3t7+ypUr33//fUNDg7e39549ewoLC8eNG1ddXV1YWKjX69VqtUajaVOblZWVU6dOvXnz5sqVKxcsWCCp8i6odZd0XngB/v544gkA2L0bGRlwd8elS43X0ZYuhU4nt8yfXbhwwd/f38nJqa6uzsrK6saNG82+QaPR9O7d2/Nnbm5ufNPDw0OpvMOg3fz583fu3Dls2LCTJ09aWlqa5UV0Ca2bj5WXh1mzGh+7uSElBe7ujTNJAHPOJPH19X3vvfd27Nhx7Nix4cOHx8XF6XS6q1ev6nS6K1eu6HS6ioqKnJycnJycZj9oZWX1QBP9+vXz8PC4dOnSzp07NRpNQkICpUqs1gWr5Zy77GyMG9c4kyQ+XmqJzRgMhmPHjjk7O+/du9fV1bXZV4uLi3/66aeCgoKcn/HN3NzcrKysrKyspt/crVs3AK+++mpAQID5XkDX0LpgzZiBd96Bnx8YQ0AAJk9GdjaKijBzJpYskVzhrxQUFERFRQHYsmVLy1QBcHJycnJy8vPza/Z8RUWFsVfjPZxOpzt37lxtbe2oUaPMUXpX04YD/Rs3WHHxL5vr1zOADRnC6upEn1Lc1cyZMwFMmzZNSGvLli0DsHDhQiGtkaZMGMeqrmb9+zOAvfWWuHp+y/vvvw/AwcEhLy9PSINZWVkKhcLW1paGr4QzbYD0o48YwLp3ZzdvCqrnroqKinr27Alg+/btApsdM2YMgG3btglskzABI++TJjGALV0qopjf8sgjjwAYP368iRcHDQZDQkLCvHnzeDu7d+8GMGTIEEFlkkYmB+v8eaZSMZVK6rS4AwcOALCxsfnxxx9NbKq2ttbd3R1AcnIyY6ympsbFxQU/X4Ikopg80c/PD08/jbo6LFtmalN3cfv27YiICACbNm3y9PQ0sTWVSvXUU08B2LZtGwC1Wh0eHm7cJMIICGdREXN0PKLVHvv8cwGttTBv3jwAY8eOFTVDRqfTWVhYqNXqwsJCRofwcoiZ3bB/2zYAXl5eer1eSING//nPfwBYW1ubeKW5malTpwJ47bXX+ObYsWMBvP322wJ30cWJCVZtba2/vz+AzZs3C2mQKy0t7du3b9MEiJKYmAjA29ub94J8IIMO4QUSNh8rKSkJgJ2d3U8//SSqTT7dYMSIEXWix2CNh/D//e9/GWN6vZ4fwp86dUrsjroskRP9pk+fDuDpp58W0trRo0cVCoVarT5//ryQBptZs2YNgMcee4xv8itFzzzzjIx9dUEig5Wdna1Wq5VK5XfffWdiUxUVFfwEcMOGDUJqa+nq1at0CC+P4KnJy5cvBzBq1CgTz+Cef/55AEOHDjUYDKJqaykkJATAP/7xD7755z//GcBb5rpCdX8TvHZDaWnpgAEDSkpK+vTp06NHD1tbW41GY29vb3xgY2NjZWXFH2g0GgcHB+MDa2trKysrBweHtLS04OBg3vMNGzZMYHnNHDhw4K9//au3t/fFixcVCsUHH3wwd+7cwMDAjIwMeTvtKsTmtLq62t3d3d7e3pSS1Go1gJiYGLG1tWQ8hD9+/DhjTK/X88uRpr+VE8Er+r3yyivXrl3z8fFJTU3V6/Xl5eXV1dUVFRXl5eU1NTXl5eXGBxUVFdXV1fxBTU1NWVmZ8YFCoQAwZMgQY7PHjx/X6XRP8LnR4qhUqgULFrz00kvx8fFjx461tLR8/PHHY2Nj4+Pjg4KCxO6ryxEY0qysLH7wnmK8gaddXn31VQABAQH19fWMMf7GZG9vX1RUJKjSX/BR+ODgYL6v7OxshUJhY2NDh/AmEhashoaGcePGAYiIiDCxKb1e379/fwB79uzhz/CB8qioKJPLvIOcnJymmw8++KBCofD391+8ePGOHTvOnDkj/HJCVyAsWPye9169et2+fZsxVlFRYcr/x/bt2wEMGjSInxVmZGQolUqNRnNV8qoKFRUVffv2tbGxadqpq1QqX1/fRx55JCYm5uDBg9evX299g8KHdjsLMcG6fv26k5MTgL179/JnnnvuucGDB7d7ILuuro4v+2GcghcWFiakO/xtixYtAuDn53fo0KGNGzfOnj3bx8fHwsKi2fFD3759Q0NDV69e/fHHH2dnZ//G2Iqfn5+vr294ePi2bdvOnz/P33C7AjHBmjNnDoApU6bwzW+//dbCwkKlUqWnp7e7zX379gHo3bt3ZWUlY+zSpUsqlUqlUmVlZQmpuaXU1FSlUqlSqZrNzdLr9efPn09ISFi8ePGf/vQnW1vbZjmzs7PTarXh4eFxcXEpKSm8YMZYeXl5s7vKHB0dJ0+evGbNmvz8fEmvooMQEKwvvvgCgLW1NZ+FV1tbO3ToUACrVq0ypdmGhobhw4cDiI2N5c/wS4dz5841veaWKisrBw0ahFYMc9TX11+6dGnfvn1/+9vfpk6d2rt372Y5U6lUI0aM8PDwCAkJWb9+/bvvvrtx48bw8HBfX1/j9/zwww8yXkXHYWqwqqqqBgwYgCbzGjZs2ABg4MCBVVVVJjb++eefA+jRowc/R8vPz7eyslIqlWfPnjWx5ZaWLFkCIDAwsB2HhsXFxSkpKXFxceHh4VqtVq1We7VYEtfGxsbHxyc0NPSpJ588PHiwPiCAabVs5EhmQqfekZkarOjoaD40wI+yc3Nz+ZEvXyHNdPwyi7EXWbp0KYDQ0FAhjRulpaXx924hE5SrqqqOHDnyxBNPBAQE2NnZNUvYRIA1+Zfj5paQkHD69OmamhrTd91xmBSszMzMbt26KZXKtLQ0/sy0adMAhIeHi6iNMcZSUlIA2Nra3rhxgzFWVFTE/6tSU1NF7YJVVo4ZORLAmjVrhLXZRGlpaXJycnR09IgRI2xtbacADEgDHgcY8O3PgevWrZuvr++CBQu2bt2akpLS2QfS2h+s+vp6fg/xokWL+DN8ulz37t15CEThl4qNg1h8uktwcLCwHSxbdtvRcVVYmHnGq/K3b2dAhUZz0d6+abBa6tGjR0hISExMzIcffnj+/Pk7nnvOnTs3LCxs9erVu3fv/u6770pKSszwElqj/cF64403ALi5ufEXc+vWLX7P+44dO8SVx1iLQaySkhJnZ2cAR44cEdB6WhqzsGAqFTPbFL+8PNanj/GtsGzp0oMHD8bExEyZMqXleUBTdnZ2wcHBy5ctyx0/3tC3L/P0ZF5ek6ytm31bUFCQmV7Ib2pnsAoKChwdHQEkJibyZ/gp25gxY0Td8tDU7Nmz0eReeH7NR6vVmrqvqirm5cUAJudN8K7y81lSUs1nn1V+8UWzr1y/fv3IkSN8CM3T07Pl0kvNDtF+dHaOjIyMjIwMCwsbOnSotbW1kCUOTdfOYM2aNQtASEgI30xOTuazPS9cuCCutl9cvnxZpVJZWFhcvHiRMVZVVdW7d29XV1dTbzOMjGQA8/Vl1dViCm2LvXv38i5/+vTpd3u/MxgMxiG0oKAgjUYzGWBACvAXgAGnfg6cg63t8OHDIyIi9uzZY0hKYtHRLDqarVrFbt82/0tj7QsWHwWws7Pj7016vZ6P0Kxbt050eb/gPeKcOXP45pkzZypM/GQK878J/to///lPPkGoqe7du0+YMCEyMnLXrl0ZGRnN5jnW19fnvfMOA2rU6h+6dWsaLG46cAioa9Kllfv4NP6izLWiJ9fmYFVWVvIrxFu2bOHPvPjiiwC8vLyqZf7d80EshUIhZhCrpob5+jKArV4toLX2MhgMmZmZu3btioqKmjBhAj92bMrS0nL48OFPPfWU8byb3bjBBg0y5qYkKurH2NgjM2bEhIUtCQo6Z2n5vErFAD2wB2DADUCpVHp7e191cLjw5pvs8GFWUGCGl9bmYPH11rVaLb+8ys8NFQoFnysnFR/Emj59uoC2+BpM/v6sg40eXbt2LSkpiY+1+vr6Go+x9u/f/8s33brFTp9mp0+zzMxf/fDy5ezdd9nJkwww2Ntf79ePAeUWFv9nYTET0AEXPD0bE9mrF3voIRYdzfbuZXxyh+jFi9scrL1799rb269cudL4TF1dnZgTtHsxDmLxe7ZMUlHBFi/+vd4EW6+srOzEiRNvvvlmQWu6mdmz2TffsB9+YGr1Lwf4Li51r7+et2JFlaNj3bJlbOxY5uDQ9PCfPfMMS01lw4ez5GSWnMyGDWMpKez115lxBR5//3ZU3uY57/v37581a5abm1t2drZ1i3Nd2aKiouLi4gC4urq6uLi4ubm5uLj07NnT1dXV1dXV3dV1oosLXF3h4oIWhy8A8NlneP99KBSYPRt/+YuZi5fO+NmwSUlYsQIDB6KkBFOmICoK+PVnw+bkID0dGRlIT0dYGNLThS9e3OapyQ8//PDIkSNPnjy5detWfj3HnHJzcxsaGgAUFBQUFBRkZmY2/erABx74wfgrcHREr15wcUHPnujVCwMH4sEHERODuDgAWLIEzs4YPdrM9cvVbEXP997Dv/6FO/7xe3rC0xMPP9y4eeiQ8MWL23OXTlJS0uTJkx0dHXNycvg0LPM4fPhwSEiItbV1enq6jY1NYWFhQUFBUVFRUVERf+CsULyWkYHCQhQVNf91DB2KiROb/11u3my24s2nsBCWlnB0bMOPSPgY7PbcTDFp0qTx48cfO3bstddeW79+fTtaaIeqqip+s+HLL7/M57f07t2bz8+5s1u3GhN2/Tpu3IC9PQ4fbv53eV/q2bPNP3LHxYtN1I7jMsbYt99+y286aNM8XVPwhWiHDBnS/s8o3L2bLV/OGGP19WzhQnbokMDy7gfNFi82TfuvFYaGhgJYKn+RSMZYeno6H3k3aVpLWRkbN475+rLBg1lYGKNbJGRqf7AyMzOVSqWlpWWzu1yEq6ur02q1EHWXjtC/S3I3Js3H4lPdRS0vczexsbEA+vXrV15eLnVHRCCTgnX58uVu3boZrw3LoNPp+M0LBw8elLQLIoOpU5MXLlwIYPbs2UKqaYkfyclrn0hiarCuXbvGrw1///33Qgpqik8scXBwuHbtmvDGiVQCbv+KjIyEuM+3MSopKeEzKuljIzojAetj3bx5c8CAAWVlZcePH+fLD3O5ubl5eXk2Nja2trZqtdrBwUGj0VhZWbWy2YiIiPj4+JEjR/L7SE0skpibkHiuXbsWwOjRo5s+yT/BuyUHBwcXFxdPT8+AgACtVjtx4sRp06YdOHCg6c9+8803fCzjf//7n5AKiZmJCVZZWRlfsuyLJpO433rrreDgYK1W6+Xl9cADDzg5ObWcMGm0detW4w8ap6SuXbtWSHnE/IQtFbl58+YVK1ZotdpTp07xldPupqSkRK/XV1ZW8hVpSktLa2pq/Pz8+MRUAC+99FJMTMygQYMyMzPb+uHhpKMQldDq6uo+ffoA+Pjjj01p5/LlyxqNRqFQfPXVV6JqI+YncnHbt99++9lnn+3evXtgYKClpaWDg4OVlRVfuFatVtva2trY2KjVakdHR7VabW1tbW9vb2lpaW9vz7+N3082adKko0ePzp8//5133hFVGDE/kWuQ9urVS6lUVlVVHT9+vJ3VqFQKhaJnz56bNm0SWBgxP2HBqqysjIyMbGhoWLRo0dSpU/nKtlVVVXq9vri42GAwVFZWlpeXGwyG0tLS6urqmpqa0tJSg8FQXl5eWVlpMBiKi4vr6urWrl07ZsyYlverkM5FWLBWrVqVm5sbFBS0YcOGlkvgtZJer8fPy3GTTk3MMdapU6f++Mc/KhQK2Uv+k85CwIh2XV1dREREfX398uXLKVWEExCs2NjYs2fPenh4rF692vTWyP3B1LfC4pycvoGBVVVVX3755cSJE0WVRTo70w7eGXOKiPiqf/8jEyZQqkhTpvVYCQl48kk4O+PiRbi4iKuKdHomBOvWLQwejKIivPce5s0TWhXp9Ew4eF+2DEVFGDcOjz0mrh5yn2hvj/X115gwARoNzp3DgAGiqyKdXrt6rOpqPPMMGMO6dZQqckftCtamTfjxRwwdishI0fWQ+0S7hhuWLMH165g/HyrBH9BK7hutOMZqtljZsWOwtGxcWerll0Gj7eRO7tXlpKU1X6wsMxPW1o3B2rePgkXu6F7BSkzE4sUIDgaAyEgcOAB3d5w9i8REACgrk14g6ZzudfCelwdv78bHbm6NSeKLCObnt28RQdIV3CtYoaH45BMAaGjAhx8iNBQAxo3DokVYtAg0z5Pcxb2CNWMGzpyBnx/8/VFS0riMLiH30rqR93asl0q6NpG3fxFiRIttECkoWEQKChaRgoJFpKBgESkoWEQKChaRgoJFpKBgESkoWEQKChaRgoJFpKBgESkoWEQKChaRgoJFpKBgESkoWEQKChaRgoJFpKBgESkoWEQKChaRgoJFpKBgESkoWEQKChaRgoJFpKBgESkoWEQKChaRgoJFpKBgESkoWEQKChaRgoJFpKBgESkoWEQKChaRgoJFpKBgESkoWEQKChaRgoJFpKBgESkoWEQKChaRgoJFpKBgESkoWESK/wfBsxgkOhjW/wAAAABJRU5ErkJggg==\" alt=\"Mol\"/></td>\n",
       "    </tr>\n",
       "  </tbody>\n",
       "</table>\n",
       "</div>"
      ],
      "text/plain": [
       "   PUBCHEM_COMPOUND_CID                                              ROMol\n",
       "99              5280343  <img data-content=\"rdkit/molecule\" src=\"data:i..."
      ]
     },
     "execution_count": 7,
     "metadata": {},
     "output_type": "execute_result"
    }
   ],
   "source": [
    "df = PandasTools.LoadSDF('data/PubChem_compound_list_antioxidant.sdf')\n",
    "df = df[['PUBCHEM_COMPOUND_CID', 'ROMol']]\n",
    "df.sample(1)"
   ]
  },
  {
   "cell_type": "markdown",
   "id": "729ccf10",
   "metadata": {},
   "source": [
    "# 問題5 読み込んだSDFファイルのデータフレームに\"smiles\"の項目を追加し、ランダムに列を1個だけ表示せよ。"
   ]
  },
  {
   "cell_type": "code",
   "execution_count": 8,
   "id": "dc11ee3b",
   "metadata": {},
   "outputs": [],
   "source": [
    "df[\"smiles\"] = df[\"ROMol\"].map(Chem.MolToSmiles)"
   ]
  },
  {
   "cell_type": "code",
   "execution_count": 9,
   "id": "34b11476",
   "metadata": {},
   "outputs": [
    {
     "data": {
      "text/html": [
       "<div>\n",
       "<style scoped>\n",
       "    .dataframe tbody tr th:only-of-type {\n",
       "        vertical-align: middle;\n",
       "    }\n",
       "\n",
       "    .dataframe tbody tr th {\n",
       "        vertical-align: top;\n",
       "    }\n",
       "\n",
       "    .dataframe thead th {\n",
       "        text-align: right;\n",
       "    }\n",
       "</style>\n",
       "<table border=\"1\" class=\"dataframe\">\n",
       "  <thead>\n",
       "    <tr style=\"text-align: right;\">\n",
       "      <th></th>\n",
       "      <th>PUBCHEM_COMPOUND_CID</th>\n",
       "      <th>ROMol</th>\n",
       "      <th>smiles</th>\n",
       "    </tr>\n",
       "  </thead>\n",
       "  <tbody>\n",
       "    <tr>\n",
       "      <th>104</th>\n",
       "      <td>5281571</td>\n",
       "      <td><img data-content=\"rdkit/molecule\" src=\"data:image/png;base64,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\" alt=\"Mol\"/></td>\n",
       "      <td>O=c1cccc2cc(O)c(O)c(O)c2c1O</td>\n",
       "    </tr>\n",
       "  </tbody>\n",
       "</table>\n",
       "</div>"
      ],
      "text/plain": [
       "    PUBCHEM_COMPOUND_CID                                              ROMol  \\\n",
       "104              5281571  <img data-content=\"rdkit/molecule\" src=\"data:i...   \n",
       "\n",
       "                          smiles  \n",
       "104  O=c1cccc2cc(O)c(O)c(O)c2c1O  "
      ]
     },
     "execution_count": 9,
     "metadata": {},
     "output_type": "execute_result"
    }
   ],
   "source": [
    "df.sample(1)"
   ]
  },
  {
   "cell_type": "markdown",
   "id": "874bd322",
   "metadata": {},
   "source": [
    "# 問題6 読み込んだSDFファイルのデータベースの化合物の中で\"fr_Ar_OH\", の項目が１以上である化合物だけのデータフレームを作成して個数を比べよ。"
   ]
  },
  {
   "cell_type": "code",
   "execution_count": 10,
   "id": "ededf153",
   "metadata": {},
   "outputs": [
    {
     "data": {
      "text/html": [
       "<div>\n",
       "<style scoped>\n",
       "    .dataframe tbody tr th:only-of-type {\n",
       "        vertical-align: middle;\n",
       "    }\n",
       "\n",
       "    .dataframe tbody tr th {\n",
       "        vertical-align: top;\n",
       "    }\n",
       "\n",
       "    .dataframe thead th {\n",
       "        text-align: right;\n",
       "    }\n",
       "</style>\n",
       "<table border=\"1\" class=\"dataframe\">\n",
       "  <thead>\n",
       "    <tr style=\"text-align: right;\">\n",
       "      <th></th>\n",
       "      <th>PUBCHEM_COMPOUND_CID</th>\n",
       "      <th>ROMol</th>\n",
       "      <th>smiles</th>\n",
       "      <th>fr_Ar_OH</th>\n",
       "    </tr>\n",
       "  </thead>\n",
       "  <tbody>\n",
       "    <tr>\n",
       "      <th>17</th>\n",
       "      <td>4534</td>\n",
       "      <td><img data-content=\"rdkit/molecule\" src=\"data:image/png;base64,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\" alt=\"Mol\"/></td>\n",
       "      <td>CC(Cc1ccc(O)c(O)c1)C(C)Cc1ccc(O)c(O)c1</td>\n",
       "      <td>4</td>\n",
       "    </tr>\n",
       "  </tbody>\n",
       "</table>\n",
       "</div>"
      ],
      "text/plain": [
       "   PUBCHEM_COMPOUND_CID                                              ROMol  \\\n",
       "17                 4534  <img data-content=\"rdkit/molecule\" src=\"data:i...   \n",
       "\n",
       "                                    smiles  fr_Ar_OH  \n",
       "17  CC(Cc1ccc(O)c(O)c1)C(C)Cc1ccc(O)c(O)c1         4  "
      ]
     },
     "execution_count": 10,
     "metadata": {},
     "output_type": "execute_result"
    }
   ],
   "source": [
    "df[\"fr_Ar_OH\"] = df[\"ROMol\"].map(Descriptors.fr_Ar_OH)\n",
    "df_phenol = df[df['fr_Ar_OH'] > 1]\n",
    "df_phenol.sample(1)"
   ]
  },
  {
   "cell_type": "code",
   "execution_count": 11,
   "id": "f6af0e7e",
   "metadata": {},
   "outputs": [
    {
     "data": {
      "text/plain": [
       "122"
      ]
     },
     "execution_count": 11,
     "metadata": {},
     "output_type": "execute_result"
    }
   ],
   "source": [
    "# antioxidantのSDFにもともとあった個数\n",
    "len(df)"
   ]
  },
  {
   "cell_type": "code",
   "execution_count": 12,
   "id": "334bfe8f",
   "metadata": {},
   "outputs": [
    {
     "data": {
      "text/plain": [
       "33"
      ]
     },
     "execution_count": 12,
     "metadata": {},
     "output_type": "execute_result"
    }
   ],
   "source": [
    "# antioxidantのSDFにもともとあった中からフェノール 性OHを有するものの個数\n",
    "len(df_phenol)"
   ]
  }
 ],
 "metadata": {
  "kernelspec": {
   "display_name": "Python 3 (ipykernel)",
   "language": "python",
   "name": "python3"
  },
  "language_info": {
   "codemirror_mode": {
    "name": "ipython",
    "version": 3
   },
   "file_extension": ".py",
   "mimetype": "text/x-python",
   "name": "python",
   "nbconvert_exporter": "python",
   "pygments_lexer": "ipython3",
   "version": "3.8.11"
  }
 },
 "nbformat": 4,
 "nbformat_minor": 5
}
