{
 "cells": [
  {
   "cell_type": "markdown",
   "id": "a479d096",
   "metadata": {},
   "source": [
    "# 問題 'homework/train_data_soac.csv'にあるデータを読み込んで、データを三行表示せよ。"
   ]
  },
  {
   "cell_type": "code",
   "execution_count": null,
   "id": "05091025",
   "metadata": {},
   "outputs": [],
   "source": []
  },
  {
   "cell_type": "markdown",
   "id": "89cb4532",
   "metadata": {},
   "source": [
    "# 問題 \"AllChem.GetMorganFingerprintAsBitVect(mol, 2, 2048)\"を利用して、SMILESからfinger printを作成せよ。"
   ]
  },
  {
   "cell_type": "code",
   "execution_count": null,
   "id": "52230173",
   "metadata": {},
   "outputs": [],
   "source": []
  },
  {
   "cell_type": "markdown",
   "id": "e560dc97",
   "metadata": {},
   "source": [
    "# 問題 トレーニングデータとテストデータをテストデータ10%の割合で分割してトレーニングデータを\"from sklearn.ensemble import RandomForestRegressor\"を利用して学習せよ。"
   ]
  },
  {
   "cell_type": "code",
   "execution_count": null,
   "id": "4e668103",
   "metadata": {},
   "outputs": [],
   "source": []
  },
  {
   "cell_type": "markdown",
   "id": "cfeadc5b",
   "metadata": {},
   "source": [
    "# 問題 学習した結果のRSMEを表示せよ。"
   ]
  },
  {
   "cell_type": "code",
   "execution_count": null,
   "id": "64bcc093",
   "metadata": {},
   "outputs": [],
   "source": []
  },
  {
   "cell_type": "markdown",
   "id": "5323a117",
   "metadata": {},
   "source": [
    "# 問題 テストデータとトレーニングデータをplotして表示してみよ。"
   ]
  },
  {
   "cell_type": "code",
   "execution_count": null,
   "id": "8328c4ab",
   "metadata": {},
   "outputs": [],
   "source": []
  }
 ],
 "metadata": {
  "kernelspec": {
   "display_name": "Python 3 (ipykernel)",
   "language": "python",
   "name": "python3"
  },
  "language_info": {
   "codemirror_mode": {
    "name": "ipython",
    "version": 3
   },
   "file_extension": ".py",
   "mimetype": "text/x-python",
   "name": "python",
   "nbconvert_exporter": "python",
   "pygments_lexer": "ipython3",
   "version": "3.8.12"
  }
 },
 "nbformat": 4,
 "nbformat_minor": 5
}
