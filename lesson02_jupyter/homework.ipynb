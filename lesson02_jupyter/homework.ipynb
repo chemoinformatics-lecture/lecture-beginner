{
 "cells": [
  {
   "cell_type": "markdown",
   "id": "bcbb82b1",
   "metadata": {},
   "source": [
    "# 問題１ 使用しているPandasのバージョンを出力せよ。"
   ]
  },
  {
   "cell_type": "code",
   "execution_count": 1,
   "id": "fbe69723",
   "metadata": {},
   "outputs": [
    {
     "data": {
      "text/plain": [
       "'1.1.3'"
      ]
     },
     "execution_count": 1,
     "metadata": {},
     "output_type": "execute_result"
    }
   ],
   "source": [
    "import pandas as pd\n",
    "pd.__version__"
   ]
  },
  {
   "cell_type": "markdown",
   "id": "ffb2b9eb",
   "metadata": {},
   "source": [
    "# 問題２ csvファイルを読み込んで読み込んだ一行をjupyter notebook上に出力せよ。"
   ]
  },
  {
   "cell_type": "code",
   "execution_count": null,
   "id": "4357f794",
   "metadata": {},
   "outputs": [],
   "source": []
  },
  {
   "cell_type": "markdown",
   "id": "757ae851",
   "metadata": {},
   "source": [
    "# 問題３"
   ]
  },
  {
   "cell_type": "code",
   "execution_count": null,
   "id": "d0ab5c07",
   "metadata": {},
   "outputs": [],
   "source": []
  },
  {
   "cell_type": "markdown",
   "id": "90320d6b",
   "metadata": {},
   "source": [
    "# 問題４"
   ]
  },
  {
   "cell_type": "code",
   "execution_count": null,
   "id": "2e9f2867",
   "metadata": {},
   "outputs": [],
   "source": []
  },
  {
   "cell_type": "markdown",
   "id": "3bf793f5",
   "metadata": {},
   "source": [
    "# 問題５"
   ]
  },
  {
   "cell_type": "code",
   "execution_count": null,
   "id": "2c36ef89",
   "metadata": {},
   "outputs": [],
   "source": []
  }
 ],
 "metadata": {
  "kernelspec": {
   "display_name": "Python 3 (ipykernel)",
   "language": "python",
   "name": "python3"
  },
  "language_info": {
   "codemirror_mode": {
    "name": "ipython",
    "version": 3
   },
   "file_extension": ".py",
   "mimetype": "text/x-python",
   "name": "python",
   "nbconvert_exporter": "python",
   "pygments_lexer": "ipython3",
   "version": "3.8.11"
  }
 },
 "nbformat": 4,
 "nbformat_minor": 5
}
