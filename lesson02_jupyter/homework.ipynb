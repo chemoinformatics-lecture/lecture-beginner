{
 "cells": [
  {
   "cell_type": "markdown",
   "id": "bcbb82b1",
   "metadata": {},
   "source": [
    "# 問題１ Pandasをimportしてバージョンを出力せよ。"
   ]
  },
  {
   "cell_type": "code",
   "execution_count": null,
   "id": "ad423c33",
   "metadata": {},
   "outputs": [],
   "source": []
  },
  {
   "cell_type": "markdown",
   "id": "ffb2b9eb",
   "metadata": {},
   "source": [
    "# 問題２ csvファイルを読み込んで読み込んだ一行をjupyter notebook上に出力せよ。"
   ]
  },
  {
   "cell_type": "markdown",
   "id": "d6838f0d",
   "metadata": {},
   "source": [
    "http://phenol-explorer.eu/downloads\n",
    "の中の\"Structures for Polyphenol Metabolites (SMILES)\"を読み込んでみよ。"
   ]
  },
  {
   "cell_type": "code",
   "execution_count": null,
   "id": "bdf4cc0e",
   "metadata": {},
   "outputs": [],
   "source": []
  },
  {
   "cell_type": "markdown",
   "id": "757ae851",
   "metadata": {},
   "source": [
    "# 問題３読み込んだデータの欠損状態の確認せよ。"
   ]
  },
  {
   "cell_type": "code",
   "execution_count": null,
   "id": "42078ada",
   "metadata": {},
   "outputs": [],
   "source": []
  },
  {
   "cell_type": "markdown",
   "id": "90320d6b",
   "metadata": {},
   "source": [
    "# 問題４\"metabolite_class\"をone-hot表現に変更して1行表示せよ。"
   ]
  },
  {
   "cell_type": "code",
   "execution_count": null,
   "id": "e0497e0a",
   "metadata": {},
   "outputs": [],
   "source": []
  },
  {
   "cell_type": "markdown",
   "id": "3bf793f5",
   "metadata": {},
   "source": [
    "# 問題５\"molecular_weight\"の分布をhistgramで図示せよ。"
   ]
  },
  {
   "cell_type": "code",
   "execution_count": null,
   "id": "ed4e132a",
   "metadata": {},
   "outputs": [],
   "source": []
  }
 ],
 "metadata": {
  "kernelspec": {
   "display_name": "Python 3 (ipykernel)",
   "language": "python",
   "name": "python3"
  },
  "language_info": {
   "codemirror_mode": {
    "name": "ipython",
    "version": 3
   },
   "file_extension": ".py",
   "mimetype": "text/x-python",
   "name": "python",
   "nbconvert_exporter": "python",
   "pygments_lexer": "ipython3",
   "version": "3.8.11"
  }
 },
 "nbformat": 4,
 "nbformat_minor": 5
}
