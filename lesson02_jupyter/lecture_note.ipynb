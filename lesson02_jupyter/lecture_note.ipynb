{
 "cells": [
  {
   "cell_type": "markdown",
   "id": "09791f63",
   "metadata": {
    "slideshow": {
     "slide_type": "slide"
    }
   },
   "source": [
    "# 使用しているversionについて"
   ]
  },
  {
   "cell_type": "code",
   "execution_count": 1,
   "id": "aa93d06f",
   "metadata": {
    "slideshow": {
     "slide_type": "slide"
    }
   },
   "outputs": [],
   "source": [
    "# 一般的にpandasはpdと名前を付けてimportされる\n",
    "import pandas as pd"
   ]
  },
  {
   "cell_type": "code",
   "execution_count": 2,
   "id": "1bcfcd5b",
   "metadata": {},
   "outputs": [
    {
     "data": {
      "text/plain": [
       "'macOS-10.15.7-x86_64-i386-64bit'"
      ]
     },
     "execution_count": 2,
     "metadata": {},
     "output_type": "execute_result"
    }
   ],
   "source": [
    "import platform\n",
    "# 使用しているOSを表示\n",
    "platform.platform()"
   ]
  },
  {
   "cell_type": "code",
   "execution_count": 3,
   "id": "9d890213",
   "metadata": {},
   "outputs": [
    {
     "name": "stdout",
     "output_type": "stream",
     "text": [
      "Python 3.8.11\r\n"
     ]
    }
   ],
   "source": [
    "# pythonのバージョン確認\n",
    "!python -V"
   ]
  },
  {
   "cell_type": "code",
   "execution_count": 4,
   "id": "9bbdaf50",
   "metadata": {},
   "outputs": [
    {
     "data": {
      "text/plain": [
       "'1.1.3'"
      ]
     },
     "execution_count": 4,
     "metadata": {},
     "output_type": "execute_result"
    }
   ],
   "source": [
    "# panasのversion\n",
    "pd.__version__"
   ]
  },
  {
   "cell_type": "markdown",
   "id": "73c793e3",
   "metadata": {
    "slideshow": {
     "slide_type": "slide"
    }
   },
   "source": [
    "## Pandasについて\n",
    "- 公式ドキュメント：http://pandas.pydata.org/pandas-docs/stable/\n",
    "- pandasは、Pythonにおいて、データ解析を支援する機能を提供するライブラリである。\n",
    "- 特に、数表および時系列データを操作するためのデータ構造と演算を提供する。"
   ]
  },
  {
   "cell_type": "markdown",
   "id": "70b0d55d",
   "metadata": {
    "slideshow": {
     "slide_type": "slide"
    }
   },
   "source": [
    "## 参考リンク（もうちょっといろいろ知りたい人用）\n",
    "\n",
    "**全般的に**\n",
    "- [データ分析で頻出のPandas基本操作 - qiita](https://qiita.com/ysdyt/items/9ccca82fc5b504e7913a)\n",
    "    - 基本操作についてまとめてくれている。\n",
    "\n",
    "**基本操作系**\n",
    "- [Pandas Cheet Sheet - GitHub](https://github.com/pandas-dev/pandas/blob/master/doc/cheatsheet/Pandas_Cheat_Sheet.pdf)\n",
    "    - 基本操作について1ページでまとめてくれているCheet Sheet\n",
    "    \n",
    "- [StatsFragments by @sinhrks](http://sinhrks.hatenablog.com/)\n",
    "    - 各種Pandasメソッドを図付きで詳細に解説してくれています。非常に参考になる。\n",
    "    \n",
    "**集計テクニック系**\n",
    "- [pandasで条件分岐(case when的な)によるデータ加工を網羅したい](https://qiita.com/Hyperion13fleet/items/98c31744e66ac1fc1e9f)\n",
    "    - SQLのcase whenのような条件分岐の処理をpandasでやりたいときが良くありますがなかなか難しい。そんなときのお助け記事。\n",
    "    \n",
    "**作図系**\n",
    "- [PythonでPandasのPlot機能を使えばデータ加工からグラフ作成までマジでシームレス - Qiita](https://qiita.com/hik0107/items/de5785f680096df93efa)\n",
    "    - Pandas Plotでできることの概要がわかります\n",
    "- [pythonで美しいグラフ描画 -seabornを使えばデータ分析と可視化が捗る その1 - Qiita](https://qiita.com/hik0107/items/3dc541158fceb3156ee0)\n",
    "    - Pandas Plot, matplotlibと比較して簡単に美しいプロットがかけるmatplotのラッパーseabornの概要がわかります "
   ]
  },
  {
   "cell_type": "markdown",
   "id": "e07d8505",
   "metadata": {
    "slideshow": {
     "slide_type": "slide"
    }
   },
   "source": [
    "# 目次\n",
    "\n",
    "# 1. データの読み込み\n",
    "# 2. データや統計量の表示\n",
    "# 3. データの欠損状態の確認\n",
    "# 4. データの並び替え\n",
    "# 5. データの追加\n",
    "# 6. データの表示\n",
    "# 7. データの出力"
   ]
  },
  {
   "cell_type": "markdown",
   "id": "0227d7ba",
   "metadata": {
    "slideshow": {
     "slide_type": "slide"
    }
   },
   "source": [
    "# 1. データの読み込み"
   ]
  },
  {
   "cell_type": "markdown",
   "id": "19b44f50",
   "metadata": {},
   "source": [
    "元のデータ\n",
    "\n",
    "http://phenol-explorer.eu/downloads\n",
    "\n",
    "Structures for Polyphenols having composition data (SMILES)をダウンロード\n",
    "して少しデータを追加したもの。"
   ]
  },
  {
   "cell_type": "code",
   "execution_count": 5,
   "id": "f9eea9f9",
   "metadata": {
    "slideshow": {
     "slide_type": "slide"
    }
   },
   "outputs": [],
   "source": [
    "df = pd.read_csv('data/output.csv', sep=',')"
   ]
  },
  {
   "cell_type": "markdown",
   "id": "d124fb6a",
   "metadata": {
    "slideshow": {
     "slide_type": "slide"
    }
   },
   "source": [
    "# 2. データや統計量の表示"
   ]
  },
  {
   "cell_type": "code",
   "execution_count": 6,
   "id": "0bd8584e",
   "metadata": {
    "slideshow": {
     "slide_type": "slide"
    }
   },
   "outputs": [
    {
     "data": {
      "text/html": [
       "<div>\n",
       "<style scoped>\n",
       "    .dataframe tbody tr th:only-of-type {\n",
       "        vertical-align: middle;\n",
       "    }\n",
       "\n",
       "    .dataframe tbody tr th {\n",
       "        vertical-align: top;\n",
       "    }\n",
       "\n",
       "    .dataframe thead th {\n",
       "        text-align: right;\n",
       "    }\n",
       "</style>\n",
       "<table border=\"1\" class=\"dataframe\">\n",
       "  <thead>\n",
       "    <tr style=\"text-align: right;\">\n",
       "      <th></th>\n",
       "      <th>id</th>\n",
       "      <th>smiles</th>\n",
       "      <th>compound_class</th>\n",
       "      <th>compound_subclass</th>\n",
       "      <th>name</th>\n",
       "      <th>molecular_weight</th>\n",
       "      <th>formula</th>\n",
       "      <th>cas_number</th>\n",
       "      <th>created_at</th>\n",
       "      <th>updated_at</th>\n",
       "      <th>MolLogP</th>\n",
       "      <th>qed</th>\n",
       "      <th>ExactMolWt</th>\n",
       "      <th>fr_phenol</th>\n",
       "      <th>fr_methoxy</th>\n",
       "      <th>fr_lactone</th>\n",
       "      <th>fr_urea</th>\n",
       "    </tr>\n",
       "  </thead>\n",
       "  <tbody>\n",
       "    <tr>\n",
       "      <th>0</th>\n",
       "      <td>3</td>\n",
       "      <td>COC1=CC(=CC(OC)=C1O)C1=[O+]C2=C(C=C1OC1OC(COC(...</td>\n",
       "      <td>Flavonoids</td>\n",
       "      <td>Anthocyanins</td>\n",
       "      <td>Malvidin 3-O-(6''-p-coumaroyl-glucoside)</td>\n",
       "      <td>639.58</td>\n",
       "      <td>C32H31O14</td>\n",
       "      <td>NaN</td>\n",
       "      <td>2005-09-07 11:07:11 UTC</td>\n",
       "      <td>2015-05-10 23:28:36 UTC</td>\n",
       "      <td>2.6635</td>\n",
       "      <td>0.079643</td>\n",
       "      <td>639.170832</td>\n",
       "      <td>4</td>\n",
       "      <td>2</td>\n",
       "      <td>0</td>\n",
       "      <td>0</td>\n",
       "    </tr>\n",
       "  </tbody>\n",
       "</table>\n",
       "</div>"
      ],
      "text/plain": [
       "   id                                             smiles compound_class  \\\n",
       "0   3  COC1=CC(=CC(OC)=C1O)C1=[O+]C2=C(C=C1OC1OC(COC(...     Flavonoids   \n",
       "\n",
       "  compound_subclass                                      name  \\\n",
       "0      Anthocyanins  Malvidin 3-O-(6''-p-coumaroyl-glucoside)   \n",
       "\n",
       "   molecular_weight    formula cas_number               created_at  \\\n",
       "0            639.58  C32H31O14        NaN  2005-09-07 11:07:11 UTC   \n",
       "\n",
       "                updated_at  MolLogP       qed  ExactMolWt  fr_phenol  \\\n",
       "0  2015-05-10 23:28:36 UTC   2.6635  0.079643  639.170832          4   \n",
       "\n",
       "   fr_methoxy  fr_lactone  fr_urea  \n",
       "0           2           0        0  "
      ]
     },
     "execution_count": 6,
     "metadata": {},
     "output_type": "execute_result"
    }
   ],
   "source": [
    "df.head(1) "
   ]
  },
  {
   "cell_type": "code",
   "execution_count": 7,
   "id": "856b2421",
   "metadata": {},
   "outputs": [
    {
     "data": {
      "text/html": [
       "<div>\n",
       "<style scoped>\n",
       "    .dataframe tbody tr th:only-of-type {\n",
       "        vertical-align: middle;\n",
       "    }\n",
       "\n",
       "    .dataframe tbody tr th {\n",
       "        vertical-align: top;\n",
       "    }\n",
       "\n",
       "    .dataframe thead th {\n",
       "        text-align: right;\n",
       "    }\n",
       "</style>\n",
       "<table border=\"1\" class=\"dataframe\">\n",
       "  <thead>\n",
       "    <tr style=\"text-align: right;\">\n",
       "      <th></th>\n",
       "      <th>id</th>\n",
       "      <th>smiles</th>\n",
       "      <th>compound_class</th>\n",
       "      <th>compound_subclass</th>\n",
       "      <th>name</th>\n",
       "      <th>molecular_weight</th>\n",
       "      <th>formula</th>\n",
       "      <th>cas_number</th>\n",
       "      <th>created_at</th>\n",
       "      <th>updated_at</th>\n",
       "      <th>MolLogP</th>\n",
       "      <th>qed</th>\n",
       "      <th>ExactMolWt</th>\n",
       "      <th>fr_phenol</th>\n",
       "      <th>fr_methoxy</th>\n",
       "      <th>fr_lactone</th>\n",
       "      <th>fr_urea</th>\n",
       "    </tr>\n",
       "  </thead>\n",
       "  <tbody>\n",
       "    <tr>\n",
       "      <th>491</th>\n",
       "      <td>730</td>\n",
       "      <td>COC1=CC(=CC=C1O)C(=O)C(O)CO</td>\n",
       "      <td>Other polyphenols</td>\n",
       "      <td>Hydroxybenzoketones</td>\n",
       "      <td>2,3-Dihydroxy-1-guaiacylpropanone</td>\n",
       "      <td>212.199</td>\n",
       "      <td>C10H12O5</td>\n",
       "      <td>NaN</td>\n",
       "      <td>2004-05-06 16:14:14 UTC</td>\n",
       "      <td>2015-05-10 23:29:00 UTC</td>\n",
       "      <td>-0.0633</td>\n",
       "      <td>0.608331</td>\n",
       "      <td>212.068473</td>\n",
       "      <td>1</td>\n",
       "      <td>1</td>\n",
       "      <td>0</td>\n",
       "      <td>0</td>\n",
       "    </tr>\n",
       "  </tbody>\n",
       "</table>\n",
       "</div>"
      ],
      "text/plain": [
       "      id                       smiles     compound_class    compound_subclass  \\\n",
       "491  730  COC1=CC(=CC=C1O)C(=O)C(O)CO  Other polyphenols  Hydroxybenzoketones   \n",
       "\n",
       "                                  name  molecular_weight   formula cas_number  \\\n",
       "491  2,3-Dihydroxy-1-guaiacylpropanone           212.199  C10H12O5        NaN   \n",
       "\n",
       "                  created_at               updated_at  MolLogP       qed  \\\n",
       "491  2004-05-06 16:14:14 UTC  2015-05-10 23:29:00 UTC  -0.0633  0.608331   \n",
       "\n",
       "     ExactMolWt  fr_phenol  fr_methoxy  fr_lactone  fr_urea  \n",
       "491  212.068473          1           1           0        0  "
      ]
     },
     "execution_count": 7,
     "metadata": {},
     "output_type": "execute_result"
    }
   ],
   "source": [
    "df.tail(1)"
   ]
  },
  {
   "cell_type": "code",
   "execution_count": 8,
   "id": "6630688b",
   "metadata": {},
   "outputs": [
    {
     "data": {
      "text/html": [
       "<div>\n",
       "<style scoped>\n",
       "    .dataframe tbody tr th:only-of-type {\n",
       "        vertical-align: middle;\n",
       "    }\n",
       "\n",
       "    .dataframe tbody tr th {\n",
       "        vertical-align: top;\n",
       "    }\n",
       "\n",
       "    .dataframe thead th {\n",
       "        text-align: right;\n",
       "    }\n",
       "</style>\n",
       "<table border=\"1\" class=\"dataframe\">\n",
       "  <thead>\n",
       "    <tr style=\"text-align: right;\">\n",
       "      <th></th>\n",
       "      <th>id</th>\n",
       "      <th>smiles</th>\n",
       "      <th>compound_class</th>\n",
       "      <th>compound_subclass</th>\n",
       "      <th>name</th>\n",
       "      <th>molecular_weight</th>\n",
       "      <th>formula</th>\n",
       "      <th>cas_number</th>\n",
       "      <th>created_at</th>\n",
       "      <th>updated_at</th>\n",
       "      <th>MolLogP</th>\n",
       "      <th>qed</th>\n",
       "      <th>ExactMolWt</th>\n",
       "      <th>fr_phenol</th>\n",
       "      <th>fr_methoxy</th>\n",
       "      <th>fr_lactone</th>\n",
       "      <th>fr_urea</th>\n",
       "    </tr>\n",
       "  </thead>\n",
       "  <tbody>\n",
       "    <tr>\n",
       "      <th>240</th>\n",
       "      <td>376</td>\n",
       "      <td>CC1OC(OC2=CC(O)=C3C(=O)C(OC4OC(CO)C(O)C(O)C4O)...</td>\n",
       "      <td>Flavonoids</td>\n",
       "      <td>Flavonols</td>\n",
       "      <td>Kaempferol 3-O-galactoside 7-O-rhamnoside</td>\n",
       "      <td>594.518</td>\n",
       "      <td>C27H30O15</td>\n",
       "      <td>NaN</td>\n",
       "      <td>2007-05-21 00:00:00 UTC</td>\n",
       "      <td>2015-05-10 23:28:49 UTC</td>\n",
       "      <td>-1.7438</td>\n",
       "      <td>0.153572</td>\n",
       "      <td>594.15847</td>\n",
       "      <td>2</td>\n",
       "      <td>0</td>\n",
       "      <td>0</td>\n",
       "      <td>0</td>\n",
       "    </tr>\n",
       "  </tbody>\n",
       "</table>\n",
       "</div>"
      ],
      "text/plain": [
       "      id                                             smiles compound_class  \\\n",
       "240  376  CC1OC(OC2=CC(O)=C3C(=O)C(OC4OC(CO)C(O)C(O)C4O)...     Flavonoids   \n",
       "\n",
       "    compound_subclass                                       name  \\\n",
       "240         Flavonols  Kaempferol 3-O-galactoside 7-O-rhamnoside   \n",
       "\n",
       "     molecular_weight    formula cas_number               created_at  \\\n",
       "240           594.518  C27H30O15        NaN  2007-05-21 00:00:00 UTC   \n",
       "\n",
       "                  updated_at  MolLogP       qed  ExactMolWt  fr_phenol  \\\n",
       "240  2015-05-10 23:28:49 UTC  -1.7438  0.153572   594.15847          2   \n",
       "\n",
       "     fr_methoxy  fr_lactone  fr_urea  \n",
       "240           0           0        0  "
      ]
     },
     "execution_count": 8,
     "metadata": {},
     "output_type": "execute_result"
    }
   ],
   "source": [
    "df.sample()"
   ]
  },
  {
   "cell_type": "code",
   "execution_count": 9,
   "id": "b5f5ec90",
   "metadata": {},
   "outputs": [
    {
     "data": {
      "text/html": [
       "<div>\n",
       "<style scoped>\n",
       "    .dataframe tbody tr th:only-of-type {\n",
       "        vertical-align: middle;\n",
       "    }\n",
       "\n",
       "    .dataframe tbody tr th {\n",
       "        vertical-align: top;\n",
       "    }\n",
       "\n",
       "    .dataframe thead th {\n",
       "        text-align: right;\n",
       "    }\n",
       "</style>\n",
       "<table border=\"1\" class=\"dataframe\">\n",
       "  <thead>\n",
       "    <tr style=\"text-align: right;\">\n",
       "      <th></th>\n",
       "      <th>id</th>\n",
       "      <th>molecular_weight</th>\n",
       "      <th>MolLogP</th>\n",
       "      <th>qed</th>\n",
       "      <th>ExactMolWt</th>\n",
       "      <th>fr_phenol</th>\n",
       "      <th>fr_methoxy</th>\n",
       "      <th>fr_lactone</th>\n",
       "      <th>fr_urea</th>\n",
       "    </tr>\n",
       "  </thead>\n",
       "  <tbody>\n",
       "    <tr>\n",
       "      <th>count</th>\n",
       "      <td>492.000000</td>\n",
       "      <td>492.000000</td>\n",
       "      <td>492.000000</td>\n",
       "      <td>492.000000</td>\n",
       "      <td>492.000000</td>\n",
       "      <td>492.000000</td>\n",
       "      <td>492.000000</td>\n",
       "      <td>492.000000</td>\n",
       "      <td>492.0</td>\n",
       "    </tr>\n",
       "    <tr>\n",
       "      <th>mean</th>\n",
       "      <td>376.518293</td>\n",
       "      <td>439.122771</td>\n",
       "      <td>1.026019</td>\n",
       "      <td>0.359583</td>\n",
       "      <td>439.823104</td>\n",
       "      <td>2.829268</td>\n",
       "      <td>0.632114</td>\n",
       "      <td>0.032520</td>\n",
       "      <td>0.0</td>\n",
       "    </tr>\n",
       "    <tr>\n",
       "      <th>std</th>\n",
       "      <td>211.994048</td>\n",
       "      <td>226.451341</td>\n",
       "      <td>2.510341</td>\n",
       "      <td>0.232284</td>\n",
       "      <td>227.173667</td>\n",
       "      <td>2.921114</td>\n",
       "      <td>1.077839</td>\n",
       "      <td>0.218678</td>\n",
       "      <td>0.0</td>\n",
       "    </tr>\n",
       "    <tr>\n",
       "      <th>min</th>\n",
       "      <td>3.000000</td>\n",
       "      <td>94.111200</td>\n",
       "      <td>-5.298300</td>\n",
       "      <td>0.016294</td>\n",
       "      <td>94.041865</td>\n",
       "      <td>0.000000</td>\n",
       "      <td>0.000000</td>\n",
       "      <td>0.000000</td>\n",
       "      <td>0.0</td>\n",
       "    </tr>\n",
       "    <tr>\n",
       "      <th>25%</th>\n",
       "      <td>220.750000</td>\n",
       "      <td>302.225250</td>\n",
       "      <td>-0.519700</td>\n",
       "      <td>0.155655</td>\n",
       "      <td>302.033556</td>\n",
       "      <td>1.000000</td>\n",
       "      <td>0.000000</td>\n",
       "      <td>0.000000</td>\n",
       "      <td>0.0</td>\n",
       "    </tr>\n",
       "    <tr>\n",
       "      <th>50%</th>\n",
       "      <td>381.500000</td>\n",
       "      <td>431.038000</td>\n",
       "      <td>1.046350</td>\n",
       "      <td>0.290155</td>\n",
       "      <td>431.602009</td>\n",
       "      <td>2.000000</td>\n",
       "      <td>0.000000</td>\n",
       "      <td>0.000000</td>\n",
       "      <td>0.0</td>\n",
       "    </tr>\n",
       "    <tr>\n",
       "      <th>75%</th>\n",
       "      <td>569.750000</td>\n",
       "      <td>578.519250</td>\n",
       "      <td>2.520775</td>\n",
       "      <td>0.574867</td>\n",
       "      <td>578.142426</td>\n",
       "      <td>4.000000</td>\n",
       "      <td>1.000000</td>\n",
       "      <td>0.000000</td>\n",
       "      <td>0.0</td>\n",
       "    </tr>\n",
       "    <tr>\n",
       "      <th>max</th>\n",
       "      <td>730.000000</td>\n",
       "      <td>2805.900000</td>\n",
       "      <td>10.713100</td>\n",
       "      <td>0.887434</td>\n",
       "      <td>2804.229343</td>\n",
       "      <td>43.000000</td>\n",
       "      <td>7.000000</td>\n",
       "      <td>3.000000</td>\n",
       "      <td>0.0</td>\n",
       "    </tr>\n",
       "  </tbody>\n",
       "</table>\n",
       "</div>"
      ],
      "text/plain": [
       "               id  molecular_weight     MolLogP         qed   ExactMolWt  \\\n",
       "count  492.000000        492.000000  492.000000  492.000000   492.000000   \n",
       "mean   376.518293        439.122771    1.026019    0.359583   439.823104   \n",
       "std    211.994048        226.451341    2.510341    0.232284   227.173667   \n",
       "min      3.000000         94.111200   -5.298300    0.016294    94.041865   \n",
       "25%    220.750000        302.225250   -0.519700    0.155655   302.033556   \n",
       "50%    381.500000        431.038000    1.046350    0.290155   431.602009   \n",
       "75%    569.750000        578.519250    2.520775    0.574867   578.142426   \n",
       "max    730.000000       2805.900000   10.713100    0.887434  2804.229343   \n",
       "\n",
       "        fr_phenol  fr_methoxy  fr_lactone  fr_urea  \n",
       "count  492.000000  492.000000  492.000000    492.0  \n",
       "mean     2.829268    0.632114    0.032520      0.0  \n",
       "std      2.921114    1.077839    0.218678      0.0  \n",
       "min      0.000000    0.000000    0.000000      0.0  \n",
       "25%      1.000000    0.000000    0.000000      0.0  \n",
       "50%      2.000000    0.000000    0.000000      0.0  \n",
       "75%      4.000000    1.000000    0.000000      0.0  \n",
       "max     43.000000    7.000000    3.000000      0.0  "
      ]
     },
     "execution_count": 9,
     "metadata": {},
     "output_type": "execute_result"
    }
   ],
   "source": [
    "df.describe()"
   ]
  },
  {
   "cell_type": "code",
   "execution_count": 10,
   "id": "274d5eff",
   "metadata": {},
   "outputs": [
    {
     "data": {
      "text/plain": [
       "(492, 17)"
      ]
     },
     "execution_count": 10,
     "metadata": {},
     "output_type": "execute_result"
    }
   ],
   "source": [
    "df.shape"
   ]
  },
  {
   "cell_type": "markdown",
   "id": "985517f8",
   "metadata": {
    "slideshow": {
     "slide_type": "slide"
    }
   },
   "source": [
    "# 3. データの欠損状態の確認"
   ]
  },
  {
   "cell_type": "code",
   "execution_count": 11,
   "id": "01086a63",
   "metadata": {
    "slideshow": {
     "slide_type": "slide"
    }
   },
   "outputs": [
    {
     "data": {
      "text/plain": [
       "id                     0\n",
       "smiles                 0\n",
       "compound_class         0\n",
       "compound_subclass      0\n",
       "name                   0\n",
       "molecular_weight       0\n",
       "formula                0\n",
       "cas_number           299\n",
       "created_at             0\n",
       "updated_at             0\n",
       "MolLogP                0\n",
       "qed                    0\n",
       "ExactMolWt             0\n",
       "fr_phenol              0\n",
       "fr_methoxy             0\n",
       "fr_lactone             0\n",
       "fr_urea                0\n",
       "dtype: int64"
      ]
     },
     "execution_count": 11,
     "metadata": {},
     "output_type": "execute_result"
    }
   ],
   "source": [
    "# 欠損値を確認する。\n",
    "df.isnull().sum()"
   ]
  },
  {
   "cell_type": "code",
   "execution_count": 12,
   "id": "ef3faf3c",
   "metadata": {},
   "outputs": [
    {
     "data": {
      "text/plain": [
       "(492, 17)"
      ]
     },
     "execution_count": 12,
     "metadata": {},
     "output_type": "execute_result"
    }
   ],
   "source": [
    "df.shape"
   ]
  },
  {
   "cell_type": "code",
   "execution_count": 13,
   "id": "0f079d1b",
   "metadata": {},
   "outputs": [
    {
     "data": {
      "text/plain": [
       "(193, 17)"
      ]
     },
     "execution_count": 13,
     "metadata": {},
     "output_type": "execute_result"
    }
   ],
   "source": [
    "# '欠損値のある行を削除\n",
    "df.dropna(subset=['cas_number'], axis=0).shape"
   ]
  },
  {
   "cell_type": "code",
   "execution_count": 14,
   "id": "157ec4b2",
   "metadata": {},
   "outputs": [
    {
     "data": {
      "text/plain": [
       "(492, 16)"
      ]
     },
     "execution_count": 14,
     "metadata": {},
     "output_type": "execute_result"
    }
   ],
   "source": [
    "#欠損値のある列（ここでは、cas_number）を、１列指定して削除\n",
    "df.drop('cas_number', axis=1).shape"
   ]
  },
  {
   "cell_type": "code",
   "execution_count": 15,
   "id": "5fb12a15",
   "metadata": {},
   "outputs": [
    {
     "data": {
      "text/plain": [
       "(492, 17)"
      ]
     },
     "execution_count": 15,
     "metadata": {},
     "output_type": "execute_result"
    }
   ],
   "source": [
    "# 欠損値を置き換え\n",
    "df.fillna(value={'cas_number': 0}).shape"
   ]
  },
  {
   "cell_type": "markdown",
   "id": "0f8713cb",
   "metadata": {
    "slideshow": {
     "slide_type": "slide"
    }
   },
   "source": [
    "# 4. データの並び替えや任意の列の抽出して新しいデータフレームを作成"
   ]
  },
  {
   "cell_type": "code",
   "execution_count": 16,
   "id": "bb7e9561",
   "metadata": {},
   "outputs": [
    {
     "data": {
      "text/plain": [
       "Index(['id', 'smiles', 'compound_class', 'compound_subclass', 'name',\n",
       "       'molecular_weight', 'formula', 'cas_number', 'created_at', 'updated_at',\n",
       "       'MolLogP', 'qed', 'ExactMolWt', 'fr_phenol', 'fr_methoxy', 'fr_lactone',\n",
       "       'fr_urea'],\n",
       "      dtype='object')"
      ]
     },
     "execution_count": 16,
     "metadata": {},
     "output_type": "execute_result"
    }
   ],
   "source": [
    "df.columns"
   ]
  },
  {
   "cell_type": "code",
   "execution_count": 17,
   "id": "343a1535",
   "metadata": {},
   "outputs": [
    {
     "data": {
      "text/html": [
       "<div>\n",
       "<style scoped>\n",
       "    .dataframe tbody tr th:only-of-type {\n",
       "        vertical-align: middle;\n",
       "    }\n",
       "\n",
       "    .dataframe tbody tr th {\n",
       "        vertical-align: top;\n",
       "    }\n",
       "\n",
       "    .dataframe thead th {\n",
       "        text-align: right;\n",
       "    }\n",
       "</style>\n",
       "<table border=\"1\" class=\"dataframe\">\n",
       "  <thead>\n",
       "    <tr style=\"text-align: right;\">\n",
       "      <th></th>\n",
       "      <th>smiles</th>\n",
       "      <th>formula</th>\n",
       "    </tr>\n",
       "  </thead>\n",
       "  <tbody>\n",
       "    <tr>\n",
       "      <th>0</th>\n",
       "      <td>COC1=CC(=CC(OC)=C1O)C1=[O+]C2=C(C=C1OC1OC(COC(...</td>\n",
       "      <td>C32H31O14</td>\n",
       "    </tr>\n",
       "    <tr>\n",
       "      <th>1</th>\n",
       "      <td>CC(=O)OCC1OC(OC2=CC3=C(O)C=C(O)C=C3[O+]=C2C2=C...</td>\n",
       "      <td>C23H23O13</td>\n",
       "    </tr>\n",
       "    <tr>\n",
       "      <th>2</th>\n",
       "      <td>[H][C@]1(COC(C)=O)O[C@@]([H])(OC2=CC3=C(O)C=C(...</td>\n",
       "      <td>C23H23O12</td>\n",
       "    </tr>\n",
       "  </tbody>\n",
       "</table>\n",
       "</div>"
      ],
      "text/plain": [
       "                                              smiles    formula\n",
       "0  COC1=CC(=CC(OC)=C1O)C1=[O+]C2=C(C=C1OC1OC(COC(...  C32H31O14\n",
       "1  CC(=O)OCC1OC(OC2=CC3=C(O)C=C(O)C=C3[O+]=C2C2=C...  C23H23O13\n",
       "2  [H][C@]1(COC(C)=O)O[C@@]([H])(OC2=CC3=C(O)C=C(...  C23H23O12"
      ]
     },
     "execution_count": 17,
     "metadata": {},
     "output_type": "execute_result"
    }
   ],
   "source": [
    "# 任意の列だけ取り出す。\n",
    "df[['smiles', 'formula']].head(3)"
   ]
  },
  {
   "cell_type": "code",
   "execution_count": 18,
   "id": "fca7aa08",
   "metadata": {},
   "outputs": [],
   "source": [
    "# 上書きする。\n",
    "df2 = df[['smiles', 'formula']].head(3)"
   ]
  },
  {
   "cell_type": "code",
   "execution_count": 19,
   "id": "09e4cf59",
   "metadata": {},
   "outputs": [
    {
     "data": {
      "text/html": [
       "<div>\n",
       "<style scoped>\n",
       "    .dataframe tbody tr th:only-of-type {\n",
       "        vertical-align: middle;\n",
       "    }\n",
       "\n",
       "    .dataframe tbody tr th {\n",
       "        vertical-align: top;\n",
       "    }\n",
       "\n",
       "    .dataframe thead th {\n",
       "        text-align: right;\n",
       "    }\n",
       "</style>\n",
       "<table border=\"1\" class=\"dataframe\">\n",
       "  <thead>\n",
       "    <tr style=\"text-align: right;\">\n",
       "      <th></th>\n",
       "      <th>smiles</th>\n",
       "      <th>formula</th>\n",
       "    </tr>\n",
       "  </thead>\n",
       "  <tbody>\n",
       "    <tr>\n",
       "      <th>0</th>\n",
       "      <td>COC1=CC(=CC(OC)=C1O)C1=[O+]C2=C(C=C1OC1OC(COC(...</td>\n",
       "      <td>C32H31O14</td>\n",
       "    </tr>\n",
       "    <tr>\n",
       "      <th>1</th>\n",
       "      <td>CC(=O)OCC1OC(OC2=CC3=C(O)C=C(O)C=C3[O+]=C2C2=C...</td>\n",
       "      <td>C23H23O13</td>\n",
       "    </tr>\n",
       "    <tr>\n",
       "      <th>2</th>\n",
       "      <td>[H][C@]1(COC(C)=O)O[C@@]([H])(OC2=CC3=C(O)C=C(...</td>\n",
       "      <td>C23H23O12</td>\n",
       "    </tr>\n",
       "  </tbody>\n",
       "</table>\n",
       "</div>"
      ],
      "text/plain": [
       "                                              smiles    formula\n",
       "0  COC1=CC(=CC(OC)=C1O)C1=[O+]C2=C(C=C1OC1OC(COC(...  C32H31O14\n",
       "1  CC(=O)OCC1OC(OC2=CC3=C(O)C=C(O)C=C3[O+]=C2C2=C...  C23H23O13\n",
       "2  [H][C@]1(COC(C)=O)O[C@@]([H])(OC2=CC3=C(O)C=C(...  C23H23O12"
      ]
     },
     "execution_count": 19,
     "metadata": {},
     "output_type": "execute_result"
    }
   ],
   "source": [
    "df2"
   ]
  },
  {
   "cell_type": "markdown",
   "id": "0d6e698f",
   "metadata": {
    "slideshow": {
     "slide_type": "slide"
    }
   },
   "source": [
    "# 5. データの追加"
   ]
  },
  {
   "cell_type": "code",
   "execution_count": 20,
   "id": "10ef4cec",
   "metadata": {
    "slideshow": {
     "slide_type": "slide"
    }
   },
   "outputs": [],
   "source": [
    "#Pandasを使ってワンホットエンコーディング\n",
    "df2 = pd.get_dummies(df, columns=['compound_class'])"
   ]
  },
  {
   "cell_type": "code",
   "execution_count": 21,
   "id": "ac775725",
   "metadata": {},
   "outputs": [
    {
     "data": {
      "text/plain": [
       "Index(['id', 'smiles', 'compound_subclass', 'name', 'molecular_weight',\n",
       "       'formula', 'cas_number', 'created_at', 'updated_at', 'MolLogP', 'qed',\n",
       "       'ExactMolWt', 'fr_phenol', 'fr_methoxy', 'fr_lactone', 'fr_urea',\n",
       "       'compound_class_Flavonoids', 'compound_class_Lignans',\n",
       "       'compound_class_Other polyphenols', 'compound_class_Phenolic acids',\n",
       "       'compound_class_Stilbenes'],\n",
       "      dtype='object')"
      ]
     },
     "execution_count": 21,
     "metadata": {},
     "output_type": "execute_result"
    }
   ],
   "source": [
    "df2.columns"
   ]
  },
  {
   "cell_type": "code",
   "execution_count": 22,
   "id": "3a50844b",
   "metadata": {},
   "outputs": [
    {
     "data": {
      "text/plain": [
       "(492, 21)"
      ]
     },
     "execution_count": 22,
     "metadata": {},
     "output_type": "execute_result"
    }
   ],
   "source": [
    "df2.shape"
   ]
  },
  {
   "cell_type": "code",
   "execution_count": 23,
   "id": "d81e49fd",
   "metadata": {},
   "outputs": [],
   "source": [
    "# 自作した関数を入れる。\n",
    "def over0(num):\n",
    "    if num >=0:\n",
    "        return 1\n",
    "    else:\n",
    "        return 0\n",
    "    \n",
    "df2[\"MolLogP_over1\"] = df2[\"MolLogP\"].map(over0)"
   ]
  },
  {
   "cell_type": "code",
   "execution_count": 24,
   "id": "69ee90b3",
   "metadata": {},
   "outputs": [
    {
     "data": {
      "text/html": [
       "<div>\n",
       "<style scoped>\n",
       "    .dataframe tbody tr th:only-of-type {\n",
       "        vertical-align: middle;\n",
       "    }\n",
       "\n",
       "    .dataframe tbody tr th {\n",
       "        vertical-align: top;\n",
       "    }\n",
       "\n",
       "    .dataframe thead th {\n",
       "        text-align: right;\n",
       "    }\n",
       "</style>\n",
       "<table border=\"1\" class=\"dataframe\">\n",
       "  <thead>\n",
       "    <tr style=\"text-align: right;\">\n",
       "      <th></th>\n",
       "      <th>id</th>\n",
       "      <th>molecular_weight</th>\n",
       "      <th>MolLogP</th>\n",
       "      <th>qed</th>\n",
       "      <th>ExactMolWt</th>\n",
       "      <th>fr_phenol</th>\n",
       "      <th>fr_methoxy</th>\n",
       "      <th>fr_lactone</th>\n",
       "      <th>fr_urea</th>\n",
       "      <th>compound_class_Flavonoids</th>\n",
       "      <th>compound_class_Lignans</th>\n",
       "      <th>compound_class_Other polyphenols</th>\n",
       "      <th>compound_class_Phenolic acids</th>\n",
       "      <th>compound_class_Stilbenes</th>\n",
       "      <th>MolLogP_over1</th>\n",
       "    </tr>\n",
       "  </thead>\n",
       "  <tbody>\n",
       "    <tr>\n",
       "      <th>count</th>\n",
       "      <td>492.000000</td>\n",
       "      <td>492.000000</td>\n",
       "      <td>492.000000</td>\n",
       "      <td>492.000000</td>\n",
       "      <td>492.000000</td>\n",
       "      <td>492.000000</td>\n",
       "      <td>492.000000</td>\n",
       "      <td>492.000000</td>\n",
       "      <td>492.0</td>\n",
       "      <td>492.000000</td>\n",
       "      <td>492.000000</td>\n",
       "      <td>492.000000</td>\n",
       "      <td>492.000000</td>\n",
       "      <td>492.000000</td>\n",
       "      <td>492.000000</td>\n",
       "    </tr>\n",
       "    <tr>\n",
       "      <th>mean</th>\n",
       "      <td>376.518293</td>\n",
       "      <td>439.122771</td>\n",
       "      <td>1.026019</td>\n",
       "      <td>0.359583</td>\n",
       "      <td>439.823104</td>\n",
       "      <td>2.829268</td>\n",
       "      <td>0.632114</td>\n",
       "      <td>0.032520</td>\n",
       "      <td>0.0</td>\n",
       "      <td>0.544715</td>\n",
       "      <td>0.058943</td>\n",
       "      <td>0.158537</td>\n",
       "      <td>0.217480</td>\n",
       "      <td>0.020325</td>\n",
       "      <td>0.666667</td>\n",
       "    </tr>\n",
       "    <tr>\n",
       "      <th>std</th>\n",
       "      <td>211.994048</td>\n",
       "      <td>226.451341</td>\n",
       "      <td>2.510341</td>\n",
       "      <td>0.232284</td>\n",
       "      <td>227.173667</td>\n",
       "      <td>2.921114</td>\n",
       "      <td>1.077839</td>\n",
       "      <td>0.218678</td>\n",
       "      <td>0.0</td>\n",
       "      <td>0.498503</td>\n",
       "      <td>0.235758</td>\n",
       "      <td>0.365615</td>\n",
       "      <td>0.412951</td>\n",
       "      <td>0.141254</td>\n",
       "      <td>0.471884</td>\n",
       "    </tr>\n",
       "    <tr>\n",
       "      <th>min</th>\n",
       "      <td>3.000000</td>\n",
       "      <td>94.111200</td>\n",
       "      <td>-5.298300</td>\n",
       "      <td>0.016294</td>\n",
       "      <td>94.041865</td>\n",
       "      <td>0.000000</td>\n",
       "      <td>0.000000</td>\n",
       "      <td>0.000000</td>\n",
       "      <td>0.0</td>\n",
       "      <td>0.000000</td>\n",
       "      <td>0.000000</td>\n",
       "      <td>0.000000</td>\n",
       "      <td>0.000000</td>\n",
       "      <td>0.000000</td>\n",
       "      <td>0.000000</td>\n",
       "    </tr>\n",
       "    <tr>\n",
       "      <th>25%</th>\n",
       "      <td>220.750000</td>\n",
       "      <td>302.225250</td>\n",
       "      <td>-0.519700</td>\n",
       "      <td>0.155655</td>\n",
       "      <td>302.033556</td>\n",
       "      <td>1.000000</td>\n",
       "      <td>0.000000</td>\n",
       "      <td>0.000000</td>\n",
       "      <td>0.0</td>\n",
       "      <td>0.000000</td>\n",
       "      <td>0.000000</td>\n",
       "      <td>0.000000</td>\n",
       "      <td>0.000000</td>\n",
       "      <td>0.000000</td>\n",
       "      <td>0.000000</td>\n",
       "    </tr>\n",
       "    <tr>\n",
       "      <th>50%</th>\n",
       "      <td>381.500000</td>\n",
       "      <td>431.038000</td>\n",
       "      <td>1.046350</td>\n",
       "      <td>0.290155</td>\n",
       "      <td>431.602009</td>\n",
       "      <td>2.000000</td>\n",
       "      <td>0.000000</td>\n",
       "      <td>0.000000</td>\n",
       "      <td>0.0</td>\n",
       "      <td>1.000000</td>\n",
       "      <td>0.000000</td>\n",
       "      <td>0.000000</td>\n",
       "      <td>0.000000</td>\n",
       "      <td>0.000000</td>\n",
       "      <td>1.000000</td>\n",
       "    </tr>\n",
       "    <tr>\n",
       "      <th>75%</th>\n",
       "      <td>569.750000</td>\n",
       "      <td>578.519250</td>\n",
       "      <td>2.520775</td>\n",
       "      <td>0.574867</td>\n",
       "      <td>578.142426</td>\n",
       "      <td>4.000000</td>\n",
       "      <td>1.000000</td>\n",
       "      <td>0.000000</td>\n",
       "      <td>0.0</td>\n",
       "      <td>1.000000</td>\n",
       "      <td>0.000000</td>\n",
       "      <td>0.000000</td>\n",
       "      <td>0.000000</td>\n",
       "      <td>0.000000</td>\n",
       "      <td>1.000000</td>\n",
       "    </tr>\n",
       "    <tr>\n",
       "      <th>max</th>\n",
       "      <td>730.000000</td>\n",
       "      <td>2805.900000</td>\n",
       "      <td>10.713100</td>\n",
       "      <td>0.887434</td>\n",
       "      <td>2804.229343</td>\n",
       "      <td>43.000000</td>\n",
       "      <td>7.000000</td>\n",
       "      <td>3.000000</td>\n",
       "      <td>0.0</td>\n",
       "      <td>1.000000</td>\n",
       "      <td>1.000000</td>\n",
       "      <td>1.000000</td>\n",
       "      <td>1.000000</td>\n",
       "      <td>1.000000</td>\n",
       "      <td>1.000000</td>\n",
       "    </tr>\n",
       "  </tbody>\n",
       "</table>\n",
       "</div>"
      ],
      "text/plain": [
       "               id  molecular_weight     MolLogP         qed   ExactMolWt  \\\n",
       "count  492.000000        492.000000  492.000000  492.000000   492.000000   \n",
       "mean   376.518293        439.122771    1.026019    0.359583   439.823104   \n",
       "std    211.994048        226.451341    2.510341    0.232284   227.173667   \n",
       "min      3.000000         94.111200   -5.298300    0.016294    94.041865   \n",
       "25%    220.750000        302.225250   -0.519700    0.155655   302.033556   \n",
       "50%    381.500000        431.038000    1.046350    0.290155   431.602009   \n",
       "75%    569.750000        578.519250    2.520775    0.574867   578.142426   \n",
       "max    730.000000       2805.900000   10.713100    0.887434  2804.229343   \n",
       "\n",
       "        fr_phenol  fr_methoxy  fr_lactone  fr_urea  compound_class_Flavonoids  \\\n",
       "count  492.000000  492.000000  492.000000    492.0                 492.000000   \n",
       "mean     2.829268    0.632114    0.032520      0.0                   0.544715   \n",
       "std      2.921114    1.077839    0.218678      0.0                   0.498503   \n",
       "min      0.000000    0.000000    0.000000      0.0                   0.000000   \n",
       "25%      1.000000    0.000000    0.000000      0.0                   0.000000   \n",
       "50%      2.000000    0.000000    0.000000      0.0                   1.000000   \n",
       "75%      4.000000    1.000000    0.000000      0.0                   1.000000   \n",
       "max     43.000000    7.000000    3.000000      0.0                   1.000000   \n",
       "\n",
       "       compound_class_Lignans  compound_class_Other polyphenols  \\\n",
       "count              492.000000                        492.000000   \n",
       "mean                 0.058943                          0.158537   \n",
       "std                  0.235758                          0.365615   \n",
       "min                  0.000000                          0.000000   \n",
       "25%                  0.000000                          0.000000   \n",
       "50%                  0.000000                          0.000000   \n",
       "75%                  0.000000                          0.000000   \n",
       "max                  1.000000                          1.000000   \n",
       "\n",
       "       compound_class_Phenolic acids  compound_class_Stilbenes  MolLogP_over1  \n",
       "count                     492.000000                492.000000     492.000000  \n",
       "mean                        0.217480                  0.020325       0.666667  \n",
       "std                         0.412951                  0.141254       0.471884  \n",
       "min                         0.000000                  0.000000       0.000000  \n",
       "25%                         0.000000                  0.000000       0.000000  \n",
       "50%                         0.000000                  0.000000       1.000000  \n",
       "75%                         0.000000                  0.000000       1.000000  \n",
       "max                         1.000000                  1.000000       1.000000  "
      ]
     },
     "execution_count": 24,
     "metadata": {},
     "output_type": "execute_result"
    }
   ],
   "source": [
    "df2.describe()"
   ]
  },
  {
   "cell_type": "code",
   "execution_count": 25,
   "id": "1773bf27",
   "metadata": {},
   "outputs": [
    {
     "data": {
      "text/plain": [
       "(492, 23)"
      ]
     },
     "execution_count": 25,
     "metadata": {},
     "output_type": "execute_result"
    }
   ],
   "source": [
    "df2[\"molecular_weight_int\"] = df2[\"molecular_weight\"].map(int)\n",
    "df2.shape"
   ]
  },
  {
   "cell_type": "code",
   "execution_count": 26,
   "id": "47f19c4d",
   "metadata": {
    "slideshow": {
     "slide_type": "subslide"
    }
   },
   "outputs": [
    {
     "data": {
      "text/plain": [
       "(492, 22)"
      ]
     },
     "execution_count": 26,
     "metadata": {},
     "output_type": "execute_result"
    }
   ],
   "source": [
    "# 作ったものを削除\n",
    "df2.drop('molecular_weight_int', axis=1).shape"
   ]
  },
  {
   "cell_type": "markdown",
   "id": "22c6f768",
   "metadata": {
    "slideshow": {
     "slide_type": "slide"
    }
   },
   "source": [
    "# 6. データの表示"
   ]
  },
  {
   "cell_type": "code",
   "execution_count": 27,
   "id": "1c48fe53",
   "metadata": {
    "slideshow": {
     "slide_type": "slide"
    }
   },
   "outputs": [
    {
     "data": {
      "text/plain": [
       "array([[<AxesSubplot:title={'center':'qed'}>]], dtype=object)"
      ]
     },
     "execution_count": 27,
     "metadata": {},
     "output_type": "execute_result"
    },
    {
     "data": {
      "image/png": "[encoded data removed]",
      "text/plain": [
       "<Figure size 432x288 with 1 Axes>"
      ]
     },
     "metadata": {
      "needs_background": "light"
     },
     "output_type": "display_data"
    }
   ],
   "source": [
    "df.hist('qed')"
   ]
  },
  {
   "cell_type": "code",
   "execution_count": 28,
   "id": "390a119e",
   "metadata": {},
   "outputs": [
    {
     "data": {
      "text/plain": [
       "<AxesSubplot:xlabel='MolLogP', ylabel='qed'>"
      ]
     },
     "execution_count": 28,
     "metadata": {},
     "output_type": "execute_result"
    },
    {
     "data": {
      "image/png": "[encoded data removed]",
      "text/plain": [
       "<Figure size 432x288 with 1 Axes>"
      ]
     },
     "metadata": {
      "needs_background": "light"
     },
     "output_type": "display_data"
    }
   ],
   "source": [
    "df.plot(kind='scatter', x='MolLogP', y='qed')"
   ]
  },
  {
   "cell_type": "markdown",
   "id": "f2166159",
   "metadata": {
    "slideshow": {
     "slide_type": "slide"
    }
   },
   "source": [
    "# 7. データの出力"
   ]
  },
  {
   "cell_type": "code",
   "execution_count": 29,
   "id": "bc1004ef",
   "metadata": {
    "slideshow": {
     "slide_type": "slide"
    }
   },
   "outputs": [
    {
     "name": "stdout",
     "output_type": "stream",
     "text": [
      "compounds-structures.csv  output.csv\r\n",
      "lunch_box.csv             processed_datamart.csv\r\n"
     ]
    }
   ],
   "source": [
    "ls data/"
   ]
  },
  {
   "cell_type": "code",
   "execution_count": 30,
   "id": "cc0a446d",
   "metadata": {},
   "outputs": [],
   "source": [
    "df.to_csv('data/output2.csv', index=False)"
   ]
  },
  {
   "cell_type": "code",
   "execution_count": 31,
   "id": "fbad5e8d",
   "metadata": {},
   "outputs": [
    {
     "name": "stdout",
     "output_type": "stream",
     "text": [
      "compounds-structures.csv  output.csv                processed_datamart.csv\r\n",
      "lunch_box.csv             output2.csv\r\n"
     ]
    }
   ],
   "source": [
    "ls data/"
   ]
  },
  {
   "cell_type": "code",
   "execution_count": 32,
   "id": "864c1f4c",
   "metadata": {
    "slideshow": {
     "slide_type": "subslide"
    }
   },
   "outputs": [],
   "source": [
    "!rm data/output2.csv"
   ]
  },
  {
   "cell_type": "code",
   "execution_count": 33,
   "id": "b7216d6b",
   "metadata": {
    "slideshow": {
     "slide_type": "subslide"
    }
   },
   "outputs": [
    {
     "name": "stdout",
     "output_type": "stream",
     "text": [
      "compounds-structures.csv  output.csv\r\n",
      "lunch_box.csv             processed_datamart.csv\r\n"
     ]
    }
   ],
   "source": [
    "ls data/"
   ]
  },
  {
   "cell_type": "markdown",
   "id": "54632e23",
   "metadata": {
    "slideshow": {
     "slide_type": "slide"
    }
   },
   "source": [
    "# 以上です"
   ]
  }
 ],
 "metadata": {
  "celltoolbar": "Slideshow",
  "kernelspec": {
   "display_name": "Python 3 (ipykernel)",
   "language": "python",
   "name": "python3"
  },
  "language_info": {
   "codemirror_mode": {
    "name": "ipython",
    "version": 3
   },
   "file_extension": ".py",
   "mimetype": "text/x-python",
   "name": "python",
   "nbconvert_exporter": "python",
   "pygments_lexer": "ipython3",
   "version": "3.8.11"
  }
 },
 "nbformat": 4,
 "nbformat_minor": 5
}
