{
 "cells": [
  {
   "cell_type": "code",
   "execution_count": 1,
   "id": "cf684486",
   "metadata": {},
   "outputs": [
    {
     "name": "stderr",
     "output_type": "stream",
     "text": [
      "RDKit WARNING: [09:19:02] Enabling RDKit 2019.09.3 jupyter extensions\n",
      "[09:19:02] Enabling RDKit 2019.09.3 jupyter extensions\n"
     ]
    }
   ],
   "source": [
    "import pandas as pd\n",
    "from rdkit.Chem import PandasTools\n",
    "from rdkit.Chem import Descriptors"
   ]
  },
  {
   "cell_type": "markdown",
   "id": "decf52f8",
   "metadata": {},
   "source": [
    "元のデータ\n",
    "\n",
    "http://phenol-explorer.eu/downloads\n",
    "\n",
    "Structures for Polyphenols having composition data (SMILES)をダウンロード"
   ]
  },
  {
   "cell_type": "code",
   "execution_count": 2,
   "id": "6eb3e675",
   "metadata": {},
   "outputs": [
    {
     "data": {
      "text/html": [
       "<div>\n",
       "<style scoped>\n",
       "    .dataframe tbody tr th:only-of-type {\n",
       "        vertical-align: middle;\n",
       "    }\n",
       "\n",
       "    .dataframe tbody tr th {\n",
       "        vertical-align: top;\n",
       "    }\n",
       "\n",
       "    .dataframe thead th {\n",
       "        text-align: right;\n",
       "    }\n",
       "</style>\n",
       "<table border=\"1\" class=\"dataframe\">\n",
       "  <thead>\n",
       "    <tr style=\"text-align: right;\">\n",
       "      <th></th>\n",
       "      <th>id</th>\n",
       "      <th>smiles</th>\n",
       "      <th>compound_class</th>\n",
       "      <th>compound_subclass</th>\n",
       "      <th>name</th>\n",
       "      <th>molecular_weight</th>\n",
       "      <th>formula</th>\n",
       "      <th>cas_number</th>\n",
       "      <th>created_at</th>\n",
       "      <th>updated_at</th>\n",
       "    </tr>\n",
       "  </thead>\n",
       "  <tbody>\n",
       "    <tr>\n",
       "      <th>0</th>\n",
       "      <td>3</td>\n",
       "      <td>COC1=CC(=CC(OC)=C1O)C1=[O+]C2=C(C=C1OC1OC(COC(...</td>\n",
       "      <td>Flavonoids</td>\n",
       "      <td>Anthocyanins</td>\n",
       "      <td>Malvidin 3-O-(6''-p-coumaroyl-glucoside)</td>\n",
       "      <td>639.58</td>\n",
       "      <td>C32H31O14</td>\n",
       "      <td>NaN</td>\n",
       "      <td>2005-09-07 11:07:11 UTC</td>\n",
       "      <td>2015-05-10 23:28:36 UTC</td>\n",
       "    </tr>\n",
       "  </tbody>\n",
       "</table>\n",
       "</div>"
      ],
      "text/plain": [
       "   id                                             smiles compound_class  \\\n",
       "0   3  COC1=CC(=CC(OC)=C1O)C1=[O+]C2=C(C=C1OC1OC(COC(...     Flavonoids   \n",
       "\n",
       "  compound_subclass                                      name  \\\n",
       "0      Anthocyanins  Malvidin 3-O-(6''-p-coumaroyl-glucoside)   \n",
       "\n",
       "   molecular_weight    formula cas_number               created_at  \\\n",
       "0            639.58  C32H31O14        NaN  2005-09-07 11:07:11 UTC   \n",
       "\n",
       "                updated_at  \n",
       "0  2015-05-10 23:28:36 UTC  "
      ]
     },
     "execution_count": 2,
     "metadata": {},
     "output_type": "execute_result"
    }
   ],
   "source": [
    "#データの呼び出し\n",
    "\n",
    "df = pd.read_csv('data/compounds-structures.csv')\n",
    "df.head(1)"
   ]
  },
  {
   "cell_type": "code",
   "execution_count": 3,
   "id": "9f3523d5",
   "metadata": {},
   "outputs": [
    {
     "data": {
      "text/plain": [
       "(492, 10)"
      ]
     },
     "execution_count": 3,
     "metadata": {},
     "output_type": "execute_result"
    }
   ],
   "source": [
    "df.shape"
   ]
  },
  {
   "cell_type": "code",
   "execution_count": 4,
   "id": "1c7f03c0",
   "metadata": {},
   "outputs": [],
   "source": [
    "PandasTools.AddMoleculeColumnToFrame(df, \"smiles\")"
   ]
  },
  {
   "cell_type": "code",
   "execution_count": 5,
   "id": "def3015a",
   "metadata": {},
   "outputs": [
    {
     "data": {
      "text/html": [
       "<div>\n",
       "<style scoped>\n",
       "    .dataframe tbody tr th:only-of-type {\n",
       "        vertical-align: middle;\n",
       "    }\n",
       "\n",
       "    .dataframe tbody tr th {\n",
       "        vertical-align: top;\n",
       "    }\n",
       "\n",
       "    .dataframe thead th {\n",
       "        text-align: right;\n",
       "    }\n",
       "</style>\n",
       "<table border=\"1\" class=\"dataframe\">\n",
       "  <thead>\n",
       "    <tr style=\"text-align: right;\">\n",
       "      <th></th>\n",
       "      <th>smiles</th>\n",
       "      <th>ROMol</th>\n",
       "    </tr>\n",
       "  </thead>\n",
       "  <tbody>\n",
       "    <tr>\n",
       "      <th>0</th>\n",
       "      <td>COC1=CC(=CC(OC)=C1O)C1=[O+]C2=C(C=C1OC1OC(COC(...</td>\n",
       "      <td><img data-content=\"rdkit/molecule\" src=\"data:image/png;base64,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\" alt=\"Mol\"/></td>\n",
       "    </tr>\n",
       "  </tbody>\n",
       "</table>\n",
       "</div>"
      ],
      "text/plain": [
       "                                              smiles  \\\n",
       "0  COC1=CC(=CC(OC)=C1O)C1=[O+]C2=C(C=C1OC1OC(COC(...   \n",
       "\n",
       "                                               ROMol  \n",
       "0  <img data-content=\"rdkit/molecule\" src=\"data:i...  "
      ]
     },
     "execution_count": 5,
     "metadata": {},
     "output_type": "execute_result"
    }
   ],
   "source": [
    "df[['smiles', 'ROMol']].head(1)"
   ]
  },
  {
   "cell_type": "code",
   "execution_count": 6,
   "id": "56914ad4",
   "metadata": {},
   "outputs": [],
   "source": [
    "df[\"MolLogP\"] = df[\"ROMol\"].map(Descriptors.MolLogP)\n",
    "df[\"qed\"] = df[\"ROMol\"].map(Descriptors.qed)\n",
    "df[\"ExactMolWt\"] = df[\"ROMol\"].map(Descriptors.ExactMolWt)\n",
    "df[\"fr_phenol\"] = df[\"ROMol\"].map(Descriptors.fr_phenol)\n",
    "df[\"fr_methoxy\"] = df[\"ROMol\"].map(Descriptors.fr_methoxy)\n",
    "df[\"fr_lactone\"] = df[\"ROMol\"].map(Descriptors.fr_lactone)\n",
    "df[\"fr_urea\"] = df[\"ROMol\"].map(Descriptors.fr_urea)"
   ]
  },
  {
   "cell_type": "code",
   "execution_count": 7,
   "id": "2ec0a943",
   "metadata": {},
   "outputs": [
    {
     "data": {
      "text/html": [
       "<div>\n",
       "<style scoped>\n",
       "    .dataframe tbody tr th:only-of-type {\n",
       "        vertical-align: middle;\n",
       "    }\n",
       "\n",
       "    .dataframe tbody tr th {\n",
       "        vertical-align: top;\n",
       "    }\n",
       "\n",
       "    .dataframe thead th {\n",
       "        text-align: right;\n",
       "    }\n",
       "</style>\n",
       "<table border=\"1\" class=\"dataframe\">\n",
       "  <thead>\n",
       "    <tr style=\"text-align: right;\">\n",
       "      <th></th>\n",
       "      <th>id</th>\n",
       "      <th>smiles</th>\n",
       "      <th>compound_class</th>\n",
       "      <th>compound_subclass</th>\n",
       "      <th>name</th>\n",
       "      <th>molecular_weight</th>\n",
       "      <th>formula</th>\n",
       "      <th>cas_number</th>\n",
       "      <th>created_at</th>\n",
       "      <th>updated_at</th>\n",
       "      <th>ROMol</th>\n",
       "      <th>MolLogP</th>\n",
       "      <th>qed</th>\n",
       "      <th>ExactMolWt</th>\n",
       "      <th>fr_phenol</th>\n",
       "      <th>fr_methoxy</th>\n",
       "      <th>fr_lactone</th>\n",
       "      <th>fr_urea</th>\n",
       "    </tr>\n",
       "  </thead>\n",
       "  <tbody>\n",
       "    <tr>\n",
       "      <th>0</th>\n",
       "      <td>3</td>\n",
       "      <td>COC1=CC(=CC(OC)=C1O)C1=[O+]C2=C(C=C1OC1OC(COC(...</td>\n",
       "      <td>Flavonoids</td>\n",
       "      <td>Anthocyanins</td>\n",
       "      <td>Malvidin 3-O-(6''-p-coumaroyl-glucoside)</td>\n",
       "      <td>639.580</td>\n",
       "      <td>C32H31O14</td>\n",
       "      <td>NaN</td>\n",
       "      <td>2005-09-07 11:07:11 UTC</td>\n",
       "      <td>2015-05-10 23:28:36 UTC</td>\n",
       "      <td><img data-content=\"rdkit/molecule\" src=\"data:image/png;base64,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\" alt=\"Mol\"/></td>\n",
       "      <td>2.6635</td>\n",
       "      <td>0.079643</td>\n",
       "      <td>639.170832</td>\n",
       "      <td>4</td>\n",
       "      <td>2</td>\n",
       "      <td>0</td>\n",
       "      <td>0</td>\n",
       "    </tr>\n",
       "    <tr>\n",
       "      <th>1</th>\n",
       "      <td>5</td>\n",
       "      <td>CC(=O)OCC1OC(OC2=CC3=C(O)C=C(O)C=C3[O+]=C2C2=C...</td>\n",
       "      <td>Flavonoids</td>\n",
       "      <td>Anthocyanins</td>\n",
       "      <td>Delphinidin 3-O-(6''-acetyl-galactoside)</td>\n",
       "      <td>507.421</td>\n",
       "      <td>C23H23O13</td>\n",
       "      <td>NaN</td>\n",
       "      <td>2005-03-25 11:36:49 UTC</td>\n",
       "      <td>2015-05-10 23:28:36 UTC</td>\n",
       "      <td><img data-content=\"rdkit/molecule\" src=\"data:image/png;base64,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\" alt=\"Mol\"/></td>\n",
       "      <td>0.6584</td>\n",
       "      <td>0.135324</td>\n",
       "      <td>507.113317</td>\n",
       "      <td>5</td>\n",
       "      <td>0</td>\n",
       "      <td>0</td>\n",
       "      <td>0</td>\n",
       "    </tr>\n",
       "    <tr>\n",
       "      <th>2</th>\n",
       "      <td>6</td>\n",
       "      <td>[H][C@]1(COC(C)=O)O[C@@]([H])(OC2=CC3=C(O)C=C(...</td>\n",
       "      <td>Flavonoids</td>\n",
       "      <td>Anthocyanins</td>\n",
       "      <td>Cyanidin 3-O-(6''-acetyl-galactoside)</td>\n",
       "      <td>491.422</td>\n",
       "      <td>C23H23O12</td>\n",
       "      <td>NaN</td>\n",
       "      <td>2005-03-25 11:36:49 UTC</td>\n",
       "      <td>2015-05-10 23:28:36 UTC</td>\n",
       "      <td><img data-content=\"rdkit/molecule\" src=\"data:image/png;base64,iVBORw0KGgoAAAANSUhEUgAAAMgAAADICAIAAAAiOjnJAAAABmJLR0QA/wD/AP+gvaeTAAAb/ElEQVR4nO2de3hM1/rHv5NJJjK5JyhCHLe2iSIkQnNBNXI4osojiLq1SNyqtEir7UmU8zR1naL5tZRIE44TqSLSSkMaJ0Q1QcgFp8QlJIJISCbXmVm/PxZjaMRkZu+5rs/jj5js9c7ak++svfa71/tdAkIIGAyusdB3BximCRMWgxeYsBi8wITF4AUmLAYvMGExeIEJi8ELTFgMXmDCYvACExaDF5iwGLzAhMXgBSYsBi8wYTF4gQmLwQtMWAxeYMJi8AITFoMXmLAYvMCExeAFJiwGLzBhMXiBCYvBC0xYDF5gwmLwAhMWgxeYsBi8wITF4AUmLAYvMGExeIEJi8ELTFgMXmDCYvCCpb47oG8KCrBrFwhBUBCOH0d0NMrKcPAgIiL03TPjxuyFJZEgNhYiEWbOhI0NUlNx9y6qqvTdLaPH7C+FlpYQiQBALIZAAFdXODvru0+mgNmPWOPH44MPYGeH4GCkp2PgQJSW4uJFfXfL6BEw12TI5VAoEBWFbdvwww8YNUrfHTIFzP5SCEAohJUVFArcu4fsbH33xkRgwnqMvz8AHD+u736YCOxS+JjKSrRtC2trVFU9ms4ztICNWI9xdoaHB+rqcOaMvrtiCjBhqRAQAABZWfruhynAhPWEpqFDK/v3zy4p0XdHTAE2x3rCtWvXunXr1rZt2zt37ggEAn13x7hhI9YT/va3v3Xp0uXevXsXWYJUa5iwnsLf3x/AcZZ00BomrKegwjpx4oS+O2L0MGE9RUBAANiIxQVMWE/Rt29fW1vbK1eufPHFF8XFxfrujhHDhPUUK1eulEqlzs7OUVFRPXr06NGjxwcffHDkyBGZTKbvrhkZLN3wCELI0qVLN2zYIBQKZ82a9fDhw8OHD1c9XvHXrl270aNHjxkzJjg42M7OTr9dNQ4IgxCZTDZr1iwAIpEoOTlZ+WJWVlZkZKSHh4fy47K0tPT395dIJNevX9dvnw0cJizS0NAwYcIEALa2tmlpafTFjIwMT0/PyMjIrKwsuVxeWFgYExPj7+8vFAqVIvPy8vrss8/y8vL023/DxNyFJZVKR44cCcDJyenEiRPK15ctW6YUUMeOHefMmXPw4MHa2tp79+4lJSVNmzbN0dGR/nbKlCnnz5/X4ykYJmYtrMrKSpq4eumll86ePav6q6amJnodfPnll5UKs7GxCQoKkkgkN2/erK+vT0tLGz58OIBJkybp6xQMFvMVVnl5uZeXFwB3d/dLly61cGReXt7q1at9fX0tLB7dRAsEgm3bthFCioqKALi5uemq10aDmQqrtLT0tddeA/DKK6/cuHFDzVZ3796Nj48PDQ21t7fPz88nhCgUinbt2gEoLi7ms7/GhzkKq7i4uHv37gB69+5969YtDSLU1tYqfx47diyAH374gbsOmgJmlyAtLCwMCAgoLi729fU9duxYp06dNAhiY2Oj/Jk9XmwWsxPWrFmzSktLg4ODMzIyXF1dtQ/IHi82i3ll3vPz88eNG1dXV1dcXGxtbc1JzKamJicnp7q6urt373KiVNPAvEaszp07X716taKiAkB5eXlycvKlS5e0jGllZeXr60sIyWY1iSqYl7CcnZ179+7d0NBw+vTpNWvWhIaG7tmzR/uw9GrIplmqmJewoDIl4nDSzdad/hWzE5ZSBIGBgQKB4OTJk9ovifHz8xMKhbm5ufX19Vz00RQwO2EpRyxXV9devXrV1NScO3dOy5gODg59+vRpaGjIycnhoo+mgNkJq2vXrl26dKmsrLxw4QKHmQKWdHgGsxMWOJ1mKRQK+gNLkz6DOQpLKQKqsCxNa+pPnz792muvXbhwAUBgYCCA3377bf/+/bW1tdx11mjR9zMlPZCXlwegW7duhJAOHToAuHz5cmuDZGZmOjg4AAgPD1coFMuWLbOwsBCLxQDatGlDV9eUlJTw0H3jwByFJZfLnZycAJSUlIwfPx7Azp07WxUhNTWVPi4MCwurq6sLDw8HIBKJwsLCBg8erFxd49upE/HxIdHR5PRpolDwdDqGiTkKixAyatQoAHv27Fm/fj2AOXPmqN92z549VlZWACIiIhoaGmbMmAFALBb//PPP9IDbt29v37797bffTg4KIsCjf507k7lzye+/83NCBoeZCutf//oXgPfff//cuXNTp05NSkpSs2F8fLylpSWAyMjIurq6t99+G4Cdnd3Ro0ebObqujqSnk0WLSJcuj+T1ySfk449JZCRJTydRUYQQUlpKvv2WsxMzGMxUWMeOHQPQv3//VrXatGkTdaGJjIysrq4OCgoC4OLi8vsLxyGFgpw+TaKjyaRJpKGBEEJmzCBz55JDh0hcHImJ0fQ8DBczFVZ9fb21tbVQKFR/5WdMTAwAgUCwcePG+/fvDx48GEDHjh1bV0kREfHoh3nzyLx55ORJsn8/E5bpcOHCBUdHRzc3NwsLC29v76ioqNzc3BaOT0xMBGBpaZmQkFBWVta3b196X9nq28m0NLJoEVmxgvz0E5k/nxBCbtxgwjIRcnJy2rZtC6BTp06qq7J69er14YcfZmRkNDU1PdOkqalp8uTJBw4cuHr1as+ePQF4eHjcvHlTk7eXyUhjIwenYdiYnbCOHTtG80+jR4+ura2VSqUHDx4MDw/v2LGjUmHOzs6hoaHx8fGVlZWqbYuKijp37gzAx8fn7t27+joFo8C8hPXbL7/Q/NOUKVManx425HJ5bm5uVFSUt7e3UmFCodDf3z8mJqaoqCg3N5cW5AwdOvTBgwf6OgVjwZyEtWePvGPHkd26RUREyOXyFg68fPnyhg0bhg8fTvNVFJpVHzNmTF1dnc66bLyYjbC2biVCIQGk0dEKtZPgNTU19ELp7OzcoUOHV199tdEMpkecYB7C2rSJCAQEIJGRmgWgyxY8PDy47ZcJYwZVOmvXYvlyWFhg82bMn69ZDGUpTnl5OZ1pMVrGDJbNjBqF9u3x/fcaqwqAlZXVoEGDCCvFURszEFavXrhyBe++q2UYVorTKkxdWHl5WLUKXFzu2eLjVmFyW/eq7kofFAQnJ9jZQSVroDF+fn6Wlpa5ubm1tbU09WAKPPNxcYi+7x64ZtasJ8sHuGbAgAEAMjMzOY+sN3j7uEzuUqi6Kz3XmODVkLePy+TSDb/+itRU2NmhXTtUVsLHB2PGcBU7KSlp0qRJI0eO/OWXX7iKqWeUH1evXrC3R2Ag2rfnJjK3A6BBQJcP/N//EYC88w5RKEhWFlm/XvtV52VlZQAcHBxkMhknPdU/u3eTGTNISQl56y0CkMRErgKb3KUQj3elp9ulHj8OgQATJ+Kjj/Dnn1oG7tChQ/fu3R8+fJifn89BPw2BuDjEx+OPPx7ttc5dMsUUhUXp3RsuLrh+HTducLhDvalNs5SfjPJ7yBGmKyyBAH5+gMqnxp2xjOmkSZV68vGBWIyCAty/z0lg0xUW8GR4DwgAcKegQLMwjY2Na9asaWxsxOMRS+PiaYNj8GBYWeHsWTQ2wscHhODkSU4Cm7KwSGDghe7d91ZUwMurv4fHS3/8UV5e3togdXV148aNi4yMnDt3LgCFQmFvbx8QEGAijkW2tvDygkyGU6c4HNdh2sJq9PEZUFo6ee/e+w8etO/SBa2fG9XU1IwZM+bnn392cXGZO3dudnZ2YGBgdXV1+/bt27Rpw0+vdU5gIITCmjNnyt54Y5OfXzhX9yVc3V4aJtSrIzU1deXKlQCWLFmiftv79+8PGjQIQMeOHfPz8zMyMuzt7QGMHTvWlBaRnkpJcbO3DwoKqqqqEgqF1tbWnJydiQvrk08+AbBixYqjR48CGDhwoJoNy8rK+vTpg8c1XgcPHqRD1NSpU/9aw2PU3L59G4CdnV1TUxMta8vKytI+rIkL69ChQwCGDBlSU1Pz+eefp6enq9NKWePl6el569atxMREWla/YMGClhfLGym9evUCkJubO3/+fABffvml9jFNXFiVlZUWFhbW1tb19fVqNikqKnJzc8PjGq9vvvmGusdEarqs2fB57733AEgkkl27dgEICQnRPqaJC0smk3Xo0MHa2nr48OHbtm0rKytr+ficnBy6CcCbb75ZXV2tLKtft26dbjqsF7Zv3w4gNDS0pKQEgLOzs/YDsykLq7GxcdKkSXQCQe9ULCwsfH19V69e/bxtUW/cuOHu7h4SEiKVSulemEKhkO4gZ8LQXRTatm2bnZ3t6Ojo6emp/o5oz8NkhVVfX089hhwdHVNSUpTbwSlvh7t27RoeHn7w4MFnrpLXrl2rr6+fM2cOAJFIpL7DkfGiUCjoJurKOhHVLT81i2mawqqurn7zzTcBuLi4nDp1Svl6bW1tenr6okWL6CyKIhaLQ0JCvvvuu9LSUkJIY2PjxIkT6eu//PKL/k5Cd5w6dcrFxQXA4MGDP/vsMx8fH+rWpM4Y/zxMUFiqHkN0u8q/olAo/vjjj88//5xuskoRCoV+fn40y+Do6MjJXbfho5qfUw7ed+7cUX+MbxZTE9Yz+Sd1mpSXl8fHx4eEhFDnGXd3dzs7uxd7qZkEPyYni0QiALNmzWp2kRk1TZkzZ46qaYq9vf2ECRN27typuiHoMxicsAoLC0+cOLF+/fo///yztW1V808aTA6qq6ujoqIAeHl5tbatUZKQkD5woLW19cKFC9W5DSwoKIiJifH396cXShsbG6lU+ryDDUtY1GOI7qsLoHv37osWLUpPT1fHMeGZ/JNmHaipqbG0tLS0tKyurtYsgs7Yt2/fvHnzkpOTKyoqNGkvkVDbgcKNG1vb9Pr167GxsdHR0S0cY0DCUnpcDxs2LCwsjE4nKa6urtOmTUtKSnqef1Bubi71UtPeY8jHxwdA82a1BkNaWtqOHTto1ZDSa6mwsFDd9jExBCACAVm/nqceGoqw/v3vfys9rumwLJPJqGGVp6en6vyafogXL15UtlV6qYWEhLRw1VeTxYsXA1i5cqWWcfjj/PnzKSkpnTp1io6OdnFxUfVaeuWVV5JXrybHjpHnrcpXKMhHHxGACIXk++/566RBCEvV41oqlf7VDvTSpUtr164dOnSoUChUfoh9+vRZsWLFunXrlF7+nHgMJScnAwgODtY+FB+UlZXFx8e7ubn99NNPoaGhRMVrie6ycX7IEAIQFxcSGkri48nTpoQkNZUAxNqa/Pgjr/3Uv7D+6nEtFouPHz/e7MEVFRVJSUnTpk2jW0vQvACAefPmcfV4mD7td3JykhteKU5dXd3q1av9/f1jY2M3/mVuJJPJMjMzq//5T/Lyy082LhCJyIgR5OrVJ8f9858kLY3vrmohLFX/+/z8J774rUH5ME4ikbTK47qxsTE9PX369OkCgcDFxUXTc2ieY6NHV9vZkRZ9lPXC4sWLFy9evGDBgpycnBcceuUKkUhIUBCxsiI2NiQnR7M/kMZoISxV/3tlpfb06US9WY5CoViyZAmdNsXFxWmQf6JB6DPja9euaXwezfDuuwQgEgmXMTX97ilZunTpzp07p06d+vDhw1Y0q6ggGRm8Og80ixZLkwUCuLrC2RlQqdSuqICrK0aMwNdf49at5zWVy+WzZ8/euHGjtbV1UlLSsGHDAgMD8/PzPTw8srKyevTooc77X7lyRSqV+vn5gfN6LK6L7ABAIsHKlYiJQWIi9u5Fbm6rPHC+/vrrgICAixcvJiQkqGbDX4yLC954g1fngWbRTliDB2PAAAAYPx4ffIBPP4WLC+rrceQIFi+GuzsGDbq0Zcsze+PSRQc7duywtbVNSUnx8PAIDAy8fPmyj4/Pf//7X9WneC0wceLEnj17pqWl8WJbRcsKuC3FUf5p27RBRAQGDsRLL2H6dOzdi5qalpumpaXZ2toSQr788ksN3135BwoO1jBCa+Fs7FP64t+5Q+LjSWgosbcnwBIvLwDu7u70MVNFRUVwcDAAZ2fn7OxsjT2uo6OjASxZsoRKqk+fPpydCCFEoSDt2xOAXLnCQbRDh8iYMeTQoUd7UiQmkvnzibv7k/m1WFwfFrZ161b6FPwZiouLo6Ki1N+a5bnoduMCPu8KpVJy8OD7c+eqPmaiT6Y6dOhw/vz5Z7z8WxVbuYa9oaFBLBYLBAINE9DPY9w4ApD4eG3j7NpFrKwIQHbsePZPW1BAYmKIvz+xsLhMx0jA09MzMjIyKyuLWjs3NDSsXr26gU6PjAodpRvoYyY/Pz8HB4c2bdrQHPGnn36K5rz81UEqlYpEIvrsZciQIQBSUlK47PHWrWTMGHL4sFZBvv2WWFi82K25tPREYuJbb72l6ufm7u5+4MAB5R6IRoeu81g0jZ6dnU0IUSgUu3fv1jj/5OvrC+DIkSMrVqwA8PHHH3PZUa1v4khMDBEIiEBAvvpKzRZ1dXV0uRjdWGX48OFHjhzR8N31ja6FReuJ16xZo32oDz/8EEB0dHRqaiqAgIAA7WM+QTWBMmgQOXaMlJer3zpt7VoCEAsLzTa5VCgUtMCB42+LDtF1JTSHphrKUP7+/kKhMCcnh8uyd+VNXE0NamqwfDm2bsW6dXiRAYRCoViwYMHfly1bN3w4EhMREaHBmwsEggkTJsCobW10LOSrV68CaNu2rfr7jjyPO3fuCAQCzistH6HcWHDCBLJoEXFyImFh5OOPiYcHWb68srCw2WVxMpns3XffBWBtbb1v3z5t3v/Bgwcc1iXrHj08K+zSpQuAoqIi7UO9/PLL4LrS8gn0Jq64mOTkkG3byJQp5PPPycKFxMnpvXfeiY6O3rFjh+r9WkNDw/jx4wHY2tqqWRnbMv369eP426JD9GAKQi9hnAzyShs0XtKk1BmwWzf4+GD2bOzahS++QEwMjh4NDArq2bPn7du3PT09//Of/9y6dUsqlf7jH//Yt2+fq6trRkZGEBfW1sZtmaR7LW/evBnADC4eWsXFxXl6en733Xc3b94ER5WWrUImkxUXF585c+bw4cNeXl4uLi7nzp3jKvju3bsBjB49mquAukQPwjp79iyAHj16cBuWPgt6XlkO32zZsgXA+PHjOYxJvy1OTk7GaBihh0th3759HR0dr1y5UlpaylXM3377raKiYvLkyXQCp3voZSsvL4/DmG5ubl27dq2qqiosLOQwrG7Qg7AsLCxef/11cDcl+vHHH0eOHFlfX29ra0ufEemePn36ODk5FRcX02GGK4zXS1c/jn4cZrMSExMnT57c2Ni4cOHCrVu3Kkt4dYzy28LtvnPG66WrH2E980Wsrq5etWqVBteR2NjYGTNmyGSyyMjIzZs3U78hfcGHCKgjoTGOWPpZ815bWysSiYRCIV0MmZSURDvTvn37adOmqVnErVzWvJ63GqZWkZmZCWDAgAEcxlQoFLQMTnv7Fx2jt2IKurydermcOXMmPDxcdYmfnZ3d+PHjd+zYcefOnb+2VSgUS5cuBSAUCr/ns4apVSi/LVVVVRyGDQkJAbB7924OY+oA/Qirvr6+d+/enTt3trCw8Pb2joqKys3NVSgUtJBwwIABqm4nr7/+enJysrKtTCYzWI8hOs1K47QGhq4anT9/PocxdYAeJiUPHz4MDg4uLCx88OCBSCQ6ffr0ypUrfXx8evbsmZCQEBgY+Pvvv9++fZu6nYjF4pMnT1ZUVNC2jY2NU6ZM2bZtm1gsPnDgQGhoqO773wJ83MQ5ODiIRCK5XM5hTF2gYyFXVFSoelzX1tbSYstOnTopu2Rra0sNq27fvl1TU7Nv377y8nLytJeaYT5B279/P4A33niDq4CHDx+mq/9iY2N37dq1atWqtWvXxsXF5eXlNWnnJMA3OhVWCzVecrmcXge9vb2V10GhUEgvlIWFhc/zUjMo7t69KxAIbGxsOFlMvH//fuoBPn36dOoBXl5eHhcXN2TIEAcHh6bBg8nMmeTTT8n69SQujmRkEENK0OtQWJcvF4wdayEQ9O3bt2WT2eLi4k2bNo0YMYIukKfQ0ucuXbpcuHBBZ13WAA8PDwDa22slJCRQ24GFCxc+s8RIKpUeSEoiXl7klVfI2LEkLIyMGkU6ddJ+Q0YO0ZWw8vNJx44EyJk+/f79+2o2oq5f1JVgxIgRQ4cO5bgwlQfojYWWLstbtmx5sQe4QkGSk8moUWTECDJ5Mpk48claatUidT2hE2Hl5JC2bQlAhg0jrarifYxMJms272CAxMfHAxg3bpzGEZT5uQ0bNqjVICODzJ9P/v73J7XOqkXqeoJ/YWVmEgcHApCQEDWr740aunZDLBZLJJIrrSxLVCgUH330EZ1cbt++vXVvHBHx6Id588i8eeTkSbJ/v+kKq7aWXgHJtGnEtLagaZbjx4937doVgPLhktKU8IU78MhkstmzZwMQiUR79+5t9Xsr11L/9BOhSa8bN0xXWISQEyfIhx8a1A0LH8jlcolEQj3QhELh8uXLJ0+erPRaAtCuXbuZM2cmJyc3a0LZ0NBAc3JisfiwxsWMuq11bhmuhcWFt5HRcePGDVo0S/n666/p6zKZLCsrKzIykt4qUiwtLf39/SUSyfXr1+lhUql05MiR9M73ecZgRgfXwmrW20hX1jn6Yffuh9bWp4FeAIDZs2c3e1RRUdFXX30VEBCgakro5eW1bNkyb29vAO3btz979qyO+84fXAtLddqoOp00SWprSUSE0tsjGwgMDHxhavTevXvUlJB6EVJJubu7X7p0STe91g0C0hqXphezYAG++QYlJdi9G/37IzUVdnYYOBBvv83luxgCRUUIC8P588oXil1d7S9cUG5H80IaGxszMzNTUlKCg4P79evn7u7OT0f1A9fCega5HAoFVGx9TYSEBISHQ7Xw2sYGWVnw9tYg2MmTJwcOHEjz7CYDz6sbaGme6ZGQ8JSqBALs3KmZqgD873//y+dqi2+DwZR3seeRYcOe+u/KlZg4UeNgr7766g8//KBljwwNJiz1iI4GgLIyfPcdCgpQXY2BAx/9ytcXn32mTWw3Nze5XP7gwQNtO2lIMGGpR3k5UlORloaqqkc2tadOwc8PX32FX3+FdqVBzs7OCoXCGIsHW4AJSz3+ahEtEKBfPyxfjsdZA41p06bN0aNHTxlhjVcLmNSdCI9Qi+iSEly8+MiB2M6OKwdioVB4YcAArFqF2bMfadf44TndYKpwnkb55hvk5CAwELNmcRZTr7ARSyOEQqg8meEAa2u4uKCkhMuYeoXNsQyDsjIcO4bS0ha28zAumLAMg9dfR20tkpJw9Ki+u8INbI5lGBQUYPt2/Pknrl6FSeQd2BzLMHB0BCGYOROPt6gwdtil0AAoKEBsLNq0gZMTvv0WeJziN2bYiGUASCSIjYVIhJkzYWOD1FTcvYuqKn13SyvYiGUAqG4mqJriN2bYiGUAqKby09OfpPiNGXZXaBiY3IpIJiwGL7A5FoMXmLAYvMCExeAFJiwGLzBhMXiBCYvBC0xYDF5gwmLwAhMWgxeYsBi8wITF4AUmLAYvMGExeIEJi8ELTFgMXmDCYvACExaDF5iwGLzAhMXgBSYsBi8wYTF4gQmLwQtMWAxeYMJi8AITFoMXmLAYvMCExeAFJiwGLzBhMXiBCYvBC0xYDF74f+ZuenusYwSdAAAAAElFTkSuQmCC\" alt=\"Mol\"/></td>\n",
       "      <td>0.9528</td>\n",
       "      <td>0.151747</td>\n",
       "      <td>491.118403</td>\n",
       "      <td>4</td>\n",
       "      <td>0</td>\n",
       "      <td>0</td>\n",
       "      <td>0</td>\n",
       "    </tr>\n",
       "  </tbody>\n",
       "</table>\n",
       "</div>"
      ],
      "text/plain": [
       "   id                                             smiles compound_class  \\\n",
       "0   3  COC1=CC(=CC(OC)=C1O)C1=[O+]C2=C(C=C1OC1OC(COC(...     Flavonoids   \n",
       "1   5  CC(=O)OCC1OC(OC2=CC3=C(O)C=C(O)C=C3[O+]=C2C2=C...     Flavonoids   \n",
       "2   6  [H][C@]1(COC(C)=O)O[C@@]([H])(OC2=CC3=C(O)C=C(...     Flavonoids   \n",
       "\n",
       "  compound_subclass                                      name  \\\n",
       "0      Anthocyanins  Malvidin 3-O-(6''-p-coumaroyl-glucoside)   \n",
       "1      Anthocyanins  Delphinidin 3-O-(6''-acetyl-galactoside)   \n",
       "2      Anthocyanins     Cyanidin 3-O-(6''-acetyl-galactoside)   \n",
       "\n",
       "   molecular_weight    formula cas_number               created_at  \\\n",
       "0           639.580  C32H31O14        NaN  2005-09-07 11:07:11 UTC   \n",
       "1           507.421  C23H23O13        NaN  2005-03-25 11:36:49 UTC   \n",
       "2           491.422  C23H23O12        NaN  2005-03-25 11:36:49 UTC   \n",
       "\n",
       "                updated_at                                              ROMol  \\\n",
       "0  2015-05-10 23:28:36 UTC  <img data-content=\"rdkit/molecule\" src=\"data:i...   \n",
       "1  2015-05-10 23:28:36 UTC  <img data-content=\"rdkit/molecule\" src=\"data:i...   \n",
       "2  2015-05-10 23:28:36 UTC  <img data-content=\"rdkit/molecule\" src=\"data:i...   \n",
       "\n",
       "   MolLogP       qed  ExactMolWt  fr_phenol  fr_methoxy  fr_lactone  fr_urea  \n",
       "0   2.6635  0.079643  639.170832          4           2           0        0  \n",
       "1   0.6584  0.135324  507.113317          5           0           0        0  \n",
       "2   0.9528  0.151747  491.118403          4           0           0        0  "
      ]
     },
     "execution_count": 7,
     "metadata": {},
     "output_type": "execute_result"
    }
   ],
   "source": [
    "df.head(3)"
   ]
  },
  {
   "cell_type": "code",
   "execution_count": 8,
   "id": "de175531",
   "metadata": {},
   "outputs": [],
   "source": [
    "# ROMolの削除"
   ]
  },
  {
   "cell_type": "code",
   "execution_count": 9,
   "id": "0d760fbd",
   "metadata": {},
   "outputs": [],
   "source": [
    "df = df.drop('ROMol', axis=1)"
   ]
  },
  {
   "cell_type": "code",
   "execution_count": 10,
   "id": "543a3cd1",
   "metadata": {},
   "outputs": [],
   "source": [
    "df.to_csv('data/output.csv', index=False)"
   ]
  },
  {
   "cell_type": "code",
   "execution_count": 11,
   "id": "a8983f9e",
   "metadata": {},
   "outputs": [
    {
     "name": "stdout",
     "output_type": "stream",
     "text": [
      "compounds-structures.csv  output.csv\r\n",
      "lunch_box.csv             processed_datamart.csv\r\n"
     ]
    }
   ],
   "source": [
    "ls data/"
   ]
  }
 ],
 "metadata": {
  "kernelspec": {
   "display_name": "Python 3 (ipykernel)",
   "language": "python",
   "name": "python3"
  },
  "language_info": {
   "codemirror_mode": {
    "name": "ipython",
    "version": 3
   },
   "file_extension": ".py",
   "mimetype": "text/x-python",
   "name": "python",
   "nbconvert_exporter": "python",
   "pygments_lexer": "ipython3",
   "version": "3.8.11"
  }
 },
 "nbformat": 4,
 "nbformat_minor": 5
}
