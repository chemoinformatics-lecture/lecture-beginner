{
  "cells": [
    {
      "cell_type": "markdown",
      "metadata": {
        "id": "view-in-github",
        "colab_type": "text"
      },
      "source": [
        "<a href=\"https://colab.research.google.com/github/chemoinformatics-lecture/lecture-beginner/blob/main/lesson02_jupyter/lecture_note2.ipynb\" target=\"_parent\"><img src=\"https://colab.research.google.com/assets/colab-badge.svg\" alt=\"Open In Colab\"/></a>"
      ]
    },
    {
      "cell_type": "markdown",
      "id": "7f7e4858",
      "metadata": {
        "id": "7f7e4858"
      },
      "source": [
        "# google colabへのリンク"
      ]
    },
    {
      "cell_type": "markdown",
      "id": "75b6b4fe",
      "metadata": {
        "id": "75b6b4fe"
      },
      "source": [
        "[![Open In Colab](https://colab.research.google.com/assets/colab-badge.svg)](http://colab.research.google.com/github/chemoinformatics-lecture/lecture-beginner/blob/main/lesson02_jupyter/lecture_note2.ipynb)"
      ]
    },
    {
      "cell_type": "markdown",
      "id": "ee5fc9c1",
      "metadata": {
        "id": "ee5fc9c1"
      },
      "source": [
        "# 使用しているversionについて"
      ]
    },
    {
      "cell_type": "code",
      "execution_count": 1,
      "id": "f9f02832",
      "metadata": {
        "id": "f9f02832"
      },
      "outputs": [],
      "source": [
        "# 一般的にpandasはpdと名前を付けてimportされる\n",
        "import pandas as pd"
      ]
    },
    {
      "cell_type": "code",
      "execution_count": 2,
      "id": "880e38ba",
      "metadata": {
        "id": "880e38ba",
        "outputId": "a87340dd-3719-4a3f-954d-f7bd9e0d2e28",
        "colab": {
          "base_uri": "https://localhost:8080/",
          "height": 35
        }
      },
      "outputs": [
        {
          "output_type": "execute_result",
          "data": {
            "text/plain": [
              "'Linux-5.4.188+-x86_64-with-Ubuntu-18.04-bionic'"
            ],
            "application/vnd.google.colaboratory.intrinsic+json": {
              "type": "string"
            }
          },
          "metadata": {},
          "execution_count": 2
        }
      ],
      "source": [
        "import platform\n",
        "# 使用しているOSを表示\n",
        "platform.platform()"
      ]
    },
    {
      "cell_type": "code",
      "execution_count": 3,
      "id": "173693f5",
      "metadata": {
        "id": "173693f5",
        "outputId": "eb348aa9-af5b-44e3-9c19-1eb750be8eb7",
        "colab": {
          "base_uri": "https://localhost:8080/"
        }
      },
      "outputs": [
        {
          "output_type": "stream",
          "name": "stdout",
          "text": [
            "Python 3.7.13\n"
          ]
        }
      ],
      "source": [
        "# pythonのバージョン確認\n",
        "!python -V"
      ]
    },
    {
      "cell_type": "code",
      "execution_count": 4,
      "id": "8e0bb72a",
      "metadata": {
        "id": "8e0bb72a",
        "outputId": "b10d2d8e-49ac-4dde-8775-93f860571869",
        "colab": {
          "base_uri": "https://localhost:8080/",
          "height": 35
        }
      },
      "outputs": [
        {
          "output_type": "execute_result",
          "data": {
            "text/plain": [
              "'1.3.5'"
            ],
            "application/vnd.google.colaboratory.intrinsic+json": {
              "type": "string"
            }
          },
          "metadata": {},
          "execution_count": 4
        }
      ],
      "source": [
        "# panasのversion\n",
        "pd.__version__"
      ]
    },
    {
      "cell_type": "markdown",
      "id": "5315bb90",
      "metadata": {
        "id": "5315bb90"
      },
      "source": [
        "## Pandasについて\n",
        "- 公式ドキュメント：http://pandas.pydata.org/pandas-docs/stable/\n",
        "- pandasは、Pythonにおいて、データ解析を支援する機能を提供するライブラリである。\n",
        "- 特に、数表および時系列データを操作するためのデータ構造と演算を提供する。"
      ]
    },
    {
      "cell_type": "markdown",
      "id": "6c7fdf38",
      "metadata": {
        "id": "6c7fdf38"
      },
      "source": [
        "## 参考リンク（もうちょっといろいろ知りたい人用）\n",
        "\n",
        "**全般的に**\n",
        "- [データ分析で頻出のPandas基本操作 - qiita](https://qiita.com/ysdyt/items/9ccca82fc5b504e7913a)\n",
        "    - 基本操作についてまとめてくれている。\n",
        "\n",
        "**基本操作系**\n",
        "- [Pandas Cheet Sheet - GitHub](https://github.com/pandas-dev/pandas/blob/master/doc/cheatsheet/Pandas_Cheat_Sheet.pdf)\n",
        "    - 基本操作について1ページでまとめてくれているCheet Sheet\n",
        "    \n",
        "- [StatsFragments by @sinhrks](http://sinhrks.hatenablog.com/)\n",
        "    - 各種Pandasメソッドを図付きで詳細に解説してくれています。非常に参考になる。\n",
        "    "
      ]
    },
    {
      "cell_type": "markdown",
      "id": "08f0121b",
      "metadata": {
        "id": "08f0121b"
      },
      "source": [
        "**集計テクニック系**\n",
        "- [pandasで条件分岐(case when的な)によるデータ加工を網羅したい](https://qiita.com/Hyperion13fleet/items/98c31744e66ac1fc1e9f)\n",
        "    - SQLのcase whenのような条件分岐の処理をpandasでやりたいときが良くありますがなかなか難しい。そんなときのお助け記事。\n",
        "    \n",
        "**作図系**\n",
        "- [PythonでPandasのPlot機能を使えばデータ加工からグラフ作成までマジでシームレス - Qiita](https://qiita.com/hik0107/items/de5785f680096df93efa)\n",
        "    - Pandas Plotでできることの概要がわかります\n",
        "- [pythonで美しいグラフ描画 -seabornを使えばデータ分析と可視化が捗る その1 - Qiita](https://qiita.com/hik0107/items/3dc541158fceb3156ee0)\n",
        "    - Pandas Plot, matplotlibと比較して簡単に美しいプロットがかけるmatplotのラッパーseabornの概要がわかります "
      ]
    },
    {
      "cell_type": "markdown",
      "id": "ccabb774",
      "metadata": {
        "id": "ccabb774"
      },
      "source": [
        "# 目次\n",
        "\n",
        "### 1. データの読み込み\n",
        "### 2. データや統計量の表示\n",
        "### 3. データの欠損状態の確認\n",
        "### 4. データの並び替え\n",
        "### 5. データの追加\n",
        "### 6. データの表示\n",
        "### 7. データの出力"
      ]
    },
    {
      "cell_type": "markdown",
      "id": "ef5f3cb5",
      "metadata": {
        "id": "ef5f3cb5"
      },
      "source": [
        "# 1. データの読み込み"
      ]
    },
    {
      "cell_type": "markdown",
      "id": "ee6a5db1",
      "metadata": {
        "id": "ee6a5db1"
      },
      "source": [
        "元のデータ\n",
        "\n",
        "http://phenol-explorer.eu/downloads\n",
        "\n",
        "Structures for Polyphenols having composition data (SMILES)をダウンロード\n",
        "して少しデータを追加したもの。"
      ]
    },
    {
      "cell_type": "code",
      "source": [
        "from google.colab import drive\n",
        "drive.mount('/content/drive')"
      ],
      "metadata": {
        "id": "lLkRY3OQK-5b",
        "outputId": "4e2ab967-6a9b-4ff2-8bc4-2de00e240ae1",
        "colab": {
          "base_uri": "https://localhost:8080/"
        }
      },
      "id": "lLkRY3OQK-5b",
      "execution_count": 5,
      "outputs": [
        {
          "output_type": "stream",
          "name": "stdout",
          "text": [
            "Drive already mounted at /content/drive; to attempt to forcibly remount, call drive.mount(\"/content/drive\", force_remount=True).\n"
          ]
        }
      ]
    },
    {
      "cell_type": "code",
      "execution_count": 6,
      "id": "cc0fc5a0",
      "metadata": {
        "id": "cc0fc5a0"
      },
      "outputs": [],
      "source": [
        "df = pd.read_csv('/content/drive/MyDrive/data/output.csv', sep=',')"
      ]
    },
    {
      "cell_type": "markdown",
      "id": "8e1952d7",
      "metadata": {
        "id": "8e1952d7"
      },
      "source": [
        "# 2. データや統計量の表示"
      ]
    },
    {
      "cell_type": "code",
      "execution_count": 7,
      "id": "6571d30e",
      "metadata": {
        "id": "6571d30e",
        "outputId": "1f3b382b-d61a-4a66-d271-9aaff02ff3ac",
        "colab": {
          "base_uri": "https://localhost:8080/",
          "height": 197
        }
      },
      "outputs": [
        {
          "output_type": "execute_result",
          "data": {
            "text/plain": [
              "   id                                             smiles compound_class  \\\n",
              "0   3  COC1=CC(=CC(OC)=C1O)C1=[O+]C2=C(C=C1OC1OC(COC(...     Flavonoids   \n",
              "\n",
              "  compound_subclass                                      name  \\\n",
              "0      Anthocyanins  Malvidin 3-O-(6''-p-coumaroyl-glucoside)   \n",
              "\n",
              "   molecular_weight    formula cas_number               created_at  \\\n",
              "0            639.58  C32H31O14        NaN  2005-09-07 11:07:11 UTC   \n",
              "\n",
              "                updated_at  MolLogP       qed  ExactMolWt  fr_phenol  \\\n",
              "0  2015-05-10 23:28:36 UTC   2.6635  0.079643  639.170832          4   \n",
              "\n",
              "   fr_methoxy  fr_lactone  fr_urea  \n",
              "0           2           0        0  "
            ],
            "text/html": [
              "\n",
              "  <div id=\"df-8f74c052-9e14-49f0-a157-6ead272a512c\">\n",
              "    <div class=\"colab-df-container\">\n",
              "      <div>\n",
              "<style scoped>\n",
              "    .dataframe tbody tr th:only-of-type {\n",
              "        vertical-align: middle;\n",
              "    }\n",
              "\n",
              "    .dataframe tbody tr th {\n",
              "        vertical-align: top;\n",
              "    }\n",
              "\n",
              "    .dataframe thead th {\n",
              "        text-align: right;\n",
              "    }\n",
              "</style>\n",
              "<table border=\"1\" class=\"dataframe\">\n",
              "  <thead>\n",
              "    <tr style=\"text-align: right;\">\n",
              "      <th></th>\n",
              "      <th>id</th>\n",
              "      <th>smiles</th>\n",
              "      <th>compound_class</th>\n",
              "      <th>compound_subclass</th>\n",
              "      <th>name</th>\n",
              "      <th>molecular_weight</th>\n",
              "      <th>formula</th>\n",
              "      <th>cas_number</th>\n",
              "      <th>created_at</th>\n",
              "      <th>updated_at</th>\n",
              "      <th>MolLogP</th>\n",
              "      <th>qed</th>\n",
              "      <th>ExactMolWt</th>\n",
              "      <th>fr_phenol</th>\n",
              "      <th>fr_methoxy</th>\n",
              "      <th>fr_lactone</th>\n",
              "      <th>fr_urea</th>\n",
              "    </tr>\n",
              "  </thead>\n",
              "  <tbody>\n",
              "    <tr>\n",
              "      <th>0</th>\n",
              "      <td>3</td>\n",
              "      <td>COC1=CC(=CC(OC)=C1O)C1=[O+]C2=C(C=C1OC1OC(COC(...</td>\n",
              "      <td>Flavonoids</td>\n",
              "      <td>Anthocyanins</td>\n",
              "      <td>Malvidin 3-O-(6''-p-coumaroyl-glucoside)</td>\n",
              "      <td>639.58</td>\n",
              "      <td>C32H31O14</td>\n",
              "      <td>NaN</td>\n",
              "      <td>2005-09-07 11:07:11 UTC</td>\n",
              "      <td>2015-05-10 23:28:36 UTC</td>\n",
              "      <td>2.6635</td>\n",
              "      <td>0.079643</td>\n",
              "      <td>639.170832</td>\n",
              "      <td>4</td>\n",
              "      <td>2</td>\n",
              "      <td>0</td>\n",
              "      <td>0</td>\n",
              "    </tr>\n",
              "  </tbody>\n",
              "</table>\n",
              "</div>\n",
              "      <button class=\"colab-df-convert\" onclick=\"convertToInteractive('df-8f74c052-9e14-49f0-a157-6ead272a512c')\"\n",
              "              title=\"Convert this dataframe to an interactive table.\"\n",
              "              style=\"display:none;\">\n",
              "        \n",
              "  <svg xmlns=\"http://www.w3.org/2000/svg\" height=\"24px\"viewBox=\"0 0 24 24\"\n",
              "       width=\"24px\">\n",
              "    <path d=\"M0 0h24v24H0V0z\" fill=\"none\"/>\n",
              "    <path d=\"M18.56 5.44l.94 2.06.94-2.06 2.06-.94-2.06-.94-.94-2.06-.94 2.06-2.06.94zm-11 1L8.5 8.5l.94-2.06 2.06-.94-2.06-.94L8.5 2.5l-.94 2.06-2.06.94zm10 10l.94 2.06.94-2.06 2.06-.94-2.06-.94-.94-2.06-.94 2.06-2.06.94z\"/><path d=\"M17.41 7.96l-1.37-1.37c-.4-.4-.92-.59-1.43-.59-.52 0-1.04.2-1.43.59L10.3 9.45l-7.72 7.72c-.78.78-.78 2.05 0 2.83L4 21.41c.39.39.9.59 1.41.59.51 0 1.02-.2 1.41-.59l7.78-7.78 2.81-2.81c.8-.78.8-2.07 0-2.86zM5.41 20L4 18.59l7.72-7.72 1.47 1.35L5.41 20z\"/>\n",
              "  </svg>\n",
              "      </button>\n",
              "      \n",
              "  <style>\n",
              "    .colab-df-container {\n",
              "      display:flex;\n",
              "      flex-wrap:wrap;\n",
              "      gap: 12px;\n",
              "    }\n",
              "\n",
              "    .colab-df-convert {\n",
              "      background-color: #E8F0FE;\n",
              "      border: none;\n",
              "      border-radius: 50%;\n",
              "      cursor: pointer;\n",
              "      display: none;\n",
              "      fill: #1967D2;\n",
              "      height: 32px;\n",
              "      padding: 0 0 0 0;\n",
              "      width: 32px;\n",
              "    }\n",
              "\n",
              "    .colab-df-convert:hover {\n",
              "      background-color: #E2EBFA;\n",
              "      box-shadow: 0px 1px 2px rgba(60, 64, 67, 0.3), 0px 1px 3px 1px rgba(60, 64, 67, 0.15);\n",
              "      fill: #174EA6;\n",
              "    }\n",
              "\n",
              "    [theme=dark] .colab-df-convert {\n",
              "      background-color: #3B4455;\n",
              "      fill: #D2E3FC;\n",
              "    }\n",
              "\n",
              "    [theme=dark] .colab-df-convert:hover {\n",
              "      background-color: #434B5C;\n",
              "      box-shadow: 0px 1px 3px 1px rgba(0, 0, 0, 0.15);\n",
              "      filter: drop-shadow(0px 1px 2px rgba(0, 0, 0, 0.3));\n",
              "      fill: #FFFFFF;\n",
              "    }\n",
              "  </style>\n",
              "\n",
              "      <script>\n",
              "        const buttonEl =\n",
              "          document.querySelector('#df-8f74c052-9e14-49f0-a157-6ead272a512c button.colab-df-convert');\n",
              "        buttonEl.style.display =\n",
              "          google.colab.kernel.accessAllowed ? 'block' : 'none';\n",
              "\n",
              "        async function convertToInteractive(key) {\n",
              "          const element = document.querySelector('#df-8f74c052-9e14-49f0-a157-6ead272a512c');\n",
              "          const dataTable =\n",
              "            await google.colab.kernel.invokeFunction('convertToInteractive',\n",
              "                                                     [key], {});\n",
              "          if (!dataTable) return;\n",
              "\n",
              "          const docLinkHtml = 'Like what you see? Visit the ' +\n",
              "            '<a target=\"_blank\" href=https://colab.research.google.com/notebooks/data_table.ipynb>data table notebook</a>'\n",
              "            + ' to learn more about interactive tables.';\n",
              "          element.innerHTML = '';\n",
              "          dataTable['output_type'] = 'display_data';\n",
              "          await google.colab.output.renderOutput(dataTable, element);\n",
              "          const docLink = document.createElement('div');\n",
              "          docLink.innerHTML = docLinkHtml;\n",
              "          element.appendChild(docLink);\n",
              "        }\n",
              "      </script>\n",
              "    </div>\n",
              "  </div>\n",
              "  "
            ]
          },
          "metadata": {},
          "execution_count": 7
        }
      ],
      "source": [
        "df.head(1) "
      ]
    },
    {
      "cell_type": "code",
      "execution_count": 8,
      "id": "683354b6",
      "metadata": {
        "id": "683354b6",
        "outputId": "2d856038-0432-4eef-c739-d9ab8b6cfdf4",
        "colab": {
          "base_uri": "https://localhost:8080/",
          "height": 197
        }
      },
      "outputs": [
        {
          "output_type": "execute_result",
          "data": {
            "text/plain": [
              "      id                       smiles     compound_class    compound_subclass  \\\n",
              "491  730  COC1=CC(=CC=C1O)C(=O)C(O)CO  Other polyphenols  Hydroxybenzoketones   \n",
              "\n",
              "                                  name  molecular_weight   formula cas_number  \\\n",
              "491  2,3-Dihydroxy-1-guaiacylpropanone           212.199  C10H12O5        NaN   \n",
              "\n",
              "                  created_at               updated_at  MolLogP       qed  \\\n",
              "491  2004-05-06 16:14:14 UTC  2015-05-10 23:29:00 UTC  -0.0633  0.608331   \n",
              "\n",
              "     ExactMolWt  fr_phenol  fr_methoxy  fr_lactone  fr_urea  \n",
              "491  212.068473          1           1           0        0  "
            ],
            "text/html": [
              "\n",
              "  <div id=\"df-41b783a5-1ce4-4364-9b26-e984606bb141\">\n",
              "    <div class=\"colab-df-container\">\n",
              "      <div>\n",
              "<style scoped>\n",
              "    .dataframe tbody tr th:only-of-type {\n",
              "        vertical-align: middle;\n",
              "    }\n",
              "\n",
              "    .dataframe tbody tr th {\n",
              "        vertical-align: top;\n",
              "    }\n",
              "\n",
              "    .dataframe thead th {\n",
              "        text-align: right;\n",
              "    }\n",
              "</style>\n",
              "<table border=\"1\" class=\"dataframe\">\n",
              "  <thead>\n",
              "    <tr style=\"text-align: right;\">\n",
              "      <th></th>\n",
              "      <th>id</th>\n",
              "      <th>smiles</th>\n",
              "      <th>compound_class</th>\n",
              "      <th>compound_subclass</th>\n",
              "      <th>name</th>\n",
              "      <th>molecular_weight</th>\n",
              "      <th>formula</th>\n",
              "      <th>cas_number</th>\n",
              "      <th>created_at</th>\n",
              "      <th>updated_at</th>\n",
              "      <th>MolLogP</th>\n",
              "      <th>qed</th>\n",
              "      <th>ExactMolWt</th>\n",
              "      <th>fr_phenol</th>\n",
              "      <th>fr_methoxy</th>\n",
              "      <th>fr_lactone</th>\n",
              "      <th>fr_urea</th>\n",
              "    </tr>\n",
              "  </thead>\n",
              "  <tbody>\n",
              "    <tr>\n",
              "      <th>491</th>\n",
              "      <td>730</td>\n",
              "      <td>COC1=CC(=CC=C1O)C(=O)C(O)CO</td>\n",
              "      <td>Other polyphenols</td>\n",
              "      <td>Hydroxybenzoketones</td>\n",
              "      <td>2,3-Dihydroxy-1-guaiacylpropanone</td>\n",
              "      <td>212.199</td>\n",
              "      <td>C10H12O5</td>\n",
              "      <td>NaN</td>\n",
              "      <td>2004-05-06 16:14:14 UTC</td>\n",
              "      <td>2015-05-10 23:29:00 UTC</td>\n",
              "      <td>-0.0633</td>\n",
              "      <td>0.608331</td>\n",
              "      <td>212.068473</td>\n",
              "      <td>1</td>\n",
              "      <td>1</td>\n",
              "      <td>0</td>\n",
              "      <td>0</td>\n",
              "    </tr>\n",
              "  </tbody>\n",
              "</table>\n",
              "</div>\n",
              "      <button class=\"colab-df-convert\" onclick=\"convertToInteractive('df-41b783a5-1ce4-4364-9b26-e984606bb141')\"\n",
              "              title=\"Convert this dataframe to an interactive table.\"\n",
              "              style=\"display:none;\">\n",
              "        \n",
              "  <svg xmlns=\"http://www.w3.org/2000/svg\" height=\"24px\"viewBox=\"0 0 24 24\"\n",
              "       width=\"24px\">\n",
              "    <path d=\"M0 0h24v24H0V0z\" fill=\"none\"/>\n",
              "    <path d=\"M18.56 5.44l.94 2.06.94-2.06 2.06-.94-2.06-.94-.94-2.06-.94 2.06-2.06.94zm-11 1L8.5 8.5l.94-2.06 2.06-.94-2.06-.94L8.5 2.5l-.94 2.06-2.06.94zm10 10l.94 2.06.94-2.06 2.06-.94-2.06-.94-.94-2.06-.94 2.06-2.06.94z\"/><path d=\"M17.41 7.96l-1.37-1.37c-.4-.4-.92-.59-1.43-.59-.52 0-1.04.2-1.43.59L10.3 9.45l-7.72 7.72c-.78.78-.78 2.05 0 2.83L4 21.41c.39.39.9.59 1.41.59.51 0 1.02-.2 1.41-.59l7.78-7.78 2.81-2.81c.8-.78.8-2.07 0-2.86zM5.41 20L4 18.59l7.72-7.72 1.47 1.35L5.41 20z\"/>\n",
              "  </svg>\n",
              "      </button>\n",
              "      \n",
              "  <style>\n",
              "    .colab-df-container {\n",
              "      display:flex;\n",
              "      flex-wrap:wrap;\n",
              "      gap: 12px;\n",
              "    }\n",
              "\n",
              "    .colab-df-convert {\n",
              "      background-color: #E8F0FE;\n",
              "      border: none;\n",
              "      border-radius: 50%;\n",
              "      cursor: pointer;\n",
              "      display: none;\n",
              "      fill: #1967D2;\n",
              "      height: 32px;\n",
              "      padding: 0 0 0 0;\n",
              "      width: 32px;\n",
              "    }\n",
              "\n",
              "    .colab-df-convert:hover {\n",
              "      background-color: #E2EBFA;\n",
              "      box-shadow: 0px 1px 2px rgba(60, 64, 67, 0.3), 0px 1px 3px 1px rgba(60, 64, 67, 0.15);\n",
              "      fill: #174EA6;\n",
              "    }\n",
              "\n",
              "    [theme=dark] .colab-df-convert {\n",
              "      background-color: #3B4455;\n",
              "      fill: #D2E3FC;\n",
              "    }\n",
              "\n",
              "    [theme=dark] .colab-df-convert:hover {\n",
              "      background-color: #434B5C;\n",
              "      box-shadow: 0px 1px 3px 1px rgba(0, 0, 0, 0.15);\n",
              "      filter: drop-shadow(0px 1px 2px rgba(0, 0, 0, 0.3));\n",
              "      fill: #FFFFFF;\n",
              "    }\n",
              "  </style>\n",
              "\n",
              "      <script>\n",
              "        const buttonEl =\n",
              "          document.querySelector('#df-41b783a5-1ce4-4364-9b26-e984606bb141 button.colab-df-convert');\n",
              "        buttonEl.style.display =\n",
              "          google.colab.kernel.accessAllowed ? 'block' : 'none';\n",
              "\n",
              "        async function convertToInteractive(key) {\n",
              "          const element = document.querySelector('#df-41b783a5-1ce4-4364-9b26-e984606bb141');\n",
              "          const dataTable =\n",
              "            await google.colab.kernel.invokeFunction('convertToInteractive',\n",
              "                                                     [key], {});\n",
              "          if (!dataTable) return;\n",
              "\n",
              "          const docLinkHtml = 'Like what you see? Visit the ' +\n",
              "            '<a target=\"_blank\" href=https://colab.research.google.com/notebooks/data_table.ipynb>data table notebook</a>'\n",
              "            + ' to learn more about interactive tables.';\n",
              "          element.innerHTML = '';\n",
              "          dataTable['output_type'] = 'display_data';\n",
              "          await google.colab.output.renderOutput(dataTable, element);\n",
              "          const docLink = document.createElement('div');\n",
              "          docLink.innerHTML = docLinkHtml;\n",
              "          element.appendChild(docLink);\n",
              "        }\n",
              "      </script>\n",
              "    </div>\n",
              "  </div>\n",
              "  "
            ]
          },
          "metadata": {},
          "execution_count": 8
        }
      ],
      "source": [
        "df.tail(1)"
      ]
    },
    {
      "cell_type": "code",
      "execution_count": 9,
      "id": "16c3437b",
      "metadata": {
        "id": "16c3437b",
        "outputId": "f8738481-9a4c-4281-8cdc-2ab2b02962a9",
        "colab": {
          "base_uri": "https://localhost:8080/",
          "height": 197
        }
      },
      "outputs": [
        {
          "output_type": "execute_result",
          "data": {
            "text/plain": [
              "      id                smiles     compound_class    compound_subclass  \\\n",
              "418  633  CCC1=CC(OC)=C(O)C=C1  Other polyphenols  Alkylmethoxyphenols   \n",
              "\n",
              "                name  molecular_weight  formula cas_number  \\\n",
              "418  4-Ethylguaiacol            152.19  C9H12O2  2785-89-9   \n",
              "\n",
              "                  created_at               updated_at  MolLogP       qed  \\\n",
              "418  2007-02-21 00:00:00 UTC  2015-05-10 23:28:57 UTC   1.9632  0.701552   \n",
              "\n",
              "     ExactMolWt  fr_phenol  fr_methoxy  fr_lactone  fr_urea  \n",
              "418   152.08373          1           1           0        0  "
            ],
            "text/html": [
              "\n",
              "  <div id=\"df-982b2e5d-7ae5-4395-a71e-53de43cca86c\">\n",
              "    <div class=\"colab-df-container\">\n",
              "      <div>\n",
              "<style scoped>\n",
              "    .dataframe tbody tr th:only-of-type {\n",
              "        vertical-align: middle;\n",
              "    }\n",
              "\n",
              "    .dataframe tbody tr th {\n",
              "        vertical-align: top;\n",
              "    }\n",
              "\n",
              "    .dataframe thead th {\n",
              "        text-align: right;\n",
              "    }\n",
              "</style>\n",
              "<table border=\"1\" class=\"dataframe\">\n",
              "  <thead>\n",
              "    <tr style=\"text-align: right;\">\n",
              "      <th></th>\n",
              "      <th>id</th>\n",
              "      <th>smiles</th>\n",
              "      <th>compound_class</th>\n",
              "      <th>compound_subclass</th>\n",
              "      <th>name</th>\n",
              "      <th>molecular_weight</th>\n",
              "      <th>formula</th>\n",
              "      <th>cas_number</th>\n",
              "      <th>created_at</th>\n",
              "      <th>updated_at</th>\n",
              "      <th>MolLogP</th>\n",
              "      <th>qed</th>\n",
              "      <th>ExactMolWt</th>\n",
              "      <th>fr_phenol</th>\n",
              "      <th>fr_methoxy</th>\n",
              "      <th>fr_lactone</th>\n",
              "      <th>fr_urea</th>\n",
              "    </tr>\n",
              "  </thead>\n",
              "  <tbody>\n",
              "    <tr>\n",
              "      <th>418</th>\n",
              "      <td>633</td>\n",
              "      <td>CCC1=CC(OC)=C(O)C=C1</td>\n",
              "      <td>Other polyphenols</td>\n",
              "      <td>Alkylmethoxyphenols</td>\n",
              "      <td>4-Ethylguaiacol</td>\n",
              "      <td>152.19</td>\n",
              "      <td>C9H12O2</td>\n",
              "      <td>2785-89-9</td>\n",
              "      <td>2007-02-21 00:00:00 UTC</td>\n",
              "      <td>2015-05-10 23:28:57 UTC</td>\n",
              "      <td>1.9632</td>\n",
              "      <td>0.701552</td>\n",
              "      <td>152.08373</td>\n",
              "      <td>1</td>\n",
              "      <td>1</td>\n",
              "      <td>0</td>\n",
              "      <td>0</td>\n",
              "    </tr>\n",
              "  </tbody>\n",
              "</table>\n",
              "</div>\n",
              "      <button class=\"colab-df-convert\" onclick=\"convertToInteractive('df-982b2e5d-7ae5-4395-a71e-53de43cca86c')\"\n",
              "              title=\"Convert this dataframe to an interactive table.\"\n",
              "              style=\"display:none;\">\n",
              "        \n",
              "  <svg xmlns=\"http://www.w3.org/2000/svg\" height=\"24px\"viewBox=\"0 0 24 24\"\n",
              "       width=\"24px\">\n",
              "    <path d=\"M0 0h24v24H0V0z\" fill=\"none\"/>\n",
              "    <path d=\"M18.56 5.44l.94 2.06.94-2.06 2.06-.94-2.06-.94-.94-2.06-.94 2.06-2.06.94zm-11 1L8.5 8.5l.94-2.06 2.06-.94-2.06-.94L8.5 2.5l-.94 2.06-2.06.94zm10 10l.94 2.06.94-2.06 2.06-.94-2.06-.94-.94-2.06-.94 2.06-2.06.94z\"/><path d=\"M17.41 7.96l-1.37-1.37c-.4-.4-.92-.59-1.43-.59-.52 0-1.04.2-1.43.59L10.3 9.45l-7.72 7.72c-.78.78-.78 2.05 0 2.83L4 21.41c.39.39.9.59 1.41.59.51 0 1.02-.2 1.41-.59l7.78-7.78 2.81-2.81c.8-.78.8-2.07 0-2.86zM5.41 20L4 18.59l7.72-7.72 1.47 1.35L5.41 20z\"/>\n",
              "  </svg>\n",
              "      </button>\n",
              "      \n",
              "  <style>\n",
              "    .colab-df-container {\n",
              "      display:flex;\n",
              "      flex-wrap:wrap;\n",
              "      gap: 12px;\n",
              "    }\n",
              "\n",
              "    .colab-df-convert {\n",
              "      background-color: #E8F0FE;\n",
              "      border: none;\n",
              "      border-radius: 50%;\n",
              "      cursor: pointer;\n",
              "      display: none;\n",
              "      fill: #1967D2;\n",
              "      height: 32px;\n",
              "      padding: 0 0 0 0;\n",
              "      width: 32px;\n",
              "    }\n",
              "\n",
              "    .colab-df-convert:hover {\n",
              "      background-color: #E2EBFA;\n",
              "      box-shadow: 0px 1px 2px rgba(60, 64, 67, 0.3), 0px 1px 3px 1px rgba(60, 64, 67, 0.15);\n",
              "      fill: #174EA6;\n",
              "    }\n",
              "\n",
              "    [theme=dark] .colab-df-convert {\n",
              "      background-color: #3B4455;\n",
              "      fill: #D2E3FC;\n",
              "    }\n",
              "\n",
              "    [theme=dark] .colab-df-convert:hover {\n",
              "      background-color: #434B5C;\n",
              "      box-shadow: 0px 1px 3px 1px rgba(0, 0, 0, 0.15);\n",
              "      filter: drop-shadow(0px 1px 2px rgba(0, 0, 0, 0.3));\n",
              "      fill: #FFFFFF;\n",
              "    }\n",
              "  </style>\n",
              "\n",
              "      <script>\n",
              "        const buttonEl =\n",
              "          document.querySelector('#df-982b2e5d-7ae5-4395-a71e-53de43cca86c button.colab-df-convert');\n",
              "        buttonEl.style.display =\n",
              "          google.colab.kernel.accessAllowed ? 'block' : 'none';\n",
              "\n",
              "        async function convertToInteractive(key) {\n",
              "          const element = document.querySelector('#df-982b2e5d-7ae5-4395-a71e-53de43cca86c');\n",
              "          const dataTable =\n",
              "            await google.colab.kernel.invokeFunction('convertToInteractive',\n",
              "                                                     [key], {});\n",
              "          if (!dataTable) return;\n",
              "\n",
              "          const docLinkHtml = 'Like what you see? Visit the ' +\n",
              "            '<a target=\"_blank\" href=https://colab.research.google.com/notebooks/data_table.ipynb>data table notebook</a>'\n",
              "            + ' to learn more about interactive tables.';\n",
              "          element.innerHTML = '';\n",
              "          dataTable['output_type'] = 'display_data';\n",
              "          await google.colab.output.renderOutput(dataTable, element);\n",
              "          const docLink = document.createElement('div');\n",
              "          docLink.innerHTML = docLinkHtml;\n",
              "          element.appendChild(docLink);\n",
              "        }\n",
              "      </script>\n",
              "    </div>\n",
              "  </div>\n",
              "  "
            ]
          },
          "metadata": {},
          "execution_count": 9
        }
      ],
      "source": [
        "df.sample()"
      ]
    },
    {
      "cell_type": "code",
      "execution_count": 10,
      "id": "80cc587e",
      "metadata": {
        "id": "80cc587e",
        "outputId": "37a4c876-1be3-4e7d-a60e-22d3c72a7b6a",
        "colab": {
          "base_uri": "https://localhost:8080/",
          "height": 300
        }
      },
      "outputs": [
        {
          "output_type": "execute_result",
          "data": {
            "text/plain": [
              "               id  molecular_weight     MolLogP         qed   ExactMolWt  \\\n",
              "count  492.000000        492.000000  492.000000  492.000000   492.000000   \n",
              "mean   376.518293        439.122771    1.026019    0.359583   439.823104   \n",
              "std    211.994048        226.451341    2.510341    0.232284   227.173667   \n",
              "min      3.000000         94.111200   -5.298300    0.016294    94.041865   \n",
              "25%    220.750000        302.225250   -0.519700    0.155655   302.033556   \n",
              "50%    381.500000        431.038000    1.046350    0.290155   431.602009   \n",
              "75%    569.750000        578.519250    2.520775    0.574867   578.142426   \n",
              "max    730.000000       2805.900000   10.713100    0.887434  2804.229343   \n",
              "\n",
              "        fr_phenol  fr_methoxy  fr_lactone  fr_urea  \n",
              "count  492.000000  492.000000  492.000000    492.0  \n",
              "mean     2.829268    0.632114    0.032520      0.0  \n",
              "std      2.921114    1.077839    0.218678      0.0  \n",
              "min      0.000000    0.000000    0.000000      0.0  \n",
              "25%      1.000000    0.000000    0.000000      0.0  \n",
              "50%      2.000000    0.000000    0.000000      0.0  \n",
              "75%      4.000000    1.000000    0.000000      0.0  \n",
              "max     43.000000    7.000000    3.000000      0.0  "
            ],
            "text/html": [
              "\n",
              "  <div id=\"df-7fd9607c-472f-446f-872e-9b1eb2728b03\">\n",
              "    <div class=\"colab-df-container\">\n",
              "      <div>\n",
              "<style scoped>\n",
              "    .dataframe tbody tr th:only-of-type {\n",
              "        vertical-align: middle;\n",
              "    }\n",
              "\n",
              "    .dataframe tbody tr th {\n",
              "        vertical-align: top;\n",
              "    }\n",
              "\n",
              "    .dataframe thead th {\n",
              "        text-align: right;\n",
              "    }\n",
              "</style>\n",
              "<table border=\"1\" class=\"dataframe\">\n",
              "  <thead>\n",
              "    <tr style=\"text-align: right;\">\n",
              "      <th></th>\n",
              "      <th>id</th>\n",
              "      <th>molecular_weight</th>\n",
              "      <th>MolLogP</th>\n",
              "      <th>qed</th>\n",
              "      <th>ExactMolWt</th>\n",
              "      <th>fr_phenol</th>\n",
              "      <th>fr_methoxy</th>\n",
              "      <th>fr_lactone</th>\n",
              "      <th>fr_urea</th>\n",
              "    </tr>\n",
              "  </thead>\n",
              "  <tbody>\n",
              "    <tr>\n",
              "      <th>count</th>\n",
              "      <td>492.000000</td>\n",
              "      <td>492.000000</td>\n",
              "      <td>492.000000</td>\n",
              "      <td>492.000000</td>\n",
              "      <td>492.000000</td>\n",
              "      <td>492.000000</td>\n",
              "      <td>492.000000</td>\n",
              "      <td>492.000000</td>\n",
              "      <td>492.0</td>\n",
              "    </tr>\n",
              "    <tr>\n",
              "      <th>mean</th>\n",
              "      <td>376.518293</td>\n",
              "      <td>439.122771</td>\n",
              "      <td>1.026019</td>\n",
              "      <td>0.359583</td>\n",
              "      <td>439.823104</td>\n",
              "      <td>2.829268</td>\n",
              "      <td>0.632114</td>\n",
              "      <td>0.032520</td>\n",
              "      <td>0.0</td>\n",
              "    </tr>\n",
              "    <tr>\n",
              "      <th>std</th>\n",
              "      <td>211.994048</td>\n",
              "      <td>226.451341</td>\n",
              "      <td>2.510341</td>\n",
              "      <td>0.232284</td>\n",
              "      <td>227.173667</td>\n",
              "      <td>2.921114</td>\n",
              "      <td>1.077839</td>\n",
              "      <td>0.218678</td>\n",
              "      <td>0.0</td>\n",
              "    </tr>\n",
              "    <tr>\n",
              "      <th>min</th>\n",
              "      <td>3.000000</td>\n",
              "      <td>94.111200</td>\n",
              "      <td>-5.298300</td>\n",
              "      <td>0.016294</td>\n",
              "      <td>94.041865</td>\n",
              "      <td>0.000000</td>\n",
              "      <td>0.000000</td>\n",
              "      <td>0.000000</td>\n",
              "      <td>0.0</td>\n",
              "    </tr>\n",
              "    <tr>\n",
              "      <th>25%</th>\n",
              "      <td>220.750000</td>\n",
              "      <td>302.225250</td>\n",
              "      <td>-0.519700</td>\n",
              "      <td>0.155655</td>\n",
              "      <td>302.033556</td>\n",
              "      <td>1.000000</td>\n",
              "      <td>0.000000</td>\n",
              "      <td>0.000000</td>\n",
              "      <td>0.0</td>\n",
              "    </tr>\n",
              "    <tr>\n",
              "      <th>50%</th>\n",
              "      <td>381.500000</td>\n",
              "      <td>431.038000</td>\n",
              "      <td>1.046350</td>\n",
              "      <td>0.290155</td>\n",
              "      <td>431.602009</td>\n",
              "      <td>2.000000</td>\n",
              "      <td>0.000000</td>\n",
              "      <td>0.000000</td>\n",
              "      <td>0.0</td>\n",
              "    </tr>\n",
              "    <tr>\n",
              "      <th>75%</th>\n",
              "      <td>569.750000</td>\n",
              "      <td>578.519250</td>\n",
              "      <td>2.520775</td>\n",
              "      <td>0.574867</td>\n",
              "      <td>578.142426</td>\n",
              "      <td>4.000000</td>\n",
              "      <td>1.000000</td>\n",
              "      <td>0.000000</td>\n",
              "      <td>0.0</td>\n",
              "    </tr>\n",
              "    <tr>\n",
              "      <th>max</th>\n",
              "      <td>730.000000</td>\n",
              "      <td>2805.900000</td>\n",
              "      <td>10.713100</td>\n",
              "      <td>0.887434</td>\n",
              "      <td>2804.229343</td>\n",
              "      <td>43.000000</td>\n",
              "      <td>7.000000</td>\n",
              "      <td>3.000000</td>\n",
              "      <td>0.0</td>\n",
              "    </tr>\n",
              "  </tbody>\n",
              "</table>\n",
              "</div>\n",
              "      <button class=\"colab-df-convert\" onclick=\"convertToInteractive('df-7fd9607c-472f-446f-872e-9b1eb2728b03')\"\n",
              "              title=\"Convert this dataframe to an interactive table.\"\n",
              "              style=\"display:none;\">\n",
              "        \n",
              "  <svg xmlns=\"http://www.w3.org/2000/svg\" height=\"24px\"viewBox=\"0 0 24 24\"\n",
              "       width=\"24px\">\n",
              "    <path d=\"M0 0h24v24H0V0z\" fill=\"none\"/>\n",
              "    <path d=\"M18.56 5.44l.94 2.06.94-2.06 2.06-.94-2.06-.94-.94-2.06-.94 2.06-2.06.94zm-11 1L8.5 8.5l.94-2.06 2.06-.94-2.06-.94L8.5 2.5l-.94 2.06-2.06.94zm10 10l.94 2.06.94-2.06 2.06-.94-2.06-.94-.94-2.06-.94 2.06-2.06.94z\"/><path d=\"M17.41 7.96l-1.37-1.37c-.4-.4-.92-.59-1.43-.59-.52 0-1.04.2-1.43.59L10.3 9.45l-7.72 7.72c-.78.78-.78 2.05 0 2.83L4 21.41c.39.39.9.59 1.41.59.51 0 1.02-.2 1.41-.59l7.78-7.78 2.81-2.81c.8-.78.8-2.07 0-2.86zM5.41 20L4 18.59l7.72-7.72 1.47 1.35L5.41 20z\"/>\n",
              "  </svg>\n",
              "      </button>\n",
              "      \n",
              "  <style>\n",
              "    .colab-df-container {\n",
              "      display:flex;\n",
              "      flex-wrap:wrap;\n",
              "      gap: 12px;\n",
              "    }\n",
              "\n",
              "    .colab-df-convert {\n",
              "      background-color: #E8F0FE;\n",
              "      border: none;\n",
              "      border-radius: 50%;\n",
              "      cursor: pointer;\n",
              "      display: none;\n",
              "      fill: #1967D2;\n",
              "      height: 32px;\n",
              "      padding: 0 0 0 0;\n",
              "      width: 32px;\n",
              "    }\n",
              "\n",
              "    .colab-df-convert:hover {\n",
              "      background-color: #E2EBFA;\n",
              "      box-shadow: 0px 1px 2px rgba(60, 64, 67, 0.3), 0px 1px 3px 1px rgba(60, 64, 67, 0.15);\n",
              "      fill: #174EA6;\n",
              "    }\n",
              "\n",
              "    [theme=dark] .colab-df-convert {\n",
              "      background-color: #3B4455;\n",
              "      fill: #D2E3FC;\n",
              "    }\n",
              "\n",
              "    [theme=dark] .colab-df-convert:hover {\n",
              "      background-color: #434B5C;\n",
              "      box-shadow: 0px 1px 3px 1px rgba(0, 0, 0, 0.15);\n",
              "      filter: drop-shadow(0px 1px 2px rgba(0, 0, 0, 0.3));\n",
              "      fill: #FFFFFF;\n",
              "    }\n",
              "  </style>\n",
              "\n",
              "      <script>\n",
              "        const buttonEl =\n",
              "          document.querySelector('#df-7fd9607c-472f-446f-872e-9b1eb2728b03 button.colab-df-convert');\n",
              "        buttonEl.style.display =\n",
              "          google.colab.kernel.accessAllowed ? 'block' : 'none';\n",
              "\n",
              "        async function convertToInteractive(key) {\n",
              "          const element = document.querySelector('#df-7fd9607c-472f-446f-872e-9b1eb2728b03');\n",
              "          const dataTable =\n",
              "            await google.colab.kernel.invokeFunction('convertToInteractive',\n",
              "                                                     [key], {});\n",
              "          if (!dataTable) return;\n",
              "\n",
              "          const docLinkHtml = 'Like what you see? Visit the ' +\n",
              "            '<a target=\"_blank\" href=https://colab.research.google.com/notebooks/data_table.ipynb>data table notebook</a>'\n",
              "            + ' to learn more about interactive tables.';\n",
              "          element.innerHTML = '';\n",
              "          dataTable['output_type'] = 'display_data';\n",
              "          await google.colab.output.renderOutput(dataTable, element);\n",
              "          const docLink = document.createElement('div');\n",
              "          docLink.innerHTML = docLinkHtml;\n",
              "          element.appendChild(docLink);\n",
              "        }\n",
              "      </script>\n",
              "    </div>\n",
              "  </div>\n",
              "  "
            ]
          },
          "metadata": {},
          "execution_count": 10
        }
      ],
      "source": [
        "df.describe()"
      ]
    },
    {
      "cell_type": "code",
      "execution_count": 11,
      "id": "6c9f7a6d",
      "metadata": {
        "id": "6c9f7a6d",
        "outputId": "8e1eeb67-c7fd-46b7-c1b4-62a5da3180bc",
        "colab": {
          "base_uri": "https://localhost:8080/"
        }
      },
      "outputs": [
        {
          "output_type": "execute_result",
          "data": {
            "text/plain": [
              "(492, 17)"
            ]
          },
          "metadata": {},
          "execution_count": 11
        }
      ],
      "source": [
        "df.shape"
      ]
    },
    {
      "cell_type": "markdown",
      "id": "e194f0e5",
      "metadata": {
        "id": "e194f0e5"
      },
      "source": [
        "# 3. データの欠損状態の確認"
      ]
    },
    {
      "cell_type": "code",
      "execution_count": 12,
      "id": "f82ef7e5",
      "metadata": {
        "id": "f82ef7e5",
        "outputId": "52e4dd7e-8492-481e-c6b6-eaccf1e4792f",
        "colab": {
          "base_uri": "https://localhost:8080/"
        }
      },
      "outputs": [
        {
          "output_type": "execute_result",
          "data": {
            "text/plain": [
              "id                     0\n",
              "smiles                 0\n",
              "compound_class         0\n",
              "compound_subclass      0\n",
              "name                   0\n",
              "molecular_weight       0\n",
              "formula                0\n",
              "cas_number           299\n",
              "created_at             0\n",
              "updated_at             0\n",
              "MolLogP                0\n",
              "qed                    0\n",
              "ExactMolWt             0\n",
              "fr_phenol              0\n",
              "fr_methoxy             0\n",
              "fr_lactone             0\n",
              "fr_urea                0\n",
              "dtype: int64"
            ]
          },
          "metadata": {},
          "execution_count": 12
        }
      ],
      "source": [
        "# 欠損値を確認する。\n",
        "df.isnull().sum()"
      ]
    },
    {
      "cell_type": "code",
      "execution_count": 13,
      "id": "8aaf37e4",
      "metadata": {
        "id": "8aaf37e4",
        "outputId": "a0fdd587-de1b-48ea-f364-9c2d79058c46",
        "colab": {
          "base_uri": "https://localhost:8080/"
        }
      },
      "outputs": [
        {
          "output_type": "execute_result",
          "data": {
            "text/plain": [
              "(492, 17)"
            ]
          },
          "metadata": {},
          "execution_count": 13
        }
      ],
      "source": [
        "df.shape"
      ]
    },
    {
      "cell_type": "code",
      "execution_count": 14,
      "id": "2064e91c",
      "metadata": {
        "id": "2064e91c",
        "outputId": "82cab303-b327-4cad-f2ee-c7f94b6bfa4d",
        "colab": {
          "base_uri": "https://localhost:8080/"
        }
      },
      "outputs": [
        {
          "output_type": "execute_result",
          "data": {
            "text/plain": [
              "(193, 17)"
            ]
          },
          "metadata": {},
          "execution_count": 14
        }
      ],
      "source": [
        "# '欠損値のある行を削除\n",
        "df.dropna(subset=['cas_number'], axis=0).shape"
      ]
    },
    {
      "cell_type": "code",
      "execution_count": 15,
      "id": "97a0f00c",
      "metadata": {
        "id": "97a0f00c",
        "outputId": "b5d3fc5b-005e-4c18-f4c3-7253e1f2a115",
        "colab": {
          "base_uri": "https://localhost:8080/"
        }
      },
      "outputs": [
        {
          "output_type": "execute_result",
          "data": {
            "text/plain": [
              "(492, 16)"
            ]
          },
          "metadata": {},
          "execution_count": 15
        }
      ],
      "source": [
        "#欠損値のある列（ここでは、cas_number）を、１列指定して削除\n",
        "df.drop('cas_number', axis=1).shape"
      ]
    },
    {
      "cell_type": "code",
      "execution_count": 16,
      "id": "6ee90d09",
      "metadata": {
        "id": "6ee90d09",
        "outputId": "8b45e580-cb6e-45ef-a749-3ac68716bb58",
        "colab": {
          "base_uri": "https://localhost:8080/"
        }
      },
      "outputs": [
        {
          "output_type": "execute_result",
          "data": {
            "text/plain": [
              "(492, 17)"
            ]
          },
          "metadata": {},
          "execution_count": 16
        }
      ],
      "source": [
        "# 欠損値を置き換え\n",
        "df.fillna(value={'cas_number': 0}).shape"
      ]
    },
    {
      "cell_type": "markdown",
      "id": "c9ad720c",
      "metadata": {
        "id": "c9ad720c"
      },
      "source": [
        "# 4. データの並び替えや任意の列の抽出して新しいデータフレームを作成"
      ]
    },
    {
      "cell_type": "code",
      "execution_count": 17,
      "id": "52d730d5",
      "metadata": {
        "id": "52d730d5",
        "outputId": "46272b92-c984-44e6-fc62-c9782ec9659a",
        "colab": {
          "base_uri": "https://localhost:8080/"
        }
      },
      "outputs": [
        {
          "output_type": "execute_result",
          "data": {
            "text/plain": [
              "Index(['id', 'smiles', 'compound_class', 'compound_subclass', 'name',\n",
              "       'molecular_weight', 'formula', 'cas_number', 'created_at', 'updated_at',\n",
              "       'MolLogP', 'qed', 'ExactMolWt', 'fr_phenol', 'fr_methoxy', 'fr_lactone',\n",
              "       'fr_urea'],\n",
              "      dtype='object')"
            ]
          },
          "metadata": {},
          "execution_count": 17
        }
      ],
      "source": [
        "df.columns"
      ]
    },
    {
      "cell_type": "code",
      "execution_count": 18,
      "id": "ff8c4f9b",
      "metadata": {
        "id": "ff8c4f9b",
        "outputId": "c7bbcc21-464d-4148-e935-db8a7612d3dc",
        "colab": {
          "base_uri": "https://localhost:8080/",
          "height": 0
        }
      },
      "outputs": [
        {
          "output_type": "execute_result",
          "data": {
            "text/plain": [
              "                                              smiles    formula\n",
              "0  COC1=CC(=CC(OC)=C1O)C1=[O+]C2=C(C=C1OC1OC(COC(...  C32H31O14\n",
              "1  CC(=O)OCC1OC(OC2=CC3=C(O)C=C(O)C=C3[O+]=C2C2=C...  C23H23O13\n",
              "2  [H][C@]1(COC(C)=O)O[C@@]([H])(OC2=CC3=C(O)C=C(...  C23H23O12"
            ],
            "text/html": [
              "\n",
              "  <div id=\"df-cc59f3f4-ecbb-4098-a476-5767cbd0db7f\">\n",
              "    <div class=\"colab-df-container\">\n",
              "      <div>\n",
              "<style scoped>\n",
              "    .dataframe tbody tr th:only-of-type {\n",
              "        vertical-align: middle;\n",
              "    }\n",
              "\n",
              "    .dataframe tbody tr th {\n",
              "        vertical-align: top;\n",
              "    }\n",
              "\n",
              "    .dataframe thead th {\n",
              "        text-align: right;\n",
              "    }\n",
              "</style>\n",
              "<table border=\"1\" class=\"dataframe\">\n",
              "  <thead>\n",
              "    <tr style=\"text-align: right;\">\n",
              "      <th></th>\n",
              "      <th>smiles</th>\n",
              "      <th>formula</th>\n",
              "    </tr>\n",
              "  </thead>\n",
              "  <tbody>\n",
              "    <tr>\n",
              "      <th>0</th>\n",
              "      <td>COC1=CC(=CC(OC)=C1O)C1=[O+]C2=C(C=C1OC1OC(COC(...</td>\n",
              "      <td>C32H31O14</td>\n",
              "    </tr>\n",
              "    <tr>\n",
              "      <th>1</th>\n",
              "      <td>CC(=O)OCC1OC(OC2=CC3=C(O)C=C(O)C=C3[O+]=C2C2=C...</td>\n",
              "      <td>C23H23O13</td>\n",
              "    </tr>\n",
              "    <tr>\n",
              "      <th>2</th>\n",
              "      <td>[H][C@]1(COC(C)=O)O[C@@]([H])(OC2=CC3=C(O)C=C(...</td>\n",
              "      <td>C23H23O12</td>\n",
              "    </tr>\n",
              "  </tbody>\n",
              "</table>\n",
              "</div>\n",
              "      <button class=\"colab-df-convert\" onclick=\"convertToInteractive('df-cc59f3f4-ecbb-4098-a476-5767cbd0db7f')\"\n",
              "              title=\"Convert this dataframe to an interactive table.\"\n",
              "              style=\"display:none;\">\n",
              "        \n",
              "  <svg xmlns=\"http://www.w3.org/2000/svg\" height=\"24px\"viewBox=\"0 0 24 24\"\n",
              "       width=\"24px\">\n",
              "    <path d=\"M0 0h24v24H0V0z\" fill=\"none\"/>\n",
              "    <path d=\"M18.56 5.44l.94 2.06.94-2.06 2.06-.94-2.06-.94-.94-2.06-.94 2.06-2.06.94zm-11 1L8.5 8.5l.94-2.06 2.06-.94-2.06-.94L8.5 2.5l-.94 2.06-2.06.94zm10 10l.94 2.06.94-2.06 2.06-.94-2.06-.94-.94-2.06-.94 2.06-2.06.94z\"/><path d=\"M17.41 7.96l-1.37-1.37c-.4-.4-.92-.59-1.43-.59-.52 0-1.04.2-1.43.59L10.3 9.45l-7.72 7.72c-.78.78-.78 2.05 0 2.83L4 21.41c.39.39.9.59 1.41.59.51 0 1.02-.2 1.41-.59l7.78-7.78 2.81-2.81c.8-.78.8-2.07 0-2.86zM5.41 20L4 18.59l7.72-7.72 1.47 1.35L5.41 20z\"/>\n",
              "  </svg>\n",
              "      </button>\n",
              "      \n",
              "  <style>\n",
              "    .colab-df-container {\n",
              "      display:flex;\n",
              "      flex-wrap:wrap;\n",
              "      gap: 12px;\n",
              "    }\n",
              "\n",
              "    .colab-df-convert {\n",
              "      background-color: #E8F0FE;\n",
              "      border: none;\n",
              "      border-radius: 50%;\n",
              "      cursor: pointer;\n",
              "      display: none;\n",
              "      fill: #1967D2;\n",
              "      height: 32px;\n",
              "      padding: 0 0 0 0;\n",
              "      width: 32px;\n",
              "    }\n",
              "\n",
              "    .colab-df-convert:hover {\n",
              "      background-color: #E2EBFA;\n",
              "      box-shadow: 0px 1px 2px rgba(60, 64, 67, 0.3), 0px 1px 3px 1px rgba(60, 64, 67, 0.15);\n",
              "      fill: #174EA6;\n",
              "    }\n",
              "\n",
              "    [theme=dark] .colab-df-convert {\n",
              "      background-color: #3B4455;\n",
              "      fill: #D2E3FC;\n",
              "    }\n",
              "\n",
              "    [theme=dark] .colab-df-convert:hover {\n",
              "      background-color: #434B5C;\n",
              "      box-shadow: 0px 1px 3px 1px rgba(0, 0, 0, 0.15);\n",
              "      filter: drop-shadow(0px 1px 2px rgba(0, 0, 0, 0.3));\n",
              "      fill: #FFFFFF;\n",
              "    }\n",
              "  </style>\n",
              "\n",
              "      <script>\n",
              "        const buttonEl =\n",
              "          document.querySelector('#df-cc59f3f4-ecbb-4098-a476-5767cbd0db7f button.colab-df-convert');\n",
              "        buttonEl.style.display =\n",
              "          google.colab.kernel.accessAllowed ? 'block' : 'none';\n",
              "\n",
              "        async function convertToInteractive(key) {\n",
              "          const element = document.querySelector('#df-cc59f3f4-ecbb-4098-a476-5767cbd0db7f');\n",
              "          const dataTable =\n",
              "            await google.colab.kernel.invokeFunction('convertToInteractive',\n",
              "                                                     [key], {});\n",
              "          if (!dataTable) return;\n",
              "\n",
              "          const docLinkHtml = 'Like what you see? Visit the ' +\n",
              "            '<a target=\"_blank\" href=https://colab.research.google.com/notebooks/data_table.ipynb>data table notebook</a>'\n",
              "            + ' to learn more about interactive tables.';\n",
              "          element.innerHTML = '';\n",
              "          dataTable['output_type'] = 'display_data';\n",
              "          await google.colab.output.renderOutput(dataTable, element);\n",
              "          const docLink = document.createElement('div');\n",
              "          docLink.innerHTML = docLinkHtml;\n",
              "          element.appendChild(docLink);\n",
              "        }\n",
              "      </script>\n",
              "    </div>\n",
              "  </div>\n",
              "  "
            ]
          },
          "metadata": {},
          "execution_count": 18
        }
      ],
      "source": [
        "# 任意の列だけ取り出す。\n",
        "df[['smiles', 'formula']].head(3)"
      ]
    },
    {
      "cell_type": "code",
      "execution_count": 19,
      "id": "8d378e5b",
      "metadata": {
        "id": "8d378e5b"
      },
      "outputs": [],
      "source": [
        "# 上書きする。\n",
        "df2 = df[['smiles', 'formula']].head(3)"
      ]
    },
    {
      "cell_type": "code",
      "execution_count": 20,
      "id": "b7de40e0",
      "metadata": {
        "id": "b7de40e0",
        "outputId": "00fbfdd6-58b3-45db-ca8b-57431f3da6a5",
        "colab": {
          "base_uri": "https://localhost:8080/",
          "height": 0
        }
      },
      "outputs": [
        {
          "output_type": "execute_result",
          "data": {
            "text/plain": [
              "                                              smiles    formula\n",
              "0  COC1=CC(=CC(OC)=C1O)C1=[O+]C2=C(C=C1OC1OC(COC(...  C32H31O14\n",
              "1  CC(=O)OCC1OC(OC2=CC3=C(O)C=C(O)C=C3[O+]=C2C2=C...  C23H23O13\n",
              "2  [H][C@]1(COC(C)=O)O[C@@]([H])(OC2=CC3=C(O)C=C(...  C23H23O12"
            ],
            "text/html": [
              "\n",
              "  <div id=\"df-0ed25c40-c980-46d2-91d1-f5160afd19ef\">\n",
              "    <div class=\"colab-df-container\">\n",
              "      <div>\n",
              "<style scoped>\n",
              "    .dataframe tbody tr th:only-of-type {\n",
              "        vertical-align: middle;\n",
              "    }\n",
              "\n",
              "    .dataframe tbody tr th {\n",
              "        vertical-align: top;\n",
              "    }\n",
              "\n",
              "    .dataframe thead th {\n",
              "        text-align: right;\n",
              "    }\n",
              "</style>\n",
              "<table border=\"1\" class=\"dataframe\">\n",
              "  <thead>\n",
              "    <tr style=\"text-align: right;\">\n",
              "      <th></th>\n",
              "      <th>smiles</th>\n",
              "      <th>formula</th>\n",
              "    </tr>\n",
              "  </thead>\n",
              "  <tbody>\n",
              "    <tr>\n",
              "      <th>0</th>\n",
              "      <td>COC1=CC(=CC(OC)=C1O)C1=[O+]C2=C(C=C1OC1OC(COC(...</td>\n",
              "      <td>C32H31O14</td>\n",
              "    </tr>\n",
              "    <tr>\n",
              "      <th>1</th>\n",
              "      <td>CC(=O)OCC1OC(OC2=CC3=C(O)C=C(O)C=C3[O+]=C2C2=C...</td>\n",
              "      <td>C23H23O13</td>\n",
              "    </tr>\n",
              "    <tr>\n",
              "      <th>2</th>\n",
              "      <td>[H][C@]1(COC(C)=O)O[C@@]([H])(OC2=CC3=C(O)C=C(...</td>\n",
              "      <td>C23H23O12</td>\n",
              "    </tr>\n",
              "  </tbody>\n",
              "</table>\n",
              "</div>\n",
              "      <button class=\"colab-df-convert\" onclick=\"convertToInteractive('df-0ed25c40-c980-46d2-91d1-f5160afd19ef')\"\n",
              "              title=\"Convert this dataframe to an interactive table.\"\n",
              "              style=\"display:none;\">\n",
              "        \n",
              "  <svg xmlns=\"http://www.w3.org/2000/svg\" height=\"24px\"viewBox=\"0 0 24 24\"\n",
              "       width=\"24px\">\n",
              "    <path d=\"M0 0h24v24H0V0z\" fill=\"none\"/>\n",
              "    <path d=\"M18.56 5.44l.94 2.06.94-2.06 2.06-.94-2.06-.94-.94-2.06-.94 2.06-2.06.94zm-11 1L8.5 8.5l.94-2.06 2.06-.94-2.06-.94L8.5 2.5l-.94 2.06-2.06.94zm10 10l.94 2.06.94-2.06 2.06-.94-2.06-.94-.94-2.06-.94 2.06-2.06.94z\"/><path d=\"M17.41 7.96l-1.37-1.37c-.4-.4-.92-.59-1.43-.59-.52 0-1.04.2-1.43.59L10.3 9.45l-7.72 7.72c-.78.78-.78 2.05 0 2.83L4 21.41c.39.39.9.59 1.41.59.51 0 1.02-.2 1.41-.59l7.78-7.78 2.81-2.81c.8-.78.8-2.07 0-2.86zM5.41 20L4 18.59l7.72-7.72 1.47 1.35L5.41 20z\"/>\n",
              "  </svg>\n",
              "      </button>\n",
              "      \n",
              "  <style>\n",
              "    .colab-df-container {\n",
              "      display:flex;\n",
              "      flex-wrap:wrap;\n",
              "      gap: 12px;\n",
              "    }\n",
              "\n",
              "    .colab-df-convert {\n",
              "      background-color: #E8F0FE;\n",
              "      border: none;\n",
              "      border-radius: 50%;\n",
              "      cursor: pointer;\n",
              "      display: none;\n",
              "      fill: #1967D2;\n",
              "      height: 32px;\n",
              "      padding: 0 0 0 0;\n",
              "      width: 32px;\n",
              "    }\n",
              "\n",
              "    .colab-df-convert:hover {\n",
              "      background-color: #E2EBFA;\n",
              "      box-shadow: 0px 1px 2px rgba(60, 64, 67, 0.3), 0px 1px 3px 1px rgba(60, 64, 67, 0.15);\n",
              "      fill: #174EA6;\n",
              "    }\n",
              "\n",
              "    [theme=dark] .colab-df-convert {\n",
              "      background-color: #3B4455;\n",
              "      fill: #D2E3FC;\n",
              "    }\n",
              "\n",
              "    [theme=dark] .colab-df-convert:hover {\n",
              "      background-color: #434B5C;\n",
              "      box-shadow: 0px 1px 3px 1px rgba(0, 0, 0, 0.15);\n",
              "      filter: drop-shadow(0px 1px 2px rgba(0, 0, 0, 0.3));\n",
              "      fill: #FFFFFF;\n",
              "    }\n",
              "  </style>\n",
              "\n",
              "      <script>\n",
              "        const buttonEl =\n",
              "          document.querySelector('#df-0ed25c40-c980-46d2-91d1-f5160afd19ef button.colab-df-convert');\n",
              "        buttonEl.style.display =\n",
              "          google.colab.kernel.accessAllowed ? 'block' : 'none';\n",
              "\n",
              "        async function convertToInteractive(key) {\n",
              "          const element = document.querySelector('#df-0ed25c40-c980-46d2-91d1-f5160afd19ef');\n",
              "          const dataTable =\n",
              "            await google.colab.kernel.invokeFunction('convertToInteractive',\n",
              "                                                     [key], {});\n",
              "          if (!dataTable) return;\n",
              "\n",
              "          const docLinkHtml = 'Like what you see? Visit the ' +\n",
              "            '<a target=\"_blank\" href=https://colab.research.google.com/notebooks/data_table.ipynb>data table notebook</a>'\n",
              "            + ' to learn more about interactive tables.';\n",
              "          element.innerHTML = '';\n",
              "          dataTable['output_type'] = 'display_data';\n",
              "          await google.colab.output.renderOutput(dataTable, element);\n",
              "          const docLink = document.createElement('div');\n",
              "          docLink.innerHTML = docLinkHtml;\n",
              "          element.appendChild(docLink);\n",
              "        }\n",
              "      </script>\n",
              "    </div>\n",
              "  </div>\n",
              "  "
            ]
          },
          "metadata": {},
          "execution_count": 20
        }
      ],
      "source": [
        "df2"
      ]
    },
    {
      "cell_type": "markdown",
      "id": "25bd3a3a",
      "metadata": {
        "id": "25bd3a3a"
      },
      "source": [
        "# 5. データの追加"
      ]
    },
    {
      "cell_type": "code",
      "execution_count": 21,
      "id": "7662d2c7",
      "metadata": {
        "id": "7662d2c7"
      },
      "outputs": [],
      "source": [
        "#Pandasを使ってワンホットエンコーディング\n",
        "df2 = pd.get_dummies(df, columns=['compound_class'])"
      ]
    },
    {
      "cell_type": "code",
      "execution_count": 22,
      "id": "17097eb7",
      "metadata": {
        "id": "17097eb7",
        "outputId": "25505d2a-26a2-4dfa-83df-3db29b200a0a",
        "colab": {
          "base_uri": "https://localhost:8080/"
        }
      },
      "outputs": [
        {
          "output_type": "execute_result",
          "data": {
            "text/plain": [
              "Index(['id', 'smiles', 'compound_subclass', 'name', 'molecular_weight',\n",
              "       'formula', 'cas_number', 'created_at', 'updated_at', 'MolLogP', 'qed',\n",
              "       'ExactMolWt', 'fr_phenol', 'fr_methoxy', 'fr_lactone', 'fr_urea',\n",
              "       'compound_class_Flavonoids', 'compound_class_Lignans',\n",
              "       'compound_class_Other polyphenols', 'compound_class_Phenolic acids',\n",
              "       'compound_class_Stilbenes'],\n",
              "      dtype='object')"
            ]
          },
          "metadata": {},
          "execution_count": 22
        }
      ],
      "source": [
        "df2.columns"
      ]
    },
    {
      "cell_type": "code",
      "execution_count": 23,
      "id": "e0413e8d",
      "metadata": {
        "id": "e0413e8d",
        "outputId": "3b2414bb-865c-4bf0-9c9e-e57139cda862",
        "colab": {
          "base_uri": "https://localhost:8080/"
        }
      },
      "outputs": [
        {
          "output_type": "execute_result",
          "data": {
            "text/plain": [
              "(492, 21)"
            ]
          },
          "metadata": {},
          "execution_count": 23
        }
      ],
      "source": [
        "df2.shape"
      ]
    },
    {
      "cell_type": "code",
      "execution_count": 24,
      "id": "3bf72283",
      "metadata": {
        "id": "3bf72283"
      },
      "outputs": [],
      "source": [
        "# 自作した関数を入れる。\n",
        "def over0(num):\n",
        "    if num >=0:\n",
        "        return 1\n",
        "    else:\n",
        "        return 0\n",
        "    \n",
        "df2[\"MolLogP_over1\"] = df2[\"MolLogP\"].map(over0)"
      ]
    },
    {
      "cell_type": "code",
      "execution_count": 25,
      "id": "f6a5f528",
      "metadata": {
        "id": "f6a5f528",
        "outputId": "19108a7e-8f0b-4d6c-c3da-c392d8cd8ee1",
        "colab": {
          "base_uri": "https://localhost:8080/",
          "height": 0
        }
      },
      "outputs": [
        {
          "output_type": "execute_result",
          "data": {
            "text/plain": [
              "               id  molecular_weight     MolLogP         qed   ExactMolWt  \\\n",
              "count  492.000000        492.000000  492.000000  492.000000   492.000000   \n",
              "mean   376.518293        439.122771    1.026019    0.359583   439.823104   \n",
              "std    211.994048        226.451341    2.510341    0.232284   227.173667   \n",
              "min      3.000000         94.111200   -5.298300    0.016294    94.041865   \n",
              "25%    220.750000        302.225250   -0.519700    0.155655   302.033556   \n",
              "50%    381.500000        431.038000    1.046350    0.290155   431.602009   \n",
              "75%    569.750000        578.519250    2.520775    0.574867   578.142426   \n",
              "max    730.000000       2805.900000   10.713100    0.887434  2804.229343   \n",
              "\n",
              "        fr_phenol  fr_methoxy  fr_lactone  fr_urea  compound_class_Flavonoids  \\\n",
              "count  492.000000  492.000000  492.000000    492.0                 492.000000   \n",
              "mean     2.829268    0.632114    0.032520      0.0                   0.544715   \n",
              "std      2.921114    1.077839    0.218678      0.0                   0.498503   \n",
              "min      0.000000    0.000000    0.000000      0.0                   0.000000   \n",
              "25%      1.000000    0.000000    0.000000      0.0                   0.000000   \n",
              "50%      2.000000    0.000000    0.000000      0.0                   1.000000   \n",
              "75%      4.000000    1.000000    0.000000      0.0                   1.000000   \n",
              "max     43.000000    7.000000    3.000000      0.0                   1.000000   \n",
              "\n",
              "       compound_class_Lignans  compound_class_Other polyphenols  \\\n",
              "count              492.000000                        492.000000   \n",
              "mean                 0.058943                          0.158537   \n",
              "std                  0.235758                          0.365615   \n",
              "min                  0.000000                          0.000000   \n",
              "25%                  0.000000                          0.000000   \n",
              "50%                  0.000000                          0.000000   \n",
              "75%                  0.000000                          0.000000   \n",
              "max                  1.000000                          1.000000   \n",
              "\n",
              "       compound_class_Phenolic acids  compound_class_Stilbenes  MolLogP_over1  \n",
              "count                     492.000000                492.000000     492.000000  \n",
              "mean                        0.217480                  0.020325       0.666667  \n",
              "std                         0.412951                  0.141254       0.471884  \n",
              "min                         0.000000                  0.000000       0.000000  \n",
              "25%                         0.000000                  0.000000       0.000000  \n",
              "50%                         0.000000                  0.000000       1.000000  \n",
              "75%                         0.000000                  0.000000       1.000000  \n",
              "max                         1.000000                  1.000000       1.000000  "
            ],
            "text/html": [
              "\n",
              "  <div id=\"df-e9b658c1-bd31-4b73-b619-431dba0e2820\">\n",
              "    <div class=\"colab-df-container\">\n",
              "      <div>\n",
              "<style scoped>\n",
              "    .dataframe tbody tr th:only-of-type {\n",
              "        vertical-align: middle;\n",
              "    }\n",
              "\n",
              "    .dataframe tbody tr th {\n",
              "        vertical-align: top;\n",
              "    }\n",
              "\n",
              "    .dataframe thead th {\n",
              "        text-align: right;\n",
              "    }\n",
              "</style>\n",
              "<table border=\"1\" class=\"dataframe\">\n",
              "  <thead>\n",
              "    <tr style=\"text-align: right;\">\n",
              "      <th></th>\n",
              "      <th>id</th>\n",
              "      <th>molecular_weight</th>\n",
              "      <th>MolLogP</th>\n",
              "      <th>qed</th>\n",
              "      <th>ExactMolWt</th>\n",
              "      <th>fr_phenol</th>\n",
              "      <th>fr_methoxy</th>\n",
              "      <th>fr_lactone</th>\n",
              "      <th>fr_urea</th>\n",
              "      <th>compound_class_Flavonoids</th>\n",
              "      <th>compound_class_Lignans</th>\n",
              "      <th>compound_class_Other polyphenols</th>\n",
              "      <th>compound_class_Phenolic acids</th>\n",
              "      <th>compound_class_Stilbenes</th>\n",
              "      <th>MolLogP_over1</th>\n",
              "    </tr>\n",
              "  </thead>\n",
              "  <tbody>\n",
              "    <tr>\n",
              "      <th>count</th>\n",
              "      <td>492.000000</td>\n",
              "      <td>492.000000</td>\n",
              "      <td>492.000000</td>\n",
              "      <td>492.000000</td>\n",
              "      <td>492.000000</td>\n",
              "      <td>492.000000</td>\n",
              "      <td>492.000000</td>\n",
              "      <td>492.000000</td>\n",
              "      <td>492.0</td>\n",
              "      <td>492.000000</td>\n",
              "      <td>492.000000</td>\n",
              "      <td>492.000000</td>\n",
              "      <td>492.000000</td>\n",
              "      <td>492.000000</td>\n",
              "      <td>492.000000</td>\n",
              "    </tr>\n",
              "    <tr>\n",
              "      <th>mean</th>\n",
              "      <td>376.518293</td>\n",
              "      <td>439.122771</td>\n",
              "      <td>1.026019</td>\n",
              "      <td>0.359583</td>\n",
              "      <td>439.823104</td>\n",
              "      <td>2.829268</td>\n",
              "      <td>0.632114</td>\n",
              "      <td>0.032520</td>\n",
              "      <td>0.0</td>\n",
              "      <td>0.544715</td>\n",
              "      <td>0.058943</td>\n",
              "      <td>0.158537</td>\n",
              "      <td>0.217480</td>\n",
              "      <td>0.020325</td>\n",
              "      <td>0.666667</td>\n",
              "    </tr>\n",
              "    <tr>\n",
              "      <th>std</th>\n",
              "      <td>211.994048</td>\n",
              "      <td>226.451341</td>\n",
              "      <td>2.510341</td>\n",
              "      <td>0.232284</td>\n",
              "      <td>227.173667</td>\n",
              "      <td>2.921114</td>\n",
              "      <td>1.077839</td>\n",
              "      <td>0.218678</td>\n",
              "      <td>0.0</td>\n",
              "      <td>0.498503</td>\n",
              "      <td>0.235758</td>\n",
              "      <td>0.365615</td>\n",
              "      <td>0.412951</td>\n",
              "      <td>0.141254</td>\n",
              "      <td>0.471884</td>\n",
              "    </tr>\n",
              "    <tr>\n",
              "      <th>min</th>\n",
              "      <td>3.000000</td>\n",
              "      <td>94.111200</td>\n",
              "      <td>-5.298300</td>\n",
              "      <td>0.016294</td>\n",
              "      <td>94.041865</td>\n",
              "      <td>0.000000</td>\n",
              "      <td>0.000000</td>\n",
              "      <td>0.000000</td>\n",
              "      <td>0.0</td>\n",
              "      <td>0.000000</td>\n",
              "      <td>0.000000</td>\n",
              "      <td>0.000000</td>\n",
              "      <td>0.000000</td>\n",
              "      <td>0.000000</td>\n",
              "      <td>0.000000</td>\n",
              "    </tr>\n",
              "    <tr>\n",
              "      <th>25%</th>\n",
              "      <td>220.750000</td>\n",
              "      <td>302.225250</td>\n",
              "      <td>-0.519700</td>\n",
              "      <td>0.155655</td>\n",
              "      <td>302.033556</td>\n",
              "      <td>1.000000</td>\n",
              "      <td>0.000000</td>\n",
              "      <td>0.000000</td>\n",
              "      <td>0.0</td>\n",
              "      <td>0.000000</td>\n",
              "      <td>0.000000</td>\n",
              "      <td>0.000000</td>\n",
              "      <td>0.000000</td>\n",
              "      <td>0.000000</td>\n",
              "      <td>0.000000</td>\n",
              "    </tr>\n",
              "    <tr>\n",
              "      <th>50%</th>\n",
              "      <td>381.500000</td>\n",
              "      <td>431.038000</td>\n",
              "      <td>1.046350</td>\n",
              "      <td>0.290155</td>\n",
              "      <td>431.602009</td>\n",
              "      <td>2.000000</td>\n",
              "      <td>0.000000</td>\n",
              "      <td>0.000000</td>\n",
              "      <td>0.0</td>\n",
              "      <td>1.000000</td>\n",
              "      <td>0.000000</td>\n",
              "      <td>0.000000</td>\n",
              "      <td>0.000000</td>\n",
              "      <td>0.000000</td>\n",
              "      <td>1.000000</td>\n",
              "    </tr>\n",
              "    <tr>\n",
              "      <th>75%</th>\n",
              "      <td>569.750000</td>\n",
              "      <td>578.519250</td>\n",
              "      <td>2.520775</td>\n",
              "      <td>0.574867</td>\n",
              "      <td>578.142426</td>\n",
              "      <td>4.000000</td>\n",
              "      <td>1.000000</td>\n",
              "      <td>0.000000</td>\n",
              "      <td>0.0</td>\n",
              "      <td>1.000000</td>\n",
              "      <td>0.000000</td>\n",
              "      <td>0.000000</td>\n",
              "      <td>0.000000</td>\n",
              "      <td>0.000000</td>\n",
              "      <td>1.000000</td>\n",
              "    </tr>\n",
              "    <tr>\n",
              "      <th>max</th>\n",
              "      <td>730.000000</td>\n",
              "      <td>2805.900000</td>\n",
              "      <td>10.713100</td>\n",
              "      <td>0.887434</td>\n",
              "      <td>2804.229343</td>\n",
              "      <td>43.000000</td>\n",
              "      <td>7.000000</td>\n",
              "      <td>3.000000</td>\n",
              "      <td>0.0</td>\n",
              "      <td>1.000000</td>\n",
              "      <td>1.000000</td>\n",
              "      <td>1.000000</td>\n",
              "      <td>1.000000</td>\n",
              "      <td>1.000000</td>\n",
              "      <td>1.000000</td>\n",
              "    </tr>\n",
              "  </tbody>\n",
              "</table>\n",
              "</div>\n",
              "      <button class=\"colab-df-convert\" onclick=\"convertToInteractive('df-e9b658c1-bd31-4b73-b619-431dba0e2820')\"\n",
              "              title=\"Convert this dataframe to an interactive table.\"\n",
              "              style=\"display:none;\">\n",
              "        \n",
              "  <svg xmlns=\"http://www.w3.org/2000/svg\" height=\"24px\"viewBox=\"0 0 24 24\"\n",
              "       width=\"24px\">\n",
              "    <path d=\"M0 0h24v24H0V0z\" fill=\"none\"/>\n",
              "    <path d=\"M18.56 5.44l.94 2.06.94-2.06 2.06-.94-2.06-.94-.94-2.06-.94 2.06-2.06.94zm-11 1L8.5 8.5l.94-2.06 2.06-.94-2.06-.94L8.5 2.5l-.94 2.06-2.06.94zm10 10l.94 2.06.94-2.06 2.06-.94-2.06-.94-.94-2.06-.94 2.06-2.06.94z\"/><path d=\"M17.41 7.96l-1.37-1.37c-.4-.4-.92-.59-1.43-.59-.52 0-1.04.2-1.43.59L10.3 9.45l-7.72 7.72c-.78.78-.78 2.05 0 2.83L4 21.41c.39.39.9.59 1.41.59.51 0 1.02-.2 1.41-.59l7.78-7.78 2.81-2.81c.8-.78.8-2.07 0-2.86zM5.41 20L4 18.59l7.72-7.72 1.47 1.35L5.41 20z\"/>\n",
              "  </svg>\n",
              "      </button>\n",
              "      \n",
              "  <style>\n",
              "    .colab-df-container {\n",
              "      display:flex;\n",
              "      flex-wrap:wrap;\n",
              "      gap: 12px;\n",
              "    }\n",
              "\n",
              "    .colab-df-convert {\n",
              "      background-color: #E8F0FE;\n",
              "      border: none;\n",
              "      border-radius: 50%;\n",
              "      cursor: pointer;\n",
              "      display: none;\n",
              "      fill: #1967D2;\n",
              "      height: 32px;\n",
              "      padding: 0 0 0 0;\n",
              "      width: 32px;\n",
              "    }\n",
              "\n",
              "    .colab-df-convert:hover {\n",
              "      background-color: #E2EBFA;\n",
              "      box-shadow: 0px 1px 2px rgba(60, 64, 67, 0.3), 0px 1px 3px 1px rgba(60, 64, 67, 0.15);\n",
              "      fill: #174EA6;\n",
              "    }\n",
              "\n",
              "    [theme=dark] .colab-df-convert {\n",
              "      background-color: #3B4455;\n",
              "      fill: #D2E3FC;\n",
              "    }\n",
              "\n",
              "    [theme=dark] .colab-df-convert:hover {\n",
              "      background-color: #434B5C;\n",
              "      box-shadow: 0px 1px 3px 1px rgba(0, 0, 0, 0.15);\n",
              "      filter: drop-shadow(0px 1px 2px rgba(0, 0, 0, 0.3));\n",
              "      fill: #FFFFFF;\n",
              "    }\n",
              "  </style>\n",
              "\n",
              "      <script>\n",
              "        const buttonEl =\n",
              "          document.querySelector('#df-e9b658c1-bd31-4b73-b619-431dba0e2820 button.colab-df-convert');\n",
              "        buttonEl.style.display =\n",
              "          google.colab.kernel.accessAllowed ? 'block' : 'none';\n",
              "\n",
              "        async function convertToInteractive(key) {\n",
              "          const element = document.querySelector('#df-e9b658c1-bd31-4b73-b619-431dba0e2820');\n",
              "          const dataTable =\n",
              "            await google.colab.kernel.invokeFunction('convertToInteractive',\n",
              "                                                     [key], {});\n",
              "          if (!dataTable) return;\n",
              "\n",
              "          const docLinkHtml = 'Like what you see? Visit the ' +\n",
              "            '<a target=\"_blank\" href=https://colab.research.google.com/notebooks/data_table.ipynb>data table notebook</a>'\n",
              "            + ' to learn more about interactive tables.';\n",
              "          element.innerHTML = '';\n",
              "          dataTable['output_type'] = 'display_data';\n",
              "          await google.colab.output.renderOutput(dataTable, element);\n",
              "          const docLink = document.createElement('div');\n",
              "          docLink.innerHTML = docLinkHtml;\n",
              "          element.appendChild(docLink);\n",
              "        }\n",
              "      </script>\n",
              "    </div>\n",
              "  </div>\n",
              "  "
            ]
          },
          "metadata": {},
          "execution_count": 25
        }
      ],
      "source": [
        "df2.describe()"
      ]
    },
    {
      "cell_type": "code",
      "execution_count": 26,
      "id": "d50da586",
      "metadata": {
        "id": "d50da586",
        "outputId": "b7f7a40b-46cf-444a-aac0-c5e34e0e2802",
        "colab": {
          "base_uri": "https://localhost:8080/"
        }
      },
      "outputs": [
        {
          "output_type": "execute_result",
          "data": {
            "text/plain": [
              "(492, 23)"
            ]
          },
          "metadata": {},
          "execution_count": 26
        }
      ],
      "source": [
        "df2[\"molecular_weight_int\"] = df2[\"molecular_weight\"].map(int)\n",
        "df2.shape"
      ]
    },
    {
      "cell_type": "code",
      "execution_count": 27,
      "id": "b103e3ae",
      "metadata": {
        "id": "b103e3ae",
        "outputId": "4a261372-c17c-416b-9367-f78eb82624d8",
        "colab": {
          "base_uri": "https://localhost:8080/"
        }
      },
      "outputs": [
        {
          "output_type": "execute_result",
          "data": {
            "text/plain": [
              "(492, 22)"
            ]
          },
          "metadata": {},
          "execution_count": 27
        }
      ],
      "source": [
        "# 作ったものを削除\n",
        "df2.drop('molecular_weight_int', axis=1).shape"
      ]
    },
    {
      "cell_type": "markdown",
      "id": "acc892d7",
      "metadata": {
        "id": "acc892d7"
      },
      "source": [
        "# 6. データの表示"
      ]
    },
    {
      "cell_type": "code",
      "execution_count": 28,
      "id": "1d276724",
      "metadata": {
        "id": "1d276724",
        "outputId": "faa1045a-365a-48a2-9237-83dea647ed45",
        "colab": {
          "base_uri": "https://localhost:8080/",
          "height": 0
        }
      },
      "outputs": [
        {
          "output_type": "execute_result",
          "data": {
            "text/plain": [
              "array([[<matplotlib.axes._subplots.AxesSubplot object at 0x7f05ce09b310>]],\n",
              "      dtype=object)"
            ]
          },
          "metadata": {},
          "execution_count": 28
        },
        {
          "output_type": "display_data",
          "data": {
            "text/plain": [
              "<Figure size 432x288 with 1 Axes>"
            ],
            "image/png": "[encoded data removed]"
          },
          "metadata": {
            "needs_background": "light"
          }
        }
      ],
      "source": [
        "df.hist('qed')"
      ]
    },
    {
      "cell_type": "code",
      "execution_count": 29,
      "id": "d0cdb023",
      "metadata": {
        "id": "d0cdb023",
        "outputId": "b8d54337-653c-4057-c1cc-ab84cf734b62",
        "colab": {
          "base_uri": "https://localhost:8080/",
          "height": 0
        }
      },
      "outputs": [
        {
          "output_type": "execute_result",
          "data": {
            "text/plain": [
              "<matplotlib.axes._subplots.AxesSubplot at 0x7f05cb63b310>"
            ]
          },
          "metadata": {},
          "execution_count": 29
        },
        {
          "output_type": "display_data",
          "data": {
            "text/plain": [
              "<Figure size 432x288 with 1 Axes>"
            ],
            "image/png": "[encoded data removed]"
          },
          "metadata": {
            "needs_background": "light"
          }
        }
      ],
      "source": [
        "df.plot(kind='scatter', x='MolLogP', y='qed')"
      ]
    },
    {
      "cell_type": "markdown",
      "id": "3ac6ab97",
      "metadata": {
        "id": "3ac6ab97"
      },
      "source": [
        "# 7. データの出力"
      ]
    },
    {
      "cell_type": "code",
      "execution_count": 30,
      "id": "718eed67",
      "metadata": {
        "id": "718eed67",
        "outputId": "439d6851-cec0-4c0e-a3b8-f16224c1d61a",
        "colab": {
          "base_uri": "https://localhost:8080/"
        }
      },
      "outputs": [
        {
          "output_type": "stream",
          "name": "stdout",
          "text": [
            "ls: cannot access 'data/': No such file or directory\n"
          ]
        }
      ],
      "source": [
        "ls data/"
      ]
    },
    {
      "cell_type": "code",
      "execution_count": 31,
      "id": "9ece0603",
      "metadata": {
        "id": "9ece0603"
      },
      "outputs": [],
      "source": [
        "df.to_csv('output2.csv', index=False)"
      ]
    },
    {
      "cell_type": "code",
      "execution_count": 32,
      "id": "e8b64a1d",
      "metadata": {
        "id": "e8b64a1d",
        "outputId": "cb300f3d-8b93-4707-d0a0-2b77b2d95e5f",
        "colab": {
          "base_uri": "https://localhost:8080/"
        }
      },
      "outputs": [
        {
          "output_type": "stream",
          "name": "stdout",
          "text": [
            "\u001b[0m\u001b[01;34mdrive\u001b[0m/  output2.csv  \u001b[01;34msample_data\u001b[0m/\n"
          ]
        }
      ],
      "source": [
        "ls "
      ]
    },
    {
      "cell_type": "code",
      "execution_count": 33,
      "id": "dbb12b58",
      "metadata": {
        "id": "dbb12b58"
      },
      "outputs": [],
      "source": [
        "!rm output2.csv"
      ]
    },
    {
      "cell_type": "code",
      "execution_count": 34,
      "id": "b990ac85",
      "metadata": {
        "id": "b990ac85",
        "outputId": "2f78d07e-23a1-4043-9df5-34d097e46e78",
        "colab": {
          "base_uri": "https://localhost:8080/"
        }
      },
      "outputs": [
        {
          "output_type": "stream",
          "name": "stdout",
          "text": [
            "\u001b[0m\u001b[01;34mdrive\u001b[0m/  \u001b[01;34msample_data\u001b[0m/\n"
          ]
        }
      ],
      "source": [
        "ls"
      ]
    },
    {
      "cell_type": "markdown",
      "id": "5d220416",
      "metadata": {
        "id": "5d220416"
      },
      "source": [
        "# 以上です"
      ]
    }
  ],
  "metadata": {
    "celltoolbar": "Slideshow",
    "kernelspec": {
      "display_name": "Python 3 (ipykernel)",
      "language": "python",
      "name": "python3"
    },
    "language_info": {
      "codemirror_mode": {
        "name": "ipython",
        "version": 3
      },
      "file_extension": ".py",
      "mimetype": "text/x-python",
      "name": "python",
      "nbconvert_exporter": "python",
      "pygments_lexer": "ipython3",
      "version": "3.8.13"
    },
    "toc": {
      "base_numbering": 1,
      "nav_menu": {},
      "number_sections": true,
      "sideBar": true,
      "skip_h1_title": false,
      "title_cell": "Table of Contents",
      "title_sidebar": "Contents",
      "toc_cell": false,
      "toc_position": {},
      "toc_section_display": true,
      "toc_window_display": false
    },
    "colab": {
      "name": "lecture_note2.ipynb",
      "provenance": [],
      "include_colab_link": true
    }
  },
  "nbformat": 4,
  "nbformat_minor": 5
}