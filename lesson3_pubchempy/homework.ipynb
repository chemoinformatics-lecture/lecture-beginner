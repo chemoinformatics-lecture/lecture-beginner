{
 "cells": [
  {
   "cell_type": "markdown",
   "id": "d8718a6c",
   "metadata": {},
   "source": [
    "# pubchemの課題"
   ]
  },
  {
   "cell_type": "markdown",
   "id": "dc37bc72",
   "metadata": {},
   "source": [
    "## 問題１使用しているpubchemのversionを表示させなさい。"
   ]
  },
  {
   "cell_type": "code",
   "execution_count": null,
   "id": "f1cad556",
   "metadata": {},
   "outputs": [],
   "source": []
  },
  {
   "cell_type": "markdown",
   "id": "0abeb808",
   "metadata": {},
   "source": [
    "## 問題２ pubchempyを使用して\"catechin\"で検索して得られた結果のリストの1番目に得られたものをisomeric_smilesで表示させなさい。"
   ]
  },
  {
   "cell_type": "code",
   "execution_count": null,
   "id": "7b251dc2",
   "metadata": {},
   "outputs": [],
   "source": []
  },
  {
   "cell_type": "markdown",
   "id": "7cbfa773",
   "metadata": {},
   "source": [
    "## 問題３pubchemで検索した\"catechin\"で検索して得られた結果の全てを、iupac_nameとisomeric_smilesを表示させなさい。"
   ]
  },
  {
   "cell_type": "code",
   "execution_count": null,
   "id": "eb7d9610",
   "metadata": {},
   "outputs": [],
   "source": []
  },
  {
   "cell_type": "markdown",
   "id": "bc434642",
   "metadata": {},
   "source": [
    "## 問題4  catechineと同じ分子式の化合物をpubchemで検索して、xlogp, isomeric_smilesをpandasのデータフレームで表示させなさい。"
   ]
  },
  {
   "cell_type": "code",
   "execution_count": null,
   "id": "56ea759e",
   "metadata": {},
   "outputs": [],
   "source": []
  }
 ],
 "metadata": {
  "kernelspec": {
   "display_name": "Python 3 (ipykernel)",
   "language": "python",
   "name": "python3"
  },
  "language_info": {
   "codemirror_mode": {
    "name": "ipython",
    "version": 3
   },
   "file_extension": ".py",
   "mimetype": "text/x-python",
   "name": "python",
   "nbconvert_exporter": "python",
   "pygments_lexer": "ipython3",
   "version": "3.8.11"
  }
 },
 "nbformat": 4,
 "nbformat_minor": 5
}
