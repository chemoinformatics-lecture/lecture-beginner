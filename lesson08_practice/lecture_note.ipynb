{
 "cells": [
  {
   "cell_type": "markdown",
   "id": "f8c2af17",
   "metadata": {},
   "source": [
    "# 行うこと"
   ]
  },
  {
   "cell_type": "markdown",
   "id": "6f612af2",
   "metadata": {},
   "source": [
    "これまでの授業の復習として以下のことを行ってください。\n",
    "1. データをダウンロードする\n",
    "2. Pubchem,RDKit,MOPACなどを用いて説明変数を作成する。\n",
    "3. 機械学習を用いて、テストデータの予測を行う。\n",
    "4. テストデータの予測値を課題提出場所に提出してください｡"
   ]
  }
 ],
 "metadata": {
  "kernelspec": {
   "display_name": "Python 3 (ipykernel)",
   "language": "python",
   "name": "python3"
  },
  "language_info": {
   "codemirror_mode": {
    "name": "ipython",
    "version": 3
   },
   "file_extension": ".py",
   "mimetype": "text/x-python",
   "name": "python",
   "nbconvert_exporter": "python",
   "pygments_lexer": "ipython3",
   "version": "3.8.12"
  }
 },
 "nbformat": 4,
 "nbformat_minor": 5
}
